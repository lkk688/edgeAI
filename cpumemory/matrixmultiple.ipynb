{
  "nbformat": 4,
  "nbformat_minor": 0,
  "metadata": {
    "colab": {
      "provenance": [],
      "toc_visible": true
    },
    "kernelspec": {
      "name": "python3",
      "display_name": "Python 3"
    },
    "language_info": {
      "name": "python"
    }
  },
  "cells": [
    {
      "cell_type": "markdown",
      "source": [
        "# Matrix Multiplication"
      ],
      "metadata": {
        "id": "2a-f8b1Y5F3v"
      }
    },
    {
      "cell_type": "markdown",
      "source": [
        "Matrix multiplication operations are at the heart of many linear algebra algorithms, and efficient matrix multiplication is critical for many applications within the applied sciences."
      ],
      "metadata": {
        "id": "0BBCybcL5REL"
      }
    },
    {
      "cell_type": "markdown",
      "source": [
        "To multiply two matrices, we can simply use 3 nested loops, assuming that matrices A, B, and C are all n-by-n and stored in one-dimensional column-major arrays:\n",
        "```bash\n",
        "for (int i = 0; i < n; i++)\n",
        "    for (int j = 0; j < n; j++)\n",
        "        for (int k = 0; k < n; k++)\n",
        "            C[i+j*n] += A[i+k*n] * B[k+j*n];\n",
        "```"
      ],
      "metadata": {
        "id": "NsMcj4Ci5I8d"
      }
    },
    {
      "cell_type": "markdown",
      "source": [
        "the loops are ordered i, j, k. If we examine the innermost loop (k), we see that it moves through B with stride 1, A with stride n and C with stride 0. To compute the matrix multiplication correctly, the loop order doesn't matter. However, the order in which we choose to access the elements of the matrices can have a large impact on performance. Caches perform better (more cache hits, fewer cache misses) when memory accesses exhibit spatial and temporal locality. Optimizing a program's memory access patterns is essential to obtaining good performance from the memory hierarchy."
      ],
      "metadata": {
        "id": "k7Gf47UE5Y6D"
      }
    },
    {
      "cell_type": "markdown",
      "source": [
        "In the above code for matrix multiplication, note that we are striding across the entire A and B matrices to compute a single value of C. As such, we are constantly accessing new values from memory and obtain very little reuse of cached data! We can improve the amount of data reuse in the caches by implementing a technique called cache blocking. More formally, cache blocking is a technique that attempts to reduce the cache miss rate by improving the temporal and/or spatial locality of memory accesses. In the case of matrix transposition we consider performing the transposition one block at a time."
      ],
      "metadata": {
        "id": "Con9KnGU5jMa"
      }
    },
    {
      "cell_type": "markdown",
      "source": [
        "![image.png](data:image/png;base64,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)"
      ],
      "metadata": {
        "id": "6snDmvqb5mG8"
      }
    },
    {
      "cell_type": "markdown",
      "source": [
        "we transpose each block Aij of matrix A into its final location in the output matrix, one block at a time. With this scheme, we significantly reduce the magnitude of the working set in cache during the processing of any one block. This (if implemented correctly) will result in a substantial improvement in performance."
      ],
      "metadata": {
        "id": "XcUoohXJ5pQl"
      }
    },
    {
      "cell_type": "markdown",
      "source": [
        "## Multiple ijk versions of Matrix Multiple"
      ],
      "metadata": {
        "id": "snIiBcw8qMrK"
      }
    },
    {
      "cell_type": "code",
      "execution_count": null,
      "metadata": {
        "colab": {
          "base_uri": "https://localhost:8080/"
        },
        "id": "uzL8laR2472L",
        "outputId": "bf745ab2-d127-4241-f746-8ad5b86224e8"
      },
      "outputs": [
        {
          "output_type": "stream",
          "name": "stdout",
          "text": [
            "Writing matrixmultiple.c\n"
          ]
        }
      ],
      "source": [
        "%%writefile matrixmultiple.c\n",
        "#include <stdio.h>\n",
        "#include <stdlib.h>\n",
        "#include <sys/time.h>\n",
        "#include <time.h>\n",
        "\n",
        "\n",
        "/* We are including all 6 variants of the loop ordering\n",
        "   as separate functions and then calling them using function pointers.\n",
        "   The code defines six matrix multiplication functions: multMat1, multMat2, multMat3, multMat4, multMat5, and multMat6.\n",
        "    Each function takes four arguments:\n",
        "    n: The size of the matrices (assumed to be square matrices of dimension n x n).\n",
        "    A: A pointer to the first matrix.\n",
        "    B: A pointer to the second matrix.\n",
        "    C: A pointer to the result matrix (where the product of A and B will be stored).\n",
        "*/\n",
        "\n",
        "void multMat1( int n, float *A, float *B, float *C ) {\n",
        "    int i,j,k;\n",
        "    /* This is ijk loop order. */\n",
        "    for( i = 0; i < n; i++ )\n",
        "        for( j = 0; j < n; j++ )\n",
        "            for( k = 0; k < n; k++ )\n",
        "                C[i+j*n] += A[i+k*n]*B[k+j*n];\n",
        "}\n",
        "\n",
        "void multMat2( int n, float *A, float *B, float *C ) {\n",
        "    int i,j,k;\n",
        "    /* This is ikj loop order. */\n",
        "    for( i = 0; i < n; i++ )\n",
        "        for( k = 0; k < n; k++ )\n",
        "            for( j = 0; j < n; j++ )\n",
        "                C[i+j*n] += A[i+k*n]*B[k+j*n];\n",
        "}\n",
        "\n",
        "void multMat3( int n, float *A, float *B, float *C ) {\n",
        "    int i,j,k;\n",
        "    /* This is jik loop order. */\n",
        "    for( j = 0; j < n; j++ )\n",
        "        for( i = 0; i < n; i++ )\n",
        "            for( k = 0; k < n; k++ )\n",
        "                C[i+j*n] += A[i+k*n]*B[k+j*n];\n",
        "}\n",
        "\n",
        "void multMat4( int n, float *A, float *B, float *C ) {\n",
        "    int i,j,k;\n",
        "    /* This is jki loop order. */\n",
        "    for( j = 0; j < n; j++ )\n",
        "        for( k = 0; k < n; k++ )\n",
        "            for( i = 0; i < n; i++ )\n",
        "                C[i+j*n] += A[i+k*n]*B[k+j*n];\n",
        "}\n",
        "\n",
        "void multMat5( int n, float *A, float *B, float *C ) {\n",
        "    int i,j,k;\n",
        "    /* This is kij loop order. */\n",
        "    for( k = 0; k < n; k++ )\n",
        "        for( i = 0; i < n; i++ )\n",
        "            for( j = 0; j < n; j++ )\n",
        "                C[i+j*n] += A[i+k*n]*B[k+j*n];\n",
        "}\n",
        "\n",
        "void multMat6( int n, float *A, float *B, float *C ) {\n",
        "    int i,j,k;\n",
        "    /* This is kji loop order. */\n",
        "    for( k = 0; k < n; k++ )\n",
        "        for( j = 0; j < n; j++ )\n",
        "            for( i = 0; i < n; i++ )\n",
        "                C[i+j*n] += A[i+k*n]*B[k+j*n];\n",
        "}\n",
        "\n",
        "\n",
        "/* defaults to Part 1.  pass it any argument for Part 2. */\n",
        "/* uses timing features from sys/time.h  */\n",
        "int main( int argc, char **argv ) {\n",
        "    int nmax = 1000,i,n;\n",
        "\n",
        "    //The orderings array is an array of function pointers. It contains pointers to the six matrix multiplication functions.\n",
        "    void (*orderings[])(int,float *,float *,float *) =\n",
        "        {&multMat1,&multMat2,&multMat3,&multMat4,&multMat5,&multMat6};\n",
        "    char *names[] = {\"ijk\",\"ikj\",\"jik\",\"jki\",\"kij\",\"kji\"};\n",
        "\n",
        "    float *A = (float *)malloc( nmax*nmax * sizeof(float));\n",
        "    float *B = (float *)malloc( nmax*nmax * sizeof(float));\n",
        "    float *C = (float *)malloc( nmax*nmax * sizeof(float));\n",
        "\n",
        "    struct timeval start, end;\n",
        "\n",
        "    if( argv[1] ) {\n",
        "        printf(\"Running Part B...\\n\\n\");\n",
        "\n",
        "        /* fill matrices with random numbers */\n",
        "        for( i = 0; i < nmax*nmax; i++ ) A[i] = drand48()*2-1;\n",
        "        for( i = 0; i < nmax*nmax; i++ ) B[i] = drand48()*2-1;\n",
        "        for( i = 0; i < nmax*nmax; i++ ) C[i] = drand48()*2-1;\n",
        "\n",
        "        for( i = 0; i < 6; i++) {\n",
        "            /* multiply matrices and measure the time */\n",
        "            gettimeofday( &start, NULL );\n",
        "            (*orderings[i])( nmax, A, B, C );\n",
        "            gettimeofday( &end, NULL );\n",
        "\n",
        "            /* convert time to Gflop/s */\n",
        "            double seconds = (end.tv_sec - start.tv_sec) +\n",
        "                1.0e-6 * (end.tv_usec - start.tv_usec);\n",
        "            double Gflops = 2e-9*nmax*nmax*nmax/seconds;\n",
        "            printf( \"%s:\\tn = %d, %.3f Gflop/s\\n\", names[i], nmax, Gflops );\n",
        "        }\n",
        "    } else {\n",
        "        printf(\"Running Part A...\\n\\n\");\n",
        "\n",
        "        for( n = 10; n <= nmax; n = n<nmax && n+1+n/3>nmax ? nmax : n+1+n/3 ) {\n",
        "            /* fill matrices with random numbers */\n",
        "            for( i = 0; i < n*n; i++ ) A[i] = drand48()*2-1;\n",
        "            for( i = 0; i < n*n; i++ ) B[i] = drand48()*2-1;\n",
        "            for( i = 0; i < n*n; i++ ) C[i] = drand48()*2-1;\n",
        "\n",
        "            /* multiply matrices and measure the time */\n",
        "            gettimeofday( &start, NULL );\n",
        "            multMat1( n, A, B, C );\n",
        "            gettimeofday( &end, NULL );\n",
        "\n",
        "            /* convert time to Gflop/s */\n",
        "            double seconds = (end.tv_sec - start.tv_sec) +\n",
        "                1.0e-6 * (end.tv_usec - start.tv_usec);\n",
        "            double Gflops = 2e-9*n*n*n/seconds;\n",
        "            printf( \"n = %d, %.3f Gflop/s\\n\", n, Gflops );\n",
        "        }\n",
        "    }\n",
        "\n",
        "    free( A );\n",
        "    free( B );\n",
        "    free( C );\n",
        "\n",
        "    printf(\"\\n\\n\");\n",
        "\n",
        "    return 0;\n",
        "}"
      ]
    },
    {
      "cell_type": "code",
      "source": [
        "!gcc matrixmultiple.c -O3 -o matrixmultiple"
      ],
      "metadata": {
        "id": "w-Quajm-6HV3"
      },
      "execution_count": null,
      "outputs": []
    },
    {
      "cell_type": "markdown",
      "source": [
        "use the '-O3' flag to turn on compiler optimizations."
      ],
      "metadata": {
        "id": "cWREz6566vjf"
      }
    },
    {
      "cell_type": "code",
      "source": [
        "!./matrixmultiple"
      ],
      "metadata": {
        "colab": {
          "base_uri": "https://localhost:8080/"
        },
        "id": "TX6TnOe66kvk",
        "outputId": "840b86e2-ce22-43c8-fbb6-8c53e81a9959"
      },
      "execution_count": null,
      "outputs": [
        {
          "output_type": "stream",
          "name": "stdout",
          "text": [
            "Running Part A...\n",
            "\n",
            "n = 10, 1.000 Gflop/s\n",
            "n = 14, 1.372 Gflop/s\n",
            "n = 19, 1.372 Gflop/s\n",
            "n = 26, 1.528 Gflop/s\n",
            "n = 35, 1.429 Gflop/s\n",
            "n = 47, 1.538 Gflop/s\n",
            "n = 63, 1.337 Gflop/s\n",
            "n = 85, 1.285 Gflop/s\n",
            "n = 114, 0.995 Gflop/s\n",
            "n = 153, 1.256 Gflop/s\n",
            "n = 205, 1.316 Gflop/s\n",
            "n = 274, 1.278 Gflop/s\n",
            "n = 366, 1.309 Gflop/s\n",
            "n = 489, 1.276 Gflop/s\n",
            "n = 653, 1.254 Gflop/s\n",
            "n = 871, 1.219 Gflop/s\n",
            "n = 1000, 1.148 Gflop/s\n",
            "\n",
            "\n"
          ]
        }
      ]
    },
    {
      "cell_type": "code",
      "source": [
        "!./matrixmultiple part2"
      ],
      "metadata": {
        "colab": {
          "base_uri": "https://localhost:8080/"
        },
        "id": "nlB9erJg_1Zh",
        "outputId": "d26ceab0-89f7-467e-80f2-1b65547cadc3"
      },
      "execution_count": null,
      "outputs": [
        {
          "output_type": "stream",
          "name": "stdout",
          "text": [
            "Running Part B...\n",
            "\n",
            "ijk:\tn = 1000, 1.162 Gflop/s\n",
            "ikj:\tn = 1000, 0.081 Gflop/s\n",
            "jik:\tn = 1000, 1.079 Gflop/s\n",
            "jki:\tn = 1000, 8.637 Gflop/s\n",
            "kij:\tn = 1000, 0.082 Gflop/s\n",
            "kji:\tn = 1000, 5.642 Gflop/s\n",
            "\n",
            "\n"
          ]
        }
      ]
    },
    {
      "cell_type": "code",
      "source": [
        "!gcc matrixmultiple.c -o matrixmultiple2"
      ],
      "metadata": {
        "id": "uneqQyWG6ok9"
      },
      "execution_count": null,
      "outputs": []
    },
    {
      "cell_type": "code",
      "source": [
        "!./matrixmultiple2"
      ],
      "metadata": {
        "colab": {
          "base_uri": "https://localhost:8080/"
        },
        "id": "vJRkhxw_6qfM",
        "outputId": "e9c1e1a1-095b-4e30-8d44-bb3a46d2a8be"
      },
      "execution_count": null,
      "outputs": [
        {
          "output_type": "stream",
          "name": "stdout",
          "text": [
            "Running Part A...\n",
            "\n",
            "n = 10, 0.222 Gflop/s\n",
            "n = 14, 0.134 Gflop/s\n",
            "n = 19, 0.233 Gflop/s\n",
            "n = 26, 0.244 Gflop/s\n",
            "n = 35, 0.221 Gflop/s\n",
            "n = 47, 0.231 Gflop/s\n",
            "n = 63, 0.223 Gflop/s\n",
            "n = 85, 0.215 Gflop/s\n",
            "n = 114, 0.390 Gflop/s\n",
            "n = 153, 0.399 Gflop/s\n",
            "n = 205, 0.376 Gflop/s\n",
            "n = 274, 0.371 Gflop/s\n",
            "n = 366, 0.328 Gflop/s\n",
            "n = 489, 0.335 Gflop/s\n",
            "n = 653, 0.321 Gflop/s\n",
            "n = 871, 0.254 Gflop/s\n",
            "n = 1000, 0.302 Gflop/s\n",
            "\n",
            "\n"
          ]
        }
      ]
    },
    {
      "cell_type": "code",
      "source": [
        "!./matrixmultiple2 part2"
      ],
      "metadata": {
        "colab": {
          "base_uri": "https://localhost:8080/"
        },
        "id": "riAwVIHtAdAM",
        "outputId": "f0db6ad8-3c6e-42c7-cf85-b5e30628ab68"
      },
      "execution_count": null,
      "outputs": [
        {
          "output_type": "stream",
          "name": "stdout",
          "text": [
            "Running Part B...\n",
            "\n",
            "ijk:\tn = 1000, 0.299 Gflop/s\n",
            "ikj:\tn = 1000, 0.078 Gflop/s\n",
            "jik:\tn = 1000, 0.199 Gflop/s\n",
            "jki:\tn = 1000, 0.326 Gflop/s\n",
            "kij:\tn = 1000, 0.079 Gflop/s\n",
            "kji:\tn = 1000, 0.391 Gflop/s\n",
            "\n",
            "\n"
          ]
        }
      ]
    },
    {
      "cell_type": "markdown",
      "source": [
        "## Matrix Transpose"
      ],
      "metadata": {
        "id": "sNzgwI9eqTmJ"
      }
    },
    {
      "cell_type": "code",
      "source": [
        "%%writefile transpose.c\n",
        "#include <stdio.h>\n",
        "#include <stdlib.h>\n",
        "#include <sys/time.h>\n",
        "#include <time.h>\n",
        "\n",
        "void transpose( int n, int blocksize, int *dst, int *src ) {\n",
        "    int i,j;\n",
        "    /* TO DO: implement blocking (two more loops) */\n",
        "    for(i = 0; i < n; i++)\n",
        "        for(j = 0; j < n; j++)\n",
        "            dst[j + i*n] = src[i + j*n];\n",
        "}\n",
        "\n",
        "int main( int argc, char **argv ) {\n",
        "    int n = 2000,i,j;\n",
        "    int blocksize = 20; /* to do: find a better block size */\n",
        "\n",
        "    /* allocate an n*n block of integers for the matrices */\n",
        "    int *A = (int*)malloc( n*n*sizeof(int) );\n",
        "    int *B = (int*)malloc( n*n*sizeof(int) );\n",
        "\n",
        "    /* initialize A,B to random integers */\n",
        "    srand48( time( NULL ) );\n",
        "    for( i = 0; i < n*n; i++ ) A[i] = lrand48( );\n",
        "    for( i = 0; i < n*n; i++ ) B[i] = lrand48( );\n",
        "\n",
        "    /* measure performance */\n",
        "    struct timeval start, end;\n",
        "\n",
        "    gettimeofday( &start, NULL );\n",
        "    transpose( n, blocksize, B, A );\n",
        "    gettimeofday( &end, NULL );\n",
        "\n",
        "    double seconds = (end.tv_sec - start.tv_sec) +\n",
        "        1.0e-6 * (end.tv_usec - start.tv_usec);\n",
        "    printf( \"%g milliseconds\\n\", seconds*1e3 );\n",
        "\n",
        "    /* check correctness */\n",
        "    for( i = 0; i < n; i++ )\n",
        "        for( j = 0; j < n; j++ )\n",
        "            if( B[j+i*n] != A[i+j*n] ) {\n",
        "                printf(\"Error!!!! Transpose does not result in correct answer!!\\n\");\n",
        "                exit( -1 );\n",
        "            }\n",
        "\n",
        "    /* release resources */\n",
        "    free( A );\n",
        "    free( B );\n",
        "    return 0;\n",
        "}\n"
      ],
      "metadata": {
        "colab": {
          "base_uri": "https://localhost:8080/"
        },
        "id": "8JD5PjyP7HIS",
        "outputId": "6105ec95-edc7-43e0-cf34-0e6f83ee3bac"
      },
      "execution_count": null,
      "outputs": [
        {
          "output_type": "stream",
          "name": "stdout",
          "text": [
            "Writing transpose.c\n"
          ]
        }
      ]
    },
    {
      "cell_type": "code",
      "source": [
        "!gcc transpose.c -O3 -o transpose"
      ],
      "metadata": {
        "id": "PzsupO2q7QBA"
      },
      "execution_count": null,
      "outputs": []
    },
    {
      "cell_type": "code",
      "source": [
        "!./transpose"
      ],
      "metadata": {
        "colab": {
          "base_uri": "https://localhost:8080/"
        },
        "id": "04DsuOuF7RzP",
        "outputId": "431ed5c3-5b07-4e2c-9ad0-333821392cfa"
      },
      "execution_count": null,
      "outputs": [
        {
          "output_type": "stream",
          "name": "stdout",
          "text": [
            "45.366 milliseconds\n"
          ]
        }
      ]
    },
    {
      "cell_type": "code",
      "source": [
        "!gcc transpose.c -o transpose2"
      ],
      "metadata": {
        "id": "5MKvQVJ77UHY"
      },
      "execution_count": null,
      "outputs": []
    },
    {
      "cell_type": "code",
      "source": [
        "!./transpose2"
      ],
      "metadata": {
        "colab": {
          "base_uri": "https://localhost:8080/"
        },
        "id": "6ii3yJod7V8t",
        "outputId": "dfa13da8-7e91-46a5-9298-1fdb993474c9"
      },
      "execution_count": null,
      "outputs": [
        {
          "output_type": "stream",
          "name": "stdout",
          "text": [
            "51.413 milliseconds\n"
          ]
        }
      ]
    },
    {
      "cell_type": "markdown",
      "source": [
        "## Using Makefile"
      ],
      "metadata": {
        "id": "pX6ITi5hqXEi"
      }
    },
    {
      "cell_type": "code",
      "source": [
        "%%writefile Makefile\n",
        "CC=gcc\n",
        "LD=gcc\n",
        "CFLAGS=-ggdb -Wall -pedantic -std=gnu99 -O3\n",
        "LDFLAGS=\n",
        "\n",
        "EX1_PROG=matrixmultiple\n",
        "\n",
        "EX2_PROG=transpose\n",
        "\n",
        "PROGS=$(EX1_PROG) $(EX2_PROG)\n",
        "\n",
        "all: $(PROGS)\n",
        "\n",
        "ex1: $(EX1_PROG)\n",
        "\t$(CC) -o $(EX1_PROG) $(CFLAGS) $(EX1_PROG).c\n",
        "\t./$(EX1_PROG)\n",
        "\t./$(EX1_PROG) 2\n",
        "\n",
        "ex2: $(EX2_PROG)\n",
        "\t$(CC) -o $(EX2_PROG) $(CFLAGS) $(EX2_PROG).c\n",
        "\t./$(EX2_PROG)\n",
        "\n",
        "clean:\n",
        "\t-rm -rf core *.o *~ \"#\"*\"#\" Makefile.bak $(PROGS) *.dSYM"
      ],
      "metadata": {
        "colab": {
          "base_uri": "https://localhost:8080/"
        },
        "id": "z9sylM7g66Rh",
        "outputId": "691c1f19-2531-499c-9f7b-7dabb3dece44"
      },
      "execution_count": null,
      "outputs": [
        {
          "output_type": "stream",
          "name": "stdout",
          "text": [
            "Overwriting Makefile\n"
          ]
        }
      ]
    },
    {
      "cell_type": "code",
      "source": [
        "!make ex1"
      ],
      "metadata": {
        "colab": {
          "base_uri": "https://localhost:8080/"
        },
        "id": "ZAGiVU7W68_5",
        "outputId": "b7bcbf3e-1ab7-44f9-cb91-f8516052d344"
      },
      "execution_count": null,
      "outputs": [
        {
          "output_type": "stream",
          "name": "stdout",
          "text": [
            "gcc -o matrixmultiple -ggdb -Wall -pedantic -std=gnu99 -O3 matrixmultiple.c\n",
            "./matrixmultiple\n",
            "Running Part A...\n",
            "\n",
            "n = 10, 2.000 Gflop/s\n",
            "n = 14, 2.744 Gflop/s\n",
            "n = 19, 2.744 Gflop/s\n",
            "n = 26, 2.511 Gflop/s\n",
            "n = 35, 1.949 Gflop/s\n",
            "n = 47, 1.648 Gflop/s\n",
            "n = 63, 2.025 Gflop/s\n",
            "n = 85, 1.742 Gflop/s\n",
            "n = 114, 1.560 Gflop/s\n",
            "n = 153, 1.523 Gflop/s\n",
            "n = 205, 1.441 Gflop/s\n",
            "n = 274, 1.251 Gflop/s\n",
            "n = 366, 1.321 Gflop/s\n",
            "n = 489, 1.295 Gflop/s\n",
            "n = 653, 1.229 Gflop/s\n",
            "n = 871, 1.256 Gflop/s\n",
            "n = 1000, 1.237 Gflop/s\n",
            "\n",
            "\n",
            "./matrixmultiple 2\n",
            "Running Part B...\n",
            "\n",
            "ijk:\tn = 1000, 1.198 Gflop/s\n",
            "ikj:\tn = 1000, 0.076 Gflop/s\n",
            "jik:\tn = 1000, 0.750 Gflop/s\n",
            "jki:\tn = 1000, 8.121 Gflop/s\n",
            "kij:\tn = 1000, 0.077 Gflop/s\n",
            "kji:\tn = 1000, 5.505 Gflop/s\n",
            "\n",
            "\n"
          ]
        }
      ]
    },
    {
      "cell_type": "code",
      "source": [
        "!make ex2"
      ],
      "metadata": {
        "colab": {
          "base_uri": "https://localhost:8080/"
        },
        "id": "IZn3dZeYIqu3",
        "outputId": "ac02048f-183e-4b7e-8976-7e8c6361baec"
      },
      "execution_count": null,
      "outputs": [
        {
          "output_type": "stream",
          "name": "stdout",
          "text": [
            "gcc -o transpose -ggdb -Wall -pedantic -std=gnu99 -O3 transpose.c\n",
            "./transpose\n",
            "42.479 milliseconds\n"
          ]
        }
      ]
    },
    {
      "cell_type": "markdown",
      "source": [
        "## Using Blocking"
      ],
      "metadata": {
        "id": "xnbM7-vMqZ_a"
      }
    },
    {
      "cell_type": "code",
      "source": [
        "%%writefile matrixmultipleblocked.c\n",
        "#include <stdio.h>\n",
        "#include <stdlib.h>\n",
        "#include <sys/time.h>\n",
        "#include <time.h>\n",
        "#include <math.h>\n",
        "\n",
        "\n",
        "/* We are including all 6 variants of the loop ordering\n",
        "   as separate functions and then calling them using function pointers.\n",
        "   The code defines six matrix multiplication functions: multMat1, multMat2, multMat3, multMat4, multMat5, and multMat6.\n",
        "    Each function takes four arguments:\n",
        "    n: The size of the matrices (assumed to be square matrices of dimension n x n).\n",
        "    A: A pointer to the first matrix.\n",
        "    B: A pointer to the second matrix.\n",
        "    C: A pointer to the result matrix (where the product of A and B will be stored).\n",
        "*/\n",
        "\n",
        "void multMat1( int n, float *A, float *B, float *C ) {\n",
        "    int i,j,k;\n",
        "    /* This is ijk loop order. */\n",
        "    for( i = 0; i < n; i++ )\n",
        "        for( j = 0; j < n; j++ )\n",
        "            for( k = 0; k < n; k++ )\n",
        "                C[i+j*n] += A[i+k*n]*B[k+j*n];\n",
        "}\n",
        "\n",
        "void multMat2( int n, float *A, float *B, float *C ) {\n",
        "    int i,j,k;\n",
        "    /* This is ikj loop order. */\n",
        "    for( i = 0; i < n; i++ )\n",
        "        for( k = 0; k < n; k++ )\n",
        "            for( j = 0; j < n; j++ )\n",
        "                C[i+j*n] += A[i+k*n]*B[k+j*n];\n",
        "}\n",
        "\n",
        "void multMat3( int n, float *A, float *B, float *C ) {\n",
        "    int i,j,k;\n",
        "    /* This is jik loop order. */\n",
        "    for( j = 0; j < n; j++ )\n",
        "        for( i = 0; i < n; i++ )\n",
        "            for( k = 0; k < n; k++ )\n",
        "                C[i+j*n] += A[i+k*n]*B[k+j*n];\n",
        "}\n",
        "\n",
        "void multMat4( int n, float *A, float *B, float *C ) {\n",
        "    int i,j,k;\n",
        "    /* This is jki loop order. */\n",
        "    for( j = 0; j < n; j++ )\n",
        "        for( k = 0; k < n; k++ )\n",
        "            for( i = 0; i < n; i++ )\n",
        "                C[i+j*n] += A[i+k*n]*B[k+j*n];\n",
        "}\n",
        "\n",
        "void multMat5( int n, float *A, float *B, float *C ) {\n",
        "    int i,j,k;\n",
        "    /* This is kij loop order. */\n",
        "    for( k = 0; k < n; k++ )\n",
        "        for( i = 0; i < n; i++ )\n",
        "            for( j = 0; j < n; j++ )\n",
        "                C[i+j*n] += A[i+k*n]*B[k+j*n];\n",
        "}\n",
        "\n",
        "void multMat6( int n, float *A, float *B, float *C ) {\n",
        "    int i,j,k;\n",
        "    /* This is kji loop order. */\n",
        "    for( k = 0; k < n; k++ )\n",
        "        for( j = 0; j < n; j++ )\n",
        "            for( i = 0; i < n; i++ )\n",
        "                C[i+j*n] += A[i+k*n]*B[k+j*n];\n",
        "}\n",
        "\n",
        "void multMat1_blocked(int n, float *A, float *B, float *C, int block_size) {\n",
        "    int i, j, k, ii, jj, kk;\n",
        "\n",
        "    for (ii = 0; ii < n; ii += block_size) {\n",
        "        for (jj = 0; jj < n; jj += block_size) {\n",
        "            for (kk = 0; kk < n; kk += block_size) {\n",
        "                // Perform matrix multiplication on blocks\n",
        "                for (i = ii; i < ii + block_size; i++) {\n",
        "                    for (j = jj; j < jj + block_size; j++) {\n",
        "                        for (k = kk; k < kk + block_size; k++) {\n",
        "                            C[i + j * n] += A[i + k * n] * B[k + j * n];\n",
        "                            //C[i*n + j] += A[i*n + k] * B[k*n + j];\n",
        "                        }\n",
        "                    }\n",
        "                }\n",
        "            }\n",
        "        }\n",
        "    }\n",
        "}\n",
        "\n",
        "\n",
        "/* uses timing features from sys/time.h  */\n",
        "int main( int argc, char **argv ) {\n",
        "    int nmax = 1000,i,n;\n",
        "    int block_size = 16;  // Choose an appropriate block size (e.g., 16)\n",
        "    if (argc > 2)\n",
        "      nmax = atoi(argv[1]);\n",
        "      block_size = atoi(argv[2]);\n",
        "    printf( \"nmax = %d, block_size=%d\\n\", nmax, block_size );\n",
        "\n",
        "    //The orderings array is an array of function pointers. It contains pointers to the six matrix multiplication functions.\n",
        "    void (*orderings[])(int,float *,float *,float *) =\n",
        "        {&multMat1,&multMat2,&multMat3,&multMat4,&multMat5,&multMat6};\n",
        "    char *names[] = {\"ijk\",\"ikj\",\"jik\",\"jki\",\"kij\",\"kji\"};\n",
        "\n",
        "    float *A = (float *)malloc( nmax*nmax * sizeof(float));\n",
        "    float *B = (float *)malloc( nmax*nmax * sizeof(float));\n",
        "    float *C = (float *)malloc( nmax*nmax * sizeof(float));\n",
        "\n",
        "    struct timeval start, end;\n",
        "\n",
        "    /* fill matrices with random numbers */\n",
        "    for( i = 0; i < nmax*nmax; i++ ) A[i] = drand48()*2-1;\n",
        "    for( i = 0; i < nmax*nmax; i++ ) B[i] = drand48()*2-1;\n",
        "    for( i = 0; i < nmax*nmax; i++ ) C[i] = 0;// drand48()*2-1;\n",
        "\n",
        "    //test multimatrix multMat1_blocked\n",
        "    gettimeofday( &start, NULL );\n",
        "    // Call the modified matrix multiplication function\n",
        "    multMat1_blocked(nmax, A, B, C, block_size);\n",
        "    gettimeofday( &end, NULL );\n",
        "\n",
        "    /* convert time to Gflop/s */\n",
        "    double seconds = (end.tv_sec - start.tv_sec) +\n",
        "        1.0e-6 * (end.tv_usec - start.tv_usec);\n",
        "    double Gflops = 2e-9*nmax*nmax*nmax/seconds;\n",
        "    printf( \"%s:\\tn = %d, %.3f Gflop/s\\n\", \"multMat1_blocked\", nmax, Gflops );\n",
        "\n",
        "    // Verify correctness (compare with a straightforward implementation)\n",
        "    for (int i = 0; i < nmax; i++) {\n",
        "        for (int j = 0; j < nmax; j++) {\n",
        "            float expected = 0.0;\n",
        "            for (int k = 0; k < nmax; k++) {\n",
        "                expected += A[i + k * nmax] * B[k + j * nmax];\n",
        "                //C[i+j*n] += A[i+k*n]*B[k+j*n];\n",
        "            }\n",
        "            if (fabs(C[i + j * nmax] - expected) >= 1e-3) {\n",
        "                printf(\"Error at C[%d, %d]\\n\", i, j);\n",
        "                printf(\"Expected: %.6f, Actual: %.6f\\n\", expected, C[i + j * nmax]);\n",
        "            }\n",
        "        }\n",
        "    }\n",
        "\n",
        "    for( i = 0; i < 6; i++) {\n",
        "        /* multiply matrices and measure the time */\n",
        "        gettimeofday( &start, NULL );\n",
        "        (*orderings[i])( nmax, A, B, C );\n",
        "        gettimeofday( &end, NULL );\n",
        "\n",
        "        /* convert time to Gflop/s */\n",
        "        double seconds = (end.tv_sec - start.tv_sec) +\n",
        "            1.0e-6 * (end.tv_usec - start.tv_usec);\n",
        "        double Gflops = 2e-9*nmax*nmax*nmax/seconds;\n",
        "        printf( \"%s:\\tn = %d, %.3f Gflop/s\\n\", names[i], nmax, Gflops );\n",
        "    }\n",
        "\n",
        "    free( A );\n",
        "    free( B );\n",
        "    free( C );\n",
        "\n",
        "    printf(\"\\n\\n\");\n",
        "\n",
        "    return 0;\n",
        "}"
      ],
      "metadata": {
        "colab": {
          "base_uri": "https://localhost:8080/"
        },
        "id": "P-CGmEUbM_DF",
        "outputId": "93f6efd0-d617-4cdb-9dc1-aef2a5d2a025"
      },
      "execution_count": null,
      "outputs": [
        {
          "output_type": "stream",
          "name": "stdout",
          "text": [
            "Overwriting matrixmultipleblocked.c\n"
          ]
        }
      ]
    },
    {
      "cell_type": "code",
      "source": [
        "!gcc matrixmultipleblocked.c -O3 -o matrixmultipleblocked"
      ],
      "metadata": {
        "id": "R8raf2b2OJVw"
      },
      "execution_count": null,
      "outputs": []
    },
    {
      "cell_type": "code",
      "source": [
        "!./matrixmultipleblocked 1000 100"
      ],
      "metadata": {
        "colab": {
          "base_uri": "https://localhost:8080/"
        },
        "id": "Eh1KomXBQd1U",
        "outputId": "429f6a13-dcf9-479f-b836-d29f0ea56f57"
      },
      "execution_count": null,
      "outputs": [
        {
          "output_type": "stream",
          "name": "stdout",
          "text": [
            "nmax = 1000, block_size=100\n",
            "multMat1_blocked:\tn = 1000, 1.361 Gflop/s\n",
            "ijk:\tn = 1000, 1.208 Gflop/s\n",
            "ikj:\tn = 1000, 0.090 Gflop/s\n",
            "jik:\tn = 1000, 1.068 Gflop/s\n",
            "jki:\tn = 1000, 8.785 Gflop/s\n",
            "kij:\tn = 1000, 0.090 Gflop/s\n",
            "kji:\tn = 1000, 5.754 Gflop/s\n",
            "\n",
            "\n"
          ]
        }
      ]
    },
    {
      "cell_type": "code",
      "source": [
        "!./matrixmultipleblocked 1000 10"
      ],
      "metadata": {
        "colab": {
          "base_uri": "https://localhost:8080/"
        },
        "id": "1pn1c71jabJD",
        "outputId": "fb520f0f-06e5-422c-8960-7cb7c772f0b5"
      },
      "execution_count": null,
      "outputs": [
        {
          "output_type": "stream",
          "name": "stdout",
          "text": [
            "nmax = 1000, block_size=10\n",
            "multMat1_blocked:\tn = 1000, 1.390 Gflop/s\n",
            "ijk:\tn = 1000, 1.219 Gflop/s\n",
            "ikj:\tn = 1000, 0.098 Gflop/s\n",
            "jik:\tn = 1000, 0.741 Gflop/s\n",
            "jki:\tn = 1000, 5.835 Gflop/s\n",
            "kij:\tn = 1000, 0.098 Gflop/s\n",
            "kji:\tn = 1000, 5.539 Gflop/s\n",
            "\n",
            "\n"
          ]
        }
      ]
    },
    {
      "cell_type": "markdown",
      "source": [
        "## MATMULT example"
      ],
      "metadata": {
        "id": "9LYLrSrYqeqx"
      }
    },
    {
      "cell_type": "markdown",
      "source": [
        "https://www.cs.cmu.edu/afs/cs/academic/class/15213-f15/www/code/12-cache-memories/matmult/"
      ],
      "metadata": {
        "id": "TJzhLo35XeAM"
      }
    },
    {
      "cell_type": "code",
      "source": [
        "%%writefile bmm.c\n",
        "/* block matrix multiply (ijk and ikj permutations only) */\n",
        "#include <stdio.h>\n",
        "#include <stdlib.h>\n",
        "#include \"mm.h\"\n",
        "#include \"fcycbmm.h\"\n",
        "#include \"clock.h\"\n",
        "\n",
        "/* fcyc() should clear the cache */\n",
        "#define CLEARCACHE 1\n",
        "\n",
        "/* global arrays */\n",
        "array ga, gb, gc;\n",
        "\n",
        "/* check the result array for correctness */\n",
        "void checkresult(array c, int n)\n",
        "{\n",
        "    int i, j;\n",
        "\n",
        "    for (i = 0; i < n; i++)\n",
        "\tfor (j = 0; j < n; j++)\n",
        "\t    if (c[i][j] != (double)n) {\n",
        "\t\tprintf(\"Error: bad number (%f) in result matrix (%d,%d)\\n\",\n",
        "\t\t       c[i][j], i, j);\n",
        "\t\texit(0);\n",
        "\t    }\n",
        "}\n",
        "\n",
        "/* Run f and return clocks per inner loop iteration */\n",
        "double run(test_funct f, int n, int bsize)\n",
        "{\n",
        "    double cpi;\n",
        "\n",
        "    cpi = fcyc(f, n, bsize, CLEARCACHE) / (n*n*n);\n",
        "    checkresult(gc, n);\n",
        "    return(cpi);\n",
        "}\n",
        "\n",
        "/* reset result array to zero */\n",
        "void reset(array c, int n)\n",
        "{\n",
        "    int i,j;\n",
        "\n",
        "    for (i = 0; i < n; i++) {\n",
        "\tfor (j = 0; j < n; j++) {\n",
        "\t    c[i][j] = 0.0;\n",
        "\t}\n",
        "    }\n",
        "}\n",
        "\n",
        "/* initialize input arrays to 1 */\n",
        "void init(array a, array b, int n)\n",
        "{\n",
        "    int i,j;\n",
        "\n",
        "    for (i = 0; i < n; i++) {\n",
        "\tfor (j = 0; j < n; j++) {\n",
        "\t    a[i][j] = 1.0;\n",
        "\t    b[i][j] = 1.0;\n",
        "\t}\n",
        "    }\n",
        "}\n",
        "\n",
        "/* print an array (debug) */\n",
        "void printarray(array a, int n)\n",
        "{\n",
        "    int i, j;\n",
        "\n",
        "    for (i = 0; i < n; i++) {\n",
        "\tfor (j = 0; j < n; j++) {\n",
        "\t    printf(\"%5.1f \", a[i][j]);\n",
        "\t}\n",
        "\tprintf(\"\\n\");\n",
        "    }\n",
        "}\n",
        "\n",
        "/***************************************************\n",
        " * Two different versions of blocked matrix multiply\n",
        " ***************************************************/\n",
        "/* $begin bmm-ijk */\n",
        "void bijk(array A, array B, array C, int n, int bsize)\n",
        "{\n",
        "    int i, j, k, kk, jj;\n",
        "    double sum;\n",
        "    int en = bsize * (n/bsize); /* Amount that fits evenly into blocks */\n",
        "\n",
        "    for (i = 0; i < n; i++)\n",
        "\tfor (j = 0; j < n; j++)\n",
        "\t    C[i][j] = 0.0;\n",
        "\n",
        "    for (kk = 0; kk < en; kk += bsize) {\n",
        "\tfor (jj = 0; jj < en; jj += bsize) {\n",
        "\t    for (i = 0; i < n; i++) {\n",
        "\t\tfor (j = jj; j < jj + bsize; j++) {\n",
        "\t\t    sum = C[i][j];\n",
        "\t\t    for (k = kk; k < kk + bsize; k++) {\n",
        "\t\t\tsum += A[i][k]*B[k][j];\n",
        "\t\t    }\n",
        "\t\t    C[i][j] = sum;\n",
        "\t\t}\n",
        "\t    }\n",
        "\t}\n",
        "\t/* $end bmm-ijk */\n",
        "\t/* Now finish off rest of j values  (not shown in textbook) */\n",
        "\tfor (i = 0; i < n; i++) {\n",
        "\t    for (j = en; j < n; j++) {\n",
        "\t\tsum = C[i][j];\n",
        "\t\tfor (k = kk; k < kk + bsize; k++) {\n",
        "\t\t    sum += A[i][k]*B[k][j];\n",
        "\t\t}\n",
        "\t\tC[i][j] = sum;\n",
        "\t    }\n",
        "\t}\n",
        "\t/* $begin bmm-ijk */\n",
        "    }\n",
        "    /* $end bmm-ijk */\n",
        "    /* Now finish remaining k values (not shown in textbook) */\n",
        "    for (jj = 0; jj < en; jj += bsize) {\n",
        "\tfor (i = 0; i < n; i++) {\n",
        "\t    for (j = jj; j < jj + bsize; j++) {\n",
        "\t\tsum = C[i][j];\n",
        "\t\tfor (k = en; k < n; k++) {\n",
        "\t\t    sum += A[i][k]*B[k][j];\n",
        "\t\t}\n",
        "\t\tC[i][j] = sum;\n",
        "\t    }\n",
        "\t}\n",
        "    }\n",
        "\n",
        "    /* Now finish off rest of j values (not shown in textbook) */\n",
        "    for (i = 0; i < n; i++) {\n",
        "\tfor (j = en; j < n; j++) {\n",
        "\t    sum = C[i][j];\n",
        "\t    for (k = en; k < n; k++) {\n",
        "\t\tsum += A[i][k]*B[k][j];\n",
        "\t    }\n",
        "\t    C[i][j] = sum;\n",
        "\t}\n",
        "    }\n",
        "    /* $begin bmm-ijk */\n",
        "}\n",
        "/* $end bmm-ijk */\n",
        "\n",
        "void bikj(array A, array B, array C, int n, int bsize)\n",
        "{\n",
        "    int i, j, k;\n",
        "    int kk, jj;\n",
        "    double r;\n",
        "\n",
        "    int en = bsize*(n/bsize); /* Number of elements within normal blocks */\n",
        "    for (i = 0; i < n; i++)\n",
        "\tfor (j = 0; j < n; j++)\n",
        "\t    C[i][j] = 0.0;\n",
        "    /* Do blocks along k */\n",
        "    for (kk = 0; kk < en; kk += bsize) {\n",
        "\tfor (jj = 0; jj < en; jj += bsize) {\n",
        "\t    for (i = 0; i < n; i++) {\n",
        "\t\tfor (k = kk; k < kk + bsize; k++) {\n",
        "\t\t    r = A[i][k];\n",
        "\t\t    for (j = jj; j < jj + bsize; j++) {\n",
        "\t\t\tC[i][j] += r*B[k][j];\n",
        "\t\t    }\n",
        "\t\t}\n",
        "\t    }\n",
        "\t}\n",
        "\n",
        "\t/* Now finish remaining j values */\n",
        "\tfor (i = 0; i < n; i++) {\n",
        "\t    for (k = kk; k < kk + bsize; k++) {\n",
        "\t\tr = A[i][k];\n",
        "\t\tfor (j = en; j < n; j++) {\n",
        "\t\t    C[i][j] += r*B[k][j];\n",
        "\t\t}\n",
        "\t    }\n",
        "\t}\n",
        "    }\n",
        "\n",
        "    /* Now finish remaining values of k */\n",
        "    for (jj = 0; jj < en; jj += bsize) {\n",
        "\tfor (i = 0; i < n; i++) {\n",
        "\t    for (k = en; k < n; k++) {\n",
        "\t\tr = A[i][k];\n",
        "\t\tfor (j = jj; j < jj + bsize; j++) {\n",
        "\t\t    C[i][j] += r*B[k][j];\n",
        "\t\t}\n",
        "\t    }\n",
        "\t}\n",
        "    }\n",
        "\n",
        "    /* Now finish remaining j values */\n",
        "    for (i = 0; i<n; i++) {\n",
        "\tfor (k = en; k < n; k++) {\n",
        "\t    r = A[i][k];\n",
        "\t    for (j = en; j < n; j++) {\n",
        "\t\tC[i][j] += r*B[k][j];\n",
        "\t    }\n",
        "\t}\n",
        "    }\n",
        "}\n",
        "\n",
        "/* Run different versions of blocked matrix multiply\n",
        "   and return display cycles per inner loop iteration. */\n",
        "\n",
        "int main(int argc, char **argv)\n",
        "{\n",
        "    int n, bsize;\n",
        "\n",
        "    init(ga, gb, MAXN);\n",
        "\n",
        "    printf(\"blocked mm cycles/iteration (for varying matrix sizes)\\n\");\n",
        "    printf(\"%3s%3s%7s%7s\\n\", \"n\", \"b\", \"ijk\", \"ikj\");\n",
        "\n",
        "    /* See the effect of varying sizes */\n",
        "    bsize = INCN;\n",
        "    for (n = MINN; n <= MAXN; n += bsize) {\n",
        "\tprintf(\"%3d %3d \", n, bsize);\n",
        "\tprintf(\"%5.2f \", run(bijk, n, bsize));\n",
        "\tfflush(stdout);\n",
        "\tprintf(\"%5.2f \", run(bikj, n, bsize));\n",
        "\tprintf(\"\\n\");\n",
        "    }\n",
        "    printf(\"\\n\");\n",
        "\n",
        "    /* Now see effect of varying block sizes */\n",
        "    printf(\"blocked mm cycles/iteration (for varying block sizes)\\n\");\n",
        "    printf(\"%3s%3s%7s%7s\\n\", \"n\", \"b\", \"ijk\", \"ikj\");\n",
        "\n",
        "    n = MAXN;\n",
        "    for (bsize = INCN; bsize <= n; bsize += INCN) {\n",
        "\tprintf(\"%3d %3d \", n, bsize);\n",
        "\tprintf(\"%5.2f \", run(bijk, n, bsize));\n",
        "\tfflush(stdout);\n",
        "\tprintf(\"%5.2f \", run(bikj, n, bsize));\n",
        "\tprintf(\"\\n\");\n",
        "    }\n",
        "\n",
        "    exit(0);\n",
        "}\n"
      ],
      "metadata": {
        "colab": {
          "base_uri": "https://localhost:8080/"
        },
        "id": "_dneeR08U_8Z",
        "outputId": "044c5e53-2867-4b9c-f36d-9863f615c1ef"
      },
      "execution_count": null,
      "outputs": [
        {
          "output_type": "stream",
          "name": "stdout",
          "text": [
            "Writing bmm.c\n"
          ]
        }
      ]
    },
    {
      "cell_type": "code",
      "source": [
        "!make all"
      ],
      "metadata": {
        "colab": {
          "base_uri": "https://localhost:8080/"
        },
        "id": "m8whz1TSVNLD",
        "outputId": "5314f8e0-4fcb-4749-faf2-6bfffab1fdc7"
      },
      "execution_count": null,
      "outputs": [
        {
          "output_type": "stream",
          "name": "stdout",
          "text": [
            "gcc -O4 -Wall -mavx2 -o mm mm.c clock.c fcycmm.c\n",
            "gcc -O4 -Wall -mavx2 -o bmm bmm.c clock.c fcycbmm.c\n"
          ]
        }
      ]
    },
    {
      "cell_type": "code",
      "source": [
        "!ls"
      ],
      "metadata": {
        "colab": {
          "base_uri": "https://localhost:8080/"
        },
        "id": "YXEHt1iVVQT3",
        "outputId": "7b5cec99-25bd-4556-d572-1cedd28d0e5e"
      },
      "execution_count": null,
      "outputs": [
        {
          "output_type": "stream",
          "name": "stdout",
          "text": [
            "bmm\t fcycbmm.c  Makefile\t\t   matrixmultipleblocked.c  mm.h\t transpose.c\n",
            "bmm.c\t fcycbmm.h  matrixmultiple\t   matrixmultiple.c\t    sample_data\n",
            "clock.c  fcycmm.c   matrixmultiple2\t   mm\t\t\t    transpose\n",
            "clock.h  fcycmm.h   matrixmultipleblocked  mm.c\t\t\t    transpose2\n"
          ]
        }
      ]
    },
    {
      "cell_type": "code",
      "source": [
        "!./mm"
      ],
      "metadata": {
        "colab": {
          "base_uri": "https://localhost:8080/"
        },
        "id": "NBZyswonW7aC",
        "outputId": "ad77f7ba-c802-4459-c9bc-046c5fbe2a14"
      },
      "execution_count": null,
      "outputs": [
        {
          "output_type": "stream",
          "name": "stdout",
          "text": [
            "matmult cycles/loop iteration\n",
            "  n   jki   kji   ijk   jik   kij   ikj\n",
            " 50  2.77  2.80  2.87  3.06  0.95  0.62 \n",
            "100  2.42  2.43  2.56  2.48  0.60  0.60 \n",
            "150  2.41  2.43  2.73  2.77  0.62  0.63 \n",
            "200  2.50  2.40  2.94  2.94  0.64  0.63 \n",
            "250  2.58  2.55  3.00  3.15  0.72  0.66 \n",
            "300  3.19  3.11  3.55  3.71  1.21  1.08 \n",
            "350  3.89  3.76  3.29  3.46  0.93  0.80 \n",
            "400  4.10  3.96  3.33  3.57  1.04  0.84 \n",
            "450  4.10  3.97  3.37  3.54  1.05  0.85 \n",
            "500  4.13  4.02  3.39  3.57  1.12  0.84 \n",
            "550  4.19  4.14  3.40  3.52  1.20  0.85 \n",
            "^C\n"
          ]
        }
      ]
    },
    {
      "cell_type": "code",
      "source": [
        "!./bmm"
      ],
      "metadata": {
        "colab": {
          "base_uri": "https://localhost:8080/"
        },
        "id": "ICgPMVtSW_mu",
        "outputId": "192bb686-104f-4051-deec-47924aba5806"
      },
      "execution_count": null,
      "outputs": [
        {
          "output_type": "stream",
          "name": "stdout",
          "text": [
            "blocked mm cycles/iteration (for varying matrix sizes)\n",
            "  n  b    ijk    ikj\n",
            " 50  50  2.17  0.65 \n",
            "100  50  2.19  0.66 \n",
            "150  50  2.15  0.67 \n",
            "200  50  2.20  0.67 \n",
            "250  50  2.25  0.70 \n",
            "300  50  2.24  0.70 \n",
            "350  50  2.26  0.70 \n",
            "400  50  2.28  0.74 \n",
            "450  50  2.27  0.74 \n",
            "500  50  2.38  0.83 \n",
            "550  50  2.34  0.82 \n",
            "600  50  2.41  0.81 \n",
            "650  50  2.35  0.80 \n",
            "700  50  2.35  0.86 \n",
            "\n",
            "blocked mm cycles/iteration (for varying block sizes)\n",
            "  n  b    ijk    ikj\n",
            "700  50  2.35  0.81 \n",
            "700 100  2.77  0.76 \n",
            "700 150  2.91  0.76 \n",
            "700 200  2.94  0.73 \n",
            "700 250  3.14  0.73 \n",
            "700 300  3.18  0.77 \n",
            "700 350  3.35  0.90 \n",
            "700 400  3.37  0.87 \n",
            "700 450  3.37  0.86 \n",
            "700 500  3.38  0.84 \n",
            "700 550  3.30  0.83 \n",
            "700 600  3.35  0.86 \n",
            "700 650  3.43  0.92 \n",
            "700 700  3.68  1.00 \n"
          ]
        }
      ]
    },
    {
      "cell_type": "markdown",
      "source": [
        "# BLAS version"
      ],
      "metadata": {
        "id": "QplrsTKWqh_Y"
      }
    },
    {
      "cell_type": "markdown",
      "source": [
        "## GSL CBLAS"
      ],
      "metadata": {
        "id": "Uc3xqdhN9Wbk"
      }
    },
    {
      "cell_type": "markdown",
      "source": [
        "Using GSL (GNU Scientific Library) with CBLAS"
      ],
      "metadata": {
        "id": "aQxD4N6Vqns2"
      }
    },
    {
      "cell_type": "code",
      "source": [
        "!sudo apt-get install libgsl-dev"
      ],
      "metadata": {
        "colab": {
          "base_uri": "https://localhost:8080/"
        },
        "id": "TvjqqakRqryw",
        "outputId": "8aca4c04-09ec-4a78-ec18-fda645266eaa"
      },
      "execution_count": null,
      "outputs": [
        {
          "output_type": "stream",
          "name": "stdout",
          "text": [
            "Reading package lists... Done\n",
            "Building dependency tree... Done\n",
            "Reading state information... Done\n",
            "The following additional packages will be installed:\n",
            "  libgsl27 libgslcblas0\n",
            "Suggested packages:\n",
            "  gsl-ref-psdoc | gsl-doc-pdf | gsl-doc-info | gsl-ref-html\n",
            "The following NEW packages will be installed:\n",
            "  libgsl-dev libgsl27 libgslcblas0\n",
            "0 upgraded, 3 newly installed, 0 to remove and 45 not upgraded.\n",
            "Need to get 2,351 kB of archives.\n",
            "After this operation, 10.8 MB of additional disk space will be used.\n",
            "Get:1 http://archive.ubuntu.com/ubuntu jammy/universe amd64 libgslcblas0 amd64 2.7.1+dfsg-3 [94.4 kB]\n",
            "Get:2 http://archive.ubuntu.com/ubuntu jammy/universe amd64 libgsl27 amd64 2.7.1+dfsg-3 [1,000 kB]\n",
            "Get:3 http://archive.ubuntu.com/ubuntu jammy/universe amd64 libgsl-dev amd64 2.7.1+dfsg-3 [1,257 kB]\n",
            "Fetched 2,351 kB in 0s (6,573 kB/s)\n",
            "debconf: unable to initialize frontend: Dialog\n",
            "debconf: (No usable dialog-like program is installed, so the dialog based frontend cannot be used. at /usr/share/perl5/Debconf/FrontEnd/Dialog.pm line 78, <> line 3.)\n",
            "debconf: falling back to frontend: Readline\n",
            "debconf: unable to initialize frontend: Readline\n",
            "debconf: (This frontend requires a controlling tty.)\n",
            "debconf: falling back to frontend: Teletype\n",
            "dpkg-preconfigure: unable to re-open stdin: \n",
            "Selecting previously unselected package libgslcblas0:amd64.\n",
            "(Reading database ... 121752 files and directories currently installed.)\n",
            "Preparing to unpack .../libgslcblas0_2.7.1+dfsg-3_amd64.deb ...\n",
            "Unpacking libgslcblas0:amd64 (2.7.1+dfsg-3) ...\n",
            "Selecting previously unselected package libgsl27:amd64.\n",
            "Preparing to unpack .../libgsl27_2.7.1+dfsg-3_amd64.deb ...\n",
            "Unpacking libgsl27:amd64 (2.7.1+dfsg-3) ...\n",
            "Selecting previously unselected package libgsl-dev.\n",
            "Preparing to unpack .../libgsl-dev_2.7.1+dfsg-3_amd64.deb ...\n",
            "Unpacking libgsl-dev (2.7.1+dfsg-3) ...\n",
            "Setting up libgslcblas0:amd64 (2.7.1+dfsg-3) ...\n",
            "Setting up libgsl27:amd64 (2.7.1+dfsg-3) ...\n",
            "Setting up libgsl-dev (2.7.1+dfsg-3) ...\n",
            "Processing triggers for man-db (2.10.2-1) ...\n",
            "Processing triggers for libc-bin (2.35-0ubuntu3.4) ...\n",
            "/sbin/ldconfig.real: /usr/local/lib/libtbbbind_2_5.so.3 is not a symbolic link\n",
            "\n",
            "/sbin/ldconfig.real: /usr/local/lib/libtbbmalloc_proxy.so.2 is not a symbolic link\n",
            "\n",
            "/sbin/ldconfig.real: /usr/local/lib/libtbb.so.12 is not a symbolic link\n",
            "\n",
            "/sbin/ldconfig.real: /usr/local/lib/libtbbbind_2_0.so.3 is not a symbolic link\n",
            "\n",
            "/sbin/ldconfig.real: /usr/local/lib/libtbbbind.so.3 is not a symbolic link\n",
            "\n",
            "/sbin/ldconfig.real: /usr/local/lib/libtbbmalloc.so.2 is not a symbolic link\n",
            "\n"
          ]
        }
      ]
    },
    {
      "cell_type": "markdown",
      "source": [
        "https://netlib.org/lapack/explore-html/db/d66/cblas__sgemm_8c_source.html"
      ],
      "metadata": {
        "id": "j1dDKFhZzjD0"
      }
    },
    {
      "cell_type": "markdown",
      "source": [
        "```bash\n",
        "func cblas_sgemm(\n",
        "    _ __Order: CBLAS_ORDER,\n",
        "    _ __TransA: CBLAS_TRANSPOSE,\n",
        "    _ __TransB: CBLAS_TRANSPOSE,\n",
        "    _ __M: Int32,\n",
        "    _ __N: Int32,\n",
        "    _ __K: Int32,\n",
        "    _ __alpha: Float,\n",
        "    _ __A: UnsafePointer<Float>!,\n",
        "    _ __lda: Int32,\n",
        "    _ __B: UnsafePointer<Float>!,\n",
        "    _ __ldb: Int32,\n",
        "    _ __beta: Float,\n",
        "    _ __C: UnsafeMutablePointer<Float>!,\n",
        "    _ __ldc: Int32\n",
        ")\n",
        "```\n",
        "https://developer.apple.com/documentation/accelerate/1513264-cblas_sgemm\n",
        "Order\n",
        "Specifies row-major (C) or column-major (Fortran) data ordering.\n",
        "\n",
        "TransA\n",
        "Specifies whether to transpose matrix A.\n",
        "\n",
        "TransB\n",
        "Specifies whether to transpose matrix B.\n",
        "\n",
        "M\n",
        "Number of rows in matrices A and C.\n",
        "\n",
        "N\n",
        "Number of columns in matrices B and C.\n",
        "\n",
        "K\n",
        "Number of columns in matrix A; number of rows in matrix B.\n",
        "\n",
        "alpha\n",
        "Scaling factor for the product of matrices A and B.\n",
        "\n",
        "A\n",
        "Matrix A.\n",
        "\n",
        "lda\n",
        "The size of the first dimension of matrix A; if you are passing a matrix A[m][n], the value should be m.\n",
        "\n",
        "B\n",
        "Matrix B.\n",
        "\n",
        "ldb\n",
        "The size of the first dimension of matrix B; if you are passing a matrix B[m][n], the value should be m.\n",
        "\n",
        "beta\n",
        "Scaling factor for matrix C.\n",
        "\n",
        "C\n",
        "Matrix C.\n",
        "\n",
        "ldc\n",
        "The size of the first dimension of matrix C; if you are passing a matrix C[m][n], the value should be m."
      ],
      "metadata": {
        "id": "Pn4Y4EyvsLWE"
      }
    },
    {
      "cell_type": "markdown",
      "source": [
        "This function multiplies A * B and multiplies the resulting matrix by alpha. It then multiplies matrix C by beta. It stores the sum of these two products in matrix C.\n",
        "\n",
        "Thus, it calculates either\n",
        "\n",
        "C←αAB + βC\n",
        "\n",
        "or\n",
        "\n",
        "C←αBA + βC\n",
        "\n",
        "with optional use of transposed forms of A, B, or both."
      ],
      "metadata": {
        "id": "fQ1GQ0CXspLv"
      }
    },
    {
      "cell_type": "code",
      "source": [
        "%%writefile cblas_example.c\n",
        "#include <stdio.h>\n",
        "#include <stdlib.h>\n",
        "#include <sys/time.h>\n",
        "#include <time.h>\n",
        "#include <gsl/gsl_cblas.h>\n",
        "#include <math.h>\n",
        "\n",
        "int main(int argc, char **argv) {\n",
        "    int n = 2;  // Matrix size\n",
        "    int i;\n",
        "    if (argc > 1)\n",
        "      n = atoi(argv[1]);\n",
        "    printf( \"n = %d\\n\", n);\n",
        "\n",
        "    float alpha = 1.0;\n",
        "    float beta = 0.0;\n",
        "\n",
        "    //float A[] = {1, 2, 3, 4, 5, 6};\n",
        "    //float B[] = {1, 2, 3, 3, 3, 5};\n",
        "    //float C[] = {0.0, 0.0, 0.0, 0.0};\n",
        "\n",
        "    float *A = (float *)malloc( n*n * sizeof(float));\n",
        "    float *B = (float *)malloc( n*n * sizeof(float));\n",
        "    float *C = (float *)malloc( n*n * sizeof(float));\n",
        "\n",
        "    /* fill matrices with random numbers */\n",
        "    for( i = 0; i < n*n; i++ ) A[i] = drand48()*2-1;\n",
        "    for( i = 0; i < n*n; i++ ) B[i] = drand48()*2-1;\n",
        "    for( i = 0; i < n*n; i++ ) C[i] = 0;// drand48()*2-1;\n",
        "\n",
        "    /* measure performance */\n",
        "    struct timeval start, end;\n",
        "\n",
        "    gettimeofday( &start, NULL );\n",
        "    // Compute C = A * B\n",
        "    cblas_sgemm(CblasRowMajor, CblasNoTrans, CblasNoTrans, n, n, n, alpha, A, n, B, n, beta, C, n);\n",
        "    gettimeofday( &end, NULL );\n",
        "\n",
        "    double seconds = (end.tv_sec - start.tv_sec) +\n",
        "        1.0e-6 * (end.tv_usec - start.tv_usec);\n",
        "    printf( \"%g milliseconds\\n\", seconds*1e3 );\n",
        "\n",
        "    /* convert time to Gflop/s */\n",
        "    double Gflops = 2e-9*n*n*n/seconds;\n",
        "    printf( \"%s:\\tn = %d, %.3f Gflop/s\\n\", \"Speed\", n, Gflops);\n",
        "\n",
        "    // Verify correctness (compare with a straightforward implementation)\n",
        "    for (int i = 0; i < n; i++) {\n",
        "        for (int j = 0; j < n; j++) {\n",
        "            float expected = 0.0;\n",
        "            for (int k = 0; k < n; k++) {\n",
        "                expected += A[i*n + k] * B[k*n + j];\n",
        "                //C[i+j*n] += A[i+k*n]*B[k+j*n];\n",
        "            }\n",
        "            if (fabs(C[i*n + j] - expected) >= 1e-3) {\n",
        "                printf(\"Error at C[%d, %d]\\n\", i, j);\n",
        "                printf(\"Expected: %.6f, Actual: %.6f\\n\", expected, C[i + j * n]);\n",
        "            }\n",
        "        }\n",
        "    }\n",
        "\n",
        "    // Print the result matrix\n",
        "    printf(\"[%.2f, %.2f]\\n\", C[0], C[1]);\n",
        "    printf(\"[%.2f, %.2f]\\n\", C[2], C[3]);\n",
        "\n",
        "    return 0;\n",
        "}\n"
      ],
      "metadata": {
        "colab": {
          "base_uri": "https://localhost:8080/"
        },
        "id": "j0dRJnjHq7vB",
        "outputId": "2b0f687d-0573-4291-953c-435b2ad6e5f1"
      },
      "execution_count": null,
      "outputs": [
        {
          "output_type": "stream",
          "name": "stdout",
          "text": [
            "Overwriting cblas_example.c\n"
          ]
        }
      ]
    },
    {
      "cell_type": "code",
      "source": [
        "!gcc -o cblas_example cblas_example.c -lgsl -lgslcblas -lm"
      ],
      "metadata": {
        "id": "6gwnRlaxraPi"
      },
      "execution_count": null,
      "outputs": []
    },
    {
      "cell_type": "code",
      "source": [
        "!ls"
      ],
      "metadata": {
        "colab": {
          "base_uri": "https://localhost:8080/"
        },
        "id": "yfYVLV7-r8pN",
        "outputId": "d022b321-c5f4-431a-eb8d-fb27a5b62bed"
      },
      "execution_count": null,
      "outputs": [
        {
          "output_type": "stream",
          "name": "stdout",
          "text": [
            "cblas_example  cblas_example.c\tsample_data\n"
          ]
        }
      ]
    },
    {
      "cell_type": "code",
      "source": [
        "!./cblas_example 1000"
      ],
      "metadata": {
        "colab": {
          "base_uri": "https://localhost:8080/"
        },
        "id": "2-cCGENNr970",
        "outputId": "b91771be-d625-445d-d9eb-e5bd6034a3c0"
      },
      "execution_count": null,
      "outputs": [
        {
          "output_type": "stream",
          "name": "stdout",
          "text": [
            "n = 1000\n",
            "1500.53 milliseconds\n",
            "Speed:\tn = 1000, 1.333 Gflop/s\n",
            "[-7.10, -0.55]\n",
            "[-5.90, -1.15]\n"
          ]
        }
      ]
    },
    {
      "cell_type": "code",
      "source": [
        "!sudo apt -y install intel-mkl"
      ],
      "metadata": {
        "colab": {
          "base_uri": "https://localhost:8080/"
        },
        "id": "_LJzjNXB1iXa",
        "outputId": "4707135f-dba3-4a4c-d101-7132ea743a3e"
      },
      "execution_count": null,
      "outputs": [
        {
          "output_type": "stream",
          "name": "stdout",
          "text": [
            "Reading package lists... Done\n",
            "Building dependency tree... Done\n",
            "Reading state information... Done\n",
            "intel-mkl is already the newest version (2020.4.304-2ubuntu3).\n",
            "0 upgraded, 0 newly installed, 0 to remove and 45 not upgraded.\n"
          ]
        }
      ]
    },
    {
      "cell_type": "code",
      "source": [
        "%%writefile mkl_example.c\n",
        "#include <stdio.h>\n",
        "#include <stdlib.h>\n",
        "#include <sys/time.h>\n",
        "#include <time.h>\n",
        "//#include <gsl/gsl_cblas.h>\n",
        "#include <mkl.h>\n",
        "#include <math.h>\n",
        "\n",
        "int main(int argc, char **argv) {\n",
        "    int n = 2;  // Matrix size\n",
        "    int i;\n",
        "    if (argc > 1)\n",
        "      n = atoi(argv[1]);\n",
        "    printf( \"n = %d\\n\", n);\n",
        "\n",
        "    float alpha = 1.0;\n",
        "    float beta = 0.0;\n",
        "\n",
        "    //float A[] = {1, 2, 3, 4, 5, 6};\n",
        "    //float B[] = {1, 2, 3, 3, 3, 5};\n",
        "    //float C[] = {0.0, 0.0, 0.0, 0.0};\n",
        "\n",
        "    float *A = (float *)malloc( n*n * sizeof(float));\n",
        "    float *B = (float *)malloc( n*n * sizeof(float));\n",
        "    float *C = (float *)malloc( n*n * sizeof(float));\n",
        "\n",
        "    /* fill matrices with random numbers */\n",
        "    for( i = 0; i < n*n; i++ ) A[i] = drand48()*2-1;\n",
        "    for( i = 0; i < n*n; i++ ) B[i] = drand48()*2-1;\n",
        "    for( i = 0; i < n*n; i++ ) C[i] = 0;// drand48()*2-1;\n",
        "\n",
        "    /* measure performance */\n",
        "    struct timeval start, end;\n",
        "\n",
        "    gettimeofday( &start, NULL );\n",
        "    // Compute C = A * B\n",
        "    cblas_sgemm(CblasRowMajor, CblasNoTrans, CblasNoTrans, n, n, n, alpha, A, n, B, n, beta, C, n);\n",
        "    gettimeofday( &end, NULL );\n",
        "\n",
        "    double seconds = (end.tv_sec - start.tv_sec) +\n",
        "        1.0e-6 * (end.tv_usec - start.tv_usec);\n",
        "    printf( \"%g milliseconds\\n\", seconds*1e3 );\n",
        "\n",
        "    /* convert time to Gflop/s */\n",
        "    double Gflops = 2e-9*n*n*n/seconds;\n",
        "    printf( \"%s:\\tn = %d, %.3f Gflop/s\\n\", \"Speed\", n, Gflops);\n",
        "\n",
        "    // Verify correctness (compare with a straightforward implementation)\n",
        "    for (int i = 0; i < n; i++) {\n",
        "        for (int j = 0; j < n; j++) {\n",
        "            float expected = 0.0;\n",
        "            for (int k = 0; k < n; k++) {\n",
        "                expected += A[i*n + k] * B[k*n + j];\n",
        "                //C[i+j*n] += A[i+k*n]*B[k+j*n];\n",
        "            }\n",
        "            if (fabs(C[i*n + j] - expected) >= 1e-3) {\n",
        "                printf(\"Error at C[%d, %d]\\n\", i, j);\n",
        "                printf(\"Expected: %.6f, Actual: %.6f\\n\", expected, C[i + j * n]);\n",
        "            }\n",
        "        }\n",
        "    }\n",
        "\n",
        "    // Print the result matrix\n",
        "    printf(\"[%.2f, %.2f]\\n\", C[0], C[1]);\n",
        "    printf(\"[%.2f, %.2f]\\n\", C[2], C[3]);\n",
        "\n",
        "    return 0;\n",
        "}\n"
      ],
      "metadata": {
        "colab": {
          "base_uri": "https://localhost:8080/"
        },
        "id": "HgF2Vkss1mSl",
        "outputId": "cffc1844-8a92-4b95-a877-a36ddd582f95"
      },
      "execution_count": null,
      "outputs": [
        {
          "output_type": "stream",
          "name": "stdout",
          "text": [
            "Writing mkl_example.c\n"
          ]
        }
      ]
    },
    {
      "cell_type": "code",
      "source": [
        "!icc --version"
      ],
      "metadata": {
        "colab": {
          "base_uri": "https://localhost:8080/"
        },
        "id": "eFi2yUnM2EiJ",
        "outputId": "ed785c57-2a37-4308-ef5d-e0de87b18cae"
      },
      "execution_count": null,
      "outputs": [
        {
          "output_type": "stream",
          "name": "stdout",
          "text": [
            "/bin/bash: line 1: icc: command not found\n"
          ]
        }
      ]
    },
    {
      "cell_type": "code",
      "source": [
        "!icc -o mkl_example mkl_example.c -lmkl_intel_lp64 -lmkl_sequential -lmkl_core -lpthread -lm"
      ],
      "metadata": {
        "colab": {
          "base_uri": "https://localhost:8080/"
        },
        "id": "3bq1jB4U2Hnb",
        "outputId": "6a7b6e22-60ae-4a38-b6cf-cdce4d26ac5e"
      },
      "execution_count": null,
      "outputs": [
        {
          "output_type": "stream",
          "name": "stdout",
          "text": [
            "/bin/bash: line 1: icc: command not found\n"
          ]
        }
      ]
    },
    {
      "cell_type": "code",
      "source": [
        "!ls /opt/"
      ],
      "metadata": {
        "colab": {
          "base_uri": "https://localhost:8080/"
        },
        "id": "aGbuK_No3Ckn",
        "outputId": "8e8ff0bc-6d0b-4cc8-e606-1545add0af10"
      },
      "execution_count": null,
      "outputs": [
        {
          "output_type": "stream",
          "name": "stdout",
          "text": [
            "google\tnvidia\n"
          ]
        }
      ]
    },
    {
      "cell_type": "markdown",
      "source": [
        "## Intel OneAPI MKL"
      ],
      "metadata": {
        "id": "mHvSZcl49SlM"
      }
    },
    {
      "cell_type": "markdown",
      "source": [
        "https://www.intel.com/content/www/us/en/developer/tools/oneapi/onemkl-download.html?operatingsystem=linux&distributions=aptpackagemanager"
      ],
      "metadata": {
        "id": "ob0d6D-t4Fkx"
      }
    },
    {
      "cell_type": "markdown",
      "source": [
        "Get Started with Intel® oneAPI Math Kernel Library: https://www.intel.com/content/www/us/en/docs/onemkl/get-started-guide/2024-1/overview.html"
      ],
      "metadata": {
        "id": "3pdLXrDKDZCs"
      }
    },
    {
      "cell_type": "markdown",
      "source": [
        "Intel® oneAPI Math Kernel Library - C: https://www.intel.com/content/www/us/en/docs/onemkl/developer-reference-c/2024-1/overview.html"
      ],
      "metadata": {
        "id": "pv3GkItwIQ4d"
      }
    },
    {
      "cell_type": "code",
      "source": [
        "!sudo apt install -y gpg-agent wget"
      ],
      "metadata": {
        "colab": {
          "base_uri": "https://localhost:8080/"
        },
        "id": "qnrr4N5239kQ",
        "outputId": "aea81e56-b1a7-4987-abf4-7b3993be7bc9"
      },
      "execution_count": null,
      "outputs": [
        {
          "output_type": "stream",
          "name": "stdout",
          "text": [
            "Reading package lists... Done\n",
            "Building dependency tree... Done\n",
            "Reading state information... Done\n",
            "wget is already the newest version (1.21.2-2ubuntu1).\n",
            "gpg-agent is already the newest version (2.2.27-3ubuntu2.1).\n",
            "gpg-agent set to manually installed.\n",
            "0 upgraded, 0 newly installed, 0 to remove and 45 not upgraded.\n"
          ]
        }
      ]
    },
    {
      "cell_type": "code",
      "source": [
        "!wget -O- https://apt.repos.intel.com/intel-gpg-keys/GPG-PUB-KEY-INTEL-SW-PRODUCTS.PUB | gpg --dearmor | sudo tee /usr/share/keyrings/oneapi-archive-keyring.gpg > /dev/null"
      ],
      "metadata": {
        "colab": {
          "base_uri": "https://localhost:8080/"
        },
        "id": "t0VBdc6D4CpE",
        "outputId": "c9c2bebf-debb-4273-86fd-506ae8cdf248"
      },
      "execution_count": null,
      "outputs": [
        {
          "output_type": "stream",
          "name": "stdout",
          "text": [
            "--2024-04-29 17:21:27--  https://apt.repos.intel.com/intel-gpg-keys/GPG-PUB-KEY-INTEL-SW-PRODUCTS.PUB\n",
            "Resolving apt.repos.intel.com (apt.repos.intel.com)... 23.33.34.115, 2600:1408:5400:49b::a87, 2600:1408:5400:4a3::a87\n",
            "Connecting to apt.repos.intel.com (apt.repos.intel.com)|23.33.34.115|:443... connected.\n",
            "HTTP request sent, awaiting response... 200 OK\n",
            "Length: 4738 (4.6K) [application/vnd.exstream-package]\n",
            "Saving to: ‘STDOUT’\n",
            "\n",
            "-                   100%[===================>]   4.63K  --.-KB/s    in 0s      \n",
            "\n",
            "2024-04-29 17:21:28 (2.40 GB/s) - written to stdout [4738/4738]\n",
            "\n"
          ]
        }
      ]
    },
    {
      "cell_type": "code",
      "source": [
        "!echo \"deb [signed-by=/usr/share/keyrings/oneapi-archive-keyring.gpg] https://apt.repos.intel.com/oneapi all main\" | sudo tee /etc/apt/sources.list.d/oneAPI.list"
      ],
      "metadata": {
        "colab": {
          "base_uri": "https://localhost:8080/"
        },
        "id": "3ikHUq704H0E",
        "outputId": "fc5ea977-e5a6-4001-b0ff-2488e0943767"
      },
      "execution_count": null,
      "outputs": [
        {
          "output_type": "stream",
          "name": "stdout",
          "text": [
            "deb [signed-by=/usr/share/keyrings/oneapi-archive-keyring.gpg] https://apt.repos.intel.com/oneapi all main\n"
          ]
        }
      ]
    },
    {
      "cell_type": "code",
      "source": [
        "!sudo apt update"
      ],
      "metadata": {
        "colab": {
          "base_uri": "https://localhost:8080/"
        },
        "id": "T5xWvD744Ly0",
        "outputId": "306b37fe-0193-47e9-df85-6bfb6f175eee"
      },
      "execution_count": null,
      "outputs": [
        {
          "output_type": "stream",
          "name": "stdout",
          "text": [
            "\u001b[33m\r0% [Working]\u001b[0m\r            \rGet:1 http://security.ubuntu.com/ubuntu jammy-security InRelease [110 kB]\n",
            "\u001b[33m\r0% [Waiting for headers] [1 InRelease 2,588 B/110 kB 2%] [Connected to cloud.r-\u001b[0m\r                                                                               \rHit:2 http://archive.ubuntu.com/ubuntu jammy InRelease\n",
            "\u001b[33m\r0% [1 InRelease 51.8 kB/110 kB 47%] [Connected to cloud.r-project.org (108.157.\u001b[0m\r                                                                               \rGet:3 http://archive.ubuntu.com/ubuntu jammy-updates InRelease [119 kB]\n",
            "\u001b[33m\r0% [3 InRelease 14.2 kB/119 kB 12%] [1 InRelease 54.7 kB/110 kB 50%] [Waiting f\u001b[0m\u001b[33m\r0% [3 InRelease 24.3 kB/119 kB 20%] [Waiting for headers] [Connecting to ppa.la\u001b[0m\r                                                                               \rGet:4 https://cloud.r-project.org/bin/linux/ubuntu jammy-cran40/ InRelease [3,626 B]\n",
            "\u001b[33m\r0% [3 InRelease 30.1 kB/119 kB 25%] [Connecting to ppa.launchpadcontent.net (18\u001b[0m\r                                                                               \rHit:5 https://developer.download.nvidia.com/compute/cuda/repos/ubuntu2204/x86_64  InRelease\n",
            "\u001b[33m\r0% [3 InRelease 53.3 kB/119 kB 45%] [Connecting to ppa.launchpadcontent.net (18\u001b[0m\u001b[33m\r0% [Waiting for headers] [Connecting to ppa.launchpadcontent.net (185.125.190.8\u001b[0m\r                                                                               \rGet:6 http://archive.ubuntu.com/ubuntu jammy-backports InRelease [109 kB]\n",
            "Get:7 https://apt.repos.intel.com/oneapi all InRelease [5,676 B]\n",
            "Get:8 http://security.ubuntu.com/ubuntu jammy-security/main amd64 Packages [1,756 kB]\n",
            "Hit:9 https://ppa.launchpadcontent.net/c2d4u.team/c2d4u4.0+/ubuntu jammy InRelease\n",
            "Get:10 https://cloud.r-project.org/bin/linux/ubuntu jammy-cran40/ Packages [52.9 kB]\n",
            "Get:11 http://security.ubuntu.com/ubuntu jammy-security/universe amd64 Packages [1,077 kB]\n",
            "Get:12 https://ppa.launchpadcontent.net/deadsnakes/ppa/ubuntu jammy InRelease [18.1 kB]\n",
            "Get:13 https://ppa.launchpadcontent.net/graphics-drivers/ppa/ubuntu jammy InRelease [24.3 kB]\n",
            "Get:14 http://archive.ubuntu.com/ubuntu jammy-updates/universe amd64 Packages [1,370 kB]\n",
            "Hit:15 https://ppa.launchpadcontent.net/ubuntugis/ppa/ubuntu jammy InRelease\n",
            "Get:16 http://archive.ubuntu.com/ubuntu jammy-updates/main amd64 Packages [2,035 kB]\n",
            "Get:17 https://apt.repos.intel.com/oneapi all/main all Packages [143 kB]\n",
            "Get:18 https://apt.repos.intel.com/oneapi all/main amd64 Packages [503 kB]\n",
            "Get:19 https://ppa.launchpadcontent.net/deadsnakes/ppa/ubuntu jammy/main amd64 Packages [27.8 kB]\n",
            "Get:20 https://ppa.launchpadcontent.net/graphics-drivers/ppa/ubuntu jammy/main amd64 Packages [44.2 kB]\n",
            "Fetched 7,399 kB in 2s (4,112 kB/s)\n",
            "Reading package lists... Done\n",
            "Building dependency tree... Done\n",
            "Reading state information... Done\n",
            "51 packages can be upgraded. Run 'apt list --upgradable' to see them.\n"
          ]
        }
      ]
    },
    {
      "cell_type": "code",
      "source": [
        "!sudo apt install intel-oneapi-mkl"
      ],
      "metadata": {
        "colab": {
          "base_uri": "https://localhost:8080/"
        },
        "id": "Yy4NGZQ14QSO",
        "outputId": "ad7b1753-0ed6-4cc0-bc90-006390714f5f"
      },
      "execution_count": null,
      "outputs": [
        {
          "output_type": "stream",
          "name": "stdout",
          "text": [
            "Reading package lists... Done\n",
            "Building dependency tree... Done\n",
            "Reading state information... Done\n",
            "The following additional packages will be installed:\n",
            "  intel-oneapi-common-licensing-2024.1 intel-oneapi-common-oneapi-vars-2024.1\n",
            "  intel-oneapi-common-vars intel-oneapi-compiler-dpcpp-cpp-runtime-2024.1\n",
            "  intel-oneapi-compiler-shared-runtime-2024.1 intel-oneapi-mkl-2024.1\n",
            "  intel-oneapi-mkl-classic-2024.1 intel-oneapi-mkl-cluster-2024.1\n",
            "  intel-oneapi-mkl-core-2024.1 intel-oneapi-mkl-core-common-2024.1\n",
            "  intel-oneapi-mkl-sycl-2024.1 intel-oneapi-mkl-sycl-blas-2024.1\n",
            "  intel-oneapi-mkl-sycl-data-fitting-2024.1 intel-oneapi-mkl-sycl-dft-2024.1\n",
            "  intel-oneapi-mkl-sycl-lapack-2024.1 intel-oneapi-mkl-sycl-rng-2024.1\n",
            "  intel-oneapi-mkl-sycl-sparse-2024.1 intel-oneapi-mkl-sycl-stats-2024.1\n",
            "  intel-oneapi-mkl-sycl-vm-2024.1 intel-oneapi-openmp-2024.1\n",
            "  intel-oneapi-openmp-common-2024.1 intel-oneapi-tbb-2021.12\n",
            "  intel-oneapi-tbb-common-2021.12 intel-oneapi-tcm-1.0\n",
            "The following NEW packages will be installed:\n",
            "  intel-oneapi-common-licensing-2024.1 intel-oneapi-common-oneapi-vars-2024.1\n",
            "  intel-oneapi-common-vars intel-oneapi-compiler-dpcpp-cpp-runtime-2024.1\n",
            "  intel-oneapi-compiler-shared-runtime-2024.1 intel-oneapi-mkl\n",
            "  intel-oneapi-mkl-2024.1 intel-oneapi-mkl-classic-2024.1\n",
            "  intel-oneapi-mkl-cluster-2024.1 intel-oneapi-mkl-core-2024.1\n",
            "  intel-oneapi-mkl-core-common-2024.1 intel-oneapi-mkl-sycl-2024.1\n",
            "  intel-oneapi-mkl-sycl-blas-2024.1 intel-oneapi-mkl-sycl-data-fitting-2024.1\n",
            "  intel-oneapi-mkl-sycl-dft-2024.1 intel-oneapi-mkl-sycl-lapack-2024.1\n",
            "  intel-oneapi-mkl-sycl-rng-2024.1 intel-oneapi-mkl-sycl-sparse-2024.1\n",
            "  intel-oneapi-mkl-sycl-stats-2024.1 intel-oneapi-mkl-sycl-vm-2024.1\n",
            "  intel-oneapi-openmp-2024.1 intel-oneapi-openmp-common-2024.1\n",
            "  intel-oneapi-tbb-2021.12 intel-oneapi-tbb-common-2021.12\n",
            "  intel-oneapi-tcm-1.0\n",
            "0 upgraded, 25 newly installed, 0 to remove and 51 not upgraded.\n",
            "Need to get 337 MB of archives.\n",
            "After this operation, 2,289 MB of additional disk space will be used.\n",
            "Get:1 https://apt.repos.intel.com/oneapi all/main all intel-oneapi-common-licensing-2024.1 all 2024.1.0-579 [30.7 kB]\n",
            "Get:2 https://apt.repos.intel.com/oneapi all/main all intel-oneapi-common-oneapi-vars-2024.1 all 2024.1.0-579 [10.4 kB]\n",
            "Get:3 https://apt.repos.intel.com/oneapi all/main all intel-oneapi-common-vars all 2024.1.0-579 [12.2 kB]\n",
            "Get:4 https://apt.repos.intel.com/oneapi all/main all intel-oneapi-openmp-common-2024.1 all 2024.1.0-963 [20.1 kB]\n",
            "Get:5 https://apt.repos.intel.com/oneapi all/main amd64 intel-oneapi-tcm-1.0 amd64 1.0.1-175 [1,665 kB]\n",
            "Get:6 https://apt.repos.intel.com/oneapi all/main amd64 intel-oneapi-openmp-2024.1 amd64 2024.1.0-963 [47.0 MB]\n",
            "Get:7 https://apt.repos.intel.com/oneapi all/main amd64 intel-oneapi-compiler-shared-runtime-2024.1 amd64 2024.1.0-963 [119 MB]\n",
            "Get:8 https://apt.repos.intel.com/oneapi all/main all intel-oneapi-tbb-common-2021.12 all 2021.12.0-495 [10.5 kB]\n",
            "Get:9 https://apt.repos.intel.com/oneapi all/main amd64 intel-oneapi-tbb-2021.12 amd64 2021.12.0-495 [973 kB]\n",
            "Get:10 https://apt.repos.intel.com/oneapi all/main amd64 intel-oneapi-compiler-dpcpp-cpp-runtime-2024.1 amd64 2024.1.0-963 [2,445 kB]\n",
            "Get:11 https://apt.repos.intel.com/oneapi all/main all intel-oneapi-mkl-core-common-2024.1 all 2024.1.0-691 [27.8 kB]\n",
            "Get:12 https://apt.repos.intel.com/oneapi all/main amd64 intel-oneapi-mkl-core-2024.1 amd64 2024.1.0-691 [110 MB]\n",
            "Get:13 https://apt.repos.intel.com/oneapi all/main amd64 intel-oneapi-mkl-sycl-blas-2024.1 amd64 2024.1.0-691 [8,953 kB]\n",
            "Get:14 https://apt.repos.intel.com/oneapi all/main amd64 intel-oneapi-mkl-sycl-lapack-2024.1 amd64 2024.1.0-691 [4,697 kB]\n",
            "Get:15 https://apt.repos.intel.com/oneapi all/main amd64 intel-oneapi-mkl-sycl-dft-2024.1 amd64 2024.1.0-691 [1,963 kB]\n",
            "Get:16 https://apt.repos.intel.com/oneapi all/main amd64 intel-oneapi-mkl-sycl-sparse-2024.1 amd64 2024.1.0-691 [8,278 kB]\n",
            "Get:17 https://apt.repos.intel.com/oneapi all/main amd64 intel-oneapi-mkl-sycl-vm-2024.1 amd64 2024.1.0-691 [14.0 MB]\n",
            "Get:18 https://apt.repos.intel.com/oneapi all/main amd64 intel-oneapi-mkl-sycl-rng-2024.1 amd64 2024.1.0-691 [10.7 MB]\n",
            "Get:19 https://apt.repos.intel.com/oneapi all/main amd64 intel-oneapi-mkl-sycl-stats-2024.1 amd64 2024.1.0-691 [2,031 kB]\n",
            "Get:20 https://apt.repos.intel.com/oneapi all/main amd64 intel-oneapi-mkl-sycl-data-fitting-2024.1 amd64 2024.1.0-691 [493 kB]\n",
            "Get:21 https://apt.repos.intel.com/oneapi all/main amd64 intel-oneapi-mkl-sycl-2024.1 amd64 2024.1.0-691 [2,392 B]\n",
            "Get:22 https://apt.repos.intel.com/oneapi all/main amd64 intel-oneapi-mkl-cluster-2024.1 amd64 2024.1.0-691 [3,984 kB]\n",
            "Get:23 https://apt.repos.intel.com/oneapi all/main amd64 intel-oneapi-mkl-classic-2024.1 amd64 2024.1.0-691 [2,108 B]\n",
            "Get:24 https://apt.repos.intel.com/oneapi all/main amd64 intel-oneapi-mkl-2024.1 amd64 2024.1.0-691 [2,100 B]\n",
            "Get:25 https://apt.repos.intel.com/oneapi all/main amd64 intel-oneapi-mkl amd64 2024.1.0-691 [2,044 B]\n",
            "Fetched 337 MB in 6s (58.5 MB/s)\n",
            "debconf: unable to initialize frontend: Dialog\n",
            "debconf: (No usable dialog-like program is installed, so the dialog based frontend cannot be used. at /usr/share/perl5/Debconf/FrontEnd/Dialog.pm line 78, <> line 25.)\n",
            "debconf: falling back to frontend: Readline\n",
            "debconf: unable to initialize frontend: Readline\n",
            "debconf: (This frontend requires a controlling tty.)\n",
            "debconf: falling back to frontend: Teletype\n",
            "dpkg-preconfigure: unable to re-open stdin: \n",
            "Selecting previously unselected package intel-oneapi-common-licensing-2024.1.\n",
            "(Reading database ... 122045 files and directories currently installed.)\n",
            "Preparing to unpack .../00-intel-oneapi-common-licensing-2024.1_2024.1.0-579_all.deb ...\n",
            "Unpacking intel-oneapi-common-licensing-2024.1 (2024.1.0-579) ...\n",
            "Selecting previously unselected package intel-oneapi-common-oneapi-vars-2024.1.\n",
            "Preparing to unpack .../01-intel-oneapi-common-oneapi-vars-2024.1_2024.1.0-579_all.deb ...\n",
            "Unpacking intel-oneapi-common-oneapi-vars-2024.1 (2024.1.0-579) ...\n",
            "Selecting previously unselected package intel-oneapi-common-vars.\n",
            "Preparing to unpack .../02-intel-oneapi-common-vars_2024.1.0-579_all.deb ...\n",
            "Unpacking intel-oneapi-common-vars (2024.1.0-579) ...\n",
            "Selecting previously unselected package intel-oneapi-openmp-common-2024.1.\n",
            "Preparing to unpack .../03-intel-oneapi-openmp-common-2024.1_2024.1.0-963_all.deb ...\n",
            "Unpacking intel-oneapi-openmp-common-2024.1 (2024.1.0-963) ...\n",
            "Selecting previously unselected package intel-oneapi-tcm-1.0.\n",
            "Preparing to unpack .../04-intel-oneapi-tcm-1.0_1.0.1-175_amd64.deb ...\n",
            "Unpacking intel-oneapi-tcm-1.0 (1.0.1-175) ...\n",
            "Selecting previously unselected package intel-oneapi-openmp-2024.1.\n",
            "Preparing to unpack .../05-intel-oneapi-openmp-2024.1_2024.1.0-963_amd64.deb ...\n",
            "Unpacking intel-oneapi-openmp-2024.1 (2024.1.0-963) ...\n",
            "Selecting previously unselected package intel-oneapi-compiler-shared-runtime-2024.1.\n",
            "Preparing to unpack .../06-intel-oneapi-compiler-shared-runtime-2024.1_2024.1.0-963_amd64.deb ...\n",
            "Unpacking intel-oneapi-compiler-shared-runtime-2024.1 (2024.1.0-963) ...\n",
            "Selecting previously unselected package intel-oneapi-tbb-common-2021.12.\n",
            "Preparing to unpack .../07-intel-oneapi-tbb-common-2021.12_2021.12.0-495_all.deb ...\n",
            "Unpacking intel-oneapi-tbb-common-2021.12 (2021.12.0-495) ...\n",
            "Selecting previously unselected package intel-oneapi-tbb-2021.12.\n",
            "Preparing to unpack .../08-intel-oneapi-tbb-2021.12_2021.12.0-495_amd64.deb ...\n",
            "Unpacking intel-oneapi-tbb-2021.12 (2021.12.0-495) ...\n",
            "Selecting previously unselected package intel-oneapi-compiler-dpcpp-cpp-runtime-2024.1.\n",
            "Preparing to unpack .../09-intel-oneapi-compiler-dpcpp-cpp-runtime-2024.1_2024.1.0-963_amd64.deb ...\n",
            "Unpacking intel-oneapi-compiler-dpcpp-cpp-runtime-2024.1 (2024.1.0-963) ...\n",
            "Selecting previously unselected package intel-oneapi-mkl-core-common-2024.1.\n",
            "Preparing to unpack .../10-intel-oneapi-mkl-core-common-2024.1_2024.1.0-691_all.deb ...\n",
            "Unpacking intel-oneapi-mkl-core-common-2024.1 (2024.1.0-691) ...\n",
            "Selecting previously unselected package intel-oneapi-mkl-core-2024.1.\n",
            "Preparing to unpack .../11-intel-oneapi-mkl-core-2024.1_2024.1.0-691_amd64.deb ...\n",
            "Unpacking intel-oneapi-mkl-core-2024.1 (2024.1.0-691) ...\n",
            "Selecting previously unselected package intel-oneapi-mkl-sycl-blas-2024.1.\n",
            "Preparing to unpack .../12-intel-oneapi-mkl-sycl-blas-2024.1_2024.1.0-691_amd64.deb ...\n",
            "Unpacking intel-oneapi-mkl-sycl-blas-2024.1 (2024.1.0-691) ...\n",
            "Selecting previously unselected package intel-oneapi-mkl-sycl-lapack-2024.1.\n",
            "Preparing to unpack .../13-intel-oneapi-mkl-sycl-lapack-2024.1_2024.1.0-691_amd64.deb ...\n",
            "Unpacking intel-oneapi-mkl-sycl-lapack-2024.1 (2024.1.0-691) ...\n",
            "Selecting previously unselected package intel-oneapi-mkl-sycl-dft-2024.1.\n",
            "Preparing to unpack .../14-intel-oneapi-mkl-sycl-dft-2024.1_2024.1.0-691_amd64.deb ...\n",
            "Unpacking intel-oneapi-mkl-sycl-dft-2024.1 (2024.1.0-691) ...\n",
            "Selecting previously unselected package intel-oneapi-mkl-sycl-sparse-2024.1.\n",
            "Preparing to unpack .../15-intel-oneapi-mkl-sycl-sparse-2024.1_2024.1.0-691_amd64.deb ...\n",
            "Unpacking intel-oneapi-mkl-sycl-sparse-2024.1 (2024.1.0-691) ...\n",
            "Selecting previously unselected package intel-oneapi-mkl-sycl-vm-2024.1.\n",
            "Preparing to unpack .../16-intel-oneapi-mkl-sycl-vm-2024.1_2024.1.0-691_amd64.deb ...\n",
            "Unpacking intel-oneapi-mkl-sycl-vm-2024.1 (2024.1.0-691) ...\n",
            "Selecting previously unselected package intel-oneapi-mkl-sycl-rng-2024.1.\n",
            "Preparing to unpack .../17-intel-oneapi-mkl-sycl-rng-2024.1_2024.1.0-691_amd64.deb ...\n",
            "Unpacking intel-oneapi-mkl-sycl-rng-2024.1 (2024.1.0-691) ...\n",
            "Selecting previously unselected package intel-oneapi-mkl-sycl-stats-2024.1.\n",
            "Preparing to unpack .../18-intel-oneapi-mkl-sycl-stats-2024.1_2024.1.0-691_amd64.deb ...\n",
            "Unpacking intel-oneapi-mkl-sycl-stats-2024.1 (2024.1.0-691) ...\n",
            "Selecting previously unselected package intel-oneapi-mkl-sycl-data-fitting-2024.1.\n",
            "Preparing to unpack .../19-intel-oneapi-mkl-sycl-data-fitting-2024.1_2024.1.0-691_amd64.deb ...\n",
            "Unpacking intel-oneapi-mkl-sycl-data-fitting-2024.1 (2024.1.0-691) ...\n",
            "Selecting previously unselected package intel-oneapi-mkl-sycl-2024.1.\n",
            "Preparing to unpack .../20-intel-oneapi-mkl-sycl-2024.1_2024.1.0-691_amd64.deb ...\n",
            "Unpacking intel-oneapi-mkl-sycl-2024.1 (2024.1.0-691) ...\n",
            "Selecting previously unselected package intel-oneapi-mkl-cluster-2024.1.\n",
            "Preparing to unpack .../21-intel-oneapi-mkl-cluster-2024.1_2024.1.0-691_amd64.deb ...\n",
            "Unpacking intel-oneapi-mkl-cluster-2024.1 (2024.1.0-691) ...\n",
            "Selecting previously unselected package intel-oneapi-mkl-classic-2024.1.\n",
            "Preparing to unpack .../22-intel-oneapi-mkl-classic-2024.1_2024.1.0-691_amd64.deb ...\n",
            "Unpacking intel-oneapi-mkl-classic-2024.1 (2024.1.0-691) ...\n",
            "Selecting previously unselected package intel-oneapi-mkl-2024.1.\n",
            "Preparing to unpack .../23-intel-oneapi-mkl-2024.1_2024.1.0-691_amd64.deb ...\n",
            "Unpacking intel-oneapi-mkl-2024.1 (2024.1.0-691) ...\n",
            "Selecting previously unselected package intel-oneapi-mkl.\n",
            "Preparing to unpack .../24-intel-oneapi-mkl_2024.1.0-691_amd64.deb ...\n",
            "Unpacking intel-oneapi-mkl (2024.1.0-691) ...\n",
            "Setting up intel-oneapi-common-oneapi-vars-2024.1 (2024.1.0-579) ...\n",
            "Setting up intel-oneapi-common-licensing-2024.1 (2024.1.0-579) ...\n",
            "Setting up intel-oneapi-common-vars (2024.1.0-579) ...\n",
            "Setting up intel-oneapi-tbb-common-2021.12 (2021.12.0-495) ...\n",
            "Setting up intel-oneapi-tcm-1.0 (1.0.1-175) ...\n",
            "Setting up intel-oneapi-openmp-common-2024.1 (2024.1.0-963) ...\n",
            "Setting up intel-oneapi-tbb-2021.12 (2021.12.0-495) ...\n",
            "Setting up intel-oneapi-mkl-core-common-2024.1 (2024.1.0-691) ...\n",
            "Setting up intel-oneapi-openmp-2024.1 (2024.1.0-963) ...\n",
            "Setting up intel-oneapi-compiler-shared-runtime-2024.1 (2024.1.0-963) ...\n",
            "Setting up intel-oneapi-mkl-core-2024.1 (2024.1.0-691) ...\n",
            "Setting up intel-oneapi-compiler-dpcpp-cpp-runtime-2024.1 (2024.1.0-963) ...\n",
            "Setting up intel-oneapi-mkl-sycl-blas-2024.1 (2024.1.0-691) ...\n",
            "Setting up intel-oneapi-mkl-sycl-rng-2024.1 (2024.1.0-691) ...\n",
            "Setting up intel-oneapi-mkl-cluster-2024.1 (2024.1.0-691) ...\n",
            "Setting up intel-oneapi-mkl-sycl-lapack-2024.1 (2024.1.0-691) ...\n",
            "Setting up intel-oneapi-mkl-sycl-dft-2024.1 (2024.1.0-691) ...\n",
            "Setting up intel-oneapi-mkl-sycl-stats-2024.1 (2024.1.0-691) ...\n",
            "Setting up intel-oneapi-mkl-sycl-data-fitting-2024.1 (2024.1.0-691) ...\n",
            "Setting up intel-oneapi-mkl-sycl-vm-2024.1 (2024.1.0-691) ...\n",
            "Setting up intel-oneapi-mkl-classic-2024.1 (2024.1.0-691) ...\n",
            "Setting up intel-oneapi-mkl-sycl-sparse-2024.1 (2024.1.0-691) ...\n",
            "Setting up intel-oneapi-mkl-sycl-2024.1 (2024.1.0-691) ...\n",
            "Setting up intel-oneapi-mkl-2024.1 (2024.1.0-691) ...\n",
            "Setting up intel-oneapi-mkl (2024.1.0-691) ...\n"
          ]
        }
      ]
    },
    {
      "cell_type": "markdown",
      "source": [
        "For installation with header files, install the oneMKL development package using the following command:\n",
        "sudo apt install intel-oneapi-mkl-devel"
      ],
      "metadata": {
        "id": "FgK0mBDY4XNx"
      }
    },
    {
      "cell_type": "code",
      "source": [
        "!sudo apt install intel-oneapi-mkl-devel"
      ],
      "metadata": {
        "colab": {
          "base_uri": "https://localhost:8080/"
        },
        "id": "eti8zdz56b_1",
        "outputId": "2ad705b6-beeb-469b-b1fd-a431d85c0ed9"
      },
      "execution_count": null,
      "outputs": [
        {
          "output_type": "stream",
          "name": "stdout",
          "text": [
            "Reading package lists... Done\n",
            "Building dependency tree... Done\n",
            "Reading state information... Done\n",
            "The following additional packages will be installed:\n",
            "  intel-oneapi-mkl-classic-devel-2024.1\n",
            "  intel-oneapi-mkl-classic-include-2024.1\n",
            "  intel-oneapi-mkl-classic-include-common-2024.1\n",
            "  intel-oneapi-mkl-cluster-devel-2024.1\n",
            "  intel-oneapi-mkl-cluster-devel-common-2024.1\n",
            "  intel-oneapi-mkl-core-devel-2024.1 intel-oneapi-mkl-core-devel-common-2024.1\n",
            "  intel-oneapi-mkl-devel-2024.1 intel-oneapi-mkl-sycl-devel-2024.1\n",
            "  intel-oneapi-mkl-sycl-devel-common-2024.1\n",
            "  intel-oneapi-mkl-sycl-include-2024.1\n",
            "The following NEW packages will be installed:\n",
            "  intel-oneapi-mkl-classic-devel-2024.1\n",
            "  intel-oneapi-mkl-classic-include-2024.1\n",
            "  intel-oneapi-mkl-classic-include-common-2024.1\n",
            "  intel-oneapi-mkl-cluster-devel-2024.1\n",
            "  intel-oneapi-mkl-cluster-devel-common-2024.1\n",
            "  intel-oneapi-mkl-core-devel-2024.1 intel-oneapi-mkl-core-devel-common-2024.1\n",
            "  intel-oneapi-mkl-devel intel-oneapi-mkl-devel-2024.1\n",
            "  intel-oneapi-mkl-sycl-devel-2024.1 intel-oneapi-mkl-sycl-devel-common-2024.1\n",
            "  intel-oneapi-mkl-sycl-include-2024.1\n",
            "0 upgraded, 12 newly installed, 0 to remove and 51 not upgraded.\n",
            "Need to get 173 MB of archives.\n",
            "After this operation, 1,891 MB of additional disk space will be used.\n",
            "Get:1 https://apt.repos.intel.com/oneapi all/main all intel-oneapi-mkl-classic-include-common-2024.1 all 2024.1.0-691 [553 kB]\n",
            "Get:2 https://apt.repos.intel.com/oneapi all/main amd64 intel-oneapi-mkl-classic-include-2024.1 amd64 2024.1.0-691 [102 kB]\n",
            "Get:3 https://apt.repos.intel.com/oneapi all/main all intel-oneapi-mkl-core-devel-common-2024.1 all 2024.1.0-691 [2,957 kB]\n",
            "Get:4 https://apt.repos.intel.com/oneapi all/main amd64 intel-oneapi-mkl-core-devel-2024.1 amd64 2024.1.0-691 [97.1 MB]\n",
            "Get:5 https://apt.repos.intel.com/oneapi all/main all intel-oneapi-mkl-cluster-devel-common-2024.1 all 2024.1.0-691 [70.9 kB]\n",
            "Get:6 https://apt.repos.intel.com/oneapi all/main amd64 intel-oneapi-mkl-cluster-devel-2024.1 amd64 2024.1.0-691 [3,943 kB]\n",
            "Get:7 https://apt.repos.intel.com/oneapi all/main amd64 intel-oneapi-mkl-classic-devel-2024.1 amd64 2024.1.0-691 [2,124 B]\n",
            "Get:8 https://apt.repos.intel.com/oneapi all/main all intel-oneapi-mkl-sycl-devel-common-2024.1 all 2024.1.0-691 [1,235 kB]\n",
            "Get:9 https://apt.repos.intel.com/oneapi all/main amd64 intel-oneapi-mkl-sycl-include-2024.1 amd64 2024.1.0-691 [121 kB]\n",
            "Get:10 https://apt.repos.intel.com/oneapi all/main amd64 intel-oneapi-mkl-sycl-devel-2024.1 amd64 2024.1.0-691 [66.4 MB]\n",
            "Get:11 https://apt.repos.intel.com/oneapi all/main amd64 intel-oneapi-mkl-devel-2024.1 amd64 2024.1.0-691 [2,104 B]\n",
            "Get:12 https://apt.repos.intel.com/oneapi all/main amd64 intel-oneapi-mkl-devel amd64 2024.1.0-691 [2,052 B]\n",
            "Fetched 173 MB in 3s (62.6 MB/s)\n",
            "debconf: unable to initialize frontend: Dialog\n",
            "debconf: (No usable dialog-like program is installed, so the dialog based frontend cannot be used. at /usr/share/perl5/Debconf/FrontEnd/Dialog.pm line 78, <> line 12.)\n",
            "debconf: falling back to frontend: Readline\n",
            "debconf: unable to initialize frontend: Readline\n",
            "debconf: (This frontend requires a controlling tty.)\n",
            "debconf: falling back to frontend: Teletype\n",
            "dpkg-preconfigure: unable to re-open stdin: \n",
            "Selecting previously unselected package intel-oneapi-mkl-classic-include-common-2024.1.\n",
            "(Reading database ... 122502 files and directories currently installed.)\n",
            "Preparing to unpack .../00-intel-oneapi-mkl-classic-include-common-2024.1_2024.1.0-691_all.deb ...\n",
            "Unpacking intel-oneapi-mkl-classic-include-common-2024.1 (2024.1.0-691) ...\n",
            "Selecting previously unselected package intel-oneapi-mkl-classic-include-2024.1.\n",
            "Preparing to unpack .../01-intel-oneapi-mkl-classic-include-2024.1_2024.1.0-691_amd64.deb ...\n",
            "Unpacking intel-oneapi-mkl-classic-include-2024.1 (2024.1.0-691) ...\n",
            "Selecting previously unselected package intel-oneapi-mkl-core-devel-common-2024.1.\n",
            "Preparing to unpack .../02-intel-oneapi-mkl-core-devel-common-2024.1_2024.1.0-691_all.deb ...\n",
            "Unpacking intel-oneapi-mkl-core-devel-common-2024.1 (2024.1.0-691) ...\n",
            "Selecting previously unselected package intel-oneapi-mkl-core-devel-2024.1.\n",
            "Preparing to unpack .../03-intel-oneapi-mkl-core-devel-2024.1_2024.1.0-691_amd64.deb ...\n",
            "Unpacking intel-oneapi-mkl-core-devel-2024.1 (2024.1.0-691) ...\n",
            "Selecting previously unselected package intel-oneapi-mkl-cluster-devel-common-2024.1.\n",
            "Preparing to unpack .../04-intel-oneapi-mkl-cluster-devel-common-2024.1_2024.1.0-691_all.deb ...\n",
            "Unpacking intel-oneapi-mkl-cluster-devel-common-2024.1 (2024.1.0-691) ...\n",
            "Selecting previously unselected package intel-oneapi-mkl-cluster-devel-2024.1.\n",
            "Preparing to unpack .../05-intel-oneapi-mkl-cluster-devel-2024.1_2024.1.0-691_amd64.deb ...\n",
            "Unpacking intel-oneapi-mkl-cluster-devel-2024.1 (2024.1.0-691) ...\n",
            "Selecting previously unselected package intel-oneapi-mkl-classic-devel-2024.1.\n",
            "Preparing to unpack .../06-intel-oneapi-mkl-classic-devel-2024.1_2024.1.0-691_amd64.deb ...\n",
            "Unpacking intel-oneapi-mkl-classic-devel-2024.1 (2024.1.0-691) ...\n",
            "Selecting previously unselected package intel-oneapi-mkl-sycl-devel-common-2024.1.\n",
            "Preparing to unpack .../07-intel-oneapi-mkl-sycl-devel-common-2024.1_2024.1.0-691_all.deb ...\n",
            "Unpacking intel-oneapi-mkl-sycl-devel-common-2024.1 (2024.1.0-691) ...\n",
            "Selecting previously unselected package intel-oneapi-mkl-sycl-include-2024.1.\n",
            "Preparing to unpack .../08-intel-oneapi-mkl-sycl-include-2024.1_2024.1.0-691_amd64.deb ...\n",
            "Unpacking intel-oneapi-mkl-sycl-include-2024.1 (2024.1.0-691) ...\n",
            "Selecting previously unselected package intel-oneapi-mkl-sycl-devel-2024.1.\n",
            "Preparing to unpack .../09-intel-oneapi-mkl-sycl-devel-2024.1_2024.1.0-691_amd64.deb ...\n",
            "Unpacking intel-oneapi-mkl-sycl-devel-2024.1 (2024.1.0-691) ...\n",
            "Selecting previously unselected package intel-oneapi-mkl-devel-2024.1.\n",
            "Preparing to unpack .../10-intel-oneapi-mkl-devel-2024.1_2024.1.0-691_amd64.deb ...\n",
            "Unpacking intel-oneapi-mkl-devel-2024.1 (2024.1.0-691) ...\n",
            "Selecting previously unselected package intel-oneapi-mkl-devel.\n",
            "Preparing to unpack .../11-intel-oneapi-mkl-devel_2024.1.0-691_amd64.deb ...\n",
            "Unpacking intel-oneapi-mkl-devel (2024.1.0-691) ...\n",
            "Setting up intel-oneapi-mkl-cluster-devel-common-2024.1 (2024.1.0-691) ...\n",
            "Setting up intel-oneapi-mkl-sycl-devel-common-2024.1 (2024.1.0-691) ...\n",
            "Setting up intel-oneapi-mkl-classic-include-common-2024.1 (2024.1.0-691) ...\n",
            "Setting up intel-oneapi-mkl-core-devel-common-2024.1 (2024.1.0-691) ...\n",
            "Setting up intel-oneapi-mkl-classic-include-2024.1 (2024.1.0-691) ...\n",
            "Setting up intel-oneapi-mkl-sycl-include-2024.1 (2024.1.0-691) ...\n",
            "Setting up intel-oneapi-mkl-core-devel-2024.1 (2024.1.0-691) ...\n",
            "Setting up intel-oneapi-mkl-sycl-devel-2024.1 (2024.1.0-691) ...\n",
            "Setting up intel-oneapi-mkl-cluster-devel-2024.1 (2024.1.0-691) ...\n",
            "Setting up intel-oneapi-mkl-classic-devel-2024.1 (2024.1.0-691) ...\n",
            "Setting up intel-oneapi-mkl-devel-2024.1 (2024.1.0-691) ...\n",
            "Setting up intel-oneapi-mkl-devel (2024.1.0-691) ...\n"
          ]
        }
      ]
    },
    {
      "cell_type": "code",
      "source": [
        "!ls /opt/intel/oneapi"
      ],
      "metadata": {
        "colab": {
          "base_uri": "https://localhost:8080/"
        },
        "id": "BfGgidoV5AGd",
        "outputId": "c3b8a1b5-d38c-4bdf-9422-607ca69f08d7"
      },
      "execution_count": null,
      "outputs": [
        {
          "output_type": "stream",
          "name": "stdout",
          "text": [
            "common\tcompiler  licensing  mkl  modulefiles-setup.sh\tsetvars.sh  support.txt  tbb  tcm\n"
          ]
        }
      ]
    },
    {
      "cell_type": "code",
      "source": [
        "!ls /opt/intel/oneapi/compiler/latest/bin/compiler"
      ],
      "metadata": {
        "colab": {
          "base_uri": "https://localhost:8080/"
        },
        "id": "Iu9jPFwe6qCu",
        "outputId": "b125235c-9c14-4976-97f2-e9737450293b"
      },
      "execution_count": null,
      "outputs": [
        {
          "output_type": "stream",
          "name": "stdout",
          "text": [
            "llvm-ar   llvm-foreach\tllvm-ml  llvm-objcopy\tllvm-profgen  llvm-spirv\n",
            "llvm-cov  llvm-link\tllvm-nm  llvm-profdata\tllvm-ranlib   llvm-symbolizer\n"
          ]
        }
      ]
    },
    {
      "cell_type": "code",
      "source": [
        "!source /opt/intel/oneapi/setvars.sh intel64"
      ],
      "metadata": {
        "colab": {
          "base_uri": "https://localhost:8080/"
        },
        "id": "BvFTuQwY5WlG",
        "outputId": "4aa22a01-93f7-47e2-9f9c-b1f68e1b36af"
      },
      "execution_count": null,
      "outputs": [
        {
          "output_type": "stream",
          "name": "stdout",
          "text": [
            " \n",
            ":: initializing oneAPI environment ...\n",
            "   bash: BASH_VERSION = 5.1.16(1)-release\n",
            "   args: Using \"$@\" for setvars.sh arguments: intel64\n",
            ":: compiler -- latest\n",
            ":: mkl -- latest\n",
            ":: tbb -- latest\n",
            ":: oneAPI environment initialized ::\n",
            " \n"
          ]
        }
      ]
    },
    {
      "cell_type": "code",
      "source": [
        "!source /opt/intel/oneapi/setvars.sh intel64"
      ],
      "metadata": {
        "colab": {
          "base_uri": "https://localhost:8080/"
        },
        "id": "GoZTeOlq_Mx3",
        "outputId": "3186e751-1762-44e7-fe69-492f6cd94f35"
      },
      "execution_count": null,
      "outputs": [
        {
          "output_type": "stream",
          "name": "stdout",
          "text": [
            " \n",
            ":: initializing oneAPI environment ...\n",
            "   bash: BASH_VERSION = 5.1.16(1)-release\n",
            "   args: Using \"$@\" for setvars.sh arguments: intel64\n",
            ":: advisor -- latest\n",
            ":: ccl -- latest\n",
            ":: compiler -- latest\n",
            ":: dal -- latest\n",
            ":: debugger -- latest\n",
            ":: dev-utilities -- latest\n",
            ":: dnnl -- latest\n",
            ":: dpcpp-ct -- latest\n",
            ":: dpl -- latest\n",
            ":: ipp -- latest\n",
            ":: ippcp -- latest\n",
            ":: mkl -- latest\n",
            ":: mpi -- latest\n",
            ":: tbb -- latest\n",
            ":: vtune -- latest\n",
            ":: oneAPI environment initialized ::\n",
            " \n"
          ]
        }
      ]
    },
    {
      "cell_type": "code",
      "source": [
        "!ls /opt/intel/oneapi/mkl/latest/env"
      ],
      "metadata": {
        "colab": {
          "base_uri": "https://localhost:8080/"
        },
        "id": "Vnf0XhYk7c2L",
        "outputId": "a870dbf9-2d5f-41ec-ef60-1fb615cbeb37"
      },
      "execution_count": null,
      "outputs": [
        {
          "output_type": "stream",
          "name": "stdout",
          "text": [
            "vars.sh\n"
          ]
        }
      ]
    },
    {
      "cell_type": "code",
      "source": [
        "!source /opt/intel/oneapi/mkl/latest/env/vars.sh"
      ],
      "metadata": {
        "id": "V77WQyQO7igG"
      },
      "execution_count": null,
      "outputs": []
    },
    {
      "cell_type": "code",
      "source": [
        "!env | grep SETVARS_COMPLETED"
      ],
      "metadata": {
        "id": "kkCUW0yQ5uF3"
      },
      "execution_count": null,
      "outputs": []
    },
    {
      "cell_type": "code",
      "source": [
        "!ls /opt/intel/oneapi/mkl/latest"
      ],
      "metadata": {
        "colab": {
          "base_uri": "https://localhost:8080/"
        },
        "id": "CUj8lxLN5Z4T",
        "outputId": "c8757a65-93f0-40ce-efe9-bd99e0eb56d7"
      },
      "execution_count": null,
      "outputs": [
        {
          "output_type": "stream",
          "name": "stdout",
          "text": [
            "bin  env  etc  include\tlib  share\n"
          ]
        }
      ]
    },
    {
      "cell_type": "markdown",
      "source": [
        "Intel linker advisor: https://www.intel.com/content/www/us/en/developer/tools/oneapi/onemkl-link-line-advisor.html#gs.8nzptm"
      ],
      "metadata": {
        "id": "SAlatt_M9gtU"
      }
    },
    {
      "cell_type": "code",
      "source": [
        "!gcc -o mkl_example mkl_example.c -I/opt/intel/oneapi/mkl/latest/include -L/opt/intel/oneapi/mkl/latest/lib/intel64 -lmkl_intel_lp64 -lmkl_intel_thread -lmkl_core -liomp5 -lpthread -lm -ldl"
      ],
      "metadata": {
        "id": "aXLcV2x_7QYY"
      },
      "execution_count": null,
      "outputs": []
    },
    {
      "cell_type": "markdown",
      "source": [
        "`-I$MKLROOT/include`:\n",
        "Specifies an additional include directory where the compiler should search for header files.\n",
        "$MKLROOT/include points to the directory containing Intel MKL header files (such as mkl.h)."
      ],
      "metadata": {
        "id": "LtGJuFoj9v_g"
      }
    },
    {
      "cell_type": "markdown",
      "source": [
        "`-L$MKLROOT/lib/intel64`:\n",
        "Specifies an additional library directory where the linker should search for libraries.\n",
        "$MKLROOT/lib/intel64 points to the directory containing Intel MKL libraries."
      ],
      "metadata": {
        "id": "3a5Lj1RX92a7"
      }
    },
    {
      "cell_type": "markdown",
      "source": [
        "`-lmkl_intel_lp64 -lmkl_intel_thread -lmkl_core -liomp5`:\n",
        "These options link your program with specific Intel MKL libraries:\n",
        "libmkl_intel_lp64: Intel MKL LP64 interface (64-bit integers).\n",
        "libmkl_intel_thread: Intel MKL threading support.\n",
        "libmkl_core: Intel MKL core functionality.\n",
        "libiomp5: Intel OpenMP runtime library."
      ],
      "metadata": {
        "id": "mfNi-5Lq97dW"
      }
    },
    {
      "cell_type": "markdown",
      "source": [
        "`-lpthread -lm -ldl`:\n",
        "These options link your program with standard system libraries:\n",
        "-lpthread: Links with the POSIX threads library (for multithreading support).\n",
        "-lm: Links with the math library (for mathematical functions).\n",
        "-ldl: Links with the dynamic loading library (for dynamic loading of shared libraries"
      ],
      "metadata": {
        "id": "fXU-I_Pa-B9m"
      }
    },
    {
      "cell_type": "code",
      "source": [
        "!./mkl_example 1000"
      ],
      "metadata": {
        "colab": {
          "base_uri": "https://localhost:8080/"
        },
        "id": "HR60rK9m9JkI",
        "outputId": "71a8d42c-9698-47ef-dddc-553210238f7b"
      },
      "execution_count": null,
      "outputs": [
        {
          "output_type": "stream",
          "name": "stdout",
          "text": [
            "n = 1000\n",
            "52.09 milliseconds\n",
            "Speed:\tn = 1000, 38.395 Gflop/s\n",
            "[-7.10, -0.55]\n",
            "[-5.90, -1.15]\n"
          ]
        }
      ]
    },
    {
      "cell_type": "markdown",
      "source": [
        "##Intel oneAPI DPC++/C++ Compiler in OneAPI basekit"
      ],
      "metadata": {
        "id": "dZcgTJ38_61e"
      }
    },
    {
      "cell_type": "markdown",
      "source": [
        "The Intel® oneAPI DPC++/C++ Compiler is available as part of the Intel® oneAPI Base Toolkit, Intel® HPC Toolkit, Intel® oneAPI IoT Toolkit, or as a standalone compiler."
      ],
      "metadata": {
        "id": "nNIwfJjpIY-u"
      }
    },
    {
      "cell_type": "code",
      "source": [
        "!sudo apt install intel-basekit"
      ],
      "metadata": {
        "colab": {
          "base_uri": "https://localhost:8080/"
        },
        "id": "h4oRsZ1S_84p",
        "outputId": "d925888d-05c8-4c10-8695-f18ff812d0be"
      },
      "execution_count": null,
      "outputs": [
        {
          "output_type": "stream",
          "name": "stdout",
          "text": [
            "Reading package lists... Done\n",
            "Building dependency tree... Done\n",
            "Reading state information... Done\n",
            "The following additional packages will be installed:\n",
            "  intel-basekit-env-2024.1 intel-basekit-getting-started-2024.1\n",
            "  intel-oneapi-advisor intel-oneapi-ccl-2021.12 intel-oneapi-ccl-devel\n",
            "  intel-oneapi-ccl-devel-2021.12 intel-oneapi-common-licensing\n",
            "  intel-oneapi-common-oneapi-vars intel-oneapi-compiler-cpp-eclipse-cfg-2024.1\n",
            "  intel-oneapi-compiler-dpcpp-cpp intel-oneapi-compiler-dpcpp-cpp-2024.1\n",
            "  intel-oneapi-compiler-dpcpp-cpp-common-2024.1\n",
            "  intel-oneapi-compiler-dpcpp-eclipse-cfg-2024.1\n",
            "  intel-oneapi-compiler-shared-2024.1\n",
            "  intel-oneapi-compiler-shared-common-2024.1 intel-oneapi-dal-2024.2\n",
            "  intel-oneapi-dal-common-2024.2 intel-oneapi-dal-common-devel-2024.2\n",
            "  intel-oneapi-dal-devel intel-oneapi-dal-devel-2024.2\n",
            "  intel-oneapi-dev-utilities intel-oneapi-dev-utilities-2024.1\n",
            "  intel-oneapi-dev-utilities-eclipse-cfg-2024.1\n",
            "  intel-oneapi-diagnostics-utility intel-oneapi-diagnostics-utility-2024.1\n",
            "  intel-oneapi-dnnl intel-oneapi-dnnl-2024.1 intel-oneapi-dnnl-devel\n",
            "  intel-oneapi-dnnl-devel-2024.1 intel-oneapi-dpcpp-cpp-2024.1\n",
            "  intel-oneapi-dpcpp-ct intel-oneapi-dpcpp-ct-2024.1\n",
            "  intel-oneapi-dpcpp-ct-eclipse-cfg-2024.1 intel-oneapi-dpcpp-debugger-2024.1\n",
            "  intel-oneapi-icc-eclipse-plugin-cpp-2024.1 intel-oneapi-ipp-2021.11\n",
            "  intel-oneapi-ipp-common-2021.11 intel-oneapi-ipp-common-devel-2021.11\n",
            "  intel-oneapi-ipp-devel intel-oneapi-ipp-devel-2021.11\n",
            "  intel-oneapi-ippcp-2021.11 intel-oneapi-ippcp-common-2021.11\n",
            "  intel-oneapi-ippcp-common-devel-2021.11 intel-oneapi-ippcp-devel\n",
            "  intel-oneapi-ippcp-devel-2021.11 intel-oneapi-libdpstd-devel-2022.5\n",
            "  intel-oneapi-mpi-2021.12 intel-oneapi-mpi-devel-2021.12\n",
            "  intel-oneapi-tbb-common-devel-2021.12 intel-oneapi-tbb-devel\n",
            "  intel-oneapi-tbb-devel-2021.12 intel-oneapi-tlt intel-oneapi-tlt-2024.1\n",
            "  intel-oneapi-vtune\n",
            "The following NEW packages will be installed:\n",
            "  intel-basekit intel-basekit-env-2024.1 intel-basekit-getting-started-2024.1\n",
            "  intel-oneapi-advisor intel-oneapi-ccl-2021.12 intel-oneapi-ccl-devel\n",
            "  intel-oneapi-ccl-devel-2021.12 intel-oneapi-common-licensing\n",
            "  intel-oneapi-common-oneapi-vars intel-oneapi-compiler-cpp-eclipse-cfg-2024.1\n",
            "  intel-oneapi-compiler-dpcpp-cpp intel-oneapi-compiler-dpcpp-cpp-2024.1\n",
            "  intel-oneapi-compiler-dpcpp-cpp-common-2024.1\n",
            "  intel-oneapi-compiler-dpcpp-eclipse-cfg-2024.1\n",
            "  intel-oneapi-compiler-shared-2024.1\n",
            "  intel-oneapi-compiler-shared-common-2024.1 intel-oneapi-dal-2024.2\n",
            "  intel-oneapi-dal-common-2024.2 intel-oneapi-dal-common-devel-2024.2\n",
            "  intel-oneapi-dal-devel intel-oneapi-dal-devel-2024.2\n",
            "  intel-oneapi-dev-utilities intel-oneapi-dev-utilities-2024.1\n",
            "  intel-oneapi-dev-utilities-eclipse-cfg-2024.1\n",
            "  intel-oneapi-diagnostics-utility intel-oneapi-diagnostics-utility-2024.1\n",
            "  intel-oneapi-dnnl intel-oneapi-dnnl-2024.1 intel-oneapi-dnnl-devel\n",
            "  intel-oneapi-dnnl-devel-2024.1 intel-oneapi-dpcpp-cpp-2024.1\n",
            "  intel-oneapi-dpcpp-ct intel-oneapi-dpcpp-ct-2024.1\n",
            "  intel-oneapi-dpcpp-ct-eclipse-cfg-2024.1 intel-oneapi-dpcpp-debugger-2024.1\n",
            "  intel-oneapi-icc-eclipse-plugin-cpp-2024.1 intel-oneapi-ipp-2021.11\n",
            "  intel-oneapi-ipp-common-2021.11 intel-oneapi-ipp-common-devel-2021.11\n",
            "  intel-oneapi-ipp-devel intel-oneapi-ipp-devel-2021.11\n",
            "  intel-oneapi-ippcp-2021.11 intel-oneapi-ippcp-common-2021.11\n",
            "  intel-oneapi-ippcp-common-devel-2021.11 intel-oneapi-ippcp-devel\n",
            "  intel-oneapi-ippcp-devel-2021.11 intel-oneapi-libdpstd-devel-2022.5\n",
            "  intel-oneapi-mpi-2021.12 intel-oneapi-mpi-devel-2021.12\n",
            "  intel-oneapi-tbb-common-devel-2021.12 intel-oneapi-tbb-devel\n",
            "  intel-oneapi-tbb-devel-2021.12 intel-oneapi-tlt intel-oneapi-tlt-2024.1\n",
            "  intel-oneapi-vtune\n",
            "0 upgraded, 55 newly installed, 0 to remove and 51 not upgraded.\n",
            "Need to get 2,037 MB of archives.\n",
            "After this operation, 9,636 MB of additional disk space will be used.\n",
            "Get:1 https://apt.repos.intel.com/oneapi all/main amd64 intel-oneapi-tlt-2024.1 amd64 2024.1.0-447 [130 kB]\n",
            "Get:2 https://apt.repos.intel.com/oneapi all/main all intel-basekit-env-2024.1 all 2024.1.0-589 [2,460 B]\n",
            "Get:3 https://apt.repos.intel.com/oneapi all/main all intel-basekit-getting-started-2024.1 all 2024.1.0-589 [4,554 B]\n",
            "Get:4 https://apt.repos.intel.com/oneapi all/main all intel-oneapi-common-licensing all 2024.1.0-579 [1,716 B]\n",
            "Get:5 https://apt.repos.intel.com/oneapi all/main all intel-oneapi-common-oneapi-vars all 2024.1.0-579 [1,732 B]\n",
            "Get:6 https://apt.repos.intel.com/oneapi all/main amd64 intel-oneapi-tlt amd64 2024.1.0-447 [1,716 B]\n",
            "Get:7 https://apt.repos.intel.com/oneapi all/main all intel-oneapi-dpcpp-ct-eclipse-cfg-2024.1 all 2024.1.0-374 [2,808 B]\n",
            "Get:8 https://apt.repos.intel.com/oneapi all/main amd64 intel-oneapi-dpcpp-ct-2024.1 amd64 2024.1.0-374 [35.0 MB]\n",
            "Get:9 https://apt.repos.intel.com/oneapi all/main amd64 intel-oneapi-dpcpp-ct amd64 2024.1.0-374 [2,016 B]\n",
            "Get:10 https://apt.repos.intel.com/oneapi all/main all intel-oneapi-dev-utilities-eclipse-cfg-2024.1 all 2024.1.0-340 [2,808 B]\n",
            "Get:11 https://apt.repos.intel.com/oneapi all/main amd64 intel-oneapi-dev-utilities-2024.1 amd64 2024.1.0-340 [9,049 kB]\n",
            "Get:12 https://apt.repos.intel.com/oneapi all/main amd64 intel-oneapi-dev-utilities amd64 2024.1.0-340 [2,008 B]\n",
            "Get:13 https://apt.repos.intel.com/oneapi all/main amd64 intel-oneapi-libdpstd-devel-2022.5 amd64 2022.5.0-215 [303 kB]\n",
            "Get:14 https://apt.repos.intel.com/oneapi all/main amd64 intel-oneapi-diagnostics-utility-2024.1 amd64 2024.1.0-256 [221 kB]\n",
            "Get:15 https://apt.repos.intel.com/oneapi all/main amd64 intel-oneapi-diagnostics-utility amd64 2024.1.0-256 [1,736 B]\n",
            "Get:16 https://apt.repos.intel.com/oneapi all/main all intel-oneapi-tbb-common-devel-2021.12 all 2021.12.0-495 [184 kB]\n",
            "Get:17 https://apt.repos.intel.com/oneapi all/main amd64 intel-oneapi-tbb-devel-2021.12 amd64 2021.12.0-495 [1,051 kB]\n",
            "Get:18 https://apt.repos.intel.com/oneapi all/main amd64 intel-oneapi-tbb-devel amd64 2021.12.0-495 [2,508 B]\n",
            "Get:19 https://apt.repos.intel.com/oneapi all/main amd64 intel-oneapi-mpi-2021.12 amd64 2021.12.1-5 [33.0 MB]\n",
            "Get:20 https://apt.repos.intel.com/oneapi all/main amd64 intel-oneapi-mpi-devel-2021.12 amd64 2021.12.1-5 [41.0 MB]\n",
            "Get:21 https://apt.repos.intel.com/oneapi all/main amd64 intel-oneapi-ccl-2021.12 amd64 2021.12.0-309 [7,814 kB]\n",
            "Get:22 https://apt.repos.intel.com/oneapi all/main amd64 intel-oneapi-ccl-devel-2021.12 amd64 2021.12.0-309 [5,076 kB]\n",
            "Get:23 https://apt.repos.intel.com/oneapi all/main amd64 intel-oneapi-ccl-devel amd64 2021.12.0-309 [1,736 B]\n",
            "Get:24 https://apt.repos.intel.com/oneapi all/main all intel-oneapi-compiler-dpcpp-eclipse-cfg-2024.1 all 2024.1.0-963 [2,476 B]\n",
            "Get:25 https://apt.repos.intel.com/oneapi all/main all intel-oneapi-compiler-cpp-eclipse-cfg-2024.1 all 2024.1.0-963 [2,812 B]\n",
            "Get:26 https://apt.repos.intel.com/oneapi all/main all intel-oneapi-icc-eclipse-plugin-cpp-2024.1 all 2024.1.0-963 [2,072 B]\n",
            "Get:27 https://apt.repos.intel.com/oneapi all/main all intel-oneapi-compiler-dpcpp-cpp-common-2024.1 all 2024.1.0-963 [1,639 kB]\n",
            "Get:28 https://apt.repos.intel.com/oneapi all/main all intel-oneapi-compiler-shared-common-2024.1 all 2024.1.0-963 [55.8 MB]\n",
            "Get:29 https://apt.repos.intel.com/oneapi all/main amd64 intel-oneapi-dpcpp-debugger-2024.1 amd64 2024.1.0-435 [211 MB]\n",
            "Get:30 https://apt.repos.intel.com/oneapi all/main amd64 intel-oneapi-compiler-shared-2024.1 amd64 2024.1.0-963 [15.8 MB]\n",
            "Get:31 https://apt.repos.intel.com/oneapi all/main amd64 intel-oneapi-dpcpp-cpp-2024.1 amd64 2024.1.0-963 [456 MB]\n",
            "Get:32 https://apt.repos.intel.com/oneapi all/main amd64 intel-oneapi-compiler-dpcpp-cpp-2024.1 amd64 2024.1.0-963 [1,780 B]\n",
            "Get:33 https://apt.repos.intel.com/oneapi all/main amd64 intel-oneapi-compiler-dpcpp-cpp amd64 2024.1.0-963 [1,768 B]\n",
            "Get:34 https://apt.repos.intel.com/oneapi all/main all intel-oneapi-dal-common-2024.2 all 2024.2.0-276 [29.0 kB]\n",
            "Get:35 https://apt.repos.intel.com/oneapi all/main amd64 intel-oneapi-dal-2024.2 amd64 2024.2.0-276 [31.4 MB]\n",
            "Get:36 https://apt.repos.intel.com/oneapi all/main all intel-oneapi-dal-common-devel-2024.2 all 2024.2.0-276 [10.2 MB]\n",
            "Get:37 https://apt.repos.intel.com/oneapi all/main amd64 intel-oneapi-dal-devel-2024.2 amd64 2024.2.0-276 [69.7 MB]\n",
            "Get:38 https://apt.repos.intel.com/oneapi all/main amd64 intel-oneapi-dal-devel amd64 2024.2.0-276 [2,508 B]\n",
            "Get:39 https://apt.repos.intel.com/oneapi all/main all intel-oneapi-ipp-common-2021.11 all 2021.11.0-528 [11.5 kB]\n",
            "Get:40 https://apt.repos.intel.com/oneapi all/main amd64 intel-oneapi-ipp-2021.11 amd64 2021.11.0-528 [86.6 MB]\n",
            "Get:41 https://apt.repos.intel.com/oneapi all/main all intel-oneapi-ipp-common-devel-2021.11 all 2021.11.0-528 [3,594 kB]\n",
            "Get:42 https://apt.repos.intel.com/oneapi all/main amd64 intel-oneapi-ipp-devel-2021.11 amd64 2021.11.0-528 [133 MB]\n",
            "Get:43 https://apt.repos.intel.com/oneapi all/main amd64 intel-oneapi-ipp-devel amd64 2021.11.0-528 [2,032 B]\n",
            "Get:44 https://apt.repos.intel.com/oneapi all/main all intel-oneapi-ippcp-common-2021.11 all 2021.11.0-33 [11.0 kB]\n",
            "Get:45 https://apt.repos.intel.com/oneapi all/main amd64 intel-oneapi-ippcp-2021.11 amd64 2021.11.0-33 [3,819 kB]\n",
            "Get:46 https://apt.repos.intel.com/oneapi all/main all intel-oneapi-ippcp-common-devel-2021.11 all 2021.11.0-33 [156 kB]\n",
            "Get:47 https://apt.repos.intel.com/oneapi all/main amd64 intel-oneapi-ippcp-devel-2021.11 amd64 2021.11.0-33 [8,091 kB]\n",
            "Get:48 https://apt.repos.intel.com/oneapi all/main amd64 intel-oneapi-ippcp-devel amd64 2021.11.0-33 [2,520 B]\n",
            "Get:49 https://apt.repos.intel.com/oneapi all/main amd64 intel-oneapi-advisor amd64 2024.1.0-499 [242 MB]\n",
            "Get:50 https://apt.repos.intel.com/oneapi all/main amd64 intel-oneapi-vtune amd64 2024.1.0-515 [561 MB]\n",
            "Get:51 https://apt.repos.intel.com/oneapi all/main amd64 intel-oneapi-dnnl-2024.1 amd64 2024.1.1-13 [13.7 MB]\n",
            "Get:52 https://apt.repos.intel.com/oneapi all/main amd64 intel-oneapi-dnnl amd64 2024.1.1-13 [1,728 B]\n",
            "Get:53 https://apt.repos.intel.com/oneapi all/main amd64 intel-oneapi-dnnl-devel-2024.1 amd64 2024.1.1-13 [156 kB]\n",
            "Get:54 https://apt.repos.intel.com/oneapi all/main amd64 intel-oneapi-dnnl-devel amd64 2024.1.1-13 [1,744 B]\n",
            "Get:55 https://apt.repos.intel.com/oneapi all/main amd64 intel-basekit amd64 2024.1.0-589 [2,276 B]\n",
            "Fetched 2,037 MB in 36s (56.0 MB/s)\n",
            "debconf: unable to initialize frontend: Dialog\n",
            "debconf: (No usable dialog-like program is installed, so the dialog based frontend cannot be used. at /usr/share/perl5/Debconf/FrontEnd/Dialog.pm line 78, <> line 55.)\n",
            "debconf: falling back to frontend: Readline\n",
            "debconf: unable to initialize frontend: Readline\n",
            "debconf: (This frontend requires a controlling tty.)\n",
            "debconf: falling back to frontend: Teletype\n",
            "dpkg-preconfigure: unable to re-open stdin: \n",
            "Selecting previously unselected package intel-oneapi-tlt-2024.1.\n",
            "(Reading database ... 124981 files and directories currently installed.)\n",
            "Preparing to unpack .../00-intel-oneapi-tlt-2024.1_2024.1.0-447_amd64.deb ...\n",
            "Unpacking intel-oneapi-tlt-2024.1 (2024.1.0-447) ...\n",
            "Selecting previously unselected package intel-basekit-env-2024.1.\n",
            "Preparing to unpack .../01-intel-basekit-env-2024.1_2024.1.0-589_all.deb ...\n",
            "Unpacking intel-basekit-env-2024.1 (2024.1.0-589) ...\n",
            "Selecting previously unselected package intel-basekit-getting-started-2024.1.\n",
            "Preparing to unpack .../02-intel-basekit-getting-started-2024.1_2024.1.0-589_all.deb ...\n",
            "Unpacking intel-basekit-getting-started-2024.1 (2024.1.0-589) ...\n",
            "Selecting previously unselected package intel-oneapi-common-licensing.\n",
            "Preparing to unpack .../03-intel-oneapi-common-licensing_2024.1.0-579_all.deb ...\n",
            "Unpacking intel-oneapi-common-licensing (2024.1.0-579) ...\n",
            "Selecting previously unselected package intel-oneapi-common-oneapi-vars.\n",
            "Preparing to unpack .../04-intel-oneapi-common-oneapi-vars_2024.1.0-579_all.deb ...\n",
            "Unpacking intel-oneapi-common-oneapi-vars (2024.1.0-579) ...\n",
            "Selecting previously unselected package intel-oneapi-tlt.\n",
            "Preparing to unpack .../05-intel-oneapi-tlt_2024.1.0-447_amd64.deb ...\n",
            "Unpacking intel-oneapi-tlt (2024.1.0-447) ...\n",
            "Selecting previously unselected package intel-oneapi-dpcpp-ct-eclipse-cfg-2024.1.\n",
            "Preparing to unpack .../06-intel-oneapi-dpcpp-ct-eclipse-cfg-2024.1_2024.1.0-374_all.deb ...\n",
            "Unpacking intel-oneapi-dpcpp-ct-eclipse-cfg-2024.1 (2024.1.0-374) ...\n",
            "Selecting previously unselected package intel-oneapi-dpcpp-ct-2024.1.\n",
            "Preparing to unpack .../07-intel-oneapi-dpcpp-ct-2024.1_2024.1.0-374_amd64.deb ...\n",
            "Unpacking intel-oneapi-dpcpp-ct-2024.1 (2024.1.0-374) ...\n",
            "Selecting previously unselected package intel-oneapi-dpcpp-ct.\n",
            "Preparing to unpack .../08-intel-oneapi-dpcpp-ct_2024.1.0-374_amd64.deb ...\n",
            "Unpacking intel-oneapi-dpcpp-ct (2024.1.0-374) ...\n",
            "Selecting previously unselected package intel-oneapi-dev-utilities-eclipse-cfg-2024.1.\n",
            "Preparing to unpack .../09-intel-oneapi-dev-utilities-eclipse-cfg-2024.1_2024.1.0-340_all.deb ...\n",
            "Unpacking intel-oneapi-dev-utilities-eclipse-cfg-2024.1 (2024.1.0-340) ...\n",
            "Selecting previously unselected package intel-oneapi-dev-utilities-2024.1.\n",
            "Preparing to unpack .../10-intel-oneapi-dev-utilities-2024.1_2024.1.0-340_amd64.deb ...\n",
            "Unpacking intel-oneapi-dev-utilities-2024.1 (2024.1.0-340) ...\n",
            "Selecting previously unselected package intel-oneapi-dev-utilities.\n",
            "Preparing to unpack .../11-intel-oneapi-dev-utilities_2024.1.0-340_amd64.deb ...\n",
            "Unpacking intel-oneapi-dev-utilities (2024.1.0-340) ...\n",
            "Selecting previously unselected package intel-oneapi-libdpstd-devel-2022.5.\n",
            "Preparing to unpack .../12-intel-oneapi-libdpstd-devel-2022.5_2022.5.0-215_amd64.deb ...\n",
            "Unpacking intel-oneapi-libdpstd-devel-2022.5 (2022.5.0-215) ...\n",
            "Selecting previously unselected package intel-oneapi-diagnostics-utility-2024.1.\n",
            "Preparing to unpack .../13-intel-oneapi-diagnostics-utility-2024.1_2024.1.0-256_amd64.deb ...\n",
            "Unpacking intel-oneapi-diagnostics-utility-2024.1 (2024.1.0-256) ...\n",
            "Selecting previously unselected package intel-oneapi-diagnostics-utility.\n",
            "Preparing to unpack .../14-intel-oneapi-diagnostics-utility_2024.1.0-256_amd64.deb ...\n",
            "Unpacking intel-oneapi-diagnostics-utility (2024.1.0-256) ...\n",
            "Selecting previously unselected package intel-oneapi-tbb-common-devel-2021.12.\n",
            "Preparing to unpack .../15-intel-oneapi-tbb-common-devel-2021.12_2021.12.0-495_all.deb ...\n",
            "Unpacking intel-oneapi-tbb-common-devel-2021.12 (2021.12.0-495) ...\n",
            "Selecting previously unselected package intel-oneapi-tbb-devel-2021.12.\n",
            "Preparing to unpack .../16-intel-oneapi-tbb-devel-2021.12_2021.12.0-495_amd64.deb ...\n",
            "Unpacking intel-oneapi-tbb-devel-2021.12 (2021.12.0-495) ...\n",
            "Selecting previously unselected package intel-oneapi-tbb-devel.\n",
            "Preparing to unpack .../17-intel-oneapi-tbb-devel_2021.12.0-495_amd64.deb ...\n",
            "Unpacking intel-oneapi-tbb-devel (2021.12.0-495) ...\n",
            "Selecting previously unselected package intel-oneapi-mpi-2021.12.\n",
            "Preparing to unpack .../18-intel-oneapi-mpi-2021.12_2021.12.1-5_amd64.deb ...\n",
            "Unpacking intel-oneapi-mpi-2021.12 (2021.12.1-5) ...\n",
            "Selecting previously unselected package intel-oneapi-mpi-devel-2021.12.\n",
            "Preparing to unpack .../19-intel-oneapi-mpi-devel-2021.12_2021.12.1-5_amd64.deb ...\n",
            "Unpacking intel-oneapi-mpi-devel-2021.12 (2021.12.1-5) ...\n",
            "Selecting previously unselected package intel-oneapi-ccl-2021.12.\n",
            "Preparing to unpack .../20-intel-oneapi-ccl-2021.12_2021.12.0-309_amd64.deb ...\n",
            "Unpacking intel-oneapi-ccl-2021.12 (2021.12.0-309) ...\n",
            "Selecting previously unselected package intel-oneapi-ccl-devel-2021.12.\n",
            "Preparing to unpack .../21-intel-oneapi-ccl-devel-2021.12_2021.12.0-309_amd64.deb ...\n",
            "Unpacking intel-oneapi-ccl-devel-2021.12 (2021.12.0-309) ...\n",
            "Selecting previously unselected package intel-oneapi-ccl-devel.\n",
            "Preparing to unpack .../22-intel-oneapi-ccl-devel_2021.12.0-309_amd64.deb ...\n",
            "Unpacking intel-oneapi-ccl-devel (2021.12.0-309) ...\n",
            "Selecting previously unselected package intel-oneapi-compiler-dpcpp-eclipse-cfg-2024.1.\n",
            "Preparing to unpack .../23-intel-oneapi-compiler-dpcpp-eclipse-cfg-2024.1_2024.1.0-963_all.deb ...\n",
            "Unpacking intel-oneapi-compiler-dpcpp-eclipse-cfg-2024.1 (2024.1.0-963) ...\n",
            "Selecting previously unselected package intel-oneapi-compiler-cpp-eclipse-cfg-2024.1.\n",
            "Preparing to unpack .../24-intel-oneapi-compiler-cpp-eclipse-cfg-2024.1_2024.1.0-963_all.deb ...\n",
            "Unpacking intel-oneapi-compiler-cpp-eclipse-cfg-2024.1 (2024.1.0-963) ...\n",
            "Selecting previously unselected package intel-oneapi-icc-eclipse-plugin-cpp-2024.1.\n",
            "Preparing to unpack .../25-intel-oneapi-icc-eclipse-plugin-cpp-2024.1_2024.1.0-963_all.deb ...\n",
            "Unpacking intel-oneapi-icc-eclipse-plugin-cpp-2024.1 (2024.1.0-963) ...\n",
            "Selecting previously unselected package intel-oneapi-compiler-dpcpp-cpp-common-2024.1.\n",
            "Preparing to unpack .../26-intel-oneapi-compiler-dpcpp-cpp-common-2024.1_2024.1.0-963_all.deb ...\n",
            "Unpacking intel-oneapi-compiler-dpcpp-cpp-common-2024.1 (2024.1.0-963) ...\n",
            "Selecting previously unselected package intel-oneapi-compiler-shared-common-2024.1.\n",
            "Preparing to unpack .../27-intel-oneapi-compiler-shared-common-2024.1_2024.1.0-963_all.deb ...\n",
            "Unpacking intel-oneapi-compiler-shared-common-2024.1 (2024.1.0-963) ...\n",
            "Selecting previously unselected package intel-oneapi-dpcpp-debugger-2024.1.\n",
            "Preparing to unpack .../28-intel-oneapi-dpcpp-debugger-2024.1_2024.1.0-435_amd64.deb ...\n",
            "Unpacking intel-oneapi-dpcpp-debugger-2024.1 (2024.1.0-435) ...\n",
            "Selecting previously unselected package intel-oneapi-compiler-shared-2024.1.\n",
            "Preparing to unpack .../29-intel-oneapi-compiler-shared-2024.1_2024.1.0-963_amd64.deb ...\n",
            "Unpacking intel-oneapi-compiler-shared-2024.1 (2024.1.0-963) ...\n",
            "Selecting previously unselected package intel-oneapi-dpcpp-cpp-2024.1.\n",
            "Preparing to unpack .../30-intel-oneapi-dpcpp-cpp-2024.1_2024.1.0-963_amd64.deb ...\n",
            "Unpacking intel-oneapi-dpcpp-cpp-2024.1 (2024.1.0-963) ...\n",
            "Selecting previously unselected package intel-oneapi-compiler-dpcpp-cpp-2024.1.\n",
            "Preparing to unpack .../31-intel-oneapi-compiler-dpcpp-cpp-2024.1_2024.1.0-963_amd64.deb ...\n",
            "Unpacking intel-oneapi-compiler-dpcpp-cpp-2024.1 (2024.1.0-963) ...\n",
            "Selecting previously unselected package intel-oneapi-compiler-dpcpp-cpp.\n",
            "Preparing to unpack .../32-intel-oneapi-compiler-dpcpp-cpp_2024.1.0-963_amd64.deb ...\n",
            "Unpacking intel-oneapi-compiler-dpcpp-cpp (2024.1.0-963) ...\n",
            "Selecting previously unselected package intel-oneapi-dal-common-2024.2.\n",
            "Preparing to unpack .../33-intel-oneapi-dal-common-2024.2_2024.2.0-276_all.deb ...\n",
            "Unpacking intel-oneapi-dal-common-2024.2 (2024.2.0-276) ...\n",
            "Selecting previously unselected package intel-oneapi-dal-2024.2.\n",
            "Preparing to unpack .../34-intel-oneapi-dal-2024.2_2024.2.0-276_amd64.deb ...\n",
            "Unpacking intel-oneapi-dal-2024.2 (2024.2.0-276) ...\n",
            "Selecting previously unselected package intel-oneapi-dal-common-devel-2024.2.\n",
            "Preparing to unpack .../35-intel-oneapi-dal-common-devel-2024.2_2024.2.0-276_all.deb ...\n",
            "Unpacking intel-oneapi-dal-common-devel-2024.2 (2024.2.0-276) ...\n",
            "Selecting previously unselected package intel-oneapi-dal-devel-2024.2.\n",
            "Preparing to unpack .../36-intel-oneapi-dal-devel-2024.2_2024.2.0-276_amd64.deb ...\n",
            "Unpacking intel-oneapi-dal-devel-2024.2 (2024.2.0-276) ...\n",
            "Selecting previously unselected package intel-oneapi-dal-devel.\n",
            "Preparing to unpack .../37-intel-oneapi-dal-devel_2024.2.0-276_amd64.deb ...\n",
            "Unpacking intel-oneapi-dal-devel (2024.2.0-276) ...\n",
            "Selecting previously unselected package intel-oneapi-ipp-common-2021.11.\n",
            "Preparing to unpack .../38-intel-oneapi-ipp-common-2021.11_2021.11.0-528_all.deb ...\n",
            "Unpacking intel-oneapi-ipp-common-2021.11 (2021.11.0-528) ...\n",
            "Selecting previously unselected package intel-oneapi-ipp-2021.11.\n",
            "Preparing to unpack .../39-intel-oneapi-ipp-2021.11_2021.11.0-528_amd64.deb ...\n",
            "Unpacking intel-oneapi-ipp-2021.11 (2021.11.0-528) ...\n",
            "Selecting previously unselected package intel-oneapi-ipp-common-devel-2021.11.\n",
            "Preparing to unpack .../40-intel-oneapi-ipp-common-devel-2021.11_2021.11.0-528_all.deb ...\n",
            "Unpacking intel-oneapi-ipp-common-devel-2021.11 (2021.11.0-528) ...\n",
            "Selecting previously unselected package intel-oneapi-ipp-devel-2021.11.\n",
            "Preparing to unpack .../41-intel-oneapi-ipp-devel-2021.11_2021.11.0-528_amd64.deb ...\n",
            "Unpacking intel-oneapi-ipp-devel-2021.11 (2021.11.0-528) ...\n",
            "Selecting previously unselected package intel-oneapi-ipp-devel.\n",
            "Preparing to unpack .../42-intel-oneapi-ipp-devel_2021.11.0-528_amd64.deb ...\n",
            "Unpacking intel-oneapi-ipp-devel (2021.11.0-528) ...\n",
            "Selecting previously unselected package intel-oneapi-ippcp-common-2021.11.\n",
            "Preparing to unpack .../43-intel-oneapi-ippcp-common-2021.11_2021.11.0-33_all.deb ...\n",
            "Unpacking intel-oneapi-ippcp-common-2021.11 (2021.11.0-33) ...\n",
            "Selecting previously unselected package intel-oneapi-ippcp-2021.11.\n",
            "Preparing to unpack .../44-intel-oneapi-ippcp-2021.11_2021.11.0-33_amd64.deb ...\n",
            "Unpacking intel-oneapi-ippcp-2021.11 (2021.11.0-33) ...\n",
            "Selecting previously unselected package intel-oneapi-ippcp-common-devel-2021.11.\n",
            "Preparing to unpack .../45-intel-oneapi-ippcp-common-devel-2021.11_2021.11.0-33_all.deb ...\n",
            "Unpacking intel-oneapi-ippcp-common-devel-2021.11 (2021.11.0-33) ...\n",
            "Selecting previously unselected package intel-oneapi-ippcp-devel-2021.11.\n",
            "Preparing to unpack .../46-intel-oneapi-ippcp-devel-2021.11_2021.11.0-33_amd64.deb ...\n",
            "Unpacking intel-oneapi-ippcp-devel-2021.11 (2021.11.0-33) ...\n",
            "Selecting previously unselected package intel-oneapi-ippcp-devel.\n",
            "Preparing to unpack .../47-intel-oneapi-ippcp-devel_2021.11.0-33_amd64.deb ...\n",
            "Unpacking intel-oneapi-ippcp-devel (2021.11.0-33) ...\n",
            "Selecting previously unselected package intel-oneapi-advisor.\n",
            "Preparing to unpack .../48-intel-oneapi-advisor_2024.1.0-499_amd64.deb ...\n",
            "Unpacking intel-oneapi-advisor (2024.1.0-499) ...\n",
            "Selecting previously unselected package intel-oneapi-vtune.\n",
            "Preparing to unpack .../49-intel-oneapi-vtune_2024.1.0-515_amd64.deb ...\n",
            "Unpacking intel-oneapi-vtune (2024.1.0-515) ...\n",
            "Selecting previously unselected package intel-oneapi-dnnl-2024.1.\n",
            "Preparing to unpack .../50-intel-oneapi-dnnl-2024.1_2024.1.1-13_amd64.deb ...\n",
            "Unpacking intel-oneapi-dnnl-2024.1 (2024.1.1-13) ...\n",
            "Selecting previously unselected package intel-oneapi-dnnl.\n",
            "Preparing to unpack .../51-intel-oneapi-dnnl_2024.1.1-13_amd64.deb ...\n",
            "Unpacking intel-oneapi-dnnl (2024.1.1-13) ...\n",
            "Selecting previously unselected package intel-oneapi-dnnl-devel-2024.1.\n",
            "Preparing to unpack .../52-intel-oneapi-dnnl-devel-2024.1_2024.1.1-13_amd64.deb ...\n",
            "Unpacking intel-oneapi-dnnl-devel-2024.1 (2024.1.1-13) ...\n",
            "Selecting previously unselected package intel-oneapi-dnnl-devel.\n",
            "Preparing to unpack .../53-intel-oneapi-dnnl-devel_2024.1.1-13_amd64.deb ...\n",
            "Unpacking intel-oneapi-dnnl-devel (2024.1.1-13) ...\n",
            "Selecting previously unselected package intel-basekit.\n",
            "Preparing to unpack .../54-intel-basekit_2024.1.0-589_amd64.deb ...\n",
            "Unpacking intel-basekit (2024.1.0-589) ...\n",
            "Setting up intel-oneapi-dal-common-2024.2 (2024.2.0-276) ...\n",
            "Setting up intel-oneapi-advisor (2024.1.0-499) ...\n",
            "Setting up intel-oneapi-common-licensing (2024.1.0-579) ...\n",
            "Setting up intel-oneapi-dnnl-2024.1 (2024.1.1-13) ...\n",
            "Setting up intel-oneapi-tlt-2024.1 (2024.1.0-447) ...\n",
            "Setting up intel-oneapi-ippcp-common-2021.11 (2021.11.0-33) ...\n",
            "Setting up intel-oneapi-dal-2024.2 (2024.2.0-276) ...\n",
            "Setting up intel-oneapi-tlt (2024.1.0-447) ...\n",
            "Setting up intel-oneapi-vtune (2024.1.0-515) ...\n",
            "C compiler version: 11.4.0\n",
            "Make version: 4.3\n",
            "\n",
            "ERROR: kernel source directory \"/usr/src/linux-6.1.58+\" either does not exist or not a valid kernel source directory.\n",
            "\n",
            "Please use the following command to install kernel header on Ubuntu:\n",
            "     apt install linux-headers-6.1.58+\n",
            "\n",
            "\n",
            "Warning:  the following driver(s) were not found loaded in the kernel:  sep5.\n",
            "\n",
            "Warning:  no vtsspp driver was found loaded in the kernel.\n",
            "\n",
            "Warning: skipping SOCWATCH driver unload, not built\n",
            "\n",
            "\n",
            "Warning:  the following driver(s) were not found loaded in the kernel:  socperf3.\n",
            "\n",
            "\n",
            "The PAX service is not loaded anymore.\n",
            "Creating group vtune ... done\n",
            "\n",
            "The udev device manager is not running on the system.\n",
            "Recompile the driver with the option '--no-udev'\n",
            "Then, run this script with the option '--no-udev'\n",
            "\n",
            "Configuring sep5 boot script with the following options:\n",
            "    driver files = /opt/intel/oneapi/vtune/2024.1/sepdk/src/.\n",
            "Creating boot script /etc/init.d/sep5 ... done.\n",
            "Configuring autoload of sep5 driver for runlevels 2 through 5 ... update-rc.d: warning: start and stop actions are no longer supported; falling back to defaults\n",
            "done.\n",
            "Setting up intel-oneapi-compiler-cpp-eclipse-cfg-2024.1 (2024.1.0-963) ...\n",
            "Setting up intel-oneapi-common-oneapi-vars (2024.1.0-579) ...\n",
            "Setting up intel-oneapi-dev-utilities-eclipse-cfg-2024.1 (2024.1.0-340) ...\n",
            "Setting up intel-oneapi-tbb-common-devel-2021.12 (2021.12.0-495) ...\n",
            "Setting up intel-oneapi-icc-eclipse-plugin-cpp-2024.1 (2024.1.0-963) ...\n",
            "Setting up intel-oneapi-dpcpp-ct-eclipse-cfg-2024.1 (2024.1.0-374) ...\n",
            "Setting up intel-oneapi-ippcp-2021.11 (2021.11.0-33) ...\n",
            "Setting up intel-oneapi-compiler-dpcpp-eclipse-cfg-2024.1 (2024.1.0-963) ...\n",
            "Setting up intel-basekit-env-2024.1 (2024.1.0-589) ...\n",
            "Setting up intel-oneapi-dpcpp-debugger-2024.1 (2024.1.0-435) ...\n",
            "Setting up intel-oneapi-diagnostics-utility-2024.1 (2024.1.0-256) ...\n",
            "Setting up intel-oneapi-ipp-common-2021.11 (2021.11.0-528) ...\n",
            "Setting up intel-oneapi-ippcp-common-devel-2021.11 (2021.11.0-33) ...\n",
            "Setting up intel-basekit-getting-started-2024.1 (2024.1.0-589) ...\n",
            "Setting up intel-oneapi-diagnostics-utility (2024.1.0-256) ...\n",
            "Setting up intel-oneapi-libdpstd-devel-2022.5 (2022.5.0-215) ...\n",
            "Setting up intel-oneapi-mpi-2021.12 (2021.12.1-5) ...\n",
            "Setting up intel-oneapi-dnnl (2024.1.1-13) ...\n",
            "Setting up intel-oneapi-ipp-common-devel-2021.11 (2021.11.0-528) ...\n",
            "Setting up intel-oneapi-dal-common-devel-2024.2 (2024.2.0-276) ...\n",
            "Setting up intel-oneapi-compiler-shared-common-2024.1 (2024.1.0-963) ...\n",
            "Setting up intel-oneapi-ipp-2021.11 (2021.11.0-528) ...\n",
            "Setting up intel-oneapi-compiler-dpcpp-cpp-common-2024.1 (2024.1.0-963) ...\n",
            "Setting up intel-oneapi-dpcpp-ct-2024.1 (2024.1.0-374) ...\n",
            "Setting up intel-oneapi-dev-utilities-2024.1 (2024.1.0-340) ...\n",
            "Setting up intel-oneapi-dpcpp-ct (2024.1.0-374) ...\n",
            "Setting up intel-oneapi-tbb-devel-2021.12 (2021.12.0-495) ...\n",
            "Setting up intel-oneapi-ippcp-devel-2021.11 (2021.11.0-33) ...\n",
            "Setting up intel-oneapi-dnnl-devel-2024.1 (2024.1.1-13) ...\n",
            "Setting up intel-oneapi-mpi-devel-2021.12 (2021.12.1-5) ...\n",
            "Setting up intel-oneapi-dnnl-devel (2024.1.1-13) ...\n",
            "Setting up intel-oneapi-tbb-devel (2021.12.0-495) ...\n",
            "Setting up intel-oneapi-ipp-devel-2021.11 (2021.11.0-528) ...\n",
            "Setting up intel-oneapi-ccl-2021.12 (2021.12.0-309) ...\n",
            "Setting up intel-oneapi-compiler-shared-2024.1 (2024.1.0-963) ...\n",
            "Setting up intel-oneapi-dev-utilities (2024.1.0-340) ...\n",
            "Setting up intel-oneapi-ipp-devel (2021.11.0-528) ...\n",
            "Setting up intel-oneapi-dal-devel-2024.2 (2024.2.0-276) ...\n",
            "Setting up intel-oneapi-ippcp-devel (2021.11.0-33) ...\n",
            "Setting up intel-oneapi-dal-devel (2024.2.0-276) ...\n",
            "Setting up intel-oneapi-ccl-devel-2021.12 (2021.12.0-309) ...\n",
            "Setting up intel-oneapi-dpcpp-cpp-2024.1 (2024.1.0-963) ...\n",
            "Setting up intel-oneapi-ccl-devel (2021.12.0-309) ...\n",
            "Setting up intel-oneapi-compiler-dpcpp-cpp-2024.1 (2024.1.0-963) ...\n",
            "Setting up intel-oneapi-compiler-dpcpp-cpp (2024.1.0-963) ...\n",
            "Setting up intel-basekit (2024.1.0-589) ...\n"
          ]
        }
      ]
    },
    {
      "cell_type": "code",
      "source": [
        "!source /opt/intel/oneapi/setvars.sh intel64 && icpx --version"
      ],
      "metadata": {
        "colab": {
          "base_uri": "https://localhost:8080/"
        },
        "id": "ymb5exddBO2e",
        "outputId": "9c28032f-08fe-4141-efb4-5ca6d0e8e133"
      },
      "execution_count": null,
      "outputs": [
        {
          "output_type": "stream",
          "name": "stdout",
          "text": [
            " \n",
            ":: initializing oneAPI environment ...\n",
            "   bash: BASH_VERSION = 5.1.16(1)-release\n",
            "   args: Using \"$@\" for setvars.sh arguments: intel64\n",
            ":: advisor -- latest\n",
            ":: ccl -- latest\n",
            ":: compiler -- latest\n",
            ":: dal -- latest\n",
            ":: debugger -- latest\n",
            ":: dev-utilities -- latest\n",
            ":: dnnl -- latest\n",
            ":: dpcpp-ct -- latest\n",
            ":: dpl -- latest\n",
            ":: ipp -- latest\n",
            ":: ippcp -- latest\n",
            ":: mkl -- latest\n",
            ":: mpi -- latest\n",
            ":: tbb -- latest\n",
            ":: vtune -- latest\n",
            ":: oneAPI environment initialized ::\n",
            " \n",
            "Intel(R) oneAPI DPC++/C++ Compiler 2024.1.0 (2024.1.0.20240308)\n",
            "Target: x86_64-unknown-linux-gnu\n",
            "Thread model: posix\n",
            "InstalledDir: /opt/intel/oneapi/compiler/2024.1/bin/compiler\n",
            "Configuration file: /opt/intel/oneapi/compiler/2024.1/bin/compiler/../icpx.cfg\n"
          ]
        }
      ]
    },
    {
      "cell_type": "markdown",
      "source": [
        "Intel® oneAPI DPC++/C++ Compiler: https://www.intel.com/content/www/us/en/developer/tools/oneapi/dpc-compiler.html#gs.8o0r4h"
      ],
      "metadata": {
        "id": "UN685HDhADXh"
      }
    },
    {
      "cell_type": "code",
      "source": [
        "%%writefile hello-world.cpp\n",
        "\n",
        "#include <iostream>\n",
        "int main()\n",
        "{\n",
        "    std::cout << \"Welcome To oneapi\\n\";\n",
        "    return 0;\n",
        "}"
      ],
      "metadata": {
        "colab": {
          "base_uri": "https://localhost:8080/"
        },
        "id": "5eByu926CD9D",
        "outputId": "eee338ce-3a50-4e78-d926-146fe8cdf538"
      },
      "execution_count": null,
      "outputs": [
        {
          "output_type": "stream",
          "name": "stdout",
          "text": [
            "Writing hello-world.cpp\n"
          ]
        }
      ]
    },
    {
      "cell_type": "code",
      "source": [
        "!source /opt/intel/oneapi/setvars.sh intel64 && icpx hello-world.cpp -o hello-world"
      ],
      "metadata": {
        "colab": {
          "base_uri": "https://localhost:8080/"
        },
        "id": "1O9XmD_2BdzL",
        "outputId": "c1eb024b-fe45-49bf-c20f-1314d98c3c80"
      },
      "execution_count": null,
      "outputs": [
        {
          "output_type": "stream",
          "name": "stdout",
          "text": [
            " \n",
            ":: initializing oneAPI environment ...\n",
            "   bash: BASH_VERSION = 5.1.16(1)-release\n",
            "   args: Using \"$@\" for setvars.sh arguments: intel64\n",
            ":: advisor -- latest\n",
            ":: ccl -- latest\n",
            ":: compiler -- latest\n",
            ":: dal -- latest\n",
            ":: debugger -- latest\n",
            ":: dev-utilities -- latest\n",
            ":: dnnl -- latest\n",
            ":: dpcpp-ct -- latest\n",
            ":: dpl -- latest\n",
            ":: ipp -- latest\n",
            ":: ippcp -- latest\n",
            ":: mkl -- latest\n",
            ":: mpi -- latest\n",
            ":: tbb -- latest\n",
            ":: vtune -- latest\n",
            ":: oneAPI environment initialized ::\n",
            " \n"
          ]
        }
      ]
    },
    {
      "cell_type": "code",
      "source": [
        "!ls"
      ],
      "metadata": {
        "colab": {
          "base_uri": "https://localhost:8080/"
        },
        "id": "nZJMNv26CLUo",
        "outputId": "33e00b54-dffc-44b1-8598-68c5f0aa539f"
      },
      "execution_count": null,
      "outputs": [
        {
          "output_type": "stream",
          "name": "stdout",
          "text": [
            "a.out\t       cblas_example.c\thello-world.cpp  mkl_example.c\n",
            "cblas_example  hello-world\tmkl_example\t sample_data\n"
          ]
        }
      ]
    },
    {
      "cell_type": "code",
      "source": [
        "!./hello-world"
      ],
      "metadata": {
        "colab": {
          "base_uri": "https://localhost:8080/"
        },
        "id": "wgkaJwJSCQ75",
        "outputId": "161cb2ed-d560-432f-cdfd-fcd9c98a6ac5"
      },
      "execution_count": null,
      "outputs": [
        {
          "output_type": "stream",
          "name": "stdout",
          "text": [
            "Welcome To oneapi\n"
          ]
        }
      ]
    },
    {
      "cell_type": "code",
      "source": [
        "!source /opt/intel/oneapi/setvars.sh intel64 && icx -o mkl_exampleicc mkl_example.c -lmkl_intel_lp64 -lmkl_sequential -lmkl_core -lpthread -lm"
      ],
      "metadata": {
        "colab": {
          "base_uri": "https://localhost:8080/"
        },
        "id": "2FxRnCbvCho_",
        "outputId": "849bedb0-b262-4fd2-9d17-d8c84364003f"
      },
      "execution_count": null,
      "outputs": [
        {
          "output_type": "stream",
          "name": "stdout",
          "text": [
            " \n",
            ":: initializing oneAPI environment ...\n",
            "   bash: BASH_VERSION = 5.1.16(1)-release\n",
            "   args: Using \"$@\" for setvars.sh arguments: intel64\n",
            ":: advisor -- latest\n",
            ":: ccl -- latest\n",
            ":: compiler -- latest\n",
            ":: dal -- latest\n",
            ":: debugger -- latest\n",
            ":: dev-utilities -- latest\n",
            ":: dnnl -- latest\n",
            ":: dpcpp-ct -- latest\n",
            ":: dpl -- latest\n",
            ":: ipp -- latest\n",
            ":: ippcp -- latest\n",
            ":: mkl -- latest\n",
            ":: mpi -- latest\n",
            ":: tbb -- latest\n",
            ":: vtune -- latest\n",
            ":: oneAPI environment initialized ::\n",
            " \n"
          ]
        }
      ]
    },
    {
      "cell_type": "markdown",
      "source": [
        "`-lmkl_intel_lp64 -lmkl_sequential -lmkl_core`:\n",
        "These options link your program with specific Intel Math Kernel Library (MKL) libraries:\n",
        "libmkl_intel_lp64: Intel MKL LP64 interface (64-bit integers).\n",
        "libmkl_sequential: Intel MKL sequential threading support.\n",
        "libmkl_core: Intel MKL core functionality."
      ],
      "metadata": {
        "id": "XjVArR4tDEhZ"
      }
    },
    {
      "cell_type": "markdown",
      "source": [
        "`-lpthread`:\n",
        "Links with the POSIX threads library (for multithreading support)."
      ],
      "metadata": {
        "id": "eq53COuODLwv"
      }
    },
    {
      "cell_type": "markdown",
      "source": [
        "`-lm`:\n",
        "Links with the math library (for mathematical functions)."
      ],
      "metadata": {
        "id": "3UQVAZqXDPWc"
      }
    },
    {
      "cell_type": "code",
      "source": [
        "!ls"
      ],
      "metadata": {
        "colab": {
          "base_uri": "https://localhost:8080/"
        },
        "id": "ZKdTdZPtCvK3",
        "outputId": "d7e96625-93e1-4443-ef4e-7e44a3e6dc2b"
      },
      "execution_count": null,
      "outputs": [
        {
          "output_type": "stream",
          "name": "stdout",
          "text": [
            "a.out\t       cblas_example.c\thello-world.cpp  mkl_example.c\t sample_data\n",
            "cblas_example  hello-world\tmkl_example\t mkl_exampleicc\n"
          ]
        }
      ]
    },
    {
      "cell_type": "code",
      "source": [
        "!./mkl_exampleicc 1000"
      ],
      "metadata": {
        "colab": {
          "base_uri": "https://localhost:8080/"
        },
        "id": "b3ZM2fgYCxsR",
        "outputId": "31efd79a-6134-4e6e-a7f5-1cf58ea2cc3d"
      },
      "execution_count": null,
      "outputs": [
        {
          "output_type": "stream",
          "name": "stdout",
          "text": [
            "n = 1000\n",
            "45.153 milliseconds\n",
            "Speed:\tn = 1000, 44.294 Gflop/s\n",
            "[-7.10, -0.55]\n",
            "[-5.90, -1.15]\n"
          ]
        }
      ]
    },
    {
      "cell_type": "markdown",
      "source": [
        "## oneMKL optimized matrix multiplication"
      ],
      "metadata": {
        "id": "APpsq7mFJfmn"
      }
    },
    {
      "cell_type": "markdown",
      "source": [
        "use the oneMKL optimized matrix multiplication routines, ref: https://github.com/oneapi-src/oneAPI-samples/tree/master/Libraries/oneMKL/matrix_mul_mkl"
      ],
      "metadata": {
        "id": "Uotz0vl4KMn9"
      }
    },
    {
      "cell_type": "code",
      "source": [
        "%%writefile utilities.hpp\n",
        "#include <sycl/sycl.hpp>\n",
        "#include <algorithm>\n",
        "\n",
        "template <typename T> const char *type_string()     { return \"unknown type\"; }\n",
        "template <> const char *type_string<sycl::half>()   { return \"half precision\"; }\n",
        "template <> const char *type_string<float>()        { return \"single precision\"; }\n",
        "template <> const char *type_string<double>()       { return \"double precision\"; }\n",
        "\n",
        "/* Choose inter-column padding for optimal performance */\n",
        "template <typename T>\n",
        "int nice_ld(int x)\n",
        "{\n",
        "    x = std::max(x, 1);\n",
        "    x *= sizeof(T);\n",
        "    x = (x + 511) & ~511;\n",
        "    x += 256;\n",
        "    x /= sizeof(T);\n",
        "    return x;\n",
        "}\n",
        "\n",
        "/* Random number generation helpers */\n",
        "template <typename T>\n",
        "void generate_random_data(size_t elems, T *v)\n",
        "{\n",
        "#pragma omp parallel for\n",
        "    for (size_t i = 0; i < elems; i++)\n",
        "        v[i] = double(std::rand()) / RAND_MAX;\n",
        "}\n",
        "\n",
        "template <typename T>\n",
        "void replicate_data(sycl::queue &Q, T *dst, size_t dst_elems, const T *src, size_t src_elems)\n",
        "{\n",
        "    while (dst_elems > 0) {\n",
        "        auto copy_elems = std::min(dst_elems, src_elems);\n",
        "        Q.copy(src,  dst, copy_elems);\n",
        "        dst += copy_elems;\n",
        "        dst_elems -= copy_elems;\n",
        "    }\n",
        "    Q.wait();\n",
        "}"
      ],
      "metadata": {
        "colab": {
          "base_uri": "https://localhost:8080/"
        },
        "id": "GGxdvfVqJ99j",
        "outputId": "af284204-9a93-4d37-97ce-dde1606545a7"
      },
      "execution_count": null,
      "outputs": [
        {
          "output_type": "stream",
          "name": "stdout",
          "text": [
            "Writing utilities.hpp\n"
          ]
        }
      ]
    },
    {
      "cell_type": "code",
      "source": [
        "%%writefile matrix_mul_mkl.cpp\n",
        "// Contents:\n",
        "//     A simple matrix multiplication benchmark, using the oneAPI Math Kernel\n",
        "//     Library (oneMKL).\n",
        "//\n",
        "\n",
        "#include <sycl/sycl.hpp>\n",
        "#include <oneapi/mkl.hpp>\n",
        "#include <chrono>\n",
        "#include <cstdlib>\n",
        "#include <iomanip>\n",
        "#include <iostream>\n",
        "#include <string>\n",
        "\n",
        "#include \"utilities.hpp\"\n",
        "\n",
        "using namespace sycl;\n",
        "\n",
        "template <typename T>\n",
        "void test(queue &Q, int M, int N, int K)\n",
        "{\n",
        "    std::cout << \"\\nBenchmarking (\" << M << \" x \" << K << \") x (\" << K << \" x \" << N << \") matrix multiplication, \" << type_string<T>() << std::endl;;\n",
        "\n",
        "    std::cout << \" -> Initializing data...\\n\";\n",
        "\n",
        "    /* Allocate A/B/C matrices */\n",
        "    int lda = nice_ld<T>(M);\n",
        "    int ldb = nice_ld<T>(K);\n",
        "    int ldc = nice_ld<T>(M);\n",
        "\n",
        "    auto A = malloc_device<T>(lda * K, Q);\n",
        "    auto B = malloc_device<T>(ldb * N, Q);\n",
        "    auto C = malloc_device<T>(ldc * N, Q);\n",
        "\n",
        "    /* Fill A/B with random data */\n",
        "    constexpr int rd_size = 1048576;\n",
        "    auto random_data = malloc_host<T>(rd_size, Q);\n",
        "    generate_random_data(rd_size, random_data);\n",
        "\n",
        "    replicate_data(Q, A, lda * K, random_data, rd_size);\n",
        "    replicate_data(Q, B, ldb * N, random_data, rd_size);\n",
        "\n",
        "    /* Measure time for a given number of GEMM calls */\n",
        "    auto time_gemms = [=, &Q](int runs) -> double {\n",
        "        using namespace oneapi::mkl;\n",
        "        using namespace std::chrono;\n",
        "        auto start = steady_clock::now();\n",
        "        for (int i = 0; i < runs; i++)\n",
        "            blas::gemm(Q, transpose::N, transpose::N, M, N, K, 1, A, lda, B, ldb, 0, C, ldc);\n",
        "        Q.wait_and_throw();\n",
        "        auto end = steady_clock::now();\n",
        "        return duration<double>(end - start).count();\n",
        "    };\n",
        "\n",
        "    /* Do a warmup call to initialize MKL and ensure kernels are JIT'ed if needed */\n",
        "    std::cout << \" -> Warmup...\\n\";\n",
        "    (void) time_gemms(1);\n",
        "\n",
        "    /* Time one GEMM call, and estimate how many calls will be required to keep the\n",
        "     * GPU busy for 1s. */\n",
        "    auto tare = time_gemms(1);\n",
        "    int ncalls = std::max(4, std::min(1000, int(1. / tare)));\n",
        "\n",
        "    /* Time that many GEMMs, subtracting the first call time to remove host overhead.\n",
        "     * This gives a better idea of device performance. */\n",
        "    std::cout << \" -> Timing...\\n\";\n",
        "    auto time = time_gemms(ncalls + 1) - tare;\n",
        "    auto avg = time / ncalls;\n",
        "\n",
        "    /* Calculate and display performance */\n",
        "    auto op_count = double(M) * double(N) * double(K) * 2;\n",
        "    auto flops = op_count / avg;\n",
        "\n",
        "    flops *= 1e-9;\n",
        "    char unit = 'G';\n",
        "    if (flops >= 1000.) {\n",
        "        flops *= 1e-3;\n",
        "        unit = 'T';\n",
        "    }\n",
        "    if (flops >= 1000.) {\n",
        "        flops *= 1e-3;\n",
        "        unit = 'P';\n",
        "    }\n",
        "\n",
        "    std::cout << \"\\nAverage performance: \" << flops << unit << 'F' << std::endl;\n",
        "\n",
        "    /* Free data */\n",
        "    free(A, Q);\n",
        "    free(B, Q);\n",
        "    free(C, Q);\n",
        "    free(random_data, Q);\n",
        "}\n",
        "\n",
        "void usage(const char *pname)\n",
        "{\n",
        "    std::cerr << \"Usage:\\n\"\n",
        "              << \"  \" << pname << \" [type] N           benchmark (NxN) x (NxN) square matrix multiplication (default: N = 4096)\\n\"\n",
        "              << \"  \" << pname << \" [type] M N K       benchmark (MxK) x (KxN) square matrix multiplication\\n\"\n",
        "              << \"\\n\"\n",
        "              << \"The optional [type] selects the data type:\\n\"\n",
        "              << \"   double    [default]\\n\"\n",
        "              << \"   single\\n\"\n",
        "              << \"   half\\n\"\n",
        "              << \"\\n\"\n",
        "              << \"This benchmark uses the default DPC++ device, which can be controlled using\\n\"\n",
        "              << \"  the ONEAPI_DEVICE_SELECTOR environment variable\\n\";\n",
        "    std::exit(1);\n",
        "}\n",
        "\n",
        "int main(int argc, char **argv)\n",
        "{\n",
        "    auto pname = argv[0];\n",
        "    int M = 4096, N = 4096, K = 4096;\n",
        "    std::string type = \"double\";\n",
        "\n",
        "    if (argc <= 1)\n",
        "        usage(pname);\n",
        "\n",
        "    if (argc > 1 && std::isalpha(argv[1][0])) {\n",
        "        type = argv[1];\n",
        "        argc--; argv++;\n",
        "    }\n",
        "\n",
        "    if (argc > 1) M = N = K = std::atoi(argv[1]);\n",
        "\n",
        "    if (argc > 3) {\n",
        "        N = std::atoi(argv[2]);\n",
        "        K = std::atoi(argv[3]);\n",
        "    }\n",
        "\n",
        "    if (M <= 0 || N <= 0 || K <= 0)\n",
        "        usage(pname);\n",
        "\n",
        "    queue Q;\n",
        "\n",
        "    std::cout << \"oneMKL DPC++ GEMM benchmark\\n\"\n",
        "              << \"---------------------------\\n\"\n",
        "              << \"Device:                  \" << Q.get_device().get_info<info::device::name>()                          << std::endl\n",
        "              << \"Core/EU count:           \" << Q.get_device().get_info<info::device::max_compute_units>()             << std::endl\n",
        "              << \"Maximum clock frequency: \" << Q.get_device().get_info<info::device::max_clock_frequency>() << \" MHz\" << std::endl;\n",
        "\n",
        "    if (type == \"double\")\n",
        "        test<double>(Q, M, N, K);\n",
        "    else if (type == \"single\" || type == \"float\")\n",
        "        test<float>(Q, M, N, K);\n",
        "    else if (type == \"half\")\n",
        "        test<half>(Q, M, N, K);\n",
        "    else\n",
        "        usage(pname);\n",
        "}"
      ],
      "metadata": {
        "colab": {
          "base_uri": "https://localhost:8080/"
        },
        "id": "6ctxyRayJrMl",
        "outputId": "8c1aebee-bd29-48a3-9a08-24e0aeaa2783"
      },
      "execution_count": null,
      "outputs": [
        {
          "output_type": "stream",
          "name": "stdout",
          "text": [
            "Overwriting matrix_mul_mkl.cpp\n"
          ]
        }
      ]
    },
    {
      "cell_type": "code",
      "source": [
        "%%writefile dpc_common.hpp\n",
        "#ifndef _DP_HPP\n",
        "#define _DP_HPP\n",
        "\n",
        "#include <stdlib.h>\n",
        "#include <exception>\n",
        "\n",
        "#include <sycl/sycl.hpp>\n",
        "\n",
        "namespace dpc_common {\n",
        "// This exception handler will catch async exceptions\n",
        "static auto exception_handler = [](sycl::exception_list eList) {\n",
        "  for (std::exception_ptr const &e : eList) {\n",
        "    try {\n",
        "      std::rethrow_exception(e);\n",
        "    } catch (std::exception const &e) {\n",
        "#if _DEBUG\n",
        "      std::cout << \"Failure\" << std::endl;\n",
        "#endif\n",
        "      std::terminate();\n",
        "    }\n",
        "  }\n",
        "};\n",
        "\n",
        "// The TimeInterval is a simple RAII class.\n",
        "// Construct the timer at the point you want to start timing.\n",
        "// Use the Elapsed() method to return time since construction.\n",
        "\n",
        "class TimeInterval {\n",
        " public:\n",
        "  TimeInterval() : start_(std::chrono::steady_clock::now()) {}\n",
        "\n",
        "  double Elapsed() {\n",
        "    auto now = std::chrono::steady_clock::now();\n",
        "    return std::chrono::duration_cast<Duration>(now - start_).count();\n",
        "  }\n",
        "\n",
        " private:\n",
        "  using Duration = std::chrono::duration<double>;\n",
        "  std::chrono::steady_clock::time_point start_;\n",
        "};\n",
        "\n",
        "};  // namespace dpc_common\n",
        "\n",
        "#endif"
      ],
      "metadata": {
        "colab": {
          "base_uri": "https://localhost:8080/"
        },
        "id": "BNaQhn8PKxU5",
        "outputId": "84aa5953-abf6-4d5b-a859-b5579edda907"
      },
      "execution_count": null,
      "outputs": [
        {
          "output_type": "stream",
          "name": "stdout",
          "text": [
            "Writing dpc_common.hpp\n"
          ]
        }
      ]
    },
    {
      "cell_type": "code",
      "source": [
        "%%writefile Makefile\n",
        "default: run\n",
        "\n",
        "all: matrix_mul_mkl\n",
        "\n",
        "run: matrix_mul_mkl\n",
        "\t./matrix_mul_mkl single\n",
        "\t./matrix_mul_mkl double\n",
        "\n",
        "INCLUDE_COMMON=./\n",
        "MKL_COPTS = -DMKL_ILP64  -qmkl=sequential\n",
        "MKL_LIBS  = -lsycl -lOpenCL -lpthread -lm -ldl\n",
        "\n",
        "DPCPP_OPTS = -O2 $(MKL_COPTS) $(MKL_LIBS)\n",
        "\n",
        "matrix_mul_mkl: matrix_mul_mkl.cpp\n",
        "\ticpx -fsycl -I$(INCLUDE_COMMON) $< -o $@ $(DPCPP_OPTS)\n",
        "\n",
        "clean:\n",
        "\t-rm -f matrix_mul_mkl\n",
        "\n",
        ".PHONY: clean run all"
      ],
      "metadata": {
        "colab": {
          "base_uri": "https://localhost:8080/"
        },
        "id": "wz_-Yt-3KYCz",
        "outputId": "ec48a226-d7bd-4f1c-98e3-2132e75b35aa"
      },
      "execution_count": null,
      "outputs": [
        {
          "output_type": "stream",
          "name": "stdout",
          "text": [
            "Writing Makefile\n"
          ]
        }
      ]
    },
    {
      "cell_type": "code",
      "source": [
        "!source /opt/intel/oneapi/setvars.sh intel64 && make"
      ],
      "metadata": {
        "colab": {
          "base_uri": "https://localhost:8080/"
        },
        "id": "RlFFRQt7LD0t",
        "outputId": "9b977591-899a-4044-f0d2-ac9ad7ffe09d"
      },
      "execution_count": null,
      "outputs": [
        {
          "output_type": "stream",
          "name": "stdout",
          "text": [
            " \n",
            ":: initializing oneAPI environment ...\n",
            "   bash: BASH_VERSION = 5.1.16(1)-release\n",
            "   args: Using \"$@\" for setvars.sh arguments: intel64\n",
            ":: advisor -- latest\n",
            ":: ccl -- latest\n",
            ":: compiler -- latest\n",
            ":: dal -- latest\n",
            ":: debugger -- latest\n",
            ":: dev-utilities -- latest\n",
            ":: dnnl -- latest\n",
            ":: dpcpp-ct -- latest\n",
            ":: dpl -- latest\n",
            ":: ipp -- latest\n",
            ":: ippcp -- latest\n",
            ":: mkl -- latest\n",
            ":: mpi -- latest\n",
            ":: tbb -- latest\n",
            ":: vtune -- latest\n",
            ":: oneAPI environment initialized ::\n",
            " \n",
            "icpx -fsycl -I./ matrix_mul_mkl.cpp -o matrix_mul_mkl -O2 -DMKL_ILP64  -qmkl=sequential -lsycl -lOpenCL -lpthread -lm -ldl\n",
            "./matrix_mul_mkl single\n",
            "oneMKL DPC++ GEMM benchmark\n",
            "---------------------------\n",
            "Device:                             Intel(R) Xeon(R) CPU @ 2.20GHz\n",
            "Core/EU count:           2\n",
            "Maximum clock frequency: 2200 MHz\n",
            "\n",
            "Benchmarking (4096 x 4096) x (4096 x 4096) matrix multiplication, single precision\n",
            " -> Initializing data...\n",
            " -> Warmup...\n",
            " -> Timing...\n",
            "\n",
            "Average performance: 60.275GF\n",
            "./matrix_mul_mkl double\n",
            "oneMKL DPC++ GEMM benchmark\n",
            "---------------------------\n",
            "Device:                             Intel(R) Xeon(R) CPU @ 2.20GHz\n",
            "Core/EU count:           2\n",
            "Maximum clock frequency: 2200 MHz\n",
            "\n",
            "Benchmarking (4096 x 4096) x (4096 x 4096) matrix multiplication, double precision\n",
            " -> Initializing data...\n",
            " -> Warmup...\n",
            " -> Timing...\n",
            "\n",
            "Average performance: 34.2425GF\n"
          ]
        }
      ]
    },
    {
      "cell_type": "markdown",
      "source": [
        "## OneAPI vectorization"
      ],
      "metadata": {
        "id": "y0JckL-mFIPd"
      }
    },
    {
      "cell_type": "markdown",
      "source": [
        "The Intel® oneAPI DPC++/C++ Compiler has an auto-vectorization mechanism that detects operations in the application that can be done in parallel and converts sequential operations to parallel operations by using the Single Instruction Multiple Data (SIMD) instruction set.\n",
        "\n",
        "For the Intel® oneAPI DPC++/C++ Compiler, vectorization is the unrolling of a loop combined with the generation of packed SIMD instructions. Because the packed instructions operate on more than one data element at a time, the loop can execute more efficiently. It is sometimes referred to as auto-vectorization to emphasize that the compiler automatically identifies and optimizes suitable loops on its own.\n",
        "\n",
        "Vectorization may call library routines that can result in additional performance gains on Intel microprocessors when compared to non-Intel microprocessors. The vectorization can also be affected by certain compiler options, such as -m or -x."
      ],
      "metadata": {
        "id": "1ybzsy-XFRid"
      }
    },
    {
      "cell_type": "markdown",
      "source": [
        "Vectorization is enabled when optimization levels are set to O2 and higher for both Intel® microprocessors and non-Intel® microprocessors. The default optimization level for the compiler is O2.\n",
        "\n",
        "Many loops are vectorized automatically, but in cases where this does not happen, you may be able to vectorize loops by making simple code modifications. Compiling with the -qopt-report option generates an optimization report which can be used to identify potential points of performance improvement in the code. The report option provides multiple levels of report detail about the optimization transformations done during compilation."
      ],
      "metadata": {
        "id": "GEOcHbWxFUtb"
      }
    },
    {
      "cell_type": "markdown",
      "source": [
        "The first implementation is an inline execution of a double loop, gated by the NOFUNCCALL macro. The second implementation calls the matvec function, located in multiply.c, which contains the same double loop:\n",
        "```bash\n",
        "#ifdef NOFUNCCALL\n",
        "  int i, j;\n",
        "  for (i = 0; i < size1; i++) {\n",
        "    b[i] = 0;\n",
        "    for (j = 0;j < size2; j++) {\n",
        "      b[i] += a[i][j] * x[j];\n",
        "    }\n",
        "  }\n",
        "#else\n",
        "  matvec(size1,size2,a,b,x);\n",
        "#endif\n",
        "```"
      ],
      "metadata": {
        "id": "SJFoK2fhGO4B"
      }
    },
    {
      "cell_type": "code",
      "source": [
        "%%writefile driver.c\n",
        "#define ROW 101\n",
        "#define COL 101\n",
        "#define COLBUF 0\n",
        "#define COLWIDTH COL+COLBUF\n",
        "#define REPEATNTIMES 1000000\n",
        "#include <sys/time.h>\n",
        "#include <stdio.h>\n",
        "#include <math.h>\n",
        "#include \"multiply.h\"\n",
        "\n",
        "/* routine to initialize an array with data */\n",
        "\n",
        "void init_matrix(int row, int col, FTYPE off, FTYPE  a[][COLWIDTH])\n",
        "{\n",
        "    int i,j;\n",
        "\n",
        "    for (i=0; i< row;i++) {\n",
        "        for (j=0; j< col;j++) {\n",
        "            a[i][j] = fmod(i*j+off,10.0);\n",
        "        }\n",
        "    }\n",
        "    if (COLBUF>0)\n",
        "        for  (i=0;i<row;i++)\n",
        "            for (j=col;j<COLWIDTH;j++)\n",
        "                a[i][j]=0.0;\n",
        "}\n",
        "\n",
        "void init_array(int length, FTYPE off, FTYPE a[])\n",
        "{\n",
        "    int i;\n",
        "\n",
        "    for (i=0; i< length;i++)\n",
        "        a[i] = fmod(i+off,10.0);\n",
        "    if (COLBUF>0)\n",
        "        for  (i=length;i<COLWIDTH;i++)\n",
        "                a[i]=0.0;\n",
        "}\n",
        "\n",
        "void printsum(int length, FTYPE ans[]) {\n",
        "    /* Doesn't print the whole matrix - Just a very simple Checksum */\n",
        "    int i;\n",
        "    double sum=0.0;\n",
        "\n",
        "    for (i=0;i<length;i++) sum+=ans[i];\n",
        "\n",
        "    printf(\"Sum of result = %f\\n\", sum);\n",
        "}\n",
        "\n",
        "\n",
        "\n",
        "double clock_it(void)\n",
        "{\n",
        "    double duration = 0.0;\n",
        "    struct timeval start;\n",
        "\n",
        "    gettimeofday(&start, NULL);\n",
        "    duration = (double)(start.tv_sec + start.tv_usec/1000000.0);\n",
        "    return duration;\n",
        "}\n",
        "\n",
        "\n",
        "\n",
        "int main()\n",
        "{\n",
        "    double execTime = 0.0;\n",
        "    double startTime, endTime;\n",
        "\n",
        "    int k, size1, size2;\n",
        "\n",
        "    FTYPE a[ROW][COLWIDTH];\n",
        "    FTYPE b[ROW];\n",
        "    FTYPE x[COLWIDTH];\n",
        "    size1 = ROW;\n",
        "    size2 = COLWIDTH;\n",
        "\n",
        "    printf(\"\\nROW:%d COL: %d\\n\",ROW,COLWIDTH);\n",
        "\n",
        "    /* initialize the arrays with data */\n",
        "    init_matrix(ROW,COL,1,a);\n",
        "    init_array(COL,3,x);\n",
        "\n",
        "    /* start timing the matrix multiply code */\n",
        "    startTime = clock_it();\n",
        "    for (k = 0;k < REPEATNTIMES;k++) {\n",
        "#ifdef NOFUNCCALL\n",
        "        int i, j;\n",
        "        for (i = 0; i < size1; i++) {\n",
        "            b[i] = 0;\n",
        "            for (j = 0;j < size2; j++) {\n",
        "                b[i] += a[i][j] * x[j];\n",
        "            }\n",
        "        }\n",
        "#else\n",
        "        matvec(size1,size2,a,b,x);\n",
        "#endif\n",
        "        x[0] = x[0] + 0.000001;\n",
        "    }\n",
        "    endTime = clock_it();\n",
        "    execTime = endTime - startTime;\n",
        "\n",
        "    printf(\"Execution time is %2.3f seconds\\n\", execTime);\n",
        "    printf(\"GigaFlops = %f\\n\", (((double)REPEATNTIMES * (double)COL * (double)ROW * 2.0) / (double)(execTime))/1000000000.0);\n",
        "    printsum(COL,b);\n",
        "\n",
        "    return 0;\n",
        "}"
      ],
      "metadata": {
        "colab": {
          "base_uri": "https://localhost:8080/"
        },
        "id": "nARxwzbfFNSp",
        "outputId": "48cd9188-9816-4388-983e-b0c6a6d3985c"
      },
      "execution_count": null,
      "outputs": [
        {
          "output_type": "stream",
          "name": "stdout",
          "text": [
            "Writing driver.c\n"
          ]
        }
      ]
    },
    {
      "cell_type": "code",
      "source": [
        "%%writefile multiply.h\n",
        "#ifndef FTYPE\n",
        "#define FTYPE double\n",
        "#endif\n",
        "\n",
        "void matvec(int size1, int size2, FTYPE a[][size2], FTYPE b[], FTYPE x[]);"
      ],
      "metadata": {
        "colab": {
          "base_uri": "https://localhost:8080/"
        },
        "id": "FVZWXwNlFjxb",
        "outputId": "6ed7a5d5-904c-45c4-b009-39116e39fb18"
      },
      "execution_count": null,
      "outputs": [
        {
          "output_type": "stream",
          "name": "stdout",
          "text": [
            "Writing multiply.h\n"
          ]
        }
      ]
    },
    {
      "cell_type": "code",
      "source": [
        "%%writefile multiply.c\n",
        "#include \"multiply.h\"\n",
        "void matvec(int size1, int size2, FTYPE a[][size2], FTYPE b[], FTYPE x[])\n",
        "{\n",
        "    int i, j;\n",
        "\n",
        "    for (i = 0; i < size1; i++) {\n",
        "        b[i] = 0;\n",
        "        for (j = 0;j < size2; j++) {\n",
        "            b[i] += a[i][j] * x[j];\n",
        "        }\n",
        "    }\n",
        "}"
      ],
      "metadata": {
        "colab": {
          "base_uri": "https://localhost:8080/"
        },
        "id": "1FTcGJghFsEL",
        "outputId": "69c74468-3960-4821-90ca-5e6a0dfc71f2"
      },
      "execution_count": null,
      "outputs": [
        {
          "output_type": "stream",
          "name": "stdout",
          "text": [
            "Writing multiply.c\n"
          ]
        }
      ]
    },
    {
      "cell_type": "code",
      "source": [
        "!source /opt/intel/oneapi/setvars.sh intel64 && icx multiply.c driver.c -o MatVector"
      ],
      "metadata": {
        "colab": {
          "base_uri": "https://localhost:8080/"
        },
        "id": "af5yzA_0F0rD",
        "outputId": "23527f99-d290-440e-c368-9833c4a9ac08"
      },
      "execution_count": null,
      "outputs": [
        {
          "output_type": "stream",
          "name": "stdout",
          "text": [
            " \n",
            ":: initializing oneAPI environment ...\n",
            "   bash: BASH_VERSION = 5.1.16(1)-release\n",
            "   args: Using \"$@\" for setvars.sh arguments: intel64\n",
            ":: advisor -- latest\n",
            ":: ccl -- latest\n",
            ":: compiler -- latest\n",
            ":: dal -- latest\n",
            ":: debugger -- latest\n",
            ":: dev-utilities -- latest\n",
            ":: dnnl -- latest\n",
            ":: dpcpp-ct -- latest\n",
            ":: dpl -- latest\n",
            ":: ipp -- latest\n",
            ":: ippcp -- latest\n",
            ":: mkl -- latest\n",
            ":: mpi -- latest\n",
            ":: tbb -- latest\n",
            ":: vtune -- latest\n",
            ":: oneAPI environment initialized ::\n",
            " \n"
          ]
        }
      ]
    },
    {
      "cell_type": "code",
      "source": [
        "!./MatVector"
      ],
      "metadata": {
        "colab": {
          "base_uri": "https://localhost:8080/"
        },
        "id": "nsX1nqD0F6qY",
        "outputId": "3473cd39-2965-49e3-8ac3-5a8e9d4125fa"
      },
      "execution_count": null,
      "outputs": [
        {
          "output_type": "stream",
          "name": "stdout",
          "text": [
            "\n",
            "ROW:101 COL: 101\n",
            "Execution time is 6.063 seconds\n",
            "GigaFlops = 3.365038\n",
            "Sum of result = 195853.999899\n"
          ]
        }
      ]
    },
    {
      "cell_type": "markdown",
      "source": [
        "The -qopt-report option enables the generation of an optimization report at compilation. In this sample, the report is used to show what loops in the code were vectorized and to explain why other loops were not vectorized. The option enables three levels of detail in the report, with qopt-report=1 providing minimum detail, and qopt-report=3 providing maximum detail.\n",
        "\n",
        "qopt-report=1 (minimum) generates a report that identifies the loops in your code that were vectorized.\n",
        "qopt-report=2 (medium) generates a report that identifies both the loops in your code that were vectorized, and the reason that other loops were not vectorized.\n",
        "qopt-report=3 (maximum) generates a report with maximum detail, including loop cost summary."
      ],
      "metadata": {
        "id": "-dnxT8H5GD8M"
      }
    },
    {
      "cell_type": "markdown",
      "source": [
        "### Generate a level 1 optimization report and compile to use the inline implementation of matrix multiplication."
      ],
      "metadata": {
        "id": "ABAYYkkpHFyT"
      }
    },
    {
      "cell_type": "markdown",
      "source": [
        "Build the program with the qopt-report=1 option to generate the report and the D option to specify to use the NOFUNCCALL implementation of matrix multiplication."
      ],
      "metadata": {
        "id": "-OfikcA7GH2Y"
      }
    },
    {
      "cell_type": "code",
      "source": [
        "!source /opt/intel/oneapi/setvars.sh intel64 && icx -DNOFUNCCALL -qopt-report=1 multiply.c driver.c -o vec_report1"
      ],
      "metadata": {
        "colab": {
          "base_uri": "https://localhost:8080/"
        },
        "id": "pMEUkeTmGWJI",
        "outputId": "35798a6d-1dc9-4eea-d0a0-6b8ffa83f7b2"
      },
      "execution_count": null,
      "outputs": [
        {
          "output_type": "stream",
          "name": "stdout",
          "text": [
            " \n",
            ":: initializing oneAPI environment ...\n",
            "   bash: BASH_VERSION = 5.1.16(1)-release\n",
            "   args: Using \"$@\" for setvars.sh arguments: intel64\n",
            ":: advisor -- latest\n",
            ":: ccl -- latest\n",
            ":: compiler -- latest\n",
            ":: dal -- latest\n",
            ":: debugger -- latest\n",
            ":: dev-utilities -- latest\n",
            ":: dnnl -- latest\n",
            ":: dpcpp-ct -- latest\n",
            ":: dpl -- latest\n",
            ":: ipp -- latest\n",
            ":: ippcp -- latest\n",
            ":: mkl -- latest\n",
            ":: mpi -- latest\n",
            ":: tbb -- latest\n",
            ":: vtune -- latest\n",
            ":: oneAPI environment initialized ::\n",
            " \n"
          ]
        }
      ]
    },
    {
      "cell_type": "code",
      "source": [
        "!./vec_report1"
      ],
      "metadata": {
        "colab": {
          "base_uri": "https://localhost:8080/"
        },
        "id": "Jz7xKpmIGa-d",
        "outputId": "fc8db7a3-b854-48be-e723-22e8daf6ba79"
      },
      "execution_count": null,
      "outputs": [
        {
          "output_type": "stream",
          "name": "stdout",
          "text": [
            "\n",
            "ROW:101 COL: 101\n",
            "Execution time is 5.152 seconds\n",
            "GigaFlops = 3.960066\n",
            "Sum of result = 195853.999899\n"
          ]
        }
      ]
    },
    {
      "cell_type": "code",
      "source": [
        "!ls"
      ],
      "metadata": {
        "colab": {
          "base_uri": "https://localhost:8080/"
        },
        "id": "8mcPtNRaGiDn",
        "outputId": "0247624f-035d-48fb-b097-f1eb86e13cac"
      },
      "execution_count": null,
      "outputs": [
        {
          "output_type": "stream",
          "name": "stdout",
          "text": [
            "a.out\t\t driver.optrpt\t  MatVector\t  multiply.c\t     sample_data\n",
            "cblas_example\t driver.opt.yaml  mkl_example\t  multiply.h\t     vec_report1\n",
            "cblas_example.c  hello-world\t  mkl_example.c   multiply.optrpt\n",
            "driver.c\t hello-world.cpp  mkl_exampleicc  multiply.opt.yaml\n"
          ]
        }
      ]
    },
    {
      "cell_type": "code",
      "source": [
        "!cat driver.optrpt"
      ],
      "metadata": {
        "colab": {
          "base_uri": "https://localhost:8080/"
        },
        "id": "bamEPZfhGmfx",
        "outputId": "56994719-0d76-4ff7-c28b-97185a59bdbf"
      },
      "execution_count": null,
      "outputs": [
        {
          "output_type": "stream",
          "name": "stdout",
          "text": [
            "Global optimization report for : init_matrix\n",
            "\n",
            "LOOP BEGIN at driver.c (17, 5)\n",
            "\n",
            "    LOOP BEGIN at driver.c (18, 9)\n",
            "        remark #25439: Loop unrolled with remainder by 8\n",
            "    LOOP END\n",
            "\n",
            "    LOOP BEGIN at driver.c (18, 9)\n",
            "    <Remainder loop>\n",
            "        remark #25585: Loop converted to switch\n",
            "    LOOP END\n",
            "LOOP END\n",
            "=================================================================\n",
            "\n",
            "Global optimization report for : init_array\n",
            "\n",
            "LOOP BEGIN at driver.c (32, 5)\n",
            "    remark #25439: Loop unrolled with remainder by 8\n",
            "LOOP END\n",
            "\n",
            "LOOP BEGIN at driver.c (32, 5)\n",
            "<Remainder loop>\n",
            "    remark #25585: Loop converted to switch\n",
            "LOOP END\n",
            "=================================================================\n",
            "\n",
            "Global optimization report for : printsum\n",
            "\n",
            "LOOP BEGIN at driver.c (44, 5)\n",
            "    remark #25439: Loop unrolled with remainder by 8\n",
            "LOOP END\n",
            "\n",
            "LOOP BEGIN at driver.c (44, 5)\n",
            "<Remainder loop>\n",
            "    remark #25585: Loop converted to switch\n",
            "LOOP END\n",
            "=================================================================\n",
            "\n",
            "Global optimization report for : clock_it\n",
            "=================================================================\n",
            "\n",
            "Global optimization report for : main\n",
            "\n",
            "LOOP BEGIN at driver.c (17, 5)\n",
            "\n",
            "    LOOP BEGIN at driver.c (18, 9)\n",
            "        remark #25439: Loop unrolled with remainder by 8\n",
            "    LOOP END\n",
            "\n",
            "    LOOP BEGIN at driver.c (18, 9)\n",
            "    <Remainder loop>\n",
            "    LOOP END\n",
            "LOOP END\n",
            "\n",
            "LOOP BEGIN at driver.c (32, 5)\n",
            "    remark #25439: Loop unrolled with remainder by 8\n",
            "LOOP END\n",
            "\n",
            "LOOP BEGIN at driver.c (32, 5)\n",
            "<Remainder loop>\n",
            "LOOP END\n",
            "\n",
            "LOOP BEGIN at driver.c (84, 5)\n",
            "\n",
            "    LOOP BEGIN at driver.c (87, 9)\n",
            "        remark #25529: Dead stores eliminated in loop\n",
            "\n",
            "        LOOP BEGIN at driver.c (89, 13)\n",
            "            remark #15300: LOOP WAS VECTORIZED\n",
            "            remark #15305: vectorization support: vector length 2\n",
            "        LOOP END\n",
            "\n",
            "        LOOP BEGIN at driver.c (89, 13)\n",
            "        <Remainder loop for vectorization>\n",
            "        LOOP END\n",
            "    LOOP END\n",
            "LOOP END\n",
            "\n",
            "LOOP BEGIN at driver.c (44, 5)\n",
            "    remark #25439: Loop unrolled with remainder by 8\n",
            "LOOP END\n",
            "\n",
            "LOOP BEGIN at driver.c (44, 5)\n",
            "<Remainder loop>\n",
            "LOOP END\n",
            "=================================================================\n",
            "\n",
            "---- Begin Inlining Report ----\n",
            "COMPILE FUNC: init_matrix\n",
            "   -> DELETE: llvm.ssa.copy.i64 driver.c\n",
            "   -> DELETE: llvm.ssa.copy.i64 driver.c (18,27)\n",
            "   -> DELETE: llvm.ssa.copy.i64 driver.c (17,23)\n",
            "\n",
            "COMPILE FUNC: init_array\n",
            "   -> DELETE: llvm.ssa.copy.i64 driver.c (32,26)\n",
            "\n",
            "COMPILE FUNC: printsum\n",
            "   -> DELETE: llvm.ssa.copy.i64 driver.c (44,24)\n",
            "   -> llvm.vector.reduce.fadd.v8f64 driver.c (44,31)\n",
            "\n",
            "COMPILE FUNC: clock_it\n",
            "\n",
            "COMPILE FUNC: main\n",
            "   -> INLINE: init_matrix driver.c (79,5)\n",
            "   -> INLINE: init_array driver.c (80,5)\n",
            "   -> INLINE: clock_it driver.c (83,17)\n",
            "   -> INLINE: clock_it driver.c (98,15)\n",
            "   -> INLINE: printsum driver.c (103,5)\n",
            "   -> DELETE: llvm.vector.reduce.fadd.v2f64 driver.c (90,22)\n",
            "   -> DELETE: llvm.vector.reduce.fadd.v2f64 driver.c (90,22)\n",
            "   -> DELETE: llvm.ssa.copy.i64 driver.c\n",
            "   -> DELETE: llvm.ssa.copy.i64 driver.c (18,27)\n",
            "   -> DELETE: llvm.ssa.copy.i64 driver.c (17,23)\n",
            "   -> DELETE: llvm.ssa.copy.i64 driver.c\n",
            "   -> DELETE: llvm.ssa.copy.i64 driver.c (32,26)\n",
            "   -> DELETE: llvm.ssa.copy.i64 driver.c\n",
            "   -> DELETE: llvm.ssa.copy.i64 driver.c\n",
            "   -> DELETE: llvm.ssa.copy.f64 driver.c\n",
            "   -> DELETE: llvm.ssa.copy.i64 driver.c (89,36)\n",
            "   -> DELETE: llvm.ssa.copy.i64 driver.c (87,33)\n",
            "   -> DELETE: llvm.ssa.copy.i32 driver.c (84,34)\n",
            "   -> DELETE: llvm.ssa.copy.i64 driver.c (44,24)\n",
            "   -> llvm.vector.reduce.fadd.v2f64 driver.c (90,22)\n",
            "   -> llvm.vector.reduce.fadd.v8f64 driver.c (44,31)\n",
            "\n",
            "---- End Inlining Report ------\n"
          ]
        }
      ]
    },
    {
      "cell_type": "markdown",
      "source": [
        "### Generate a Level 2 Optimization Report"
      ],
      "metadata": {
        "id": "AogZS4jjHMPa"
      }
    },
    {
      "cell_type": "code",
      "source": [
        "!source /opt/intel/oneapi/setvars.sh intel64 && icx -DNOFUNCCALL -qopt-report=2 multiply.c driver.c -o vec_report2"
      ],
      "metadata": {
        "colab": {
          "base_uri": "https://localhost:8080/"
        },
        "id": "fURjDHLpHPQ9",
        "outputId": "315a8a7f-e228-4d8d-b217-afffbab8cf5f"
      },
      "execution_count": null,
      "outputs": [
        {
          "output_type": "stream",
          "name": "stdout",
          "text": [
            " \n",
            ":: initializing oneAPI environment ...\n",
            "   bash: BASH_VERSION = 5.1.16(1)-release\n",
            "   args: Using \"$@\" for setvars.sh arguments: intel64\n",
            ":: advisor -- latest\n",
            ":: ccl -- latest\n",
            ":: compiler -- latest\n",
            ":: dal -- latest\n",
            ":: debugger -- latest\n",
            ":: dev-utilities -- latest\n",
            ":: dnnl -- latest\n",
            ":: dpcpp-ct -- latest\n",
            ":: dpl -- latest\n",
            ":: ipp -- latest\n",
            ":: ippcp -- latest\n",
            ":: mkl -- latest\n",
            ":: mpi -- latest\n",
            ":: tbb -- latest\n",
            ":: vtune -- latest\n",
            ":: oneAPI environment initialized ::\n",
            " \n"
          ]
        }
      ]
    },
    {
      "cell_type": "code",
      "source": [
        "!./vec_report2"
      ],
      "metadata": {
        "colab": {
          "base_uri": "https://localhost:8080/"
        },
        "id": "BSYpEGkMHVAa",
        "outputId": "60869268-791c-4597-dfa2-6fd6912dab73"
      },
      "execution_count": null,
      "outputs": [
        {
          "output_type": "stream",
          "name": "stdout",
          "text": [
            "\n",
            "ROW:101 COL: 101\n",
            "Execution time is 5.462 seconds\n",
            "GigaFlops = 3.735368\n",
            "Sum of result = 195853.999899\n"
          ]
        }
      ]
    },
    {
      "cell_type": "markdown",
      "source": [
        "The resulting report includes information about which loops were vectorized and which loops were not vectorized"
      ],
      "metadata": {
        "id": "Pk2hIkyLHd4s"
      }
    },
    {
      "cell_type": "code",
      "source": [
        "!ls"
      ],
      "metadata": {
        "colab": {
          "base_uri": "https://localhost:8080/"
        },
        "id": "n6JNKqxKHfgM",
        "outputId": "d6d5434c-c5fd-4bb4-a292-670cddeb89d1"
      },
      "execution_count": null,
      "outputs": [
        {
          "output_type": "stream",
          "name": "stdout",
          "text": [
            "a.out\t\t driver.optrpt\t  MatVector\t  multiply.c\t     sample_data\n",
            "cblas_example\t driver.opt.yaml  mkl_example\t  multiply.h\t     vec_report1\n",
            "cblas_example.c  hello-world\t  mkl_example.c   multiply.optrpt    vec_report2\n",
            "driver.c\t hello-world.cpp  mkl_exampleicc  multiply.opt.yaml\n"
          ]
        }
      ]
    },
    {
      "cell_type": "code",
      "source": [
        "!cat driver.optrpt"
      ],
      "metadata": {
        "colab": {
          "base_uri": "https://localhost:8080/"
        },
        "id": "JE0MX6tAHgoG",
        "outputId": "d9075f93-a904-4307-e04c-18627507e0c8"
      },
      "execution_count": null,
      "outputs": [
        {
          "output_type": "stream",
          "name": "stdout",
          "text": [
            "Global optimization report for : init_matrix\n",
            "\n",
            "LOOP BEGIN at driver.c (17, 5)\n",
            "    remark #15553: loop was not vectorized: outer loop is not an auto-vectorization candidate.\n",
            "\n",
            "    LOOP BEGIN at driver.c (18, 9)\n",
            "        remark #15335: loop was not vectorized: vectorization possible but seems inefficient. Use vector always directive or -vec-threshold0 to override \n",
            "        remark #25439: Loop unrolled with remainder by 8\n",
            "    LOOP END\n",
            "\n",
            "    LOOP BEGIN at driver.c (18, 9)\n",
            "    <Remainder loop>\n",
            "        remark #25585: Loop converted to switch\n",
            "    LOOP END\n",
            "LOOP END\n",
            "=================================================================\n",
            "\n",
            "Global optimization report for : init_array\n",
            "\n",
            "LOOP BEGIN at driver.c (32, 5)\n",
            "    remark #15335: loop was not vectorized: vectorization possible but seems inefficient. Use vector always directive or -vec-threshold0 to override \n",
            "    remark #25439: Loop unrolled with remainder by 8\n",
            "LOOP END\n",
            "\n",
            "LOOP BEGIN at driver.c (32, 5)\n",
            "<Remainder loop>\n",
            "    remark #25585: Loop converted to switch\n",
            "LOOP END\n",
            "=================================================================\n",
            "\n",
            "Global optimization report for : printsum\n",
            "\n",
            "LOOP BEGIN at driver.c (44, 5)\n",
            "    remark #15335: loop was not vectorized: vectorization possible but seems inefficient. Use vector always directive or -vec-threshold0 to override \n",
            "    remark #25439: Loop unrolled with remainder by 8\n",
            "LOOP END\n",
            "\n",
            "LOOP BEGIN at driver.c (44, 5)\n",
            "<Remainder loop>\n",
            "    remark #25585: Loop converted to switch\n",
            "LOOP END\n",
            "=================================================================\n",
            "\n",
            "Global optimization report for : clock_it\n",
            "=================================================================\n",
            "\n",
            "Global optimization report for : main\n",
            "\n",
            "LOOP BEGIN at driver.c (17, 5)\n",
            "    remark #15553: loop was not vectorized: outer loop is not an auto-vectorization candidate.\n",
            "\n",
            "    LOOP BEGIN at driver.c (18, 9)\n",
            "        remark #15335: loop was not vectorized: vectorization possible but seems inefficient. Use vector always directive or -vec-threshold0 to override \n",
            "        remark #25439: Loop unrolled with remainder by 8\n",
            "    LOOP END\n",
            "\n",
            "    LOOP BEGIN at driver.c (18, 9)\n",
            "    <Remainder loop>\n",
            "    LOOP END\n",
            "LOOP END\n",
            "\n",
            "LOOP BEGIN at driver.c (32, 5)\n",
            "    remark #15335: loop was not vectorized: vectorization possible but seems inefficient. Use vector always directive or -vec-threshold0 to override \n",
            "    remark #25439: Loop unrolled with remainder by 8\n",
            "LOOP END\n",
            "\n",
            "LOOP BEGIN at driver.c (32, 5)\n",
            "<Remainder loop>\n",
            "LOOP END\n",
            "\n",
            "LOOP BEGIN at driver.c (84, 5)\n",
            "    remark #15553: loop was not vectorized: outer loop is not an auto-vectorization candidate.\n",
            "\n",
            "    LOOP BEGIN at driver.c (87, 9)\n",
            "        remark #25529: Dead stores eliminated in loop\n",
            "        remark #15553: loop was not vectorized: outer loop is not an auto-vectorization candidate.\n",
            "\n",
            "        LOOP BEGIN at driver.c (89, 13)\n",
            "            remark #15300: LOOP WAS VECTORIZED\n",
            "            remark #15305: vectorization support: vector length 2\n",
            "        LOOP END\n",
            "\n",
            "        LOOP BEGIN at driver.c (89, 13)\n",
            "        <Remainder loop for vectorization>\n",
            "        LOOP END\n",
            "    LOOP END\n",
            "LOOP END\n",
            "\n",
            "LOOP BEGIN at driver.c (44, 5)\n",
            "    remark #15335: loop was not vectorized: vectorization possible but seems inefficient. Use vector always directive or -vec-threshold0 to override \n",
            "    remark #25439: Loop unrolled with remainder by 8\n",
            "LOOP END\n",
            "\n",
            "LOOP BEGIN at driver.c (44, 5)\n",
            "<Remainder loop>\n",
            "LOOP END\n",
            "=================================================================\n",
            "\n",
            "---- Begin Inlining Report ----\n",
            "Option Values:\n",
            "  inline-threshold: 225\n",
            "  inlinehint-threshold: 325\n",
            "  inlinecold-threshold: 45\n",
            "  inlineoptsize-threshold: 15\n",
            "\n",
            "DEAD STATIC FUNC: llvm.ssa.copy.f64\n",
            "\n",
            "DEAD STATIC FUNC: llvm.ssa.copy.i32\n",
            "\n",
            "DEAD STATIC FUNC: llvm.ssa.copy.i64\n",
            "\n",
            "COMPILE FUNC: init_matrix\n",
            "   -> DELETE: llvm.ssa.copy.i64 driver.c\n",
            "   -> DELETE: llvm.ssa.copy.i64 driver.c (18,27)\n",
            "   -> DELETE: llvm.ssa.copy.i64 driver.c (17,23)\n",
            "\n",
            "COMPILE FUNC: init_array\n",
            "   -> DELETE: llvm.ssa.copy.i64 driver.c (32,26)\n",
            "\n",
            "COMPILE FUNC: printsum\n",
            "   -> DELETE: llvm.ssa.copy.i64 driver.c (44,24)\n",
            "   -> llvm.vector.reduce.fadd.v8f64 driver.c (44,31)\n",
            "\n",
            "COMPILE FUNC: clock_it\n",
            "\n",
            "COMPILE FUNC: main\n",
            "   -> INLINE: init_matrix driver.c (79,5)\n",
            "   -> INLINE: init_array driver.c (80,5)\n",
            "   -> INLINE: clock_it driver.c (83,17)\n",
            "   -> INLINE: clock_it driver.c (98,15)\n",
            "   -> INLINE: printsum driver.c (103,5)\n",
            "   -> DELETE: llvm.vector.reduce.fadd.v2f64 driver.c (90,22)\n",
            "   -> DELETE: llvm.vector.reduce.fadd.v2f64 driver.c (90,22)\n",
            "   -> DELETE: llvm.ssa.copy.i64 driver.c\n",
            "   -> DELETE: llvm.ssa.copy.i64 driver.c (18,27)\n",
            "   -> DELETE: llvm.ssa.copy.i64 driver.c (17,23)\n",
            "   -> DELETE: llvm.ssa.copy.i64 driver.c\n",
            "   -> DELETE: llvm.ssa.copy.i64 driver.c (32,26)\n",
            "   -> DELETE: llvm.ssa.copy.i64 driver.c\n",
            "   -> DELETE: llvm.ssa.copy.i64 driver.c\n",
            "   -> DELETE: llvm.ssa.copy.f64 driver.c\n",
            "   -> DELETE: llvm.ssa.copy.i64 driver.c (89,36)\n",
            "   -> DELETE: llvm.ssa.copy.i64 driver.c (87,33)\n",
            "   -> DELETE: llvm.ssa.copy.i32 driver.c (84,34)\n",
            "   -> DELETE: llvm.ssa.copy.i64 driver.c (44,24)\n",
            "   -> llvm.vector.reduce.fadd.v2f64 driver.c (90,22)\n",
            "   -> llvm.vector.reduce.fadd.v8f64 driver.c (44,31)\n",
            "\n",
            "---- End Inlining Report ------\n"
          ]
        }
      ]
    },
    {
      "cell_type": "markdown",
      "source": [
        "### Generate a Level 3 Optimization Report\n",
        "Now use qopt-report=3 to generate a report with maximum details."
      ],
      "metadata": {
        "id": "S6mcTk_DHuHi"
      }
    },
    {
      "cell_type": "code",
      "source": [
        "!source /opt/intel/oneapi/setvars.sh intel64 && icx -DNOFUNCCALL -qopt-report=3 multiply.c driver.c -o vec_report3"
      ],
      "metadata": {
        "colab": {
          "base_uri": "https://localhost:8080/"
        },
        "id": "wNZ1zcspHwrT",
        "outputId": "bc6a9b41-9525-449a-d81e-d8b404dccc18"
      },
      "execution_count": null,
      "outputs": [
        {
          "output_type": "stream",
          "name": "stdout",
          "text": [
            " \n",
            ":: initializing oneAPI environment ...\n",
            "   bash: BASH_VERSION = 5.1.16(1)-release\n",
            "   args: Using \"$@\" for setvars.sh arguments: intel64\n",
            ":: advisor -- latest\n",
            ":: ccl -- latest\n",
            ":: compiler -- latest\n",
            ":: dal -- latest\n",
            ":: debugger -- latest\n",
            ":: dev-utilities -- latest\n",
            ":: dnnl -- latest\n",
            ":: dpcpp-ct -- latest\n",
            ":: dpl -- latest\n",
            ":: ipp -- latest\n",
            ":: ippcp -- latest\n",
            ":: mkl -- latest\n",
            ":: mpi -- latest\n",
            ":: tbb -- latest\n",
            ":: vtune -- latest\n",
            ":: oneAPI environment initialized ::\n",
            " \n"
          ]
        }
      ]
    },
    {
      "cell_type": "code",
      "source": [
        "!./vec_report3"
      ],
      "metadata": {
        "colab": {
          "base_uri": "https://localhost:8080/"
        },
        "id": "-6i4PCvWH2CO",
        "outputId": "3e0e7715-7aa7-4d1a-b02f-2ee8d242c3c9"
      },
      "execution_count": null,
      "outputs": [
        {
          "output_type": "stream",
          "name": "stdout",
          "text": [
            "\n",
            "ROW:101 COL: 101\n",
            "Execution time is 5.848 seconds\n",
            "GigaFlops = 3.488722\n",
            "Sum of result = 195853.999899\n"
          ]
        }
      ]
    },
    {
      "cell_type": "code",
      "source": [
        "!cat driver.optrpt"
      ],
      "metadata": {
        "colab": {
          "base_uri": "https://localhost:8080/"
        },
        "id": "jZLke-L9IG_A",
        "outputId": "1ac63eed-0215-43e7-886b-636c432985b8"
      },
      "execution_count": null,
      "outputs": [
        {
          "output_type": "stream",
          "name": "stdout",
          "text": [
            "Global optimization report for : init_matrix\n",
            "\n",
            "LOOP BEGIN at driver.c (17, 5)\n",
            "    remark #15553: loop was not vectorized: outer loop is not an auto-vectorization candidate.\n",
            "\n",
            "    LOOP BEGIN at driver.c (18, 9)\n",
            "        remark #15335: loop was not vectorized: vectorization possible but seems inefficient. Use vector always directive or -vec-threshold0 to override \n",
            "        remark #25439: Loop unrolled with remainder by 8\n",
            "    LOOP END\n",
            "\n",
            "    LOOP BEGIN at driver.c (18, 9)\n",
            "    <Remainder loop>\n",
            "        remark #25585: Loop converted to switch\n",
            "    LOOP END\n",
            "LOOP END\n",
            "=================================================================\n",
            "\n",
            "Global optimization report for : init_array\n",
            "\n",
            "LOOP BEGIN at driver.c (32, 5)\n",
            "    remark #15335: loop was not vectorized: vectorization possible but seems inefficient. Use vector always directive or -vec-threshold0 to override \n",
            "    remark #25439: Loop unrolled with remainder by 8\n",
            "LOOP END\n",
            "\n",
            "LOOP BEGIN at driver.c (32, 5)\n",
            "<Remainder loop>\n",
            "    remark #25585: Loop converted to switch\n",
            "LOOP END\n",
            "=================================================================\n",
            "\n",
            "Global optimization report for : printsum\n",
            "\n",
            "LOOP BEGIN at driver.c (44, 5)\n",
            "    remark #15335: loop was not vectorized: vectorization possible but seems inefficient. Use vector always directive or -vec-threshold0 to override \n",
            "    remark #25439: Loop unrolled with remainder by 8\n",
            "LOOP END\n",
            "\n",
            "LOOP BEGIN at driver.c (44, 5)\n",
            "<Remainder loop>\n",
            "    remark #25585: Loop converted to switch\n",
            "LOOP END\n",
            "=================================================================\n",
            "\n",
            "Global optimization report for : clock_it\n",
            "=================================================================\n",
            "\n",
            "Global optimization report for : main\n",
            "\n",
            "LOOP BEGIN at driver.c (17, 5)\n",
            "    remark #15553: loop was not vectorized: outer loop is not an auto-vectorization candidate.\n",
            "\n",
            "    LOOP BEGIN at driver.c (18, 9)\n",
            "        remark #15335: loop was not vectorized: vectorization possible but seems inefficient. Use vector always directive or -vec-threshold0 to override \n",
            "        remark #25439: Loop unrolled with remainder by 8\n",
            "    LOOP END\n",
            "\n",
            "    LOOP BEGIN at driver.c (18, 9)\n",
            "    <Remainder loop>\n",
            "    LOOP END\n",
            "LOOP END\n",
            "\n",
            "LOOP BEGIN at driver.c (32, 5)\n",
            "    remark #15335: loop was not vectorized: vectorization possible but seems inefficient. Use vector always directive or -vec-threshold0 to override \n",
            "    remark #25439: Loop unrolled with remainder by 8\n",
            "LOOP END\n",
            "\n",
            "LOOP BEGIN at driver.c (32, 5)\n",
            "<Remainder loop>\n",
            "LOOP END\n",
            "\n",
            "LOOP BEGIN at driver.c (84, 5)\n",
            "    remark #15553: loop was not vectorized: outer loop is not an auto-vectorization candidate.\n",
            "\n",
            "    LOOP BEGIN at driver.c (87, 9)\n",
            "        remark #25529: Dead stores eliminated in loop\n",
            "        remark #15553: loop was not vectorized: outer loop is not an auto-vectorization candidate.\n",
            "\n",
            "        LOOP BEGIN at driver.c (89, 13)\n",
            "            remark #15300: LOOP WAS VECTORIZED\n",
            "            remark #15305: vectorization support: vector length 2\n",
            "            remark #15475: --- begin vector loop cost summary ---\n",
            "            remark #15476: scalar cost: 8.000000 \n",
            "            remark #15477: vector cost: 7.500000 \n",
            "            remark #15478: estimated potential speedup: 1.046875 \n",
            "            remark #15309: vectorization support: normalized vectorization overhead 0.390625\n",
            "            remark #15570: using scalar loop trip count: 101\n",
            "            remark #15488: --- end vector loop cost summary ---\n",
            "            remark #15447: --- begin vector loop memory reference summary ---\n",
            "            remark #15448: unmasked aligned unit stride loads: 2 \n",
            "            remark #15474: --- end vector loop memory reference summary ---\n",
            "            remark #25587: Loop has reduction\n",
            "            remark #15590: vectorization support: add reduction with value type double [driver.c:90:22]\n",
            "        LOOP END\n",
            "\n",
            "        LOOP BEGIN at driver.c (89, 13)\n",
            "        <Remainder loop for vectorization>\n",
            "        LOOP END\n",
            "    LOOP END\n",
            "LOOP END\n",
            "\n",
            "LOOP BEGIN at driver.c (44, 5)\n",
            "    remark #15335: loop was not vectorized: vectorization possible but seems inefficient. Use vector always directive or -vec-threshold0 to override \n",
            "    remark #25439: Loop unrolled with remainder by 8\n",
            "LOOP END\n",
            "\n",
            "LOOP BEGIN at driver.c (44, 5)\n",
            "<Remainder loop>\n",
            "LOOP END\n",
            "=================================================================\n",
            "\n",
            "---- Begin Inlining Report ----\n",
            "Option Values:\n",
            "  inline-threshold: 225\n",
            "  inlinehint-threshold: 325\n",
            "  inlinecold-threshold: 45\n",
            "  inlineoptsize-threshold: 15\n",
            "\n",
            "DEAD STATIC FUNC: llvm.ssa.copy.f64\n",
            "\n",
            "DEAD STATIC FUNC: llvm.ssa.copy.i32\n",
            "\n",
            "DEAD STATIC FUNC: llvm.ssa.copy.i64\n",
            "\n",
            "COMPILE FUNC: init_matrix\n",
            "   -> DELETE: llvm.ssa.copy.i64 driver.c\n",
            "   -> DELETE: llvm.ssa.copy.i64 driver.c (18,27)\n",
            "   -> DELETE: llvm.ssa.copy.i64 driver.c (17,23)\n",
            "\n",
            "COMPILE FUNC: init_array\n",
            "   -> DELETE: llvm.ssa.copy.i64 driver.c (32,26)\n",
            "\n",
            "COMPILE FUNC: printsum\n",
            "   -> EXTERN: printf driver.c (46,5)\n",
            "   -> DELETE: llvm.ssa.copy.i64 driver.c (44,24)\n",
            "   -> llvm.vector.reduce.fadd.v8f64 driver.c (44,31)\n",
            "\n",
            "COMPILE FUNC: clock_it\n",
            "   -> EXTERN: gettimeofday driver.c (56,5)\n",
            "\n",
            "COMPILE FUNC: main\n",
            "   -> EXTERN: printf driver.c (76,5)\n",
            "   -> INLINE: init_matrix driver.c (79,5) (10<=225)\n",
            "   -> INLINE: init_array driver.c (80,5) (-10<=225)\n",
            "   -> INLINE: clock_it driver.c (83,17) (45<=337)\n",
            "      -> EXTERN: gettimeofday driver.c (56,5)\n",
            "   -> INLINE: clock_it driver.c (98,15) (45<=337)\n",
            "      -> EXTERN: gettimeofday driver.c (56,5)\n",
            "   -> EXTERN: printf driver.c (101,5)\n",
            "   -> EXTERN: printf driver.c (102,5)\n",
            "   -> INLINE: printsum driver.c (103,5) (25<=225)\n",
            "      -> EXTERN: printf driver.c (46,5)\n",
            "   -> DELETE: llvm.vector.reduce.fadd.v2f64 driver.c (90,22)\n",
            "   -> DELETE: llvm.vector.reduce.fadd.v2f64 driver.c (90,22)\n",
            "   -> DELETE: llvm.ssa.copy.i64 driver.c\n",
            "   -> DELETE: llvm.ssa.copy.i64 driver.c (18,27)\n",
            "   -> DELETE: llvm.ssa.copy.i64 driver.c (17,23)\n",
            "   -> DELETE: llvm.ssa.copy.i64 driver.c\n",
            "   -> DELETE: llvm.ssa.copy.i64 driver.c (32,26)\n",
            "   -> DELETE: llvm.ssa.copy.i64 driver.c\n",
            "   -> DELETE: llvm.ssa.copy.i64 driver.c\n",
            "   -> DELETE: llvm.ssa.copy.f64 driver.c\n",
            "   -> DELETE: llvm.ssa.copy.i64 driver.c (89,36)\n",
            "   -> DELETE: llvm.ssa.copy.i64 driver.c (87,33)\n",
            "   -> DELETE: llvm.ssa.copy.i32 driver.c (84,34)\n",
            "   -> DELETE: llvm.ssa.copy.i64 driver.c (44,24)\n",
            "   -> llvm.vector.reduce.fadd.v2f64 driver.c (90,22)\n",
            "   -> llvm.vector.reduce.fadd.v8f64 driver.c (44,31)\n",
            "\n",
            "---- End Inlining Report ------\n"
          ]
        }
      ]
    }
  ]
}