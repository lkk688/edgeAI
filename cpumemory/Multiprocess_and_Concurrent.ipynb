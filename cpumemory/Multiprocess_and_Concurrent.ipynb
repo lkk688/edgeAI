{
  "nbformat": 4,
  "nbformat_minor": 0,
  "metadata": {
    "colab": {
      "provenance": []
    },
    "kernelspec": {
      "name": "python3",
      "display_name": "Python 3"
    },
    "language_info": {
      "name": "python"
    }
  },
  "cells": [
    {
      "cell_type": "markdown",
      "source": [
        "# Process"
      ],
      "metadata": {
        "id": "Os_TyWaG_xMA"
      }
    },
    {
      "cell_type": "markdown",
      "source": [
        "What is a process? A process is a program in execution.\n",
        "\n",
        "What is a program? A program is a file containing the information of a process and how to build it during run time. When you start execution of the program, it is loaded into RAM and starts executing.\n",
        "\n",
        "Each process is identified with a unique positive integer called as process ID or simply PID (Process Identification number). The kernel usually limits the process ID to 32767, which is configurable. When the process ID reaches this limit, it is reset again, which is after the system processes range. The unused process IDs from that counter are then assigned to newly created processes.\n",
        "\n"
      ],
      "metadata": {
        "id": "g46TqKejm7lZ"
      }
    },
    {
      "cell_type": "markdown",
      "source": [
        "The system call getpid() returns the process ID of the calling process.\n",
        "```bash\n",
        "#include <sys/types.h>\n",
        "#include <unistd.h>\n",
        "\n",
        "pid_t getpid(void);\n",
        "```\n",
        "This call returns the process ID of the calling process which is guaranteed to be unique. This call is always successful and thus no return value to indicate an error."
      ],
      "metadata": {
        "id": "Zm1tWr-Sm_Do"
      }
    },
    {
      "cell_type": "markdown",
      "source": [
        "Each process has its unique ID called process ID. Creator process is called the parent process. Parent ID or PPID can be obtained through getppid() call.\n",
        "The system call getppid() returns the Parent PID of the calling process.\n",
        "```bash\n",
        "#include <sys/types.h>\n",
        "#include <unistd.h>\n",
        "\n",
        "pid_t getppid(void);\n",
        "```\n",
        "This call returns the parent process ID of the calling process. This call is always successful and thus no return value to indicate an error."
      ],
      "metadata": {
        "id": "-SIWLif7nKuc"
      }
    },
    {
      "cell_type": "code",
      "execution_count": null,
      "metadata": {
        "colab": {
          "base_uri": "https://localhost:8080/"
        },
        "id": "TRmf6wSnmhx9",
        "outputId": "42082009-d7ca-4581-8ad6-83304d3a372c"
      },
      "outputs": [
        {
          "output_type": "stream",
          "name": "stdout",
          "text": [
            "Writing processinfo.c\n"
          ]
        }
      ],
      "source": [
        "%%writefile processinfo.c\n",
        "#include <stdio.h>\n",
        "#include <stdlib.h>\n",
        "#include <sys/types.h>\n",
        "#include <unistd.h>\n",
        "\n",
        "int main() {\n",
        "   int mypid, myppid;\n",
        "   printf(\"Program to know PID and PPID's information\\n\");\n",
        "   mypid = getpid();\n",
        "   myppid = getppid();\n",
        "   printf(\"My process ID is %d\\n\", mypid);\n",
        "   printf(\"My parent process ID is %d\\n\", myppid);\n",
        "   printf(\"Cross verification of pid's by executing process commands on shell\\n\");\n",
        "   system(\"ps -ef\");\n",
        "   return 0;\n",
        "}"
      ]
    },
    {
      "cell_type": "code",
      "source": [
        "!gcc processinfo.c -o processinfo"
      ],
      "metadata": {
        "id": "23hDtcmvnlGU"
      },
      "execution_count": null,
      "outputs": []
    },
    {
      "cell_type": "code",
      "source": [
        "!./processinfo"
      ],
      "metadata": {
        "colab": {
          "base_uri": "https://localhost:8080/"
        },
        "id": "b7j07yrhnrYl",
        "outputId": "bcc1d74c-62d6-4a0e-80af-e9f76c3936dd"
      },
      "execution_count": null,
      "outputs": [
        {
          "output_type": "stream",
          "name": "stdout",
          "text": [
            "Program to know PID and PPID's information\n",
            "My process ID is 307\n",
            "My parent process ID is 153\n",
            "Cross verification of pid's by executing process commands on shell\n",
            "UID          PID    PPID  C STIME TTY          TIME CMD\n",
            "root           1       0  0 19:11 ?        00:00:00 /sbin/docker-init -- /datalab/run.sh\n",
            "root           7       1  2 19:11 ?        00:00:00 /tools/node/bin/node /datalab/web/app.js\n",
            "root          18       7  0 19:11 ?        00:00:00 /bin/bash -e /usr/local/colab/bin/oom_monitor.sh\n",
            "root          20       1  0 19:11 ?        00:00:00 /bin/bash -e /datalab/run.sh\n",
            "root          23      20  0 19:11 ?        00:00:00 /usr/colab/bin/kernel_manager_proxy --listen_por\n",
            "root          24       0  0 19:11 ?        00:00:00 tail -n +0 -F /root/.config/Google/DriveFS/Logs/\n",
            "root          64       7 22 19:11 ?        00:00:08 [python3] <defunct>\n",
            "root          65       7  2 19:11 ?        00:00:00 python3 /usr/local/bin/colab-fileshim.py\n",
            "root          87       7 10 19:11 ?        00:00:03 /usr/bin/python3 /usr/local/bin/jupyter-notebook\n",
            "root          88       7  0 19:11 ?        00:00:00 /usr/local/bin/dap_multiplexer --domain_socket_p\n",
            "root         153      87 14 19:11 ?        00:00:03 /usr/bin/python3 -m colab_kernel_launcher -f /ro\n",
            "root         183       1  0 19:11 ?        00:00:00 /usr/bin/python3 /usr/local/lib/python3.10/dist-\n",
            "root         207       7  0 19:11 ?        00:00:00 /usr/colab/bin/language_service --lsp_search_dir\n",
            "root         220     207 25 19:11 ?        00:00:04 node /datalab/web/pyright/pyright-langserver.js \n",
            "root         306      18  0 19:12 ?        00:00:00 sleep 1\n",
            "root         307     153  0 19:12 ?        00:00:00 ./processinfo\n",
            "root         308     307  0 19:12 ?        00:00:00 sh -c ps -ef\n",
            "root         309     308  0 19:12 ?        00:00:00 ps -ef\n"
          ]
        }
      ]
    },
    {
      "cell_type": "markdown",
      "source": [
        "Process creation is achieved through the fork() system call. The newly created process is called the child process and the process that initiated it (or the process when execution is started) is called the parent process. After the fork() system call, now we have two processes - parent and child processes. How to differentiate them? Very simple, it is through their return values.\n",
        "```bash\n",
        "#include <sys/types.h>\n",
        "#include <unistd.h>\n",
        "\n",
        "pid_t fork(void);\n",
        "```\n",
        "After this call, there are two processes, the existing one is called the parent process and the newly created one is called the child process.\n",
        "\n",
        "The fork() system call returns either of the three values −\n",
        "* Negative value to indicate an error, i.e., unsuccessful in creating the child process.\n",
        "* Returns a zero for child process.\n",
        "* Returns a positive value for the parent process. This value is the process ID of the newly created child process."
      ],
      "metadata": {
        "id": "segtTLAjoG5S"
      }
    },
    {
      "cell_type": "code",
      "source": [
        "%%writefile basicfork.c\n",
        "#include <stdio.h>\n",
        "#include <sys/types.h>\n",
        "#include <unistd.h>\n",
        "\n",
        "int main() {\n",
        "   fork();\n",
        "   printf(\"Called fork() system call\\n\");\n",
        "   return 0;\n",
        "}"
      ],
      "metadata": {
        "colab": {
          "base_uri": "https://localhost:8080/"
        },
        "id": "wOJLatDsp4RR",
        "outputId": "f78b819e-bf3f-4a91-b088-d529c82b374d"
      },
      "execution_count": null,
      "outputs": [
        {
          "output_type": "stream",
          "name": "stdout",
          "text": [
            "Writing basicfork.c\n"
          ]
        }
      ]
    },
    {
      "cell_type": "code",
      "source": [
        "!gcc basicfork.c -o basicfork"
      ],
      "metadata": {
        "id": "S3eUXJfEp-K8"
      },
      "execution_count": null,
      "outputs": []
    },
    {
      "cell_type": "code",
      "source": [
        "!./basicfork"
      ],
      "metadata": {
        "colab": {
          "base_uri": "https://localhost:8080/"
        },
        "id": "ssRm8Q1OqBMA",
        "outputId": "42683196-f5cb-4941-c657-cff1c60ce076"
      },
      "execution_count": null,
      "outputs": [
        {
          "output_type": "stream",
          "name": "stdout",
          "text": [
            "Called fork() system call\n",
            "Called fork() system call\n"
          ]
        }
      ]
    },
    {
      "cell_type": "markdown",
      "source": [
        "Usually after fork() call, the child process and the parent process would perform different tasks. If the same task needs to be run, then for each fork() call it would run 2 power n times, where n is the number of times fork() is invoked.\n",
        "\n",
        "In the above case, fork() is called once, hence the output is printed twice (2 power 1). If fork() is called, say 3 times, then the output would be printed 8 times (2 power 3). If it is called 5 times, then it prints 32 times and so on and so forth."
      ],
      "metadata": {
        "id": "a626Lf-uqL53"
      }
    },
    {
      "cell_type": "code",
      "source": [
        "%%writefile pids_after_fork.c\n",
        "#include <stdio.h>\n",
        "#include <sys/types.h>\n",
        "#include <unistd.h>\n",
        "\n",
        "int main() {\n",
        "   pid_t pid, mypid, myppid;\n",
        "   pid = getpid();\n",
        "   printf(\"Before fork: Process id is %d\\n\", pid);\n",
        "   pid = fork();\n",
        "\n",
        "   if (pid < 0) {\n",
        "      perror(\"fork() failure\\n\");\n",
        "      return 1;\n",
        "   }\n",
        "\n",
        "   // Child process\n",
        "   if (pid == 0) {\n",
        "      printf(\"This is child process\\n\");\n",
        "      mypid = getpid();\n",
        "      myppid = getppid();\n",
        "      printf(\"Process id is %d and PPID is %d\\n\", mypid, myppid);\n",
        "   } else { // Parent process\n",
        "      sleep(2);\n",
        "      printf(\"This is parent process\\n\");\n",
        "      mypid = getpid();\n",
        "      myppid = getppid();\n",
        "      printf(\"Process id is %d and PPID is %d\\n\", mypid, myppid);\n",
        "      printf(\"Newly created process id or child pid is %d\\n\", pid);\n",
        "   }\n",
        "   return 0;\n",
        "}"
      ],
      "metadata": {
        "colab": {
          "base_uri": "https://localhost:8080/"
        },
        "id": "sA4jfHVxqSNY",
        "outputId": "b3342f47-e171-4d81-d9db-db7ab9c819b3"
      },
      "execution_count": null,
      "outputs": [
        {
          "output_type": "stream",
          "name": "stdout",
          "text": [
            "Writing pids_after_fork.c\n"
          ]
        }
      ]
    },
    {
      "cell_type": "code",
      "source": [
        "!gcc pids_after_fork.c -o pids_after_fork"
      ],
      "metadata": {
        "id": "4Cj51ETBqXh6"
      },
      "execution_count": null,
      "outputs": []
    },
    {
      "cell_type": "code",
      "source": [
        "!./pids_after_fork"
      ],
      "metadata": {
        "colab": {
          "base_uri": "https://localhost:8080/"
        },
        "id": "JqJH0PRFqZRC",
        "outputId": "7fd51d4b-2967-43c0-d875-93808d9bfcde"
      },
      "execution_count": null,
      "outputs": [
        {
          "output_type": "stream",
          "name": "stdout",
          "text": [
            "Before fork: Process id is 3151\n",
            "This is child process\n",
            "Process id is 3152 and PPID is 3151\n",
            "This is parent process\n",
            "Process id is 3151 and PPID is 153\n",
            "Newly created process id or child pid is 3152\n"
          ]
        }
      ]
    },
    {
      "cell_type": "markdown",
      "source": [
        "A process can terminate in either of the two ways:\n",
        "* Abnormally, occurs on delivery of certain signals, say terminate signal.\n",
        "* Normally, using _exit() system call (or _Exit() system call) or exit() library function."
      ],
      "metadata": {
        "id": "B6tj0nHsqfhv"
      }
    },
    {
      "cell_type": "markdown",
      "source": [
        "The difference between _exit() and exit() is mainly the cleanup activity. The exit() does some cleanup before returning the control back to the kernel, while the _exit() (or _Exit()) would return the control back to the kernel immediately."
      ],
      "metadata": {
        "id": "OMr03PSKqm7g"
      }
    },
    {
      "cell_type": "markdown",
      "source": [
        "The atexit() function in C and C++ allows you to register a function to be called automatically when the program terminates normally.\n",
        "```bash\n",
        "int atexit(void (*func)(void));\n",
        "```\n",
        "The function returns: Zero if the function registration is successful; Non-zero if the function registration failed.\n",
        "* You can register one or more functions using atexit().\n",
        "* These functions will be executed in the reverse order they were registered (i.e., the last function specified is the first to be executed at exit).\n",
        "* A single function can be registered to be executed at exit more than once.\n",
        "* The function is called with no arguments."
      ],
      "metadata": {
        "id": "oW8fbB7grEYN"
      }
    },
    {
      "cell_type": "code",
      "source": [
        "%%writefile atexit_sample.c\n",
        "#include <stdio.h>\n",
        "#include <stdlib.h>\n",
        "\n",
        "void exitfunc() {\n",
        "   printf(\"Called cleanup function - exitfunc()\\n\");\n",
        "   return;\n",
        "}\n",
        "\n",
        "int main() {\n",
        "   atexit(exitfunc);\n",
        "   printf(\"Hello, World!\\n\");\n",
        "   exit (0);\n",
        "}"
      ],
      "metadata": {
        "colab": {
          "base_uri": "https://localhost:8080/"
        },
        "id": "Pt9lont6qzbB",
        "outputId": "d6a71a02-22d4-4bf1-9179-2ff46f37bddc"
      },
      "execution_count": null,
      "outputs": [
        {
          "output_type": "stream",
          "name": "stdout",
          "text": [
            "Writing atexit_sample.c\n"
          ]
        }
      ]
    },
    {
      "cell_type": "code",
      "source": [
        "!gcc atexit_sample.c -o atexit_sample"
      ],
      "metadata": {
        "id": "lhhHLpOMrawq"
      },
      "execution_count": null,
      "outputs": []
    },
    {
      "cell_type": "code",
      "source": [
        "!./atexit_sample"
      ],
      "metadata": {
        "colab": {
          "base_uri": "https://localhost:8080/"
        },
        "id": "C0ZDv1tKrcC-",
        "outputId": "72948c8a-1b28-4353-cce8-818ec9b9b134"
      },
      "execution_count": null,
      "outputs": [
        {
          "output_type": "stream",
          "name": "stdout",
          "text": [
            "Hello, World!\n",
            "Called cleanup function - exitfunc()\n"
          ]
        }
      ]
    },
    {
      "cell_type": "markdown",
      "source": [
        "Consider the following example program with _exit()."
      ],
      "metadata": {
        "id": "8HzR-S73rgL8"
      }
    },
    {
      "cell_type": "code",
      "source": [
        "%%writefile at_exit_sample.c\n",
        "#include <stdio.h>\n",
        "#include <unistd.h>\n",
        "#include <stdlib.h>\n",
        "\n",
        "void exitfunc() {\n",
        "   printf(\"Called cleanup function - exitfunc()\\n\");\n",
        "   return;\n",
        "}\n",
        "\n",
        "int main() {\n",
        "   atexit(exitfunc);\n",
        "   printf(\"Hello, World!\\n\");\n",
        "   _exit (0);\n",
        "}"
      ],
      "metadata": {
        "colab": {
          "base_uri": "https://localhost:8080/"
        },
        "id": "K__OzIWnrh5W",
        "outputId": "76014e42-a853-4461-b008-218390f3eacb"
      },
      "execution_count": null,
      "outputs": [
        {
          "output_type": "stream",
          "name": "stdout",
          "text": [
            "Overwriting at_exit_sample.c\n"
          ]
        }
      ]
    },
    {
      "cell_type": "code",
      "source": [
        "!gcc at_exit_sample.c -o at_exit_sample"
      ],
      "metadata": {
        "id": "uN2tlLzMrn9a"
      },
      "execution_count": null,
      "outputs": []
    },
    {
      "cell_type": "code",
      "source": [
        "!./at_exit_sample"
      ],
      "metadata": {
        "colab": {
          "base_uri": "https://localhost:8080/"
        },
        "id": "MeVPuCnCryx0",
        "outputId": "baad85ac-c5c2-4be4-e6ec-1f2985659773"
      },
      "execution_count": null,
      "outputs": [
        {
          "output_type": "stream",
          "name": "stdout",
          "text": [
            "Hello, World!\n"
          ]
        }
      ]
    },
    {
      "cell_type": "markdown",
      "source": [
        "To monitor the child process execution state, to check whether the child process is running or stopped or to check the execution status, etc. the wait() system calls and its variants is used."
      ],
      "metadata": {
        "id": "6wsEsUwbsHeJ"
      }
    },
    {
      "cell_type": "code",
      "source": [
        "%%writefile parentprocess_nowait.c\n",
        "#include<stdio.h>\n",
        "#include <unistd.h>\n",
        "#include <stdlib.h>\n",
        "int main() {\n",
        "   int pid;\n",
        "   pid = fork();\n",
        "\n",
        "   // Child process\n",
        "   if (pid == 0) {\n",
        "      system(\"ps -ef\");\n",
        "      sleep(10);\n",
        "      system(\"ps -ef\");\n",
        "   } else {\n",
        "      sleep(3);\n",
        "   }\n",
        "   return 0;\n",
        "}"
      ],
      "metadata": {
        "colab": {
          "base_uri": "https://localhost:8080/"
        },
        "id": "6uHkrFmpsTAB",
        "outputId": "34c5862d-f684-4e0f-965c-08018ffd8ad2"
      },
      "execution_count": null,
      "outputs": [
        {
          "output_type": "stream",
          "name": "stdout",
          "text": [
            "Overwriting parentprocess_nowait.c\n"
          ]
        }
      ]
    },
    {
      "cell_type": "code",
      "source": [
        "!gcc parentprocess_nowait.c -o parentprocess_nowait"
      ],
      "metadata": {
        "id": "9vXDuPk4sZpW"
      },
      "execution_count": null,
      "outputs": []
    },
    {
      "cell_type": "code",
      "source": [
        "!./parentprocess_nowait"
      ],
      "metadata": {
        "colab": {
          "base_uri": "https://localhost:8080/"
        },
        "id": "zKEVZHyasg7_",
        "outputId": "79d644c2-21c6-45b7-8fb8-08b787fcb1e3"
      },
      "execution_count": null,
      "outputs": [
        {
          "output_type": "stream",
          "name": "stdout",
          "text": [
            "UID          PID    PPID  C STIME TTY          TIME CMD\n",
            "root           1       0  0 19:11 ?        00:00:00 /sbin/docker-init -- /datalab/run.sh\n",
            "root           7       1  0 19:11 ?        00:00:04 /tools/node/bin/node /datalab/web/app.js\n",
            "root          18       7  0 19:11 ?        00:00:00 /bin/bash -e /usr/local/colab/bin/oom_monitor.sh\n",
            "root          20       1  0 19:11 ?        00:00:00 /bin/bash -e /datalab/run.sh\n",
            "root          23      20  0 19:11 ?        00:00:00 /usr/colab/bin/kernel_manager_proxy --listen_por\n",
            "root          24       0  0 19:11 ?        00:00:00 tail -n +0 -F /root/.config/Google/DriveFS/Logs/\n",
            "root          64       7  0 19:11 ?        00:00:08 [python3] <defunct>\n",
            "root          65       7  0 19:11 ?        00:00:00 python3 /usr/local/bin/colab-fileshim.py\n",
            "root          87       7  0 19:11 ?        00:00:05 /usr/bin/python3 /usr/local/bin/jupyter-notebook\n",
            "root          88       7  0 19:11 ?        00:00:00 /usr/local/bin/dap_multiplexer --domain_socket_p\n",
            "root         153      87  0 19:11 ?        00:00:08 /usr/bin/python3 -m colab_kernel_launcher -f /ro\n",
            "root         183       1  0 19:11 ?        00:00:01 /usr/bin/python3 /usr/local/lib/python3.10/dist-\n",
            "root         207       7  0 19:11 ?        00:00:00 /usr/colab/bin/language_service --lsp_search_dir\n",
            "root         220     207  0 19:11 ?        00:00:11 node /datalab/web/pyright/pyright-langserver.js \n",
            "root        5392      18  0 19:33 ?        00:00:00 sleep 1\n",
            "root        5393     153  0 19:33 ?        00:00:00 ./parentprocess_nowait\n",
            "root        5394    5393  0 19:33 ?        00:00:00 ./parentprocess_nowait\n",
            "root        5395    5394  0 19:33 ?        00:00:00 sh -c ps -ef\n",
            "root        5396    5395  0 19:33 ?        00:00:00 ps -ef\n",
            "UID          PID    PPID  C STIME TTY          TIME CMD\n",
            "root           1       0  0 19:11 ?        00:00:00 /sbin/docker-init -- /datalab/run.sh\n",
            "root           7       1  0 19:11 ?        00:00:04 /tools/node/bin/node /datalab/web/app.js\n",
            "root          18       7  0 19:11 ?        00:00:00 /bin/bash -e /usr/local/colab/bin/oom_monitor.sh\n",
            "root          20       1  0 19:11 ?        00:00:00 /bin/bash -e /datalab/run.sh\n",
            "root          23      20  0 19:11 ?        00:00:00 /usr/colab/bin/kernel_manager_proxy --listen_por\n",
            "root          24       0  0 19:11 ?        00:00:00 tail -n +0 -F /root/.config/Google/DriveFS/Logs/\n",
            "root          64       7  0 19:11 ?        00:00:08 [python3] <defunct>\n",
            "root          65       7  0 19:11 ?        00:00:00 python3 /usr/local/bin/colab-fileshim.py\n",
            "root          87       7  0 19:11 ?        00:00:05 /usr/bin/python3 /usr/local/bin/jupyter-notebook\n",
            "root          88       7  0 19:11 ?        00:00:00 /usr/local/bin/dap_multiplexer --domain_socket_p\n",
            "root         153      87  0 19:11 ?        00:00:08 /usr/bin/python3 -m colab_kernel_launcher -f /ro\n",
            "root         183       1  0 19:11 ?        00:00:01 /usr/bin/python3 /usr/local/lib/python3.10/dist-\n",
            "root         207       7  0 19:11 ?        00:00:00 /usr/colab/bin/language_service --lsp_search_dir\n",
            "root         220     207  0 19:11 ?        00:00:11 node /datalab/web/pyright/pyright-langserver.js \n",
            "root        5394       1  0 19:33 ?        00:00:00 ./parentprocess_nowait\n",
            "root        5436      18  0 19:33 ?        00:00:00 sleep 1\n",
            "root        5437    5394  0 19:33 ?        00:00:00 sh -c ps -ef\n",
            "root        5438    5437  0 19:33 ?        00:00:00 ps -ef\n"
          ]
        }
      ]
    },
    {
      "cell_type": "markdown",
      "source": [
        "Observe that the parent process PID was 5393 and the child process PID was 5394. After the parent process exits, the PPID of the child process changed from 5393 to 1 (init process)."
      ],
      "metadata": {
        "id": "6Gj1xCw3ss4h"
      }
    },
    {
      "cell_type": "markdown",
      "source": [
        "The wait() system call would wait for one of the children to terminate and return its termination status in the buffer\n",
        "```bash\n",
        "#include <sys/types.h>\n",
        "#include <sys/wait.h>\n",
        "\n",
        "pid_t wait(int *status);\n",
        "```\n",
        "This call returns the process ID of the terminated child on success and -1 on failure. The wait() system call suspends the execution of the current process and waits indefinitely until one of its children terminates. The termination status from the child is available in status."
      ],
      "metadata": {
        "id": "c6Tcuui3s1yO"
      }
    },
    {
      "cell_type": "code",
      "source": [
        "%%writefile parentprocess_waits.c\n",
        "#include<stdio.h>\n",
        "#include<unistd.h>\n",
        "#include<stdlib.h>\n",
        "#include <sys/types.h>\n",
        "#include <sys/wait.h>\n",
        "\n",
        "int main() {\n",
        "   int pid;\n",
        "   int status;\n",
        "   pid = fork();\n",
        "\n",
        "   // Child process\n",
        "   if (pid == 0) {\n",
        "      system(\"ps -ef\");\n",
        "      sleep(10);\n",
        "      system(\"ps -ef\");\n",
        "      return 3; //exit status is 3 from child process\n",
        "   } else {\n",
        "      sleep(3);\n",
        "      wait(&status);\n",
        "      printf(\"In parent process: exit status from child is decimal %d, hexa %0x\\n\", status, status);\n",
        "   }\n",
        "   return 0;\n",
        "}"
      ],
      "metadata": {
        "colab": {
          "base_uri": "https://localhost:8080/"
        },
        "id": "BFeemtphs_P6",
        "outputId": "5b59c51c-6da9-4749-ffbb-77edd09264e7"
      },
      "execution_count": null,
      "outputs": [
        {
          "output_type": "stream",
          "name": "stdout",
          "text": [
            "Overwriting parentprocess_waits.c\n"
          ]
        }
      ]
    },
    {
      "cell_type": "code",
      "source": [
        "!gcc parentprocess_waits.c -o parentprocess_waits"
      ],
      "metadata": {
        "id": "q1GLOyqxtF6T"
      },
      "execution_count": null,
      "outputs": []
    },
    {
      "cell_type": "code",
      "source": [
        "!./parentprocess_waits"
      ],
      "metadata": {
        "colab": {
          "base_uri": "https://localhost:8080/"
        },
        "id": "_NOr7TXotH4H",
        "outputId": "f5df0b8e-5545-40b3-fa85-6b139a5a9d6b"
      },
      "execution_count": null,
      "outputs": [
        {
          "output_type": "stream",
          "name": "stdout",
          "text": [
            "UID          PID    PPID  C STIME TTY          TIME CMD\n",
            "root           1       0  0 19:11 ?        00:00:00 /sbin/docker-init -- /datalab/run.sh\n",
            "root           7       1  0 19:11 ?        00:00:04 /tools/node/bin/node /datalab/web/app.js\n",
            "root          18       7  0 19:11 ?        00:00:01 /bin/bash -e /usr/local/colab/bin/oom_monitor.sh\n",
            "root          20       1  0 19:11 ?        00:00:00 /bin/bash -e /datalab/run.sh\n",
            "root          23      20  0 19:11 ?        00:00:00 /usr/colab/bin/kernel_manager_proxy --listen_por\n",
            "root          24       0  0 19:11 ?        00:00:00 tail -n +0 -F /root/.config/Google/DriveFS/Logs/\n",
            "root          64       7  0 19:11 ?        00:00:08 [python3] <defunct>\n",
            "root          65       7  0 19:11 ?        00:00:00 python3 /usr/local/bin/colab-fileshim.py\n",
            "root          87       7  0 19:11 ?        00:00:05 /usr/bin/python3 /usr/local/bin/jupyter-notebook\n",
            "root          88       7  0 19:11 ?        00:00:01 /usr/local/bin/dap_multiplexer --domain_socket_p\n",
            "root         153      87  0 19:11 ?        00:00:09 /usr/bin/python3 -m colab_kernel_launcher -f /ro\n",
            "root         183       1  0 19:11 ?        00:00:02 /usr/bin/python3 /usr/local/lib/python3.10/dist-\n",
            "root         207       7  0 19:11 ?        00:00:00 /usr/colab/bin/language_service --lsp_search_dir\n",
            "root         220     207  0 19:11 ?        00:00:12 node /datalab/web/pyright/pyright-langserver.js \n",
            "root        6289      18  0 19:36 ?        00:00:00 sleep 1\n",
            "root        6290     153  0 19:36 ?        00:00:00 ./parentprocess_waits\n",
            "root        6291    6290  0 19:36 ?        00:00:00 ./parentprocess_waits\n",
            "root        6292    6291  0 19:36 ?        00:00:00 sh -c ps -ef\n",
            "root        6293    6292  0 19:36 ?        00:00:00 ps -ef\n",
            "UID          PID    PPID  C STIME TTY          TIME CMD\n",
            "root           1       0  0 19:11 ?        00:00:00 /sbin/docker-init -- /datalab/run.sh\n",
            "root           7       1  0 19:11 ?        00:00:04 /tools/node/bin/node /datalab/web/app.js\n",
            "root          18       7  0 19:11 ?        00:00:01 /bin/bash -e /usr/local/colab/bin/oom_monitor.sh\n",
            "root          20       1  0 19:11 ?        00:00:00 /bin/bash -e /datalab/run.sh\n",
            "root          23      20  0 19:11 ?        00:00:00 /usr/colab/bin/kernel_manager_proxy --listen_por\n",
            "root          24       0  0 19:11 ?        00:00:00 tail -n +0 -F /root/.config/Google/DriveFS/Logs/\n",
            "root          64       7  0 19:11 ?        00:00:08 [python3] <defunct>\n",
            "root          65       7  0 19:11 ?        00:00:00 python3 /usr/local/bin/colab-fileshim.py\n",
            "root          87       7  0 19:11 ?        00:00:05 /usr/bin/python3 /usr/local/bin/jupyter-notebook\n",
            "root          88       7  0 19:11 ?        00:00:01 /usr/local/bin/dap_multiplexer --domain_socket_p\n",
            "root         153      87  0 19:11 ?        00:00:10 /usr/bin/python3 -m colab_kernel_launcher -f /ro\n",
            "root         183       1  0 19:11 ?        00:00:02 /usr/bin/python3 /usr/local/lib/python3.10/dist-\n",
            "root         207       7  0 19:11 ?        00:00:00 /usr/colab/bin/language_service --lsp_search_dir\n",
            "root         220     207  0 19:11 ?        00:00:12 node /datalab/web/pyright/pyright-langserver.js \n",
            "root        6290     153  0 19:36 ?        00:00:00 ./parentprocess_waits\n",
            "root        6291    6290  0 19:36 ?        00:00:00 ./parentprocess_waits\n",
            "root        6333      18  0 19:37 ?        00:00:00 sleep 1\n",
            "root        6334    6291  0 19:37 ?        00:00:00 sh -c ps -ef\n",
            "root        6335    6334  0 19:37 ?        00:00:00 ps -ef\n",
            "In parent process: exit status from child is decimal 768, hexa 300\n"
          ]
        }
      ]
    },
    {
      "cell_type": "markdown",
      "source": [
        "The waitpid() system call would wait for specified children to terminate and return its termination status in the buffer\n",
        "```bash\n",
        "#include <sys/types.h>\n",
        "#include <sys/wait.h>\n",
        "\n",
        "pid_t waitpid(pid_t pid, int *status, int options);\n",
        "```\n",
        "The above call returns the process ID of the terminated child on success and -1 on failure. The waitpid() system call suspends the execution of the current process and waits indefinitely until the specified children (as per pid value) terminates. The termination status from the child is available in the status.\n",
        "\n",
        "The value of pid can be either of the following:\n",
        "* `< -1` − Wait for any child process whose process group ID is equal to the absolute value of pid.\n",
        "* `-1` − Wait for any child process, which equals to that of wait() system call.\n",
        "* `0` − Wait for any child process whose process group ID is equal to that of the calling process.\n",
        "* `>0` − Wait for any child process whose process ID is equal to the value of pid.\n",
        "\n",
        "By default, waitpid() system call waits only for the terminated children but this default behavior can be modified using the options argument."
      ],
      "metadata": {
        "id": "yPvFUxhSs-q7"
      }
    },
    {
      "cell_type": "code",
      "source": [
        "%%writefile waitpid_test.c\n",
        "#include<stdio.h>\n",
        "#include<unistd.h>\n",
        "#include<sys/types.h>\n",
        "#include<sys/wait.h>\n",
        "\n",
        "int main() {\n",
        "   int pid;\n",
        "   int pids[3];\n",
        "   int status;\n",
        "   int numprocesses = 0;\n",
        "   int total_processes = 3;\n",
        "   while (numprocesses < total_processes) {\n",
        "      pid = fork();\n",
        "\n",
        "      // Child process\n",
        "      if (pid == 0) {\n",
        "         printf(\"In child process: process id is %d\\n\", getpid());\n",
        "         sleep(5);\n",
        "         return 4;\n",
        "      } else {\n",
        "         pids[numprocesses] = pid;\n",
        "         numprocesses++;\n",
        "         printf(\"In parent process: created process number: %d\\n\", pid);\n",
        "      }\n",
        "   }\n",
        "\n",
        "   // Waiting for 3rd child process\n",
        "   waitpid(pids[total_processes - 1], &status, 0);\n",
        "   if (WIFEXITED(status) != 0) {\n",
        "      printf(\"process %d exited normally\\n\", pids[total_processes - 1]);\n",
        "      printf(\"exit status from child is %d\\n\", WEXITSTATUS(status));\n",
        "   } else {\n",
        "      printf(\"process %d not exited normally\\n\", pids[total_processes - 1]);\n",
        "   }\n",
        "   return 0;\n",
        "}"
      ],
      "metadata": {
        "colab": {
          "base_uri": "https://localhost:8080/"
        },
        "id": "UMfd4rA9ut4c",
        "outputId": "7a0d87a7-1307-4376-a50a-32317cb59d5a"
      },
      "execution_count": null,
      "outputs": [
        {
          "output_type": "stream",
          "name": "stdout",
          "text": [
            "Writing waitpid_test.c\n"
          ]
        }
      ]
    },
    {
      "cell_type": "code",
      "source": [
        "!gcc waitpid_test.c -o waitpid_test"
      ],
      "metadata": {
        "id": "EyUTY678u1Ip"
      },
      "execution_count": null,
      "outputs": []
    },
    {
      "cell_type": "code",
      "source": [
        "!./waitpid_test"
      ],
      "metadata": {
        "colab": {
          "base_uri": "https://localhost:8080/"
        },
        "id": "olyLz-Nlu2ap",
        "outputId": "421c159a-867d-41de-8f62-3906ac9ab27d"
      },
      "execution_count": null,
      "outputs": [
        {
          "output_type": "stream",
          "name": "stdout",
          "text": [
            "In parent process: created process number: 7866\n",
            "In parent process: created process number: 7867\n",
            "In parent process: created process number: 7868\n",
            "In child process: process id is 7866\n",
            "In child process: process id is 7867\n",
            "In child process: process id is 7868\n",
            "process 7868 exited normally\n",
            "exit status from child is 4\n"
          ]
        }
      ]
    },
    {
      "cell_type": "markdown",
      "source": [
        "# Thread"
      ],
      "metadata": {
        "id": "dL-Fpn7-uiH3"
      }
    },
    {
      "cell_type": "markdown",
      "source": [
        "What is a Thread?  A thread is a single sequence stream within a process. Because threads have some of the properties of processes, they are sometimes called lightweight processes.\n",
        "\n",
        "What are the differences between process and thread?  Threads are not independent from each other unlike processes. As a result, threads shares with other threads their code section, data section and OS resources like open files and signals. But, like processes, a thread has its own program counter (PC), a register set, and a stack space.\n",
        "\n",
        "Threads are popular way to improve application through parallelism.\n",
        "\n",
        "Threads operate faster than processes due to following reasons:\n",
        "  1) Thread creation is much faster.\n",
        "  2) Context switching between threads is much faster.\n",
        "  3) Threads can be terminated easily\n",
        "  4) Communication between threads is faster."
      ],
      "metadata": {
        "id": "0gU6bbTBANFI"
      }
    },
    {
      "cell_type": "markdown",
      "source": [
        "## Thread in C"
      ],
      "metadata": {
        "id": "mvvLddtLAibs"
      }
    },
    {
      "cell_type": "markdown",
      "source": [
        "Unlike Java, multithreading is not supported by the language standard. POSIX Threads (or Pthreads) is a POSIX standard for threads. Implementation of pthread is available with gcc compiler."
      ],
      "metadata": {
        "id": "RM2g-inIAbha"
      }
    },
    {
      "cell_type": "markdown",
      "source": [
        "A simple C program to demonstrate use of pthread basic functions"
      ],
      "metadata": {
        "id": "VF_gd4goAhic"
      }
    },
    {
      "cell_type": "code",
      "source": [
        "%%writefile thread.c\n",
        "#include <stdio.h>\n",
        "#include <stdlib.h>\n",
        "#include <unistd.h> //Header file for sleep(). man 3 sleep for details.\n",
        "#include <pthread.h>\n",
        "\n",
        "// A normal C function that is executed as a thread\n",
        "// when its name is specified in pthread_create()\n",
        "void *myThreadFun(void *vargp)\n",
        "{\n",
        "\tsleep(1);\n",
        "\tprintf(\"Printing Hello from Thread \\n\");\n",
        "\treturn NULL;\n",
        "}\n",
        "\n",
        "int main()\n",
        "{\n",
        "\tpthread_t thread_id;\n",
        "\tprintf(\"Before Thread\\n\");\n",
        "\tpthread_create(&thread_id, NULL, myThreadFun, NULL);\n",
        "\tpthread_join(thread_id, NULL);\n",
        "\tprintf(\"After Thread\\n\");\n",
        "\texit(0);\n",
        "}\n"
      ],
      "metadata": {
        "colab": {
          "base_uri": "https://localhost:8080/"
        },
        "id": "Hud4MlamAlQO",
        "outputId": "c1be1c0e-b8dd-4842-e504-1520d05f04ba"
      },
      "execution_count": null,
      "outputs": [
        {
          "output_type": "stream",
          "name": "stdout",
          "text": [
            "Writing thread.c\n"
          ]
        }
      ]
    },
    {
      "cell_type": "code",
      "source": [
        "!gcc thread.c -o thread"
      ],
      "metadata": {
        "id": "aGSGGbRlAzkp"
      },
      "execution_count": null,
      "outputs": []
    },
    {
      "cell_type": "code",
      "source": [
        "!./thread"
      ],
      "metadata": {
        "colab": {
          "base_uri": "https://localhost:8080/"
        },
        "id": "iKzYJ0h5A1jB",
        "outputId": "370ddad8-a7c2-41c4-a04f-e1dd73e86cad"
      },
      "execution_count": null,
      "outputs": [
        {
          "output_type": "stream",
          "name": "stdout",
          "text": [
            "Before Thread\n",
            "Printing Hello from Thread \n",
            "After Thread\n"
          ]
        }
      ]
    },
    {
      "cell_type": "markdown",
      "source": [
        "In main(), we declare a variable called thread_id, which is of type pthread_t, which is an integer used to identify the thread in the system. After declaring thread_id, we call pthread_create() function to create a thread.\n",
        "\n",
        "pthread_create() takes 4 arguments.\n",
        "\n",
        "The first argument is a pointer to thread_id which is set by this function.\n",
        "\n",
        "The second argument specifies attributes. If the value is NULL, then default attributes shall be used.\n",
        "\n",
        "The third argument is name of function to be executed for the thread to be created.\n",
        "\n",
        "The fourth argument is used to pass arguments to the function, myThreadFun.\n",
        "\n",
        "The pthread_join() function for threads is the equivalent of wait() for processes. A call to pthread_join blocks the calling thread until the thread with identifier equal to the first argument terminates."
      ],
      "metadata": {
        "id": "5N2Puo0gAtNi"
      }
    },
    {
      "cell_type": "markdown",
      "source": [
        "A C program to show multiple threads with global and static variables"
      ],
      "metadata": {
        "id": "OLzy3F-lA_Qn"
      }
    },
    {
      "cell_type": "code",
      "source": [
        "%%writefile thread2.c\n",
        "#include <stdio.h>\n",
        "#include <stdlib.h>\n",
        "#include <unistd.h>\n",
        "#include <pthread.h>\n",
        "\n",
        "// Let us create a global variable to change it in threads\n",
        "int g = 0;\n",
        "\n",
        "// The function to be executed by all threads\n",
        "void *myThreadFun(void *vargp)\n",
        "{\n",
        "\t// Store the value argument passed to this thread\n",
        "\tint *myid = (int *)vargp;\n",
        "\n",
        "\t// Let us create a static variable to observe its changes\n",
        "\tstatic int s = 0;\n",
        "\n",
        "\t// Change static and global variables\n",
        "\t++s; ++g;\n",
        "\n",
        "\t// Print the argument, static and global variables\n",
        "\tprintf(\"Thread ID: %d, Static: %d, Global: %d\\n\", *myid, ++s, ++g);\n",
        "}\n",
        "\n",
        "int main()\n",
        "{\n",
        "\tint i;\n",
        "\tpthread_t tid;\n",
        "\n",
        "\t// Let us create three threads\n",
        "\tfor (i = 0; i < 3; i++)\n",
        "\t\tpthread_create(&tid, NULL, myThreadFun, (void *)&tid);\n",
        "\n",
        "\tpthread_exit(NULL);\n",
        "\treturn 0;\n",
        "}\n"
      ],
      "metadata": {
        "colab": {
          "base_uri": "https://localhost:8080/"
        },
        "id": "m8__QKutBAva",
        "outputId": "016b004d-a9d7-4ea0-e16d-c0ae94d68ec3"
      },
      "execution_count": null,
      "outputs": [
        {
          "output_type": "stream",
          "name": "stdout",
          "text": [
            "Writing thread2.c\n"
          ]
        }
      ]
    },
    {
      "cell_type": "code",
      "source": [
        "!gcc thread2.c -o thread2"
      ],
      "metadata": {
        "id": "OWbMOnucBFA7"
      },
      "execution_count": null,
      "outputs": []
    },
    {
      "cell_type": "code",
      "source": [
        "!./thread2"
      ],
      "metadata": {
        "colab": {
          "base_uri": "https://localhost:8080/"
        },
        "id": "kTZDJQQ6BF3E",
        "outputId": "46dbddf3-e4cd-470b-a491-3040db0dfd99"
      },
      "execution_count": null,
      "outputs": [
        {
          "output_type": "stream",
          "name": "stdout",
          "text": [
            "Thread ID: 106063424, Static: 2, Global: 2\n",
            "Thread ID: 106063424, Static: 4, Global: 4\n",
            "Thread ID: 106063424, Static: 6, Global: 6\n"
          ]
        }
      ]
    },
    {
      "cell_type": "markdown",
      "source": [
        "Accessing a global variable in a thread is generally a bad idea. What if thread 2 has priority over thread 1 and thread 1 needs to change the variable. In practice, if it is required to access global variable by multiple threads, then they should be accessed using a mutex."
      ],
      "metadata": {
        "id": "VQEeVSo4BWif"
      }
    },
    {
      "cell_type": "markdown",
      "source": [
        "## Thread in C++"
      ],
      "metadata": {
        "id": "Istsq9l3Bsnj"
      }
    },
    {
      "cell_type": "markdown",
      "source": [
        "Multithreading is a feature that allows concurrent execution of two or more parts of a program for maximum utilization of the CPU. Each part of such a program is called a thread. So, threads are lightweight processes within a process.\n",
        "\n",
        "Multithreading support was introduced in C++11. Prior to C++11, we had to use POSIX threads or <pthreads> library. While this library did the job the lack of any standard language-provided feature set caused serious portability issues. C++ 11 did away with all that and gave us std::thread. The thread classes and related functions are defined in the <thread> header file.\n",
        "```bash\n",
        "std::thread thread_object (callable);\n",
        "```"
      ],
      "metadata": {
        "id": "ZM1mv74yBx-X"
      }
    },
    {
      "cell_type": "markdown",
      "source": [
        "std::thread is the thread class that represents a single thread in C++. To start a thread we simply need to create a new thread object and pass the executing code to be called (i.e, a callable object) into the constructor of the object. Once the object is created a new thread is launched which will execute the code specified in callable. A callable can be any of the five:\n",
        "* A Function Pointer\n",
        "* A Lambda Expression\n",
        "* A Function Object\n",
        "* Non-Static Member Function\n",
        "* Static Member Function\n",
        "\n",
        "https://www.geeksforgeeks.org/multithreading-in-cpp/"
      ],
      "metadata": {
        "id": "2JXbZGH5CA4C"
      }
    },
    {
      "cell_type": "markdown",
      "source": [
        "Note that we have a new Standard C++ Library header `#include <thread>` in which the functions and classes for threads are declared."
      ],
      "metadata": {
        "id": "JcfDUzYZDN1-"
      }
    },
    {
      "cell_type": "code",
      "source": [
        "%%writefile t1.cpp\n",
        "#include <iostream>\n",
        "#include <thread>\n",
        "\n",
        "void thread_function()\n",
        "{\n",
        "    std::cout << \"thread function\\n\";\n",
        "}\n",
        "\n",
        "int main()\n",
        "{\n",
        "    std::thread t(&thread_function);   // t starts running\n",
        "    std::cout << \"main thread\\n\";\n",
        "    t.join();   // main thread waits for the thread t to finish\n",
        "    return 0;\n",
        "}"
      ],
      "metadata": {
        "colab": {
          "base_uri": "https://localhost:8080/"
        },
        "id": "8vPAahMnC6O6",
        "outputId": "7f293de8-bacd-40c3-aa1c-71357d1b4be7"
      },
      "execution_count": null,
      "outputs": [
        {
          "output_type": "stream",
          "name": "stdout",
          "text": [
            "Writing t1.cpp\n"
          ]
        }
      ]
    },
    {
      "cell_type": "code",
      "source": [
        "!g++ t1.cpp -o t1 -std=c++11 -pthread"
      ],
      "metadata": {
        "id": "eq-o0IhgDAop"
      },
      "execution_count": null,
      "outputs": []
    },
    {
      "cell_type": "code",
      "source": [
        "!./t1"
      ],
      "metadata": {
        "colab": {
          "base_uri": "https://localhost:8080/"
        },
        "id": "VjBwXW4IDEyD",
        "outputId": "a44b2dff-c01f-4f31-e062-7ac7d23c84be"
      },
      "execution_count": null,
      "outputs": [
        {
          "output_type": "stream",
          "name": "stdout",
          "text": [
            "main thread\n",
            "thread function\n"
          ]
        }
      ]
    },
    {
      "cell_type": "markdown",
      "source": [
        "Detaching Threads: We can make a new thread to run free to become a daemon process."
      ],
      "metadata": {
        "id": "UVBSQEzdDjMB"
      }
    },
    {
      "cell_type": "code",
      "source": [
        "%%writefile t2.cpp\n",
        "#include <iostream>\n",
        "#include <thread>\n",
        "\n",
        "void thread_function()\n",
        "{\n",
        "    std::cout << \"thread function\\n\";\n",
        "}\n",
        "\n",
        "int main()\n",
        "{\n",
        "    std::thread t(&thread_function);\n",
        "    std::cout << \"main thread\\n\";\n",
        "    // t.join();\n",
        "    t.detach();\n",
        "    return 0;\n",
        "}"
      ],
      "metadata": {
        "colab": {
          "base_uri": "https://localhost:8080/"
        },
        "id": "D-8TzHogDwYm",
        "outputId": "2859d168-d073-45d3-ccfd-2e6cca6f4b02"
      },
      "execution_count": null,
      "outputs": [
        {
          "output_type": "stream",
          "name": "stdout",
          "text": [
            "Writing t2.cpp\n"
          ]
        }
      ]
    },
    {
      "cell_type": "code",
      "source": [
        "!g++ t2.cpp -o t2 -std=c++11 -pthread"
      ],
      "metadata": {
        "id": "by0la2nyD4xt"
      },
      "execution_count": null,
      "outputs": []
    },
    {
      "cell_type": "code",
      "source": [
        "!./t2"
      ],
      "metadata": {
        "colab": {
          "base_uri": "https://localhost:8080/"
        },
        "id": "rS78NKUcD7Ht",
        "outputId": "96bbbe6a-4605-436c-de28-ddbcd6462b17"
      },
      "execution_count": null,
      "outputs": [
        {
          "output_type": "stream",
          "name": "stdout",
          "text": [
            "main thread\n"
          ]
        }
      ]
    },
    {
      "cell_type": "markdown",
      "source": [
        "Note that the detached thread didn't have a change to print its output to stdout because the main thread already finished and exited. This is one of the characteristics of multithreaded programming: we cannot be sure which thread runs first (not deterministic unless we use synchronization mechanism). In our case, because the time it takes to create a new thread, the main thread is most likely to finish ahead of our child thread."
      ],
      "metadata": {
        "id": "s0fouprgD_UB"
      }
    },
    {
      "cell_type": "markdown",
      "source": [
        "Once a thread detached, we cannot force it to join with the main thread again."
      ],
      "metadata": {
        "id": "nEKf5t3zEEL5"
      }
    },
    {
      "cell_type": "markdown",
      "source": [
        "We can keep the code from crashing by checking using joinable(). Because it's not joinable, the join() function won't be called, and the program runs without crash."
      ],
      "metadata": {
        "id": "wpge_in-EI_1"
      }
    },
    {
      "cell_type": "code",
      "source": [
        "%%writefile t3.cpp\n",
        "#include <iostream>\n",
        "#include <thread>\n",
        "\n",
        "void thread_function()\n",
        "{\n",
        "    std::cout << \"thread function\\n\";\n",
        "}\n",
        "\n",
        "int main()\n",
        "{\n",
        "    std::thread t(&thread_function);\n",
        "    std::cout << \"main thread\\n\";\n",
        "    // t.join();\n",
        "    t.detach();\n",
        "    // t.join(); Error\n",
        "    if(t.joinable())\n",
        "        t.join();\n",
        "    return 0;\n",
        "}"
      ],
      "metadata": {
        "colab": {
          "base_uri": "https://localhost:8080/"
        },
        "id": "mh_DcTlTELHy",
        "outputId": "93ca2355-2817-4a3f-fdd5-da0d6b6bb19e"
      },
      "execution_count": null,
      "outputs": [
        {
          "output_type": "stream",
          "name": "stdout",
          "text": [
            "Writing t3.cpp\n"
          ]
        }
      ]
    },
    {
      "cell_type": "code",
      "source": [
        "!g++ t3.cpp -o t3 -std=c++11 -pthread"
      ],
      "metadata": {
        "id": "1gKkxzyQETbJ"
      },
      "execution_count": null,
      "outputs": []
    },
    {
      "cell_type": "code",
      "source": [
        "!./t3"
      ],
      "metadata": {
        "colab": {
          "base_uri": "https://localhost:8080/"
        },
        "id": "jceKfNXWEWbq",
        "outputId": "98f220b4-6596-4ee8-9b79-563c425865cf"
      },
      "execution_count": null,
      "outputs": [
        {
          "output_type": "stream",
          "name": "stdout",
          "text": [
            "main thread\n",
            "thread function\n"
          ]
        }
      ]
    },
    {
      "cell_type": "markdown",
      "source": [
        "we can use any callable object"
      ],
      "metadata": {
        "id": "OC1eAZpuEcc8"
      }
    },
    {
      "cell_type": "code",
      "source": [
        "%%writefile threadcpp.cpp\n",
        "// C++ program to demonstrate\n",
        "// multithreading using three\n",
        "// different callables.\n",
        "#include <iostream>\n",
        "#include <thread>\n",
        "using namespace std;\n",
        "\n",
        "// A dummy function\n",
        "void foo(int Z)\n",
        "{\n",
        "\tfor (int i = 0; i < Z; i++) {\n",
        "\t\tcout << \"Thread using function\"\n",
        "\t\t\t\t\" pointer as callable\\n\";\n",
        "\t}\n",
        "}\n",
        "\n",
        "// A callable object\n",
        "class thread_obj {\n",
        "public:\n",
        "\tvoid operator()(int x)\n",
        "\t{\n",
        "\t\tfor (int i = 0; i < x; i++)\n",
        "\t\t\tcout << \"Thread using function\"\n",
        "\t\t\t\t\t\" object as callable\\n\";\n",
        "\t}\n",
        "};\n",
        "\n",
        "// class definition\n",
        "class Base {\n",
        "public:\n",
        "\t// non-static member function\n",
        "\tvoid foo()\n",
        "\t{\n",
        "\t\tcout << \"Thread using non-static member function \"\n",
        "\t\t\t\t\"as callable\"\n",
        "\t\t\t<< endl;\n",
        "\t}\n",
        "\t// static member function\n",
        "\tstatic void foo1()\n",
        "\t{\n",
        "\t\tcout << \"Thread using static member function as \"\n",
        "\t\t\t\t\"callable\"\n",
        "\t\t\t<< endl;\n",
        "\t}\n",
        "};\n",
        "\n",
        "// Driver code\n",
        "int main()\n",
        "{\n",
        "\tcout << \"Threads 1 and 2 and 3 \"\n",
        "\t\t\t\"operating independently\"\n",
        "\t\t<< endl;\n",
        "\n",
        "\t// This thread is launched by using\n",
        "\t// function pointer as callable\n",
        "\tthread th1(foo, 3);\n",
        "\n",
        "\t// This thread is launched by using\n",
        "\t// function object as callable\n",
        "\tthread th2(thread_obj(), 3);\n",
        "\n",
        "\t// Define a Lambda Expression\n",
        "\tauto f = [](int x) {\n",
        "\t\tfor (int i = 0; i < x; i++)\n",
        "\t\t\tcout << \"Thread using lambda\"\n",
        "\t\t\t\t\t\" expression as callable\\n\";\n",
        "\t};\n",
        "\n",
        "\t// This thread is launched by using\n",
        "\t// lambda expression as callable\n",
        "\tthread th3(f, 3);\n",
        "\n",
        "\t// object of Base Class\n",
        "\tBase b;\n",
        "\n",
        "\tthread th4(&Base::foo, &b);\n",
        "\n",
        "\tthread th5(&Base::foo1);\n",
        "\n",
        "\t// Wait for the threads to finish\n",
        "\t// Wait for thread t1 to finish\n",
        "\tth1.join();\n",
        "\n",
        "\t// Wait for thread t2 to finish\n",
        "\tth2.join();\n",
        "\n",
        "\t// Wait for thread t3 to finish\n",
        "\tth3.join();\n",
        "\n",
        "\t// Wait for thread t4 to finish\n",
        "\tth4.join();\n",
        "\n",
        "\t// Wait for thread t5 to finish\n",
        "\tth5.join();\n",
        "\n",
        "\treturn 0;\n",
        "}\n"
      ],
      "metadata": {
        "colab": {
          "base_uri": "https://localhost:8080/"
        },
        "id": "0woNLOjLCZfd",
        "outputId": "42475e87-ef0c-4c7b-d94e-fd249e49d724"
      },
      "execution_count": null,
      "outputs": [
        {
          "output_type": "stream",
          "name": "stdout",
          "text": [
            "Writing threadcpp.cpp\n"
          ]
        }
      ]
    },
    {
      "cell_type": "code",
      "source": [
        "%%bash\n",
        "\n",
        "g++ threadcpp.cpp -o threadcpp\n",
        "./threadcpp"
      ],
      "metadata": {
        "colab": {
          "base_uri": "https://localhost:8080/"
        },
        "id": "YcbJQC7MCkiL",
        "outputId": "87847999-4f34-4895-bcdc-e2d092083c3d"
      },
      "execution_count": null,
      "outputs": [
        {
          "output_type": "stream",
          "name": "stdout",
          "text": [
            "Threads 1 and 2 and 3 operating independently\n",
            "Thread using function pointer as callable\n",
            "Thread using function pointer as callable\n",
            "Thread using function pointer as callable\n",
            "Thread using non-static member function as callable\n",
            "Thread using static member function as callable\n",
            "Thread using function object as callable\n",
            "Thread using function object as callable\n",
            "Thread using function object as callable\n",
            "Thread using lambda expression as callable\n",
            "Thread using lambda expression as callable\n",
            "Thread using lambda expression as callable\n"
          ]
        }
      ]
    },
    {
      "cell_type": "markdown",
      "source": [
        "We can get hardware_concurrency information"
      ],
      "metadata": {
        "id": "1-4Nd3N9EyFT"
      }
    },
    {
      "cell_type": "code",
      "source": [
        "%%writefile threadinfo.cpp\n",
        "#include <iostream>\n",
        "#include <thread>\n",
        "\n",
        "void thread_function()\n",
        "{\n",
        "    std::cout << \"thread function\\n\";\n",
        "}\n",
        "\n",
        "int main()\n",
        "{\n",
        "    std::cout << \"Number of threads = \"\n",
        "              <<  std::thread::hardware_concurrency() << std::endl;\n",
        "    return 0;\n",
        "}\n"
      ],
      "metadata": {
        "colab": {
          "base_uri": "https://localhost:8080/"
        },
        "id": "ObKbUKdwE3Ac",
        "outputId": "6cdafc1d-1b4b-41df-98f2-b0acca409da2"
      },
      "execution_count": null,
      "outputs": [
        {
          "output_type": "stream",
          "name": "stdout",
          "text": [
            "Overwriting threadinfo.cpp\n"
          ]
        }
      ]
    },
    {
      "cell_type": "code",
      "source": [
        "!g++ threadinfo.cpp -o threadinfo -std=c++11 -pthread"
      ],
      "metadata": {
        "id": "ywRb4JoeF0CF"
      },
      "execution_count": null,
      "outputs": []
    },
    {
      "cell_type": "code",
      "source": [
        "!./threadinfo"
      ],
      "metadata": {
        "colab": {
          "base_uri": "https://localhost:8080/"
        },
        "id": "rfsxq3ZyF13l",
        "outputId": "a7a1caec-f5a4-4ef9-a1f2-2a823ecf3423"
      },
      "execution_count": null,
      "outputs": [
        {
          "output_type": "stream",
          "name": "stdout",
          "text": [
            "Number of threads = 2\n"
          ]
        }
      ]
    },
    {
      "cell_type": "markdown",
      "source": [
        "## Resource race"
      ],
      "metadata": {
        "id": "aZ31pfs4Flhq"
      }
    },
    {
      "cell_type": "code",
      "source": [
        "%%writefile race.cpp\n",
        "#include <iostream>\n",
        "#include <thread>\n",
        "\n",
        "void thread_function()\n",
        "{\n",
        "    for (int i = -100; i < 0; i++)\n",
        "        std::cout << \"thread function: \" << i << \"\\n\";\n",
        "}\n",
        "\n",
        "int main()\n",
        "{\n",
        "\tstd::thread t(&thread_function);\n",
        "\tfor (int i = 0; i < 100; i++)\n",
        "\t    std::cout << \"main thread: \" << i << \"\\n\";\n",
        "\tt.join();\n",
        "\treturn 0;\n",
        "}"
      ],
      "metadata": {
        "colab": {
          "base_uri": "https://localhost:8080/"
        },
        "id": "7vF6GWlBFoFR",
        "outputId": "2fecb75d-7ccd-44dd-dbd2-b9ccad39c1c9"
      },
      "execution_count": null,
      "outputs": [
        {
          "output_type": "stream",
          "name": "stdout",
          "text": [
            "Writing race.cpp\n"
          ]
        }
      ]
    },
    {
      "cell_type": "code",
      "source": [
        "!g++ race.cpp -o race -std=c++11 -pthread"
      ],
      "metadata": {
        "id": "K55-LrCjGhln"
      },
      "execution_count": null,
      "outputs": []
    },
    {
      "cell_type": "code",
      "source": [
        "!./race"
      ],
      "metadata": {
        "colab": {
          "base_uri": "https://localhost:8080/"
        },
        "id": "Fd_eMMV9GlBc",
        "outputId": "ea46a37f-d7b4-4dc5-fe47-1dd48c7d1f77"
      },
      "execution_count": null,
      "outputs": [
        {
          "output_type": "stream",
          "name": "stdout",
          "text": [
            "main thread: 0\n",
            "main thread: 1\n",
            "main thread: 2\n",
            "main thread: 3\n",
            "main thread: 4\n",
            "main thread: 5\n",
            "main thread: 6\n",
            "main thread: 7\n",
            "main thread: 8\n",
            "main thread: 9\n",
            "main thread: 10\n",
            "main thread: 11\n",
            "main thread: 12\n",
            "main thread: 13\n",
            "main thread: 14\n",
            "main thread: 15\n",
            "main thread: 16\n",
            "main thread: 17\n",
            "main thread: 18\n",
            "main thread: 19\n",
            "main thread: 20\n",
            "main thread: 21\n",
            "main thread: 22\n",
            "main thread: 23\n",
            "main thread: 24\n",
            "main thread: 25\n",
            "main thread: 26\n",
            "main thread: 27\n",
            "main thread: 28\n",
            "main thread: 29\n",
            "main thread: 30\n",
            "main thread: 31\n",
            "main thread: 32\n",
            "main thread: 33\n",
            "main thread: 34\n",
            "main thread: 35\n",
            "main thread: 36\n",
            "main thread: 37\n",
            "main thread: 38\n",
            "main thread: 39\n",
            "main thread: 40\n",
            "main thread: 41\n",
            "main thread: 42\n",
            "main thread: 43\n",
            "main thread: 44\n",
            "main thread: 45\n",
            "main thread: 46\n",
            "main thread: 47\n",
            "main thread: 48\n",
            "main thread: 49\n",
            "main thread: 50\n",
            "main thread: 51\n",
            "main thread: 52\n",
            "main thread: 53\n",
            "main thread: 54\n",
            "main thread: 55\n",
            "main thread: 56\n",
            "main thread: 57\n",
            "main thread: 58\n",
            "main thread: 59\n",
            "main thread: 60\n",
            "main thread: 61\n",
            "main thread: 62\n",
            "main thread: 63\n",
            "main thread: 64\n",
            "main thread: 65\n",
            "main thread: 66\n",
            "main thread: 67\n",
            "main thread: 68\n",
            "main thread: 69\n",
            "main thread: 70\n",
            "main thread: 71\n",
            "main thread: 72\n",
            "main thread: 73\n",
            "main thread: 74\n",
            "main thread: 75\n",
            "main thread: 76\n",
            "main thread: 77\n",
            "main thread: 78\n",
            "main thread: 79\n",
            "main thread: 80\n",
            "main thread: 81\n",
            "main thread: 82\n",
            "main thread: 83\n",
            "main thread: 84\n",
            "main thread: 85\n",
            "main thread: 86\n",
            "main thread: 87\n",
            "main thread: 88\n",
            "main thread: 89\n",
            "main thread: 90\n",
            "main thread: 91\n",
            "main thread: 92\n",
            "main thread: 93\n",
            "main thread: 94\n",
            "main thread: 95\n",
            "main thread: 96\n",
            "main thread: 97\n",
            "main thread: 98\n",
            "main thread: 99\n",
            "thread function: -100\n",
            "thread function: -99\n",
            "thread function: -98\n",
            "thread function: -97\n",
            "thread function: -96\n",
            "thread function: -95\n",
            "thread function: -94\n",
            "thread function: -93\n",
            "thread function: -92\n",
            "thread function: -91\n",
            "thread function: -90\n",
            "thread function: -89\n",
            "thread function: -88\n",
            "thread function: -87\n",
            "thread function: -86\n",
            "thread function: -85\n",
            "thread function: -84\n",
            "thread function: -83\n",
            "thread function: -82\n",
            "thread function: -81\n",
            "thread function: -80\n",
            "thread function: -79\n",
            "thread function: -78\n",
            "thread function: -77\n",
            "thread function: -76\n",
            "thread function: -75\n",
            "thread function: -74\n",
            "thread function: -73\n",
            "thread function: -72\n",
            "thread function: -71\n",
            "thread function: -70\n",
            "thread function: -69\n",
            "thread function: -68\n",
            "thread function: -67\n",
            "thread function: -66\n",
            "thread function: -65\n",
            "thread function: -64\n",
            "thread function: -63\n",
            "thread function: -62\n",
            "thread function: -61\n",
            "thread function: -60\n",
            "thread function: -59\n",
            "thread function: -58\n",
            "thread function: -57\n",
            "thread function: -56\n",
            "thread function: -55\n",
            "thread function: -54\n",
            "thread function: -53\n",
            "thread function: -52\n",
            "thread function: -51\n",
            "thread function: -50\n",
            "thread function: -49\n",
            "thread function: -48\n",
            "thread function: -47\n",
            "thread function: -46\n",
            "thread function: -45\n",
            "thread function: -44\n",
            "thread function: -43\n",
            "thread function: -42\n",
            "thread function: -41\n",
            "thread function: -40\n",
            "thread function: -39\n",
            "thread function: -38\n",
            "thread function: -37\n",
            "thread function: -36\n",
            "thread function: -35\n",
            "thread function: -34\n",
            "thread function: -33\n",
            "thread function: -32\n",
            "thread function: -31\n",
            "thread function: -30\n",
            "thread function: -29\n",
            "thread function: -28\n",
            "thread function: -27\n",
            "thread function: -26\n",
            "thread function: -25\n",
            "thread function: -24\n",
            "thread function: -23\n",
            "thread function: -22\n",
            "thread function: -21\n",
            "thread function: -20\n",
            "thread function: -19\n",
            "thread function: -18\n",
            "thread function: -17\n",
            "thread function: -16\n",
            "thread function: -15\n",
            "thread function: -14\n",
            "thread function: -13\n",
            "thread function: -12\n",
            "thread function: -11\n",
            "thread function: -10\n",
            "thread function: -9\n",
            "thread function: -8\n",
            "thread function: -7\n",
            "thread function: -6\n",
            "thread function: -5\n",
            "thread function: -4\n",
            "thread function: -3\n",
            "thread function: -2\n",
            "thread function: -1\n"
          ]
        }
      ]
    },
    {
      "cell_type": "markdown",
      "source": [
        "As we can see from the output, the two threads get the cout resource in a ramdom fashion. To have a deterministic access, the code below is using mutex: lock before accessing cout, and then unlock after using it:"
      ],
      "metadata": {
        "id": "OKy0vMoKFnh7"
      }
    },
    {
      "cell_type": "code",
      "source": [
        "%%writefile racemutex.cpp\n",
        "#include <iostream>\n",
        "#include <thread>\n",
        "#include <string>\n",
        "#include <mutex>\n",
        "\n",
        "std::mutex mu;\n",
        "\n",
        "void shared_cout(std::string msg, int id)\n",
        "{\n",
        "\tmu.lock();\n",
        "\tstd::cout << msg << \":\" << id << std::endl;\n",
        "\tmu.unlock();\n",
        "}\n",
        "void thread_function()\n",
        "{\n",
        "\tfor (int i = -100; i < 0; i++)\n",
        "\t\tshared_cout(\"thread function\", i);\n",
        "}\n",
        "\n",
        "int main()\n",
        "{\n",
        "\tstd::thread t(&thread_function);\n",
        "\tfor (int i = 100; i > 0; i--)\n",
        "\t    shared_cout(\"main thread\", i);\n",
        "\tt.join();\n",
        "\treturn 0;\n",
        "}"
      ],
      "metadata": {
        "colab": {
          "base_uri": "https://localhost:8080/"
        },
        "id": "Wvm4Yks3Gtek",
        "outputId": "c763f386-e534-4dae-eb68-dc9bbe4534cb"
      },
      "execution_count": null,
      "outputs": [
        {
          "output_type": "stream",
          "name": "stdout",
          "text": [
            "Writing racemutex.cpp\n"
          ]
        }
      ]
    },
    {
      "cell_type": "code",
      "source": [
        "!g++ racemutex.cpp -o racemutex -std=c++11 -pthread"
      ],
      "metadata": {
        "id": "nORB20j8Gz-V"
      },
      "execution_count": null,
      "outputs": []
    },
    {
      "cell_type": "code",
      "source": [
        "!./racemutex"
      ],
      "metadata": {
        "colab": {
          "base_uri": "https://localhost:8080/"
        },
        "id": "3xGWtfDsG1Pg",
        "outputId": "0d7cb6bd-94c1-492b-b404-ef468750f5bc"
      },
      "execution_count": null,
      "outputs": [
        {
          "output_type": "stream",
          "name": "stdout",
          "text": [
            "main thread:100\n",
            "main thread:99\n",
            "main thread:98\n",
            "main thread:97\n",
            "main thread:96\n",
            "main thread:95\n",
            "main thread:94\n",
            "main thread:93\n",
            "main thread:92\n",
            "main thread:91\n",
            "main thread:90\n",
            "main thread:89\n",
            "main thread:88\n",
            "main thread:87\n",
            "main thread:86\n",
            "main thread:85\n",
            "main thread:84\n",
            "main thread:83\n",
            "main thread:82\n",
            "main thread:81\n",
            "main thread:80\n",
            "main thread:79\n",
            "main thread:78\n",
            "main thread:77\n",
            "main thread:76\n",
            "main thread:75\n",
            "main thread:74\n",
            "main thread:73\n",
            "main thread:72\n",
            "main thread:71\n",
            "main thread:70\n",
            "main thread:69\n",
            "main thread:68\n",
            "main thread:67\n",
            "main thread:66\n",
            "main thread:65\n",
            "main thread:64\n",
            "main thread:63\n",
            "main thread:62\n",
            "main thread:61\n",
            "main thread:60\n",
            "main thread:59\n",
            "main thread:58\n",
            "main thread:57\n",
            "main thread:56\n",
            "main thread:55\n",
            "main thread:54\n",
            "main thread:53\n",
            "main thread:52\n",
            "main thread:51\n",
            "main thread:50\n",
            "main thread:49\n",
            "main thread:48\n",
            "main thread:47\n",
            "main thread:46\n",
            "main thread:45\n",
            "main thread:44\n",
            "main thread:43\n",
            "main thread:42\n",
            "main thread:41\n",
            "main thread:40\n",
            "main thread:39\n",
            "main thread:38\n",
            "main thread:37\n",
            "main thread:36\n",
            "main thread:35\n",
            "main thread:34\n",
            "main thread:33\n",
            "main thread:32\n",
            "main thread:31\n",
            "main thread:30\n",
            "main thread:29\n",
            "main thread:28\n",
            "main thread:27\n",
            "main thread:26\n",
            "main thread:25\n",
            "main thread:24\n",
            "main thread:23\n",
            "main thread:22\n",
            "main thread:21\n",
            "main thread:20\n",
            "main thread:19\n",
            "main thread:18\n",
            "main thread:17\n",
            "main thread:16\n",
            "main thread:15\n",
            "main thread:14\n",
            "main thread:13\n",
            "main thread:12\n",
            "main thread:11\n",
            "main thread:10\n",
            "main thread:9\n",
            "main thread:8\n",
            "main thread:7\n",
            "main thread:6\n",
            "main thread:5\n",
            "main thread:4\n",
            "main thread:3\n",
            "main thread:2\n",
            "main thread:1\n",
            "thread function:-100\n",
            "thread function:-99\n",
            "thread function:-98\n",
            "thread function:-97\n",
            "thread function:-96\n",
            "thread function:-95\n",
            "thread function:-94\n",
            "thread function:-93\n",
            "thread function:-92\n",
            "thread function:-91\n",
            "thread function:-90\n",
            "thread function:-89\n",
            "thread function:-88\n",
            "thread function:-87\n",
            "thread function:-86\n",
            "thread function:-85\n",
            "thread function:-84\n",
            "thread function:-83\n",
            "thread function:-82\n",
            "thread function:-81\n",
            "thread function:-80\n",
            "thread function:-79\n",
            "thread function:-78\n",
            "thread function:-77\n",
            "thread function:-76\n",
            "thread function:-75\n",
            "thread function:-74\n",
            "thread function:-73\n",
            "thread function:-72\n",
            "thread function:-71\n",
            "thread function:-70\n",
            "thread function:-69\n",
            "thread function:-68\n",
            "thread function:-67\n",
            "thread function:-66\n",
            "thread function:-65\n",
            "thread function:-64\n",
            "thread function:-63\n",
            "thread function:-62\n",
            "thread function:-61\n",
            "thread function:-60\n",
            "thread function:-59\n",
            "thread function:-58\n",
            "thread function:-57\n",
            "thread function:-56\n",
            "thread function:-55\n",
            "thread function:-54\n",
            "thread function:-53\n",
            "thread function:-52\n",
            "thread function:-51\n",
            "thread function:-50\n",
            "thread function:-49\n",
            "thread function:-48\n",
            "thread function:-47\n",
            "thread function:-46\n",
            "thread function:-45\n",
            "thread function:-44\n",
            "thread function:-43\n",
            "thread function:-42\n",
            "thread function:-41\n",
            "thread function:-40\n",
            "thread function:-39\n",
            "thread function:-38\n",
            "thread function:-37\n",
            "thread function:-36\n",
            "thread function:-35\n",
            "thread function:-34\n",
            "thread function:-33\n",
            "thread function:-32\n",
            "thread function:-31\n",
            "thread function:-30\n",
            "thread function:-29\n",
            "thread function:-28\n",
            "thread function:-27\n",
            "thread function:-26\n",
            "thread function:-25\n",
            "thread function:-24\n",
            "thread function:-23\n",
            "thread function:-22\n",
            "thread function:-21\n",
            "thread function:-20\n",
            "thread function:-19\n",
            "thread function:-18\n",
            "thread function:-17\n",
            "thread function:-16\n",
            "thread function:-15\n",
            "thread function:-14\n",
            "thread function:-13\n",
            "thread function:-12\n",
            "thread function:-11\n",
            "thread function:-10\n",
            "thread function:-9\n",
            "thread function:-8\n",
            "thread function:-7\n",
            "thread function:-6\n",
            "thread function:-5\n",
            "thread function:-4\n",
            "thread function:-3\n",
            "thread function:-2\n",
            "thread function:-1\n"
          ]
        }
      ]
    },
    {
      "cell_type": "markdown",
      "source": [
        "Now the output becomes more in order"
      ],
      "metadata": {
        "id": "ivKRNK_8G4HR"
      }
    },
    {
      "cell_type": "markdown",
      "source": [
        "The issued of sharing data between threads are mostly due to the consequences of modifying data.\n",
        "\n",
        "If the data we share is read-only data, there will be no problem, because the data read by one thread is unaffected by whether or not another thread is reading the same data. However, once data is shared between threads, and one or more threads start modifying the data, and that's the start of problems. In this case, we must take care to make sure that everything works out fine."
      ],
      "metadata": {
        "id": "CH1LrolUG-EG"
      }
    },
    {
      "cell_type": "markdown",
      "source": [
        "Though mutexes are probably the most widely used data-protection mechanism in C++, it's important to structure our code to protect the right data and avoid race conditions inherent in our interfaces. Mutexes also come with their own problems, in the form of a deadlock and protecting either too much or too little data."
      ],
      "metadata": {
        "id": "jMDcwIrPHK2W"
      }
    },
    {
      "cell_type": "markdown",
      "source": [
        "In C++, we create a mutex by constructing an instance of std::mutex, lock it with a call to the member function lock(), and unlock it with a call to the member function unlock(). However, it is not a good practice to call the member functions directly, because this means that we have to remember to call unlock() on every code path out of a function, including those due to exceptions.\n",
        "\n",
        "In other words, if we have an exception in the code after the lock() but before the unlock(), then we'll have a problem. The resources are in locked state!"
      ],
      "metadata": {
        "id": "FH-ss3SLHN3m"
      }
    },
    {
      "cell_type": "markdown",
      "source": [
        "So, the Standard C++ Library provides the std::lock_guard class template, which implements that RAII idiom for a mutex. It locks the supplied mutex on construction and unlocks it on destruction, thus ensuring a locked mutex is always correctly unlocked.\n",
        "\n",
        "The example below shows how to protect a list that can be accessed by multiple threads using a std::mutex, along with std::lock_guard. Both of these are declared in the <mutex> header."
      ],
      "metadata": {
        "id": "WG4qBIo4HR5v"
      }
    },
    {
      "cell_type": "code",
      "source": [
        "%%writefile racemutex2.cpp\n",
        "#include <iostream>\n",
        "#include <thread>\n",
        "#include <list>\n",
        "#include <algorithm>\n",
        "#include <mutex>\n",
        "\n",
        "using namespace std;\n",
        "\n",
        "// a global variable\n",
        "std::list<int>myList;\n",
        "\n",
        "// a global instance of std::mutex to protect global variable\n",
        "std::mutex myMutex;\n",
        "\n",
        "void addToList(int max, int interval)\n",
        "{\n",
        "\t// the access to this function is mutually exclusive\n",
        "\tstd::lock_guard<std::mutex> guard(myMutex);\n",
        "\tfor (int i = 0; i < max; i++) {\n",
        "\t\tif( (i % interval) == 0) myList.push_back(i);\n",
        "\t}\n",
        "}\n",
        "\n",
        "void printList()\n",
        "{\n",
        "\t// the access to this function is mutually exclusive\n",
        "\tstd::lock_guard<std::mutex> guard(myMutex);\n",
        "\tfor (auto itr = myList.begin(), end_itr = myList.end(); itr != end_itr; ++itr ) {\n",
        "\t\tcout << *itr << \",\";\n",
        "\t}\n",
        "}\n",
        "\n",
        "int main()\n",
        "{\n",
        "\tint max = 100;\n",
        "\n",
        "\tstd::thread t1(addToList, max, 1);\n",
        "\tstd::thread t2(addToList, max, 10);\n",
        "\tstd::thread t3(printList);\n",
        "\n",
        "\tt1.join();\n",
        "\tt2.join();\n",
        "\tt3.join();\n",
        "\n",
        "\treturn 0;\n",
        "}"
      ],
      "metadata": {
        "colab": {
          "base_uri": "https://localhost:8080/"
        },
        "id": "lItbVe-6HbBj",
        "outputId": "25f297aa-e657-488a-f272-9475e8f224b8"
      },
      "execution_count": null,
      "outputs": [
        {
          "output_type": "stream",
          "name": "stdout",
          "text": [
            "Writing racemutex2.cpp\n"
          ]
        }
      ]
    },
    {
      "cell_type": "code",
      "source": [
        "!g++ racemutex2.cpp -o racemutex2 -std=c++11 -pthread"
      ],
      "metadata": {
        "id": "5oRtERxzHi33"
      },
      "execution_count": null,
      "outputs": []
    },
    {
      "cell_type": "code",
      "source": [
        "!./racemutex2"
      ],
      "metadata": {
        "colab": {
          "base_uri": "https://localhost:8080/"
        },
        "id": "k8NbqsZpHkfh",
        "outputId": "25a7cf64-deee-42dd-aa86-7b799d5191bb"
      },
      "execution_count": null,
      "outputs": [
        {
          "output_type": "stream",
          "name": "stdout",
          "text": [
            "0,10,20,30,40,50,60,70,80,90,0,1,2,3,4,5,6,7,8,9,10,11,12,13,14,15,16,17,18,19,20,21,22,23,24,25,26,27,28,29,30,31,32,33,34,35,36,37,38,39,40,41,42,43,44,45,46,47,48,49,50,51,52,53,54,55,56,57,58,59,60,61,62,63,64,65,66,67,68,69,70,71,72,73,74,75,76,77,78,79,80,81,82,83,84,85,86,87,88,89,90,91,92,93,94,95,96,97,98,99,"
          ]
        }
      ]
    },
    {
      "cell_type": "markdown",
      "source": [
        "The new output shows that we got the right process working on the list."
      ],
      "metadata": {
        "id": "jWrKhLpIHp46"
      }
    }
  ]
}