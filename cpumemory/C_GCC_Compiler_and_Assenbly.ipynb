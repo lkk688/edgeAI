{
  "nbformat": 4,
  "nbformat_minor": 0,
  "metadata": {
    "colab": {
      "provenance": [],
      "toc_visible": true
    },
    "kernelspec": {
      "name": "python3",
      "display_name": "Python 3"
    },
    "language_info": {
      "name": "python"
    }
  },
  "cells": [
    {
      "cell_type": "markdown",
      "source": [
        "# GCC"
      ],
      "metadata": {
        "id": "unQONsJHM7VA"
      }
    },
    {
      "cell_type": "markdown",
      "source": [
        "The GNU C compiler, also known as GCC, is a simple Linux-based C compiler that's easy to use from the command line. If you're using Linux, including Ubuntu, Fedora, and Linux Mint, you can install GCC from your distribution's package manager. On Windows 10 and 11, you can use GCC in a Windows Subsystem for Linux (WSL) shell, or by installing an open source tool called MinGW."
      ],
      "metadata": {
        "id": "pToJS7tLM9yY"
      }
    },
    {
      "cell_type": "markdown",
      "source": [
        "* To make sure GCC is installed, run the command gcc --version.\n",
        "* Type gcc source_file.c -o program_name and press Enter to compile your source code.\n",
        "* Replace source_file with the name of your source code file, and program_name with the name you'd like to give your compiled program."
      ],
      "metadata": {
        "id": "TzbVcSgeNCQw"
      }
    },
    {
      "cell_type": "markdown",
      "source": [
        "Most versions of Linux don't come with GCC already installed. Fortunately, it's easy to install GCC and other required tools (including make, G++, and general development libraries) for compiling software on any version of Linux:\n",
        "\n",
        "```\n",
        "sudo apt update\n",
        "sudo apt install build-essential\n",
        "```"
      ],
      "metadata": {
        "id": "CYJt1oaLNI_7"
      }
    },
    {
      "cell_type": "markdown",
      "source": [
        "* If you need to compile a program from multiple source files, use the syntax gcc -o [executable_name] sourcefile1.c sourcefile2.c sourcefile3.c.\n",
        "* If you see errors and want to see more information about them, use gcc -Wall -o errorlog file1.c.[3] Then, view the “errorlog” file in the current directory with cat errorlog.\n",
        "* To compile multiple programs at once with multiple source code files, use gcc -c file1.c file2.c file3.c\n",
        "* Run your newly-compiled program. Type ./[executable_name] but replace “[executable_name]” with the name of your program."
      ],
      "metadata": {
        "id": "lS0QJ1DDNhVb"
      }
    },
    {
      "cell_type": "markdown",
      "source": [
        "In **Windows**:\n",
        "\n",
        "* If you haven't already enabled Windows Subsystem for Linux (WSL), you can install it with a single command from the command prompt or PowerShell. Start Command Prompt or PowerShell as an administrator, and then run this command to install Ubuntu: wsl --install.\n",
        "* If you see the WSL help text when running the command, you may have already enabled WSL. Instead, run the command wsl --list –online to see a list of Linux distributions, then use wsl --install -d <DistroName> (e.g., Ubuntu) to install Ubuntu.\n",
        "* Once installed, you can open an Ubuntu bash shell by typing ubuntu into the Windows Search bar and clicking Ubuntu in the search results.\n",
        "* nstall the build tools for Ubuntu. These tools include the GCC compiler, as well as all of the libraries you'll need to compile and debug C and C++ code: sudo apt-get install build-essential gdb"
      ],
      "metadata": {
        "id": "75Usl4ivNxip"
      }
    },
    {
      "cell_type": "markdown",
      "source": [
        "# C in Colab"
      ],
      "metadata": {
        "id": "BaUXIwMB10Bp"
      }
    },
    {
      "cell_type": "markdown",
      "source": [
        "Write C in markdown"
      ],
      "metadata": {
        "id": "uA3aeNX-2lVe"
      }
    },
    {
      "cell_type": "markdown",
      "source": [
        "```c\n",
        "\n",
        "#include <stdio.h>\n",
        "\n",
        "int main() {\n",
        "    printf(\"Hello, world!\\n\");\n",
        "    return 0;\n",
        "}\n"
      ],
      "metadata": {
        "id": "Rbdz9Ehu2Kso"
      }
    },
    {
      "cell_type": "markdown",
      "source": [
        "Using Code Cells with Magic Commands (Colab)"
      ],
      "metadata": {
        "id": "McSbQ4Og2sou"
      }
    },
    {
      "cell_type": "code",
      "source": [
        "%%file hello.c\n",
        "#include <stdio.h>\n",
        "\n",
        "int main() {\n",
        "    printf(\"Hello, world!\\n\");\n",
        "    return 0;\n",
        "}\n",
        "\n"
      ],
      "metadata": {
        "colab": {
          "base_uri": "https://localhost:8080/"
        },
        "id": "teYLCS902pUG",
        "outputId": "26cba5ae-802c-41a3-d707-6674b606fa74"
      },
      "execution_count": null,
      "outputs": [
        {
          "output_type": "stream",
          "name": "stdout",
          "text": [
            "Writing hello.c\n"
          ]
        }
      ]
    },
    {
      "cell_type": "code",
      "source": [
        "!gcc -o hello hello.c\n",
        "!./hello\n"
      ],
      "metadata": {
        "colab": {
          "base_uri": "https://localhost:8080/"
        },
        "id": "A9RGxF-KBrdz",
        "outputId": "68517ea9-1aaa-4850-de9e-3f40628bc062"
      },
      "execution_count": null,
      "outputs": [
        {
          "output_type": "stream",
          "name": "stdout",
          "text": [
            "Hello, world!\n"
          ]
        }
      ]
    },
    {
      "cell_type": "code",
      "source": [
        "%%file hello2.c\n",
        "#include <stdio.h>\n",
        "\n",
        "int main() {\n",
        "    int n = 10;\n",
        "    int sum = 0;\n",
        "\n",
        "    for (int i = 1; i <= n; ++i) {\n",
        "        sum += i;\n",
        "    }\n",
        "\n",
        "    printf(\"Sum of the first %d natural numbers: %d\\n\", n, sum);\n",
        "    return 0;\n",
        "}\n"
      ],
      "metadata": {
        "colab": {
          "base_uri": "https://localhost:8080/"
        },
        "id": "bh6HcgKM13bF",
        "outputId": "1bd96e0f-6078-4fef-d4f6-36d178cef761"
      },
      "execution_count": null,
      "outputs": [
        {
          "output_type": "stream",
          "name": "stdout",
          "text": [
            "Writing hello2.c\n"
          ]
        }
      ]
    },
    {
      "cell_type": "code",
      "source": [
        "!gcc -o hello2 hello2.c\n",
        "!./hello2"
      ],
      "metadata": {
        "colab": {
          "base_uri": "https://localhost:8080/"
        },
        "id": "u6mWanpCB4E2",
        "outputId": "2756254b-d61e-4a95-8b73-ab7e25894d85"
      },
      "execution_count": null,
      "outputs": [
        {
          "output_type": "stream",
          "name": "stdout",
          "text": [
            "Sum of the first 10 natural numbers: 55\n"
          ]
        }
      ]
    },
    {
      "cell_type": "markdown",
      "source": [
        "The compilation is the process of converting the source code of the C language into machine code. As C is a mid-level language, it needs a compiler to convert it into an executable code so that the program can be run on our machine.\n",
        "\n",
        "The C program goes through the following phases during compilation:"
      ],
      "metadata": {
        "id": "tCUb1cwDCpdG"
      }
    },
    {
      "cell_type": "markdown",
      "source": [
        "![image.png](data:image/png;base64,iVBORw0KGgoAAAANSUhEUgAAAesAAAHWCAIAAADYdTaFAAAgAElEQVR4Ae294WtbV/b3q79A+A8wONxcfjxP8rQ6ZXh4cGulcHkqEzHktgZHJdSvpJlOuPgSuaa9L2zVGYZ7SRUlFBwO1JkO9ehFkEvgDBgUE9RCqN2JWjoBeyLT5I1VQZK+0skbvTu3v6zpevbsIx3LirWOtvQVwt3aZ++91v6usz9na52jNOLhBQWgABSAAmYqEDHTbXgNBaAAFIACHgiOkwAKQAEoYKoCILipkYPfUAAKQAEQHOcAFIACUMBUBUBwUyMHv6EAFIACIDjOASgABaCAqQqA4KZGDn5DASgABUBwnANQAApAAVMVAMFNjRz8hgJQAAqA4DgHoAAUgAKmKgCCmxo5+A0FoAAUAMFxDkABKAAFTFUABDc1cvAbCkABKACC4xyAAlAACpiqAAhuauTgNxSAAlAABMc5AAWgABQwVQEQ3NTIwW8oAAWgAAge8jnQaD6p/PiNvb2ONxSoHjxwW89DPiNh3igFQPDQwlU9eJAuLcYKCbyhgKrAcvlqo/kktPMSho1SAAQPIVxu6/knX9nqokUZCqgKTK3OOLt3Qjg1YdI0BUBw6Yi5refn1y+qyxVlKNBWgeXyVemzE/ZMUwAEl47Ycvlq2+WKSijgVwA7cen1aZo9EFw0YpUfv/GvUtRAgU4KTK3OICcuukRNMwaCi0bs7Npcp7WKeijQVgHkUkSXqGnGQHC5iNWePWq7RFEJBQIUmFqdkTtHYck0BUBwuYjZ2+sBCxWHoEAnBaoHD+ROU1gySgEQXC5cePq7E6FQH6yAvb0ud5rCklEKgOBy4QLBgzmFo50UAMHlVqlplkBwuYiB4J0IhfpgBUBwuVVqmiUQXC5iIHgwp3C0kwIguNwqNc0SCC4XMRC8E6FQH6wACC63Sk2zBILLRQwED+YUjnZSAASXW6WmWQLB5SIGgnciFOqDFQDB5VapaZZAcLmIgeDBnMLRTgqA4HKr1DRLILhcxEDwToRCfbACILjcKjXNEgguFzEQPJhTONpJARBcbpWaZgkEl4sYCN6JUPL159cvGvSvtIPgcqvUNEsguFzEQHB5Ure1WPz+NkW9+P1tanB2bc7e/iu923YJtxIEl1ulplkCweUiFiLBl8v54ve3q/UH1fqDF/9j5b8atAPtnp4qiJnIaoFCoIacBk+XFrmye3NiLUFwjg4KmgIguCZIHz+GQvDz6xc7/S8Cas8eTa3OiGFIwJAK4raBtLf/Gisk/HtwtaOAn0c1AYK3jSYqPc8DweVOA3mCn12bc1vPO82wWn9wVJQMeHsVxG1nTQSPFRJaHlztOIBzBMHbRhOVILjoOSBPcN5sNppPOG0ytTpzyVmp/PjNcjnvp1W6tLhczi+X8229Pb9+MV1aTJcWtf/ZEFWmS4u8qeeWVHN+/aLf3Pn1i5ecFXv7r5ecFW1AdowaUBsenI9qBRXE7JJaICtn1+aokjVRO2pjTq3OLJfzlIppq4nWvh8fQXDRhWqUMezB5cIlv/6r9X/9nwF47xnAl0++srUNu9t6rnXsNCCLyHPklpecFS6z9XRp0Z/bcXa3VEYvl/N+fz75yuZB/IUAEKuN7e2/ksP8LaRTR74E8gQbzSc8R3XMvpZBcNYfBU0BEFwTpI8f5Ve+s7tF83Fbz5fLeZWPGnG4pX/+zu4WN2YWa2TnXjxHbqlSmMZZLue5vVbg/xFdQBvNNPsWKyQ6gVhtEyskuiR4gCY8TW3kPn0EwbXzBB9ZARCcpeh7QXjZa0Sj6dWePSp+f1vz5JKzwpO3t/86tToztTrDmPM875KzQmxiLmsY5e48Mrf0PK/27BGnZdTUfLX+gPIYl5wVAn21/mBqdebs2hwPyJtu1clOKReV4GryhMrci6cWsAfnS4jbes6T4i15o/mkT7BuOywIzucDCpoCILgmSB8/MgjartI+VTIctYmp2YDKj9/QUXW7HSskeBNa+fEbco+53D3B3dZzde//yVc22Wo0n6j1BFmywm00f5i8mnWWTiW4Nl/P87gXjxNAcNZES9+zApLRBMH90UQNKQCCy50JkmueoRYrJOjWpbO75U890xaYJeC9NnVXt71Uw/xiGlI9j8Bz5Jb8qxltBK2ejmptGs0n9Aw7/a09e0SGmLxqr7bfOdixoxKcO9aePVJ9YA01BTRPjvcjCM7hQEFTAATXBOnjR6bb8S7vI41Gv3nh3DRtcnnOmofqlpasMJc1fvlH6NSyU706C27Dw2qFbgiu/pBHe5Kkmz24ZtH/UVNA9f/YyyC4X3/UkAIguNyZoPHx2Nd52wHVTAU34HwuoZD3lZx0ppaczeC0L7NV3UGraWueI7fUSOfPzJAt1U9uo2VR2P9OBf8lp23LbgjOmmhZlLYD9rsSBJdbpaZZAsHlIsZ06/eC5/HTpUX/UyhTqzOMV0IkA13NTU+tzjDFmNfcUs1uc8rY8zyeI5vQCK5mZtSkjbO7xTc2VRDzI9uxQuLs2lwwT9WOLIK/0A3BuY2qCSVqeI7+kftUA4LLrVLTLIHgchGTX/m8mfU8j5O5nEJh4E6tznCl23pe/P528fvbag1vkFVEuq3n1foDbkY68hw7ETxWSPAhz/PoH2nhBLfnefTEiL+Ns7tFtgIgrroXAFOmM2dj/B01TZzdLXv7r3StclvP1etKgKHjOgSCy61S0yyB4HIRY7od18I+dBx1d+yfp4rC8+sXNRZTez+t1KsCt+HdOs+REaztwenOKh/VvGKX1C8KWpuA1IofxG0l6obg9Mt7npfmA/vZdvxjrwTBNf3xkRUAwVmKvheYbse+wgMGPL9+kf5VQp5e7dkjZ3eLH47mvlOrM598ZVfrDxrNJ/QQyCdf2bz75maxQmK5nCcEu63nNBT/w4e8OeWaTrBbLucrP35Du+9OLlEbwmij+aTy4zfBGp5fv8hfNVSHtTL5X60/4OxQp46sCV3eOvmpjX/sH0FwPntR0BQAwTVB+vgxmD7Hvuwx4NAoAIL3cVkaPjQILhdAEHxokCo8ERBcbpWaZgkEl4sYCC4MvqExB4LLrVLTLIHgchEDwYcGqcITAcHlVqlplkBwuYiB4MLgGxpzILjcKjXNEgguFzEQfGiQKjwREFxulZpmCQSXixgILgy+oTEHgsutUtMsgeByEQPBhwapwhMBweVWqWmWQHC5iIHgwuAbGnMguNwqNc0SCC4XMRB8aJAqPBEQXG6VmmYJBJeL2HL5qvDKh7nhUMDZvSN3msKSUQqA4HLh4n+FYziwglmIKaD+241y5yssmaAACC4XJf7/JIitfBgaAgXU/4GG3MkKS4YoAIKLBgqJlCFAqvAUkEIRXaKmGQPBRSOm/Q9fhFkAc8YpcH79ougJCmOmKQCCS0fM2b1jHEfgcCgKTK3OIAMuvT5NsweChxAxQDwUIJplFPgOYWUaaBIEDydotWeP+H9nYxZZ4K2AApeclbb/07twTlZYHWAFQPAwg+Ps3rnkrLT9P5kJYAImBk2Bs2tzy+Wr1YMHYZ6UsG2UAiC4UeEaUmdPTpw4OXHiQurdIZ0fpgUF+qUACN4vZTFu9wqA4N1rhZZQQFUABFfVQDkcBUDwcHSHVfMVAMHNj6H5MwDBzY8hZhCOAiB4OLrDqqoACK6qgTIU6F4BELx7rdCyXwqA4P1SFuMOuwIg+LBH2IT5geAmRAk+DqICIPggRmXUfALBRy3imO9xKQCCH5eSGKd3BUDw3rVDz9FWAAQf7fgPxuxB8MGIA7wwTwEQ3LyYDZ/HIPjwxRQzklEABJfRGVaCFADBg9TBMSjQWQEQvLM2OCKlAAgupTTsDJsCIPiwRdTE+YDgJkYNPg+CAiD4IERh1H0AwUf9DMD8e1UABO9VOfQ7PgVA8OPTEiONlgIg+GjFezBnC4IPZlzg1eArAIIPfoyG30MQfPhjjBn2RwEQvD+6YtSjKACCH0UttIUC/0sBEPx/aYFSWAqA4GEpD7umKwCCmx7BYfAfBB+GKGIOYSgAgoehOmz+uwIg+L/rgU9QoFsFQPBulUK7/ikAgvdPW4w83AqA4MMdXzNmB4KbESd4OXgKgOCDF5PR8OjDDxb/dPmP9Xrd8zyV4N/u7Hz4weLnf/7zaMiAWUKBl1IABH8p+dC5ZwW27twhcP/hd7+nwptvTP32bJLKzWaz55HREQqMjgIg+OjEeuBm+uYbU8Rr7e+HHywOnK9wCAoMpAIg+ECGZTSc+vT6dY3d9PHbnZ3REACzhAIvqwAI/rIKon/PCjSbTT/Bf3s22fOA6AgFRk0BEHzUIj5Y8/3wg0UN4l9ubAyWi/AGCgywAiD4AAdnBFz7596eSvDXXnl1BCaNKUKBY1MABD82KTFQbwrw8ycnJ058ev16b4OgFxQYTQVA8NGM+wDN+suNDd6G0+PhA+QcXIECg60ACD7Y8RkN71575dWTEyf+8Lvfj8Z0MUsocGwKgODHJiUG6lkBeqwQDxH2LCA6jqwCIPjIhn6AJl6v1998Y2qAHIIrUMAQBUDwMAPltp5XfvzG3l5PlxZH/D178/cjrsAlZ8XeXq8ePAjzjIRt0xQAwcOJmNt6bm+vT63OxAoJvKGAqsDZtTln90445yWsmqYACB5CxKoHD5jdb312YfluvvTwb5uP7+I9ygr85R+3FjYvv776NtH8/PrFRvNJCGcnTBqlAAguHS5n9w4t0bc+u7D5+O5Bq443FFAVWP3758TxqdWZ2rNH0ico7BmlAAguGq7qwQPC98Lm5YfNfXXdogwFWIHvfv7hnS/SsUJianXGbT0XPUdhzCgFQHC5cLmt55Q8Wdi8zGsVBSjQVoGHzX2C+CVnRe4chSXTFADB5SJmb6/HCom3PruA3XdbZqFSU+Drn7bpGxseUJFbpaZZAsHlIkYb8L/845a2UPERCnRSYGHzcqyQwDZcbpWaZgkEF4oYZcDf+uxCp7WKeijgV+C7n3+gbbjQaQozpikAggtFjFIoyID7IYWaYAXe+uxCrJBAIkVooZpmBgQXihgR/Mq9G8HLFUehgKbAe7fmQXChVWqgGRBcKGjp0mKskCg9/Ju2PvERCgQrQKlw7MGFFqppZkBwoYgRwfETnmBa4ahfgSv3bmAPLrRKDTQDggsFDQT3swk13SgAggstUTPNgOBCcQPBu6EV2vgVAMGFlqiZZkBwobiB4H42oaYbBUBwoSVqphkQXChuIHg3tEIbvwIguNASNdMMCC4UNxDczybUdKMACC60RM00A4ILxQ0E74ZWaONXAAQXWqJmmgHBheIGgvvZhJpuFADBhZaomWZAcKG4geDd0Apt/AqA4EJL1EwzILhQ3PpH8O39nezSgv9dWLu2vb/jJwJqzFIABBdaomaaAcGF4tY/gpe2SpHOr9m52d2ne2YxC96qCoDgQkvUTDMguFDcwiJ4JBI5FTsNiKtMNKsMggstUTPNgOBCcZMheGmrxO/0fJq35tmlBcLW9v4ONaAEy/b+ztrGTS3ZsrZxk3Iyaxs3/ejn8Q9a9d2ne6WtUnZpobRVCm550KqXtkprGzc1epa2SoW1a4W1a6WtknZI/UhuZ5cWCmvXyvfL6iEul++Xye1O6aPdp3s8tY+vrvgtHtqAbAX7XL5fJolIkPL9cmHtGjvZQwEEF1qiZpoBwYXiJkNwDRDZpQWC+PjEOB3imuzSAiOeWVZYuxYdizL3I5FIdCz68dUVdVg+6m+cnk+rHOeW5fvl8YnxSCQyeWaSh/r46orfFl9puNn2/s7kmUkeigqTZyZVjvP4ajPNGb+3NLuAuWsNDlr1bnxmb9c2bnKZp9NDAQQXWqJmmgHBheIWCsHVFDmxgwmu0pMoVli7phJQLatgVev9ZZXRfJRt8dHZuVk+qhVm52YZc+X7Ze6rNYuORemrQ0AbNqfqoI7DF7ZDGxy06l36zNRWPecZ9VAAwYWWqJlmQHChuIVCcIZydCyqEZz315QA2d7fYbTxpntt4yZXcqaFayKRSHZpYffpHj0Mw/WcNOCaSCQyfW56beMmbZzVYWmE3ad7fGmJRCKcbDkVO02DjE+MU+UvOQqqHJ8Yp9Fodx+JRPierbolJ2emz03TOHwp2n26V1i7xjM9tEH3PjPB6Q7EoQmiQ5kOggstUTPNgOBCcZMnuJo34I2tCkpOIFB+gBjHLTXiM/uYy1pL3qJOn5umvtyS98JUz7gMHqF8v8wjqDmT3ad7TF5uw7tpMsF7ajLNVOVZUDP+e2iDLn0+aNV5qOhYVM0psa2jFkBwoSVqphkQXChuMgRn5KkFTjgctOpM8FOx0ypKmDvjE+OTZyb5zbtgpjCPrF4ADlp1dZdKI3NL3lMH12sjdHJVdZvbRMei7DMV2Lp6faLKU7HTs3OzhbVrTNiPr65we9o7aw34qDYXzWeV4On5tOpqz2UQXGiJmmkGBBeKW1gE52wDEYSRx0SmeiY4o0orcHuu1wjO295IJEJjdmrZqV4boZOrKgq5DY/pL1B7vm2rNhifGOfsUHAD7nXorFnJTvt91f9uyiC40BI10wwILhQ3GYKr+9D0fJpT0kwKRh4TmQ5xDkTLbHBHLjDLtMF5G8sJDW6pUY8z15wMocG1EfxJfPaB987cho1yG3+Bct/ZpYXJM5N8m1HdKQc06NJndQ8OggstrdE2A4ILxV+G4H5saTWdCK7uf9Wk8/b+jkZq5vL4xDiTdPfpHjOOrwHcUiM473Y7jUBU3X26xyOonC2sXeMbm7tP95jF6vVAzZWTApoPnP3gK1lwgy59BsGFlhPM/KoACP6rEn3+74ATXEUPPTqSXVqYnZslPqoQZ6rS0yzp+XR6Ps0YjUQinJfglhocVexGx6LaCOoNQL7eUG46u7TAdxQjkQh55W+Tnk/T5YSvJbRVPxU7nZ5P069++HpD14ZDG3TvM7IofV5JGP7fFADB/02O/n0YfILvPt1j+jB8qcAoPGjV+ZBKbaqMjkXbsl4j+EGr3ukh7uhYVP0GcNCq8+aX7fpd6tSG/zkB5rU2SPcNuveZNUQWpX+rCSOzAiA4S9HfQv8IXr5f5vS3ljPxfyysXaPGal5CbVZYuzZ9bpqQNz4xPn1uWuMvQ5B+oU7AmjwzOTs3y7tvGpC90qBMRynRMXlmcnxinB6A+fjqCqdlVJdKW6XZuVky1NYl+sn+7NwsPTlDz6Wo15Lt/Z2Pr64wW+nXofQoOhk6tEH3Pqfn0zRx1QF1Okct405mf1em4aOD4EIB7B/Bj0qEl2zPBNfI/pLDonsnBUBwoSVqphkQXChuIHgnQqE+WAEQXGiJmmkGBBeKGwgezCkc7aQACC60RM00A4ILxW1oCB6c3e6EIdT3rAAILrREzTQDggvFbWgI3jOJ0LE3BUBwoSVqphkQXChuIHhv/EIvEFxoiZppBgQXihsIDhb3pgAILrREzTQDggvFDQTvjV/oBYILLVEzzYDgQnEDwcHi3hQAwYWWqJlmQHChuF1yVmKFROnh33pbxug1sgq8f/ujWCFRPXggdKbCjFEKgOBC4bK312OFxJV7N0aWRJh4bwq8d2seBBdapQaaAcGFgkYEX9i83NsyRq+RVeCtzy6A4EKr1EAzILhQ0KoHD2KFxOurb48siTDxHhT4+qftWCERKySETlOYMU0BEFwuYmfX5mKFxF/+cauHlYwuo6nAwublWCGxXL4qd5rCklEKgOBy4aJEylufXXjY3B9NHmHWR1KAN+C4jSm3Sk2zBILLRcxtPadt+Pu3PzrSSkbjEVTgYXOfMuCXnBW5cxSWTFMABBeNWO3ZI0prLmxexk58BLnc5ZS//mn7nS/SsULi7Nqc23oueo7CmFEKgODS4XJ27xDE3/rsAnLiXRJtdJo9bO5fuXfj9dW3Y4XE1OpM7dkj6RMU9oxSAAQPIVy1Z48onRIrJN767MLy3fzq3z/ffHwX71FW4Mq9Gwubl4ndsUIiXVrE7juExWmaSRA8nIi5ref29vrU6gztx/EXCrACZ9fmnN074ZyXsGqaAiB4yBGr/PiNvb1+yVlJlxZH9n1y4sTJiRO/+T/++8gqkC4tLpevFr+/jbRJyAvSNPMguGkRG0Z/ieAXUu8O4+QwJyjQRwVA8D6Ki6G7VAAE71IoNIMCmgIguCYIPoagAAgegugwORQKgOBDEUbDJwGCGx5AuB+aAiB4aNLDMCsAgrMUKECBIykAgh9JLjTuiwIgeF9kxaAjoAAIPgJBHvgpguADHyI4OKAKgOADGpiRcgsEH6lwY7LHqAAIfoxiYqgeFQDBexQO3UZeARB85E+BARAABB+AIMAFIxUAwY0M25A5DYIPWUAxHTEFQHAxqWGoowIgeEdpcAAKBCoAggfKg4MiCoDgxyhzo9GwbbtarXY/Zq1Wy2azjuN4ntdDdzJUfPFSjarDqvWe57mua9t2JpPJ5XKNRsN13Vwul8/nqZnjOLZta120j35zWoMR+QiCj0igB3qaPRA8n89nlFc+n69UKgM9SSnnqtWqZVl+AtZqNUWwfxUJmsVi0bKsbDbreV6n7sHuUy+6BnBLdViupEIul7MsK/Xi5XlerVazLCsej9PRTCZjWZbWRftIgx/pQqWNMBwfQfDhiKPZs+iB4LTIGUnxeNyyrFwuZ7YQx+F9JwRTfTKZZNEymQxvexmFnboHu5bNZi3Lcl1Xa8bDavWEb7WyVqtx924I7rouX3XUcUatDIKPWsQHcb49E5wn47ouQYSQQV/DXdd1HIch0mg0isWibdvqbp2TBrVazbZtx3EajQYPW61WbdtuNBqVSoU3mK7rVioVGoehQ106HSJPaHy1C9dreQ8a32+C6ovFouokJSVoyrVarROCO9VrmRN/M1LGtu1arcbKaIW2MGVt1cZUaVlWMpkkQeioWtYIzio5jqOqRxFXBx/BMgg+gkEfuCm/PMG1r/+EANqYUz4hn89byiuTyRALCFipVIoPxuNxhrVt2/Tt3rKsTCZDVmhYah+Px/kKUa1WtUOEPMdx1PpkMkn1tVpNrbcsiwilOsNfLGq1WjKZbOukNj5192dR/Gjm80A9pJZd1yUl2S7v2bmvpvyh9TQ+D0iqep7HCnuepxJcmx2r53keRYf1V02PThkEH51YD+5Mj4XgjuNYllUsFhkB2WyW9qqVSoVQSNSmlgQjBgpRmygcj8epIzGCqeG6bvzFi6jBjd0XL+1QMpmkHX08Hk+lUjQgUTuVSnmeR1tI3tiSA5TepVkQHKljKpXiq4XruvSR7gFqdumq0InguVyuqrzUyxh1UQlOlz12hpLX6jcYOqU6paTVobSTT+U1HVJrmOCNRqOTep7nUVjZPc3EiHwEwUck0AM9zZ4JziwqFosEMuIdIYDKzMp8Pm//+komk3TfjCijJtCJ78RTIjhvydVDJCjXcEETmu/m/Wr5Px/AsCyrVqsREHO5XKVSUTlOLFPzP3SjL5VK8SDUt1gs+u1STSeC8+aXCnwp4pufKnbjL15slNSgG57qNDvthdWh1PbajpsOtSV4gHoBe3/N1nB/BMGHO75mzK5ngqs84p0y78F58gRN9Q4eldtSQOWOxibto9rdf4isU30qldKs0427XC7HiRT237ZtTphQSodc0m5CZjIZyn1blqVmElT/WQF29Uh7cMogaZ77Eymd5t7Jk+4JHqAez8h/rVJnPfRlEHzoQ2zABHsmOO/BebtNs+Wv4fSRQMBbabr1R4eIMpyN5ewq5Qo0NtHXdhUZ1KDy4sXbWBqZXKLx1T2+ei+OWtKdOv/NwEqlwt8V6NYftedenEnwu6TWUPsAnqqH1LL2VUbVTfVEU4kPqUNxJRXUHbe/hsNHI3RSL2B8zdwQfwTBhzi4xkytZ4J3miEjgBpQOjUej9MjH7TJpcQFUYCy5PTkicpKP5v4PiE3pqS253n+Q4RRqqfNr+M4lB+nSwXviCldQB8zmUylUqlWq5VKJR6PJ5NJz/MoJU2HKpUK/RaGZkcbdp4afS85FoLTFYscrlaruVwulUr5r0CkIeWjqYt6j8HvSfd7cFbVrx5fa9XvH53OhyGuB8GHOLjGTK3fBKffjBBJCXDasyjZbJazGalUirPSfoI3Gg26PPA4vP33HyLY8ZOO1IWzJW0fjwl49CKfz7OT6gMz9FMdGjwej1OK3M/NgB2rekgte55Hlxwa3LIsfwqFNub8zAxl4WnXrA2lno5d7sFpcLrlq6nneR7N1H9FUQ0NfRkEH/oQD+gEv9zYqNfr5JxG8G93dr7d2emH341Go1qtqmtepUy1WmUcB1v3j8PtXdfVTNAhqvePT4kgrZ4e6+YLCQ9Oyd+29eSS2vIYy+RPwID0bAw1aOteQN9uDrVVjx5T6ab7ELcBwYc4uAM9tU+vXz85ceJC6t2tO3eI4L89m/xyY+PNN6ZOTpzoE8H9iqgE9x9FTZcK0Nbb/6Bhl917aEbpGvXeRg+DDEEXEHwIgmjkFJrNJoHb//e3Z/8z8yvzohQEQPDyamez2bY5lpcfue0I+Xze/1xj25bDXQmCD3d8B3p2H36w6Mf3yYkTX25sDLTfcA4KDIwCIPjAhGL0HPnn3p6f4K+98uroKYEZQ4EeFQDBexQO3Y5Fgd+eTWoQ/9PlPx7LyBgECoyCAiD4KER5cOf45caGRnB+QGVwnYZnUGBgFADBByYUo+rIa6+8yhD/w+9+P6oyYN5QoBcFQPBeVEOfY1SAHiskiIs9RHiM/mMoKBCiAiB4iOLD9H8qUK/XCd9vvjEFRaAAFDiSAiD4keRC474o8Iff/f7kxInP//znvoyOQaHA8CoAgocc20bzSeXHb+zt9VF+/983Pvzf/+N/+6R8Y5RFsLfXqwcPQj4dYd40BUDw0CLm7N5JlxZjhQTesULi1Nx/hw6kwHL5au3Zo9DOSxg2SgEQPIRwNZpPVHa/80V6+W7+yr0beI+yAgubl9/67AJfxj75ynZbz0M4O2HSKAVAcOlw1S1Wom0AACAASURBVJ49mlqdiRUSr6++feXeje9+/uGgVccbCpACX/+0vbB5mTh+fv0iIC69Pk2zB4KLRqzRfEL4fueLNNgNandSYPPx3ddX344VEufXL4qeoDBmmgIguGjEzq9fjBUS73yRftjc77R6UQ8FDlr1r3/aJoh/8pUteo7CmFEKgOBy4XJ271DyBLtvMLobBUoP/0bplEbzidxpCktGKQCCy4Xr7NpcrJC4cu9GN6sXbaDAQav+3q35WCGxXL4qd5rCklEKgOBC4ao9e0QbcORPgObuFdh8fDdWSEytzgidpjBjmgIguFDEit/fjhUS79/+qPvVi5ZQ4KBVp2w4nhAXWqimmQHBhSJmb68jhQIi96AAJVLwc02hhWqaGRBcKGKXnJVYIfGXf9zqYQ2jyygr8P7tj2KFBAgutFBNMwOCC0WMfoS5+fjuKMMIc+9BgSv3boDgQqvUQDMguFDQQPAe4IUuB606CC60RM00A4ILxQ0EB457UwAEF1qiZpoBwYXiBoL3xi/0AsGFlqiZZkBwobiB4GBxbwqA4EJL1EwzILhQ3EDw3viFXiC40BI10wwILhQ3ELx/LF7buDl5ZnJ2bnb36V7/rIQ1MggutETNNAOCC8XNLIJv7++Utkrb+zthYat7u9v7O5FfX7Nzs9Rx8swk1WWXFrofajBbguBCS9RMMyC4UNyMIHhpqzR9bvpXHv7rv9PnpktbpcGk20GrDoILncEwM5AKgOBCYRl8gs/OzWrsVj9+fHVlYCHuz6JgDy50WsNM2AqA4EIRGHCCq/iOjkVn52azSwuzc7PRsShxPDoWNSKpQpcZEFzotIaZsBUAwYUiMMgEX9u4ydtt7X7g7tO92bnZU7HT2k3Cwtq1X7Irp2Kno2PRyTOT6fm0xvfC2rXJM5OTZyYLa9coOUMXg+lz02sbNw9a9d2ne9mlBUItXTPK98vqNp+6T56ZVFu2tZWeT7OtYIKXtkp8WYqORf0JItXt7f0dmnu4SSTkwYWWqJlmQHChuA0ywU/FThPBJ89Mqgzlsorv3ad7vMNl7lOhsHaNu2SXFqiSB1cbf3x1xV8fHYuqEOf2bVuqttgfvm/przlo1Qtr13hMtZCeT/vdnj43zd8/QHChRQIzR1cABD+6Zj31GGSCM85od8w4a1tgOEYiEUq2jE+M8wgMOyY4HRqfGFc7cvtTsdMqoNVLCLeJRCLRsWh6Ps3bZ6rhXT+PHEBw7XtGdmkhPZ9mEzxxzW36hqFeV9pq0tdK7MF7WnCj0gkEF4r0wBK8tFVikB1KIpWDKtf4CZZTsdM0iIpCvguq2lJ33Gpj3u+zV+MT41y5+3SPLxi8d+6G4HydYGcOWnWezvjEuN9tfjbxUFn62gAEF1qiZpoBwYXiNhwE5xue0+emVWyV75cZuLQ1ZigzHKk9k1Tl4+7TPe7Ou3iuURMmB636x1dX6BCPfCjB1ScOS1sl9c3XA83t6FiULxvqTOXLILjQEjXTDAguFLeBJbhKT3Vb3RZVflZyMwYuIZgJriZGDlr1TiNo3Q9adX8N2VI38lTjH1OrUbvwsFoh2G2epnwBBBdaomaaAcGF4jawBD9o1Xkfqu6L26KKycgZDGqmXgaCUcgjcM6aRmCe+vfgXEMtOfURiUSoxj+mVqMSPLu00Pat7cG1Cw8ZCuUvCC60RM00A4ILxW2QCc775UgkoqUs6BEOJrs/g0FQ48c8omNRquExNRRqbGUmBhCcrVNjzuTwyP4x/TX8YIk2QS1V0slt9lO+AIILLVEzzYDgQnEbZIIftOqcno5EIvwQNz0cTWyl57K393cYhdPnpmnfWli7xpW8N++EQj9biYkBBI9EItmlhd2ne/RgOLdkFvvH9NewP9GxaGHtGoF7bePm+MQ4j3PQqnMzvjzII1uzCIILLVEzzYDgQnEbcIL/8k9ZqRBnSnKBCB7wVHUkElF/+NMJhX62dkNwdoML/NBL29y638ru072ACXKippPbGlUlP4LgQkvUTDMguFDcBpzg/CNJ3k0zK6NjUS1nTVtXbkAF7cecnVDoZ+uhBFcfAydb6fm0mv3wj+mvoQmqz4DTUNrsOrktiWzNFggutETNNAOCC8Vt8AnO4ChtlQpr17JLC/SDeK7XCuX75bWNm7/8urK0VVJ5Ss3o36ctbZW051vK98v0MB9lYHhMfsKPh+IrBI1f2ipllxba/pu3/jH9NWzol804DUWjsblgt7m7fAEEF1qiZpoBwYXiZhDB5SHV1qJK8LYNRqQSBBdaomaaAcGF4gaCHxW4IDgpBoILLVEzzYDgQnEDwUHwoyoAggstTpPNgOBC0QPBj8ovf2b8qCMMR3vswYWWqJlmQHChuIHgw8FT+VmA4EJL1EwzILhQ3EBwefYNh0UQXGiJmmkGBBeKGwg+HDyVnwUILrREzTQDggvFDQSXZ99wWATBhZaomWZAcKG4geDDwVP5WYDgQkvUTDMguFDcQHB59g2HRRBcaImaaQYEF4obCD4cPJWfxcLm5VghUT14IHSmwoxRCoDgQuGyt9djhcSVezfkEQCLRivw3q15EFxolRpoBgQXChoRfPlu3miawHl5Bd75Ig2CC61SA82A4EJBq/z4TayQeOuzC/IIgEVzFfju5x9ihUSskHBbz4XOVJgxSgEQXChcbuv51OpMrJDYfHzXXKDAc2EF6DZmurQodJrCjGkKgOByEVsuX40VEu/dmhemAMwZqsDD5v7rq2/HCgln947caQpLRikAgsuFq9F8Qttw3M80FKnCbtM9zPPrF+XOUVgyTQEQXDRizu4dSmuu/v1zYRzAnEEKPGzu00OEU6sztWePRM9RGDNKARBcOlyUS4kVEu/f/ui7n38wCCtwVUaBzcd36fkT5E+kF6eB9kDwEIJW/P427cR/ecZgYfPyX/5x6+uftmXoACsDq8Dm47urf/+cMiexQmJqdQa/4glhcZpmEgQPJ2K1Z4/oV5qMchSgACuwXL6KxwfDWZmmWQXBw4xY7dkje3s9XVo8uzbHq3cEC/9tIf7fFuKv/D9vjuDcecrn1y9eclaK399uNJ+EeVLCtlEKgOBGhWtInT05ceLkxIkLqXeHdH6YFhTolwIgeL+UxbjdKwCCd68VWkIBVQEQXFUD5XAUAMHD0R1WzVcABDc/hubPAAQ3P4aYQTgKgODh6A6rqgIguKoGylCgewVA8O61Qst+KQCC90tZjDvsCoDgwx5hE+YHgpsQJfg4iAqA4IMYlVHzCQQftYhjvselAAh+XEpinN4VAMF71w49R1sBEHy04z8YswfBByMO8MI8BUBw82I2fB6D4MMXU8xIRgEQXEZnWAlSAAQPUgfHoEBnBUDwztrgiJQCQ0Bw13Wr1Wqj0WirWaPRqFarruu2PdqnylqtVq1Wjzp48ESCR3Mcx7btSqXieZ7rusVisVarUTlAHBozFImCp2PEURDciDANuZMvQ/BKpWLbNpEiRJmq1aplWbZtt/XBtm3LsnrgadvRuqzMZDKWZXXZmJvlcrl4PN7DxYbMWZaVSqU8z6MpZzIZz/OCxSHTrutalpXL5dgTFLpRAATvRiW06a8CPRPcdd14PG5ZFpGiv14Gjh4MKVMI3mg0esNorVazLCubzdKOm/7atk1fSoLFYV1zuZxlWZ2+x3AzFFQFQHBVDZTDUaBngheLRcJ325VPaQRte07f1v3bYarX8FGtVql77cWL1fF/5Vch5c8YMMH9mY3grIV/KPKhUz1teGkW/j142znypDzPIz0pDaLWcyakbS6o0WhQx1wux46p81LF4WGrL1780fO8SqViWVaxWFQrUQ5WAAQP1gdHJRTomeDJFy//zrFWqyWTSevXVzwebzQaruvyN306Qqiq1WpqfTab5RyCZVlkgtonk8lqtao2zufzJBBBKpvN0ncCSibwxYMJTgXHcVjWfD7vv/y4rkv1bJeG8terlyLbttl6JpNJpVKcRQmYI3vieV42m+Uuar3qjGVZPGtqQ5P6Vex/pZJUaqtlSrCwn/F4XL1g8EZetY5ygAIgeIA4OCSkQG8EdxzHsiyiofYFPJlMEhqq1WqlUiHiUJtisUi7v1wu5754UWPHcarVKu0lKRvgeR5RKZvNVqtV5lQqlXIcp1KpEIaIrQQpSkFw42QySQoywSntwzkf+sjmWG4iJtl1HCcej1MXfz1dnDzPIzVSqVTlxYvwTTh2XTdgjmzU87xkMklZbLWSRqb9NU1NvWx4ntd2D65SWy2zwhQF8pMvdXS9VK2jHKwACB6sD45KKNAbwVOpVDweJ/+IEbw3jMfjyWRS3dzxBtNxHN5iM/jy+TwBpVqt0j6UEhG0B2cJCDecaaFv/XT3khxgNPOtPPKBCe55Hl1IiFkERw2IdE9PHYos+uvVWZMaPDW+Q3DoHHl2dMVS7dIhYm4+n+eJq12orDLaX6MepWsJq00a8g1Mf+bHbws1qgIguKoGyuEo0APBCQqpVMr+9RV/8SKE0b6VUxAEWTW1Eo/HaQ/OO2tOAlCBqKrdI9X4ooJJLZOIao1KcDXn03bLqXZU49G2nj3kAndhb4PnyO07EVzLPmWzWd4yc1+/b2qNWtZ0po982WCfeWQUghUAwYP1wVEJBXogOC11Pw7U5/mq1arjONSSU8+1Wq1SqdBGOJfLqfto/1Q1LGp8UcFEZd5L8s6X7KoE9zyPXeIskGpaRXxwvdrSfzGgOwF8h1BVRh1WLWvzVQ/RXdB8Pk/fb9RDbZ8X9ItDDmjfFbRxNIW1o/joVwAE92uCGmkFjkpwlVyqrwwXSnbTIUoCFIvFSqWicpxumlG2IR6P06FGo6HuMTWiaXzxQ4qJXK1W6TsBZR40glNHaqD6z2UyRE9lNBqNVCpFCSJ/PT9mTiY4uU+XKM6Dk622c2SjnuelUinO3efzebqp22g0bNumLzecUld7HYng5Gc2myVlHMdRL3vxeNyfiNds4aOqAAiuqoFyOAocleCEJy19zKnnYrHIjzrQJj2VSmmpAMuy4vE4ZQNqtZrWnkF/VIKrD8Awzdkx1WFq2WlfTNRWv2EwfPkWJR3lZ++0CdLFjB8sCZijGnISlmDN92mJuX5n1I7qxYzq1Rq1zHcCeECKDj2w2NvT6Kono1YGwUct4oM436MSnO6D+WdCzyDXajXXdem3mvwjb2pMj1LYtq3dz6RUA9Wr9+v4eXDqrj3NrT7yzOVareYfx//8OLFSteWfDnnrOI7WjKbmr/c8j627rqt522mOql318R7KQfHEi8WibdvFYlFzhhrw9Hk0tUYtUwN6fMW2bfWqplrncVAIVgAED9YHR/ulwJ8u//HT69fr9brneSrB/7m39+EHi19ubPTLcKjj2radf/HyP1Udql//Mt7p6UYZ37Ivnqbnx2lkjJpuBQQ3PYKm+v/lxgaB+8MPFqnw5htTF1LvUpnIburcOvtNdwIpVzCYqKKcif9pk85zOp4j9Lv8Tmml47ExjKOA4MMYVUPm9OYbU8Rr7e+HHywaMgO4CQVCVgAEDzkAo2z+0+vXNXbTx293dkZZFswdCnSvAAjevVZoecwKNJtNP8F/e/Zfv0Q/ZmMYDgoMowIg+DBG1Zw5cRKcUT6s9zDNiQk8NUkBENykaA2fr9/u7DC7T06ceO2VV5vN5vBNEzOCAn1SAATvk7AYtlsFfns2yRD/0+U/dtsN7aAAFPA8EBxnQcgK8GOFJydODOtDhCFLDPPDqwAIPryxNWdmr73y6smJE3/43e/NcRmeQoGBUAAEH4gwjLgTf7r8x5MTJ/AQ4YifBph+DwqA4D2Ihi7HrEC9Xn/zjaljHhTDQYERUAAEDznItWePit/ftrfXR/z9SfnGiCtgb687u3cazSchn5Ewb5QCIHho4XJ275xdm4sVEnhDAVWBdGmxevAgtPMSho1SAAQPIVy1Z4/Or1+kRfv66tvv3/7oyr0beEOB927NM8ovOStu63kIZydMGqUACC4drtqzR1OrM7FC4vXVt1f//vnD5v5Bq443FCAFvvv5h+W7eeL4+fWLgLj0+jTNHgguGjHG9ztfpMFuULuTAl//tP366tuxQgIQF12fBhoDwUWDRskT4LsTuVDPCjDEP/nKFj1HYcwoBUBwuXA5u3coeYLdN3MKhQAFNh/fpXQKHlCRW6WmWQLB5SJGT5785R+3AhYtDkEBVYGFzcuxQmK5fFXuNIUloxQAwYXCVXv2iDbg6vpEGQoEK/D1T9uxQmJqdUboNIUZ0xQAwYUiVvz+dqyQWNi8HLxicRQKaAq89dmFWCFRe/ZI6EyFGaMUAMGFwmVvr8cKiSv3bmjrEx+hQLAC9JA4fuMjtFBNMwOCC0UsXVqMFRJIggfTCkf9Crx/+6NYIQGCCy1U08yA4EIRI4JvPr7rX6KogQIBCly5dwMEF1qlBpoBwYWCBoIHQAqHAhQAwYWWqJlmQHChuIHgAZDCoQAFQHChJWqmGRBcKG4geACkcChAARBcaImaaQYEF4obCB4AKRwKUAAEF1qiZpoBwYXiBoIHQAqHAhQAwYWWqJlmQHChuIHgAZDCoQAFQHChJWqmGRBcKG4geACkcChAARBcaImaaQYEF4obCB4AKRwKUAAEF1qiZpoBwYXiBoIHQOolD5Xvl0tbpdJWaXt/J3io7f0dalm+Xw5uOThHQXChJWqmGRBcKG4DSHBiWTfgGxyctfVk8sxk5MUru7TQtgFXZpcWqOXkmUmuHPACCC60RM00A4ILxW3QCF7aKhHLIpHI9LnpAadYsHsguNBJDDODpwAILhSTQSP47NwsEzwSiRyafwhmaLhHQXChkxhmBk8BEFwoJgNF8O39HRXfkUhkdm62E4V3n+4F544PbXDQqnMCupMVtZ4a7z7dUysPWnXKd2uVB626n+Dl+2V/94NWPTiLQuN3mSLffbrX1oTfvZesQRZFaImaaQYEF4rbQBE8PZ8mgvNOPDoW9fOofL/McGTiT5+bZsYd2uCgVV/buHkqdpq709VCtcX5nMkzk2sbN8cnxrnx9LlpAiX7GYlEomPR9HxaxSI7mZ5Pqy3HJ8a1zHgngmeXFlS70bFop47ZpQV2srRVUt3oUxkEF1qiZpoBwYXiNjgE3326Fx2LEiW393cYeRqztvd3uBkjlQBK/D20wUGrXli7pvblcnQsynkbJnhbc6dip7ULAA2iQpwJzuOrhVOx08zWtgRnBdRekUikbUfVGRBcaPHATGcFQPDO2hzrkcEh+MdXVwhVdANTBSiT7qBVZ65Nn5umLMraxs3ZuVnOtxzagEeORCLZpQUahGnLT4Oozei2anZpgZuRq9Gx6OzcrLZT5muA2nh8Yrywdo1cZSLzxclPcK6JjkULa9dKWyXeYpPbpAk3Y+mySwvsgKrbsZexBz/WhThsg4HgQhEdHIJzumBt4ybhhmsKa9cYQIxFbsaHqHBoA0Y8A/SgVd99usfmKBujElxtyc0ikQjnbdQMPnvLnmi5IMZudCxKPnMNXz/YirqhLt8v85VD6xiJRD6+uqJJ0dePILjQEjXTDAguFLcBITinNcYnxpk7vCtXKzlXHolEJs9MpufThbVr6q7z0AacFaHtc3Zpgd4MXEKhSnA1P860VbMZbe9b8oBqaoVun/I2nK4BPCYRnElN2232UN3sax1ViVjAvhZAcKElaqYZEFwobgNCcIbd5JlJBpbKYt6K/vKEiZrzZRTS3UXaTQc34C6dCrTjVgmuolCjLR/iKfCG3V/Djdk0zUsbUzXNLbVC2448vkABBBdaomaaAcGF4jYIBO8GWJxeIDZRQpkRSXRT0wgBDXgPzklw/hUoFWhHr3qlAlGjLR9iZ/wEf5k9+C/PzGju0Uf6WtDJGfaqfwUQXGiJmmkGBBeK2yAQnBPT2jZT+8ipEjWncdCqc7KFKR/cgM1xe8Lc7tM9NnHQqh8jwV8mD87XA3KSM+/0EQQXWicwc0QFQPAjCtZr89AJrt4D1PBEkOK9LT1tUtoq0ZPXvDmdPjdNrO+ygWpx8swkPenx8dWV6Fj0VOw00/8YCR6JROhZlNJWia8fbR8p4YsK3xigB9VpspRW4qduDv0pEAnYp7/Yg/e65kaiHwguFObQCc5EY3hpxFFZtr2/w0DXdujRsShdAA5tEPA8uErVYyQ4521Un9UboW230qyM2ovKfFegbUdNwD59BMGFlqiZZkBwobiFS3D1Vzz8EJ6fOPxoXXZpobB2jTfdjLbJM5O8fz+0AY1fvl/WxqFtMls/RoJrj4F3/5tM/w9HJ89MMr6xBxdaJDBzdAVA8KNr1lOPcAnOuOyhwPf3OvU9tAF1pH91hJMnnUY7lvpO/y7KoYPTXA5tJtkAe/CeFtyodALBhSJtLsElaQVbfgVAcKElaqYZEFwobiC4n02o6UYBEFxoiZppBgQXihsI3g2t0MavAAgutETNNAOCC8UNBPezCTXdKACCCy1RM82A4EJxA8G7oRXa+BUAwYWWqJlmQHChuIHgfjahphsFQHChJWqmGRBcKG4geDe0Qhu/AiC40BI10wwILhQ3Injp4d/8SxQ1UCBAgYXNy7FConrwQOhMhRmjFADBhcJlb6/HCokr924ErFUcggJ+Bd67NQ+CC61SA82A4EJBI4Iv3837lyhqoECAAm99dgEEF1qlBpoBwYWCVj14ECsk3vrsQsBaxSEooCnw3c8/xAqJWCEhdJrCjGkKgOByEZtanYkVEpuP72qrFB+hQCcF6DbmJWdF7jSFJaMUAMHlwkWJlHe+SHdarqiHAqoC3/38w+urbyOFIrdEDbQEgssFzW09p234wuZldaGiDAX8Cjxs7r/zRTpWSKRLi3LnKCyZpgAILhqxyo/fUFoTEPczCzWsAON7anWm0Xwieo7CmFEKgODS4XJ27xDE37s1//VP27xoUYACpEDp4d/o+ZOp1Znas0fSJyjsGaUACB5CuJzdO5ROiRUS792aX/3755uP7+INBa7cu0HsjhUSZ9fmgO8QFqdpJkHwcCLWaD5ZLl+lzTj+QgFVganVGXt73W09D+fUhFWjFADBwwxXo/mk+P3tS85KurQ4yu//ev43//X8b/7H//U/R1mEdGlxuXzV2b0Ddoe5Jk2zDYKbFrFh9PfkxImTEycupN4dxslhTlCgjwqA4H0UF0N3qQAI3qVQaAYFNAVAcE0QfAxBARA8BNFhcigUAMGHIoyGTwIENzyAcD80BUDw0KSHYVYABGcpUIACR1IABD+SXGjcFwVA8L7IikFHQAEQfASCPPBTBMEHPkRwcEAVAMEHNDAj5RYIPlLhxmSPUQEQ/BjFxFA9KgCC9ygcuo28AiD4yJ8CAyAACD4AQYALRioAghsZtiFzOhSC12o113WHTMmXn06tVqtWqzyOWuZKFAZHARB8cGIxup68DMGr1ar94uVnjWVZmUymrazFYtGyrGw22/boIFTatm1Zln9Swb5Vq1XLsorFYnCzTkczmYz14pXL5TzPy2azPBqNbNt2p76e59VqNcuygtsEdMehHhQAwXsQDV2OWYHeCF6tVpPJJBGH/iaTSRV5AQSv1WqZTKZSqfQ8k3w+3+ny0POYasfeCJ7JZOLxuDpO92XHcSzLyuVy1Wq1Vqt5nuc4TjabpXI3BPc8jxzAl5vuZX/JliD4SwqI7segQA8EJ6DE43HHcdwXL8dx4vG4um8NIPjLO03b1Zcfp9MIPRC80WgQgjuNGVwfbLFLgtNlwHGcYFs4elwKgODHpSTG6V2BHgieSqUsy6LtIRumb/GpVIpqiOD5fD7+4pXNZhuNBh3SeFStViljQKkVbuZ5XqVSIVgnk8lcLke7S3Xjb1kWO8CFWq2WzWbZLvvZqd7zvEajkcvlqEsul8vn8+rVyHEcmnI8Hs/n8203uUTPtl8s2s6CvaW9szop+iqjMr1LxVzXfZmriOoSyt0oAIJ3oxLa9FeBoxI8YLOZy+UsyyIEE5IIeVQfj8eJfSqPqJxMJu0XL2IoNaN0OR2iEShzYts2JXCoi6YOXUjILl8/XNf11/NFyHVd+gKRy+V4cCY4kTSTydi2TWRvm8ChQ+rlhxzzzyKZTGrXAMdx6EJFDtAgnQgeoJjnefF4nC+imjL4eOwKgODHLikGPLICRyW4yl/NmAodIjgTjUBGd/nUEVKpFJOdb8fl83mCkQq7SqXCowVkUWg7r+67aUvrr+e7qapvnue5rktXiGq1SrtaFdnU2L/X7uRSPB5XZ6HZYgFV6ahSrelSMd7O87Ao9FUBELyv8mLwrhQ4KsFpM0uQ1QzQPpTo6c+Dc43KIzV7wOVMJqO20awEc4qtaL389cxcLnAXpie5wY5xwf/Ih38Qz/PazsLvied5bNHvgzYO+6AW+BrT1g0eE4XjVQAEP149MVovChyV4LQ7VjfOZJVyEfwwhmVZ6td52szSE4Qq15LJZDwer/77q/biZVlW2+tEMME7pRH89bT95+f21MwG58EpZURXFNVH/jbAirdFp/9qp+rAfY9E8E6K0Wht3VANoXyMCoDgxygmhupRgR4ITqmAVCrFIGs0GnSvj5+Gph0iZxsoke3PolA9b2kbjQY/SkGo4nxIPp/n0YhTKnN58jQgD+I4Dg3ur+ebfvwkHw1Sq9XU52o4o0JHieNsjgs0PrlUq9Vs26ayNgvNDe7e/R6cRmirmOd5yRcvHhaFvioAgvdVXgzelQI9EJz3jLTRJnZrPyfh7/ipVIogyFtydQ/uui51TyaTxGXe3VerVSJpJpOhEeinLp7n0SUkmUymUilGPM2Ws9ipFy/ykB55ZDfYIl8DuIZ94DuZDHQekFMWqr7kEuXcaRCCrH8WbX/K1D3BAxTzPI+T+6pvKPdJARC8T8Ji2CMo0BvB6Qk827YzL162bfN+nGzbtu04TqVSyb54FYtFxqVKcLpzSL9eoec91HEajQaZyOVyvK2m8YvFCAN4awAADrJJREFUYiaT4d+8qBN2XbdYLPrtUj31Uv2hvuRDNpt1HId+a8qeNBoNNufvSN3VhAk9H6l2p58g+WfBbmsWKffNqpIO/IMp13XbKlapVPhnnDwyCv1TAATvn7YYuVsFeiZ4twaUdvTvfnTKJCgNjSyGnsEgYfnKYaSIRjkNghsVriF1VpLghJi2D2MMgbqUT+edsvCM6E4yJ5qErY+mORB8NOMe/qw//GDxww8W6/W653kqwb/d2fnD737/+Z//3D8X+d/96J+JEEcOcXaNRoMeYA9x+qNmGgQftYgPyny37txhcFPhzTem3nxjisrNZnNQHIUfUGCAFQDBBzg4w+4a85qozX8//GBx2KeO+UGB41EABD8eHTFKDwp8/uc/M7XVwj/39noYDV2gwAgqAIKPYNAHZcrNZvO1V15V2X1y4sSF1LuD4h/8gAIDrwAIPvAhGmoHP/xgUSP4lxsbQz1jTA4KHKcCIPhxqomxjqrAP/f2VIK/9sqrRx0B7aHAKCsAgo9y9Adi7hdS7zLEP71+fSB8ghNQwBAFQHBDAjW8bn65scEEp8fDh3eumBkUOGYFQPBjFhTD9aAAPVaIhwh7kA5dRlwBEHzET4CBmP6n16+fnDjx7c7OQHgDJ6CAOQqA4CHHqtF8UvnxG3t7fZTfS6X/7zdv/GaUFaC5Vw8euK3nIZ+RMG+UAiB4aOFydu+cX78YKyTwjhUSr/6//xM6kAKXnJXqwYPQzksYNkoBEDyEcDWaT9KlRQbWe7fml+/mr9y7gfcoK7CwefmdL9J8VnzylY39eAiL0zSTILh0xGrPHk2tzsQKiddX375y78bD5v5Bq443FCAFvvv5h4XNy8Tx8+sXAXHp9WmaPRBcNGKN5hPC9ztfpL/7+QdgCwq0VWDz8d3XV9+OFRLn1y+KnqAwZpoCILhoxCjx/c4XaWy925ILlazA1z9tE8Q/+coWPUdhzCgFQHC5cDm7dyh5gt03cwqFAAVKD/9G6ZRG84ncaQpLRikAgsuF6+zaXKyQWP375wGLFoeggKrAe7fmY4XEcvmq3GkKS0YpAIILhav27BFtwJE/UQmFcrACm4/vxgqJqdUZodMUZkxTAAQXiljx+9uxQuL92x8Fr1gchQKaApQNrz17JHSmwoxRCoDgQuGyt9djhcSVeze09YmPUCBYAUqk4Dc+QgvVNDMguFDELjkrsULiL/+4FbxccRQKaAq8f/ujWCEBggstVNPMgOBCEaMfYW4+vqutT3yEAsEKXLl3AwQXWqUGmgHBhYIGggdzCkc7KQCCCy1RM82A4EJxA8E7EQr1wQqA4EJL1EwzILhQ3EDwYE7haCcFQHChJWqmGRBcKG4geCdCoT5YARBcaImaaQYEF4obCB7MKRztpAAILrREzTQDggvFbdQInl1amDwzmV1a6AQm1HepAAgutETNNAOCC8VtpAheWLsW+fVVWLvWJaq42eSZSeqNC8BBqw6CCy1RM82A4EJxGxqCl7ZKv8I5wszVCiC4JsjLfATBhZaomWZAcKG4jRTBD1r1l8miYA+uEh8EF1qiZpoBwYXiNmoEVxl01DIIrioGggstUTPNgOBCcRs1gk+emaR3+X6ZeJSeT3NNYe0aY3r63HRpq6Qyiw+pefDy/TKP+fHVFW5fWLs2fW6aEjvjE+Ozc7Pb+zt89KBVV+2WtkrT56bHJ8bVBgNeBsGFlqiZZkBwobiNGsE5V850Zi6fip3mo1xQb3hySyZ4+X45OhalxrNzs8zc2blZHoEL0bFo29HUxjzC4BdAcKElaqYZEFwobiA4c5lQeyp2WkV5dCy6+3SPeMotieAqvifPTDJz0/NpGio6Fk3Pp7NLC7wZj45FeSfOo1Hj8YlxdRAebWALILjQEjXTDAguFDcQXCUpb8zVJ1vWNm76Ca4+1nIqdpopv/t0jzfdnKihnAnV81ZdtavuzQcW2ZpjILjQEjXTDAguFDcQnEk6fW5ahRTvxDlnwi35UCQSUfF90Koz2X/Zy5e2Svxe27jJe23temDW1pslAsGFlqiZZkBwobiB4MxlJrVGWK7nlrzL9hM8u7SgHm1b7jQ+w9GIAggutETNNAOCC8UNBGcuM6k7EZZbalzmxAg9b05HxyfGs0sLbd+dxjcC3OwkCC60RM00A4ILxQ0EZy4fieCFtWt8xzISiXAiu3y/zHznm5ZEPc6Vg+BCJzfMhKcACC6k/VASvO3Ol3jKeOWblj0QPD2fJgrzQyaRSITvW/KAp2Kn6S7o7tO9j6+ujE+Mc5uDVp2baVcO3uQOeAF7cKElaqYZEFwobkNJcMa0WiBkc83LEJyZu/t0j+9q8nOH6lOGbI4K3AYEFzq/YSYkBUBwIeFB8E57YX+9v+agVVd5fSp2mjbO2/s73JghPj4xzg8mguBC5zfMhKQACC4k/NAQ/JftMD+617ZAaWg+xFnp8v0yVWppa3+9v4Z57R/2oFXf3t9Z27iZXVr4+OoKb/k5N9JpNG4w4AVkUYSWqJlmQHChuA0NwQecd8PnHggutETNNAOCC8UNBB8+tsrMCAQXWqJmmgHBheIGgsvwbvisgOBCS9RMMyC4UNxA8OFjq8yMQHChJWqmGRBcKG4guAzvhs8KCC60RM00A4ILxQ0EHz62yswIBBdaomaaAcGF4gaCy/Bu+KyA4EJL1EwzILhQ3EDw4WOrzIxAcKElaqYZEFwobiC4DO+GzwoILrREzTQDggvFDQQfPrbKzAgEF1qiZpoBwYXiRgQvPfybzLKHlaFRYGHzcqyQqB48EDpTYcYoBUBwoXDZ2+uxQuLKvRtDQxZMREaB927Ng+BCq9RAMyC4UNCI4Mt38zLLHlaGRoF3vkiD4EKr1EAzILhQ0Co/fhMrJN767MLQkAUTEVDgu59/iBUSsULCbT0XOlNhxigFQHC5cE2tzsQKic3HdwVWPkwMhwJ0G/OSsyJ3msKSUQqA4HLhWi5fjRUS792aHw64YBb9VuC7n394ffXtWCHh7N6RO01hySgFQHC5cDWaT2gbjvuZ/WbfcIxP9zDPr1+UO0dhyTQFQHDRiDm7dyitufr3z4eDMphFPxR42NynhwinVmdqzx6JnqMwZpQCILh0uD75yiaIv3/7o+9+/qEf6x9jGq3A5uO79PxJrJCo/PiN9AkKe0YpAIKHEC7eiccKifdvf/SXf9zC7U2jmfvyzj9s7m8+vrv698+Z3dh9h7AyDTQJgocTtNqzR/QrTdqP4y8UUBVYLl/F44PhrEzTrILgYUas0Xxib6+nS4vn1y+qC3jUyv/xxqn/eOPUf/k/Xxu1iavzTZcWLzkrxe9vg91hrknTbIPgpkVsGP09OXHi5MSJC6l3h3FymBMU6KMCIHgfxcXQXSoAgncpFJpBAU0BEFwTBB9DUAAED0F0mBwKBUDwoQij4ZMAwQ0PINwPTQEQPDTpYZgVAMFZChSgwJEUAMGPJBca90UBELwvsmLQEVAABB+BIA/8FEHwgQ8RHBxQBUDwAQ3MSLk19ATP5/OZTKZTTDOZTD6f73QU9VAgQAEQPEAcHBJSoAeCZzIZy/eqVqtCHr8wY9u24zjdWCRvO7W0LCuA7516oR4KeJ4HguM0CEeBer3Ohv0EV49yM7VATLT//dVoNNQ2/S53T14QvN+xGNnxQfCRDX3IE//wg8Xfnk1+ubHRbDaZ4PV6/dPr1998Y+rLjY1g/zox0XXdTCaTy+Wou+u62WyWP1ar1VwuRw1qtZpqwnEcOmTbNl8JtPxGrVbLZDKO41DBsqx4PM5tXNctFovZbDaTyWSzWXV7Tt7WajU24bouW9euBI7j0CD5fF5txu1RgAKsAAjOUqAgqsA/9/YI3K+98qq/cKgrnQjueV6xWLQsy7Ztz/Oy2axlWQTrfD5vWVYymcxkMslk0rKsSqVChqgZHSIuUxeNrdVqlUZuS3AaP/PiFY/H2QfP88jbeDyeTCZTqRSZ4OuEaoWOplKpTCYTf/HiZodqggYjqAAIPoJBH5QpX0i9S+zW/n56/fqhLhIT1Uy4mkomIudyOcuyaC9cq9Usy8pmszSy67qpVCoej3ue5ziOZVm8T6edMm1+VbZ6nscEp0G0o41Gg7fMrusmX7yoJXnLtys1izwOXXuKxSL1qtVq8XicfaZK/IUCqgIguKoGyqIKfLmxobGbPh6aBOddrZoGV7MWBFCVy7ZtW5ZFe1vaJtM2vFqtEu4ZvqoEzFaqDCa4mkWhHbRlWdSRCK6a4OuH53lshZqRe+peXnUJZSigKgCCq2qgLK0Ap1AY5X/43e+7cYJg16ml67qUx+CNOW1vs9msCn1KeQcMxWwlQ8EE540/maArBHX0m1Br2AqNkM/nNSc7TRP1UAAExzkQpgKfXr/O7KbCtzs73TikEtDfnrbAtO+m3AVlURjonufxnUwtd+G6Lm/n4y9evHemtAxl2NW9MznAIKaPlNGmMnnLw2rOcEc1g08d2Un6iL9QQFMABNcEwUdRBer1ukrwN9+Y6tI8MVFNONBTIp7n0R1FwiUxl+5YUjmZTNq2rbJYTbnYts3ZFR6KupBF9f4kMTr/4uV5Hn10HIczM1oWhbI6+Xyevh/w0+tMcMrO00fbtskiN+tSGTQbKQVA8JEK9yBO9sMPFhnihz5EyBOgXzn6CU5PifA9Q3qaMJvN0j66WCwSZ5PJZC6X482167q5XI7Ynclk+BkV13Xz+TzXF4tFvk7QLp5Hc123VqtRGiQej+devHjLT94Wi0Ueik1QTl91mC2mUine7/PEUYACqgIguKoGyiEo8O3ODhH8tVdebTabIXgAk1DAWAVAcGNDN0SOv/nG1MmJE3+6/MchmhOmAgUkFADBJVSGjWAF6LHCbh4iDB4HR6HAqCkAgo9axAdxvs1ms8uHCAfRe/gEBcJTAAQPT3tYhgJQAAq8nAIg+Mvph95QAApAgfAUAMHD0x6WoQAUgAIvpwAI/nL6oTcUgAJQIDwFQPDwtIdlKAAFoMDLKQCCv5x+6A0FoAAUCE+B/x9wHaTWwy7vpwAAAABJRU5ErkJggg==)"
      ],
      "metadata": {
        "id": "__gGUTZ5Crba"
      }
    },
    {
      "cell_type": "code",
      "source": [
        "#The option -o is used to specify the output file name. If we do not use this option, then an output file with the name a.out is generated.\n",
        "!gcc -Wall -o hello2 hello2.c"
      ],
      "metadata": {
        "id": "rzUS6PK7C9i1"
      },
      "execution_count": null,
      "outputs": []
    },
    {
      "cell_type": "markdown",
      "source": [
        "Executing the program, use the ! (bang) operator before your C commands."
      ],
      "metadata": {
        "id": "wxyf1jZ4DA_9"
      }
    },
    {
      "cell_type": "code",
      "source": [
        "!./hello2"
      ],
      "metadata": {
        "colab": {
          "base_uri": "https://localhost:8080/"
        },
        "id": "xIx5Q122DN6t",
        "outputId": "40a446c9-4d80-4d90-f6fb-37fa80f786f5"
      },
      "execution_count": null,
      "outputs": [
        {
          "output_type": "stream",
          "name": "stdout",
          "text": [
            "Sum of the first 10 natural numbers: 55\n"
          ]
        }
      ]
    },
    {
      "cell_type": "markdown",
      "source": [
        "A compiler converts a C program into an executable. There are four phases for a C program to become an executable:\n",
        "\n",
        "\n",
        "\n",
        "*   Pre-processing\n",
        "*   Compilation\n",
        "*   Assembly\n",
        "*   Linking\n"
      ],
      "metadata": {
        "id": "QawjD1HKDdEK"
      }
    },
    {
      "cell_type": "markdown",
      "source": [
        "By executing the below command, we get all intermediate files in the current directory along with the executable."
      ],
      "metadata": {
        "id": "18Tk-ZNCDn94"
      }
    },
    {
      "cell_type": "code",
      "source": [
        "!gcc -Wall -save-temps hello2.c -o hello2"
      ],
      "metadata": {
        "id": "frb_ZyHXDeML"
      },
      "execution_count": null,
      "outputs": []
    },
    {
      "cell_type": "markdown",
      "source": [
        "**Pre-processing**: This is the first phase through which source code is passed. This phase includes:\n",
        "\n",
        "* Removal of Comments\n",
        "* Expansion of Macros\n",
        "* Expansion of the included files.\n",
        "* Conditional compilation\n",
        "\n",
        "The preprocessed output is stored in the filename.i."
      ],
      "metadata": {
        "id": "OtXo43XtD7Ge"
      }
    },
    {
      "cell_type": "code",
      "source": [
        "!cat hello2.i"
      ],
      "metadata": {
        "colab": {
          "base_uri": "https://localhost:8080/"
        },
        "id": "bVzZ6Y0zEHae",
        "outputId": "952d40a2-3650-4b7d-8d9c-626da91d6a28"
      },
      "execution_count": null,
      "outputs": [
        {
          "output_type": "stream",
          "name": "stdout",
          "text": [
            "# 0 \"hello2.c\"\n",
            "# 0 \"<built-in>\"\n",
            "# 0 \"<command-line>\"\n",
            "# 1 \"/usr/include/stdc-predef.h\" 1 3 4\n",
            "# 0 \"<command-line>\" 2\n",
            "# 1 \"hello2.c\"\n",
            "# 1 \"/usr/include/stdio.h\" 1 3 4\n",
            "# 27 \"/usr/include/stdio.h\" 3 4\n",
            "# 1 \"/usr/include/x86_64-linux-gnu/bits/libc-header-start.h\" 1 3 4\n",
            "# 33 \"/usr/include/x86_64-linux-gnu/bits/libc-header-start.h\" 3 4\n",
            "# 1 \"/usr/include/features.h\" 1 3 4\n",
            "# 392 \"/usr/include/features.h\" 3 4\n",
            "# 1 \"/usr/include/features-time64.h\" 1 3 4\n",
            "# 20 \"/usr/include/features-time64.h\" 3 4\n",
            "# 1 \"/usr/include/x86_64-linux-gnu/bits/wordsize.h\" 1 3 4\n",
            "# 21 \"/usr/include/features-time64.h\" 2 3 4\n",
            "# 1 \"/usr/include/x86_64-linux-gnu/bits/timesize.h\" 1 3 4\n",
            "# 19 \"/usr/include/x86_64-linux-gnu/bits/timesize.h\" 3 4\n",
            "# 1 \"/usr/include/x86_64-linux-gnu/bits/wordsize.h\" 1 3 4\n",
            "# 20 \"/usr/include/x86_64-linux-gnu/bits/timesize.h\" 2 3 4\n",
            "# 22 \"/usr/include/features-time64.h\" 2 3 4\n",
            "# 393 \"/usr/include/features.h\" 2 3 4\n",
            "# 486 \"/usr/include/features.h\" 3 4\n",
            "# 1 \"/usr/include/x86_64-linux-gnu/sys/cdefs.h\" 1 3 4\n",
            "# 559 \"/usr/include/x86_64-linux-gnu/sys/cdefs.h\" 3 4\n",
            "# 1 \"/usr/include/x86_64-linux-gnu/bits/wordsize.h\" 1 3 4\n",
            "# 560 \"/usr/include/x86_64-linux-gnu/sys/cdefs.h\" 2 3 4\n",
            "# 1 \"/usr/include/x86_64-linux-gnu/bits/long-double.h\" 1 3 4\n",
            "# 561 \"/usr/include/x86_64-linux-gnu/sys/cdefs.h\" 2 3 4\n",
            "# 487 \"/usr/include/features.h\" 2 3 4\n",
            "# 510 \"/usr/include/features.h\" 3 4\n",
            "# 1 \"/usr/include/x86_64-linux-gnu/gnu/stubs.h\" 1 3 4\n",
            "# 10 \"/usr/include/x86_64-linux-gnu/gnu/stubs.h\" 3 4\n",
            "# 1 \"/usr/include/x86_64-linux-gnu/gnu/stubs-64.h\" 1 3 4\n",
            "# 11 \"/usr/include/x86_64-linux-gnu/gnu/stubs.h\" 2 3 4\n",
            "# 511 \"/usr/include/features.h\" 2 3 4\n",
            "# 34 \"/usr/include/x86_64-linux-gnu/bits/libc-header-start.h\" 2 3 4\n",
            "# 28 \"/usr/include/stdio.h\" 2 3 4\n",
            "\n",
            "\n",
            "\n",
            "\n",
            "\n",
            "# 1 \"/usr/lib/gcc/x86_64-linux-gnu/11/include/stddef.h\" 1 3 4\n",
            "# 209 \"/usr/lib/gcc/x86_64-linux-gnu/11/include/stddef.h\" 3 4\n",
            "\n",
            "# 209 \"/usr/lib/gcc/x86_64-linux-gnu/11/include/stddef.h\" 3 4\n",
            "typedef long unsigned int size_t;\n",
            "# 34 \"/usr/include/stdio.h\" 2 3 4\n",
            "\n",
            "\n",
            "# 1 \"/usr/lib/gcc/x86_64-linux-gnu/11/include/stdarg.h\" 1 3 4\n",
            "# 40 \"/usr/lib/gcc/x86_64-linux-gnu/11/include/stdarg.h\" 3 4\n",
            "typedef __builtin_va_list __gnuc_va_list;\n",
            "# 37 \"/usr/include/stdio.h\" 2 3 4\n",
            "\n",
            "# 1 \"/usr/include/x86_64-linux-gnu/bits/types.h\" 1 3 4\n",
            "# 27 \"/usr/include/x86_64-linux-gnu/bits/types.h\" 3 4\n",
            "# 1 \"/usr/include/x86_64-linux-gnu/bits/wordsize.h\" 1 3 4\n",
            "# 28 \"/usr/include/x86_64-linux-gnu/bits/types.h\" 2 3 4\n",
            "# 1 \"/usr/include/x86_64-linux-gnu/bits/timesize.h\" 1 3 4\n",
            "# 19 \"/usr/include/x86_64-linux-gnu/bits/timesize.h\" 3 4\n",
            "# 1 \"/usr/include/x86_64-linux-gnu/bits/wordsize.h\" 1 3 4\n",
            "# 20 \"/usr/include/x86_64-linux-gnu/bits/timesize.h\" 2 3 4\n",
            "# 29 \"/usr/include/x86_64-linux-gnu/bits/types.h\" 2 3 4\n",
            "\n",
            "\n",
            "typedef unsigned char __u_char;\n",
            "typedef unsigned short int __u_short;\n",
            "typedef unsigned int __u_int;\n",
            "typedef unsigned long int __u_long;\n",
            "\n",
            "\n",
            "typedef signed char __int8_t;\n",
            "typedef unsigned char __uint8_t;\n",
            "typedef signed short int __int16_t;\n",
            "typedef unsigned short int __uint16_t;\n",
            "typedef signed int __int32_t;\n",
            "typedef unsigned int __uint32_t;\n",
            "\n",
            "typedef signed long int __int64_t;\n",
            "typedef unsigned long int __uint64_t;\n",
            "\n",
            "\n",
            "\n",
            "\n",
            "\n",
            "\n",
            "typedef __int8_t __int_least8_t;\n",
            "typedef __uint8_t __uint_least8_t;\n",
            "typedef __int16_t __int_least16_t;\n",
            "typedef __uint16_t __uint_least16_t;\n",
            "typedef __int32_t __int_least32_t;\n",
            "typedef __uint32_t __uint_least32_t;\n",
            "typedef __int64_t __int_least64_t;\n",
            "typedef __uint64_t __uint_least64_t;\n",
            "\n",
            "\n",
            "\n",
            "typedef long int __quad_t;\n",
            "typedef unsigned long int __u_quad_t;\n",
            "\n",
            "\n",
            "\n",
            "\n",
            "\n",
            "\n",
            "\n",
            "typedef long int __intmax_t;\n",
            "typedef unsigned long int __uintmax_t;\n",
            "# 141 \"/usr/include/x86_64-linux-gnu/bits/types.h\" 3 4\n",
            "# 1 \"/usr/include/x86_64-linux-gnu/bits/typesizes.h\" 1 3 4\n",
            "# 142 \"/usr/include/x86_64-linux-gnu/bits/types.h\" 2 3 4\n",
            "# 1 \"/usr/include/x86_64-linux-gnu/bits/time64.h\" 1 3 4\n",
            "# 143 \"/usr/include/x86_64-linux-gnu/bits/types.h\" 2 3 4\n",
            "\n",
            "\n",
            "typedef unsigned long int __dev_t;\n",
            "typedef unsigned int __uid_t;\n",
            "typedef unsigned int __gid_t;\n",
            "typedef unsigned long int __ino_t;\n",
            "typedef unsigned long int __ino64_t;\n",
            "typedef unsigned int __mode_t;\n",
            "typedef unsigned long int __nlink_t;\n",
            "typedef long int __off_t;\n",
            "typedef long int __off64_t;\n",
            "typedef int __pid_t;\n",
            "typedef struct { int __val[2]; } __fsid_t;\n",
            "typedef long int __clock_t;\n",
            "typedef unsigned long int __rlim_t;\n",
            "typedef unsigned long int __rlim64_t;\n",
            "typedef unsigned int __id_t;\n",
            "typedef long int __time_t;\n",
            "typedef unsigned int __useconds_t;\n",
            "typedef long int __suseconds_t;\n",
            "typedef long int __suseconds64_t;\n",
            "\n",
            "typedef int __daddr_t;\n",
            "typedef int __key_t;\n",
            "\n",
            "\n",
            "typedef int __clockid_t;\n",
            "\n",
            "\n",
            "typedef void * __timer_t;\n",
            "\n",
            "\n",
            "typedef long int __blksize_t;\n",
            "\n",
            "\n",
            "\n",
            "\n",
            "typedef long int __blkcnt_t;\n",
            "typedef long int __blkcnt64_t;\n",
            "\n",
            "\n",
            "typedef unsigned long int __fsblkcnt_t;\n",
            "typedef unsigned long int __fsblkcnt64_t;\n",
            "\n",
            "\n",
            "typedef unsigned long int __fsfilcnt_t;\n",
            "typedef unsigned long int __fsfilcnt64_t;\n",
            "\n",
            "\n",
            "typedef long int __fsword_t;\n",
            "\n",
            "typedef long int __ssize_t;\n",
            "\n",
            "\n",
            "typedef long int __syscall_slong_t;\n",
            "\n",
            "typedef unsigned long int __syscall_ulong_t;\n",
            "\n",
            "\n",
            "\n",
            "typedef __off64_t __loff_t;\n",
            "typedef char *__caddr_t;\n",
            "\n",
            "\n",
            "typedef long int __intptr_t;\n",
            "\n",
            "\n",
            "typedef unsigned int __socklen_t;\n",
            "\n",
            "\n",
            "\n",
            "\n",
            "typedef int __sig_atomic_t;\n",
            "# 39 \"/usr/include/stdio.h\" 2 3 4\n",
            "# 1 \"/usr/include/x86_64-linux-gnu/bits/types/__fpos_t.h\" 1 3 4\n",
            "\n",
            "\n",
            "\n",
            "\n",
            "# 1 \"/usr/include/x86_64-linux-gnu/bits/types/__mbstate_t.h\" 1 3 4\n",
            "# 13 \"/usr/include/x86_64-linux-gnu/bits/types/__mbstate_t.h\" 3 4\n",
            "typedef struct\n",
            "{\n",
            "  int __count;\n",
            "  union\n",
            "  {\n",
            "    unsigned int __wch;\n",
            "    char __wchb[4];\n",
            "  } __value;\n",
            "} __mbstate_t;\n",
            "# 6 \"/usr/include/x86_64-linux-gnu/bits/types/__fpos_t.h\" 2 3 4\n",
            "\n",
            "\n",
            "\n",
            "\n",
            "typedef struct _G_fpos_t\n",
            "{\n",
            "  __off_t __pos;\n",
            "  __mbstate_t __state;\n",
            "} __fpos_t;\n",
            "# 40 \"/usr/include/stdio.h\" 2 3 4\n",
            "# 1 \"/usr/include/x86_64-linux-gnu/bits/types/__fpos64_t.h\" 1 3 4\n",
            "# 10 \"/usr/include/x86_64-linux-gnu/bits/types/__fpos64_t.h\" 3 4\n",
            "typedef struct _G_fpos64_t\n",
            "{\n",
            "  __off64_t __pos;\n",
            "  __mbstate_t __state;\n",
            "} __fpos64_t;\n",
            "# 41 \"/usr/include/stdio.h\" 2 3 4\n",
            "# 1 \"/usr/include/x86_64-linux-gnu/bits/types/__FILE.h\" 1 3 4\n",
            "\n",
            "\n",
            "\n",
            "struct _IO_FILE;\n",
            "typedef struct _IO_FILE __FILE;\n",
            "# 42 \"/usr/include/stdio.h\" 2 3 4\n",
            "# 1 \"/usr/include/x86_64-linux-gnu/bits/types/FILE.h\" 1 3 4\n",
            "\n",
            "\n",
            "\n",
            "struct _IO_FILE;\n",
            "\n",
            "\n",
            "typedef struct _IO_FILE FILE;\n",
            "# 43 \"/usr/include/stdio.h\" 2 3 4\n",
            "# 1 \"/usr/include/x86_64-linux-gnu/bits/types/struct_FILE.h\" 1 3 4\n",
            "# 35 \"/usr/include/x86_64-linux-gnu/bits/types/struct_FILE.h\" 3 4\n",
            "struct _IO_FILE;\n",
            "struct _IO_marker;\n",
            "struct _IO_codecvt;\n",
            "struct _IO_wide_data;\n",
            "\n",
            "\n",
            "\n",
            "\n",
            "typedef void _IO_lock_t;\n",
            "\n",
            "\n",
            "\n",
            "\n",
            "\n",
            "struct _IO_FILE\n",
            "{\n",
            "  int _flags;\n",
            "\n",
            "\n",
            "  char *_IO_read_ptr;\n",
            "  char *_IO_read_end;\n",
            "  char *_IO_read_base;\n",
            "  char *_IO_write_base;\n",
            "  char *_IO_write_ptr;\n",
            "  char *_IO_write_end;\n",
            "  char *_IO_buf_base;\n",
            "  char *_IO_buf_end;\n",
            "\n",
            "\n",
            "  char *_IO_save_base;\n",
            "  char *_IO_backup_base;\n",
            "  char *_IO_save_end;\n",
            "\n",
            "  struct _IO_marker *_markers;\n",
            "\n",
            "  struct _IO_FILE *_chain;\n",
            "\n",
            "  int _fileno;\n",
            "  int _flags2;\n",
            "  __off_t _old_offset;\n",
            "\n",
            "\n",
            "  unsigned short _cur_column;\n",
            "  signed char _vtable_offset;\n",
            "  char _shortbuf[1];\n",
            "\n",
            "  _IO_lock_t *_lock;\n",
            "\n",
            "\n",
            "\n",
            "\n",
            "\n",
            "\n",
            "\n",
            "  __off64_t _offset;\n",
            "\n",
            "  struct _IO_codecvt *_codecvt;\n",
            "  struct _IO_wide_data *_wide_data;\n",
            "  struct _IO_FILE *_freeres_list;\n",
            "  void *_freeres_buf;\n",
            "  size_t __pad5;\n",
            "  int _mode;\n",
            "\n",
            "  char _unused2[15 * sizeof (int) - 4 * sizeof (void *) - sizeof (size_t)];\n",
            "};\n",
            "# 44 \"/usr/include/stdio.h\" 2 3 4\n",
            "# 52 \"/usr/include/stdio.h\" 3 4\n",
            "typedef __gnuc_va_list va_list;\n",
            "# 63 \"/usr/include/stdio.h\" 3 4\n",
            "typedef __off_t off_t;\n",
            "# 77 \"/usr/include/stdio.h\" 3 4\n",
            "typedef __ssize_t ssize_t;\n",
            "\n",
            "\n",
            "\n",
            "\n",
            "\n",
            "\n",
            "typedef __fpos_t fpos_t;\n",
            "# 133 \"/usr/include/stdio.h\" 3 4\n",
            "# 1 \"/usr/include/x86_64-linux-gnu/bits/stdio_lim.h\" 1 3 4\n",
            "# 134 \"/usr/include/stdio.h\" 2 3 4\n",
            "# 143 \"/usr/include/stdio.h\" 3 4\n",
            "extern FILE *stdin;\n",
            "extern FILE *stdout;\n",
            "extern FILE *stderr;\n",
            "\n",
            "\n",
            "\n",
            "\n",
            "\n",
            "\n",
            "extern int remove (const char *__filename) __attribute__ ((__nothrow__ , __leaf__));\n",
            "\n",
            "extern int rename (const char *__old, const char *__new) __attribute__ ((__nothrow__ , __leaf__));\n",
            "\n",
            "\n",
            "\n",
            "extern int renameat (int __oldfd, const char *__old, int __newfd,\n",
            "       const char *__new) __attribute__ ((__nothrow__ , __leaf__));\n",
            "# 178 \"/usr/include/stdio.h\" 3 4\n",
            "extern int fclose (FILE *__stream);\n",
            "# 188 \"/usr/include/stdio.h\" 3 4\n",
            "extern FILE *tmpfile (void)\n",
            "  __attribute__ ((__malloc__)) __attribute__ ((__malloc__ (fclose, 1))) ;\n",
            "# 205 \"/usr/include/stdio.h\" 3 4\n",
            "extern char *tmpnam (char[20]) __attribute__ ((__nothrow__ , __leaf__)) ;\n",
            "\n",
            "\n",
            "\n",
            "\n",
            "extern char *tmpnam_r (char __s[20]) __attribute__ ((__nothrow__ , __leaf__)) ;\n",
            "# 222 \"/usr/include/stdio.h\" 3 4\n",
            "extern char *tempnam (const char *__dir, const char *__pfx)\n",
            "   __attribute__ ((__nothrow__ , __leaf__)) __attribute__ ((__malloc__)) __attribute__ ((__malloc__ (__builtin_free, 1)));\n",
            "\n",
            "\n",
            "\n",
            "\n",
            "\n",
            "\n",
            "extern int fflush (FILE *__stream);\n",
            "# 239 \"/usr/include/stdio.h\" 3 4\n",
            "extern int fflush_unlocked (FILE *__stream);\n",
            "# 258 \"/usr/include/stdio.h\" 3 4\n",
            "extern FILE *fopen (const char *__restrict __filename,\n",
            "      const char *__restrict __modes)\n",
            "  __attribute__ ((__malloc__)) __attribute__ ((__malloc__ (fclose, 1))) ;\n",
            "\n",
            "\n",
            "\n",
            "\n",
            "extern FILE *freopen (const char *__restrict __filename,\n",
            "        const char *__restrict __modes,\n",
            "        FILE *__restrict __stream) ;\n",
            "# 293 \"/usr/include/stdio.h\" 3 4\n",
            "extern FILE *fdopen (int __fd, const char *__modes) __attribute__ ((__nothrow__ , __leaf__))\n",
            "  __attribute__ ((__malloc__)) __attribute__ ((__malloc__ (fclose, 1))) ;\n",
            "# 308 \"/usr/include/stdio.h\" 3 4\n",
            "extern FILE *fmemopen (void *__s, size_t __len, const char *__modes)\n",
            "  __attribute__ ((__nothrow__ , __leaf__)) __attribute__ ((__malloc__)) __attribute__ ((__malloc__ (fclose, 1))) ;\n",
            "\n",
            "\n",
            "\n",
            "\n",
            "extern FILE *open_memstream (char **__bufloc, size_t *__sizeloc) __attribute__ ((__nothrow__ , __leaf__))\n",
            "  __attribute__ ((__malloc__)) __attribute__ ((__malloc__ (fclose, 1))) ;\n",
            "# 328 \"/usr/include/stdio.h\" 3 4\n",
            "extern void setbuf (FILE *__restrict __stream, char *__restrict __buf) __attribute__ ((__nothrow__ , __leaf__));\n",
            "\n",
            "\n",
            "\n",
            "extern int setvbuf (FILE *__restrict __stream, char *__restrict __buf,\n",
            "      int __modes, size_t __n) __attribute__ ((__nothrow__ , __leaf__));\n",
            "\n",
            "\n",
            "\n",
            "\n",
            "extern void setbuffer (FILE *__restrict __stream, char *__restrict __buf,\n",
            "         size_t __size) __attribute__ ((__nothrow__ , __leaf__));\n",
            "\n",
            "\n",
            "extern void setlinebuf (FILE *__stream) __attribute__ ((__nothrow__ , __leaf__));\n",
            "\n",
            "\n",
            "\n",
            "\n",
            "\n",
            "\n",
            "\n",
            "extern int fprintf (FILE *__restrict __stream,\n",
            "      const char *__restrict __format, ...);\n",
            "\n",
            "\n",
            "\n",
            "\n",
            "extern int printf (const char *__restrict __format, ...);\n",
            "\n",
            "extern int sprintf (char *__restrict __s,\n",
            "      const char *__restrict __format, ...) __attribute__ ((__nothrow__));\n",
            "\n",
            "\n",
            "\n",
            "\n",
            "\n",
            "extern int vfprintf (FILE *__restrict __s, const char *__restrict __format,\n",
            "       __gnuc_va_list __arg);\n",
            "\n",
            "\n",
            "\n",
            "\n",
            "extern int vprintf (const char *__restrict __format, __gnuc_va_list __arg);\n",
            "\n",
            "extern int vsprintf (char *__restrict __s, const char *__restrict __format,\n",
            "       __gnuc_va_list __arg) __attribute__ ((__nothrow__));\n",
            "\n",
            "\n",
            "\n",
            "extern int snprintf (char *__restrict __s, size_t __maxlen,\n",
            "       const char *__restrict __format, ...)\n",
            "     __attribute__ ((__nothrow__)) __attribute__ ((__format__ (__printf__, 3, 4)));\n",
            "\n",
            "extern int vsnprintf (char *__restrict __s, size_t __maxlen,\n",
            "        const char *__restrict __format, __gnuc_va_list __arg)\n",
            "     __attribute__ ((__nothrow__)) __attribute__ ((__format__ (__printf__, 3, 0)));\n",
            "# 403 \"/usr/include/stdio.h\" 3 4\n",
            "extern int vdprintf (int __fd, const char *__restrict __fmt,\n",
            "       __gnuc_va_list __arg)\n",
            "     __attribute__ ((__format__ (__printf__, 2, 0)));\n",
            "extern int dprintf (int __fd, const char *__restrict __fmt, ...)\n",
            "     __attribute__ ((__format__ (__printf__, 2, 3)));\n",
            "\n",
            "\n",
            "\n",
            "\n",
            "\n",
            "\n",
            "\n",
            "extern int fscanf (FILE *__restrict __stream,\n",
            "     const char *__restrict __format, ...) ;\n",
            "\n",
            "\n",
            "\n",
            "\n",
            "extern int scanf (const char *__restrict __format, ...) ;\n",
            "\n",
            "extern int sscanf (const char *__restrict __s,\n",
            "     const char *__restrict __format, ...) __attribute__ ((__nothrow__ , __leaf__));\n",
            "\n",
            "\n",
            "\n",
            "\n",
            "\n",
            "# 1 \"/usr/include/x86_64-linux-gnu/bits/floatn.h\" 1 3 4\n",
            "# 119 \"/usr/include/x86_64-linux-gnu/bits/floatn.h\" 3 4\n",
            "# 1 \"/usr/include/x86_64-linux-gnu/bits/floatn-common.h\" 1 3 4\n",
            "# 24 \"/usr/include/x86_64-linux-gnu/bits/floatn-common.h\" 3 4\n",
            "# 1 \"/usr/include/x86_64-linux-gnu/bits/long-double.h\" 1 3 4\n",
            "# 25 \"/usr/include/x86_64-linux-gnu/bits/floatn-common.h\" 2 3 4\n",
            "# 120 \"/usr/include/x86_64-linux-gnu/bits/floatn.h\" 2 3 4\n",
            "# 431 \"/usr/include/stdio.h\" 2 3 4\n",
            "\n",
            "\n",
            "\n",
            "extern int fscanf (FILE *__restrict __stream, const char *__restrict __format, ...) __asm__ (\"\" \"__isoc99_fscanf\")\n",
            "\n",
            "                               ;\n",
            "extern int scanf (const char *__restrict __format, ...) __asm__ (\"\" \"__isoc99_scanf\")\n",
            "                              ;\n",
            "extern int sscanf (const char *__restrict __s, const char *__restrict __format, ...) __asm__ (\"\" \"__isoc99_sscanf\") __attribute__ ((__nothrow__ , __leaf__))\n",
            "\n",
            "                      ;\n",
            "# 459 \"/usr/include/stdio.h\" 3 4\n",
            "extern int vfscanf (FILE *__restrict __s, const char *__restrict __format,\n",
            "      __gnuc_va_list __arg)\n",
            "     __attribute__ ((__format__ (__scanf__, 2, 0))) ;\n",
            "\n",
            "\n",
            "\n",
            "\n",
            "\n",
            "extern int vscanf (const char *__restrict __format, __gnuc_va_list __arg)\n",
            "     __attribute__ ((__format__ (__scanf__, 1, 0))) ;\n",
            "\n",
            "\n",
            "extern int vsscanf (const char *__restrict __s,\n",
            "      const char *__restrict __format, __gnuc_va_list __arg)\n",
            "     __attribute__ ((__nothrow__ , __leaf__)) __attribute__ ((__format__ (__scanf__, 2, 0)));\n",
            "\n",
            "\n",
            "\n",
            "\n",
            "\n",
            "extern int vfscanf (FILE *__restrict __s, const char *__restrict __format, __gnuc_va_list __arg) __asm__ (\"\" \"__isoc99_vfscanf\")\n",
            "\n",
            "\n",
            "\n",
            "     __attribute__ ((__format__ (__scanf__, 2, 0))) ;\n",
            "extern int vscanf (const char *__restrict __format, __gnuc_va_list __arg) __asm__ (\"\" \"__isoc99_vscanf\")\n",
            "\n",
            "     __attribute__ ((__format__ (__scanf__, 1, 0))) ;\n",
            "extern int vsscanf (const char *__restrict __s, const char *__restrict __format, __gnuc_va_list __arg) __asm__ (\"\" \"__isoc99_vsscanf\") __attribute__ ((__nothrow__ , __leaf__))\n",
            "\n",
            "\n",
            "\n",
            "     __attribute__ ((__format__ (__scanf__, 2, 0)));\n",
            "# 513 \"/usr/include/stdio.h\" 3 4\n",
            "extern int fgetc (FILE *__stream);\n",
            "extern int getc (FILE *__stream);\n",
            "\n",
            "\n",
            "\n",
            "\n",
            "\n",
            "extern int getchar (void);\n",
            "\n",
            "\n",
            "\n",
            "\n",
            "\n",
            "\n",
            "extern int getc_unlocked (FILE *__stream);\n",
            "extern int getchar_unlocked (void);\n",
            "# 538 \"/usr/include/stdio.h\" 3 4\n",
            "extern int fgetc_unlocked (FILE *__stream);\n",
            "# 549 \"/usr/include/stdio.h\" 3 4\n",
            "extern int fputc (int __c, FILE *__stream);\n",
            "extern int putc (int __c, FILE *__stream);\n",
            "\n",
            "\n",
            "\n",
            "\n",
            "\n",
            "extern int putchar (int __c);\n",
            "# 565 \"/usr/include/stdio.h\" 3 4\n",
            "extern int fputc_unlocked (int __c, FILE *__stream);\n",
            "\n",
            "\n",
            "\n",
            "\n",
            "\n",
            "\n",
            "\n",
            "extern int putc_unlocked (int __c, FILE *__stream);\n",
            "extern int putchar_unlocked (int __c);\n",
            "\n",
            "\n",
            "\n",
            "\n",
            "\n",
            "\n",
            "extern int getw (FILE *__stream);\n",
            "\n",
            "\n",
            "extern int putw (int __w, FILE *__stream);\n",
            "\n",
            "\n",
            "\n",
            "\n",
            "\n",
            "\n",
            "\n",
            "extern char *fgets (char *__restrict __s, int __n, FILE *__restrict __stream)\n",
            "     __attribute__ ((__access__ (__write_only__, 1, 2)));\n",
            "# 632 \"/usr/include/stdio.h\" 3 4\n",
            "extern __ssize_t __getdelim (char **__restrict __lineptr,\n",
            "                             size_t *__restrict __n, int __delimiter,\n",
            "                             FILE *__restrict __stream) ;\n",
            "extern __ssize_t getdelim (char **__restrict __lineptr,\n",
            "                           size_t *__restrict __n, int __delimiter,\n",
            "                           FILE *__restrict __stream) ;\n",
            "\n",
            "\n",
            "\n",
            "\n",
            "\n",
            "\n",
            "\n",
            "extern __ssize_t getline (char **__restrict __lineptr,\n",
            "                          size_t *__restrict __n,\n",
            "                          FILE *__restrict __stream) ;\n",
            "\n",
            "\n",
            "\n",
            "\n",
            "\n",
            "\n",
            "\n",
            "extern int fputs (const char *__restrict __s, FILE *__restrict __stream);\n",
            "\n",
            "\n",
            "\n",
            "\n",
            "\n",
            "extern int puts (const char *__s);\n",
            "\n",
            "\n",
            "\n",
            "\n",
            "\n",
            "\n",
            "extern int ungetc (int __c, FILE *__stream);\n",
            "\n",
            "\n",
            "\n",
            "\n",
            "\n",
            "\n",
            "extern size_t fread (void *__restrict __ptr, size_t __size,\n",
            "       size_t __n, FILE *__restrict __stream) ;\n",
            "\n",
            "\n",
            "\n",
            "\n",
            "extern size_t fwrite (const void *__restrict __ptr, size_t __size,\n",
            "        size_t __n, FILE *__restrict __s);\n",
            "# 702 \"/usr/include/stdio.h\" 3 4\n",
            "extern size_t fread_unlocked (void *__restrict __ptr, size_t __size,\n",
            "         size_t __n, FILE *__restrict __stream) ;\n",
            "extern size_t fwrite_unlocked (const void *__restrict __ptr, size_t __size,\n",
            "          size_t __n, FILE *__restrict __stream);\n",
            "\n",
            "\n",
            "\n",
            "\n",
            "\n",
            "\n",
            "\n",
            "extern int fseek (FILE *__stream, long int __off, int __whence);\n",
            "\n",
            "\n",
            "\n",
            "\n",
            "extern long int ftell (FILE *__stream) ;\n",
            "\n",
            "\n",
            "\n",
            "\n",
            "extern void rewind (FILE *__stream);\n",
            "# 736 \"/usr/include/stdio.h\" 3 4\n",
            "extern int fseeko (FILE *__stream, __off_t __off, int __whence);\n",
            "\n",
            "\n",
            "\n",
            "\n",
            "extern __off_t ftello (FILE *__stream) ;\n",
            "# 760 \"/usr/include/stdio.h\" 3 4\n",
            "extern int fgetpos (FILE *__restrict __stream, fpos_t *__restrict __pos);\n",
            "\n",
            "\n",
            "\n",
            "\n",
            "extern int fsetpos (FILE *__stream, const fpos_t *__pos);\n",
            "# 786 \"/usr/include/stdio.h\" 3 4\n",
            "extern void clearerr (FILE *__stream) __attribute__ ((__nothrow__ , __leaf__));\n",
            "\n",
            "extern int feof (FILE *__stream) __attribute__ ((__nothrow__ , __leaf__)) ;\n",
            "\n",
            "extern int ferror (FILE *__stream) __attribute__ ((__nothrow__ , __leaf__)) ;\n",
            "\n",
            "\n",
            "\n",
            "extern void clearerr_unlocked (FILE *__stream) __attribute__ ((__nothrow__ , __leaf__));\n",
            "extern int feof_unlocked (FILE *__stream) __attribute__ ((__nothrow__ , __leaf__)) ;\n",
            "extern int ferror_unlocked (FILE *__stream) __attribute__ ((__nothrow__ , __leaf__)) ;\n",
            "\n",
            "\n",
            "\n",
            "\n",
            "\n",
            "\n",
            "\n",
            "extern void perror (const char *__s);\n",
            "\n",
            "\n",
            "\n",
            "\n",
            "extern int fileno (FILE *__stream) __attribute__ ((__nothrow__ , __leaf__)) ;\n",
            "\n",
            "\n",
            "\n",
            "\n",
            "extern int fileno_unlocked (FILE *__stream) __attribute__ ((__nothrow__ , __leaf__)) ;\n",
            "# 823 \"/usr/include/stdio.h\" 3 4\n",
            "extern int pclose (FILE *__stream);\n",
            "\n",
            "\n",
            "\n",
            "\n",
            "\n",
            "extern FILE *popen (const char *__command, const char *__modes)\n",
            "  __attribute__ ((__malloc__)) __attribute__ ((__malloc__ (pclose, 1))) ;\n",
            "\n",
            "\n",
            "\n",
            "\n",
            "\n",
            "\n",
            "extern char *ctermid (char *__s) __attribute__ ((__nothrow__ , __leaf__))\n",
            "  __attribute__ ((__access__ (__write_only__, 1)));\n",
            "# 867 \"/usr/include/stdio.h\" 3 4\n",
            "extern void flockfile (FILE *__stream) __attribute__ ((__nothrow__ , __leaf__));\n",
            "\n",
            "\n",
            "\n",
            "extern int ftrylockfile (FILE *__stream) __attribute__ ((__nothrow__ , __leaf__)) ;\n",
            "\n",
            "\n",
            "extern void funlockfile (FILE *__stream) __attribute__ ((__nothrow__ , __leaf__));\n",
            "# 885 \"/usr/include/stdio.h\" 3 4\n",
            "extern int __uflow (FILE *);\n",
            "extern int __overflow (FILE *, int);\n",
            "# 902 \"/usr/include/stdio.h\" 3 4\n",
            "\n",
            "# 2 \"hello2.c\" 2\n",
            "\n",
            "\n",
            "# 3 \"hello2.c\"\n",
            "int main() {\n",
            "    int n = 10;\n",
            "    int sum = 0;\n",
            "\n",
            "    for (int i = 1; i <= n; ++i) {\n",
            "        sum += i;\n",
            "    }\n",
            "\n",
            "    printf(\"Sum of the first %d natural numbers: %d\\n\", n, sum);\n",
            "    return 0;\n",
            "}\n"
          ]
        }
      ]
    },
    {
      "cell_type": "markdown",
      "source": [
        "In the above output, the source file is filled with lots and lots of info, but in the end, our code is preserved. Comments are stripped off.\n",
        "\"#include<stdio.h>\" is missing instead we see lots of code. So header files have been expanded and included in our source file."
      ],
      "metadata": {
        "id": "CzAUBC08EP5i"
      }
    },
    {
      "cell_type": "markdown",
      "source": [
        "In order to stop the compilation right after this step, we can use the option “-E” with the gcc command on the source file, and press enter."
      ],
      "metadata": {
        "id": "HK47ii5_Gm2M"
      }
    },
    {
      "cell_type": "code",
      "source": [
        "!gcc -E hello.c"
      ],
      "metadata": {
        "colab": {
          "base_uri": "https://localhost:8080/"
        },
        "id": "Piq8OQhxGoMC",
        "outputId": "993fc267-b991-4560-a784-a65df41346d1"
      },
      "execution_count": null,
      "outputs": [
        {
          "output_type": "stream",
          "name": "stdout",
          "text": [
            "# 0 \"hello.c\"\n",
            "# 0 \"<built-in>\"\n",
            "# 0 \"<command-line>\"\n",
            "# 1 \"/usr/include/stdc-predef.h\" 1 3 4\n",
            "# 0 \"<command-line>\" 2\n",
            "# 1 \"hello.c\"\n",
            "# 1 \"/usr/include/stdio.h\" 1 3 4\n",
            "# 27 \"/usr/include/stdio.h\" 3 4\n",
            "# 1 \"/usr/include/x86_64-linux-gnu/bits/libc-header-start.h\" 1 3 4\n",
            "# 33 \"/usr/include/x86_64-linux-gnu/bits/libc-header-start.h\" 3 4\n",
            "# 1 \"/usr/include/features.h\" 1 3 4\n",
            "# 392 \"/usr/include/features.h\" 3 4\n",
            "# 1 \"/usr/include/features-time64.h\" 1 3 4\n",
            "# 20 \"/usr/include/features-time64.h\" 3 4\n",
            "# 1 \"/usr/include/x86_64-linux-gnu/bits/wordsize.h\" 1 3 4\n",
            "# 21 \"/usr/include/features-time64.h\" 2 3 4\n",
            "# 1 \"/usr/include/x86_64-linux-gnu/bits/timesize.h\" 1 3 4\n",
            "# 19 \"/usr/include/x86_64-linux-gnu/bits/timesize.h\" 3 4\n",
            "# 1 \"/usr/include/x86_64-linux-gnu/bits/wordsize.h\" 1 3 4\n",
            "# 20 \"/usr/include/x86_64-linux-gnu/bits/timesize.h\" 2 3 4\n",
            "# 22 \"/usr/include/features-time64.h\" 2 3 4\n",
            "# 393 \"/usr/include/features.h\" 2 3 4\n",
            "# 486 \"/usr/include/features.h\" 3 4\n",
            "# 1 \"/usr/include/x86_64-linux-gnu/sys/cdefs.h\" 1 3 4\n",
            "# 559 \"/usr/include/x86_64-linux-gnu/sys/cdefs.h\" 3 4\n",
            "# 1 \"/usr/include/x86_64-linux-gnu/bits/wordsize.h\" 1 3 4\n",
            "# 560 \"/usr/include/x86_64-linux-gnu/sys/cdefs.h\" 2 3 4\n",
            "# 1 \"/usr/include/x86_64-linux-gnu/bits/long-double.h\" 1 3 4\n",
            "# 561 \"/usr/include/x86_64-linux-gnu/sys/cdefs.h\" 2 3 4\n",
            "# 487 \"/usr/include/features.h\" 2 3 4\n",
            "# 510 \"/usr/include/features.h\" 3 4\n",
            "# 1 \"/usr/include/x86_64-linux-gnu/gnu/stubs.h\" 1 3 4\n",
            "# 10 \"/usr/include/x86_64-linux-gnu/gnu/stubs.h\" 3 4\n",
            "# 1 \"/usr/include/x86_64-linux-gnu/gnu/stubs-64.h\" 1 3 4\n",
            "# 11 \"/usr/include/x86_64-linux-gnu/gnu/stubs.h\" 2 3 4\n",
            "# 511 \"/usr/include/features.h\" 2 3 4\n",
            "# 34 \"/usr/include/x86_64-linux-gnu/bits/libc-header-start.h\" 2 3 4\n",
            "# 28 \"/usr/include/stdio.h\" 2 3 4\n",
            "\n",
            "\n",
            "\n",
            "\n",
            "\n",
            "# 1 \"/usr/lib/gcc/x86_64-linux-gnu/11/include/stddef.h\" 1 3 4\n",
            "# 209 \"/usr/lib/gcc/x86_64-linux-gnu/11/include/stddef.h\" 3 4\n",
            "\n",
            "# 209 \"/usr/lib/gcc/x86_64-linux-gnu/11/include/stddef.h\" 3 4\n",
            "typedef long unsigned int size_t;\n",
            "# 34 \"/usr/include/stdio.h\" 2 3 4\n",
            "\n",
            "\n",
            "# 1 \"/usr/lib/gcc/x86_64-linux-gnu/11/include/stdarg.h\" 1 3 4\n",
            "# 40 \"/usr/lib/gcc/x86_64-linux-gnu/11/include/stdarg.h\" 3 4\n",
            "typedef __builtin_va_list __gnuc_va_list;\n",
            "# 37 \"/usr/include/stdio.h\" 2 3 4\n",
            "\n",
            "# 1 \"/usr/include/x86_64-linux-gnu/bits/types.h\" 1 3 4\n",
            "# 27 \"/usr/include/x86_64-linux-gnu/bits/types.h\" 3 4\n",
            "# 1 \"/usr/include/x86_64-linux-gnu/bits/wordsize.h\" 1 3 4\n",
            "# 28 \"/usr/include/x86_64-linux-gnu/bits/types.h\" 2 3 4\n",
            "# 1 \"/usr/include/x86_64-linux-gnu/bits/timesize.h\" 1 3 4\n",
            "# 19 \"/usr/include/x86_64-linux-gnu/bits/timesize.h\" 3 4\n",
            "# 1 \"/usr/include/x86_64-linux-gnu/bits/wordsize.h\" 1 3 4\n",
            "# 20 \"/usr/include/x86_64-linux-gnu/bits/timesize.h\" 2 3 4\n",
            "# 29 \"/usr/include/x86_64-linux-gnu/bits/types.h\" 2 3 4\n",
            "\n",
            "\n",
            "typedef unsigned char __u_char;\n",
            "typedef unsigned short int __u_short;\n",
            "typedef unsigned int __u_int;\n",
            "typedef unsigned long int __u_long;\n",
            "\n",
            "\n",
            "typedef signed char __int8_t;\n",
            "typedef unsigned char __uint8_t;\n",
            "typedef signed short int __int16_t;\n",
            "typedef unsigned short int __uint16_t;\n",
            "typedef signed int __int32_t;\n",
            "typedef unsigned int __uint32_t;\n",
            "\n",
            "typedef signed long int __int64_t;\n",
            "typedef unsigned long int __uint64_t;\n",
            "\n",
            "\n",
            "\n",
            "\n",
            "\n",
            "\n",
            "typedef __int8_t __int_least8_t;\n",
            "typedef __uint8_t __uint_least8_t;\n",
            "typedef __int16_t __int_least16_t;\n",
            "typedef __uint16_t __uint_least16_t;\n",
            "typedef __int32_t __int_least32_t;\n",
            "typedef __uint32_t __uint_least32_t;\n",
            "typedef __int64_t __int_least64_t;\n",
            "typedef __uint64_t __uint_least64_t;\n",
            "\n",
            "\n",
            "\n",
            "typedef long int __quad_t;\n",
            "typedef unsigned long int __u_quad_t;\n",
            "\n",
            "\n",
            "\n",
            "\n",
            "\n",
            "\n",
            "\n",
            "typedef long int __intmax_t;\n",
            "typedef unsigned long int __uintmax_t;\n",
            "# 141 \"/usr/include/x86_64-linux-gnu/bits/types.h\" 3 4\n",
            "# 1 \"/usr/include/x86_64-linux-gnu/bits/typesizes.h\" 1 3 4\n",
            "# 142 \"/usr/include/x86_64-linux-gnu/bits/types.h\" 2 3 4\n",
            "# 1 \"/usr/include/x86_64-linux-gnu/bits/time64.h\" 1 3 4\n",
            "# 143 \"/usr/include/x86_64-linux-gnu/bits/types.h\" 2 3 4\n",
            "\n",
            "\n",
            "typedef unsigned long int __dev_t;\n",
            "typedef unsigned int __uid_t;\n",
            "typedef unsigned int __gid_t;\n",
            "typedef unsigned long int __ino_t;\n",
            "typedef unsigned long int __ino64_t;\n",
            "typedef unsigned int __mode_t;\n",
            "typedef unsigned long int __nlink_t;\n",
            "typedef long int __off_t;\n",
            "typedef long int __off64_t;\n",
            "typedef int __pid_t;\n",
            "typedef struct { int __val[2]; } __fsid_t;\n",
            "typedef long int __clock_t;\n",
            "typedef unsigned long int __rlim_t;\n",
            "typedef unsigned long int __rlim64_t;\n",
            "typedef unsigned int __id_t;\n",
            "typedef long int __time_t;\n",
            "typedef unsigned int __useconds_t;\n",
            "typedef long int __suseconds_t;\n",
            "typedef long int __suseconds64_t;\n",
            "\n",
            "typedef int __daddr_t;\n",
            "typedef int __key_t;\n",
            "\n",
            "\n",
            "typedef int __clockid_t;\n",
            "\n",
            "\n",
            "typedef void * __timer_t;\n",
            "\n",
            "\n",
            "typedef long int __blksize_t;\n",
            "\n",
            "\n",
            "\n",
            "\n",
            "typedef long int __blkcnt_t;\n",
            "typedef long int __blkcnt64_t;\n",
            "\n",
            "\n",
            "typedef unsigned long int __fsblkcnt_t;\n",
            "typedef unsigned long int __fsblkcnt64_t;\n",
            "\n",
            "\n",
            "typedef unsigned long int __fsfilcnt_t;\n",
            "typedef unsigned long int __fsfilcnt64_t;\n",
            "\n",
            "\n",
            "typedef long int __fsword_t;\n",
            "\n",
            "typedef long int __ssize_t;\n",
            "\n",
            "\n",
            "typedef long int __syscall_slong_t;\n",
            "\n",
            "typedef unsigned long int __syscall_ulong_t;\n",
            "\n",
            "\n",
            "\n",
            "typedef __off64_t __loff_t;\n",
            "typedef char *__caddr_t;\n",
            "\n",
            "\n",
            "typedef long int __intptr_t;\n",
            "\n",
            "\n",
            "typedef unsigned int __socklen_t;\n",
            "\n",
            "\n",
            "\n",
            "\n",
            "typedef int __sig_atomic_t;\n",
            "# 39 \"/usr/include/stdio.h\" 2 3 4\n",
            "# 1 \"/usr/include/x86_64-linux-gnu/bits/types/__fpos_t.h\" 1 3 4\n",
            "\n",
            "\n",
            "\n",
            "\n",
            "# 1 \"/usr/include/x86_64-linux-gnu/bits/types/__mbstate_t.h\" 1 3 4\n",
            "# 13 \"/usr/include/x86_64-linux-gnu/bits/types/__mbstate_t.h\" 3 4\n",
            "typedef struct\n",
            "{\n",
            "  int __count;\n",
            "  union\n",
            "  {\n",
            "    unsigned int __wch;\n",
            "    char __wchb[4];\n",
            "  } __value;\n",
            "} __mbstate_t;\n",
            "# 6 \"/usr/include/x86_64-linux-gnu/bits/types/__fpos_t.h\" 2 3 4\n",
            "\n",
            "\n",
            "\n",
            "\n",
            "typedef struct _G_fpos_t\n",
            "{\n",
            "  __off_t __pos;\n",
            "  __mbstate_t __state;\n",
            "} __fpos_t;\n",
            "# 40 \"/usr/include/stdio.h\" 2 3 4\n",
            "# 1 \"/usr/include/x86_64-linux-gnu/bits/types/__fpos64_t.h\" 1 3 4\n",
            "# 10 \"/usr/include/x86_64-linux-gnu/bits/types/__fpos64_t.h\" 3 4\n",
            "typedef struct _G_fpos64_t\n",
            "{\n",
            "  __off64_t __pos;\n",
            "  __mbstate_t __state;\n",
            "} __fpos64_t;\n",
            "# 41 \"/usr/include/stdio.h\" 2 3 4\n",
            "# 1 \"/usr/include/x86_64-linux-gnu/bits/types/__FILE.h\" 1 3 4\n",
            "\n",
            "\n",
            "\n",
            "struct _IO_FILE;\n",
            "typedef struct _IO_FILE __FILE;\n",
            "# 42 \"/usr/include/stdio.h\" 2 3 4\n",
            "# 1 \"/usr/include/x86_64-linux-gnu/bits/types/FILE.h\" 1 3 4\n",
            "\n",
            "\n",
            "\n",
            "struct _IO_FILE;\n",
            "\n",
            "\n",
            "typedef struct _IO_FILE FILE;\n",
            "# 43 \"/usr/include/stdio.h\" 2 3 4\n",
            "# 1 \"/usr/include/x86_64-linux-gnu/bits/types/struct_FILE.h\" 1 3 4\n",
            "# 35 \"/usr/include/x86_64-linux-gnu/bits/types/struct_FILE.h\" 3 4\n",
            "struct _IO_FILE;\n",
            "struct _IO_marker;\n",
            "struct _IO_codecvt;\n",
            "struct _IO_wide_data;\n",
            "\n",
            "\n",
            "\n",
            "\n",
            "typedef void _IO_lock_t;\n",
            "\n",
            "\n",
            "\n",
            "\n",
            "\n",
            "struct _IO_FILE\n",
            "{\n",
            "  int _flags;\n",
            "\n",
            "\n",
            "  char *_IO_read_ptr;\n",
            "  char *_IO_read_end;\n",
            "  char *_IO_read_base;\n",
            "  char *_IO_write_base;\n",
            "  char *_IO_write_ptr;\n",
            "  char *_IO_write_end;\n",
            "  char *_IO_buf_base;\n",
            "  char *_IO_buf_end;\n",
            "\n",
            "\n",
            "  char *_IO_save_base;\n",
            "  char *_IO_backup_base;\n",
            "  char *_IO_save_end;\n",
            "\n",
            "  struct _IO_marker *_markers;\n",
            "\n",
            "  struct _IO_FILE *_chain;\n",
            "\n",
            "  int _fileno;\n",
            "  int _flags2;\n",
            "  __off_t _old_offset;\n",
            "\n",
            "\n",
            "  unsigned short _cur_column;\n",
            "  signed char _vtable_offset;\n",
            "  char _shortbuf[1];\n",
            "\n",
            "  _IO_lock_t *_lock;\n",
            "\n",
            "\n",
            "\n",
            "\n",
            "\n",
            "\n",
            "\n",
            "  __off64_t _offset;\n",
            "\n",
            "  struct _IO_codecvt *_codecvt;\n",
            "  struct _IO_wide_data *_wide_data;\n",
            "  struct _IO_FILE *_freeres_list;\n",
            "  void *_freeres_buf;\n",
            "  size_t __pad5;\n",
            "  int _mode;\n",
            "\n",
            "  char _unused2[15 * sizeof (int) - 4 * sizeof (void *) - sizeof (size_t)];\n",
            "};\n",
            "# 44 \"/usr/include/stdio.h\" 2 3 4\n",
            "# 52 \"/usr/include/stdio.h\" 3 4\n",
            "typedef __gnuc_va_list va_list;\n",
            "# 63 \"/usr/include/stdio.h\" 3 4\n",
            "typedef __off_t off_t;\n",
            "# 77 \"/usr/include/stdio.h\" 3 4\n",
            "typedef __ssize_t ssize_t;\n",
            "\n",
            "\n",
            "\n",
            "\n",
            "\n",
            "\n",
            "typedef __fpos_t fpos_t;\n",
            "# 133 \"/usr/include/stdio.h\" 3 4\n",
            "# 1 \"/usr/include/x86_64-linux-gnu/bits/stdio_lim.h\" 1 3 4\n",
            "# 134 \"/usr/include/stdio.h\" 2 3 4\n",
            "# 143 \"/usr/include/stdio.h\" 3 4\n",
            "extern FILE *stdin;\n",
            "extern FILE *stdout;\n",
            "extern FILE *stderr;\n",
            "\n",
            "\n",
            "\n",
            "\n",
            "\n",
            "\n",
            "extern int remove (const char *__filename) __attribute__ ((__nothrow__ , __leaf__));\n",
            "\n",
            "extern int rename (const char *__old, const char *__new) __attribute__ ((__nothrow__ , __leaf__));\n",
            "\n",
            "\n",
            "\n",
            "extern int renameat (int __oldfd, const char *__old, int __newfd,\n",
            "       const char *__new) __attribute__ ((__nothrow__ , __leaf__));\n",
            "# 178 \"/usr/include/stdio.h\" 3 4\n",
            "extern int fclose (FILE *__stream);\n",
            "# 188 \"/usr/include/stdio.h\" 3 4\n",
            "extern FILE *tmpfile (void)\n",
            "  __attribute__ ((__malloc__)) __attribute__ ((__malloc__ (fclose, 1))) ;\n",
            "# 205 \"/usr/include/stdio.h\" 3 4\n",
            "extern char *tmpnam (char[20]) __attribute__ ((__nothrow__ , __leaf__)) ;\n",
            "\n",
            "\n",
            "\n",
            "\n",
            "extern char *tmpnam_r (char __s[20]) __attribute__ ((__nothrow__ , __leaf__)) ;\n",
            "# 222 \"/usr/include/stdio.h\" 3 4\n",
            "extern char *tempnam (const char *__dir, const char *__pfx)\n",
            "   __attribute__ ((__nothrow__ , __leaf__)) __attribute__ ((__malloc__)) __attribute__ ((__malloc__ (__builtin_free, 1)));\n",
            "\n",
            "\n",
            "\n",
            "\n",
            "\n",
            "\n",
            "extern int fflush (FILE *__stream);\n",
            "# 239 \"/usr/include/stdio.h\" 3 4\n",
            "extern int fflush_unlocked (FILE *__stream);\n",
            "# 258 \"/usr/include/stdio.h\" 3 4\n",
            "extern FILE *fopen (const char *__restrict __filename,\n",
            "      const char *__restrict __modes)\n",
            "  __attribute__ ((__malloc__)) __attribute__ ((__malloc__ (fclose, 1))) ;\n",
            "\n",
            "\n",
            "\n",
            "\n",
            "extern FILE *freopen (const char *__restrict __filename,\n",
            "        const char *__restrict __modes,\n",
            "        FILE *__restrict __stream) ;\n",
            "# 293 \"/usr/include/stdio.h\" 3 4\n",
            "extern FILE *fdopen (int __fd, const char *__modes) __attribute__ ((__nothrow__ , __leaf__))\n",
            "  __attribute__ ((__malloc__)) __attribute__ ((__malloc__ (fclose, 1))) ;\n",
            "# 308 \"/usr/include/stdio.h\" 3 4\n",
            "extern FILE *fmemopen (void *__s, size_t __len, const char *__modes)\n",
            "  __attribute__ ((__nothrow__ , __leaf__)) __attribute__ ((__malloc__)) __attribute__ ((__malloc__ (fclose, 1))) ;\n",
            "\n",
            "\n",
            "\n",
            "\n",
            "extern FILE *open_memstream (char **__bufloc, size_t *__sizeloc) __attribute__ ((__nothrow__ , __leaf__))\n",
            "  __attribute__ ((__malloc__)) __attribute__ ((__malloc__ (fclose, 1))) ;\n",
            "# 328 \"/usr/include/stdio.h\" 3 4\n",
            "extern void setbuf (FILE *__restrict __stream, char *__restrict __buf) __attribute__ ((__nothrow__ , __leaf__));\n",
            "\n",
            "\n",
            "\n",
            "extern int setvbuf (FILE *__restrict __stream, char *__restrict __buf,\n",
            "      int __modes, size_t __n) __attribute__ ((__nothrow__ , __leaf__));\n",
            "\n",
            "\n",
            "\n",
            "\n",
            "extern void setbuffer (FILE *__restrict __stream, char *__restrict __buf,\n",
            "         size_t __size) __attribute__ ((__nothrow__ , __leaf__));\n",
            "\n",
            "\n",
            "extern void setlinebuf (FILE *__stream) __attribute__ ((__nothrow__ , __leaf__));\n",
            "\n",
            "\n",
            "\n",
            "\n",
            "\n",
            "\n",
            "\n",
            "extern int fprintf (FILE *__restrict __stream,\n",
            "      const char *__restrict __format, ...);\n",
            "\n",
            "\n",
            "\n",
            "\n",
            "extern int printf (const char *__restrict __format, ...);\n",
            "\n",
            "extern int sprintf (char *__restrict __s,\n",
            "      const char *__restrict __format, ...) __attribute__ ((__nothrow__));\n",
            "\n",
            "\n",
            "\n",
            "\n",
            "\n",
            "extern int vfprintf (FILE *__restrict __s, const char *__restrict __format,\n",
            "       __gnuc_va_list __arg);\n",
            "\n",
            "\n",
            "\n",
            "\n",
            "extern int vprintf (const char *__restrict __format, __gnuc_va_list __arg);\n",
            "\n",
            "extern int vsprintf (char *__restrict __s, const char *__restrict __format,\n",
            "       __gnuc_va_list __arg) __attribute__ ((__nothrow__));\n",
            "\n",
            "\n",
            "\n",
            "extern int snprintf (char *__restrict __s, size_t __maxlen,\n",
            "       const char *__restrict __format, ...)\n",
            "     __attribute__ ((__nothrow__)) __attribute__ ((__format__ (__printf__, 3, 4)));\n",
            "\n",
            "extern int vsnprintf (char *__restrict __s, size_t __maxlen,\n",
            "        const char *__restrict __format, __gnuc_va_list __arg)\n",
            "     __attribute__ ((__nothrow__)) __attribute__ ((__format__ (__printf__, 3, 0)));\n",
            "# 403 \"/usr/include/stdio.h\" 3 4\n",
            "extern int vdprintf (int __fd, const char *__restrict __fmt,\n",
            "       __gnuc_va_list __arg)\n",
            "     __attribute__ ((__format__ (__printf__, 2, 0)));\n",
            "extern int dprintf (int __fd, const char *__restrict __fmt, ...)\n",
            "     __attribute__ ((__format__ (__printf__, 2, 3)));\n",
            "\n",
            "\n",
            "\n",
            "\n",
            "\n",
            "\n",
            "\n",
            "extern int fscanf (FILE *__restrict __stream,\n",
            "     const char *__restrict __format, ...) ;\n",
            "\n",
            "\n",
            "\n",
            "\n",
            "extern int scanf (const char *__restrict __format, ...) ;\n",
            "\n",
            "extern int sscanf (const char *__restrict __s,\n",
            "     const char *__restrict __format, ...) __attribute__ ((__nothrow__ , __leaf__));\n",
            "\n",
            "\n",
            "\n",
            "\n",
            "\n",
            "# 1 \"/usr/include/x86_64-linux-gnu/bits/floatn.h\" 1 3 4\n",
            "# 119 \"/usr/include/x86_64-linux-gnu/bits/floatn.h\" 3 4\n",
            "# 1 \"/usr/include/x86_64-linux-gnu/bits/floatn-common.h\" 1 3 4\n",
            "# 24 \"/usr/include/x86_64-linux-gnu/bits/floatn-common.h\" 3 4\n",
            "# 1 \"/usr/include/x86_64-linux-gnu/bits/long-double.h\" 1 3 4\n",
            "# 25 \"/usr/include/x86_64-linux-gnu/bits/floatn-common.h\" 2 3 4\n",
            "# 120 \"/usr/include/x86_64-linux-gnu/bits/floatn.h\" 2 3 4\n",
            "# 431 \"/usr/include/stdio.h\" 2 3 4\n",
            "\n",
            "\n",
            "\n",
            "extern int fscanf (FILE *__restrict __stream, const char *__restrict __format, ...) __asm__ (\"\" \"__isoc99_fscanf\")\n",
            "\n",
            "                               ;\n",
            "extern int scanf (const char *__restrict __format, ...) __asm__ (\"\" \"__isoc99_scanf\")\n",
            "                              ;\n",
            "extern int sscanf (const char *__restrict __s, const char *__restrict __format, ...) __asm__ (\"\" \"__isoc99_sscanf\") __attribute__ ((__nothrow__ , __leaf__))\n",
            "\n",
            "                      ;\n",
            "# 459 \"/usr/include/stdio.h\" 3 4\n",
            "extern int vfscanf (FILE *__restrict __s, const char *__restrict __format,\n",
            "      __gnuc_va_list __arg)\n",
            "     __attribute__ ((__format__ (__scanf__, 2, 0))) ;\n",
            "\n",
            "\n",
            "\n",
            "\n",
            "\n",
            "extern int vscanf (const char *__restrict __format, __gnuc_va_list __arg)\n",
            "     __attribute__ ((__format__ (__scanf__, 1, 0))) ;\n",
            "\n",
            "\n",
            "extern int vsscanf (const char *__restrict __s,\n",
            "      const char *__restrict __format, __gnuc_va_list __arg)\n",
            "     __attribute__ ((__nothrow__ , __leaf__)) __attribute__ ((__format__ (__scanf__, 2, 0)));\n",
            "\n",
            "\n",
            "\n",
            "\n",
            "\n",
            "extern int vfscanf (FILE *__restrict __s, const char *__restrict __format, __gnuc_va_list __arg) __asm__ (\"\" \"__isoc99_vfscanf\")\n",
            "\n",
            "\n",
            "\n",
            "     __attribute__ ((__format__ (__scanf__, 2, 0))) ;\n",
            "extern int vscanf (const char *__restrict __format, __gnuc_va_list __arg) __asm__ (\"\" \"__isoc99_vscanf\")\n",
            "\n",
            "     __attribute__ ((__format__ (__scanf__, 1, 0))) ;\n",
            "extern int vsscanf (const char *__restrict __s, const char *__restrict __format, __gnuc_va_list __arg) __asm__ (\"\" \"__isoc99_vsscanf\") __attribute__ ((__nothrow__ , __leaf__))\n",
            "\n",
            "\n",
            "\n",
            "     __attribute__ ((__format__ (__scanf__, 2, 0)));\n",
            "# 513 \"/usr/include/stdio.h\" 3 4\n",
            "extern int fgetc (FILE *__stream);\n",
            "extern int getc (FILE *__stream);\n",
            "\n",
            "\n",
            "\n",
            "\n",
            "\n",
            "extern int getchar (void);\n",
            "\n",
            "\n",
            "\n",
            "\n",
            "\n",
            "\n",
            "extern int getc_unlocked (FILE *__stream);\n",
            "extern int getchar_unlocked (void);\n",
            "# 538 \"/usr/include/stdio.h\" 3 4\n",
            "extern int fgetc_unlocked (FILE *__stream);\n",
            "# 549 \"/usr/include/stdio.h\" 3 4\n",
            "extern int fputc (int __c, FILE *__stream);\n",
            "extern int putc (int __c, FILE *__stream);\n",
            "\n",
            "\n",
            "\n",
            "\n",
            "\n",
            "extern int putchar (int __c);\n",
            "# 565 \"/usr/include/stdio.h\" 3 4\n",
            "extern int fputc_unlocked (int __c, FILE *__stream);\n",
            "\n",
            "\n",
            "\n",
            "\n",
            "\n",
            "\n",
            "\n",
            "extern int putc_unlocked (int __c, FILE *__stream);\n",
            "extern int putchar_unlocked (int __c);\n",
            "\n",
            "\n",
            "\n",
            "\n",
            "\n",
            "\n",
            "extern int getw (FILE *__stream);\n",
            "\n",
            "\n",
            "extern int putw (int __w, FILE *__stream);\n",
            "\n",
            "\n",
            "\n",
            "\n",
            "\n",
            "\n",
            "\n",
            "extern char *fgets (char *__restrict __s, int __n, FILE *__restrict __stream)\n",
            "     __attribute__ ((__access__ (__write_only__, 1, 2)));\n",
            "# 632 \"/usr/include/stdio.h\" 3 4\n",
            "extern __ssize_t __getdelim (char **__restrict __lineptr,\n",
            "                             size_t *__restrict __n, int __delimiter,\n",
            "                             FILE *__restrict __stream) ;\n",
            "extern __ssize_t getdelim (char **__restrict __lineptr,\n",
            "                           size_t *__restrict __n, int __delimiter,\n",
            "                           FILE *__restrict __stream) ;\n",
            "\n",
            "\n",
            "\n",
            "\n",
            "\n",
            "\n",
            "\n",
            "extern __ssize_t getline (char **__restrict __lineptr,\n",
            "                          size_t *__restrict __n,\n",
            "                          FILE *__restrict __stream) ;\n",
            "\n",
            "\n",
            "\n",
            "\n",
            "\n",
            "\n",
            "\n",
            "extern int fputs (const char *__restrict __s, FILE *__restrict __stream);\n",
            "\n",
            "\n",
            "\n",
            "\n",
            "\n",
            "extern int puts (const char *__s);\n",
            "\n",
            "\n",
            "\n",
            "\n",
            "\n",
            "\n",
            "extern int ungetc (int __c, FILE *__stream);\n",
            "\n",
            "\n",
            "\n",
            "\n",
            "\n",
            "\n",
            "extern size_t fread (void *__restrict __ptr, size_t __size,\n",
            "       size_t __n, FILE *__restrict __stream) ;\n",
            "\n",
            "\n",
            "\n",
            "\n",
            "extern size_t fwrite (const void *__restrict __ptr, size_t __size,\n",
            "        size_t __n, FILE *__restrict __s);\n",
            "# 702 \"/usr/include/stdio.h\" 3 4\n",
            "extern size_t fread_unlocked (void *__restrict __ptr, size_t __size,\n",
            "         size_t __n, FILE *__restrict __stream) ;\n",
            "extern size_t fwrite_unlocked (const void *__restrict __ptr, size_t __size,\n",
            "          size_t __n, FILE *__restrict __stream);\n",
            "\n",
            "\n",
            "\n",
            "\n",
            "\n",
            "\n",
            "\n",
            "extern int fseek (FILE *__stream, long int __off, int __whence);\n",
            "\n",
            "\n",
            "\n",
            "\n",
            "extern long int ftell (FILE *__stream) ;\n",
            "\n",
            "\n",
            "\n",
            "\n",
            "extern void rewind (FILE *__stream);\n",
            "# 736 \"/usr/include/stdio.h\" 3 4\n",
            "extern int fseeko (FILE *__stream, __off_t __off, int __whence);\n",
            "\n",
            "\n",
            "\n",
            "\n",
            "extern __off_t ftello (FILE *__stream) ;\n",
            "# 760 \"/usr/include/stdio.h\" 3 4\n",
            "extern int fgetpos (FILE *__restrict __stream, fpos_t *__restrict __pos);\n",
            "\n",
            "\n",
            "\n",
            "\n",
            "extern int fsetpos (FILE *__stream, const fpos_t *__pos);\n",
            "# 786 \"/usr/include/stdio.h\" 3 4\n",
            "extern void clearerr (FILE *__stream) __attribute__ ((__nothrow__ , __leaf__));\n",
            "\n",
            "extern int feof (FILE *__stream) __attribute__ ((__nothrow__ , __leaf__)) ;\n",
            "\n",
            "extern int ferror (FILE *__stream) __attribute__ ((__nothrow__ , __leaf__)) ;\n",
            "\n",
            "\n",
            "\n",
            "extern void clearerr_unlocked (FILE *__stream) __attribute__ ((__nothrow__ , __leaf__));\n",
            "extern int feof_unlocked (FILE *__stream) __attribute__ ((__nothrow__ , __leaf__)) ;\n",
            "extern int ferror_unlocked (FILE *__stream) __attribute__ ((__nothrow__ , __leaf__)) ;\n",
            "\n",
            "\n",
            "\n",
            "\n",
            "\n",
            "\n",
            "\n",
            "extern void perror (const char *__s);\n",
            "\n",
            "\n",
            "\n",
            "\n",
            "extern int fileno (FILE *__stream) __attribute__ ((__nothrow__ , __leaf__)) ;\n",
            "\n",
            "\n",
            "\n",
            "\n",
            "extern int fileno_unlocked (FILE *__stream) __attribute__ ((__nothrow__ , __leaf__)) ;\n",
            "# 823 \"/usr/include/stdio.h\" 3 4\n",
            "extern int pclose (FILE *__stream);\n",
            "\n",
            "\n",
            "\n",
            "\n",
            "\n",
            "extern FILE *popen (const char *__command, const char *__modes)\n",
            "  __attribute__ ((__malloc__)) __attribute__ ((__malloc__ (pclose, 1))) ;\n",
            "\n",
            "\n",
            "\n",
            "\n",
            "\n",
            "\n",
            "extern char *ctermid (char *__s) __attribute__ ((__nothrow__ , __leaf__))\n",
            "  __attribute__ ((__access__ (__write_only__, 1)));\n",
            "# 867 \"/usr/include/stdio.h\" 3 4\n",
            "extern void flockfile (FILE *__stream) __attribute__ ((__nothrow__ , __leaf__));\n",
            "\n",
            "\n",
            "\n",
            "extern int ftrylockfile (FILE *__stream) __attribute__ ((__nothrow__ , __leaf__)) ;\n",
            "\n",
            "\n",
            "extern void funlockfile (FILE *__stream) __attribute__ ((__nothrow__ , __leaf__));\n",
            "# 885 \"/usr/include/stdio.h\" 3 4\n",
            "extern int __uflow (FILE *);\n",
            "extern int __overflow (FILE *, int);\n",
            "# 902 \"/usr/include/stdio.h\" 3 4\n",
            "\n",
            "# 2 \"hello.c\" 2\n",
            "\n",
            "\n",
            "# 3 \"hello.c\"\n",
            "int main() {\n",
            "    printf(\"Hello, world!\\n\");\n",
            "    return 0;\n",
            "}\n"
          ]
        }
      ]
    },
    {
      "cell_type": "code",
      "source": [
        "!ls hello.*"
      ],
      "metadata": {
        "colab": {
          "base_uri": "https://localhost:8080/"
        },
        "id": "f3fEZt1jGsV-",
        "outputId": "14c5e8db-c0cf-45b5-c20f-f4ad32d1c7bf"
      },
      "execution_count": null,
      "outputs": [
        {
          "output_type": "stream",
          "name": "stdout",
          "text": [
            "hello.c\n"
          ]
        }
      ]
    },
    {
      "cell_type": "markdown",
      "source": [
        "**Compiling**: The next step is to compile filename.i and produce an intermediate compiled output file filename.s. This file is in assembly-level instructions."
      ],
      "metadata": {
        "id": "s5yrnRJjEYRF"
      }
    },
    {
      "cell_type": "code",
      "source": [
        "!cat hello2.s"
      ],
      "metadata": {
        "colab": {
          "base_uri": "https://localhost:8080/"
        },
        "id": "8DMan2XqEhJx",
        "outputId": "2762a813-add0-4eb4-a793-9cf65bd74542"
      },
      "execution_count": null,
      "outputs": [
        {
          "output_type": "stream",
          "name": "stdout",
          "text": [
            "\t.file\t\"hello2.c\"\n",
            "\t.text\n",
            "\t.section\t.rodata\n",
            "\t.align 8\n",
            ".LC0:\n",
            "\t.string\t\"Sum of the first %d natural numbers: %d\\n\"\n",
            "\t.text\n",
            "\t.globl\tmain\n",
            "\t.type\tmain, @function\n",
            "main:\n",
            ".LFB0:\n",
            "\t.cfi_startproc\n",
            "\tendbr64\n",
            "\tpushq\t%rbp\n",
            "\t.cfi_def_cfa_offset 16\n",
            "\t.cfi_offset 6, -16\n",
            "\tmovq\t%rsp, %rbp\n",
            "\t.cfi_def_cfa_register 6\n",
            "\tsubq\t$16, %rsp\n",
            "\tmovl\t$10, -4(%rbp)\n",
            "\tmovl\t$0, -12(%rbp)\n",
            "\tmovl\t$1, -8(%rbp)\n",
            "\tjmp\t.L2\n",
            ".L3:\n",
            "\tmovl\t-8(%rbp), %eax\n",
            "\taddl\t%eax, -12(%rbp)\n",
            "\taddl\t$1, -8(%rbp)\n",
            ".L2:\n",
            "\tmovl\t-8(%rbp), %eax\n",
            "\tcmpl\t-4(%rbp), %eax\n",
            "\tjle\t.L3\n",
            "\tmovl\t-12(%rbp), %edx\n",
            "\tmovl\t-4(%rbp), %eax\n",
            "\tmovl\t%eax, %esi\n",
            "\tleaq\t.LC0(%rip), %rax\n",
            "\tmovq\t%rax, %rdi\n",
            "\tmovl\t$0, %eax\n",
            "\tcall\tprintf@PLT\n",
            "\tmovl\t$0, %eax\n",
            "\tleave\n",
            "\t.cfi_def_cfa 7, 8\n",
            "\tret\n",
            "\t.cfi_endproc\n",
            ".LFE0:\n",
            "\t.size\tmain, .-main\n",
            "\t.ident\t\"GCC: (Ubuntu 11.4.0-1ubuntu1~22.04) 11.4.0\"\n",
            "\t.section\t.note.GNU-stack,\"\",@progbits\n",
            "\t.section\t.note.gnu.property,\"a\"\n",
            "\t.align 8\n",
            "\t.long\t1f - 0f\n",
            "\t.long\t4f - 1f\n",
            "\t.long\t5\n",
            "0:\n",
            "\t.string\t\"GNU\"\n",
            "1:\n",
            "\t.align 8\n",
            "\t.long\t0xc0000002\n",
            "\t.long\t3f - 2f\n",
            "2:\n",
            "\t.long\t0x3\n",
            "3:\n",
            "\t.align 8\n",
            "4:\n"
          ]
        }
      ]
    },
    {
      "cell_type": "markdown",
      "source": [
        "The snapshot shows that it is in assembly language, which the assembler can understand."
      ],
      "metadata": {
        "id": "3exe8boPEnlQ"
      }
    },
    {
      "cell_type": "markdown",
      "source": [
        "We can stop after this step with the “-S” option on the gcc command, and press enter."
      ],
      "metadata": {
        "id": "-If--75PG0hN"
      }
    },
    {
      "cell_type": "code",
      "source": [
        "!gcc -S hello.c"
      ],
      "metadata": {
        "id": "0oKsA41WG07G"
      },
      "execution_count": null,
      "outputs": []
    },
    {
      "cell_type": "code",
      "source": [
        "!ls hello.*"
      ],
      "metadata": {
        "colab": {
          "base_uri": "https://localhost:8080/"
        },
        "id": "MZhmniT7G3ui",
        "outputId": "5639efc4-324e-48a9-c57f-96cdb95e0e19"
      },
      "execution_count": null,
      "outputs": [
        {
          "output_type": "stream",
          "name": "stdout",
          "text": [
            "hello.c  hello.s\n"
          ]
        }
      ]
    },
    {
      "cell_type": "code",
      "source": [
        "!cat hello.s"
      ],
      "metadata": {
        "colab": {
          "base_uri": "https://localhost:8080/"
        },
        "id": "vK51IE65G598",
        "outputId": "f8696c66-d2a1-4ed6-a901-4d4844c43c6e"
      },
      "execution_count": null,
      "outputs": [
        {
          "output_type": "stream",
          "name": "stdout",
          "text": [
            "\t.file\t\"hello.c\"\n",
            "\t.text\n",
            "\t.section\t.rodata\n",
            ".LC0:\n",
            "\t.string\t\"Hello, world!\"\n",
            "\t.text\n",
            "\t.globl\tmain\n",
            "\t.type\tmain, @function\n",
            "main:\n",
            ".LFB0:\n",
            "\t.cfi_startproc\n",
            "\tendbr64\n",
            "\tpushq\t%rbp\n",
            "\t.cfi_def_cfa_offset 16\n",
            "\t.cfi_offset 6, -16\n",
            "\tmovq\t%rsp, %rbp\n",
            "\t.cfi_def_cfa_register 6\n",
            "\tleaq\t.LC0(%rip), %rax\n",
            "\tmovq\t%rax, %rdi\n",
            "\tcall\tputs@PLT\n",
            "\tmovl\t$0, %eax\n",
            "\tpopq\t%rbp\n",
            "\t.cfi_def_cfa 7, 8\n",
            "\tret\n",
            "\t.cfi_endproc\n",
            ".LFE0:\n",
            "\t.size\tmain, .-main\n",
            "\t.ident\t\"GCC: (Ubuntu 11.4.0-1ubuntu1~22.04) 11.4.0\"\n",
            "\t.section\t.note.GNU-stack,\"\",@progbits\n",
            "\t.section\t.note.gnu.property,\"a\"\n",
            "\t.align 8\n",
            "\t.long\t1f - 0f\n",
            "\t.long\t4f - 1f\n",
            "\t.long\t5\n",
            "0:\n",
            "\t.string\t\"GNU\"\n",
            "1:\n",
            "\t.align 8\n",
            "\t.long\t0xc0000002\n",
            "\t.long\t3f - 2f\n",
            "2:\n",
            "\t.long\t0x3\n",
            "3:\n",
            "\t.align 8\n",
            "4:\n"
          ]
        }
      ]
    },
    {
      "cell_type": "markdown",
      "source": [
        "**Assembling**: In this phase the filename.s is taken as input and turned into filename.o by the assembler. This file contains machine-level instructions. At this phase, only existing code is converted into machine language, and the function calls like printf() are not resolved."
      ],
      "metadata": {
        "id": "EiQEFOr6Et7q"
      }
    },
    {
      "cell_type": "code",
      "source": [
        "!cat hello2.o"
      ],
      "metadata": {
        "colab": {
          "base_uri": "https://localhost:8080/"
        },
        "id": "5hp11z21EyfW",
        "outputId": "96c826ef-636f-49df-f5a6-a6ad9934147b"
      },
      "execution_count": null,
      "outputs": [
        {
          "output_type": "stream",
          "name": "stdout",
          "text": [
            "ELF\u0002\u0001\u0001\u0000\u0000\u0000\u0000\u0000\u0000\u0000\u0000\u0000\u0001\u0000>\u0000\u0001\u0000\u0000\u0000\u0000\u0000\u0000\u0000\u0000\u0000\u0000\u0000\u0000\u0000\u0000\u0000\u0000\u0000\u0000\u0000�\u0002\u0000\u0000\u0000\u0000\u0000\u0000\u0000\u0000\u0000\u0000@\u0000\u0000\u0000\u0000\u0000@\u0000\u000e\u0000\r\u0000�\u000f\u001e�UH��H��\u0010�E�\n",
            "\u0000\u0000\u0000�E�\u0000\u0000\u0000\u0000�E�\u0001\u0000\u0000\u0000�\n",
            "�E�\u0001E�E�\u0001�E�;E�~�U�E���H�\u0005\u0000\u0000\u0000\u0000H�Ǹ\u0000\u0000\u0000\u0000�\u0000\u0000\u0000\u0000�\u0000\u0000\u0000\u0000��Sum of the first %d natural numbers: %d\n",
            "\u0000\u0000GCC: (Ubuntu 11.4.0-1ubuntu1~22.04) 11.4.0\u0000\u0000\u0000\u0000\u0004\u0000\u0000\u0000\u0010\u0000\u0000\u0000\u0005\u0000\u0000\u0000GNU\u0000\u0002\u0000\u0000�\u0004\u0000\u0000\u0000\u0003\u0000\u0000\u0000\u0000\u0000\u0000\u0000\u0014\u0000\u0000\u0000\u0000\u0000\u0000\u0000\u0001zR\u0000\u0001x\u0010\u0001\u001b\f\u0007\b�\u0001\u0000\u0000\u001c\u0000\u0000\u0000\u001c\u0000\u0000\u0000\u0000\u0000\u0000\u0000X\u0000\u0000\u0000\u0000E\u000e\u0010�\u0002C\r\u0006\u0002O\f\u0007\b\u0000\u0000\u0000\u0000\u0000\u0000\u0000\u0000\u0000\u0000\u0000\u0000\u0000\u0000\u0000\u0000\u0000\u0000\u0000\u0000\u0000\u0000\u0000\u0000\u0000\u0000\u0001\u0000\u0000\u0000\u0004\u0000��\u0000\u0000\u0000\u0000\u0000\u0000\u0000\u0000\u0000\u0000\u0000\u0000\u0000\u0000\u0000\u0000\u0000\u0000\u0000\u0000\u0003\u0000\u0001\u0000\u0000\u0000\u0000\u0000\u0000\u0000\u0000\u0000\u0000\u0000\u0000\u0000\u0000\u0000\u0000\u0000\u0000\u0000\u0000\u0000\u0003\u0000\u0005\u0000\u0000\u0000\u0000\u0000\u0000\u0000\u0000\u0000\u0000\u0000\u0000\u0000\u0000\u0000\u0000\u0000\n",
            "\u0000\u0000\u0000\u0012\u0000\u0001\u0000\u0000\u0000\u0000\u0000\u0000\u0000\u0000\u0000X\u0000\u0000\u0000\u0000\u0000\u0000\u0000\u000f\u0000\u0000\u0000\u0010\u0000\u0000\u0000\u0000\u0000\u0000\u0000\u0000\u0000\u0000\u0000\u0000\u0000\u0000\u0000\u0000\u0000\u0000\u0000\u0000hello2.c\u0000main\u0000printf\u0000\u0000\u0000@\u0000\u0000\u0000\u0000\u0000\u0000\u0000\u0002\u0000\u0000\u0000\u0003\u0000\u0000\u0000��������M\u0000\u0000\u0000\u0000\u0000\u0000\u0000\u0004\u0000\u0000\u0000\u0005\u0000\u0000\u0000�������� \u0000\u0000\u0000\u0000\u0000\u0000\u0000\u0002\u0000\u0000\u0000\u0002\u0000\u0000\u0000\u0000\u0000\u0000\u0000\u0000\u0000\u0000\u0000\u0000.symtab\u0000.strtab\u0000.shstrtab\u0000.rela.text\u0000.data\u0000.bss\u0000.rodata\u0000.comment\u0000.note.GNU-stack\u0000.note.gnu.property\u0000.rela.eh_frame\u0000\u0000\u0000\u0000\u0000\u0000\u0000\u0000\u0000\u0000\u0000\u0000\u0000\u0000\u0000\u0000\u0000\u0000\u0000\u0000\u0000\u0000\u0000\u0000\u0000\u0000\u0000\u0000\u0000\u0000\u0000\u0000\u0000\u0000\u0000\u0000\u0000\u0000\u0000\u0000\u0000\u0000\u0000\u0000\u0000\u0000\u0000\u0000\u0000\u0000\u0000\u0000\u0000\u0000\u0000\u0000\u0000\u0000\u0000\u0000\u0000\u0000\u0000\u0000\u0000\u0000\u0000\u0000\u0000 \u0000\u0000\u0000\u0001\u0000\u0000\u0000\u0006\u0000\u0000\u0000\u0000\u0000\u0000\u0000\u0000\u0000\u0000\u0000\u0000\u0000\u0000\u0000@\u0000\u0000\u0000\u0000\u0000\u0000\u0000X\u0000\u0000\u0000\u0000\u0000\u0000\u0000\u0000\u0000\u0000\u0000\u0000\u0000\u0000\u0000\u0001\u0000\u0000\u0000\u0000\u0000\u0000\u0000\u0000\u0000\u0000\u0000\u0000\u0000\u0000\u0000\u001b\u0000\u0000\u0000\u0004\u0000\u0000\u0000@\u0000\u0000\u0000\u0000\u0000\u0000\u0000\u0000\u0000\u0000\u0000\u0000\u0000\u0000\u0000�\u0001\u0000\u0000\u0000\u0000\u0000\u00000\u0000\u0000\u0000\u0000\u0000\u0000\u0000\u000b\u0000\u0000\u0000\u0001\u0000\u0000\u0000\b\u0000\u0000\u0000\u0000\u0000\u0000\u0000\u0018\u0000\u0000\u0000\u0000\u0000\u0000\u0000&\u0000\u0000\u0000\u0001\u0000\u0000\u0000\u0003\u0000\u0000\u0000\u0000\u0000\u0000\u0000\u0000\u0000\u0000\u0000\u0000\u0000\u0000\u0000�\u0000\u0000\u0000\u0000\u0000\u0000\u0000\u0000\u0000\u0000\u0000\u0000\u0000\u0000\u0000\u0000\u0000\u0000\u0000\u0000\u0000\u0000\u0000\u0001\u0000\u0000\u0000\u0000\u0000\u0000\u0000\u0000\u0000\u0000\u0000\u0000\u0000\u0000\u0000,\u0000\u0000\u0000\b\u0000\u0000\u0000\u0003\u0000\u0000\u0000\u0000\u0000\u0000\u0000\u0000\u0000\u0000\u0000\u0000\u0000\u0000\u0000�\u0000\u0000\u0000\u0000\u0000\u0000\u0000\u0000\u0000\u0000\u0000\u0000\u0000\u0000\u0000\u0000\u0000\u0000\u0000\u0000\u0000\u0000\u0000\u0001\u0000\u0000\u0000\u0000\u0000\u0000\u0000\u0000\u0000\u0000\u0000\u0000\u0000\u0000\u00001\u0000\u0000\u0000\u0001\u0000\u0000\u0000\u0002\u0000\u0000\u0000\u0000\u0000\u0000\u0000\u0000\u0000\u0000\u0000\u0000\u0000\u0000\u0000�\u0000\u0000\u0000\u0000\u0000\u0000\u0000)\u0000\u0000\u0000\u0000\u0000\u0000\u0000\u0000\u0000\u0000\u0000\u0000\u0000\u0000\u0000\b\u0000\u0000\u0000\u0000\u0000\u0000\u0000\u0000\u0000\u0000\u0000\u0000\u0000\u0000\u00009\u0000\u0000\u0000\u0001\u0000\u0000\u00000\u0000\u0000\u0000\u0000\u0000\u0000\u0000\u0000\u0000\u0000\u0000\u0000\u0000\u0000\u0000�\u0000\u0000\u0000\u0000\u0000\u0000\u0000,\u0000\u0000\u0000\u0000\u0000\u0000\u0000\u0000\u0000\u0000\u0000\u0000\u0000\u0000\u0000\u0001\u0000\u0000\u0000\u0000\u0000\u0000\u0000\u0001\u0000\u0000\u0000\u0000\u0000\u0000\u0000B\u0000\u0000\u0000\u0001\u0000\u0000\u0000\u0000\u0000\u0000\u0000\u0000\u0000\u0000\u0000\u0000\u0000\u0000\u0000\u0000\u0000\u0000\u0000�\u0000\u0000\u0000\u0000\u0000\u0000\u0000\u0000\u0000\u0000\u0000\u0000\u0000\u0000\u0000\u0000\u0000\u0000\u0000\u0000\u0000\u0000\u0000\u0001\u0000\u0000\u0000\u0000\u0000\u0000\u0000\u0000\u0000\u0000\u0000\u0000\u0000\u0000\u0000R\u0000\u0000\u0000\u0007\u0000\u0000\u0000\u0002\u0000\u0000\u0000\u0000\u0000\u0000\u0000\u0000\u0000\u0000\u0000\u0000\u0000\u0000\u0000�\u0000\u0000\u0000\u0000\u0000\u0000\u0000 \u0000\u0000\u0000\u0000\u0000\u0000\u0000\u0000\u0000\u0000\u0000\u0000\u0000\u0000\u0000\b\u0000\u0000\u0000\u0000\u0000\u0000\u0000\u0000\u0000\u0000\u0000\u0000\u0000\u0000\u0000j\u0000\u0000\u0000\u0001\u0000\u0000\u0000\u0002\u0000\u0000\u0000\u0000\u0000\u0000\u0000\u0000\u0000\u0000\u0000\u0000\u0000\u0000\u0000\u0010\u0001\u0000\u0000\u0000\u0000\u0000\u00008\u0000\u0000\u0000\u0000\u0000\u0000\u0000\u0000\u0000\u0000\u0000\u0000\u0000\u0000\u0000\b\u0000\u0000\u0000\u0000\u0000\u0000\u0000\u0000\u0000\u0000\u0000\u0000\u0000\u0000\u0000e\u0000\u0000\u0000\u0004\u0000\u0000\u0000@\u0000\u0000\u0000\u0000\u0000\u0000\u0000\u0000\u0000\u0000\u0000\u0000\u0000\u0000\u0000 \u0002\u0000\u0000\u0000\u0000\u0000\u0000\u0018\u0000\u0000\u0000\u0000\u0000\u0000\u0000\u000b\u0000\u0000\u0000\t\u0000\u0000\u0000\b\u0000\u0000\u0000\u0000\u0000\u0000\u0000\u0018\u0000\u0000\u0000\u0000\u0000\u0000\u0000\u0001\u0000\u0000\u0000\u0002\u0000\u0000\u0000\u0000\u0000\u0000\u0000\u0000\u0000\u0000\u0000\u0000\u0000\u0000\u0000\u0000\u0000\u0000\u0000H\u0001\u0000\u0000\u0000\u0000\u0000\u0000�\u0000\u0000\u0000\u0000\u0000\u0000\u0000\f\u0000\u0000\u0000\u0004\u0000\u0000\u0000\b\u0000\u0000\u0000\u0000\u0000\u0000\u0000\u0018\u0000\u0000\u0000\u0000\u0000\u0000\u0000\t\u0000\u0000\u0000\u0003\u0000\u0000\u0000\u0000\u0000\u0000\u0000\u0000\u0000\u0000\u0000\u0000\u0000\u0000\u0000\u0000\u0000\u0000\u0000�\u0001\u0000\u0000\u0000\u0000\u0000\u0000\u0016\u0000\u0000\u0000\u0000\u0000\u0000\u0000\u0000\u0000\u0000\u0000\u0000\u0000\u0000\u0000\u0001\u0000\u0000\u0000\u0000\u0000\u0000\u0000\u0000\u0000\u0000\u0000\u0000\u0000\u0000\u0000\u0011\u0000\u0000\u0000\u0003\u0000\u0000\u0000\u0000\u0000\u0000\u0000\u0000\u0000\u0000\u0000\u0000\u0000\u0000\u0000\u0000\u0000\u0000\u00008\u0002\u0000\u0000\u0000\u0000\u0000\u0000t\u0000\u0000\u0000\u0000\u0000\u0000\u0000\u0000\u0000\u0000\u0000\u0000\u0000\u0000\u0000\u0001\u0000\u0000\u0000\u0000\u0000\u0000\u0000\u0000\u0000\u0000\u0000\u0000\u0000\u0000\u0000"
          ]
        }
      ]
    },
    {
      "cell_type": "markdown",
      "source": [
        "We can stop the compilation process after this step by using the option “-c” with the gcc command"
      ],
      "metadata": {
        "id": "sOEspEM2G-ZQ"
      }
    },
    {
      "cell_type": "code",
      "source": [
        "!gcc -c hello.c"
      ],
      "metadata": {
        "id": "MnBd0ooFHCNR"
      },
      "execution_count": null,
      "outputs": []
    },
    {
      "cell_type": "code",
      "source": [
        "!cat hello.o"
      ],
      "metadata": {
        "colab": {
          "base_uri": "https://localhost:8080/"
        },
        "id": "ssCJ8CJPHFNm",
        "outputId": "40bc80f0-b2b1-4f78-ee7c-71db2dd0c0ee"
      },
      "execution_count": null,
      "outputs": [
        {
          "output_type": "stream",
          "name": "stdout",
          "text": [
            "ELF\u0002\u0001\u0001\u0000\u0000\u0000\u0000\u0000\u0000\u0000\u0000\u0000\u0001\u0000>\u0000\u0001\u0000\u0000\u0000\u0000\u0000\u0000\u0000\u0000\u0000\u0000\u0000\u0000\u0000\u0000\u0000\u0000\u0000\u0000\u0000X\u0002\u0000\u0000\u0000\u0000\u0000\u0000\u0000\u0000\u0000\u0000@\u0000\u0000\u0000\u0000\u0000@\u0000\u000e\u0000\r\u0000�\u000f\u001e�UH��H�\u0005\u0000\u0000\u0000\u0000H���\u0000\u0000\u0000\u0000�\u0000\u0000\u0000\u0000]�Hello, world!\u0000\u0000GCC: (Ubuntu 11.4.0-1ubuntu1~22.04) 11.4.0\u0000\u0004\u0000\u0000\u0000\u0010\u0000\u0000\u0000\u0005\u0000\u0000\u0000GNU\u0000\u0002\u0000\u0000�\u0004\u0000\u0000\u0000\u0003\u0000\u0000\u0000\u0000\u0000\u0000\u0000\u0014\u0000\u0000\u0000\u0000\u0000\u0000\u0000\u0001zR\u0000\u0001x\u0010\u0001\u001b\f\u0007\b�\u0001\u0000\u0000\u001c\u0000\u0000\u0000\u001c\u0000\u0000\u0000\u0000\u0000\u0000\u0000\u001e\u0000\u0000\u0000\u0000E\u000e\u0010�\u0002C\r\u0006U\f\u0007\b\u0000\u0000\u0000\u0000\u0000\u0000\u0000\u0000\u0000\u0000\u0000\u0000\u0000\u0000\u0000\u0000\u0000\u0000\u0000\u0000\u0000\u0000\u0000\u0000\u0000\u0000\u0000\u0001\u0000\u0000\u0000\u0004\u0000��\u0000\u0000\u0000\u0000\u0000\u0000\u0000\u0000\u0000\u0000\u0000\u0000\u0000\u0000\u0000\u0000\u0000\u0000\u0000\u0000\u0003\u0000\u0001\u0000\u0000\u0000\u0000\u0000\u0000\u0000\u0000\u0000\u0000\u0000\u0000\u0000\u0000\u0000\u0000\u0000\u0000\u0000\u0000\u0000\u0003\u0000\u0005\u0000\u0000\u0000\u0000\u0000\u0000\u0000\u0000\u0000\u0000\u0000\u0000\u0000\u0000\u0000\u0000\u0000\t\u0000\u0000\u0000\u0012\u0000\u0001\u0000\u0000\u0000\u0000\u0000\u0000\u0000\u0000\u0000\u001e\u0000\u0000\u0000\u0000\u0000\u0000\u0000\u000e\u0000\u0000\u0000\u0010\u0000\u0000\u0000\u0000\u0000\u0000\u0000\u0000\u0000\u0000\u0000\u0000\u0000\u0000\u0000\u0000\u0000\u0000\u0000\u0000hello.c\u0000main\u0000puts\u0000\u0000\u0000\u0000\u0000\u0000\u000b\u0000\u0000\u0000\u0000\u0000\u0000\u0000\u0002\u0000\u0000\u0000\u0003\u0000\u0000\u0000��������\u0013\u0000\u0000\u0000\u0000\u0000\u0000\u0000\u0004\u0000\u0000\u0000\u0005\u0000\u0000\u0000�������� \u0000\u0000\u0000\u0000\u0000\u0000\u0000\u0002\u0000\u0000\u0000\u0002\u0000\u0000\u0000\u0000\u0000\u0000\u0000\u0000\u0000\u0000\u0000\u0000.symtab\u0000.strtab\u0000.shstrtab\u0000.rela.text\u0000.data\u0000.bss\u0000.rodata\u0000.comment\u0000.note.GNU-stack\u0000.note.gnu.property\u0000.rela.eh_frame\u0000\u0000\u0000\u0000\u0000\u0000\u0000\u0000\u0000\u0000\u0000\u0000\u0000\u0000\u0000\u0000\u0000\u0000\u0000\u0000\u0000\u0000\u0000\u0000\u0000\u0000\u0000\u0000\u0000\u0000\u0000\u0000\u0000\u0000\u0000\u0000\u0000\u0000\u0000\u0000\u0000\u0000\u0000\u0000\u0000\u0000\u0000\u0000\u0000\u0000\u0000\u0000\u0000\u0000\u0000\u0000\u0000\u0000\u0000\u0000\u0000\u0000\u0000\u0000\u0000\u0000\u0000\u0000\u0000 \u0000\u0000\u0000\u0001\u0000\u0000\u0000\u0006\u0000\u0000\u0000\u0000\u0000\u0000\u0000\u0000\u0000\u0000\u0000\u0000\u0000\u0000\u0000@\u0000\u0000\u0000\u0000\u0000\u0000\u0000\u001e\u0000\u0000\u0000\u0000\u0000\u0000\u0000\u0000\u0000\u0000\u0000\u0000\u0000\u0000\u0000\u0001\u0000\u0000\u0000\u0000\u0000\u0000\u0000\u0000\u0000\u0000\u0000\u0000\u0000\u0000\u0000\u001b\u0000\u0000\u0000\u0004\u0000\u0000\u0000@\u0000\u0000\u0000\u0000\u0000\u0000\u0000\u0000\u0000\u0000\u0000\u0000\u0000\u0000\u0000�\u0001\u0000\u0000\u0000\u0000\u0000\u00000\u0000\u0000\u0000\u0000\u0000\u0000\u0000\u000b\u0000\u0000\u0000\u0001\u0000\u0000\u0000\b\u0000\u0000\u0000\u0000\u0000\u0000\u0000\u0018\u0000\u0000\u0000\u0000\u0000\u0000\u0000&\u0000\u0000\u0000\u0001\u0000\u0000\u0000\u0003\u0000\u0000\u0000\u0000\u0000\u0000\u0000\u0000\u0000\u0000\u0000\u0000\u0000\u0000\u0000^\u0000\u0000\u0000\u0000\u0000\u0000\u0000\u0000\u0000\u0000\u0000\u0000\u0000\u0000\u0000\u0000\u0000\u0000\u0000\u0000\u0000\u0000\u0000\u0001\u0000\u0000\u0000\u0000\u0000\u0000\u0000\u0000\u0000\u0000\u0000\u0000\u0000\u0000\u0000,\u0000\u0000\u0000\b\u0000\u0000\u0000\u0003\u0000\u0000\u0000\u0000\u0000\u0000\u0000\u0000\u0000\u0000\u0000\u0000\u0000\u0000\u0000^\u0000\u0000\u0000\u0000\u0000\u0000\u0000\u0000\u0000\u0000\u0000\u0000\u0000\u0000\u0000\u0000\u0000\u0000\u0000\u0000\u0000\u0000\u0000\u0001\u0000\u0000\u0000\u0000\u0000\u0000\u0000\u0000\u0000\u0000\u0000\u0000\u0000\u0000\u00001\u0000\u0000\u0000\u0001\u0000\u0000\u0000\u0002\u0000\u0000\u0000\u0000\u0000\u0000\u0000\u0000\u0000\u0000\u0000\u0000\u0000\u0000\u0000^\u0000\u0000\u0000\u0000\u0000\u0000\u0000\u000e\u0000\u0000\u0000\u0000\u0000\u0000\u0000\u0000\u0000\u0000\u0000\u0000\u0000\u0000\u0000\u0001\u0000\u0000\u0000\u0000\u0000\u0000\u0000\u0000\u0000\u0000\u0000\u0000\u0000\u0000\u00009\u0000\u0000\u0000\u0001\u0000\u0000\u00000\u0000\u0000\u0000\u0000\u0000\u0000\u0000\u0000\u0000\u0000\u0000\u0000\u0000\u0000\u0000l\u0000\u0000\u0000\u0000\u0000\u0000\u0000,\u0000\u0000\u0000\u0000\u0000\u0000\u0000\u0000\u0000\u0000\u0000\u0000\u0000\u0000\u0000\u0001\u0000\u0000\u0000\u0000\u0000\u0000\u0000\u0001\u0000\u0000\u0000\u0000\u0000\u0000\u0000B\u0000\u0000\u0000\u0001\u0000\u0000\u0000\u0000\u0000\u0000\u0000\u0000\u0000\u0000\u0000\u0000\u0000\u0000\u0000\u0000\u0000\u0000\u0000�\u0000\u0000\u0000\u0000\u0000\u0000\u0000\u0000\u0000\u0000\u0000\u0000\u0000\u0000\u0000\u0000\u0000\u0000\u0000\u0000\u0000\u0000\u0000\u0001\u0000\u0000\u0000\u0000\u0000\u0000\u0000\u0000\u0000\u0000\u0000\u0000\u0000\u0000\u0000R\u0000\u0000\u0000\u0007\u0000\u0000\u0000\u0002\u0000\u0000\u0000\u0000\u0000\u0000\u0000\u0000\u0000\u0000\u0000\u0000\u0000\u0000\u0000�\u0000\u0000\u0000\u0000\u0000\u0000\u0000 \u0000\u0000\u0000\u0000\u0000\u0000\u0000\u0000\u0000\u0000\u0000\u0000\u0000\u0000\u0000\b\u0000\u0000\u0000\u0000\u0000\u0000\u0000\u0000\u0000\u0000\u0000\u0000\u0000\u0000\u0000j\u0000\u0000\u0000\u0001\u0000\u0000\u0000\u0002\u0000\u0000\u0000\u0000\u0000\u0000\u0000\u0000\u0000\u0000\u0000\u0000\u0000\u0000\u0000�\u0000\u0000\u0000\u0000\u0000\u0000\u00008\u0000\u0000\u0000\u0000\u0000\u0000\u0000\u0000\u0000\u0000\u0000\u0000\u0000\u0000\u0000\b\u0000\u0000\u0000\u0000\u0000\u0000\u0000\u0000\u0000\u0000\u0000\u0000\u0000\u0000\u0000e\u0000\u0000\u0000\u0004\u0000\u0000\u0000@\u0000\u0000\u0000\u0000\u0000\u0000\u0000\u0000\u0000\u0000\u0000\u0000\u0000\u0000\u0000�\u0001\u0000\u0000\u0000\u0000\u0000\u0000\u0018\u0000\u0000\u0000\u0000\u0000\u0000\u0000\u000b\u0000\u0000\u0000\t\u0000\u0000\u0000\b\u0000\u0000\u0000\u0000\u0000\u0000\u0000\u0018\u0000\u0000\u0000\u0000\u0000\u0000\u0000\u0001\u0000\u0000\u0000\u0002\u0000\u0000\u0000\u0000\u0000\u0000\u0000\u0000\u0000\u0000\u0000\u0000\u0000\u0000\u0000\u0000\u0000\u0000\u0000�\u0000\u0000\u0000\u0000\u0000\u0000\u0000�\u0000\u0000\u0000\u0000\u0000\u0000\u0000\f\u0000\u0000\u0000\u0004\u0000\u0000\u0000\b\u0000\u0000\u0000\u0000\u0000\u0000\u0000\u0018\u0000\u0000\u0000\u0000\u0000\u0000\u0000\t\u0000\u0000\u0000\u0003\u0000\u0000\u0000\u0000\u0000\u0000\u0000\u0000\u0000\u0000\u0000\u0000\u0000\u0000\u0000\u0000\u0000\u0000\u0000�\u0001\u0000\u0000\u0000\u0000\u0000\u0000\u0013\u0000\u0000\u0000\u0000\u0000\u0000\u0000\u0000\u0000\u0000\u0000\u0000\u0000\u0000\u0000\u0001\u0000\u0000\u0000\u0000\u0000\u0000\u0000\u0000\u0000\u0000\u0000\u0000\u0000\u0000\u0000\u0011\u0000\u0000\u0000\u0003\u0000\u0000\u0000\u0000\u0000\u0000\u0000\u0000\u0000\u0000\u0000\u0000\u0000\u0000\u0000\u0000\u0000\u0000\u0000�\u0001\u0000\u0000\u0000\u0000\u0000\u0000t\u0000\u0000\u0000\u0000\u0000\u0000\u0000\u0000\u0000\u0000\u0000\u0000\u0000\u0000\u0000\u0001\u0000\u0000\u0000\u0000\u0000\u0000\u0000\u0000\u0000\u0000\u0000\u0000\u0000\u0000\u0000"
          ]
        }
      ]
    },
    {
      "cell_type": "markdown",
      "source": [
        "**Linking**: This is the final phase in which all the linking of function calls with their definitions is done. Linker knows where all these functions are implemented. Linker does some extra work also, it adds some extra code to our program which is required when the program starts and ends. For example, there is a code that is required for setting up the environment like passing command line arguments."
      ],
      "metadata": {
        "id": "CH9sa7FXE90p"
      }
    },
    {
      "cell_type": "markdown",
      "source": [
        "The linker creates the final executable, in binary, and can play two roles:\n",
        "\n",
        "* linking all the source files together, that is all the other object codes in the project. For example, if I want to compile main.c with another file called secondary.c and make them into one single program, this is the step where the object code of secondary.c (that is secondary.o) will be linked to the main.c object code (main.o).\n",
        "* linking function calls with their definitions. The linker knows where to look for the function definitions in the static libraries or dynamic libraries. Static libraries are “the result of the linker making copy of all used library functions to the executable file”, according to geeksforgeeks.org, and dynamic libraries “don’t require the code to be copied, it is done by just placing the name of the library in the binary file”. Note that gcc uses by default dynamic libraries."
      ],
      "metadata": {
        "id": "Vs-KQQ5pHRBV"
      }
    },
    {
      "cell_type": "code",
      "source": [
        "!ls hello2*"
      ],
      "metadata": {
        "colab": {
          "base_uri": "https://localhost:8080/"
        },
        "id": "UoS9aQ02FHK2",
        "outputId": "f489a8e4-0f32-4c29-c974-014a82436dbf"
      },
      "execution_count": null,
      "outputs": [
        {
          "output_type": "stream",
          "name": "stdout",
          "text": [
            "hello2\thello2.c  hello2.i  hello2.o  hello2.s\n"
          ]
        }
      ]
    },
    {
      "cell_type": "code",
      "source": [
        "!cat hello2"
      ],
      "metadata": {
        "colab": {
          "base_uri": "https://localhost:8080/"
        },
        "id": "0Ggim1hWFL4J",
        "outputId": "f0779fec-a1ec-47c6-b901-ae15b47cbfa9"
      },
      "execution_count": null,
      "outputs": [
        {
          "output_type": "stream",
          "name": "stdout",
          "text": [
            "ELF\u0002\u0001\u0001\u0000\u0000\u0000\u0000\u0000\u0000\u0000\u0000\u0000\u0003\u0000>\u0000\u0001\u0000\u0000\u0000`\u0010\u0000\u0000\u0000\u0000\u0000\u0000@\u0000\u0000\u0000\u0000\u0000\u0000\u0000�6\u0000\u0000\u0000\u0000\u0000\u0000\u0000\u0000\u0000\u0000@\u00008\u0000\r\u0000@\u0000\u001f\u0000\u001e\u0000\u0006\u0000\u0000\u0000\u0004\u0000\u0000\u0000@\u0000\u0000\u0000\u0000\u0000\u0000\u0000@\u0000\u0000\u0000\u0000\u0000\u0000\u0000@\u0000\u0000\u0000\u0000\u0000\u0000\u0000�\u0002\u0000\u0000\u0000\u0000\u0000\u0000�\u0002\u0000\u0000\u0000\u0000\u0000\u0000\b\u0000\u0000\u0000\u0000\u0000\u0000\u0000\u0003\u0000\u0000\u0000\u0004\u0000\u0000\u0000\u0018\u0003\u0000\u0000\u0000\u0000\u0000\u0000\u0018\u0003\u0000\u0000\u0000\u0000\u0000\u0000\u0018\u0003\u0000\u0000\u0000\u0000\u0000\u0000\u001c\u0000\u0000\u0000\u0000\u0000\u0000\u0000\u001c\u0000\u0000\u0000\u0000\u0000\u0000\u0000\u0001\u0000\u0000\u0000\u0000\u0000\u0000\u0000\u0001\u0000\u0000\u0000\u0004\u0000\u0000\u0000\u0000\u0000\u0000\u0000\u0000\u0000\u0000\u0000\u0000\u0000\u0000\u0000\u0000\u0000\u0000\u0000\u0000\u0000\u0000\u0000\u0000\u0000\u0000\u0000(\u0006\u0000\u0000\u0000\u0000\u0000\u0000(\u0006\u0000\u0000\u0000\u0000\u0000\u0000\u0000\u0010\u0000\u0000\u0000\u0000\u0000\u0000\u0001\u0000\u0000\u0000\u0005\u0000\u0000\u0000\u0000\u0010\u0000\u0000\u0000\u0000\u0000\u0000\u0000\u0010\u0000\u0000\u0000\u0000\u0000\u0000\u0000\u0010\u0000\u0000\u0000\u0000\u0000\u0000�\u0001\u0000\u0000\u0000\u0000\u0000\u0000�\u0001\u0000\u0000\u0000\u0000\u0000\u0000\u0000\u0010\u0000\u0000\u0000\u0000\u0000\u0000\u0001\u0000\u0000\u0000\u0004\u0000\u0000\u0000\u0000 \u0000\u0000\u0000\u0000\u0000\u0000\u0000 \u0000\u0000\u0000\u0000\u0000\u0000\u0000 \u0000\u0000\u0000\u0000\u0000\u0000\u0014\u0001\u0000\u0000\u0000\u0000\u0000\u0000\u0014\u0001\u0000\u0000\u0000\u0000\u0000\u0000\u0000\u0010\u0000\u0000\u0000\u0000\u0000\u0000\u0001\u0000\u0000\u0000\u0006\u0000\u0000\u0000�-\u0000\u0000\u0000\u0000\u0000\u0000�=\u0000\u0000\u0000\u0000\u0000\u0000�=\u0000\u0000\u0000\u0000\u0000\u0000X\u0002\u0000\u0000\u0000\u0000\u0000\u0000`\u0002\u0000\u0000\u0000\u0000\u0000\u0000\u0000\u0010\u0000\u0000\u0000\u0000\u0000\u0000\u0002\u0000\u0000\u0000\u0006\u0000\u0000\u0000�-\u0000\u0000\u0000\u0000\u0000\u0000�=\u0000\u0000\u0000\u0000\u0000\u0000�=\u0000\u0000\u0000\u0000\u0000\u0000�\u0001\u0000\u0000\u0000\u0000\u0000\u0000�\u0001\u0000\u0000\u0000\u0000\u0000\u0000\b\u0000\u0000\u0000\u0000\u0000\u0000\u0000\u0004\u0000\u0000\u0000\u0004\u0000\u0000\u00008\u0003\u0000\u0000\u0000\u0000\u0000\u00008\u0003\u0000\u0000\u0000\u0000\u0000\u00008\u0003\u0000\u0000\u0000\u0000\u0000\u00000\u0000\u0000\u0000\u0000\u0000\u0000\u00000\u0000\u0000\u0000\u0000\u0000\u0000\u0000\b\u0000\u0000\u0000\u0000\u0000\u0000\u0000\u0004\u0000\u0000\u0000\u0004\u0000\u0000\u0000h\u0003\u0000\u0000\u0000\u0000\u0000\u0000h\u0003\u0000\u0000\u0000\u0000\u0000\u0000h\u0003\u0000\u0000\u0000\u0000\u0000\u0000D\u0000\u0000\u0000\u0000\u0000\u0000\u0000D\u0000\u0000\u0000\u0000\u0000\u0000\u0000\u0004\u0000\u0000\u0000\u0000\u0000\u0000\u0000S�td\u0004\u0000\u0000\u00008\u0003\u0000\u0000\u0000\u0000\u0000\u00008\u0003\u0000\u0000\u0000\u0000\u0000\u00008\u0003\u0000\u0000\u0000\u0000\u0000\u00000\u0000\u0000\u0000\u0000\u0000\u0000\u00000\u0000\u0000\u0000\u0000\u0000\u0000\u0000\b\u0000\u0000\u0000\u0000\u0000\u0000\u0000P�td\u0004\u0000\u0000\u00004 \u0000\u0000\u0000\u0000\u0000\u00004 \u0000\u0000\u0000\u0000\u0000\u00004 \u0000\u0000\u0000\u0000\u0000\u00004\u0000\u0000\u0000\u0000\u0000\u0000\u00004\u0000\u0000\u0000\u0000\u0000\u0000\u0000\u0004\u0000\u0000\u0000\u0000\u0000\u0000\u0000Q�td\u0006\u0000\u0000\u0000\u0000\u0000\u0000\u0000\u0000\u0000\u0000\u0000\u0000\u0000\u0000\u0000\u0000\u0000\u0000\u0000\u0000\u0000\u0000\u0000\u0000\u0000\u0000\u0000\u0000\u0000\u0000\u0000\u0000\u0000\u0000\u0000\u0000\u0000\u0000\u0000\u0000\u0000\u0000\u0000\u0010\u0000\u0000\u0000\u0000\u0000\u0000\u0000R�td\u0004\u0000\u0000\u0000�-\u0000\u0000\u0000\u0000\u0000\u0000�=\u0000\u0000\u0000\u0000\u0000\u0000�=\u0000\u0000\u0000\u0000\u0000\u0000H\u0002\u0000\u0000\u0000\u0000\u0000\u0000H\u0002\u0000\u0000\u0000\u0000\u0000\u0000\u0001\u0000\u0000\u0000\u0000\u0000\u0000\u0000/lib64/ld-linux-x86-64.so.2\u0000\u0000\u0000\u0000\u0000\u0004\u0000\u0000\u0000 \u0000\u0000\u0000\u0005\u0000\u0000\u0000GNU\u0000\u0002\u0000\u0000�\u0004\u0000\u0000\u0000\u0003\u0000\u0000\u0000\u0000\u0000\u0000\u0000\u0002�\u0000�\u0004\u0000\u0000\u0000\u0001\u0000\u0000\u0000\u0000\u0000\u0000\u0000\u0004\u0000\u0000\u0000\u0014\u0000\u0000\u0000\u0003\u0000\u0000\u0000GNU\u0000�\u001c�s\f\u0018��\u000b;���\u0017�c��j\u0004\u0000\u0000\u0000\u0010\u0000\u0000\u0000\u0001\u0000\u0000\u0000GNU\u0000\u0000\u0000\u0000\u0000\u0003\u0000\u0000\u0000\u0002\u0000\u0000\u0000\u0000\u0000\u0000\u0000\u0000\u0000\u0000\u0000\u0002\u0000\u0000\u0000\u0006\u0000\u0000\u0000\u0001\u0000\u0000\u0000\u0006\u0000\u0000\u0000\u0000\u0000�\u0000\u0000\u0000\u0000\u0000\u0006\u0000\u0000\u0000\u0000\u0000\u0000\u0000�e�m\u0000\u0000\u0000\u0000\u0000\u0000\u0000\u0000\u0000\u0000\u0000\u0000\u0000\u0000\u0000\u0000\u0000\u0000\u0000\u0000\u0000\u0000\u0000\u0000\u0000\u0000\u0000\u0000\u0010\u0000\u0000\u0000\u0012\u0000\u0000\u0000\u0000\u0000\u0000\u0000\u0000\u0000\u0000\u0000\u0000\u0000\u0000\u0000\u0000\u0000\u0000\u0000J\u0000\u0000\u0000 \u0000\u0000\u0000\u0000\u0000\u0000\u0000\u0000\u0000\u0000\u0000\u0000\u0000\u0000\u0000\u0000\u0000\u0000\u0000\"\u0000\u0000\u0000\u0012\u0000\u0000\u0000\u0000\u0000\u0000\u0000\u0000\u0000\u0000\u0000\u0000\u0000\u0000\u0000\u0000\u0000\u0000\u0000f\u0000\u0000\u0000 \u0000\u0000\u0000\u0000\u0000\u0000\u0000\u0000\u0000\u0000\u0000\u0000\u0000\u0000\u0000\u0000\u0000\u0000\u0000u\u0000\u0000\u0000 \u0000\u0000\u0000\u0000\u0000\u0000\u0000\u0000\u0000\u0000\u0000\u0000\u0000\u0000\u0000\u0000\u0000\u0000\u0000\u0001\u0000\u0000\u0000\"\u0000\u0000\u0000\u0000\u0000\u0000\u0000\u0000\u0000\u0000\u0000\u0000\u0000\u0000\u0000\u0000\u0000\u0000\u0000\u0000__cxa_finalize\u0000__libc_start_main\u0000printf\u0000libc.so.6\u0000GLIBC_2.2.5\u0000GLIBC_2.34\u0000_ITM_deregisterTMCloneTable\u0000__gmon_start__\u0000_ITM_registerTMCloneTable\u0000\u0000\u0000\u0000\u0002\u0000\u0001\u0000\u0003\u0000\u0001\u0000\u0001\u0000\u0003\u0000\u0000\u0000\u0001\u0000\u0002\u0000)\u0000\u0000\u0000\u0010\u0000\u0000\u0000\u0000\u0000\u0000\u0000u\u001ai\t\u0000\u0000\u0003\u00003\u0000\u0000\u0000\u0010\u0000\u0000\u0000���\u0006\u0000\u0000\u0002\u0000?\u0000\u0000\u0000\u0000\u0000\u0000\u0000�=\u0000\u0000\u0000\u0000\u0000\u0000\b\u0000\u0000\u0000\u0000\u0000\u0000\u0000@\u0011\u0000\u0000\u0000\u0000\u0000\u0000�=\u0000\u0000\u0000\u0000\u0000\u0000\b\u0000\u0000\u0000\u0000\u0000\u0000\u0000\u0000\u0011\u0000\u0000\u0000\u0000\u0000\u0000\b@\u0000\u0000\u0000\u0000\u0000\u0000\b\u0000\u0000\u0000\u0000\u0000\u0000\u0000\b@\u0000\u0000\u0000\u0000\u0000\u0000�?\u0000\u0000\u0000\u0000\u0000\u0000\u0006\u0000\u0000\u0000\u0001\u0000\u0000\u0000\u0000\u0000\u0000\u0000\u0000\u0000\u0000\u0000�?\u0000\u0000\u0000\u0000\u0000\u0000\u0006\u0000\u0000\u0000\u0002\u0000\u0000\u0000\u0000\u0000\u0000\u0000\u0000\u0000\u0000\u0000�?\u0000\u0000\u0000\u0000\u0000\u0000\u0006\u0000\u0000\u0000\u0004\u0000\u0000\u0000\u0000\u0000\u0000\u0000\u0000\u0000\u0000\u0000�?\u0000\u0000\u0000\u0000\u0000\u0000\u0006\u0000\u0000\u0000\u0005\u0000\u0000\u0000\u0000\u0000\u0000\u0000\u0000\u0000\u0000\u0000�?\u0000\u0000\u0000\u0000\u0000\u0000\u0006\u0000\u0000\u0000\u0006\u0000\u0000\u0000\u0000\u0000\u0000\u0000\u0000\u0000\u0000\u0000�?\u0000\u0000\u0000\u0000\u0000\u0000\u0007\u0000\u0000\u0000\u0003\u0000\u0000\u0000\u0000\u0000\u0000\u0000\u0000\u0000\u0000\u0000\u0000\u0000\u0000\u0000\u0000\u0000\u0000\u0000\u0000\u0000\u0000\u0000\u0000\u0000\u0000\u0000\u0000\u0000\u0000\u0000\u0000\u0000\u0000\u0000\u0000\u0000\u0000\u0000\u0000\u0000\u0000\u0000\u0000\u0000\u0000\u0000\u0000\u0000\u0000\u0000\u0000\u0000\u0000\u0000\u0000\u0000\u0000\u0000\u0000\u0000\u0000\u0000\u0000\u0000\u0000\u0000\u0000\u0000\u0000\u0000\u0000\u0000\u0000\u0000\u0000\u0000\u0000\u0000\u0000\u0000\u0000\u0000\u0000\u0000\u0000\u0000\u0000\u0000\u0000\u0000\u0000\u0000\u0000\u0000\u0000\u0000\u0000\u0000\u0000\u0000\u0000\u0000\u0000\u0000\u0000\u0000\u0000\u0000\u0000\u0000\u0000\u0000\u0000\u0000\u0000\u0000\u0000\u0000\u0000\u0000\u0000\u0000\u0000\u0000\u0000\u0000\u0000\u0000\u0000\u0000\u0000\u0000\u0000\u0000\u0000\u0000\u0000\u0000\u0000\u0000\u0000\u0000\u0000\u0000\u0000\u0000\u0000\u0000\u0000\u0000\u0000\u0000\u0000\u0000\u0000\u0000\u0000\u0000\u0000\u0000\u0000\u0000\u0000\u0000\u0000\u0000\u0000\u0000\u0000\u0000\u0000\u0000\u0000\u0000\u0000\u0000\u0000\u0000\u0000\u0000\u0000\u0000\u0000\u0000\u0000\u0000\u0000\u0000\u0000\u0000\u0000\u0000\u0000\u0000\u0000\u0000\u0000\u0000\u0000\u0000\u0000\u0000\u0000\u0000\u0000\u0000\u0000\u0000\u0000\u0000\u0000\u0000\u0000\u0000\u0000\u0000\u0000\u0000\u0000\u0000\u0000\u0000\u0000\u0000\u0000\u0000\u0000\u0000\u0000\u0000\u0000\u0000\u0000\u0000\u0000\u0000\u0000\u0000\u0000\u0000\u0000\u0000\u0000\u0000\u0000\u0000\u0000\u0000\u0000\u0000\u0000\u0000\u0000\u0000\u0000\u0000\u0000\u0000\u0000\u0000\u0000\u0000\u0000\u0000\u0000\u0000\u0000\u0000\u0000\u0000\u0000\u0000\u0000\u0000\u0000\u0000\u0000\u0000\u0000\u0000\u0000\u0000\u0000\u0000\u0000\u0000\u0000\u0000\u0000\u0000\u0000\u0000\u0000\u0000\u0000\u0000\u0000\u0000\u0000\u0000\u0000\u0000\u0000\u0000\u0000\u0000\u0000\u0000\u0000\u0000\u0000\u0000\u0000\u0000\u0000\u0000\u0000\u0000\u0000\u0000\u0000\u0000\u0000\u0000\u0000\u0000\u0000\u0000\u0000\u0000\u0000\u0000\u0000\u0000\u0000\u0000\u0000\u0000\u0000\u0000\u0000\u0000\u0000\u0000\u0000\u0000\u0000\u0000\u0000\u0000\u0000\u0000\u0000\u0000\u0000\u0000\u0000\u0000\u0000\u0000\u0000\u0000\u0000\u0000\u0000\u0000\u0000\u0000\u0000\u0000\u0000\u0000\u0000\u0000\u0000\u0000\u0000\u0000\u0000\u0000\u0000\u0000\u0000\u0000\u0000\u0000\u0000\u0000\u0000\u0000\u0000\u0000\u0000\u0000\u0000\u0000\u0000\u0000\u0000\u0000\u0000\u0000\u0000\u0000\u0000\u0000\u0000\u0000\u0000\u0000\u0000\u0000\u0000\u0000\u0000\u0000\u0000\u0000\u0000\u0000\u0000\u0000\u0000\u0000\u0000\u0000\u0000\u0000\u0000\u0000\u0000\u0000\u0000\u0000\u0000\u0000\u0000\u0000\u0000\u0000\u0000\u0000\u0000\u0000\u0000\u0000\u0000\u0000\u0000\u0000\u0000\u0000\u0000\u0000\u0000\u0000\u0000\u0000\u0000\u0000\u0000\u0000\u0000\u0000\u0000\u0000\u0000\u0000\u0000\u0000\u0000\u0000\u0000\u0000\u0000\u0000\u0000\u0000\u0000\u0000\u0000\u0000\u0000\u0000\u0000\u0000\u0000\u0000\u0000\u0000\u0000\u0000\u0000\u0000\u0000\u0000\u0000\u0000\u0000\u0000\u0000\u0000\u0000\u0000\u0000\u0000\u0000\u0000\u0000\u0000\u0000\u0000\u0000\u0000\u0000\u0000\u0000\u0000\u0000\u0000\u0000\u0000\u0000\u0000\u0000\u0000\u0000\u0000\u0000\u0000\u0000\u0000\u0000\u0000\u0000\u0000\u0000\u0000\u0000\u0000\u0000\u0000\u0000\u0000\u0000\u0000\u0000\u0000\u0000\u0000\u0000\u0000\u0000\u0000\u0000\u0000\u0000\u0000\u0000\u0000\u0000\u0000\u0000\u0000\u0000\u0000\u0000\u0000\u0000\u0000\u0000\u0000\u0000\u0000\u0000\u0000\u0000\u0000\u0000\u0000\u0000\u0000\u0000\u0000\u0000\u0000\u0000\u0000\u0000\u0000\u0000\u0000\u0000\u0000\u0000\u0000\u0000\u0000\u0000\u0000\u0000\u0000\u0000\u0000\u0000\u0000\u0000\u0000\u0000\u0000\u0000\u0000\u0000\u0000\u0000\u0000\u0000\u0000\u0000\u0000\u0000\u0000\u0000\u0000\u0000\u0000\u0000\u0000\u0000\u0000\u0000\u0000\u0000\u0000\u0000\u0000\u0000\u0000\u0000\u0000\u0000\u0000\u0000\u0000\u0000\u0000\u0000\u0000\u0000\u0000\u0000\u0000\u0000\u0000\u0000\u0000\u0000\u0000\u0000\u0000\u0000\u0000\u0000\u0000\u0000\u0000\u0000\u0000\u0000\u0000\u0000\u0000\u0000\u0000\u0000\u0000\u0000\u0000\u0000\u0000\u0000\u0000\u0000\u0000\u0000\u0000\u0000\u0000\u0000\u0000\u0000\u0000\u0000\u0000\u0000\u0000\u0000\u0000\u0000\u0000\u0000\u0000\u0000\u0000\u0000\u0000\u0000\u0000\u0000\u0000\u0000\u0000\u0000\u0000\u0000\u0000\u0000\u0000\u0000\u0000\u0000\u0000\u0000\u0000\u0000\u0000\u0000\u0000\u0000\u0000\u0000\u0000\u0000\u0000\u0000\u0000\u0000\u0000\u0000\u0000\u0000\u0000\u0000\u0000\u0000\u0000\u0000\u0000\u0000\u0000\u0000\u0000\u0000\u0000\u0000\u0000\u0000\u0000\u0000\u0000\u0000\u0000\u0000\u0000\u0000\u0000\u0000\u0000\u0000\u0000\u0000\u0000\u0000\u0000\u0000\u0000\u0000\u0000\u0000\u0000\u0000\u0000\u0000\u0000\u0000\u0000\u0000\u0000\u0000\u0000\u0000\u0000\u0000\u0000\u0000\u0000\u0000\u0000\u0000\u0000\u0000\u0000\u0000\u0000\u0000\u0000\u0000\u0000\u0000\u0000\u0000\u0000\u0000\u0000\u0000\u0000\u0000\u0000\u0000\u0000\u0000\u0000\u0000\u0000\u0000\u0000\u0000\u0000\u0000\u0000\u0000\u0000\u0000\u0000\u0000\u0000\u0000\u0000\u0000\u0000\u0000\u0000\u0000\u0000\u0000\u0000\u0000\u0000\u0000\u0000\u0000\u0000\u0000\u0000\u0000\u0000\u0000\u0000\u0000\u0000\u0000\u0000\u0000\u0000\u0000\u0000\u0000\u0000\u0000\u0000\u0000\u0000\u0000\u0000\u0000\u0000\u0000\u0000\u0000\u0000\u0000\u0000\u0000\u0000\u0000\u0000\u0000\u0000\u0000\u0000\u0000\u0000\u0000\u0000\u0000\u0000\u0000\u0000\u0000\u0000\u0000\u0000\u0000\u0000\u0000\u0000\u0000\u0000\u0000\u0000\u0000\u0000\u0000\u0000\u0000\u0000\u0000\u0000\u0000\u0000\u0000\u0000\u0000\u0000\u0000\u0000\u0000\u0000\u0000\u0000\u0000\u0000\u0000\u0000\u0000\u0000\u0000\u0000\u0000\u0000\u0000\u0000\u0000\u0000\u0000\u0000\u0000\u0000\u0000\u0000\u0000\u0000\u0000\u0000\u0000\u0000\u0000\u0000\u0000\u0000\u0000\u0000\u0000\u0000\u0000\u0000\u0000\u0000\u0000\u0000\u0000\u0000\u0000\u0000\u0000\u0000\u0000\u0000\u0000\u0000\u0000\u0000\u0000\u0000\u0000\u0000\u0000\u0000\u0000\u0000\u0000\u0000\u0000\u0000\u0000\u0000\u0000\u0000\u0000\u0000\u0000\u0000\u0000\u0000\u0000\u0000\u0000\u0000\u0000\u0000\u0000\u0000\u0000\u0000\u0000\u0000\u0000\u0000\u0000\u0000\u0000\u0000\u0000\u0000\u0000\u0000\u0000\u0000\u0000\u0000\u0000\u0000\u0000\u0000\u0000\u0000\u0000\u0000\u0000\u0000\u0000\u0000\u0000\u0000\u0000\u0000\u0000\u0000\u0000\u0000\u0000\u0000\u0000\u0000\u0000\u0000\u0000\u0000\u0000\u0000\u0000\u0000\u0000\u0000\u0000\u0000\u0000\u0000\u0000\u0000\u0000\u0000\u0000\u0000\u0000\u0000\u0000\u0000\u0000\u0000\u0000\u0000\u0000\u0000\u0000\u0000\u0000\u0000\u0000\u0000\u0000\u0000\u0000\u0000\u0000\u0000\u0000\u0000\u0000\u0000\u0000\u0000\u0000\u0000\u0000\u0000\u0000\u0000\u0000\u0000\u0000\u0000\u0000\u0000\u0000\u0000\u0000\u0000\u0000\u0000\u0000\u0000\u0000\u0000\u0000\u0000\u0000\u0000\u0000\u0000\u0000\u0000\u0000\u0000\u0000\u0000\u0000\u0000\u0000\u0000\u0000\u0000\u0000\u0000\u0000\u0000\u0000\u0000\u0000\u0000\u0000\u0000\u0000\u0000\u0000\u0000\u0000\u0000\u0000\u0000\u0000\u0000\u0000\u0000\u0000\u0000\u0000\u0000\u0000\u0000\u0000\u0000\u0000\u0000\u0000\u0000\u0000\u0000\u0000\u0000\u0000\u0000\u0000\u0000\u0000\u0000\u0000\u0000\u0000\u0000\u0000\u0000\u0000\u0000\u0000\u0000\u0000\u0000\u0000\u0000\u0000\u0000\u0000\u0000\u0000\u0000\u0000\u0000\u0000\u0000\u0000\u0000\u0000\u0000\u0000\u0000\u0000\u0000\u0000\u0000\u0000\u0000\u0000\u0000\u0000\u0000\u0000\u0000\u0000\u0000\u0000\u0000\u0000\u0000\u0000\u0000\u0000\u0000\u0000\u0000\u0000\u0000\u0000\u0000\u0000\u0000\u0000\u0000\u0000\u0000\u0000\u0000\u0000\u0000\u0000\u0000\u0000\u0000\u0000\u0000\u0000\u0000\u0000\u0000\u0000\u0000\u0000\u0000\u0000\u0000\u0000\u0000\u0000\u0000\u0000\u0000\u0000\u0000\u0000\u0000\u0000\u0000\u0000\u0000\u0000\u0000\u0000\u0000\u0000\u0000\u0000\u0000\u0000\u0000\u0000\u0000\u0000\u0000\u0000\u0000\u0000\u0000\u0000\u0000\u0000\u0000\u0000\u0000\u0000\u0000\u0000\u0000\u0000\u0000\u0000\u0000\u0000\u0000\u0000\u0000\u0000\u0000\u0000\u0000\u0000\u0000\u0000\u0000\u0000\u0000\u0000\u0000\u0000\u0000\u0000\u0000\u0000\u0000\u0000\u0000\u0000\u0000\u0000\u0000\u0000\u0000\u0000\u0000\u0000\u0000\u0000\u0000\u0000\u0000\u0000\u0000\u0000\u0000\u0000\u0000\u0000\u0000\u0000\u0000\u0000\u0000\u0000\u0000\u0000\u0000\u0000\u0000\u0000\u0000\u0000\u0000\u0000\u0000\u0000\u0000\u0000\u0000\u0000\u0000\u0000\u0000\u0000\u0000\u0000\u0000\u0000\u0000\u0000\u0000\u0000\u0000\u0000\u0000\u0000\u0000\u0000\u0000\u0000\u0000\u0000\u0000\u0000\u0000\u0000\u0000\u0000\u0000\u0000\u0000\u0000\u0000\u0000\u0000\u0000\u0000\u0000\u0000\u0000\u0000\u0000\u0000\u0000\u0000\u0000\u0000\u0000\u0000\u0000\u0000\u0000\u0000\u0000\u0000\u0000\u0000\u0000\u0000\u0000\u0000\u0000\u0000\u0000\u0000\u0000\u0000\u0000\u0000\u0000\u0000\u0000\u0000\u0000\u0000\u0000\u0000\u0000\u0000\u0000\u0000\u0000\u0000\u0000\u0000\u0000\u0000\u0000\u0000\u0000\u0000\u0000\u0000\u0000\u0000\u0000\u0000\u0000\u0000\u0000\u0000\u0000\u0000\u0000\u0000\u0000\u0000\u0000\u0000\u0000\u0000\u0000\u0000\u0000\u0000\u0000\u0000\u0000\u0000\u0000\u0000\u0000\u0000\u0000\u0000\u0000\u0000\u0000\u0000\u0000\u0000\u0000\u0000\u0000\u0000\u0000\u0000\u0000\u0000\u0000\u0000\u0000\u0000\u0000\u0000\u0000\u0000\u0000\u0000\u0000\u0000\u0000\u0000\u0000\u0000\u0000\u0000\u0000\u0000\u0000\u0000\u0000\u0000\u0000\u0000\u0000\u0000\u0000\u0000\u0000\u0000\u0000\u0000\u0000\u0000\u0000\u0000\u0000\u0000\u0000\u0000\u0000\u0000\u0000\u0000\u0000\u0000\u0000\u0000\u0000\u0000\u0000\u0000\u0000\u0000\u0000\u0000\u0000\u0000\u0000\u0000\u0000\u0000\u0000\u0000\u0000\u0000\u0000\u0000\u0000\u0000\u0000\u0000\u0000\u0000\u0000\u0000\u0000\u0000\u0000\u0000\u0000\u0000\u0000\u0000\u0000\u0000\u0000\u0000\u0000\u0000\u0000\u0000\u0000\u0000\u0000\u0000\u0000\u0000\u0000\u0000\u0000\u0000\u0000\u0000\u0000\u0000\u0000\u0000\u0000\u0000\u0000\u0000\u0000\u0000\u0000\u0000\u0000\u0000\u0000\u0000\u0000\u0000\u0000\u0000\u0000\u0000\u0000\u0000\u0000\u0000\u0000\u0000\u0000\u0000\u0000\u0000\u0000\u0000\u0000\u0000\u0000\u0000\u0000\u0000\u0000\u0000\u0000\u0000\u0000\u0000\u0000\u0000\u0000\u0000\u0000\u0000\u0000\u0000\u0000\u0000\u0000\u0000\u0000\u0000\u0000\u0000\u0000\u0000\u0000\u0000\u0000\u0000\u0000\u0000\u0000\u0000\u0000\u0000\u0000\u0000\u0000\u0000\u0000\u0000\u0000\u0000\u0000\u0000\u0000\u0000\u0000\u0000\u0000\u0000\u0000\u0000\u0000\u0000\u0000\u0000\u0000\u0000\u0000\u0000\u0000\u0000\u0000\u0000\u0000\u0000\u0000\u0000\u0000\u0000\u0000\u0000\u0000\u0000\u0000\u0000\u0000\u0000\u0000\u0000\u0000\u0000\u0000\u0000\u0000\u0000\u0000\u0000\u0000\u0000\u0000\u0000\u0000\u0000\u0000\u0000\u0000\u0000\u0000\u0000\u0000\u0000\u0000\u0000\u0000\u0000\u0000\u0000\u0000\u0000\u0000\u0000\u0000\u0000\u0000\u0000\u0000\u0000\u0000\u0000\u0000\u0000\u0000\u0000\u0000\u0000\u0000\u0000\u0000\u0000\u0000\u0000\u0000\u0000\u0000\u0000\u0000\u0000\u0000\u0000\u0000\u0000\u0000\u0000\u0000\u0000\u0000\u0000\u0000\u0000\u0000\u0000\u0000\u0000\u0000\u0000\u0000\u0000\u0000\u0000\u0000\u0000\u0000\u0000\u0000\u0000\u0000\u0000\u0000\u0000\u0000\u0000\u0000\u0000\u0000\u0000\u0000\u0000\u0000\u0000\u0000\u0000\u0000\u0000\u0000\u0000\u0000\u0000\u0000\u0000\u0000\u0000\u0000\u0000\u0000\u0000\u0000\u0000\u0000\u0000\u0000\u0000\u0000\u0000\u0000\u0000\u0000\u0000\u0000\u0000\u0000\u0000\u0000\u0000\u0000\u0000\u0000\u0000\u0000\u0000\u0000\u0000\u0000\u0000\u0000\u0000\u0000\u0000\u0000\u0000\u0000\u0000\u0000\u0000\u0000\u0000\u0000\u0000\u0000\u0000\u0000\u0000\u0000\u0000\u0000\u0000\u0000\u0000\u0000\u0000\u0000\u0000\u0000\u0000\u0000\u0000\u0000\u0000\u0000\u0000\u0000\u0000\u0000\u0000\u0000\u0000\u0000\u0000\u0000\u0000\u0000\u0000\u0000\u0000\u0000\u0000\u0000\u0000\u0000\u0000\u0000\u0000\u0000\u0000\u0000\u0000\u0000\u0000\u0000\u0000\u0000\u0000\u0000\u0000\u0000\u0000\u0000\u0000\u0000\u0000\u0000\u0000\u0000\u0000\u0000\u0000\u0000\u0000\u0000\u0000\u0000\u0000\u0000\u0000\u0000\u0000\u0000\u0000\u0000\u0000\u0000\u0000\u0000\u0000\u0000\u0000\u0000\u0000\u0000\u0000\u0000\u0000\u0000\u0000\u0000\u0000\u0000\u0000\u0000\u0000\u0000\u0000\u0000\u0000\u0000\u0000\u0000\u0000\u0000\u0000\u0000\u0000\u0000\u0000\u0000\u0000\u0000\u0000\u0000\u0000\u0000\u0000\u0000\u0000\u0000\u0000\u0000\u0000\u0000\u0000\u0000\u0000\u0000\u0000\u0000\u0000\u0000\u0000\u0000\u0000\u0000\u0000\u0000\u0000\u0000\u0000\u0000\u0000\u0000\u0000\u0000\u0000\u0000\u0000\u0000\u0000\u0000\u0000\u0000\u0000\u0000\u0000\u0000\u0000\u0000\u0000\u0000\u0000\u0000\u0000\u0000\u0000\u0000\u0000\u0000\u0000\u0000\u0000\u0000\u0000\u0000\u0000\u0000\u0000\u0000\u0000\u0000\u0000\u0000\u0000\u0000\u0000\u0000\u0000\u0000\u0000\u0000\u0000\u0000\u0000\u0000\u0000\u0000\u0000\u0000\u0000\u0000\u0000\u0000\u0000\u0000\u0000\u0000\u0000\u0000\u0000\u0000\u0000\u0000\u0000\u0000\u0000\u0000\u0000\u0000\u0000\u0000\u0000\u0000\u0000\u0000\u0000\u0000\u0000\u0000\u0000\u0000\u0000\u0000\u0000\u0000\u0000\u0000\u0000\u0000\u0000\u0000\u0000\u0000\u0000\u0000\u0000\u0000\u0000\u0000\u0000\u0000\u0000\u0000\u0000\u0000\u0000\u0000\u0000\u0000\u0000\u0000\u0000\u0000\u0000\u0000\u0000\u0000\u0000\u0000\u0000\u0000\u0000\u0000\u0000\u0000\u0000\u0000\u0000\u0000\u0000\u0000\u0000\u0000\u0000\u0000\u0000\u0000\u0000\u0000\u0000\u0000\u0000\u0000\u0000\u0000\u0000\u0000\u0000\u0000\u0000\u0000\u0000\u0000\u0000\u0000\u0000\u0000\u0000\u0000\u0000\u0000\u0000\u0000\u0000\u0000\u0000\u0000\u0000\u0000\u0000\u0000\u0000\u0000\u0000\u0000\u0000\u0000\u0000\u0000\u0000\u0000\u0000\u0000\u0000\u0000\u0000\u0000\u0000\u0000\u0000\u0000\u0000\u0000\u0000\u0000\u0000\u0000\u0000\u0000\u0000\u0000\u0000\u0000\u0000\u0000\u0000\u0000\u0000\u0000\u0000\u0000\u0000\u0000\u0000\u0000\u0000\u0000\u0000\u0000\u0000\u0000\u0000\u0000\u0000\u0000\u0000\u0000\u0000\u0000\u0000\u0000\u0000\u0000\u0000\u0000\u0000\u0000\u0000\u0000\u0000\u0000\u0000\u0000\u0000\u0000\u0000\u0000\u0000\u0000\u0000\u0000\u0000\u0000\u0000\u0000\u0000\u0000\u0000\u0000\u0000\u0000\u0000\u0000\u0000\u0000\u0000\u0000\u0000\u0000\u0000\u0000\u0000\u0000\u0000\u0000\u0000\u0000\u0000\u0000\u0000\u0000\u0000\u0000\u0000\u0000\u0000\u0000\u0000\u0000\u0000\u0000\u0000\u0000\u0000\u0000\u0000\u0000\u0000\u0000\u0000\u0000\u0000\u0000\u0000\u0000\u0000\u0000\u0000\u0000\u0000\u0000\u0000\u0000\u0000\u0000\u0000\u0000\u0000\u0000\u0000\u0000\u0000\u0000\u0000\u0000\u0000\u0000\u0000\u0000\u0000\u0000\u0000\u0000\u0000\u0000\u0000\u0000\u0000\u0000\u0000\u0000\u0000\u0000\u0000\u0000\u0000\u0000\u0000\u0000\u0000\u0000\u0000\u0000\u0000\u0000\u0000\u0000\u0000\u0000\u0000\u0000\u0000\u0000\u0000\u0000\u0000\u0000\u0000\u0000\u0000\u0000\u0000\u0000\u0000\u0000\u0000\u0000\u0000\u0000\u0000\u0000\u0000\u0000\u0000\u0000\u0000\u0000\u0000\u0000\u0000\u0000\u0000\u0000\u0000\u0000\u0000\u0000\u0000\u0000\u0000\u0000\u0000\u0000\u0000\u0000\u0000\u0000\u0000\u0000\u0000\u0000\u0000\u0000\u0000\u0000\u0000\u0000\u0000\u0000\u0000\u0000\u0000\u0000\u0000\u0000\u0000\u0000\u0000\u0000\u0000\u0000\u0000\u0000\u0000\u0000\u0000\u0000\u0000\u0000\u0000\u0000\u0000\u0000\u0000\u0000\u0000\u0000\u0000\u0000\u0000\u0000\u0000\u0000\u0000\u0000\u0000\u0000\u0000\u0000\u0000\u0000\u0000\u0000\u0000\u0000\u0000�\u000f\u001e�H��\bH�\u0005�/\u0000\u0000H��t\u0002��H��\b�\u0000\u0000\u0000\u0000\u0000�5�/\u0000\u0000��%�/\u0000\u0000\u000f\u001f\u0000�\u000f\u001e�h\u0000\u0000\u0000\u0000��������\u000f\u001e���%�/\u0000\u0000\u000f\u001fD\u0000\u0000�\u000f\u001e���%u/\u0000\u0000\u000f\u001fD\u0000\u0000�\u000f\u001e�1�I��^H��H���PTE1�1�H�=�\u0000\u0000\u0000�\u0015S/\u0000\u0000�f.\u000f\u001f�\u0000\u0000\u0000\u0000\u0000H�=y/\u0000\u0000H�\u0005r/\u0000\u0000H9�t\u0015H�\u00056/\u0000\u0000H��t\t��\u000f\u001f�\u0000\u0000\u0000\u0000�\u000f\u001f�\u0000\u0000\u0000\u0000H�=I/\u0000\u0000H�5B/\u0000\u0000H)�H��H��?H��\u0003H\u0001�H��t\u0014H�\u0005\u0005/\u0000\u0000H��t\b��f\u000f\u001fD\u0000\u0000�\u000f\u001f�\u0000\u0000\u0000\u0000�\u000f\u001e��=\u0005/\u0000\u0000\u0000u+UH�=�.\u0000\u0000\u0000H��t\fH�=�.\u0000\u0000�\u0019����d����\u0005�.\u0000\u0000\u0001]�\u000f\u001f\u0000�\u000f\u001f�\u0000\u0000\u0000\u0000�\u000f\u001e��w����\u000f\u001e�UH��H��\u0010�E�\n",
            "\u0000\u0000\u0000�E�\u0000\u0000\u0000\u0000�E�\u0001\u0000\u0000\u0000�\n",
            "�E�\u0001E�E�\u0001�E�;E�~�U�E���H�\u0005{\u000e\u0000\u0000H�Ǹ\u0000\u0000\u0000\u0000�����\u0000\u0000\u0000\u0000��\u0000\u0000\u0000�\u000f\u001e�H��\bH��\b�\u0000\u0000\u0000\u0000\u0000\u0000\u0000\u0000\u0000\u0000\u0000\u0000\u0000\u0000\u0000\u0000\u0000\u0000\u0000\u0000\u0000\u0000\u0000\u0000\u0000\u0000\u0000\u0000\u0000\u0000\u0000\u0000\u0000\u0000\u0000\u0000\u0000\u0000\u0000\u0000\u0000\u0000\u0000\u0000\u0000\u0000\u0000\u0000\u0000\u0000\u0000\u0000\u0000\u0000\u0000\u0000\u0000\u0000\u0000\u0000\u0000\u0000\u0000\u0000\u0000\u0000\u0000\u0000\u0000\u0000\u0000\u0000\u0000\u0000\u0000\u0000\u0000\u0000\u0000\u0000\u0000\u0000\u0000\u0000\u0000\u0000\u0000\u0000\u0000\u0000\u0000\u0000\u0000\u0000\u0000\u0000\u0000\u0000\u0000\u0000\u0000\u0000\u0000\u0000\u0000\u0000\u0000\u0000\u0000\u0000\u0000\u0000\u0000\u0000\u0000\u0000\u0000\u0000\u0000\u0000\u0000\u0000\u0000\u0000\u0000\u0000\u0000\u0000\u0000\u0000\u0000\u0000\u0000\u0000\u0000\u0000\u0000\u0000\u0000\u0000\u0000\u0000\u0000\u0000\u0000\u0000\u0000\u0000\u0000\u0000\u0000\u0000\u0000\u0000\u0000\u0000\u0000\u0000\u0000\u0000\u0000\u0000\u0000\u0000\u0000\u0000\u0000\u0000\u0000\u0000\u0000\u0000\u0000\u0000\u0000\u0000\u0000\u0000\u0000\u0000\u0000\u0000\u0000\u0000\u0000\u0000\u0000\u0000\u0000\u0000\u0000\u0000\u0000\u0000\u0000\u0000\u0000\u0000\u0000\u0000\u0000\u0000\u0000\u0000\u0000\u0000\u0000\u0000\u0000\u0000\u0000\u0000\u0000\u0000\u0000\u0000\u0000\u0000\u0000\u0000\u0000\u0000\u0000\u0000\u0000\u0000\u0000\u0000\u0000\u0000\u0000\u0000\u0000\u0000\u0000\u0000\u0000\u0000\u0000\u0000\u0000\u0000\u0000\u0000\u0000\u0000\u0000\u0000\u0000\u0000\u0000\u0000\u0000\u0000\u0000\u0000\u0000\u0000\u0000\u0000\u0000\u0000\u0000\u0000\u0000\u0000\u0000\u0000\u0000\u0000\u0000\u0000\u0000\u0000\u0000\u0000\u0000\u0000\u0000\u0000\u0000\u0000\u0000\u0000\u0000\u0000\u0000\u0000\u0000\u0000\u0000\u0000\u0000\u0000\u0000\u0000\u0000\u0000\u0000\u0000\u0000\u0000\u0000\u0000\u0000\u0000\u0000\u0000\u0000\u0000\u0000\u0000\u0000\u0000\u0000\u0000\u0000\u0000\u0000\u0000\u0000\u0000\u0000\u0000\u0000\u0000\u0000\u0000\u0000\u0000\u0000\u0000\u0000\u0000\u0000\u0000\u0000\u0000\u0000\u0000\u0000\u0000\u0000\u0000\u0000\u0000\u0000\u0000\u0000\u0000\u0000\u0000\u0000\u0000\u0000\u0000\u0000\u0000\u0000\u0000\u0000\u0000\u0000\u0000\u0000\u0000\u0000\u0000\u0000\u0000\u0000\u0000\u0000\u0000\u0000\u0000\u0000\u0000\u0000\u0000\u0000\u0000\u0000\u0000\u0000\u0000\u0000\u0000\u0000\u0000\u0000\u0000\u0000\u0000\u0000\u0000\u0000\u0000\u0000\u0000\u0000\u0000\u0000\u0000\u0000\u0000\u0000\u0000\u0000\u0000\u0000\u0000\u0000\u0000\u0000\u0000\u0000\u0000\u0000\u0000\u0000\u0000\u0000\u0000\u0000\u0000\u0000\u0000\u0000\u0000\u0000\u0000\u0000\u0000\u0000\u0000\u0000\u0000\u0000\u0000\u0000\u0000\u0000\u0000\u0000\u0000\u0000\u0000\u0000\u0000\u0000\u0000\u0000\u0000\u0000\u0000\u0000\u0000\u0000\u0000\u0000\u0000\u0000\u0000\u0000\u0000\u0000\u0000\u0000\u0000\u0000\u0000\u0000\u0000\u0000\u0000\u0000\u0000\u0000\u0000\u0000\u0000\u0000\u0000\u0000\u0000\u0000\u0000\u0000\u0000\u0000\u0000\u0000\u0000\u0000\u0000\u0000\u0000\u0000\u0000\u0000\u0000\u0000\u0000\u0000\u0000\u0000\u0000\u0000\u0000\u0000\u0000\u0000\u0000\u0000\u0000\u0000\u0000\u0000\u0000\u0000\u0000\u0000\u0000\u0000\u0000\u0000\u0000\u0000\u0000\u0000\u0000\u0000\u0000\u0000\u0000\u0000\u0000\u0000\u0000\u0000\u0000\u0000\u0000\u0000\u0000\u0000\u0000\u0000\u0000\u0000\u0000\u0000\u0000\u0000\u0000\u0000\u0000\u0000\u0000\u0000\u0000\u0000\u0000\u0000\u0000\u0000\u0000\u0000\u0000\u0000\u0000\u0000\u0000\u0000\u0000\u0000\u0000\u0000\u0000\u0000\u0000\u0000\u0000\u0000\u0000\u0000\u0000\u0000\u0000\u0000\u0000\u0000\u0000\u0000\u0000\u0000\u0000\u0000\u0000\u0000\u0000\u0000\u0000\u0000\u0000\u0000\u0000\u0000\u0000\u0000\u0000\u0000\u0000\u0000\u0000\u0000\u0000\u0000\u0000\u0000\u0000\u0000\u0000\u0000\u0000\u0000\u0000\u0000\u0000\u0000\u0000\u0000\u0000\u0000\u0000\u0000\u0000\u0000\u0000\u0000\u0000\u0000\u0000\u0000\u0000\u0000\u0000\u0000\u0000\u0000\u0000\u0000\u0000\u0000\u0000\u0000\u0000\u0000\u0000\u0000\u0000\u0000\u0000\u0000\u0000\u0000\u0000\u0000\u0000\u0000\u0000\u0000\u0000\u0000\u0000\u0000\u0000\u0000\u0000\u0000\u0000\u0000\u0000\u0000\u0000\u0000\u0000\u0000\u0000\u0000\u0000\u0000\u0000\u0000\u0000\u0000\u0000\u0000\u0000\u0000\u0000\u0000\u0000\u0000\u0000\u0000\u0000\u0000\u0000\u0000\u0000\u0000\u0000\u0000\u0000\u0000\u0000\u0000\u0000\u0000\u0000\u0000\u0000\u0000\u0000\u0000\u0000\u0000\u0000\u0000\u0000\u0000\u0000\u0000\u0000\u0000\u0000\u0000\u0000\u0000\u0000\u0000\u0000\u0000\u0000\u0000\u0000\u0000\u0000\u0000\u0000\u0000\u0000\u0000\u0000\u0000\u0000\u0000\u0000\u0000\u0000\u0000\u0000\u0000\u0000\u0000\u0000\u0000\u0000\u0000\u0000\u0000\u0000\u0000\u0000\u0000\u0000\u0000\u0000\u0000\u0000\u0000\u0000\u0000\u0000\u0000\u0000\u0000\u0000\u0000\u0000\u0000\u0000\u0000\u0000\u0000\u0000\u0000\u0000\u0000\u0000\u0000\u0000\u0000\u0000\u0000\u0000\u0000\u0000\u0000\u0000\u0000\u0000\u0000\u0000\u0000\u0000\u0000\u0000\u0000\u0000\u0000\u0000\u0000\u0000\u0000\u0000\u0000\u0000\u0000\u0000\u0000\u0000\u0000\u0000\u0000\u0000\u0000\u0000\u0000\u0000\u0000\u0000\u0000\u0000\u0000\u0000\u0000\u0000\u0000\u0000\u0000\u0000\u0000\u0000\u0000\u0000\u0000\u0000\u0000\u0000\u0000\u0000\u0000\u0000\u0000\u0000\u0000\u0000\u0000\u0000\u0000\u0000\u0000\u0000\u0000\u0000\u0000\u0000\u0000\u0000\u0000\u0000\u0000\u0000\u0000\u0000\u0000\u0000\u0000\u0000\u0000\u0000\u0000\u0000\u0000\u0000\u0000\u0000\u0000\u0000\u0000\u0000\u0000\u0000\u0000\u0000\u0000\u0000\u0000\u0000\u0000\u0000\u0000\u0000\u0000\u0000\u0000\u0000\u0000\u0000\u0000\u0000\u0000\u0000\u0000\u0000\u0000\u0000\u0000\u0000\u0000\u0000\u0000\u0000\u0000\u0000\u0000\u0000\u0000\u0000\u0000\u0000\u0000\u0000\u0000\u0000\u0000\u0000\u0000\u0000\u0000\u0000\u0000\u0000\u0000\u0000\u0000\u0000\u0000\u0000\u0000\u0000\u0000\u0000\u0000\u0000\u0000\u0000\u0000\u0000\u0000\u0000\u0000\u0000\u0000\u0000\u0000\u0000\u0000\u0000\u0000\u0000\u0000\u0000\u0000\u0000\u0000\u0000\u0000\u0000\u0000\u0000\u0000\u0000\u0000\u0000\u0000\u0000\u0000\u0000\u0000\u0000\u0000\u0000\u0000\u0000\u0000\u0000\u0000\u0000\u0000\u0000\u0000\u0000\u0000\u0000\u0000\u0000\u0000\u0000\u0000\u0000\u0000\u0000\u0000\u0000\u0000\u0000\u0000\u0000\u0000\u0000\u0000\u0000\u0000\u0000\u0000\u0000\u0000\u0000\u0000\u0000\u0000\u0000\u0000\u0000\u0000\u0000\u0000\u0000\u0000\u0000\u0000\u0000\u0000\u0000\u0000\u0000\u0000\u0000\u0000\u0000\u0000\u0000\u0000\u0000\u0000\u0000\u0000\u0000\u0000\u0000\u0000\u0000\u0000\u0000\u0000\u0000\u0000\u0000\u0000\u0000\u0000\u0000\u0000\u0000\u0000\u0000\u0000\u0000\u0000\u0000\u0000\u0000\u0000\u0000\u0000\u0000\u0000\u0000\u0000\u0000\u0000\u0000\u0000\u0000\u0000\u0000\u0000\u0000\u0000\u0000\u0000\u0000\u0000\u0000\u0000\u0000\u0000\u0000\u0000\u0000\u0000\u0000\u0000\u0000\u0000\u0000\u0000\u0000\u0000\u0000\u0000\u0000\u0000\u0000\u0000\u0000\u0000\u0000\u0000\u0000\u0000\u0000\u0000\u0000\u0000\u0000\u0000\u0000\u0000\u0000\u0000\u0000\u0000\u0000\u0000\u0000\u0000\u0000\u0000\u0000\u0000\u0000\u0000\u0000\u0000\u0000\u0000\u0000\u0000\u0000\u0000\u0000\u0000\u0000\u0000\u0000\u0000\u0000\u0000\u0000\u0000\u0000\u0000\u0000\u0000\u0000\u0000\u0000\u0000\u0000\u0000\u0000\u0000\u0000\u0000\u0000\u0000\u0000\u0000\u0000\u0000\u0000\u0000\u0000\u0000\u0000\u0000\u0000\u0000\u0000\u0000\u0000\u0000\u0000\u0000\u0000\u0000\u0000\u0000\u0000\u0000\u0000\u0000\u0000\u0000\u0000\u0000\u0000\u0000\u0000\u0000\u0000\u0000\u0000\u0000\u0000\u0000\u0000\u0000\u0000\u0000\u0000\u0000\u0000\u0000\u0000\u0000\u0000\u0000\u0000\u0000\u0000\u0000\u0000\u0000\u0000\u0000\u0000\u0000\u0000\u0000\u0000\u0000\u0000\u0000\u0000\u0000\u0000\u0000\u0000\u0000\u0000\u0000\u0000\u0000\u0000\u0000\u0000\u0000\u0000\u0000\u0000\u0000\u0000\u0000\u0000\u0000\u0000\u0000\u0000\u0000\u0000\u0000\u0000\u0000\u0000\u0000\u0000\u0000\u0000\u0000\u0000\u0000\u0000\u0000\u0000\u0000\u0000\u0000\u0000\u0000\u0000\u0000\u0000\u0000\u0000\u0000\u0000\u0000\u0000\u0000\u0000\u0000\u0000\u0000\u0000\u0000\u0000\u0000\u0000\u0000\u0000\u0000\u0000\u0000\u0000\u0000\u0000\u0000\u0000\u0000\u0000\u0000\u0000\u0000\u0000\u0000\u0000\u0000\u0000\u0000\u0000\u0000\u0000\u0000\u0000\u0000\u0000\u0000\u0000\u0000\u0000\u0000\u0000\u0000\u0000\u0000\u0000\u0000\u0000\u0000\u0000\u0000\u0000\u0000\u0000\u0000\u0000\u0000\u0000\u0000\u0000\u0000\u0000\u0000\u0000\u0000\u0000\u0000\u0000\u0000\u0000\u0000\u0000\u0000\u0000\u0000\u0000\u0000\u0000\u0000\u0000\u0000\u0000\u0000\u0000\u0000\u0000\u0000\u0000\u0000\u0000\u0000\u0000\u0000\u0000\u0000\u0000\u0000\u0000\u0000\u0000\u0000\u0000\u0000\u0000\u0000\u0000\u0000\u0000\u0000\u0000\u0000\u0000\u0000\u0000\u0000\u0000\u0000\u0000\u0000\u0000\u0000\u0000\u0000\u0000\u0000\u0000\u0000\u0000\u0000\u0000\u0000\u0000\u0000\u0000\u0000\u0000\u0000\u0000\u0000\u0000\u0000\u0000\u0000\u0000\u0000\u0000\u0000\u0000\u0000\u0000\u0000\u0000\u0000\u0000\u0000\u0000\u0000\u0000\u0000\u0000\u0000\u0000\u0000\u0000\u0000\u0000\u0000\u0000\u0000\u0000\u0000\u0000\u0000\u0000\u0000\u0000\u0000\u0000\u0000\u0000\u0000\u0000\u0000\u0000\u0000\u0000\u0000\u0000\u0000\u0000\u0000\u0000\u0000\u0000\u0000\u0000\u0000\u0000\u0000\u0000\u0000\u0000\u0000\u0000\u0000\u0000\u0000\u0000\u0000\u0000\u0000\u0000\u0000\u0000\u0000\u0000\u0000\u0000\u0000\u0000\u0000\u0000\u0000\u0000\u0000\u0000\u0000\u0000\u0000\u0000\u0000\u0000\u0000\u0000\u0000\u0000\u0000\u0000\u0000\u0000\u0000\u0000\u0000\u0000\u0000\u0000\u0000\u0000\u0000\u0000\u0000\u0000\u0000\u0000\u0000\u0000\u0000\u0000\u0000\u0000\u0000\u0000\u0000\u0000\u0000\u0000\u0000\u0000\u0000\u0000\u0000\u0000\u0000\u0000\u0000\u0000\u0000\u0000\u0000\u0000\u0000\u0000\u0000\u0000\u0000\u0000\u0000\u0000\u0000\u0000\u0000\u0000\u0000\u0000\u0000\u0000\u0000\u0000\u0000\u0000\u0000\u0000\u0000\u0000\u0000\u0000\u0000\u0000\u0000\u0000\u0000\u0000\u0000\u0000\u0000\u0000\u0000\u0000\u0000\u0000\u0000\u0000\u0000\u0000\u0000\u0000\u0000\u0000\u0000\u0000\u0000\u0000\u0000\u0000\u0000\u0000\u0000\u0000\u0000\u0000\u0000\u0000\u0000\u0000\u0000\u0000\u0000\u0000\u0000\u0000\u0000\u0000\u0000\u0000\u0000\u0000\u0000\u0000\u0000\u0000\u0000\u0000\u0000\u0000\u0000\u0000\u0000\u0000\u0000\u0000\u0000\u0000\u0000\u0000\u0000\u0000\u0000\u0000\u0000\u0000\u0000\u0000\u0000\u0000\u0000\u0000\u0000\u0000\u0000\u0000\u0000\u0000\u0000\u0000\u0000\u0000\u0000\u0000\u0000\u0000\u0000\u0000\u0000\u0000\u0000\u0000\u0000\u0000\u0000\u0000\u0000\u0000\u0000\u0000\u0000\u0000\u0000\u0000\u0000\u0000\u0000\u0000\u0000\u0000\u0000\u0000\u0000\u0000\u0000\u0000\u0000\u0000\u0000\u0000\u0000\u0000\u0000\u0000\u0000\u0000\u0000\u0000\u0000\u0000\u0000\u0000\u0000\u0000\u0000\u0000\u0000\u0000\u0000\u0000\u0000\u0000\u0000\u0000\u0000\u0000\u0000\u0000\u0000\u0000\u0000\u0000\u0000\u0000\u0000\u0000\u0000\u0000\u0000\u0000\u0000\u0000\u0000\u0000\u0000\u0000\u0000\u0000\u0000\u0000\u0000\u0000\u0000\u0000\u0000\u0000\u0000\u0000\u0000\u0000\u0000\u0000\u0000\u0000\u0000\u0000\u0000\u0000\u0000\u0000\u0000\u0000\u0000\u0000\u0000\u0000\u0000\u0000\u0000\u0000\u0000\u0000\u0000\u0000\u0000\u0000\u0000\u0000\u0000\u0000\u0000\u0000\u0000\u0000\u0000\u0000\u0000\u0000\u0000\u0000\u0000\u0000\u0000\u0000\u0000\u0000\u0000\u0000\u0000\u0000\u0000\u0000\u0000\u0000\u0000\u0000\u0000\u0000\u0000\u0000\u0000\u0000\u0000\u0000\u0000\u0000\u0000\u0000\u0000\u0000\u0000\u0000\u0000\u0000\u0000\u0000\u0000\u0000\u0000\u0000\u0000\u0000\u0000\u0000\u0000\u0000\u0000\u0000\u0000\u0000\u0000\u0000\u0000\u0000\u0000\u0000\u0000\u0000\u0000\u0000\u0000\u0000\u0000\u0000\u0000\u0000\u0000\u0000\u0000\u0000\u0000\u0000\u0000\u0000\u0000\u0000\u0000\u0000\u0000\u0000\u0000\u0000\u0000\u0000\u0000\u0000\u0000\u0000\u0000\u0000\u0000\u0000\u0000\u0000\u0000\u0000\u0000\u0000\u0000\u0000\u0000\u0000\u0000\u0000\u0000\u0000\u0000\u0000\u0000\u0000\u0000\u0000\u0000\u0000\u0000\u0000\u0000\u0000\u0000\u0000\u0000\u0000\u0000\u0000\u0000\u0000\u0000\u0000\u0000\u0000\u0000\u0000\u0000\u0000\u0000\u0000\u0000\u0000\u0000\u0000\u0000\u0000\u0000\u0000\u0000\u0000\u0000\u0000\u0000\u0000\u0000\u0000\u0000\u0000\u0000\u0000\u0000\u0000\u0000\u0000\u0000\u0000\u0000\u0000\u0000\u0000\u0000\u0000\u0000\u0000\u0000\u0000\u0000\u0000\u0000\u0000\u0000\u0000\u0000\u0000\u0000\u0000\u0000\u0000\u0000\u0000\u0000\u0000\u0000\u0000\u0000\u0000\u0000\u0000\u0000\u0000\u0000\u0000\u0000\u0000\u0000\u0000\u0000\u0000\u0000\u0000\u0000\u0000\u0000\u0000\u0000\u0000\u0000\u0000\u0000\u0000\u0000\u0000\u0000\u0000\u0000\u0000\u0000\u0000\u0000\u0000\u0000\u0000\u0000\u0000\u0000\u0000\u0000\u0000\u0000\u0000\u0000\u0000\u0000\u0000\u0000\u0000\u0000\u0000\u0000\u0000\u0000\u0000\u0000\u0000\u0000\u0000\u0000\u0000\u0000\u0000\u0000\u0000\u0000\u0000\u0000\u0000\u0000\u0000\u0000\u0000\u0000\u0000\u0000\u0000\u0000\u0000\u0000\u0000\u0000\u0000\u0000\u0000\u0000\u0000\u0000\u0000\u0000\u0000\u0000\u0000\u0000\u0000\u0000\u0000\u0000\u0000\u0000\u0000\u0000\u0000\u0000\u0000\u0000\u0000\u0000\u0000\u0000\u0000\u0000\u0000\u0000\u0000\u0000\u0000\u0000\u0000\u0000\u0000\u0000\u0000\u0000\u0000\u0000\u0000\u0000\u0000\u0000\u0000\u0000\u0000\u0000\u0000\u0000\u0000\u0000\u0000\u0000\u0000\u0000\u0000\u0000\u0000\u0000\u0000\u0000\u0000\u0000\u0000\u0000\u0000\u0000\u0000\u0000\u0000\u0000\u0000\u0000\u0000\u0000\u0000\u0000\u0000\u0000\u0000\u0000\u0000\u0000\u0000\u0000\u0000\u0000\u0000\u0000\u0000\u0000\u0000\u0000\u0000\u0000\u0000\u0000\u0000\u0000\u0000\u0000\u0000\u0000\u0000\u0000\u0000\u0000\u0000\u0000\u0000\u0000\u0000\u0000\u0000\u0000\u0000\u0000\u0000\u0000\u0000\u0000\u0000\u0000\u0000\u0000\u0000\u0000\u0000\u0000\u0000\u0000\u0000\u0000\u0000\u0000\u0000\u0000\u0000\u0000\u0000\u0000\u0000\u0000\u0000\u0000\u0000\u0000\u0000\u0000\u0000\u0000\u0000\u0000\u0000\u0000\u0000\u0000\u0000\u0000\u0000\u0000\u0000\u0000\u0000\u0000\u0000\u0000\u0000\u0000\u0000\u0000\u0000\u0000\u0000\u0000\u0000\u0000\u0000\u0000\u0000\u0000\u0000\u0000\u0000\u0000\u0000\u0000\u0000\u0000\u0000\u0000\u0000\u0000\u0000\u0000\u0000\u0000\u0000\u0000\u0000\u0000\u0000\u0000\u0000\u0000\u0000\u0000\u0000\u0000\u0000\u0000\u0000\u0000\u0000\u0000\u0000\u0000\u0000\u0000\u0000\u0000\u0000\u0000\u0000\u0000\u0000\u0000\u0000\u0000\u0000\u0000\u0000\u0000\u0000\u0000\u0000\u0000\u0000\u0000\u0000\u0000\u0000\u0000\u0000\u0000\u0000\u0000\u0000\u0000\u0000\u0000\u0000\u0000\u0000\u0000\u0000\u0000\u0000\u0000\u0000\u0000\u0000\u0000\u0000\u0000\u0000\u0000\u0000\u0000\u0000\u0000\u0000\u0000\u0000\u0000\u0000\u0000\u0000\u0000\u0000\u0000\u0000\u0000\u0000\u0000\u0000\u0000\u0000\u0000\u0000\u0000\u0000\u0000\u0000\u0000\u0000\u0000\u0000\u0000\u0000\u0000\u0000\u0000\u0000\u0000\u0000\u0000\u0000\u0000\u0000\u0000\u0000\u0000\u0000\u0000\u0000\u0000\u0000\u0000\u0000\u0000\u0000\u0000\u0000\u0000\u0000\u0000\u0000\u0000\u0000\u0000\u0000\u0000\u0000\u0000\u0000\u0000\u0000\u0000\u0000\u0000\u0000\u0000\u0000\u0000\u0000\u0000\u0000\u0000\u0000\u0000\u0000\u0000\u0000\u0000\u0000\u0000\u0000\u0000\u0000\u0000\u0000\u0000\u0000\u0000\u0000\u0000\u0000\u0000\u0000\u0000\u0000\u0000\u0000\u0000\u0000\u0000\u0000\u0000\u0000\u0000\u0000\u0000\u0000\u0000\u0000\u0000\u0000\u0000\u0000\u0000\u0000\u0000\u0000\u0000\u0000\u0000\u0000\u0000\u0000\u0000\u0000\u0000\u0000\u0000\u0000\u0000\u0000\u0000\u0000\u0000\u0000\u0000\u0000\u0000\u0000\u0000\u0000\u0000\u0000\u0000\u0000\u0000\u0000\u0000\u0000\u0000\u0000\u0000\u0000\u0000\u0000\u0000\u0000\u0000\u0000\u0000\u0000\u0000\u0000\u0000\u0000\u0000\u0000\u0000\u0000\u0000\u0000\u0000\u0000\u0000\u0000\u0000\u0000\u0000\u0000\u0000\u0000\u0000\u0000\u0000\u0000\u0000\u0000\u0000\u0000\u0000\u0000\u0000\u0000\u0000\u0000\u0000\u0000\u0000\u0000\u0000\u0000\u0000\u0000\u0000\u0000\u0000\u0000\u0000\u0000\u0000\u0000\u0000\u0000\u0000\u0000\u0000\u0000\u0000\u0000\u0000\u0000\u0000\u0000\u0000\u0000\u0000\u0000\u0000\u0000\u0000\u0000\u0000\u0000\u0000\u0000\u0000\u0000\u0000\u0000\u0000\u0000\u0000\u0000\u0000\u0000\u0000\u0000\u0000\u0000\u0000\u0000\u0000\u0000\u0000\u0000\u0000\u0000\u0000\u0000\u0000\u0000\u0000\u0000\u0000\u0000\u0000\u0000\u0000\u0000\u0000\u0000\u0000\u0000\u0000\u0000\u0000\u0000\u0000\u0000\u0000\u0000\u0000\u0000\u0000\u0000\u0000\u0000\u0000\u0000\u0000\u0000\u0000\u0000\u0000\u0000\u0000\u0000\u0000\u0000\u0000\u0000\u0000\u0000\u0000\u0000\u0000\u0000\u0000\u0000\u0000\u0000\u0000\u0000\u0000\u0000\u0000\u0000\u0000\u0000\u0000\u0000\u0000\u0000\u0000\u0000\u0000\u0000\u0000\u0000\u0000\u0000\u0000\u0000\u0000\u0000\u0000\u0000\u0000\u0000\u0000\u0000\u0000\u0000\u0000\u0000\u0000\u0000\u0000\u0000\u0000\u0000\u0000\u0000\u0000\u0000\u0000\u0000\u0000\u0000\u0000\u0000\u0000\u0000\u0000\u0000\u0000\u0000\u0000\u0000\u0000\u0000\u0000\u0000\u0000\u0000\u0000\u0000\u0000\u0000\u0000\u0000\u0000\u0000\u0000\u0000\u0000\u0000\u0000\u0000\u0000\u0000\u0000\u0000\u0000\u0000\u0000\u0000\u0000\u0000\u0000\u0000\u0000\u0000\u0000\u0000\u0000\u0000\u0000\u0000\u0000\u0000\u0000\u0000\u0000\u0000\u0000\u0000\u0000\u0000\u0000\u0000\u0000\u0000\u0000\u0000\u0000\u0000\u0000\u0000\u0000\u0000\u0000\u0000\u0000\u0000\u0000\u0000\u0000\u0000\u0000\u0000\u0000\u0000\u0000\u0000\u0000\u0000\u0000\u0000\u0000\u0000\u0000\u0000\u0000\u0000\u0000\u0000\u0000\u0000\u0000\u0000\u0000\u0000\u0000\u0000\u0000\u0000\u0000\u0000\u0000\u0000\u0000\u0000\u0000\u0000\u0000\u0000\u0000\u0000\u0000\u0000\u0000\u0000\u0000\u0000\u0000\u0000\u0000\u0000\u0000\u0000\u0000\u0000\u0000\u0000\u0000\u0000\u0000\u0000\u0000\u0000\u0000\u0000\u0000\u0000\u0000\u0000\u0000\u0000\u0000\u0000\u0000\u0000\u0000\u0000\u0000\u0000\u0000\u0000\u0000\u0000\u0000\u0000\u0000\u0000\u0000\u0000\u0000\u0000\u0000\u0000\u0000\u0000\u0000\u0000\u0000\u0000\u0000\u0000\u0000\u0000\u0000\u0000\u0000\u0000\u0000\u0000\u0000\u0000\u0000\u0000\u0000\u0000\u0000\u0000\u0000\u0000\u0000\u0000\u0000\u0000\u0000\u0000\u0000\u0000\u0000\u0000\u0000\u0000\u0000\u0000\u0000\u0000\u0000\u0000\u0000\u0000\u0000\u0000\u0000\u0000\u0000\u0000\u0000\u0000\u0000\u0000\u0000\u0000\u0000\u0000\u0000\u0000\u0000\u0000\u0000\u0000\u0000\u0000\u0000\u0000\u0000\u0000\u0000\u0000\u0000\u0000\u0000\u0000\u0000\u0000\u0000\u0000\u0000\u0000\u0000\u0000\u0000\u0000\u0000\u0000\u0000\u0000\u0000\u0000\u0000\u0000\u0000\u0000\u0000\u0000\u0000\u0000\u0000\u0000\u0000\u0000\u0000\u0000\u0000\u0000\u0000\u0000\u0000\u0000\u0000\u0000\u0000\u0000\u0000\u0000\u0000\u0000\u0000\u0000\u0000\u0000\u0000\u0000\u0000\u0000\u0000\u0000\u0000\u0000\u0000\u0000\u0000\u0000\u0000\u0000\u0000\u0000\u0000\u0000\u0000\u0000\u0000\u0000\u0000\u0000\u0000\u0000\u0000\u0000\u0000\u0000\u0000\u0000\u0000\u0000\u0000\u0000\u0000\u0000\u0000\u0000\u0000\u0000\u0000\u0000\u0000\u0000\u0000\u0000\u0000\u0000\u0000\u0000\u0000\u0000\u0000\u0000\u0000\u0000\u0000\u0000\u0000\u0000\u0000\u0000\u0000\u0000\u0000\u0000\u0000\u0000\u0000\u0000\u0000\u0000\u0000\u0000\u0000\u0000\u0000\u0000\u0000\u0000\u0000\u0000\u0000\u0000\u0000\u0000\u0000\u0000\u0000\u0000\u0000\u0000\u0000\u0000\u0000\u0000\u0000\u0000\u0000\u0000\u0000\u0000\u0000\u0000\u0000\u0000\u0000\u0000\u0000\u0000\u0000\u0000\u0000\u0000\u0000\u0000\u0000\u0000\u0000\u0000\u0000\u0000\u0000\u0000\u0000\u0000\u0000\u0000\u0000\u0000\u0000\u0000\u0000\u0000\u0000\u0000\u0000\u0000\u0000\u0000\u0000\u0000\u0000\u0000\u0000\u0000\u0000\u0000\u0000\u0000\u0000\u0000\u0000\u0000\u0000\u0000\u0000\u0000\u0000\u0000\u0000\u0000\u0000\u0000\u0000\u0000\u0000\u0000\u0000\u0000\u0000\u0000\u0000\u0000\u0000\u0000\u0000\u0000\u0000\u0000\u0000\u0000\u0000\u0000\u0000\u0000\u0000\u0000\u0000\u0000\u0000\u0000\u0000\u0000\u0000\u0000\u0000\u0000\u0000\u0000\u0000\u0000\u0000\u0000\u0000\u0000\u0000\u0000\u0000\u0000\u0000\u0000\u0000\u0000\u0000\u0000\u0000\u0000\u0000\u0000\u0000\u0000\u0000\u0000\u0000\u0000\u0000\u0000\u0000\u0000\u0000\u0000\u0000\u0000\u0000\u0000\u0000\u0000\u0000\u0000\u0000\u0000\u0000\u0000\u0000\u0000\u0000\u0000\u0000\u0000\u0000\u0000\u0000\u0000\u0000\u0000\u0000\u0000\u0000\u0000\u0000\u0000\u0000\u0000\u0000\u0000\u0000\u0000\u0000\u0000\u0000\u0000\u0000\u0000\u0000\u0000\u0000\u0000\u0000\u0000\u0000\u0000\u0000\u0000\u0000\u0000\u0000\u0000\u0000\u0000\u0000\u0000\u0000\u0000\u0000\u0000\u0000\u0000\u0000\u0000\u0000\u0000\u0000\u0000\u0000\u0000\u0000\u0000\u0000\u0000\u0000\u0000\u0000\u0000\u0000\u0000\u0000\u0000\u0000\u0000\u0000\u0000\u0000\u0000\u0000\u0000\u0000\u0000\u0000\u0000\u0000\u0000\u0000\u0000\u0000\u0000\u0000\u0000\u0000\u0000\u0000\u0000\u0000\u0000\u0000\u0000\u0000\u0000\u0000\u0000\u0000\u0000\u0000\u0000\u0000\u0000\u0000\u0000\u0000\u0000\u0000\u0000\u0000\u0000\u0000\u0000\u0000\u0000\u0000\u0000\u0000\u0000\u0000\u0000\u0000\u0000\u0000\u0000\u0000\u0000\u0000\u0000\u0000\u0000\u0000\u0000\u0000\u0000\u0000\u0000\u0000\u0000\u0000\u0000\u0000\u0000\u0000\u0000\u0000\u0000\u0000\u0000\u0000\u0000\u0000\u0000\u0000\u0000\u0000\u0000\u0000\u0000\u0000\u0000\u0000\u0000\u0000\u0000\u0000\u0000\u0000\u0000\u0000\u0000\u0000\u0000\u0000\u0000\u0000\u0000\u0000\u0000\u0000\u0000\u0000\u0000\u0000\u0000\u0000\u0000\u0000\u0000\u0000\u0000\u0000\u0000\u0000\u0000\u0000\u0000\u0000\u0000\u0000\u0000\u0000\u0000\u0000\u0000\u0000\u0000\u0000\u0000\u0000\u0000\u0000\u0000\u0000\u0000\u0000\u0000\u0000\u0000\u0000\u0000\u0000\u0000\u0000\u0000\u0000\u0000\u0000\u0000\u0000\u0000\u0000\u0000\u0000\u0000\u0000\u0000\u0000\u0000\u0000\u0000\u0000\u0000\u0000\u0000\u0000\u0000\u0000\u0000\u0000\u0000\u0000\u0000\u0000\u0000\u0000\u0000\u0000\u0000\u0000\u0000\u0000\u0000\u0000\u0000\u0000\u0000\u0000\u0000\u0000\u0000\u0000\u0000\u0000\u0000\u0000\u0000\u0000\u0000\u0000\u0000\u0000\u0000\u0000\u0000\u0000\u0000\u0000\u0000\u0000\u0000\u0000\u0000\u0000\u0000\u0000\u0000\u0000\u0000\u0000\u0000\u0000\u0000\u0000\u0000\u0000\u0000\u0000\u0000\u0000\u0000\u0000\u0000\u0000\u0000\u0000\u0000\u0000\u0000\u0000\u0000\u0000\u0000\u0000\u0000\u0000\u0000\u0000\u0000\u0000\u0000\u0000\u0000\u0000\u0001\u0000\u0002\u0000\u0000\u0000\u0000\u0000Sum of the first %d natural numbers: %d\n",
            "\u0000\u0000\u0000\u0000\u0001\u001b\u0003;0\u0000\u0000\u0000\u0005\u0000\u0000\u0000����d\u0000\u0000\u0000\f����\u0000\u0000\u0000\u001c����\u0000\u0000\u0000,���L\u0000\u0000\u0000\u0015����\u0000\u0000\u0000\u0014\u0000\u0000\u0000\u0000\u0000\u0000\u0000\u0001zR\u0000\u0001x\u0010\u0001\u001b\f\u0007\b�\u0001\u0000\u0000\u0014\u0000\u0000\u0000\u001c\u0000\u0000\u0000����&\u0000\u0000\u0000\u0000D\u0007\u0010\u0000\u0000\u0000\u0000$\u0000\u0000\u00004\u0000\u0000\u0000���� \u0000\u0000\u0000\u0000\u000e\u0010F\u000e\u0018J\u000f\u000bw\b�\u0000?\u001a:*3$\"\u0000\u0000\u0000\u0000\u0014\u0000\u0000\u0000\\\u0000\u0000\u0000x���\u0010\u0000\u0000\u0000\u0000\u0000\u0000\u0000\u0000\u0000\u0000\u0000\u0014\u0000\u0000\u0000t\u0000\u0000\u0000p���\u0010\u0000\u0000\u0000\u0000\u0000\u0000\u0000\u0000\u0000\u0000\u0000\u001c\u0000\u0000\u0000�\u0000\u0000\u0000Q���X\u0000\u0000\u0000\u0000E\u000e\u0010�\u0002C\r\u0006\u0002O\f\u0007\b\u0000\u0000\u0000\u0000\u0000\u0000\u0000\u0000\u0000\u0000\u0000\u0000\u0000\u0000\u0000\u0000\u0000\u0000\u0000\u0000\u0000\u0000\u0000\u0000\u0000\u0000\u0000\u0000\u0000\u0000\u0000\u0000\u0000\u0000\u0000\u0000\u0000\u0000\u0000\u0000\u0000\u0000\u0000\u0000\u0000\u0000\u0000\u0000\u0000\u0000\u0000\u0000\u0000\u0000\u0000\u0000\u0000\u0000\u0000\u0000\u0000\u0000\u0000\u0000\u0000\u0000\u0000\u0000\u0000\u0000\u0000\u0000\u0000\u0000\u0000\u0000\u0000\u0000\u0000\u0000\u0000\u0000\u0000\u0000\u0000\u0000\u0000\u0000\u0000\u0000\u0000\u0000\u0000\u0000\u0000\u0000\u0000\u0000\u0000\u0000\u0000\u0000\u0000\u0000\u0000\u0000\u0000\u0000\u0000\u0000\u0000\u0000\u0000\u0000\u0000\u0000\u0000\u0000\u0000\u0000\u0000\u0000\u0000\u0000\u0000\u0000\u0000\u0000\u0000\u0000\u0000\u0000\u0000\u0000\u0000\u0000\u0000\u0000\u0000\u0000\u0000\u0000\u0000\u0000\u0000\u0000\u0000\u0000\u0000\u0000\u0000\u0000\u0000\u0000\u0000\u0000\u0000\u0000\u0000\u0000\u0000\u0000\u0000\u0000\u0000\u0000\u0000\u0000\u0000\u0000\u0000\u0000\u0000\u0000\u0000\u0000\u0000\u0000\u0000\u0000\u0000\u0000\u0000\u0000\u0000\u0000\u0000\u0000\u0000\u0000\u0000\u0000\u0000\u0000\u0000\u0000\u0000\u0000\u0000\u0000\u0000\u0000\u0000\u0000\u0000\u0000\u0000\u0000\u0000\u0000\u0000\u0000\u0000\u0000\u0000\u0000\u0000\u0000\u0000\u0000\u0000\u0000\u0000\u0000\u0000\u0000\u0000\u0000\u0000\u0000\u0000\u0000\u0000\u0000\u0000\u0000\u0000\u0000\u0000\u0000\u0000\u0000\u0000\u0000\u0000\u0000\u0000\u0000\u0000\u0000\u0000\u0000\u0000\u0000\u0000\u0000\u0000\u0000\u0000\u0000\u0000\u0000\u0000\u0000\u0000\u0000\u0000\u0000\u0000\u0000\u0000\u0000\u0000\u0000\u0000\u0000\u0000\u0000\u0000\u0000\u0000\u0000\u0000\u0000\u0000\u0000\u0000\u0000\u0000\u0000\u0000\u0000\u0000\u0000\u0000\u0000\u0000\u0000\u0000\u0000\u0000\u0000\u0000\u0000\u0000\u0000\u0000\u0000\u0000\u0000\u0000\u0000\u0000\u0000\u0000\u0000\u0000\u0000\u0000\u0000\u0000\u0000\u0000\u0000\u0000\u0000\u0000\u0000\u0000\u0000\u0000\u0000\u0000\u0000\u0000\u0000\u0000\u0000\u0000\u0000\u0000\u0000\u0000\u0000\u0000\u0000\u0000\u0000\u0000\u0000\u0000\u0000\u0000\u0000\u0000\u0000\u0000\u0000\u0000\u0000\u0000\u0000\u0000\u0000\u0000\u0000\u0000\u0000\u0000\u0000\u0000\u0000\u0000\u0000\u0000\u0000\u0000\u0000\u0000\u0000\u0000\u0000\u0000\u0000\u0000\u0000\u0000\u0000\u0000\u0000\u0000\u0000\u0000\u0000\u0000\u0000\u0000\u0000\u0000\u0000\u0000\u0000\u0000\u0000\u0000\u0000\u0000\u0000\u0000\u0000\u0000\u0000\u0000\u0000\u0000\u0000\u0000\u0000\u0000\u0000\u0000\u0000\u0000\u0000\u0000\u0000\u0000\u0000\u0000\u0000\u0000\u0000\u0000\u0000\u0000\u0000\u0000\u0000\u0000\u0000\u0000\u0000\u0000\u0000\u0000\u0000\u0000\u0000\u0000\u0000\u0000\u0000\u0000\u0000\u0000\u0000\u0000\u0000\u0000\u0000\u0000\u0000\u0000\u0000\u0000\u0000\u0000\u0000\u0000\u0000\u0000\u0000\u0000\u0000\u0000\u0000\u0000\u0000\u0000\u0000\u0000\u0000\u0000\u0000\u0000\u0000\u0000\u0000\u0000\u0000\u0000\u0000\u0000\u0000\u0000\u0000\u0000\u0000\u0000\u0000\u0000\u0000\u0000\u0000\u0000\u0000\u0000\u0000\u0000\u0000\u0000\u0000\u0000\u0000\u0000\u0000\u0000\u0000\u0000\u0000\u0000\u0000\u0000\u0000\u0000\u0000\u0000\u0000\u0000\u0000\u0000\u0000\u0000\u0000\u0000\u0000\u0000\u0000\u0000\u0000\u0000\u0000\u0000\u0000\u0000\u0000\u0000\u0000\u0000\u0000\u0000\u0000\u0000\u0000\u0000\u0000\u0000\u0000\u0000\u0000\u0000\u0000\u0000\u0000\u0000\u0000\u0000\u0000\u0000\u0000\u0000\u0000\u0000\u0000\u0000\u0000\u0000\u0000\u0000\u0000\u0000\u0000\u0000\u0000\u0000\u0000\u0000\u0000\u0000\u0000\u0000\u0000\u0000\u0000\u0000\u0000\u0000\u0000\u0000\u0000\u0000\u0000\u0000\u0000\u0000\u0000\u0000\u0000\u0000\u0000\u0000\u0000\u0000\u0000\u0000\u0000\u0000\u0000\u0000\u0000\u0000\u0000\u0000\u0000\u0000\u0000\u0000\u0000\u0000\u0000\u0000\u0000\u0000\u0000\u0000\u0000\u0000\u0000\u0000\u0000\u0000\u0000\u0000\u0000\u0000\u0000\u0000\u0000\u0000\u0000\u0000\u0000\u0000\u0000\u0000\u0000\u0000\u0000\u0000\u0000\u0000\u0000\u0000\u0000\u0000\u0000\u0000\u0000\u0000\u0000\u0000\u0000\u0000\u0000\u0000\u0000\u0000\u0000\u0000\u0000\u0000\u0000\u0000\u0000\u0000\u0000\u0000\u0000\u0000\u0000\u0000\u0000\u0000\u0000\u0000\u0000\u0000\u0000\u0000\u0000\u0000\u0000\u0000\u0000\u0000\u0000\u0000\u0000\u0000\u0000\u0000\u0000\u0000\u0000\u0000\u0000\u0000\u0000\u0000\u0000\u0000\u0000\u0000\u0000\u0000\u0000\u0000\u0000\u0000\u0000\u0000\u0000\u0000\u0000\u0000\u0000\u0000\u0000\u0000\u0000\u0000\u0000\u0000\u0000\u0000\u0000\u0000\u0000\u0000\u0000\u0000\u0000\u0000\u0000\u0000\u0000\u0000\u0000\u0000\u0000\u0000\u0000\u0000\u0000\u0000\u0000\u0000\u0000\u0000\u0000\u0000\u0000\u0000\u0000\u0000\u0000\u0000\u0000\u0000\u0000\u0000\u0000\u0000\u0000\u0000\u0000\u0000\u0000\u0000\u0000\u0000\u0000\u0000\u0000\u0000\u0000\u0000\u0000\u0000\u0000\u0000\u0000\u0000\u0000\u0000\u0000\u0000\u0000\u0000\u0000\u0000\u0000\u0000\u0000\u0000\u0000\u0000\u0000\u0000\u0000\u0000\u0000\u0000\u0000\u0000\u0000\u0000\u0000\u0000\u0000\u0000\u0000\u0000\u0000\u0000\u0000\u0000\u0000\u0000\u0000\u0000\u0000\u0000\u0000\u0000\u0000\u0000\u0000\u0000\u0000\u0000\u0000\u0000\u0000\u0000\u0000\u0000\u0000\u0000\u0000\u0000\u0000\u0000\u0000\u0000\u0000\u0000\u0000\u0000\u0000\u0000\u0000\u0000\u0000\u0000\u0000\u0000\u0000\u0000\u0000\u0000\u0000\u0000\u0000\u0000\u0000\u0000\u0000\u0000\u0000\u0000\u0000\u0000\u0000\u0000\u0000\u0000\u0000\u0000\u0000\u0000\u0000\u0000\u0000\u0000\u0000\u0000\u0000\u0000\u0000\u0000\u0000\u0000\u0000\u0000\u0000\u0000\u0000\u0000\u0000\u0000\u0000\u0000\u0000\u0000\u0000\u0000\u0000\u0000\u0000\u0000\u0000\u0000\u0000\u0000\u0000\u0000\u0000\u0000\u0000\u0000\u0000\u0000\u0000\u0000\u0000\u0000\u0000\u0000\u0000\u0000\u0000\u0000\u0000\u0000\u0000\u0000\u0000\u0000\u0000\u0000\u0000\u0000\u0000\u0000\u0000\u0000\u0000\u0000\u0000\u0000\u0000\u0000\u0000\u0000\u0000\u0000\u0000\u0000\u0000\u0000\u0000\u0000\u0000\u0000\u0000\u0000\u0000\u0000\u0000\u0000\u0000\u0000\u0000\u0000\u0000\u0000\u0000\u0000\u0000\u0000\u0000\u0000\u0000\u0000\u0000\u0000\u0000\u0000\u0000\u0000\u0000\u0000\u0000\u0000\u0000\u0000\u0000\u0000\u0000\u0000\u0000\u0000\u0000\u0000\u0000\u0000\u0000\u0000\u0000\u0000\u0000\u0000\u0000\u0000\u0000\u0000\u0000\u0000\u0000\u0000\u0000\u0000\u0000\u0000\u0000\u0000\u0000\u0000\u0000\u0000\u0000\u0000\u0000\u0000\u0000\u0000\u0000\u0000\u0000\u0000\u0000\u0000\u0000\u0000\u0000\u0000\u0000\u0000\u0000\u0000\u0000\u0000\u0000\u0000\u0000\u0000\u0000\u0000\u0000\u0000\u0000\u0000\u0000\u0000\u0000\u0000\u0000\u0000\u0000\u0000\u0000\u0000\u0000\u0000\u0000\u0000\u0000\u0000\u0000\u0000\u0000\u0000\u0000\u0000\u0000\u0000\u0000\u0000\u0000\u0000\u0000\u0000\u0000\u0000\u0000\u0000\u0000\u0000\u0000\u0000\u0000\u0000\u0000\u0000\u0000\u0000\u0000\u0000\u0000\u0000\u0000\u0000\u0000\u0000\u0000\u0000\u0000\u0000\u0000\u0000\u0000\u0000\u0000\u0000\u0000\u0000\u0000\u0000\u0000\u0000\u0000\u0000\u0000\u0000\u0000\u0000\u0000\u0000\u0000\u0000\u0000\u0000\u0000\u0000\u0000\u0000\u0000\u0000\u0000\u0000\u0000\u0000\u0000\u0000\u0000\u0000\u0000\u0000\u0000\u0000\u0000\u0000\u0000\u0000\u0000\u0000\u0000\u0000\u0000\u0000\u0000\u0000\u0000\u0000\u0000\u0000\u0000\u0000\u0000\u0000\u0000\u0000\u0000\u0000\u0000\u0000\u0000\u0000\u0000\u0000\u0000\u0000\u0000\u0000\u0000\u0000\u0000\u0000\u0000\u0000\u0000\u0000\u0000\u0000\u0000\u0000\u0000\u0000\u0000\u0000\u0000\u0000\u0000\u0000\u0000\u0000\u0000\u0000\u0000\u0000\u0000\u0000\u0000\u0000\u0000\u0000\u0000\u0000\u0000\u0000\u0000\u0000\u0000\u0000\u0000\u0000\u0000\u0000\u0000\u0000\u0000\u0000\u0000\u0000\u0000\u0000\u0000\u0000\u0000\u0000\u0000\u0000\u0000\u0000\u0000\u0000\u0000\u0000\u0000\u0000\u0000\u0000\u0000\u0000\u0000\u0000\u0000\u0000\u0000\u0000\u0000\u0000\u0000\u0000\u0000\u0000\u0000\u0000\u0000\u0000\u0000\u0000\u0000\u0000\u0000\u0000\u0000\u0000\u0000\u0000\u0000\u0000\u0000\u0000\u0000\u0000\u0000\u0000\u0000\u0000\u0000\u0000\u0000\u0000\u0000\u0000\u0000\u0000\u0000\u0000\u0000\u0000\u0000\u0000\u0000\u0000\u0000\u0000\u0000\u0000\u0000\u0000\u0000\u0000\u0000\u0000\u0000\u0000\u0000\u0000\u0000\u0000\u0000\u0000\u0000\u0000\u0000\u0000\u0000\u0000\u0000\u0000\u0000\u0000\u0000\u0000\u0000\u0000\u0000\u0000\u0000\u0000\u0000\u0000\u0000\u0000\u0000\u0000\u0000\u0000\u0000\u0000\u0000\u0000\u0000\u0000\u0000\u0000\u0000\u0000\u0000\u0000\u0000\u0000\u0000\u0000\u0000\u0000\u0000\u0000\u0000\u0000\u0000\u0000\u0000\u0000\u0000\u0000\u0000\u0000\u0000\u0000\u0000\u0000\u0000\u0000\u0000\u0000\u0000\u0000\u0000\u0000\u0000\u0000\u0000\u0000\u0000\u0000\u0000\u0000\u0000\u0000\u0000\u0000\u0000\u0000\u0000\u0000\u0000\u0000\u0000\u0000\u0000\u0000\u0000\u0000\u0000\u0000\u0000\u0000\u0000\u0000\u0000\u0000\u0000\u0000\u0000\u0000\u0000\u0000\u0000\u0000\u0000\u0000\u0000\u0000\u0000\u0000\u0000\u0000\u0000\u0000\u0000\u0000\u0000\u0000\u0000\u0000\u0000\u0000\u0000\u0000\u0000\u0000\u0000\u0000\u0000\u0000\u0000\u0000\u0000\u0000\u0000\u0000\u0000\u0000\u0000\u0000\u0000\u0000\u0000\u0000\u0000\u0000\u0000\u0000\u0000\u0000\u0000\u0000\u0000\u0000\u0000\u0000\u0000\u0000\u0000\u0000\u0000\u0000\u0000\u0000\u0000\u0000\u0000\u0000\u0000\u0000\u0000\u0000\u0000\u0000\u0000\u0000\u0000\u0000\u0000\u0000\u0000\u0000\u0000\u0000\u0000\u0000\u0000\u0000\u0000\u0000\u0000\u0000\u0000\u0000\u0000\u0000\u0000\u0000\u0000\u0000\u0000\u0000\u0000\u0000\u0000\u0000\u0000\u0000\u0000\u0000\u0000\u0000\u0000\u0000\u0000\u0000\u0000\u0000\u0000\u0000\u0000\u0000\u0000\u0000\u0000\u0000\u0000\u0000\u0000\u0000\u0000\u0000\u0000\u0000\u0000\u0000\u0000\u0000\u0000\u0000\u0000\u0000\u0000\u0000\u0000\u0000\u0000\u0000\u0000\u0000\u0000\u0000\u0000\u0000\u0000\u0000\u0000\u0000\u0000\u0000\u0000\u0000\u0000\u0000\u0000\u0000\u0000\u0000\u0000\u0000\u0000\u0000\u0000\u0000\u0000\u0000\u0000\u0000\u0000\u0000\u0000\u0000\u0000\u0000\u0000\u0000\u0000\u0000\u0000\u0000\u0000\u0000\u0000\u0000\u0000\u0000\u0000\u0000\u0000\u0000\u0000\u0000\u0000\u0000\u0000\u0000\u0000\u0000\u0000\u0000\u0000\u0000\u0000\u0000\u0000\u0000\u0000\u0000\u0000\u0000\u0000\u0000\u0000\u0000\u0000\u0000\u0000\u0000\u0000\u0000\u0000\u0000\u0000\u0000\u0000\u0000\u0000\u0000\u0000\u0000\u0000\u0000\u0000\u0000\u0000\u0000\u0000\u0000\u0000\u0000\u0000\u0000\u0000\u0000\u0000\u0000\u0000\u0000\u0000\u0000\u0000\u0000\u0000\u0000\u0000\u0000\u0000\u0000\u0000\u0000\u0000\u0000\u0000\u0000\u0000\u0000\u0000\u0000\u0000\u0000\u0000\u0000\u0000\u0000\u0000\u0000\u0000\u0000\u0000\u0000\u0000\u0000\u0000\u0000\u0000\u0000\u0000\u0000\u0000\u0000\u0000\u0000\u0000\u0000\u0000\u0000\u0000\u0000\u0000\u0000\u0000\u0000\u0000\u0000\u0000\u0000\u0000\u0000\u0000\u0000\u0000\u0000\u0000\u0000\u0000\u0000\u0000\u0000\u0000\u0000\u0000\u0000\u0000\u0000\u0000\u0000\u0000\u0000\u0000\u0000\u0000\u0000\u0000\u0000\u0000\u0000\u0000\u0000\u0000\u0000\u0000\u0000\u0000\u0000\u0000\u0000\u0000\u0000\u0000\u0000\u0000\u0000\u0000\u0000\u0000\u0000\u0000\u0000\u0000\u0000\u0000\u0000\u0000\u0000\u0000\u0000\u0000\u0000\u0000\u0000\u0000\u0000\u0000\u0000\u0000\u0000\u0000\u0000\u0000\u0000\u0000\u0000\u0000\u0000\u0000\u0000\u0000\u0000\u0000\u0000\u0000\u0000\u0000\u0000\u0000\u0000\u0000\u0000\u0000\u0000\u0000\u0000\u0000\u0000\u0000\u0000\u0000\u0000\u0000\u0000\u0000\u0000\u0000\u0000\u0000\u0000\u0000\u0000\u0000\u0000\u0000\u0000\u0000\u0000\u0000\u0000\u0000\u0000\u0000\u0000\u0000\u0000\u0000\u0000\u0000\u0000\u0000\u0000\u0000\u0000\u0000\u0000\u0000\u0000\u0000\u0000\u0000\u0000\u0000\u0000\u0000\u0000\u0000\u0000\u0000\u0000\u0000\u0000\u0000\u0000\u0000\u0000\u0000\u0000\u0000\u0000\u0000\u0000\u0000\u0000\u0000\u0000\u0000\u0000\u0000\u0000\u0000\u0000\u0000\u0000\u0000\u0000\u0000\u0000\u0000\u0000\u0000\u0000\u0000\u0000\u0000\u0000\u0000\u0000\u0000\u0000\u0000\u0000\u0000\u0000\u0000\u0000\u0000\u0000\u0000\u0000\u0000\u0000\u0000\u0000\u0000\u0000\u0000\u0000\u0000\u0000\u0000\u0000\u0000\u0000\u0000\u0000\u0000\u0000\u0000\u0000\u0000\u0000\u0000\u0000\u0000\u0000\u0000\u0000\u0000\u0000\u0000\u0000\u0000\u0000\u0000\u0000\u0000\u0000\u0000\u0000\u0000\u0000\u0000\u0000\u0000\u0000\u0000\u0000\u0000\u0000\u0000\u0000\u0000\u0000\u0000\u0000\u0000\u0000\u0000\u0000\u0000\u0000\u0000\u0000\u0000\u0000\u0000\u0000\u0000\u0000\u0000\u0000\u0000\u0000\u0000\u0000\u0000\u0000\u0000\u0000\u0000\u0000\u0000\u0000\u0000\u0000\u0000\u0000\u0000\u0000\u0000\u0000\u0000\u0000\u0000\u0000\u0000\u0000\u0000\u0000\u0000\u0000\u0000\u0000\u0000\u0000\u0000\u0000\u0000\u0000\u0000\u0000\u0000\u0000\u0000\u0000\u0000\u0000\u0000\u0000\u0000\u0000\u0000\u0000\u0000\u0000\u0000\u0000\u0000\u0000\u0000\u0000\u0000\u0000\u0000\u0000\u0000\u0000\u0000\u0000\u0000\u0000\u0000\u0000\u0000\u0000\u0000\u0000\u0000\u0000\u0000\u0000\u0000\u0000\u0000\u0000\u0000\u0000\u0000\u0000\u0000\u0000\u0000\u0000\u0000\u0000\u0000\u0000\u0000\u0000\u0000\u0000\u0000\u0000\u0000\u0000\u0000\u0000\u0000\u0000\u0000\u0000\u0000\u0000\u0000\u0000\u0000\u0000\u0000\u0000\u0000\u0000\u0000\u0000\u0000\u0000\u0000\u0000\u0000\u0000\u0000\u0000\u0000\u0000\u0000\u0000\u0000\u0000\u0000\u0000\u0000\u0000\u0000\u0000\u0000\u0000\u0000\u0000\u0000\u0000\u0000\u0000\u0000\u0000\u0000\u0000\u0000\u0000\u0000\u0000\u0000\u0000\u0000\u0000\u0000\u0000\u0000\u0000\u0000\u0000\u0000\u0000\u0000\u0000\u0000\u0000\u0000\u0000\u0000\u0000\u0000\u0000\u0000\u0000\u0000\u0000\u0000\u0000\u0000\u0000\u0000\u0000\u0000\u0000\u0000\u0000\u0000\u0000\u0000\u0000\u0000\u0000\u0000\u0000\u0000\u0000\u0000\u0000\u0000\u0000\u0000\u0000\u0000\u0000\u0000\u0000\u0000\u0000\u0000\u0000\u0000\u0000\u0000\u0000\u0000\u0000\u0000\u0000\u0000\u0000\u0000\u0000\u0000\u0000\u0000\u0000\u0000\u0000\u0000\u0000\u0000\u0000\u0000\u0000\u0000\u0000\u0000\u0000\u0000\u0000\u0000\u0000\u0000\u0000\u0000\u0000\u0000\u0000\u0000\u0000\u0000\u0000\u0000\u0000\u0000\u0000\u0000\u0000\u0000\u0000\u0000\u0000\u0000\u0000\u0000\u0000\u0000\u0000\u0000\u0000\u0000\u0000\u0000\u0000\u0000\u0000\u0000\u0000\u0000\u0000\u0000\u0000\u0000\u0000\u0000\u0000\u0000\u0000\u0000\u0000\u0000\u0000\u0000\u0000\u0000\u0000\u0000\u0000\u0000\u0000\u0000\u0000\u0000\u0000\u0000\u0000\u0000\u0000\u0000\u0000\u0000\u0000\u0000\u0000\u0000\u0000\u0000\u0000\u0000\u0000\u0000\u0000\u0000\u0000\u0000\u0000\u0000\u0000\u0000\u0000\u0000\u0000\u0000\u0000\u0000\u0000\u0000\u0000\u0000\u0000\u0000\u0000\u0000\u0000\u0000\u0000\u0000\u0000\u0000\u0000\u0000\u0000\u0000\u0000\u0000\u0000\u0000\u0000\u0000\u0000\u0000\u0000\u0000\u0000\u0000\u0000\u0000\u0000\u0000\u0000\u0000\u0000\u0000\u0000\u0000\u0000\u0000\u0000\u0000\u0000\u0000\u0000\u0000\u0000\u0000\u0000\u0000\u0000\u0000\u0000\u0000\u0000\u0000\u0000\u0000\u0000\u0000\u0000\u0000\u0000\u0000\u0000\u0000\u0000\u0000\u0000\u0000\u0000\u0000\u0000\u0000\u0000\u0000\u0000\u0000\u0000\u0000\u0000\u0000\u0000\u0000\u0000\u0000\u0000\u0000\u0000\u0000\u0000\u0000\u0000\u0000\u0000\u0000\u0000\u0000\u0000\u0000\u0000\u0000\u0000\u0000\u0000\u0000\u0000\u0000\u0000\u0000\u0000\u0000\u0000\u0000\u0000\u0000\u0000\u0000\u0000\u0000\u0000\u0000\u0000\u0000\u0000\u0000\u0000\u0000\u0000\u0000\u0000\u0000\u0000\u0000\u0000\u0000\u0000\u0000\u0000\u0000\u0000\u0000\u0000\u0000\u0000\u0000\u0000\u0000\u0000\u0000\u0000\u0000\u0000\u0000\u0000\u0000\u0000\u0000\u0000\u0000\u0000\u0000\u0000\u0000\u0000\u0000\u0000\u0000\u0000\u0000\u0000\u0000\u0000\u0000\u0000\u0000\u0000\u0000\u0000\u0000\u0000\u0000\u0000\u0000\u0000\u0000\u0000\u0000\u0000\u0000\u0000\u0000\u0000\u0000\u0000\u0000\u0000\u0000\u0000\u0000\u0000\u0000\u0000\u0000\u0000\u0000\u0000\u0000\u0000\u0000\u0000\u0000\u0000\u0000\u0000\u0000\u0000\u0000\u0000\u0000\u0000\u0000\u0000\u0000\u0000\u0000\u0000\u0000\u0000\u0000\u0000\u0000\u0000\u0000\u0000\u0000\u0000\u0000\u0000\u0000\u0000\u0000\u0000\u0000\u0000\u0000\u0000\u0000\u0000\u0000\u0000\u0000\u0000\u0000\u0000\u0000\u0000\u0000\u0000\u0000\u0000\u0000\u0000\u0000\u0000\u0000\u0000\u0000\u0000\u0000\u0000\u0000\u0000\u0000\u0000\u0000\u0000\u0000\u0000\u0000\u0000\u0000\u0000\u0000\u0000\u0000\u0000\u0000\u0000\u0000\u0000\u0000\u0000\u0000\u0000\u0000\u0000\u0000\u0000\u0000\u0000\u0000\u0000\u0000\u0000\u0000\u0000\u0000\u0000\u0000\u0000\u0000\u0000\u0000\u0000\u0000\u0000\u0000\u0000\u0000\u0000\u0000\u0000\u0000\u0000\u0000\u0000\u0000\u0000\u0000\u0000\u0000\u0000\u0000\u0000\u0000\u0000\u0000\u0000\u0000\u0000\u0000\u0000\u0000\u0000\u0000\u0000\u0000\u0000\u0000\u0000\u0000\u0000\u0000\u0000\u0000\u0000\u0000\u0000\u0000\u0000\u0000\u0000\u0000\u0000\u0000\u0000\u0000\u0000\u0000\u0000\u0000\u0000\u0000\u0000\u0000\u0000\u0000\u0000\u0000\u0000\u0000\u0000\u0000\u0000\u0000\u0000\u0000\u0000\u0000\u0000\u0000\u0000\u0000\u0000\u0000\u0000\u0000\u0000\u0000\u0000\u0000\u0000\u0000\u0000\u0000\u0000\u0000\u0000\u0000\u0000\u0000\u0000\u0000\u0000\u0000\u0000\u0000\u0000\u0000\u0000\u0000\u0000\u0000\u0000\u0000\u0000\u0000\u0000\u0000\u0000\u0000\u0000\u0000\u0000\u0000\u0000\u0000\u0000\u0000\u0000\u0000\u0000\u0000\u0000\u0000\u0000\u0000\u0000\u0000\u0000\u0000\u0000\u0000\u0000\u0000\u0000\u0000\u0000\u0000\u0000\u0000\u0000\u0000\u0000\u0000\u0000\u0000\u0000\u0000\u0000\u0000\u0000\u0000\u0000\u0000\u0000\u0000\u0000\u0000\u0000\u0000\u0000\u0000\u0000\u0000\u0000\u0000\u0000\u0000\u0000\u0000\u0000\u0000\u0000\u0000\u0000\u0000\u0000\u0000\u0000\u0000\u0000\u0000\u0000\u0000\u0000\u0000\u0000\u0000\u0000\u0000\u0000\u0000\u0000\u0000\u0000\u0000\u0000\u0000\u0000\u0000\u0000\u0000\u0000\u0000\u0000\u0000\u0000\u0000\u0000\u0000\u0000\u0000\u0000\u0000\u0000\u0000\u0000\u0000\u0000\u0000\u0000\u0000\u0000\u0000\u0000\u0000\u0000\u0000\u0000\u0000\u0000\u0000\u0000\u0000\u0000\u0000\u0000\u0000\u0000\u0000\u0000\u0000\u0000\u0000\u0000\u0000\u0000\u0000\u0000\u0000\u0000\u0000\u0000\u0000\u0000\u0000\u0000\u0000\u0000\u0000\u0000\u0000\u0000\u0000\u0000\u0000\u0000\u0000\u0000\u0000\u0000\u0000\u0000\u0000\u0000\u0000\u0000\u0000\u0000\u0000\u0000\u0000\u0000\u0000\u0000\u0000\u0000\u0000\u0000\u0000\u0000\u0000\u0000\u0000\u0000\u0000\u0000\u0000\u0000\u0000\u0000\u0000\u0000\u0000\u0000\u0000\u0000\u0000\u0000\u0000\u0000\u0000\u0000\u0000\u0000\u0000\u0000\u0000\u0000\u0000\u0000\u0000\u0000\u0000\u0000\u0000\u0000\u0000\u0000\u0000\u0000\u0000\u0000\u0000\u0000\u0000\u0000\u0000\u0000\u0000\u0000\u0000\u0000\u0000\u0000\u0000\u0000\u0000\u0000\u0000\u0000\u0000\u0000\u0000\u0000\u0000\u0000\u0000\u0000\u0000\u0000\u0000\u0000\u0000\u0000\u0000\u0000\u0000\u0000\u0000\u0000\u0000\u0000\u0000\u0000\u0000\u0000\u0000\u0000\u0000\u0000\u0000\u0000\u0000\u0000\u0000\u0000\u0000\u0000\u0000\u0000\u0000\u0000\u0000\u0000\u0000\u0000\u0000\u0000\u0000\u0000\u0000\u0000\u0000\u0000\u0000\u0000\u0000\u0000\u0000\u0000\u0000\u0000\u0000\u0000\u0000\u0000\u0000\u0000\u0000\u0000\u0000\u0000\u0000\u0000\u0000\u0000\u0000\u0000\u0000\u0000\u0000\u0000\u0000\u0000\u0000\u0000\u0000\u0000\u0000\u0000\u0000\u0000\u0000\u0000\u0000\u0000\u0000\u0000\u0000\u0000\u0000\u0000\u0000\u0000\u0000\u0000\u0000\u0000\u0000\u0000\u0000\u0000\u0000\u0000\u0000\u0000\u0000\u0000\u0000\u0000\u0000\u0000\u0000\u0000\u0000\u0000\u0000\u0000\u0000\u0000\u0000\u0000\u0000\u0000\u0000\u0000\u0000\u0000\u0000\u0000\u0000\u0000\u0000\u0000\u0000\u0000\u0000\u0000\u0000\u0000\u0000\u0000\u0000\u0000\u0000\u0000\u0000\u0000\u0000\u0000\u0000\u0000\u0000\u0000\u0000\u0000\u0000\u0000\u0000\u0000\u0000\u0000\u0000\u0000\u0000\u0000\u0000@\u0011\u0000\u0000\u0000\u0000\u0000\u0000\u0000\u0011\u0000\u0000\u0000\u0000\u0000\u0000\u0001\u0000\u0000\u0000\u0000\u0000\u0000\u0000)\u0000\u0000\u0000\u0000\u0000\u0000\u0000\f\u0000\u0000\u0000\u0000\u0000\u0000\u0000\u0000\u0010\u0000\u0000\u0000\u0000\u0000\u0000\r\u0000\u0000\u0000\u0000\u0000\u0000\u0000�\u0011\u0000\u0000\u0000\u0000\u0000\u0000\u0019\u0000\u0000\u0000\u0000\u0000\u0000\u0000�=\u0000\u0000\u0000\u0000\u0000\u0000\u001b\u0000\u0000\u0000\u0000\u0000\u0000\u0000\b\u0000\u0000\u0000\u0000\u0000\u0000\u0000\u001a\u0000\u0000\u0000\u0000\u0000\u0000\u0000�=\u0000\u0000\u0000\u0000\u0000\u0000\u001c\u0000\u0000\u0000\u0000\u0000\u0000\u0000\b\u0000\u0000\u0000\u0000\u0000\u0000\u0000���o\u0000\u0000\u0000\u0000�\u0003\u0000\u0000\u0000\u0000\u0000\u0000\u0005\u0000\u0000\u0000\u0000\u0000\u0000\u0000�\u0004\u0000\u0000\u0000\u0000\u0000\u0000\u0006\u0000\u0000\u0000\u0000\u0000\u0000\u0000�\u0003\u0000\u0000\u0000\u0000\u0000\u0000\n",
            "\u0000\u0000\u0000\u0000\u0000\u0000\u0000�\u0000\u0000\u0000\u0000\u0000\u0000\u0000\u000b\u0000\u0000\u0000\u0000\u0000\u0000\u0000\u0018\u0000\u0000\u0000\u0000\u0000\u0000\u0000\u0015\u0000\u0000\u0000\u0000\u0000\u0000\u0000\u0000\u0000\u0000\u0000\u0000\u0000\u0000\u0000\u0003\u0000\u0000\u0000\u0000\u0000\u0000\u0000�?\u0000\u0000\u0000\u0000\u0000\u0000\u0002\u0000\u0000\u0000\u0000\u0000\u0000\u0000\u0018\u0000\u0000\u0000\u0000\u0000\u0000\u0000\u0014\u0000\u0000\u0000\u0000\u0000\u0000\u0000\u0007\u0000\u0000\u0000\u0000\u0000\u0000\u0000\u0017\u0000\u0000\u0000\u0000\u0000\u0000\u0000\u0010\u0006\u0000\u0000\u0000\u0000\u0000\u0000\u0007\u0000\u0000\u0000\u0000\u0000\u0000\u0000P\u0005\u0000\u0000\u0000\u0000\u0000\u0000\b\u0000\u0000\u0000\u0000\u0000\u0000\u0000�\u0000\u0000\u0000\u0000\u0000\u0000\u0000\t\u0000\u0000\u0000\u0000\u0000\u0000\u0000\u0018\u0000\u0000\u0000\u0000\u0000\u0000\u0000\u001e\u0000\u0000\u0000\u0000\u0000\u0000\u0000\b\u0000\u0000\u0000\u0000\u0000\u0000\u0000���o\u0000\u0000\u0000\u0000\u0001\u0000\u0000\b\u0000\u0000\u0000\u0000���o\u0000\u0000\u0000\u0000 \u0005\u0000\u0000\u0000\u0000\u0000\u0000���o\u0000\u0000\u0000\u0000\u0001\u0000\u0000\u0000\u0000\u0000\u0000\u0000���o\u0000\u0000\u0000\u0000\u0010\u0005\u0000\u0000\u0000\u0000\u0000\u0000���o\u0000\u0000\u0000\u0000\u0003\u0000\u0000\u0000\u0000\u0000\u0000\u0000\u0000\u0000\u0000\u0000\u0000\u0000\u0000\u0000\u0000\u0000\u0000\u0000\u0000\u0000\u0000\u0000\u0000\u0000\u0000\u0000\u0000\u0000\u0000\u0000\u0000\u0000\u0000\u0000\u0000\u0000\u0000\u0000\u0000\u0000\u0000\u0000\u0000\u0000\u0000\u0000\u0000\u0000\u0000\u0000\u0000\u0000\u0000\u0000\u0000\u0000\u0000\u0000\u0000\u0000\u0000\u0000\u0000\u0000\u0000\u0000\u0000\u0000\u0000\u0000\u0000\u0000\u0000\u0000\u0000\u0000\u0000\u0000\u0000\u0000\u0000\u0000\u0000\u0000\u0000\u0000�=\u0000\u0000\u0000\u0000\u0000\u0000\u0000\u0000\u0000\u0000\u0000\u0000\u0000\u0000\u0000\u0000\u0000\u0000\u0000\u0000\u0000\u00000\u0010\u0000\u0000\u0000\u0000\u0000\u0000\u0000\u0000\u0000\u0000\u0000\u0000\u0000\u0000\u0000\u0000\u0000\u0000\u0000\u0000\u0000\u0000\u0000\u0000\u0000\u0000\u0000\u0000\u0000\u0000\u0000\u0000\u0000\u0000\u0000\u0000\u0000\u0000\u0000\u0000\u0000\u0000\u0000\u0000\u0000\u0000\u0000\u0000\u0000\u0000\u0000\u0000\u0000\u0000\b@\u0000\u0000\u0000\u0000\u0000\u0000GCC: (Ubuntu 11.4.0-1ubuntu1~22.04) 11.4.0\u0000\u0000\u0000\u0000\u0000\u0000\u0000\u0000\u0000\u0000\u0000\u0000\u0000\u0000\u0000\u0000\u0000\u0000\u0000\u0000\u0000\u0000\u0000\u0000\u0000\u0000\u0000\u0000\u0000\u0000\u0001\u0000\u0000\u0000\u0004\u0000��\u0000\u0000\u0000\u0000\u0000\u0000\u0000\u0000\u0000\u0000\u0000\u0000\u0000\u0000\u0000\u0000\t\u0000\u0000\u0000\u0001\u0000\u0004\u0000�\u0003\u0000\u0000\u0000\u0000\u0000\u0000 \u0000\u0000\u0000\u0000\u0000\u0000\u0000\u0013\u0000\u0000\u0000\u0004\u0000��\u0000\u0000\u0000\u0000\u0000\u0000\u0000\u0000\u0000\u0000\u0000\u0000\u0000\u0000\u0000\u0000\u001e\u0000\u0000\u0000\u0002\u0000\u0010\u0000�\u0010\u0000\u0000\u0000\u0000\u0000\u0000\u0000\u0000\u0000\u0000\u0000\u0000\u0000\u0000 \u0000\u0000\u0000\u0002\u0000\u0010\u0000�\u0010\u0000\u0000\u0000\u0000\u0000\u0000\u0000\u0000\u0000\u0000\u0000\u0000\u0000\u00003\u0000\u0000\u0000\u0002\u0000\u0010\u0000\u0000\u0011\u0000\u0000\u0000\u0000\u0000\u0000\u0000\u0000\u0000\u0000\u0000\u0000\u0000\u0000I\u0000\u0000\u0000\u0001\u0000\u001a\u0000\u0010@\u0000\u0000\u0000\u0000\u0000\u0000\u0001\u0000\u0000\u0000\u0000\u0000\u0000\u0000U\u0000\u0000\u0000\u0001\u0000\u0016\u0000�=\u0000\u0000\u0000\u0000\u0000\u0000\u0000\u0000\u0000\u0000\u0000\u0000\u0000\u0000|\u0000\u0000\u0000\u0002\u0000\u0010\u0000@\u0011\u0000\u0000\u0000\u0000\u0000\u0000\u0000\u0000\u0000\u0000\u0000\u0000\u0000\u0000�\u0000\u0000\u0000\u0001\u0000\u0015\u0000�=\u0000\u0000\u0000\u0000\u0000\u0000\u0000\u0000\u0000\u0000\u0000\u0000\u0000\u0000�\u0000\u0000\u0000\u0004\u0000��\u0000\u0000\u0000\u0000\u0000\u0000\u0000\u0000\u0000\u0000\u0000\u0000\u0000\u0000\u0000\u0000\u0013\u0000\u0000\u0000\u0004\u0000��\u0000\u0000\u0000\u0000\u0000\u0000\u0000\u0000\u0000\u0000\u0000\u0000\u0000\u0000\u0000\u0000�\u0000\u0000\u0000\u0001\u0000\u0014\u0000\u0010!\u0000\u0000\u0000\u0000\u0000\u0000\u0000\u0000\u0000\u0000\u0000\u0000\u0000\u0000\u0000\u0000\u0000\u0000\u0004\u0000��\u0000\u0000\u0000\u0000\u0000\u0000\u0000\u0000\u0000\u0000\u0000\u0000\u0000\u0000\u0000\u0000�\u0000\u0000\u0000\u0001\u0000\u0017\u0000�=\u0000\u0000\u0000\u0000\u0000\u0000\u0000\u0000\u0000\u0000\u0000\u0000\u0000\u0000�\u0000\u0000\u0000\u0000\u0000\u0013\u00004 \u0000\u0000\u0000\u0000\u0000\u0000\u0000\u0000\u0000\u0000\u0000\u0000\u0000\u0000�\u0000\u0000\u0000\u0001\u0000\u0018\u0000�?\u0000\u0000\u0000\u0000\u0000\u0000\u0000\u0000\u0000\u0000\u0000\u0000\u0000\u0000�\u0000\u0000\u0000\u0012\u0000\u0000\u0000\u0000\u0000\u0000\u0000\u0000\u0000\u0000\u0000\u0000\u0000\u0000\u0000\u0000\u0000\u0000\u0000\r\u0001\u0000\u0000 \u0000\u0000\u0000\u0000\u0000\u0000\u0000\u0000\u0000\u0000\u0000\u0000\u0000\u0000\u0000\u0000\u0000\u0000\u0000K\u0001\u0000\u0000 \u0000\u0019\u0000\u0000@\u0000\u0000\u0000\u0000\u0000\u0000\u0000\u0000\u0000\u0000\u0000\u0000\u0000\u0000)\u0001\u0000\u0000\u0010\u0000\u0019\u0000\u0010@\u0000\u0000\u0000\u0000\u0000\u0000\u0000\u0000\u0000\u0000\u0000\u0000\u0000\u00000\u0001\u0000\u0000\u0012\u0002\u0011\u0000�\u0011\u0000\u0000\u0000\u0000\u0000\u0000\u0000\u0000\u0000\u0000\u0000\u0000\u0000\u00006\u0001\u0000\u0000\u0012\u0000\u0000\u0000\u0000\u0000\u0000\u0000\u0000\u0000\u0000\u0000\u0000\u0000\u0000\u0000\u0000\u0000\u0000\u0000I\u0001\u0000\u0000\u0010\u0000\u0019\u0000\u0000@\u0000\u0000\u0000\u0000\u0000\u0000\u0000\u0000\u0000\u0000\u0000\u0000\u0000\u0000V\u0001\u0000\u0000 \u0000\u0000\u0000\u0000\u0000\u0000\u0000\u0000\u0000\u0000\u0000\u0000\u0000\u0000\u0000\u0000\u0000\u0000\u0000e\u0001\u0000\u0000\u0011\u0002\u0019\u0000\b@\u0000\u0000\u0000\u0000\u0000\u0000\u0000\u0000\u0000\u0000\u0000\u0000\u0000\u0000r\u0001\u0000\u0000\u0011\u0000\u0012\u0000\u0000 \u0000\u0000\u0000\u0000\u0000\u0000\u0004\u0000\u0000\u0000\u0000\u0000\u0000\u0000�\u0001\u0000\u0000\u0010\u0000\u001a\u0000\u0018@\u0000\u0000\u0000\u0000\u0000\u0000\u0000\u0000\u0000\u0000\u0000\u0000\u0000\u0000O\u0001\u0000\u0000\u0012\u0000\u0010\u0000`\u0010\u0000\u0000\u0000\u0000\u0000\u0000&\u0000\u0000\u0000\u0000\u0000\u0000\u0000�\u0001\u0000\u0000\u0010\u0000\u001a\u0000\u0010@\u0000\u0000\u0000\u0000\u0000\u0000\u0000\u0000\u0000\u0000\u0000\u0000\u0000\u0000�\u0001\u0000\u0000\u0012\u0000\u0010\u0000I\u0011\u0000\u0000\u0000\u0000\u0000\u0000X\u0000\u0000\u0000\u0000\u0000\u0000\u0000�\u0001\u0000\u0000\u0011\u0002\u0019\u0000\u0010@\u0000\u0000\u0000\u0000\u0000\u0000\u0000\u0000\u0000\u0000\u0000\u0000\u0000\u0000�\u0001\u0000\u0000 \u0000\u0000\u0000\u0000\u0000\u0000\u0000\u0000\u0000\u0000\u0000\u0000\u0000\u0000\u0000\u0000\u0000\u0000\u0000�\u0001\u0000\u0000\"\u0000\u0000\u0000\u0000\u0000\u0000\u0000\u0000\u0000\u0000\u0000\u0000\u0000\u0000\u0000\u0000\u0000\u0000\u0000�\u0001\u0000\u0000\u0012\u0002\f\u0000\u0000\u0010\u0000\u0000\u0000\u0000\u0000\u0000\u0000\u0000\u0000\u0000\u0000\u0000\u0000\u0000\u0000Scrt1.o\u0000__abi_tag\u0000crtstuff.c\u0000deregister_tm_clones\u0000__do_global_dtors_aux\u0000completed.0\u0000__do_global_dtors_aux_fini_array_entry\u0000frame_dummy\u0000__frame_dummy_init_array_entry\u0000hello2.c\u0000__FRAME_END__\u0000_DYNAMIC\u0000__GNU_EH_FRAME_HDR\u0000_GLOBAL_OFFSET_TABLE_\u0000__libc_start_main@GLIBC_2.34\u0000_ITM_deregisterTMCloneTable\u0000_edata\u0000_fini\u0000printf@GLIBC_2.2.5\u0000__data_start\u0000__gmon_start__\u0000__dso_handle\u0000_IO_stdin_used\u0000_end\u0000__bss_start\u0000main\u0000__TMC_END__\u0000_ITM_registerTMCloneTable\u0000__cxa_finalize@GLIBC_2.2.5\u0000_init\u0000\u0000.symtab\u0000.strtab\u0000.shstrtab\u0000.interp\u0000.note.gnu.property\u0000.note.gnu.build-id\u0000.note.ABI-tag\u0000.gnu.hash\u0000.dynsym\u0000.dynstr\u0000.gnu.version\u0000.gnu.version_r\u0000.rela.dyn\u0000.rela.plt\u0000.init\u0000.plt.got\u0000.plt.sec\u0000.text\u0000.fini\u0000.rodata\u0000.eh_frame_hdr\u0000.eh_frame\u0000.init_array\u0000.fini_array\u0000.dynamic\u0000.data\u0000.bss\u0000.comment\u0000\u0000\u0000\u0000\u0000\u0000\u0000\u0000\u0000\u0000\u0000\u0000\u0000\u0000\u0000\u0000\u0000\u0000\u0000\u0000\u0000\u0000\u0000\u0000\u0000\u0000\u0000\u0000\u0000\u0000\u0000\u0000\u0000\u0000\u0000\u0000\u0000\u0000\u0000\u0000\u0000\u0000\u0000\u0000\u0000\u0000\u0000\u0000\u0000\u0000\u0000\u0000\u0000\u0000\u0000\u0000\u0000\u0000\u0000\u0000\u0000\u0000\u0000\u0000\u0000\u001b\u0000\u0000\u0000\u0001\u0000\u0000\u0000\u0002\u0000\u0000\u0000\u0000\u0000\u0000\u0000\u0018\u0003\u0000\u0000\u0000\u0000\u0000\u0000\u0018\u0003\u0000\u0000\u0000\u0000\u0000\u0000\u001c\u0000\u0000\u0000\u0000\u0000\u0000\u0000\u0000\u0000\u0000\u0000\u0000\u0000\u0000\u0000\u0001\u0000\u0000\u0000\u0000\u0000\u0000\u0000\u0000\u0000\u0000\u0000\u0000\u0000\u0000\u0000#\u0000\u0000\u0000\u0007\u0000\u0000\u0000\u0002\u0000\u0000\u0000\u0000\u0000\u0000\u00008\u0003\u0000\u0000\u0000\u0000\u0000\u00008\u0003\u0000\u0000\u0000\u0000\u0000\u00000\u0000\u0000\u0000\u0000\u0000\u0000\u0000\u0000\u0000\u0000\u0000\u0000\u0000\u0000\u0000\b\u0000\u0000\u0000\u0000\u0000\u0000\u0000\u0000\u0000\u0000\u0000\u0000\u0000\u0000\u00006\u0000\u0000\u0000\u0007\u0000\u0000\u0000\u0002\u0000\u0000\u0000\u0000\u0000\u0000\u0000h\u0003\u0000\u0000\u0000\u0000\u0000\u0000h\u0003\u0000\u0000\u0000\u0000\u0000\u0000$\u0000\u0000\u0000\u0000\u0000\u0000\u0000\u0000\u0000\u0000\u0000\u0000\u0000\u0000\u0000\u0004\u0000\u0000\u0000\u0000\u0000\u0000\u0000\u0000\u0000\u0000\u0000\u0000\u0000\u0000\u0000I\u0000\u0000\u0000\u0007\u0000\u0000\u0000\u0002\u0000\u0000\u0000\u0000\u0000\u0000\u0000�\u0003\u0000\u0000\u0000\u0000\u0000\u0000�\u0003\u0000\u0000\u0000\u0000\u0000\u0000 \u0000\u0000\u0000\u0000\u0000\u0000\u0000\u0000\u0000\u0000\u0000\u0000\u0000\u0000\u0000\u0004\u0000\u0000\u0000\u0000\u0000\u0000\u0000\u0000\u0000\u0000\u0000\u0000\u0000\u0000\u0000W\u0000\u0000\u0000���o\u0002\u0000\u0000\u0000\u0000\u0000\u0000\u0000�\u0003\u0000\u0000\u0000\u0000\u0000\u0000�\u0003\u0000\u0000\u0000\u0000\u0000\u0000$\u0000\u0000\u0000\u0000\u0000\u0000\u0000\u0006\u0000\u0000\u0000\u0000\u0000\u0000\u0000\b\u0000\u0000\u0000\u0000\u0000\u0000\u0000\u0000\u0000\u0000\u0000\u0000\u0000\u0000\u0000a\u0000\u0000\u0000\u000b\u0000\u0000\u0000\u0002\u0000\u0000\u0000\u0000\u0000\u0000\u0000�\u0003\u0000\u0000\u0000\u0000\u0000\u0000�\u0003\u0000\u0000\u0000\u0000\u0000\u0000�\u0000\u0000\u0000\u0000\u0000\u0000\u0000\u0007\u0000\u0000\u0000\u0001\u0000\u0000\u0000\b\u0000\u0000\u0000\u0000\u0000\u0000\u0000\u0018\u0000\u0000\u0000\u0000\u0000\u0000\u0000i\u0000\u0000\u0000\u0003\u0000\u0000\u0000\u0002\u0000\u0000\u0000\u0000\u0000\u0000\u0000�\u0004\u0000\u0000\u0000\u0000\u0000\u0000�\u0004\u0000\u0000\u0000\u0000\u0000\u0000�\u0000\u0000\u0000\u0000\u0000\u0000\u0000\u0000\u0000\u0000\u0000\u0000\u0000\u0000\u0000\u0001\u0000\u0000\u0000\u0000\u0000\u0000\u0000\u0000\u0000\u0000\u0000\u0000\u0000\u0000\u0000q\u0000\u0000\u0000���o\u0002\u0000\u0000\u0000\u0000\u0000\u0000\u0000\u0010\u0005\u0000\u0000\u0000\u0000\u0000\u0000\u0010\u0005\u0000\u0000\u0000\u0000\u0000\u0000\u000e\u0000\u0000\u0000\u0000\u0000\u0000\u0000\u0006\u0000\u0000\u0000\u0000\u0000\u0000\u0000\u0002\u0000\u0000\u0000\u0000\u0000\u0000\u0000\u0002\u0000\u0000\u0000\u0000\u0000\u0000\u0000~\u0000\u0000\u0000���o\u0002\u0000\u0000\u0000\u0000\u0000\u0000\u0000 \u0005\u0000\u0000\u0000\u0000\u0000\u0000 \u0005\u0000\u0000\u0000\u0000\u0000\u00000\u0000\u0000\u0000\u0000\u0000\u0000\u0000\u0007\u0000\u0000\u0000\u0001\u0000\u0000\u0000\b\u0000\u0000\u0000\u0000\u0000\u0000\u0000\u0000\u0000\u0000\u0000\u0000\u0000\u0000\u0000�\u0000\u0000\u0000\u0004\u0000\u0000\u0000\u0002\u0000\u0000\u0000\u0000\u0000\u0000\u0000P\u0005\u0000\u0000\u0000\u0000\u0000\u0000P\u0005\u0000\u0000\u0000\u0000\u0000\u0000�\u0000\u0000\u0000\u0000\u0000\u0000\u0000\u0006\u0000\u0000\u0000\u0000\u0000\u0000\u0000\b\u0000\u0000\u0000\u0000\u0000\u0000\u0000\u0018\u0000\u0000\u0000\u0000\u0000\u0000\u0000�\u0000\u0000\u0000\u0004\u0000\u0000\u0000B\u0000\u0000\u0000\u0000\u0000\u0000\u0000\u0010\u0006\u0000\u0000\u0000\u0000\u0000\u0000\u0010\u0006\u0000\u0000\u0000\u0000\u0000\u0000\u0018\u0000\u0000\u0000\u0000\u0000\u0000\u0000\u0006\u0000\u0000\u0000\u0018\u0000\u0000\u0000\b\u0000\u0000\u0000\u0000\u0000\u0000\u0000\u0018\u0000\u0000\u0000\u0000\u0000\u0000\u0000�\u0000\u0000\u0000\u0001\u0000\u0000\u0000\u0006\u0000\u0000\u0000\u0000\u0000\u0000\u0000\u0000\u0010\u0000\u0000\u0000\u0000\u0000\u0000\u0000\u0010\u0000\u0000\u0000\u0000\u0000\u0000\u001b\u0000\u0000\u0000\u0000\u0000\u0000\u0000\u0000\u0000\u0000\u0000\u0000\u0000\u0000\u0000\u0004\u0000\u0000\u0000\u0000\u0000\u0000\u0000\u0000\u0000\u0000\u0000\u0000\u0000\u0000\u0000�\u0000\u0000\u0000\u0001\u0000\u0000\u0000\u0006\u0000\u0000\u0000\u0000\u0000\u0000\u0000 \u0010\u0000\u0000\u0000\u0000\u0000\u0000 \u0010\u0000\u0000\u0000\u0000\u0000\u0000 \u0000\u0000\u0000\u0000\u0000\u0000\u0000\u0000\u0000\u0000\u0000\u0000\u0000\u0000\u0000\u0010\u0000\u0000\u0000\u0000\u0000\u0000\u0000\u0010\u0000\u0000\u0000\u0000\u0000\u0000\u0000�\u0000\u0000\u0000\u0001\u0000\u0000\u0000\u0006\u0000\u0000\u0000\u0000\u0000\u0000\u0000@\u0010\u0000\u0000\u0000\u0000\u0000\u0000@\u0010\u0000\u0000\u0000\u0000\u0000\u0000\u0010\u0000\u0000\u0000\u0000\u0000\u0000\u0000\u0000\u0000\u0000\u0000\u0000\u0000\u0000\u0000\u0010\u0000\u0000\u0000\u0000\u0000\u0000\u0000\u0010\u0000\u0000\u0000\u0000\u0000\u0000\u0000�\u0000\u0000\u0000\u0001\u0000\u0000\u0000\u0006\u0000\u0000\u0000\u0000\u0000\u0000\u0000P\u0010\u0000\u0000\u0000\u0000\u0000\u0000P\u0010\u0000\u0000\u0000\u0000\u0000\u0000\u0010\u0000\u0000\u0000\u0000\u0000\u0000\u0000\u0000\u0000\u0000\u0000\u0000\u0000\u0000\u0000\u0010\u0000\u0000\u0000\u0000\u0000\u0000\u0000\u0010\u0000\u0000\u0000\u0000\u0000\u0000\u0000�\u0000\u0000\u0000\u0001\u0000\u0000\u0000\u0006\u0000\u0000\u0000\u0000\u0000\u0000\u0000`\u0010\u0000\u0000\u0000\u0000\u0000\u0000`\u0010\u0000\u0000\u0000\u0000\u0000\u0000A\u0001\u0000\u0000\u0000\u0000\u0000\u0000\u0000\u0000\u0000\u0000\u0000\u0000\u0000\u0000\u0010\u0000\u0000\u0000\u0000\u0000\u0000\u0000\u0000\u0000\u0000\u0000\u0000\u0000\u0000\u0000�\u0000\u0000\u0000\u0001\u0000\u0000\u0000\u0006\u0000\u0000\u0000\u0000\u0000\u0000\u0000�\u0011\u0000\u0000\u0000\u0000\u0000\u0000�\u0011\u0000\u0000\u0000\u0000\u0000\u0000\r\u0000\u0000\u0000\u0000\u0000\u0000\u0000\u0000\u0000\u0000\u0000\u0000\u0000\u0000\u0000\u0004\u0000\u0000\u0000\u0000\u0000\u0000\u0000\u0000\u0000\u0000\u0000\u0000\u0000\u0000\u0000�\u0000\u0000\u0000\u0001\u0000\u0000\u0000\u0002\u0000\u0000\u0000\u0000\u0000\u0000\u0000\u0000 \u0000\u0000\u0000\u0000\u0000\u0000\u0000 \u0000\u0000\u0000\u0000\u0000\u00001\u0000\u0000\u0000\u0000\u0000\u0000\u0000\u0000\u0000\u0000\u0000\u0000\u0000\u0000\u0000\b\u0000\u0000\u0000\u0000\u0000\u0000\u0000\u0000\u0000\u0000\u0000\u0000\u0000\u0000\u0000�\u0000\u0000\u0000\u0001\u0000\u0000\u0000\u0002\u0000\u0000\u0000\u0000\u0000\u0000\u00004 \u0000\u0000\u0000\u0000\u0000\u00004 \u0000\u0000\u0000\u0000\u0000\u00004\u0000\u0000\u0000\u0000\u0000\u0000\u0000\u0000\u0000\u0000\u0000\u0000\u0000\u0000\u0000\u0004\u0000\u0000\u0000\u0000\u0000\u0000\u0000\u0000\u0000\u0000\u0000\u0000\u0000\u0000\u0000�\u0000\u0000\u0000\u0001\u0000\u0000\u0000\u0002\u0000\u0000\u0000\u0000\u0000\u0000\u0000h \u0000\u0000\u0000\u0000\u0000\u0000h \u0000\u0000\u0000\u0000\u0000\u0000�\u0000\u0000\u0000\u0000\u0000\u0000\u0000\u0000\u0000\u0000\u0000\u0000\u0000\u0000\u0000\b\u0000\u0000\u0000\u0000\u0000\u0000\u0000\u0000\u0000\u0000\u0000\u0000\u0000\u0000\u0000�\u0000\u0000\u0000\u000e\u0000\u0000\u0000\u0003\u0000\u0000\u0000\u0000\u0000\u0000\u0000�=\u0000\u0000\u0000\u0000\u0000\u0000�-\u0000\u0000\u0000\u0000\u0000\u0000\b\u0000\u0000\u0000\u0000\u0000\u0000\u0000\u0000\u0000\u0000\u0000\u0000\u0000\u0000\u0000\b\u0000\u0000\u0000\u0000\u0000\u0000\u0000\b\u0000\u0000\u0000\u0000\u0000\u0000\u0000�\u0000\u0000\u0000\u000f\u0000\u0000\u0000\u0003\u0000\u0000\u0000\u0000\u0000\u0000\u0000�=\u0000\u0000\u0000\u0000\u0000\u0000�-\u0000\u0000\u0000\u0000\u0000\u0000\b\u0000\u0000\u0000\u0000\u0000\u0000\u0000\u0000\u0000\u0000\u0000\u0000\u0000\u0000\u0000\b\u0000\u0000\u0000\u0000\u0000\u0000\u0000\b\u0000\u0000\u0000\u0000\u0000\u0000\u0000�\u0000\u0000\u0000\u0006\u0000\u0000\u0000\u0003\u0000\u0000\u0000\u0000\u0000\u0000\u0000�=\u0000\u0000\u0000\u0000\u0000\u0000�-\u0000\u0000\u0000\u0000\u0000\u0000�\u0001\u0000\u0000\u0000\u0000\u0000\u0000\u0007\u0000\u0000\u0000\u0000\u0000\u0000\u0000\b\u0000\u0000\u0000\u0000\u0000\u0000\u0000\u0010\u0000\u0000\u0000\u0000\u0000\u0000\u0000�\u0000\u0000\u0000\u0001\u0000\u0000\u0000\u0003\u0000\u0000\u0000\u0000\u0000\u0000\u0000�?\u0000\u0000\u0000\u0000\u0000\u0000�/\u0000\u0000\u0000\u0000\u0000\u0000H\u0000\u0000\u0000\u0000\u0000\u0000\u0000\u0000\u0000\u0000\u0000\u0000\u0000\u0000\u0000\b\u0000\u0000\u0000\u0000\u0000\u0000\u0000\b\u0000\u0000\u0000\u0000\u0000\u0000\u0000\u0006\u0001\u0000\u0000\u0001\u0000\u0000\u0000\u0003\u0000\u0000\u0000\u0000\u0000\u0000\u0000\u0000@\u0000\u0000\u0000\u0000\u0000\u0000\u00000\u0000\u0000\u0000\u0000\u0000\u0000\u0010\u0000\u0000\u0000\u0000\u0000\u0000\u0000\u0000\u0000\u0000\u0000\u0000\u0000\u0000\u0000\b\u0000\u0000\u0000\u0000\u0000\u0000\u0000\u0000\u0000\u0000\u0000\u0000\u0000\u0000\u0000\f\u0001\u0000\u0000\b\u0000\u0000\u0000\u0003\u0000\u0000\u0000\u0000\u0000\u0000\u0000\u0010@\u0000\u0000\u0000\u0000\u0000\u0000\u00100\u0000\u0000\u0000\u0000\u0000\u0000\b\u0000\u0000\u0000\u0000\u0000\u0000\u0000\u0000\u0000\u0000\u0000\u0000\u0000\u0000\u0000\u0001\u0000\u0000\u0000\u0000\u0000\u0000\u0000\u0000\u0000\u0000\u0000\u0000\u0000\u0000\u0000\u0011\u0001\u0000\u0000\u0001\u0000\u0000\u00000\u0000\u0000\u0000\u0000\u0000\u0000\u0000\u0000\u0000\u0000\u0000\u0000\u0000\u0000\u0000\u00100\u0000\u0000\u0000\u0000\u0000\u0000+\u0000\u0000\u0000\u0000\u0000\u0000\u0000\u0000\u0000\u0000\u0000\u0000\u0000\u0000\u0000\u0001\u0000\u0000\u0000\u0000\u0000\u0000\u0000\u0001\u0000\u0000\u0000\u0000\u0000\u0000\u0000\u0001\u0000\u0000\u0000\u0002\u0000\u0000\u0000\u0000\u0000\u0000\u0000\u0000\u0000\u0000\u0000\u0000\u0000\u0000\u0000\u0000\u0000\u0000\u0000@0\u0000\u0000\u0000\u0000\u0000\u0000`\u0003\u0000\u0000\u0000\u0000\u0000\u0000\u001d\u0000\u0000\u0000\u0012\u0000\u0000\u0000\b\u0000\u0000\u0000\u0000\u0000\u0000\u0000\u0018\u0000\u0000\u0000\u0000\u0000\u0000\u0000\t\u0000\u0000\u0000\u0003\u0000\u0000\u0000\u0000\u0000\u0000\u0000\u0000\u0000\u0000\u0000\u0000\u0000\u0000\u0000\u0000\u0000\u0000\u0000�3\u0000\u0000\u0000\u0000\u0000\u0000�\u0001\u0000\u0000\u0000\u0000\u0000\u0000\u0000\u0000\u0000\u0000\u0000\u0000\u0000\u0000\u0001\u0000\u0000\u0000\u0000\u0000\u0000\u0000\u0000\u0000\u0000\u0000\u0000\u0000\u0000\u0000\u0011\u0000\u0000\u0000\u0003\u0000\u0000\u0000\u0000\u0000\u0000\u0000\u0000\u0000\u0000\u0000\u0000\u0000\u0000\u0000\u0000\u0000\u0000\u0000~5\u0000\u0000\u0000\u0000\u0000\u0000\u001a\u0001\u0000\u0000\u0000\u0000\u0000\u0000\u0000\u0000\u0000\u0000\u0000\u0000\u0000\u0000\u0001\u0000\u0000\u0000\u0000\u0000\u0000\u0000\u0000\u0000\u0000\u0000\u0000\u0000\u0000\u0000"
          ]
        }
      ]
    },
    {
      "cell_type": "markdown",
      "source": [
        "Note: GCC by default does dynamic linking, so printf() is dynamically linked in above program."
      ],
      "metadata": {
        "id": "lR_PaHgXFc9w"
      }
    },
    {
      "cell_type": "code",
      "source": [
        "!size hello2 #much bigger, This is because of the extra code that Linker adds to our program."
      ],
      "metadata": {
        "colab": {
          "base_uri": "https://localhost:8080/"
        },
        "id": "4uR6X_lVFPX4",
        "outputId": "1e7aa028-42a2-49b4-9a38-56846b15a220"
      },
      "execution_count": null,
      "outputs": [
        {
          "output_type": "stream",
          "name": "stdout",
          "text": [
            "   text\t   data\t    bss\t    dec\t    hex\tfilename\n",
            "   1467\t    600\t      8\t   2075\t    81b\thello2\n"
          ]
        }
      ]
    },
    {
      "cell_type": "code",
      "source": [
        "!size hello2.o"
      ],
      "metadata": {
        "colab": {
          "base_uri": "https://localhost:8080/"
        },
        "id": "myaOOlvWFRfK",
        "outputId": "a5417beb-7c3a-4b79-edc0-d6b01d1db527"
      },
      "execution_count": null,
      "outputs": [
        {
          "output_type": "stream",
          "name": "stdout",
          "text": [
            "   text\t   data\t    bss\t    dec\t    hex\tfilename\n",
            "    217\t      0\t      0\t    217\t     d9\thello2.o\n"
          ]
        }
      ]
    },
    {
      "cell_type": "markdown",
      "source": [
        "The archiver, also known simply as ar, is a Unix utility that maintains groups of files as a single archive file."
      ],
      "metadata": {
        "id": "vHvUOm99GEfU"
      }
    },
    {
      "cell_type": "code",
      "source": [
        "!ar rcs hello2.a hello2.o"
      ],
      "metadata": {
        "id": "qSsoUd3CFwfW"
      },
      "execution_count": null,
      "outputs": []
    },
    {
      "cell_type": "code",
      "source": [
        "!ls hello2*"
      ],
      "metadata": {
        "colab": {
          "base_uri": "https://localhost:8080/"
        },
        "id": "-cS1blbrF1Il",
        "outputId": "4314565c-9eef-406e-8d12-84a3659304d2"
      },
      "execution_count": null,
      "outputs": [
        {
          "output_type": "stream",
          "name": "stdout",
          "text": [
            "hello2\thello2.a  hello2.c  hello2.i  hello2.o\thello2.s\n"
          ]
        }
      ]
    },
    {
      "cell_type": "code",
      "source": [
        "!size hello2.a"
      ],
      "metadata": {
        "colab": {
          "base_uri": "https://localhost:8080/"
        },
        "id": "UOntlYuHF48f",
        "outputId": "01519d98-cfd3-4b69-f96e-2c334201e34b"
      },
      "execution_count": null,
      "outputs": [
        {
          "output_type": "stream",
          "name": "stdout",
          "text": [
            "   text\t   data\t    bss\t    dec\t    hex\tfilename\n",
            "    217\t      0\t      0\t    217\t     d9\thello2.o (ex hello2.a)\n"
          ]
        }
      ]
    },
    {
      "cell_type": "markdown",
      "source": [
        "By default, after this fourth and last step, that is when you type the whole “gcc main.c” command without any options, the compiler will create an executable program called a.out, that we can run by typing “./a.out” in the command line."
      ],
      "metadata": {
        "id": "ND5IbPHiHcHx"
      }
    },
    {
      "cell_type": "code",
      "source": [
        "!gcc hello.c"
      ],
      "metadata": {
        "id": "htAp3baPHdVD"
      },
      "execution_count": null,
      "outputs": []
    },
    {
      "cell_type": "code",
      "source": [
        "!./hello"
      ],
      "metadata": {
        "colab": {
          "base_uri": "https://localhost:8080/"
        },
        "id": "Fupovu9NHf0s",
        "outputId": "6473e5d6-9eb6-4b42-c8ef-214f7a8ffee1"
      },
      "execution_count": null,
      "outputs": [
        {
          "output_type": "stream",
          "name": "stdout",
          "text": [
            "Hello, world!\n"
          ]
        }
      ]
    },
    {
      "cell_type": "markdown",
      "source": [
        "We can also choose to create an executable program with the name we want, by adding the “-o” option to the gcc command, placed after the name of the file or files we are compiling, and pressing enter:"
      ],
      "metadata": {
        "id": "X10JBHksHueS"
      }
    },
    {
      "cell_type": "code",
      "source": [
        "!gcc hello.c -o my_program"
      ],
      "metadata": {
        "id": "1ym3xz61Hwh_"
      },
      "execution_count": null,
      "outputs": []
    },
    {
      "cell_type": "code",
      "source": [
        "!./my_program"
      ],
      "metadata": {
        "colab": {
          "base_uri": "https://localhost:8080/"
        },
        "id": "qohAub2cHzLH",
        "outputId": "9cc938b3-955f-4683-f0f0-ff838aec58de"
      },
      "execution_count": null,
      "outputs": [
        {
          "output_type": "stream",
          "name": "stdout",
          "text": [
            "Hello, world!\n"
          ]
        }
      ]
    },
    {
      "cell_type": "markdown",
      "source": [
        "## Run C++ code"
      ],
      "metadata": {
        "id": "daJR515cCRkE"
      }
    },
    {
      "cell_type": "markdown",
      "source": [
        "g++ is also a compiler driver for the GNU Compiler Collection. It is specifically designed for compiling C++ programs. It treats both .c and .cpp files as C++ programs. Unlike gcc, it automatically links the C++ standard library (libstdc++)."
      ],
      "metadata": {
        "id": "lzACTvTrPMX0"
      }
    },
    {
      "cell_type": "code",
      "source": [
        "%%writefile welcome.cpp\n",
        "\n",
        "#include <iostream>\n",
        "int main()\n",
        "{\n",
        "    std::cout << \"Welcome To Colab\\n\";\n",
        "    return 0;\n",
        "}"
      ],
      "metadata": {
        "colab": {
          "base_uri": "https://localhost:8080/"
        },
        "id": "iZLG03upCOYs",
        "outputId": "1c2d8cf8-da5a-451c-9bef-bca313b33c47"
      },
      "execution_count": null,
      "outputs": [
        {
          "output_type": "stream",
          "name": "stdout",
          "text": [
            "Overwriting welcome.cpp\n"
          ]
        }
      ]
    },
    {
      "cell_type": "code",
      "source": [
        "%%bash\n",
        "\n",
        "g++ welcome.cpp -o welcome\n",
        "./welcome"
      ],
      "metadata": {
        "colab": {
          "base_uri": "https://localhost:8080/"
        },
        "id": "M7l49mQICQg5",
        "outputId": "e33ff682-d6f1-4020-aea8-8705f045485f"
      },
      "execution_count": null,
      "outputs": [
        {
          "output_type": "stream",
          "name": "stdout",
          "text": [
            "Welcome To Colab\n"
          ]
        }
      ]
    },
    {
      "cell_type": "markdown",
      "source": [
        "Another Example"
      ],
      "metadata": {
        "id": "F1IkHfLJPuAj"
      }
    },
    {
      "cell_type": "code",
      "source": [
        "%%writefile GenericArray.h\n",
        "\n",
        "#pragma once\n",
        "#include <iostream>\n",
        "using namespace std;\n",
        "\n",
        "template<class T>\n",
        "class GenericArray\n",
        "{\n",
        " public:\n",
        "   GenericArray(int max);\n",
        "   ~GenericArray();\n",
        "   void add(T newItem);\n",
        "   // Overloaded << operator\n",
        "   friend ostream& operator <<(ostream& outs, const GenericArray<T> &ary) {\n",
        "\t  for (int i = 0; i < ary.currentLength; i++)\n",
        "\t\t  outs << ary.item[i] << endl;\n",
        "    return outs;\n",
        "   }\n",
        "   //Overloads the << operator so it can be used to output the\n",
        "   //contents of the list. The items are output one per line.\n",
        "   //Precondition: If outs is a file output stream, then outs has\n",
        "   //already been connected to a file.\n",
        "   //\n",
        "   //Note the implementation of the overloaded << in the header\n",
        "   //file! This is commonly done with overloaded friend templates.\n",
        "   //Since << is a friend it is NOT a member of the class but\n",
        "   //rather in the namespace, this is the simplest implementation\n",
        "   //and may make more sense than putting it in genericlist.cpp.\n",
        " private:\n",
        "    T *item; // Pointer to dynamic array to hold generic array\n",
        "    int maxLength;\n",
        "    int currentLength;\n",
        "};"
      ],
      "metadata": {
        "colab": {
          "base_uri": "https://localhost:8080/"
        },
        "id": "-wkIJH1QPvNU",
        "outputId": "589e8fa7-173d-4cee-e2a4-ad43ea401406"
      },
      "execution_count": null,
      "outputs": [
        {
          "output_type": "stream",
          "name": "stdout",
          "text": [
            "Writing GenericArray.h\n"
          ]
        }
      ]
    },
    {
      "cell_type": "code",
      "source": [
        "%%writefile GenericArray.cpp\n",
        "\n",
        "#include <iostream>\n",
        "#include <cstdlib>\n",
        "#include \"GenericArray.h\"\n",
        "using namespace std;\n",
        "\n",
        "template<class T>\n",
        "GenericArray<T>::GenericArray(int max) : maxLength(max), currentLength(0)\n",
        "{\n",
        "  item = new T[max];\n",
        "}\n",
        "\n",
        "template<class T>\n",
        "GenericArray<T>::~GenericArray()\n",
        "{\n",
        "  delete[] item;\n",
        "}\n",
        "\n",
        "template<class T>\n",
        "void GenericArray<T>::add(T newItem)\n",
        "{\n",
        "   if (currentLength >= maxLength)\n",
        "   {\n",
        "\t  cout << \"Error, full\" << endl;\n",
        "\t  return;\n",
        "   }\n",
        "   else\n",
        "   {\n",
        "  \titem[currentLength] = newItem;\n",
        "\t  currentLength++;\n",
        "   }\n",
        "}\n"
      ],
      "metadata": {
        "colab": {
          "base_uri": "https://localhost:8080/"
        },
        "id": "RLfBu-hlPyiB",
        "outputId": "e2db3b13-c3f4-4948-c6f7-25f382560064"
      },
      "execution_count": null,
      "outputs": [
        {
          "output_type": "stream",
          "name": "stdout",
          "text": [
            "Writing GenericArray.cpp\n"
          ]
        }
      ]
    },
    {
      "cell_type": "code",
      "source": [
        "%%writefile main.cpp\n",
        "#include <iostream>\n",
        "#include \"GenericArray.cpp\"  // Include implmentation with template classes\n",
        "using namespace std;\n",
        "\n",
        "int main()\n",
        "{\n",
        "   GenericArray<int> first(2);\n",
        "   first.add(10);\n",
        "   first.add(20);\n",
        "   cout << \"First list\\n\" << first << endl;\n",
        "\n",
        "   GenericArray<char> second(3);\n",
        "   second.add('A');\n",
        "   second.add('B');\n",
        "   second.add('C');\n",
        "   cout << \"Second list\\n\" << second << endl;\n",
        "\n",
        "   return 0;\n",
        "}"
      ],
      "metadata": {
        "colab": {
          "base_uri": "https://localhost:8080/"
        },
        "id": "i2fVMMq6P08d",
        "outputId": "c395b462-2b0e-4524-97f7-add026562deb"
      },
      "execution_count": null,
      "outputs": [
        {
          "output_type": "stream",
          "name": "stdout",
          "text": [
            "Writing main.cpp\n"
          ]
        }
      ]
    },
    {
      "cell_type": "code",
      "source": [
        "%%script bash\n",
        "\n",
        "g++ main.cpp -o mycplusplustest -std=c++11"
      ],
      "metadata": {
        "id": "Pkt1heZXP3Av"
      },
      "execution_count": null,
      "outputs": []
    },
    {
      "cell_type": "code",
      "source": [
        "!./mycplusplustest"
      ],
      "metadata": {
        "colab": {
          "base_uri": "https://localhost:8080/"
        },
        "id": "llT_sTfMP5LW",
        "outputId": "942e23f3-5c6c-4725-90e8-c22aea9e6878"
      },
      "execution_count": null,
      "outputs": [
        {
          "output_type": "stream",
          "name": "stdout",
          "text": [
            "First list\n",
            "10\n",
            "20\n",
            "\n",
            "Second list\n",
            "A\n",
            "B\n",
            "C\n",
            "\n"
          ]
        }
      ]
    },
    {
      "cell_type": "code",
      "source": [
        "%%script bash\n",
        "\n",
        "g++ main.cpp -std=c++11\n",
        "./a.out"
      ],
      "metadata": {
        "colab": {
          "base_uri": "https://localhost:8080/"
        },
        "id": "T1wPZYToQMKg",
        "outputId": "10d34d6b-c8e5-4b09-f897-bf5c1e59c9fc"
      },
      "execution_count": null,
      "outputs": [
        {
          "output_type": "stream",
          "name": "stdout",
          "text": [
            "First list\n",
            "10\n",
            "20\n",
            "\n",
            "Second list\n",
            "A\n",
            "B\n",
            "C\n",
            "\n"
          ]
        }
      ]
    },
    {
      "cell_type": "markdown",
      "source": [
        "# Assembler"
      ],
      "metadata": {
        "id": "SUcrS1DDfPgj"
      }
    },
    {
      "cell_type": "markdown",
      "source": [
        "For X86 the two default options are the GNU Assembler (GAS) or the Netwide Assembler (NASM). GAS uses AT&T syntax and NASM uses Intel syntax"
      ],
      "metadata": {
        "id": "3i56rNSoppAU"
      }
    },
    {
      "cell_type": "markdown",
      "source": [
        "In Intel syntax there are no register prefixes or immed prefixes. In AT&T however registers are prefixed with a '%' and immed's are prefixed with a '$'. Intel syntax hexadecimal or binary immed data are suffixed with 'h' and 'b' respectively. Also if the first hexadecimal digit is a letter then the value is prefixed by a '0'."
      ],
      "metadata": {
        "id": "XtjrotHWWtOg"
      }
    },
    {
      "cell_type": "markdown",
      "source": [
        "Prefixes example:\n",
        "\n",
        "| Syntax | Assembly | Description |\n",
        "| --- | --- | --- |\n",
        "| Intel Syntax | `mov eax, 1`<br>`mov ebx, 0ffh`<br>`int 80h` | This syscall sets the value of EAX to 1, EBX to 0xff, and invokes interrupt 0x80. |\n",
        "| AT&T Syntax | `movl $1, %eax`<br>`movl $0xff, %ebx`<br>`int $0x80` | This syscall sets the value of EAX to 1, EBX to 0xff, and invokes interrupt 0x80. |\n"
      ],
      "metadata": {
        "id": "Fkn1L__IWwCD"
      }
    },
    {
      "cell_type": "markdown",
      "source": [
        "The direction of the operands in Intel syntax is opposite from that of AT&T syntax. In Intel syntax the first operand is the destination, and the second operand is the source whereas in AT&T syntax the first operand is the source and the second operand is the destination. The advantage of AT&T syntax in this situation is obvious. We read from left to right, we write from left to right, so this way is only natural."
      ],
      "metadata": {
        "id": "896s7XrRXHh2"
      }
    },
    {
      "cell_type": "markdown",
      "source": [
        "Intel and AT&T syntax in Direction of Operands:\n",
        "\n",
        "| Syntax | Assembly | Description |\n",
        "| --- | --- | --- |\n",
        "| **Intel Syntax** | `instr dest, source`<br>`mov eax, [ecx]` | This instruction moves the value at memory address pointed by ECX into EAX. |\n",
        "| **AT&T Syntax** | `instr source, dest`<br>`movl (%ecx), %eax` | This instruction moves the value at memory address pointed by ECX into EAX. |\n"
      ],
      "metadata": {
        "id": "6MScGTVsXZ4O"
      }
    },
    {
      "cell_type": "markdown",
      "source": [
        "Memory operands as seen above are different also. In Intel syntax the base register is enclosed in '[' and ']' whereas in AT&T syntax it is enclosed in '(' and ')'."
      ],
      "metadata": {
        "id": "nS36LXKAXehb"
      }
    },
    {
      "cell_type": "markdown",
      "source": [
        "\n",
        "| Syntax | Assembly | Description |\n",
        "| --- | --- | --- |\n",
        "| **Intel Syntax** | `mov eax,[ebx]` | This instruction moves the value at memory address pointed by EBX into EAX. |\n",
        "| **Intel Syntax** | `mov eax,[ebx+3]` | This instruction moves the value at memory address (EBX + 3) into EAX. |\n",
        "| **AT&T Syntax** | `movl (%ebx),%eax` | This instruction moves the value at memory address pointed by EBX into EAX. |\n",
        "| **AT&T Syntax** | `movl 3(%ebx),%eax` | This instruction moves the value at memory address (EBX + 3) into EAX. |\n"
      ],
      "metadata": {
        "id": "74j4cHrjXvvw"
      }
    },
    {
      "cell_type": "markdown",
      "source": [
        "The Intel syntax form of these is segreg:[base+index*scale+disp]. The AT&T syntax form is %segreg:disp(base,index,scale)."
      ],
      "metadata": {
        "id": "RZ0Pfk3EX9pS"
      }
    },
    {
      "cell_type": "markdown",
      "source": [
        "For all syscalls, the syscall number goes in %eax. For syscalls that have less than six args, the args go in %ebx,%ecx,%edx,%esi,%edi in order. The return value of the syscall is stored in %eax.\n",
        "\n",
        "The syscall number can be found in /usr/include/sys/syscall.h. The macros are defined as SYS_<syscall name> i.e. SYS_exit, SYS_close, etc."
      ],
      "metadata": {
        "id": "jB2cM71rYMrg"
      }
    },
    {
      "cell_type": "markdown",
      "source": [
        "## GNU Assembler"
      ],
      "metadata": {
        "id": "iBLb90hjWheh"
      }
    },
    {
      "cell_type": "markdown",
      "source": [
        "The most common assembler for Linux systems is GNU Assembler (GAS), which is included with the GNU Binutils package."
      ],
      "metadata": {
        "id": "py5ATBwCfc23"
      }
    },
    {
      "cell_type": "markdown",
      "source": [
        "Install GNU Binutils:\n",
        "\n",
        "sudo apt-get update\n",
        "\n",
        "sudo apt-get install binutils"
      ],
      "metadata": {
        "id": "a9bxgPQ9fhyD"
      }
    },
    {
      "cell_type": "code",
      "source": [
        "!sudo apt-get install binutils"
      ],
      "metadata": {
        "colab": {
          "base_uri": "https://localhost:8080/"
        },
        "id": "K9mHmSr2fQxG",
        "outputId": "5b488fff-f3b2-4433-9b69-b506be6a733f"
      },
      "execution_count": null,
      "outputs": [
        {
          "output_type": "stream",
          "name": "stdout",
          "text": [
            "Reading package lists... Done\n",
            "Building dependency tree... Done\n",
            "Reading state information... Done\n",
            "The following additional packages will be installed:\n",
            "  binutils-common binutils-x86-64-linux-gnu libbinutils libctf0\n",
            "Suggested packages:\n",
            "  binutils-doc\n",
            "The following packages will be upgraded:\n",
            "  binutils binutils-common binutils-x86-64-linux-gnu libbinutils libctf0\n",
            "5 upgraded, 0 newly installed, 0 to remove and 34 not upgraded.\n",
            "Need to get 3,317 kB of archives.\n",
            "After this operation, 7,168 B disk space will be freed.\n",
            "Get:1 http://archive.ubuntu.com/ubuntu jammy-updates/main amd64 libctf0 amd64 2.38-4ubuntu2.6 [103 kB]\n",
            "Get:2 http://archive.ubuntu.com/ubuntu jammy-updates/main amd64 binutils-x86-64-linux-gnu amd64 2.38-4ubuntu2.6 [2,326 kB]\n",
            "Get:3 http://archive.ubuntu.com/ubuntu jammy-updates/main amd64 libbinutils amd64 2.38-4ubuntu2.6 [662 kB]\n",
            "Get:4 http://archive.ubuntu.com/ubuntu jammy-updates/main amd64 binutils amd64 2.38-4ubuntu2.6 [3,200 B]\n",
            "Get:5 http://archive.ubuntu.com/ubuntu jammy-updates/main amd64 binutils-common amd64 2.38-4ubuntu2.6 [222 kB]\n",
            "Fetched 3,317 kB in 2s (1,871 kB/s)\n",
            "debconf: unable to initialize frontend: Dialog\n",
            "debconf: (No usable dialog-like program is installed, so the dialog based frontend cannot be used. at /usr/share/perl5/Debconf/FrontEnd/Dialog.pm line 78, <> line 5.)\n",
            "debconf: falling back to frontend: Readline\n",
            "debconf: unable to initialize frontend: Readline\n",
            "debconf: (This frontend requires a controlling tty.)\n",
            "debconf: falling back to frontend: Teletype\n",
            "dpkg-preconfigure: unable to re-open stdin: \n",
            "(Reading database ... 121753 files and directories currently installed.)\n",
            "Preparing to unpack .../libctf0_2.38-4ubuntu2.6_amd64.deb ...\n",
            "Unpacking libctf0:amd64 (2.38-4ubuntu2.6) over (2.38-4ubuntu2.3) ...\n",
            "Preparing to unpack .../binutils-x86-64-linux-gnu_2.38-4ubuntu2.6_amd64.deb ...\n",
            "Unpacking binutils-x86-64-linux-gnu (2.38-4ubuntu2.6) over (2.38-4ubuntu2.3) ...\n",
            "Preparing to unpack .../libbinutils_2.38-4ubuntu2.6_amd64.deb ...\n",
            "Unpacking libbinutils:amd64 (2.38-4ubuntu2.6) over (2.38-4ubuntu2.3) ...\n",
            "Preparing to unpack .../binutils_2.38-4ubuntu2.6_amd64.deb ...\n",
            "Unpacking binutils (2.38-4ubuntu2.6) over (2.38-4ubuntu2.3) ...\n",
            "Preparing to unpack .../binutils-common_2.38-4ubuntu2.6_amd64.deb ...\n",
            "Unpacking binutils-common:amd64 (2.38-4ubuntu2.6) over (2.38-4ubuntu2.3) ...\n",
            "Setting up binutils-common:amd64 (2.38-4ubuntu2.6) ...\n",
            "Setting up libbinutils:amd64 (2.38-4ubuntu2.6) ...\n",
            "Setting up libctf0:amd64 (2.38-4ubuntu2.6) ...\n",
            "Setting up binutils-x86-64-linux-gnu (2.38-4ubuntu2.6) ...\n",
            "Setting up binutils (2.38-4ubuntu2.6) ...\n",
            "Processing triggers for libc-bin (2.35-0ubuntu3.4) ...\n",
            "/sbin/ldconfig.real: /usr/local/lib/libtbb.so.12 is not a symbolic link\n",
            "\n",
            "/sbin/ldconfig.real: /usr/local/lib/libtbbbind.so.3 is not a symbolic link\n",
            "\n",
            "/sbin/ldconfig.real: /usr/local/lib/libtbbbind_2_5.so.3 is not a symbolic link\n",
            "\n",
            "/sbin/ldconfig.real: /usr/local/lib/libtbbmalloc.so.2 is not a symbolic link\n",
            "\n",
            "/sbin/ldconfig.real: /usr/local/lib/libtbbbind_2_0.so.3 is not a symbolic link\n",
            "\n",
            "/sbin/ldconfig.real: /usr/local/lib/libtbbmalloc_proxy.so.2 is not a symbolic link\n",
            "\n",
            "Processing triggers for man-db (2.10.2-1) ...\n"
          ]
        }
      ]
    },
    {
      "cell_type": "markdown",
      "source": [
        "When writing assembly code for GAS, you'll use a syntax known as \"AT&T syntax.\" This syntax is different from the \"Intel syntax\" used by other assemblers. The key differences lie in the way instructions, registers, and operands are written."
      ],
      "metadata": {
        "id": "vl2MmyM-gbIg"
      }
    },
    {
      "cell_type": "code",
      "source": [
        "%%file hello.s\n",
        ".section .data\n",
        "    hello:\n",
        "        .string \"Hello, World!\\n\"\n",
        "\n",
        ".section .text\n",
        "    .globl _start\n",
        "\n",
        "_start:\n",
        "    # Write the message to stdout\n",
        "    movl $4, %eax          # syscall number (4) to %eax for sys_write\n",
        "    movl $1, %ebx          # file descriptor (stdout), given parameters in %ebx\n",
        "    movl $hello, %ecx      # pointer to the message\n",
        "    movl $13, %edx         # message length\n",
        "    int $0x80              # invoke syscall\n",
        "\n",
        "    # Exit the program\n",
        "    movl $1, %eax          # syscall number for sys_exit\n",
        "    xorl %ebx, %ebx        # return code 0\n",
        "    int $0x80              # invoke syscall\n"
      ],
      "metadata": {
        "colab": {
          "base_uri": "https://localhost:8080/"
        },
        "id": "AB5b1ebGoOur",
        "outputId": "9c63a1f4-07b7-4728-df38-357da0782b04"
      },
      "execution_count": null,
      "outputs": [
        {
          "output_type": "stream",
          "name": "stdout",
          "text": [
            "Writing hello.s\n"
          ]
        }
      ]
    },
    {
      "cell_type": "markdown",
      "source": [
        "Run the following command to assemble the code into an object file:"
      ],
      "metadata": {
        "id": "TNVUVoPQ1L-0"
      }
    },
    {
      "cell_type": "code",
      "source": [
        "!as -o hello.o hello.s"
      ],
      "metadata": {
        "id": "QVkizVG-pGnc"
      },
      "execution_count": null,
      "outputs": []
    },
    {
      "cell_type": "markdown",
      "source": [
        "Link the object file using the following command:"
      ],
      "metadata": {
        "id": "AJP6cieS1OJk"
      }
    },
    {
      "cell_type": "code",
      "source": [
        "!ld -o hello hello.o"
      ],
      "metadata": {
        "id": "7kwkrIHapKk-"
      },
      "execution_count": null,
      "outputs": []
    },
    {
      "cell_type": "code",
      "source": [
        "!./hello"
      ],
      "metadata": {
        "colab": {
          "base_uri": "https://localhost:8080/"
        },
        "id": "TbOt0IyYpOS3",
        "outputId": "d648e50c-7502-4a99-f00d-456289fa8355"
      },
      "execution_count": null,
      "outputs": [
        {
          "output_type": "stream",
          "name": "stdout",
          "text": [
            "Hello, World!"
          ]
        }
      ]
    },
    {
      "cell_type": "markdown",
      "source": [
        "## Making Syscalls on X86 Linux"
      ],
      "metadata": {
        "id": "tXZ3juvK1YLT"
      }
    },
    {
      "cell_type": "markdown",
      "source": [
        "Syscalls offer a method to invoke and use functionality in the operating system.  Syscalls are launched on x86 Linux by invoking an interrupt instruction with the hex value of 0x80 (int 0x80).  Before invoking this interrupt however, you need to set up everything for the syscall."
      ],
      "metadata": {
        "id": "KUefksXc1fBa"
      }
    },
    {
      "cell_type": "markdown",
      "source": [
        "![image.png](data:image/png;base64,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)"
      ],
      "metadata": {
        "id": "6vTnoIE21q0u"
      }
    },
    {
      "cell_type": "markdown",
      "source": [
        "The first thing you need to do is specify the syscall number you are planning to invoke and place that value in **EAX**.  Depending on the syscall you are launching, you also need to set up arguments for the syscall to use.  These will also be loaded in registers in the following order."
      ],
      "metadata": {
        "id": "dZjFYBx31vWH"
      }
    },
    {
      "cell_type": "markdown",
      "source": [
        "the given parameters and their corresponding registers:\n",
        "\n",
        "| **Parameter #** | **Register** |\n",
        "|-----------------|--------------|\n",
        "| 1               | EBX          |\n",
        "| 2               | ECX          |\n",
        "| 3               | EDX          |\n",
        "| 4               | ESI          |\n",
        "| 5               | EDI          |\n",
        "| 6               | EBP          |\n"
      ],
      "metadata": {
        "id": "Eag7eiAh2A-B"
      }
    },
    {
      "cell_type": "markdown",
      "source": [
        "After the syscall number is set, and the registers are loaded with the parameters needed, then calling the instruction INT 0x80 will execute the syscall.  If the syscall returns a value, it will be placed in **EAX**.  For example, opening a file should return a file descriptor or error code in EAX."
      ],
      "metadata": {
        "id": "-i5iGPTw2MiJ"
      }
    },
    {
      "cell_type": "markdown",
      "source": [
        "syscall information, ref: https://syscalls.w3challs.com/\n",
        "\n",
        "| Syscall # | Syscall Name | Parameters | Reason |\n",
        "| --- | --- | --- | --- |\n",
        "| 4 | write | EBX => int fd<br>ECX => char* buf<br>EDX => size_t count | This call allows us to write x number of bytes (count) to a file descriptor (fd) from the buffer (buf). We can use this to write to STDOUT, which should have the fd of 1. |\n",
        "| 1 | exit | EBX => int status | This syscall allows us to exit the program cleanly with the status code of our choice. In this case, we will exit with the status code of 0. |\n"
      ],
      "metadata": {
        "id": "FN3YmXaM3grO"
      }
    },
    {
      "cell_type": "markdown",
      "source": [
        "For all syscalls, the syscall number goes in %eax. For syscalls that have less than six args, the args go in %ebx,%ecx,%edx,%esi,%edi in order. The return value of the syscall is stored in %eax.\n",
        "\n",
        "The syscall number can be found in /usr/include/sys/syscall.h. The macros are defined as SYS_<syscall name> i.e. SYS_exit, SYS_close, etc."
      ],
      "metadata": {
        "id": "WGwzUuPxYlBf"
      }
    },
    {
      "cell_type": "code",
      "source": [
        "%%file defines.h\n",
        "/* defines.h */\n",
        "SYS_exit\t\t= 1\n",
        "SYS_fork\t\t= 2\n",
        "SYS_write\t\t= 4\n",
        "SYS_open\t\t= 5\n",
        "SYS_close\t\t= 6\n",
        "SYS_execve \t\t= 11\n",
        "SYS_lseek\t\t= 19\n",
        "SYS_dup2\t\t= 63\n",
        "SYS_mmap \t\t= 90\n",
        "SYS_munmap\t\t= 91\n",
        "SYS_socketcall\t\t= 102\n",
        "SYS_socketcall_socket\t= 1\n",
        "SYS_socketcall_bind\t= 2\n",
        "SYS_socketcall_listen\t= 4\n",
        "SYS_socketcall_accept\t= 5\n",
        "\n",
        "SEEK_END\t\t= 2\n",
        "PROT_READ\t\t= 1\n",
        "MAP_SHARED\t\t= 1\n",
        "\n",
        "AF_INET\t\t\t= 2\n",
        "SOCK_STREAM\t\t= 1\n",
        "IPPROTO_TCP\t\t= 6\n",
        "\n",
        "STDOUT\t\t\t= 1"
      ],
      "metadata": {
        "colab": {
          "base_uri": "https://localhost:8080/"
        },
        "id": "qCK3nOloY6sJ",
        "outputId": "b24bb7a0-155b-459d-c212-0f91be37b295"
      },
      "execution_count": null,
      "outputs": [
        {
          "output_type": "stream",
          "name": "stdout",
          "text": [
            "Writing defines.h\n"
          ]
        }
      ]
    },
    {
      "cell_type": "markdown",
      "source": [
        "Examples: https://asm.sourceforge.net/articles/linasm.html"
      ],
      "metadata": {
        "id": "9Jj1OTaUa1rA"
      }
    },
    {
      "cell_type": "markdown",
      "source": [
        "write is declared as: ssize_t write(int fd, const void *buf, size_t count);\n",
        "\n",
        "Hence fd goes in %ebx, buf goes in %ecx, count goes in %edx and SYS_write goes in %eax. This is followed by an int $0x80 which executes the syscall. The return value of the syscall is stored in %eax."
      ],
      "metadata": {
        "id": "-DyRDU6LZOC5"
      }
    },
    {
      "cell_type": "code",
      "source": [
        "%%file write.s\n",
        ".include \"defines.h\"\n",
        ".section .data\n",
        "    hello:\n",
        "        .string \"Hello, World!\\n\"\n",
        "\n",
        ".section .text\n",
        "    .globl _start\n",
        "\n",
        "_start:\n",
        "    # Write the message to stdout\n",
        "    movl $SYS_write, %eax          # syscall number (4) to %eax for sys_write\n",
        "    movl $STDOUT, %ebx          # file descriptor (stdout), given parameters in %ebx\n",
        "    movl $hello, %ecx      # pointer to the message\n",
        "    movl $13, %edx         # message length\n",
        "    int $0x80              # invoke syscall\n",
        "\n",
        "    # Exit the program\n",
        "    movl $1, %eax          # syscall number for sys_exit\n",
        "    xorl %ebx, %ebx        # return code 0\n",
        "    int $0x80              # invoke syscall"
      ],
      "metadata": {
        "colab": {
          "base_uri": "https://localhost:8080/"
        },
        "id": "VBIa_DW6ZDOU",
        "outputId": "c5df9b45-2a5e-4ad8-a8c6-7f830f7bf958"
      },
      "execution_count": null,
      "outputs": [
        {
          "output_type": "stream",
          "name": "stdout",
          "text": [
            "Overwriting write.s\n"
          ]
        }
      ]
    },
    {
      "cell_type": "code",
      "source": [
        "!as -o write.o write.s"
      ],
      "metadata": {
        "id": "PIj0WGikZWBi"
      },
      "execution_count": null,
      "outputs": []
    },
    {
      "cell_type": "code",
      "source": [
        "!ld -o write write.o"
      ],
      "metadata": {
        "id": "MG9YOm3yZZm6"
      },
      "execution_count": null,
      "outputs": []
    },
    {
      "cell_type": "code",
      "source": [
        "!./write"
      ],
      "metadata": {
        "id": "zsiofUpsZbiA",
        "colab": {
          "base_uri": "https://localhost:8080/"
        },
        "outputId": "2267a236-ef92-4d17-f8c3-977ee7a91bee"
      },
      "execution_count": null,
      "outputs": [
        {
          "output_type": "stream",
          "name": "stdout",
          "text": [
            "Hello, World!"
          ]
        }
      ]
    },
    {
      "cell_type": "markdown",
      "source": [
        "## NASM"
      ],
      "metadata": {
        "id": "kTB199w-BQ7s"
      }
    },
    {
      "cell_type": "markdown",
      "source": [
        "Netwide Assembler (NASM) uses Intel syntax"
      ],
      "metadata": {
        "id": "zxZAC-2gBX0D"
      }
    },
    {
      "cell_type": "code",
      "source": [
        "!nasm -v"
      ],
      "metadata": {
        "colab": {
          "base_uri": "https://localhost:8080/"
        },
        "id": "A7ciZ12s4CcM",
        "outputId": "f785c50c-f65b-40eb-aed9-a533f3e24228"
      },
      "execution_count": null,
      "outputs": [
        {
          "output_type": "stream",
          "name": "stdout",
          "text": [
            "/bin/bash: line 1: nasm: command not found\n"
          ]
        }
      ]
    },
    {
      "cell_type": "markdown",
      "source": [
        "https://www.nasm.us/pub/nasm/releasebuilds/2.16/"
      ],
      "metadata": {
        "id": "S5rsJPF74Xl4"
      }
    },
    {
      "cell_type": "code",
      "source": [
        "!wget https://www.nasm.us/pub/nasm/releasebuilds/2.16/nasm-2.16.tar.bz2"
      ],
      "metadata": {
        "colab": {
          "base_uri": "https://localhost:8080/"
        },
        "id": "YoE8vL5y4PcT",
        "outputId": "558dcc7f-b949-4221-ac40-644e4305596a"
      },
      "execution_count": null,
      "outputs": [
        {
          "output_type": "stream",
          "name": "stdout",
          "text": [
            "--2024-03-27 03:14:27--  https://www.nasm.us/pub/nasm/releasebuilds/2.16/nasm-2.16.tar.bz2\n",
            "Resolving www.nasm.us (www.nasm.us)... 198.137.202.136, 2607:7c80:54:3::136\n",
            "Connecting to www.nasm.us (www.nasm.us)|198.137.202.136|:443... connected.\n",
            "HTTP request sent, awaiting response... 200 OK\n",
            "Length: 1349589 (1.3M) [application/x-bzip2]\n",
            "Saving to: ‘nasm-2.16.tar.bz2’\n",
            "\n",
            "nasm-2.16.tar.bz2   100%[===================>]   1.29M  --.-KB/s    in 0.1s    \n",
            "\n",
            "2024-03-27 03:14:28 (9.17 MB/s) - ‘nasm-2.16.tar.bz2’ saved [1349589/1349589]\n",
            "\n"
          ]
        }
      ]
    },
    {
      "cell_type": "code",
      "source": [
        "!tar xfj nasm-2.16.tar.bz2"
      ],
      "metadata": {
        "id": "lvgtaKwS4gll"
      },
      "execution_count": null,
      "outputs": []
    },
    {
      "cell_type": "code",
      "source": [
        "!cd nasm-2.16 && ./autogen.sh"
      ],
      "metadata": {
        "colab": {
          "base_uri": "https://localhost:8080/"
        },
        "id": "InhtUj1f4qrI",
        "outputId": "0167bbdc-483a-4500-cbc5-2fe745357ab2"
      },
      "execution_count": null,
      "outputs": [
        {
          "output_type": "stream",
          "name": "stdout",
          "text": [
            "+ recheck=false\n",
            "+ [ x = x--recheck ]\n",
            "+ AUTOCONF=autoconf\n",
            "+ AUTOMAKE=automake\n",
            "+ ACLOCAL=aclocal\n",
            "+ AUTOHEADER=autoheader\n",
            "+ mkdir -p autoconf autoconf/helpers config\n",
            "+ automake --print-libdir\n",
            "+ autolib=/usr/share/automake-1.16\n",
            "+ test ! x/usr/share/automake-1.16 = x\n",
            "+ test -f /usr/share/automake-1.16/install-sh\n",
            "+ set -e\n",
            "+ test -f autoconf/helpers/install-sh\n",
            "+ sed -n -e s/^scriptver=/scriptversion=/ -e s/^timestamp=/scriptversion=/ -e s/^scriptversion=['\"]?\\([^'\"]*\\).*$/\\1/p /usr/share/automake-1.16/install-sh autoconf/helpers/install-sh\n",
            "+ sort -c\n",
            "+ test 0 -ne 0\n",
            "+ test -f /usr/share/automake-1.16/compile\n",
            "+ set -e\n",
            "+ test -f autoconf/helpers/compile\n",
            "+ sed -n -e s/^scriptver=/scriptversion=/ -e s/^timestamp=/scriptversion=/ -e s/^scriptversion=['\"]?\\([^'\"]*\\).*$/\\1/p /usr/share/automake-1.16/compile autoconf/helpers/compile\n",
            "+ sort -c\n",
            "+ test 0 -ne 0\n",
            "+ test -f /usr/share/automake-1.16/config.guess\n",
            "+ set -e\n",
            "+ test -f autoconf/helpers/config.guess\n",
            "+ sed -n -e s/^scriptver=/scriptversion=/ -e s/^timestamp=/scriptversion=/ -e s/^scriptversion=['\"]?\\([^'\"]*\\).*$/\\1/p /usr/share/automake-1.16/config.guess autoconf/helpers/config.guess\n",
            "+ sort -c\n",
            "+ test 0 -ne 0\n",
            "+ test -f /usr/share/automake-1.16/config.sub\n",
            "+ set -e\n",
            "+ test -f autoconf/helpers/config.sub\n",
            "+ sed -n -e s/^scriptver=/scriptversion=/ -e s/^timestamp=/scriptversion=/ -e s/^scriptversion=['\"]?\\([^'\"]*\\).*$/\\1/p /usr/share/automake-1.16/config.sub autoconf/helpers/config.sub\n",
            "+ sort -c\n",
            "+ test 0 -ne 0\n",
            "+ mv -f autoconf/aclocal.m4 autoconf/aclocal.m4.old\n",
            "+ mkdir -p autoconf/m4.old autoconf/m4\n",
            "+ mv -f autoconf/m4/pa_add_cflags.m4 autoconf/m4/pa_add_flags.m4 autoconf/m4/pa_add_headers.m4 autoconf/m4/pa_add_ldflags.m4 autoconf/m4/pa_arg_bool.m4 autoconf/m4/pa_arg_disabled.m4 autoconf/m4/pa_arg_enabled.m4 autoconf/m4/pa_c_typeof.m4 autoconf/m4/pa_check_bad_stdc_inline.m4 autoconf/m4/pa_func_attribute.m4 autoconf/m4/pa_func_attribute_error.m4 autoconf/m4/pa_func_snprintf.m4 autoconf/m4/pa_func_vsnprintf.m4 autoconf/m4/pa_have_func.m4 autoconf/m4/pa_libext.m4 autoconf/m4/pa_sym.m4 autoconf/m4.old/\n",
            "+ pwd\n",
            "+ ACLOCAL_PATH=/content/nasm-2.16/autoconf/m4.old\n",
            "+ export ACLOCAL_PATH\n",
            "+ aclocal --install --output=autoconf/aclocal.m4 -I autoconf/m4\n",
            "aclocal: installing 'autoconf/m4/pa_add_cflags.m4' from '/content/nasm-2.16/autoconf/m4.old/pa_add_cflags.m4'\n",
            "aclocal: installing 'autoconf/m4/pa_add_flags.m4' from '/content/nasm-2.16/autoconf/m4.old/pa_add_flags.m4'\n",
            "aclocal: installing 'autoconf/m4/pa_add_headers.m4' from '/content/nasm-2.16/autoconf/m4.old/pa_add_headers.m4'\n",
            "aclocal: installing 'autoconf/m4/pa_add_ldflags.m4' from '/content/nasm-2.16/autoconf/m4.old/pa_add_ldflags.m4'\n",
            "aclocal: installing 'autoconf/m4/pa_arg_bool.m4' from '/content/nasm-2.16/autoconf/m4.old/pa_arg_bool.m4'\n",
            "aclocal: installing 'autoconf/m4/pa_arg_disabled.m4' from '/content/nasm-2.16/autoconf/m4.old/pa_arg_disabled.m4'\n",
            "aclocal: installing 'autoconf/m4/pa_arg_enabled.m4' from '/content/nasm-2.16/autoconf/m4.old/pa_arg_enabled.m4'\n",
            "aclocal: installing 'autoconf/m4/pa_c_typeof.m4' from '/content/nasm-2.16/autoconf/m4.old/pa_c_typeof.m4'\n",
            "aclocal: installing 'autoconf/m4/pa_check_bad_stdc_inline.m4' from '/content/nasm-2.16/autoconf/m4.old/pa_check_bad_stdc_inline.m4'\n",
            "aclocal: installing 'autoconf/m4/pa_func_attribute.m4' from '/content/nasm-2.16/autoconf/m4.old/pa_func_attribute.m4'\n",
            "aclocal: installing 'autoconf/m4/pa_func_attribute_error.m4' from '/content/nasm-2.16/autoconf/m4.old/pa_func_attribute_error.m4'\n",
            "aclocal: installing 'autoconf/m4/pa_func_snprintf.m4' from '/content/nasm-2.16/autoconf/m4.old/pa_func_snprintf.m4'\n",
            "aclocal: installing 'autoconf/m4/pa_func_vsnprintf.m4' from '/content/nasm-2.16/autoconf/m4.old/pa_func_vsnprintf.m4'\n",
            "aclocal: installing 'autoconf/m4/pa_have_func.m4' from '/content/nasm-2.16/autoconf/m4.old/pa_have_func.m4'\n",
            "aclocal: installing 'autoconf/m4/pa_libext.m4' from '/content/nasm-2.16/autoconf/m4.old/pa_libext.m4'\n",
            "aclocal: installing 'autoconf/m4/pa_sym.m4' from '/content/nasm-2.16/autoconf/m4.old/pa_sym.m4'\n",
            "+ test ! -f autoconf/aclocal.m4\n",
            "+ rm -rf autoconf/aclocal.m4.old autoconf/m4.old\n",
            "+ autoheader -B autoconf\n",
            "+ autoconf -B autoconf\n",
            "+ rm -rf autom4te.cache config.log config.status config/config.h Makefile\n",
            "+ false\n"
          ]
        }
      ]
    },
    {
      "cell_type": "code",
      "source": [
        "!cd nasm-2.16 && ./configure --prefix=/usr/local/"
      ],
      "metadata": {
        "colab": {
          "base_uri": "https://localhost:8080/"
        },
        "id": "i3N8cXBH4xJJ",
        "outputId": "744452e8-4dab-43a0-cc0e-9cab27740d2e"
      },
      "execution_count": null,
      "outputs": [
        {
          "output_type": "stream",
          "name": "stdout",
          "text": [
            "checking build system type... x86_64-pc-linux-gnu\n",
            "checking host system type... x86_64-pc-linux-gnu\n",
            "checking for gcc... gcc\n",
            "checking whether the C compiler works... yes\n",
            "checking for C compiler default output file name... a.out\n",
            "checking for suffix of executables... \n",
            "checking whether we are cross compiling... no\n",
            "checking for suffix of object files... o\n",
            "checking whether the compiler supports GNU C... yes\n",
            "checking whether gcc accepts -g... yes\n",
            "checking for gcc option to enable C11 features... none needed\n",
            "checking for stdio.h... yes\n",
            "checking for stdlib.h... yes\n",
            "checking for string.h... yes\n",
            "checking for inttypes.h... yes\n",
            "checking for stdint.h... yes\n",
            "checking for strings.h... yes\n",
            "checking for sys/stat.h... yes\n",
            "checking for sys/types.h... yes\n",
            "checking for unistd.h... yes\n",
            "checking for wchar.h... yes\n",
            "checking for minix/config.h... no\n",
            "checking for sys/param.h... yes\n",
            "checking whether it is safe to define __EXTENSIONS__... yes\n",
            "checking whether _XOPEN_SOURCE should be defined... no\n",
            "checking for special C compiler options needed for large files... no\n",
            "checking for _FILE_OFFSET_BITS value needed for large files... no\n",
            "checking if gcc accepts -std=c17... yes\n",
            "checking for size_t... yes\n",
            "checking whether byte ordering is bigendian... no\n",
            "checking if gcc accepts -Werror=unknown-warning-option... no\n",
            "checking if gcc accepts -fwrapv... yes\n",
            "checking if gcc accepts -ftrivial-auto-var-init=zero... no\n",
            "checking if gcc accepts -U__STRICT_ANSI__... yes\n",
            "checking if gcc accepts -fno-common... yes\n",
            "checking for suffix of library files... a\n",
            "checking whether ln -s works... yes\n",
            "checking whether make sets $(MAKE)... yes\n",
            "checking for a BSD-compatible install... /usr/bin/install -c\n",
            "checking for a race-free mkdir -p... /usr/bin/mkdir -p\n",
            "checking for nroff... nroff\n",
            "checking for asciidoc... no\n",
            "checking for xmlto... no\n",
            "checking for xz... xz\n",
            "configure: WARNING: No asciidoc package found, cannot build man pages\n",
            "configure: WARNING: No xmlto package found, cannot build man pages\n",
            "checking for ar... ar\n",
            "checking for ranlib... ranlib\n",
            "checking for strip... strip\n",
            "checking for an ANSI C-conforming const... yes\n",
            "checking for inline... inline\n",
            "checking for C/C++ restrict keyword... __restrict__\n",
            "checking for string.h... (cached) yes\n",
            "checking for stdarg.h... yes\n",
            "checking for inttypes.h... (cached) yes\n",
            "checking for strings.h... (cached) yes\n",
            "checking for _Bool... yes\n",
            "checking for stdbool.h that conforms to C99... yes\n",
            "checking for stdnoreturn.h... yes\n",
            "checking for io.h... no\n",
            "checking for fcntl.h... yes\n",
            "checking for unistd.h... (cached) yes\n",
            "checking for sys/mman.h... yes\n",
            "checking for sys/types.h... (cached) yes\n",
            "checking for sys/stat.h... (cached) yes\n",
            "checking for sys/resource.h... yes\n",
            "checking for strcasecmp... yes\n",
            "checking for stricmp... no\n",
            "checking for strncasecmp... yes\n",
            "checking for strnicmp... no\n",
            "checking for strsep... yes\n",
            "checking for strnlen... yes\n",
            "checking for strrchrnul... no\n",
            "checking for iscntrl... yes\n",
            "checking for isascii... yes\n",
            "checking for mempcpy... yes\n",
            "checking for mempset... no\n",
            "checking for getuid... yes\n",
            "checking for getgid... yes\n",
            "checking for getrlimit... yes\n",
            "checking for realpath... yes\n",
            "checking for canonicalize_file_name... yes\n",
            "checking for _fullpath... no\n",
            "checking for pathconf... yes\n",
            "checking for _LARGEFILE_SOURCE value needed for large files... no\n",
            "checking for _fseeki64... no\n",
            "checking for ftruncate... yes\n",
            "checking for _chsize... no\n",
            "checking for _chsize_s... no\n",
            "checking for fileno... yes\n",
            "checking for _fileno... no\n",
            "checking for getpagesize... yes\n",
            "checking for working mmap... yes\n",
            "checking for getpagesize... (cached) yes\n",
            "checking for sysconf... yes\n",
            "checking for access... yes\n",
            "checking for _access... no\n",
            "checking for faccessat... yes\n",
            "checking for __builtin_expect... yes\n",
            "checking for intrin.h... no\n",
            "checking for __builtin_clz... yes\n",
            "checking for __builtin_clzl... yes\n",
            "checking for __builtin_clzll... yes\n",
            "checking for _BitScanReverse... no\n",
            "checking for _BitScanReverse64... no\n",
            "checking for sprintf... snprintf\n",
            "checking for vsnprintf... vsnprintf\n",
            "checking for strlcpy... no\n",
            "checking for strrchrnul... (cached) no\n",
            "checking for struct _stati64... no\n",
            "checking for struct stat... yes\n",
            "checking for stat... yes\n",
            "checking for _stati64... no\n",
            "checking for fstat... yes\n",
            "checking for _fstati64... no\n",
            "checking for S_ISREG... no\n",
            "checking for gcc options needed to detect all undeclared functions... none needed\n",
            "checking whether strcasecmp is declared... yes\n",
            "checking whether stricmp is declared... no\n",
            "checking whether strncasecmp is declared... yes\n",
            "checking whether strnicmp is declared... no\n",
            "checking whether strsep is declared... yes\n",
            "checking whether strlcpy is declared... no\n",
            "checking whether strnlen is declared... yes\n",
            "checking whether strrchrnul is declared... no\n",
            "checking for uintptr_t... yes\n",
            "checking for endian.h... yes\n",
            "checking for sys/endian.h... no\n",
            "checking for machine/endian.h... no\n",
            "checking for cpu_to_le16... no\n",
            "checking for cpu_to_le32... no\n",
            "checking for cpu_to_le64... no\n",
            "checking for __cpu_to_le16... no\n",
            "checking for __cpu_to_le32... no\n",
            "checking for __cpu_to_le64... no\n",
            "checking for htole16... yes\n",
            "checking for htole32... yes\n",
            "checking for htole64... yes\n",
            "checking for __bswap_16... yes\n",
            "checking for __bswap_32... yes\n",
            "checking for __bswap_64... yes\n",
            "checking for __builtin_bswap16... yes\n",
            "checking for __builtin_bswap32... yes\n",
            "checking for __builtin_bswap64... yes\n",
            "checking for _byteswap_ushort... no\n",
            "checking for _byteswap_ulong... no\n",
            "checking for _byteswap_uint64... no\n",
            "checking for __builtin_constant_p... yes\n",
            "checking for __builtin_choose_expr... yes\n",
            "checking if gcc accepts -Werror=attributes... yes\n",
            "checking if gcc supports the noreturn function attribute... yes\n",
            "checking if gcc supports the noreturn function attribute on pointers... yes\n",
            "checking if gcc supports the returns_nonnull function attribute... yes\n",
            "checking if gcc supports the returns_nonnull function attribute on pointers... yes\n",
            "checking if gcc supports the malloc function attribute... yes\n",
            "checking if gcc supports the malloc function attribute on pointers... no\n",
            "checking if gcc supports the alloc_size(1) function attribute... yes\n",
            "checking if gcc supports the alloc_size(1) function attribute on pointers... yes\n",
            "checking if gcc supports the alloc_size(1,2) function attribute... no\n",
            "checking if gcc supports the alloc_size(1,2) function attribute on pointers... no\n",
            "checking if gcc supports the sentinel function attribute... yes\n",
            "checking if gcc supports the sentinel function attribute on pointers... yes\n",
            "checking if gcc supports the format(printf,1,2) function attribute... yes\n",
            "checking if gcc supports the format(printf,1,2) function attribute on pointers... yes\n",
            "checking if gcc supports the const function attribute... yes\n",
            "checking if gcc supports the const function attribute on pointers... yes\n",
            "checking if gcc supports the pure function attribute... yes\n",
            "checking if gcc supports the pure function attribute on pointers... no\n",
            "checking if gcc supports the cold function attribute... yes\n",
            "checking if gcc supports the cold function attribute on pointers... no\n",
            "checking if gcc supports the unused function attribute... yes\n",
            "checking if gcc supports the unused function attribute on pointers... yes\n",
            "checking if gcc supports the error function attribute... yes\n",
            "checking if gcc accepts -ffunction-sections... yes\n",
            "checking if gcc accepts -fdata-sections... yes\n",
            "checking if gcc accepts -Wl,--gc-sections... yes\n",
            "checking if gcc accepts -fvisibility=hidden... yes\n",
            "checking if gcc accepts -Wall... yes\n",
            "checking if gcc accepts -W... yes\n",
            "checking if gcc accepts -pedantic... yes\n",
            "checking if gcc accepts -Wc90-c99-compat... yes\n",
            "checking if gcc accepts -Wc99-compat... no\n",
            "checking if gcc accepts -Wc99-extensions... no\n",
            "checking if gcc accepts -Wpedantic-ms-format... no\n",
            "checking if gcc accepts -Wlong-long... yes\n",
            "checking if gcc accepts -Wstringop-truncation... yes\n",
            "checking if gcc accepts -Wshift-negative-value... yes\n",
            "checking if gcc accepts -Werror=implicit... yes\n",
            "checking if gcc accepts -Werror=missing-braces... yes\n",
            "checking if gcc accepts -Werror=return-type... yes\n",
            "checking if gcc accepts -Werror=trigraphs... yes\n",
            "checking if gcc accepts -Werror=pointer-arith... yes\n",
            "checking if gcc accepts -Werror=strict-prototypes... yes\n",
            "checking if gcc accepts -Werror=missing-prototypes... yes\n",
            "checking if gcc accepts -Werror=missing-declarations... yes\n",
            "checking if gcc accepts -Werror=comment... yes\n",
            "checking if gcc accepts -Werror=vla... yes\n",
            "checking if gcc supports C99 external inlines... yes\n",
            "checking if gcc supports typeof... __typeof\n",
            "configure: creating ./config.status\n",
            "config.status: creating Makefile\n",
            "config.status: creating doc/Makefile\n",
            "config.status: creating config/config.h\n"
          ]
        }
      ]
    },
    {
      "cell_type": "code",
      "source": [
        "!ls nasm-2.16/asm"
      ],
      "metadata": {
        "colab": {
          "base_uri": "https://localhost:8080/"
        },
        "id": "36Ml4C6b5Coc",
        "outputId": "acc7723c-593c-46bc-ba89-b5e95035bbc1"
      },
      "execution_count": null,
      "outputs": [
        {
          "output_type": "stream",
          "name": "stdout",
          "text": [
            "assemble.c    eval.c\t  listing.c  pptok.h\tquote.h     strfunc.c\t     warnings.pl\n",
            "assemble.h    eval.h\t  listing.h  pptok.ph\trdstrnum.c  tokens.dat\t     warnings.time\n",
            "directbl.c    exprdump.c  nasm.c     pptok.pl\tsegalloc.c  tokens.h\n",
            "directiv.c    exprlib.c   parser.c   pragma.c\tsrcfile.c   tokhash.c\n",
            "directiv.dat  floats.c\t  parser.h   preproc.c\tsrcfile.h   tokhash.pl\n",
            "directiv.h    floats.h\t  pptok.c    preproc.h\tstdscan.c   warnings.c\n",
            "error.c       labels.c\t  pptok.dat  quote.c\tstdscan.h   warnings.c.time\n"
          ]
        }
      ]
    },
    {
      "cell_type": "code",
      "source": [
        "!cd nasm-2.16 && make"
      ],
      "metadata": {
        "colab": {
          "base_uri": "https://localhost:8080/"
        },
        "id": "gUn6D_ub46Sd",
        "outputId": "10149ba6-67a3-4e56-b415-553f8c9782f3"
      },
      "execution_count": null,
      "outputs": [
        {
          "output_type": "stream",
          "name": "stdout",
          "text": [
            "/usr/bin/mkdir -p stdlib nasmlib output asm disasm x86 common macros test doc nsis\n",
            "make nasm ndisasm\n",
            "make[1]: Entering directory '/content/nasm-2.16'\n",
            "gcc -c  -g -O2 -std=c17 -fwrapv -U__STRICT_ANSI__ -fno-common -Werror=attributes -ffunction-sections -fdata-sections -fvisibility=hidden -Wall -W -pedantic -Wc90-c99-compat -Wno-long-long -Wno-stringop-truncation -Wno-shift-negative-value -Werror=implicit -Werror=missing-braces -Werror=return-type -Werror=trigraphs -Werror=pointer-arith -Werror=strict-prototypes -Werror=missing-prototypes -Werror=missing-declarations -Werror=comment -Werror=vla -DHAVE_CONFIG_H -I. -I. -I./include -I./include -I./x86 -I./x86 -I./asm -I./asm -I./disasm -I./disasm -I./output -I./output -o asm/nasm.o asm/nasm.c\n",
            "gcc -c  -g -O2 -std=c17 -fwrapv -U__STRICT_ANSI__ -fno-common -Werror=attributes -ffunction-sections -fdata-sections -fvisibility=hidden -Wall -W -pedantic -Wc90-c99-compat -Wno-long-long -Wno-stringop-truncation -Wno-shift-negative-value -Werror=implicit -Werror=missing-braces -Werror=return-type -Werror=trigraphs -Werror=pointer-arith -Werror=strict-prototypes -Werror=missing-prototypes -Werror=missing-declarations -Werror=comment -Werror=vla -DHAVE_CONFIG_H -I. -I. -I./include -I./include -I./x86 -I./x86 -I./asm -I./asm -I./disasm -I./disasm -I./output -I./output -o stdlib/snprintf.o stdlib/snprintf.c\n",
            "gcc -c  -g -O2 -std=c17 -fwrapv -U__STRICT_ANSI__ -fno-common -Werror=attributes -ffunction-sections -fdata-sections -fvisibility=hidden -Wall -W -pedantic -Wc90-c99-compat -Wno-long-long -Wno-stringop-truncation -Wno-shift-negative-value -Werror=implicit -Werror=missing-braces -Werror=return-type -Werror=trigraphs -Werror=pointer-arith -Werror=strict-prototypes -Werror=missing-prototypes -Werror=missing-declarations -Werror=comment -Werror=vla -DHAVE_CONFIG_H -I. -I. -I./include -I./include -I./x86 -I./x86 -I./asm -I./asm -I./disasm -I./disasm -I./output -I./output -o stdlib/vsnprintf.o stdlib/vsnprintf.c\n",
            "gcc -c  -g -O2 -std=c17 -fwrapv -U__STRICT_ANSI__ -fno-common -Werror=attributes -ffunction-sections -fdata-sections -fvisibility=hidden -Wall -W -pedantic -Wc90-c99-compat -Wno-long-long -Wno-stringop-truncation -Wno-shift-negative-value -Werror=implicit -Werror=missing-braces -Werror=return-type -Werror=trigraphs -Werror=pointer-arith -Werror=strict-prototypes -Werror=missing-prototypes -Werror=missing-declarations -Werror=comment -Werror=vla -DHAVE_CONFIG_H -I. -I. -I./include -I./include -I./x86 -I./x86 -I./asm -I./asm -I./disasm -I./disasm -I./output -I./output -o stdlib/strlcpy.o stdlib/strlcpy.c\n",
            "gcc -c  -g -O2 -std=c17 -fwrapv -U__STRICT_ANSI__ -fno-common -Werror=attributes -ffunction-sections -fdata-sections -fvisibility=hidden -Wall -W -pedantic -Wc90-c99-compat -Wno-long-long -Wno-stringop-truncation -Wno-shift-negative-value -Werror=implicit -Werror=missing-braces -Werror=return-type -Werror=trigraphs -Werror=pointer-arith -Werror=strict-prototypes -Werror=missing-prototypes -Werror=missing-declarations -Werror=comment -Werror=vla -DHAVE_CONFIG_H -I. -I. -I./include -I./include -I./x86 -I./x86 -I./asm -I./asm -I./disasm -I./disasm -I./output -I./output -o stdlib/strnlen.o stdlib/strnlen.c\n",
            "gcc -c  -g -O2 -std=c17 -fwrapv -U__STRICT_ANSI__ -fno-common -Werror=attributes -ffunction-sections -fdata-sections -fvisibility=hidden -Wall -W -pedantic -Wc90-c99-compat -Wno-long-long -Wno-stringop-truncation -Wno-shift-negative-value -Werror=implicit -Werror=missing-braces -Werror=return-type -Werror=trigraphs -Werror=pointer-arith -Werror=strict-prototypes -Werror=missing-prototypes -Werror=missing-declarations -Werror=comment -Werror=vla -DHAVE_CONFIG_H -I. -I. -I./include -I./include -I./x86 -I./x86 -I./asm -I./asm -I./disasm -I./disasm -I./output -I./output -o stdlib/strrchrnul.o stdlib/strrchrnul.c\n",
            "gcc -c  -g -O2 -std=c17 -fwrapv -U__STRICT_ANSI__ -fno-common -Werror=attributes -ffunction-sections -fdata-sections -fvisibility=hidden -Wall -W -pedantic -Wc90-c99-compat -Wno-long-long -Wno-stringop-truncation -Wno-shift-negative-value -Werror=implicit -Werror=missing-braces -Werror=return-type -Werror=trigraphs -Werror=pointer-arith -Werror=strict-prototypes -Werror=missing-prototypes -Werror=missing-declarations -Werror=comment -Werror=vla -DHAVE_CONFIG_H -I. -I. -I./include -I./include -I./x86 -I./x86 -I./asm -I./asm -I./disasm -I./disasm -I./output -I./output -o nasmlib/ver.o nasmlib/ver.c\n",
            "gcc -c  -g -O2 -std=c17 -fwrapv -U__STRICT_ANSI__ -fno-common -Werror=attributes -ffunction-sections -fdata-sections -fvisibility=hidden -Wall -W -pedantic -Wc90-c99-compat -Wno-long-long -Wno-stringop-truncation -Wno-shift-negative-value -Werror=implicit -Werror=missing-braces -Werror=return-type -Werror=trigraphs -Werror=pointer-arith -Werror=strict-prototypes -Werror=missing-prototypes -Werror=missing-declarations -Werror=comment -Werror=vla -DHAVE_CONFIG_H -I. -I. -I./include -I./include -I./x86 -I./x86 -I./asm -I./asm -I./disasm -I./disasm -I./output -I./output -o nasmlib/alloc.o nasmlib/alloc.c\n",
            "gcc -c  -g -O2 -std=c17 -fwrapv -U__STRICT_ANSI__ -fno-common -Werror=attributes -ffunction-sections -fdata-sections -fvisibility=hidden -Wall -W -pedantic -Wc90-c99-compat -Wno-long-long -Wno-stringop-truncation -Wno-shift-negative-value -Werror=implicit -Werror=missing-braces -Werror=return-type -Werror=trigraphs -Werror=pointer-arith -Werror=strict-prototypes -Werror=missing-prototypes -Werror=missing-declarations -Werror=comment -Werror=vla -DHAVE_CONFIG_H -I. -I. -I./include -I./include -I./x86 -I./x86 -I./asm -I./asm -I./disasm -I./disasm -I./output -I./output -o nasmlib/asprintf.o nasmlib/asprintf.c\n",
            "gcc -c  -g -O2 -std=c17 -fwrapv -U__STRICT_ANSI__ -fno-common -Werror=attributes -ffunction-sections -fdata-sections -fvisibility=hidden -Wall -W -pedantic -Wc90-c99-compat -Wno-long-long -Wno-stringop-truncation -Wno-shift-negative-value -Werror=implicit -Werror=missing-braces -Werror=return-type -Werror=trigraphs -Werror=pointer-arith -Werror=strict-prototypes -Werror=missing-prototypes -Werror=missing-declarations -Werror=comment -Werror=vla -DHAVE_CONFIG_H -I. -I. -I./include -I./include -I./x86 -I./x86 -I./asm -I./asm -I./disasm -I./disasm -I./output -I./output -o nasmlib/errfile.o nasmlib/errfile.c\n",
            "gcc -c  -g -O2 -std=c17 -fwrapv -U__STRICT_ANSI__ -fno-common -Werror=attributes -ffunction-sections -fdata-sections -fvisibility=hidden -Wall -W -pedantic -Wc90-c99-compat -Wno-long-long -Wno-stringop-truncation -Wno-shift-negative-value -Werror=implicit -Werror=missing-braces -Werror=return-type -Werror=trigraphs -Werror=pointer-arith -Werror=strict-prototypes -Werror=missing-prototypes -Werror=missing-declarations -Werror=comment -Werror=vla -DHAVE_CONFIG_H -I. -I. -I./include -I./include -I./x86 -I./x86 -I./asm -I./asm -I./disasm -I./disasm -I./output -I./output -o nasmlib/crc32.o nasmlib/crc32.c\n",
            "gcc -c  -g -O2 -std=c17 -fwrapv -U__STRICT_ANSI__ -fno-common -Werror=attributes -ffunction-sections -fdata-sections -fvisibility=hidden -Wall -W -pedantic -Wc90-c99-compat -Wno-long-long -Wno-stringop-truncation -Wno-shift-negative-value -Werror=implicit -Werror=missing-braces -Werror=return-type -Werror=trigraphs -Werror=pointer-arith -Werror=strict-prototypes -Werror=missing-prototypes -Werror=missing-declarations -Werror=comment -Werror=vla -DHAVE_CONFIG_H -I. -I. -I./include -I./include -I./x86 -I./x86 -I./asm -I./asm -I./disasm -I./disasm -I./output -I./output -o nasmlib/crc64.o nasmlib/crc64.c\n",
            "gcc -c  -g -O2 -std=c17 -fwrapv -U__STRICT_ANSI__ -fno-common -Werror=attributes -ffunction-sections -fdata-sections -fvisibility=hidden -Wall -W -pedantic -Wc90-c99-compat -Wno-long-long -Wno-stringop-truncation -Wno-shift-negative-value -Werror=implicit -Werror=missing-braces -Werror=return-type -Werror=trigraphs -Werror=pointer-arith -Werror=strict-prototypes -Werror=missing-prototypes -Werror=missing-declarations -Werror=comment -Werror=vla -DHAVE_CONFIG_H -I. -I. -I./include -I./include -I./x86 -I./x86 -I./asm -I./asm -I./disasm -I./disasm -I./output -I./output -o nasmlib/md5c.o nasmlib/md5c.c\n",
            "gcc -c  -g -O2 -std=c17 -fwrapv -U__STRICT_ANSI__ -fno-common -Werror=attributes -ffunction-sections -fdata-sections -fvisibility=hidden -Wall -W -pedantic -Wc90-c99-compat -Wno-long-long -Wno-stringop-truncation -Wno-shift-negative-value -Werror=implicit -Werror=missing-braces -Werror=return-type -Werror=trigraphs -Werror=pointer-arith -Werror=strict-prototypes -Werror=missing-prototypes -Werror=missing-declarations -Werror=comment -Werror=vla -DHAVE_CONFIG_H -I. -I. -I./include -I./include -I./x86 -I./x86 -I./asm -I./asm -I./disasm -I./disasm -I./output -I./output -o nasmlib/string.o nasmlib/string.c\n",
            "gcc -c  -g -O2 -std=c17 -fwrapv -U__STRICT_ANSI__ -fno-common -Werror=attributes -ffunction-sections -fdata-sections -fvisibility=hidden -Wall -W -pedantic -Wc90-c99-compat -Wno-long-long -Wno-stringop-truncation -Wno-shift-negative-value -Werror=implicit -Werror=missing-braces -Werror=return-type -Werror=trigraphs -Werror=pointer-arith -Werror=strict-prototypes -Werror=missing-prototypes -Werror=missing-declarations -Werror=comment -Werror=vla -DHAVE_CONFIG_H -I. -I. -I./include -I./include -I./x86 -I./x86 -I./asm -I./asm -I./disasm -I./disasm -I./output -I./output -o nasmlib/nctype.o nasmlib/nctype.c\n",
            "gcc -c  -g -O2 -std=c17 -fwrapv -U__STRICT_ANSI__ -fno-common -Werror=attributes -ffunction-sections -fdata-sections -fvisibility=hidden -Wall -W -pedantic -Wc90-c99-compat -Wno-long-long -Wno-stringop-truncation -Wno-shift-negative-value -Werror=implicit -Werror=missing-braces -Werror=return-type -Werror=trigraphs -Werror=pointer-arith -Werror=strict-prototypes -Werror=missing-prototypes -Werror=missing-declarations -Werror=comment -Werror=vla -DHAVE_CONFIG_H -I. -I. -I./include -I./include -I./x86 -I./x86 -I./asm -I./asm -I./disasm -I./disasm -I./output -I./output -o nasmlib/file.o nasmlib/file.c\n",
            "gcc -c  -g -O2 -std=c17 -fwrapv -U__STRICT_ANSI__ -fno-common -Werror=attributes -ffunction-sections -fdata-sections -fvisibility=hidden -Wall -W -pedantic -Wc90-c99-compat -Wno-long-long -Wno-stringop-truncation -Wno-shift-negative-value -Werror=implicit -Werror=missing-braces -Werror=return-type -Werror=trigraphs -Werror=pointer-arith -Werror=strict-prototypes -Werror=missing-prototypes -Werror=missing-declarations -Werror=comment -Werror=vla -DHAVE_CONFIG_H -I. -I. -I./include -I./include -I./x86 -I./x86 -I./asm -I./asm -I./disasm -I./disasm -I./output -I./output -o nasmlib/mmap.o nasmlib/mmap.c\n",
            "gcc -c  -g -O2 -std=c17 -fwrapv -U__STRICT_ANSI__ -fno-common -Werror=attributes -ffunction-sections -fdata-sections -fvisibility=hidden -Wall -W -pedantic -Wc90-c99-compat -Wno-long-long -Wno-stringop-truncation -Wno-shift-negative-value -Werror=implicit -Werror=missing-braces -Werror=return-type -Werror=trigraphs -Werror=pointer-arith -Werror=strict-prototypes -Werror=missing-prototypes -Werror=missing-declarations -Werror=comment -Werror=vla -DHAVE_CONFIG_H -I. -I. -I./include -I./include -I./x86 -I./x86 -I./asm -I./asm -I./disasm -I./disasm -I./output -I./output -o nasmlib/ilog2.o nasmlib/ilog2.c\n",
            "gcc -c  -g -O2 -std=c17 -fwrapv -U__STRICT_ANSI__ -fno-common -Werror=attributes -ffunction-sections -fdata-sections -fvisibility=hidden -Wall -W -pedantic -Wc90-c99-compat -Wno-long-long -Wno-stringop-truncation -Wno-shift-negative-value -Werror=implicit -Werror=missing-braces -Werror=return-type -Werror=trigraphs -Werror=pointer-arith -Werror=strict-prototypes -Werror=missing-prototypes -Werror=missing-declarations -Werror=comment -Werror=vla -DHAVE_CONFIG_H -I. -I. -I./include -I./include -I./x86 -I./x86 -I./asm -I./asm -I./disasm -I./disasm -I./output -I./output -o nasmlib/realpath.o nasmlib/realpath.c\n",
            "gcc -c  -g -O2 -std=c17 -fwrapv -U__STRICT_ANSI__ -fno-common -Werror=attributes -ffunction-sections -fdata-sections -fvisibility=hidden -Wall -W -pedantic -Wc90-c99-compat -Wno-long-long -Wno-stringop-truncation -Wno-shift-negative-value -Werror=implicit -Werror=missing-braces -Werror=return-type -Werror=trigraphs -Werror=pointer-arith -Werror=strict-prototypes -Werror=missing-prototypes -Werror=missing-declarations -Werror=comment -Werror=vla -DHAVE_CONFIG_H -I. -I. -I./include -I./include -I./x86 -I./x86 -I./asm -I./asm -I./disasm -I./disasm -I./output -I./output -o nasmlib/path.o nasmlib/path.c\n",
            "gcc -c  -g -O2 -std=c17 -fwrapv -U__STRICT_ANSI__ -fno-common -Werror=attributes -ffunction-sections -fdata-sections -fvisibility=hidden -Wall -W -pedantic -Wc90-c99-compat -Wno-long-long -Wno-stringop-truncation -Wno-shift-negative-value -Werror=implicit -Werror=missing-braces -Werror=return-type -Werror=trigraphs -Werror=pointer-arith -Werror=strict-prototypes -Werror=missing-prototypes -Werror=missing-declarations -Werror=comment -Werror=vla -DHAVE_CONFIG_H -I. -I. -I./include -I./include -I./x86 -I./x86 -I./asm -I./asm -I./disasm -I./disasm -I./output -I./output -o nasmlib/filename.o nasmlib/filename.c\n",
            "gcc -c  -g -O2 -std=c17 -fwrapv -U__STRICT_ANSI__ -fno-common -Werror=attributes -ffunction-sections -fdata-sections -fvisibility=hidden -Wall -W -pedantic -Wc90-c99-compat -Wno-long-long -Wno-stringop-truncation -Wno-shift-negative-value -Werror=implicit -Werror=missing-braces -Werror=return-type -Werror=trigraphs -Werror=pointer-arith -Werror=strict-prototypes -Werror=missing-prototypes -Werror=missing-declarations -Werror=comment -Werror=vla -DHAVE_CONFIG_H -I. -I. -I./include -I./include -I./x86 -I./x86 -I./asm -I./asm -I./disasm -I./disasm -I./output -I./output -o nasmlib/rlimit.o nasmlib/rlimit.c\n",
            "gcc -c  -g -O2 -std=c17 -fwrapv -U__STRICT_ANSI__ -fno-common -Werror=attributes -ffunction-sections -fdata-sections -fvisibility=hidden -Wall -W -pedantic -Wc90-c99-compat -Wno-long-long -Wno-stringop-truncation -Wno-shift-negative-value -Werror=implicit -Werror=missing-braces -Werror=return-type -Werror=trigraphs -Werror=pointer-arith -Werror=strict-prototypes -Werror=missing-prototypes -Werror=missing-declarations -Werror=comment -Werror=vla -DHAVE_CONFIG_H -I. -I. -I./include -I./include -I./x86 -I./x86 -I./asm -I./asm -I./disasm -I./disasm -I./output -I./output -o nasmlib/zerobuf.o nasmlib/zerobuf.c\n",
            "gcc -c  -g -O2 -std=c17 -fwrapv -U__STRICT_ANSI__ -fno-common -Werror=attributes -ffunction-sections -fdata-sections -fvisibility=hidden -Wall -W -pedantic -Wc90-c99-compat -Wno-long-long -Wno-stringop-truncation -Wno-shift-negative-value -Werror=implicit -Werror=missing-braces -Werror=return-type -Werror=trigraphs -Werror=pointer-arith -Werror=strict-prototypes -Werror=missing-prototypes -Werror=missing-declarations -Werror=comment -Werror=vla -DHAVE_CONFIG_H -I. -I. -I./include -I./include -I./x86 -I./x86 -I./asm -I./asm -I./disasm -I./disasm -I./output -I./output -o nasmlib/readnum.o nasmlib/readnum.c\n",
            "gcc -c  -g -O2 -std=c17 -fwrapv -U__STRICT_ANSI__ -fno-common -Werror=attributes -ffunction-sections -fdata-sections -fvisibility=hidden -Wall -W -pedantic -Wc90-c99-compat -Wno-long-long -Wno-stringop-truncation -Wno-shift-negative-value -Werror=implicit -Werror=missing-braces -Werror=return-type -Werror=trigraphs -Werror=pointer-arith -Werror=strict-prototypes -Werror=missing-prototypes -Werror=missing-declarations -Werror=comment -Werror=vla -DHAVE_CONFIG_H -I. -I. -I./include -I./include -I./x86 -I./x86 -I./asm -I./asm -I./disasm -I./disasm -I./output -I./output -o nasmlib/bsi.o nasmlib/bsi.c\n",
            "gcc -c  -g -O2 -std=c17 -fwrapv -U__STRICT_ANSI__ -fno-common -Werror=attributes -ffunction-sections -fdata-sections -fvisibility=hidden -Wall -W -pedantic -Wc90-c99-compat -Wno-long-long -Wno-stringop-truncation -Wno-shift-negative-value -Werror=implicit -Werror=missing-braces -Werror=return-type -Werror=trigraphs -Werror=pointer-arith -Werror=strict-prototypes -Werror=missing-prototypes -Werror=missing-declarations -Werror=comment -Werror=vla -DHAVE_CONFIG_H -I. -I. -I./include -I./include -I./x86 -I./x86 -I./asm -I./asm -I./disasm -I./disasm -I./output -I./output -o nasmlib/rbtree.o nasmlib/rbtree.c\n",
            "gcc -c  -g -O2 -std=c17 -fwrapv -U__STRICT_ANSI__ -fno-common -Werror=attributes -ffunction-sections -fdata-sections -fvisibility=hidden -Wall -W -pedantic -Wc90-c99-compat -Wno-long-long -Wno-stringop-truncation -Wno-shift-negative-value -Werror=implicit -Werror=missing-braces -Werror=return-type -Werror=trigraphs -Werror=pointer-arith -Werror=strict-prototypes -Werror=missing-prototypes -Werror=missing-declarations -Werror=comment -Werror=vla -DHAVE_CONFIG_H -I. -I. -I./include -I./include -I./x86 -I./x86 -I./asm -I./asm -I./disasm -I./disasm -I./output -I./output -o nasmlib/hashtbl.o nasmlib/hashtbl.c\n",
            "gcc -c  -g -O2 -std=c17 -fwrapv -U__STRICT_ANSI__ -fno-common -Werror=attributes -ffunction-sections -fdata-sections -fvisibility=hidden -Wall -W -pedantic -Wc90-c99-compat -Wno-long-long -Wno-stringop-truncation -Wno-shift-negative-value -Werror=implicit -Werror=missing-braces -Werror=return-type -Werror=trigraphs -Werror=pointer-arith -Werror=strict-prototypes -Werror=missing-prototypes -Werror=missing-declarations -Werror=comment -Werror=vla -DHAVE_CONFIG_H -I. -I. -I./include -I./include -I./x86 -I./x86 -I./asm -I./asm -I./disasm -I./disasm -I./output -I./output -o nasmlib/raa.o nasmlib/raa.c\n",
            "gcc -c  -g -O2 -std=c17 -fwrapv -U__STRICT_ANSI__ -fno-common -Werror=attributes -ffunction-sections -fdata-sections -fvisibility=hidden -Wall -W -pedantic -Wc90-c99-compat -Wno-long-long -Wno-stringop-truncation -Wno-shift-negative-value -Werror=implicit -Werror=missing-braces -Werror=return-type -Werror=trigraphs -Werror=pointer-arith -Werror=strict-prototypes -Werror=missing-prototypes -Werror=missing-declarations -Werror=comment -Werror=vla -DHAVE_CONFIG_H -I. -I. -I./include -I./include -I./x86 -I./x86 -I./asm -I./asm -I./disasm -I./disasm -I./output -I./output -o nasmlib/saa.o nasmlib/saa.c\n",
            "gcc -c  -g -O2 -std=c17 -fwrapv -U__STRICT_ANSI__ -fno-common -Werror=attributes -ffunction-sections -fdata-sections -fvisibility=hidden -Wall -W -pedantic -Wc90-c99-compat -Wno-long-long -Wno-stringop-truncation -Wno-shift-negative-value -Werror=implicit -Werror=missing-braces -Werror=return-type -Werror=trigraphs -Werror=pointer-arith -Werror=strict-prototypes -Werror=missing-prototypes -Werror=missing-declarations -Werror=comment -Werror=vla -DHAVE_CONFIG_H -I. -I. -I./include -I./include -I./x86 -I./x86 -I./asm -I./asm -I./disasm -I./disasm -I./output -I./output -o nasmlib/strlist.o nasmlib/strlist.c\n",
            "gcc -c  -g -O2 -std=c17 -fwrapv -U__STRICT_ANSI__ -fno-common -Werror=attributes -ffunction-sections -fdata-sections -fvisibility=hidden -Wall -W -pedantic -Wc90-c99-compat -Wno-long-long -Wno-stringop-truncation -Wno-shift-negative-value -Werror=implicit -Werror=missing-braces -Werror=return-type -Werror=trigraphs -Werror=pointer-arith -Werror=strict-prototypes -Werror=missing-prototypes -Werror=missing-declarations -Werror=comment -Werror=vla -DHAVE_CONFIG_H -I. -I. -I./include -I./include -I./x86 -I./x86 -I./asm -I./asm -I./disasm -I./disasm -I./output -I./output -o nasmlib/perfhash.o nasmlib/perfhash.c\n",
            "gcc -c  -g -O2 -std=c17 -fwrapv -U__STRICT_ANSI__ -fno-common -Werror=attributes -ffunction-sections -fdata-sections -fvisibility=hidden -Wall -W -pedantic -Wc90-c99-compat -Wno-long-long -Wno-stringop-truncation -Wno-shift-negative-value -Werror=implicit -Werror=missing-braces -Werror=return-type -Werror=trigraphs -Werror=pointer-arith -Werror=strict-prototypes -Werror=missing-prototypes -Werror=missing-declarations -Werror=comment -Werror=vla -DHAVE_CONFIG_H -I. -I. -I./include -I./include -I./x86 -I./x86 -I./asm -I./asm -I./disasm -I./disasm -I./output -I./output -o nasmlib/badenum.o nasmlib/badenum.c\n",
            "gcc -c  -g -O2 -std=c17 -fwrapv -U__STRICT_ANSI__ -fno-common -Werror=attributes -ffunction-sections -fdata-sections -fvisibility=hidden -Wall -W -pedantic -Wc90-c99-compat -Wno-long-long -Wno-stringop-truncation -Wno-shift-negative-value -Werror=implicit -Werror=missing-braces -Werror=return-type -Werror=trigraphs -Werror=pointer-arith -Werror=strict-prototypes -Werror=missing-prototypes -Werror=missing-declarations -Werror=comment -Werror=vla -DHAVE_CONFIG_H -I. -I. -I./include -I./include -I./x86 -I./x86 -I./asm -I./asm -I./disasm -I./disasm -I./output -I./output -o common/common.o common/common.c\n",
            "gcc -c  -g -O2 -std=c17 -fwrapv -U__STRICT_ANSI__ -fno-common -Werror=attributes -ffunction-sections -fdata-sections -fvisibility=hidden -Wall -W -pedantic -Wc90-c99-compat -Wno-long-long -Wno-stringop-truncation -Wno-shift-negative-value -Werror=implicit -Werror=missing-braces -Werror=return-type -Werror=trigraphs -Werror=pointer-arith -Werror=strict-prototypes -Werror=missing-prototypes -Werror=missing-declarations -Werror=comment -Werror=vla -DHAVE_CONFIG_H -I. -I. -I./include -I./include -I./x86 -I./x86 -I./asm -I./asm -I./disasm -I./disasm -I./output -I./output -o x86/insnsa.o x86/insnsa.c\n",
            "gcc -c  -g -O2 -std=c17 -fwrapv -U__STRICT_ANSI__ -fno-common -Werror=attributes -ffunction-sections -fdata-sections -fvisibility=hidden -Wall -W -pedantic -Wc90-c99-compat -Wno-long-long -Wno-stringop-truncation -Wno-shift-negative-value -Werror=implicit -Werror=missing-braces -Werror=return-type -Werror=trigraphs -Werror=pointer-arith -Werror=strict-prototypes -Werror=missing-prototypes -Werror=missing-declarations -Werror=comment -Werror=vla -DHAVE_CONFIG_H -I. -I. -I./include -I./include -I./x86 -I./x86 -I./asm -I./asm -I./disasm -I./disasm -I./output -I./output -o x86/insnsb.o x86/insnsb.c\n",
            "gcc -c  -g -O2 -std=c17 -fwrapv -U__STRICT_ANSI__ -fno-common -Werror=attributes -ffunction-sections -fdata-sections -fvisibility=hidden -Wall -W -pedantic -Wc90-c99-compat -Wno-long-long -Wno-stringop-truncation -Wno-shift-negative-value -Werror=implicit -Werror=missing-braces -Werror=return-type -Werror=trigraphs -Werror=pointer-arith -Werror=strict-prototypes -Werror=missing-prototypes -Werror=missing-declarations -Werror=comment -Werror=vla -DHAVE_CONFIG_H -I. -I. -I./include -I./include -I./x86 -I./x86 -I./asm -I./asm -I./disasm -I./disasm -I./output -I./output -o x86/insnsd.o x86/insnsd.c\n",
            "gcc -c  -g -O2 -std=c17 -fwrapv -U__STRICT_ANSI__ -fno-common -Werror=attributes -ffunction-sections -fdata-sections -fvisibility=hidden -Wall -W -pedantic -Wc90-c99-compat -Wno-long-long -Wno-stringop-truncation -Wno-shift-negative-value -Werror=implicit -Werror=missing-braces -Werror=return-type -Werror=trigraphs -Werror=pointer-arith -Werror=strict-prototypes -Werror=missing-prototypes -Werror=missing-declarations -Werror=comment -Werror=vla -DHAVE_CONFIG_H -I. -I. -I./include -I./include -I./x86 -I./x86 -I./asm -I./asm -I./disasm -I./disasm -I./output -I./output -o x86/insnsn.o x86/insnsn.c\n",
            "gcc -c  -g -O2 -std=c17 -fwrapv -U__STRICT_ANSI__ -fno-common -Werror=attributes -ffunction-sections -fdata-sections -fvisibility=hidden -Wall -W -pedantic -Wc90-c99-compat -Wno-long-long -Wno-stringop-truncation -Wno-shift-negative-value -Werror=implicit -Werror=missing-braces -Werror=return-type -Werror=trigraphs -Werror=pointer-arith -Werror=strict-prototypes -Werror=missing-prototypes -Werror=missing-declarations -Werror=comment -Werror=vla -DHAVE_CONFIG_H -I. -I. -I./include -I./include -I./x86 -I./x86 -I./asm -I./asm -I./disasm -I./disasm -I./output -I./output -o x86/regs.o x86/regs.c\n",
            "gcc -c  -g -O2 -std=c17 -fwrapv -U__STRICT_ANSI__ -fno-common -Werror=attributes -ffunction-sections -fdata-sections -fvisibility=hidden -Wall -W -pedantic -Wc90-c99-compat -Wno-long-long -Wno-stringop-truncation -Wno-shift-negative-value -Werror=implicit -Werror=missing-braces -Werror=return-type -Werror=trigraphs -Werror=pointer-arith -Werror=strict-prototypes -Werror=missing-prototypes -Werror=missing-declarations -Werror=comment -Werror=vla -DHAVE_CONFIG_H -I. -I. -I./include -I./include -I./x86 -I./x86 -I./asm -I./asm -I./disasm -I./disasm -I./output -I./output -o x86/regvals.o x86/regvals.c\n",
            "gcc -c  -g -O2 -std=c17 -fwrapv -U__STRICT_ANSI__ -fno-common -Werror=attributes -ffunction-sections -fdata-sections -fvisibility=hidden -Wall -W -pedantic -Wc90-c99-compat -Wno-long-long -Wno-stringop-truncation -Wno-shift-negative-value -Werror=implicit -Werror=missing-braces -Werror=return-type -Werror=trigraphs -Werror=pointer-arith -Werror=strict-prototypes -Werror=missing-prototypes -Werror=missing-declarations -Werror=comment -Werror=vla -DHAVE_CONFIG_H -I. -I. -I./include -I./include -I./x86 -I./x86 -I./asm -I./asm -I./disasm -I./disasm -I./output -I./output -o x86/regflags.o x86/regflags.c\n",
            "gcc -c  -g -O2 -std=c17 -fwrapv -U__STRICT_ANSI__ -fno-common -Werror=attributes -ffunction-sections -fdata-sections -fvisibility=hidden -Wall -W -pedantic -Wc90-c99-compat -Wno-long-long -Wno-stringop-truncation -Wno-shift-negative-value -Werror=implicit -Werror=missing-braces -Werror=return-type -Werror=trigraphs -Werror=pointer-arith -Werror=strict-prototypes -Werror=missing-prototypes -Werror=missing-declarations -Werror=comment -Werror=vla -DHAVE_CONFIG_H -I. -I. -I./include -I./include -I./x86 -I./x86 -I./asm -I./asm -I./disasm -I./disasm -I./output -I./output -o x86/regdis.o x86/regdis.c\n",
            "gcc -c  -g -O2 -std=c17 -fwrapv -U__STRICT_ANSI__ -fno-common -Werror=attributes -ffunction-sections -fdata-sections -fvisibility=hidden -Wall -W -pedantic -Wc90-c99-compat -Wno-long-long -Wno-stringop-truncation -Wno-shift-negative-value -Werror=implicit -Werror=missing-braces -Werror=return-type -Werror=trigraphs -Werror=pointer-arith -Werror=strict-prototypes -Werror=missing-prototypes -Werror=missing-declarations -Werror=comment -Werror=vla -DHAVE_CONFIG_H -I. -I. -I./include -I./include -I./x86 -I./x86 -I./asm -I./asm -I./disasm -I./disasm -I./output -I./output -o x86/disp8.o x86/disp8.c\n",
            "gcc -c  -g -O2 -std=c17 -fwrapv -U__STRICT_ANSI__ -fno-common -Werror=attributes -ffunction-sections -fdata-sections -fvisibility=hidden -Wall -W -pedantic -Wc90-c99-compat -Wno-long-long -Wno-stringop-truncation -Wno-shift-negative-value -Werror=implicit -Werror=missing-braces -Werror=return-type -Werror=trigraphs -Werror=pointer-arith -Werror=strict-prototypes -Werror=missing-prototypes -Werror=missing-declarations -Werror=comment -Werror=vla -DHAVE_CONFIG_H -I. -I. -I./include -I./include -I./x86 -I./x86 -I./asm -I./asm -I./disasm -I./disasm -I./output -I./output -o x86/iflag.o x86/iflag.c\n",
            "gcc -c  -g -O2 -std=c17 -fwrapv -U__STRICT_ANSI__ -fno-common -Werror=attributes -ffunction-sections -fdata-sections -fvisibility=hidden -Wall -W -pedantic -Wc90-c99-compat -Wno-long-long -Wno-stringop-truncation -Wno-shift-negative-value -Werror=implicit -Werror=missing-braces -Werror=return-type -Werror=trigraphs -Werror=pointer-arith -Werror=strict-prototypes -Werror=missing-prototypes -Werror=missing-declarations -Werror=comment -Werror=vla -DHAVE_CONFIG_H -I. -I. -I./include -I./include -I./x86 -I./x86 -I./asm -I./asm -I./disasm -I./disasm -I./output -I./output -o asm/error.o asm/error.c\n",
            "gcc -c  -g -O2 -std=c17 -fwrapv -U__STRICT_ANSI__ -fno-common -Werror=attributes -ffunction-sections -fdata-sections -fvisibility=hidden -Wall -W -pedantic -Wc90-c99-compat -Wno-long-long -Wno-stringop-truncation -Wno-shift-negative-value -Werror=implicit -Werror=missing-braces -Werror=return-type -Werror=trigraphs -Werror=pointer-arith -Werror=strict-prototypes -Werror=missing-prototypes -Werror=missing-declarations -Werror=comment -Werror=vla -DHAVE_CONFIG_H -I. -I. -I./include -I./include -I./x86 -I./x86 -I./asm -I./asm -I./disasm -I./disasm -I./output -I./output -o asm/floats.o asm/floats.c\n",
            "gcc -c  -g -O2 -std=c17 -fwrapv -U__STRICT_ANSI__ -fno-common -Werror=attributes -ffunction-sections -fdata-sections -fvisibility=hidden -Wall -W -pedantic -Wc90-c99-compat -Wno-long-long -Wno-stringop-truncation -Wno-shift-negative-value -Werror=implicit -Werror=missing-braces -Werror=return-type -Werror=trigraphs -Werror=pointer-arith -Werror=strict-prototypes -Werror=missing-prototypes -Werror=missing-declarations -Werror=comment -Werror=vla -DHAVE_CONFIG_H -I. -I. -I./include -I./include -I./x86 -I./x86 -I./asm -I./asm -I./disasm -I./disasm -I./output -I./output -o asm/directiv.o asm/directiv.c\n",
            "gcc -c  -g -O2 -std=c17 -fwrapv -U__STRICT_ANSI__ -fno-common -Werror=attributes -ffunction-sections -fdata-sections -fvisibility=hidden -Wall -W -pedantic -Wc90-c99-compat -Wno-long-long -Wno-stringop-truncation -Wno-shift-negative-value -Werror=implicit -Werror=missing-braces -Werror=return-type -Werror=trigraphs -Werror=pointer-arith -Werror=strict-prototypes -Werror=missing-prototypes -Werror=missing-declarations -Werror=comment -Werror=vla -DHAVE_CONFIG_H -I. -I. -I./include -I./include -I./x86 -I./x86 -I./asm -I./asm -I./disasm -I./disasm -I./output -I./output -o asm/directbl.o asm/directbl.c\n",
            "gcc -c  -g -O2 -std=c17 -fwrapv -U__STRICT_ANSI__ -fno-common -Werror=attributes -ffunction-sections -fdata-sections -fvisibility=hidden -Wall -W -pedantic -Wc90-c99-compat -Wno-long-long -Wno-stringop-truncation -Wno-shift-negative-value -Werror=implicit -Werror=missing-braces -Werror=return-type -Werror=trigraphs -Werror=pointer-arith -Werror=strict-prototypes -Werror=missing-prototypes -Werror=missing-declarations -Werror=comment -Werror=vla -DHAVE_CONFIG_H -I. -I. -I./include -I./include -I./x86 -I./x86 -I./asm -I./asm -I./disasm -I./disasm -I./output -I./output -o asm/pragma.o asm/pragma.c\n",
            "gcc -c  -g -O2 -std=c17 -fwrapv -U__STRICT_ANSI__ -fno-common -Werror=attributes -ffunction-sections -fdata-sections -fvisibility=hidden -Wall -W -pedantic -Wc90-c99-compat -Wno-long-long -Wno-stringop-truncation -Wno-shift-negative-value -Werror=implicit -Werror=missing-braces -Werror=return-type -Werror=trigraphs -Werror=pointer-arith -Werror=strict-prototypes -Werror=missing-prototypes -Werror=missing-declarations -Werror=comment -Werror=vla -DHAVE_CONFIG_H -I. -I. -I./include -I./include -I./x86 -I./x86 -I./asm -I./asm -I./disasm -I./disasm -I./output -I./output -o asm/assemble.o asm/assemble.c\n",
            "gcc -c  -g -O2 -std=c17 -fwrapv -U__STRICT_ANSI__ -fno-common -Werror=attributes -ffunction-sections -fdata-sections -fvisibility=hidden -Wall -W -pedantic -Wc90-c99-compat -Wno-long-long -Wno-stringop-truncation -Wno-shift-negative-value -Werror=implicit -Werror=missing-braces -Werror=return-type -Werror=trigraphs -Werror=pointer-arith -Werror=strict-prototypes -Werror=missing-prototypes -Werror=missing-declarations -Werror=comment -Werror=vla -DHAVE_CONFIG_H -I. -I. -I./include -I./include -I./x86 -I./x86 -I./asm -I./asm -I./disasm -I./disasm -I./output -I./output -o asm/labels.o asm/labels.c\n",
            "gcc -c  -g -O2 -std=c17 -fwrapv -U__STRICT_ANSI__ -fno-common -Werror=attributes -ffunction-sections -fdata-sections -fvisibility=hidden -Wall -W -pedantic -Wc90-c99-compat -Wno-long-long -Wno-stringop-truncation -Wno-shift-negative-value -Werror=implicit -Werror=missing-braces -Werror=return-type -Werror=trigraphs -Werror=pointer-arith -Werror=strict-prototypes -Werror=missing-prototypes -Werror=missing-declarations -Werror=comment -Werror=vla -DHAVE_CONFIG_H -I. -I. -I./include -I./include -I./x86 -I./x86 -I./asm -I./asm -I./disasm -I./disasm -I./output -I./output -o asm/parser.o asm/parser.c\n",
            "gcc -c  -g -O2 -std=c17 -fwrapv -U__STRICT_ANSI__ -fno-common -Werror=attributes -ffunction-sections -fdata-sections -fvisibility=hidden -Wall -W -pedantic -Wc90-c99-compat -Wno-long-long -Wno-stringop-truncation -Wno-shift-negative-value -Werror=implicit -Werror=missing-braces -Werror=return-type -Werror=trigraphs -Werror=pointer-arith -Werror=strict-prototypes -Werror=missing-prototypes -Werror=missing-declarations -Werror=comment -Werror=vla -DHAVE_CONFIG_H -I. -I. -I./include -I./include -I./x86 -I./x86 -I./asm -I./asm -I./disasm -I./disasm -I./output -I./output -o asm/preproc.o asm/preproc.c\n",
            "gcc -c  -g -O2 -std=c17 -fwrapv -U__STRICT_ANSI__ -fno-common -Werror=attributes -ffunction-sections -fdata-sections -fvisibility=hidden -Wall -W -pedantic -Wc90-c99-compat -Wno-long-long -Wno-stringop-truncation -Wno-shift-negative-value -Werror=implicit -Werror=missing-braces -Werror=return-type -Werror=trigraphs -Werror=pointer-arith -Werror=strict-prototypes -Werror=missing-prototypes -Werror=missing-declarations -Werror=comment -Werror=vla -DHAVE_CONFIG_H -I. -I. -I./include -I./include -I./x86 -I./x86 -I./asm -I./asm -I./disasm -I./disasm -I./output -I./output -o asm/quote.o asm/quote.c\n",
            "gcc -c  -g -O2 -std=c17 -fwrapv -U__STRICT_ANSI__ -fno-common -Werror=attributes -ffunction-sections -fdata-sections -fvisibility=hidden -Wall -W -pedantic -Wc90-c99-compat -Wno-long-long -Wno-stringop-truncation -Wno-shift-negative-value -Werror=implicit -Werror=missing-braces -Werror=return-type -Werror=trigraphs -Werror=pointer-arith -Werror=strict-prototypes -Werror=missing-prototypes -Werror=missing-declarations -Werror=comment -Werror=vla -DHAVE_CONFIG_H -I. -I. -I./include -I./include -I./x86 -I./x86 -I./asm -I./asm -I./disasm -I./disasm -I./output -I./output -o asm/pptok.o asm/pptok.c\n",
            "gcc -c  -g -O2 -std=c17 -fwrapv -U__STRICT_ANSI__ -fno-common -Werror=attributes -ffunction-sections -fdata-sections -fvisibility=hidden -Wall -W -pedantic -Wc90-c99-compat -Wno-long-long -Wno-stringop-truncation -Wno-shift-negative-value -Werror=implicit -Werror=missing-braces -Werror=return-type -Werror=trigraphs -Werror=pointer-arith -Werror=strict-prototypes -Werror=missing-prototypes -Werror=missing-declarations -Werror=comment -Werror=vla -DHAVE_CONFIG_H -I. -I. -I./include -I./include -I./x86 -I./x86 -I./asm -I./asm -I./disasm -I./disasm -I./output -I./output -o asm/listing.o asm/listing.c\n",
            "gcc -c  -g -O2 -std=c17 -fwrapv -U__STRICT_ANSI__ -fno-common -Werror=attributes -ffunction-sections -fdata-sections -fvisibility=hidden -Wall -W -pedantic -Wc90-c99-compat -Wno-long-long -Wno-stringop-truncation -Wno-shift-negative-value -Werror=implicit -Werror=missing-braces -Werror=return-type -Werror=trigraphs -Werror=pointer-arith -Werror=strict-prototypes -Werror=missing-prototypes -Werror=missing-declarations -Werror=comment -Werror=vla -DHAVE_CONFIG_H -I. -I. -I./include -I./include -I./x86 -I./x86 -I./asm -I./asm -I./disasm -I./disasm -I./output -I./output -o asm/eval.o asm/eval.c\n",
            "gcc -c  -g -O2 -std=c17 -fwrapv -U__STRICT_ANSI__ -fno-common -Werror=attributes -ffunction-sections -fdata-sections -fvisibility=hidden -Wall -W -pedantic -Wc90-c99-compat -Wno-long-long -Wno-stringop-truncation -Wno-shift-negative-value -Werror=implicit -Werror=missing-braces -Werror=return-type -Werror=trigraphs -Werror=pointer-arith -Werror=strict-prototypes -Werror=missing-prototypes -Werror=missing-declarations -Werror=comment -Werror=vla -DHAVE_CONFIG_H -I. -I. -I./include -I./include -I./x86 -I./x86 -I./asm -I./asm -I./disasm -I./disasm -I./output -I./output -o asm/exprlib.o asm/exprlib.c\n",
            "gcc -c  -g -O2 -std=c17 -fwrapv -U__STRICT_ANSI__ -fno-common -Werror=attributes -ffunction-sections -fdata-sections -fvisibility=hidden -Wall -W -pedantic -Wc90-c99-compat -Wno-long-long -Wno-stringop-truncation -Wno-shift-negative-value -Werror=implicit -Werror=missing-braces -Werror=return-type -Werror=trigraphs -Werror=pointer-arith -Werror=strict-prototypes -Werror=missing-prototypes -Werror=missing-declarations -Werror=comment -Werror=vla -DHAVE_CONFIG_H -I. -I. -I./include -I./include -I./x86 -I./x86 -I./asm -I./asm -I./disasm -I./disasm -I./output -I./output -o asm/exprdump.o asm/exprdump.c\n",
            "gcc -c  -g -O2 -std=c17 -fwrapv -U__STRICT_ANSI__ -fno-common -Werror=attributes -ffunction-sections -fdata-sections -fvisibility=hidden -Wall -W -pedantic -Wc90-c99-compat -Wno-long-long -Wno-stringop-truncation -Wno-shift-negative-value -Werror=implicit -Werror=missing-braces -Werror=return-type -Werror=trigraphs -Werror=pointer-arith -Werror=strict-prototypes -Werror=missing-prototypes -Werror=missing-declarations -Werror=comment -Werror=vla -DHAVE_CONFIG_H -I. -I. -I./include -I./include -I./x86 -I./x86 -I./asm -I./asm -I./disasm -I./disasm -I./output -I./output -o asm/stdscan.o asm/stdscan.c\n",
            "gcc -c  -g -O2 -std=c17 -fwrapv -U__STRICT_ANSI__ -fno-common -Werror=attributes -ffunction-sections -fdata-sections -fvisibility=hidden -Wall -W -pedantic -Wc90-c99-compat -Wno-long-long -Wno-stringop-truncation -Wno-shift-negative-value -Werror=implicit -Werror=missing-braces -Werror=return-type -Werror=trigraphs -Werror=pointer-arith -Werror=strict-prototypes -Werror=missing-prototypes -Werror=missing-declarations -Werror=comment -Werror=vla -DHAVE_CONFIG_H -I. -I. -I./include -I./include -I./x86 -I./x86 -I./asm -I./asm -I./disasm -I./disasm -I./output -I./output -o asm/strfunc.o asm/strfunc.c\n",
            "gcc -c  -g -O2 -std=c17 -fwrapv -U__STRICT_ANSI__ -fno-common -Werror=attributes -ffunction-sections -fdata-sections -fvisibility=hidden -Wall -W -pedantic -Wc90-c99-compat -Wno-long-long -Wno-stringop-truncation -Wno-shift-negative-value -Werror=implicit -Werror=missing-braces -Werror=return-type -Werror=trigraphs -Werror=pointer-arith -Werror=strict-prototypes -Werror=missing-prototypes -Werror=missing-declarations -Werror=comment -Werror=vla -DHAVE_CONFIG_H -I. -I. -I./include -I./include -I./x86 -I./x86 -I./asm -I./asm -I./disasm -I./disasm -I./output -I./output -o asm/tokhash.o asm/tokhash.c\n",
            "gcc -c  -g -O2 -std=c17 -fwrapv -U__STRICT_ANSI__ -fno-common -Werror=attributes -ffunction-sections -fdata-sections -fvisibility=hidden -Wall -W -pedantic -Wc90-c99-compat -Wno-long-long -Wno-stringop-truncation -Wno-shift-negative-value -Werror=implicit -Werror=missing-braces -Werror=return-type -Werror=trigraphs -Werror=pointer-arith -Werror=strict-prototypes -Werror=missing-prototypes -Werror=missing-declarations -Werror=comment -Werror=vla -DHAVE_CONFIG_H -I. -I. -I./include -I./include -I./x86 -I./x86 -I./asm -I./asm -I./disasm -I./disasm -I./output -I./output -o asm/segalloc.o asm/segalloc.c\n",
            "gcc -c  -g -O2 -std=c17 -fwrapv -U__STRICT_ANSI__ -fno-common -Werror=attributes -ffunction-sections -fdata-sections -fvisibility=hidden -Wall -W -pedantic -Wc90-c99-compat -Wno-long-long -Wno-stringop-truncation -Wno-shift-negative-value -Werror=implicit -Werror=missing-braces -Werror=return-type -Werror=trigraphs -Werror=pointer-arith -Werror=strict-prototypes -Werror=missing-prototypes -Werror=missing-declarations -Werror=comment -Werror=vla -DHAVE_CONFIG_H -I. -I. -I./include -I./include -I./x86 -I./x86 -I./asm -I./asm -I./disasm -I./disasm -I./output -I./output -o asm/rdstrnum.o asm/rdstrnum.c\n",
            "gcc -c  -g -O2 -std=c17 -fwrapv -U__STRICT_ANSI__ -fno-common -Werror=attributes -ffunction-sections -fdata-sections -fvisibility=hidden -Wall -W -pedantic -Wc90-c99-compat -Wno-long-long -Wno-stringop-truncation -Wno-shift-negative-value -Werror=implicit -Werror=missing-braces -Werror=return-type -Werror=trigraphs -Werror=pointer-arith -Werror=strict-prototypes -Werror=missing-prototypes -Werror=missing-declarations -Werror=comment -Werror=vla -DHAVE_CONFIG_H -I. -I. -I./include -I./include -I./x86 -I./x86 -I./asm -I./asm -I./disasm -I./disasm -I./output -I./output -o asm/srcfile.o asm/srcfile.c\n",
            "gcc -c  -g -O2 -std=c17 -fwrapv -U__STRICT_ANSI__ -fno-common -Werror=attributes -ffunction-sections -fdata-sections -fvisibility=hidden -Wall -W -pedantic -Wc90-c99-compat -Wno-long-long -Wno-stringop-truncation -Wno-shift-negative-value -Werror=implicit -Werror=missing-braces -Werror=return-type -Werror=trigraphs -Werror=pointer-arith -Werror=strict-prototypes -Werror=missing-prototypes -Werror=missing-declarations -Werror=comment -Werror=vla -DHAVE_CONFIG_H -I. -I. -I./include -I./include -I./x86 -I./x86 -I./asm -I./asm -I./disasm -I./disasm -I./output -I./output -o macros/macros.o macros/macros.c\n",
            "gcc -c  -g -O2 -std=c17 -fwrapv -U__STRICT_ANSI__ -fno-common -Werror=attributes -ffunction-sections -fdata-sections -fvisibility=hidden -Wall -W -pedantic -Wc90-c99-compat -Wno-long-long -Wno-stringop-truncation -Wno-shift-negative-value -Werror=implicit -Werror=missing-braces -Werror=return-type -Werror=trigraphs -Werror=pointer-arith -Werror=strict-prototypes -Werror=missing-prototypes -Werror=missing-declarations -Werror=comment -Werror=vla -DHAVE_CONFIG_H -I. -I. -I./include -I./include -I./x86 -I./x86 -I./asm -I./asm -I./disasm -I./disasm -I./output -I./output -o output/outform.o output/outform.c\n",
            "gcc -c  -g -O2 -std=c17 -fwrapv -U__STRICT_ANSI__ -fno-common -Werror=attributes -ffunction-sections -fdata-sections -fvisibility=hidden -Wall -W -pedantic -Wc90-c99-compat -Wno-long-long -Wno-stringop-truncation -Wno-shift-negative-value -Werror=implicit -Werror=missing-braces -Werror=return-type -Werror=trigraphs -Werror=pointer-arith -Werror=strict-prototypes -Werror=missing-prototypes -Werror=missing-declarations -Werror=comment -Werror=vla -DHAVE_CONFIG_H -I. -I. -I./include -I./include -I./x86 -I./x86 -I./asm -I./asm -I./disasm -I./disasm -I./output -I./output -o output/outlib.o output/outlib.c\n",
            "gcc -c  -g -O2 -std=c17 -fwrapv -U__STRICT_ANSI__ -fno-common -Werror=attributes -ffunction-sections -fdata-sections -fvisibility=hidden -Wall -W -pedantic -Wc90-c99-compat -Wno-long-long -Wno-stringop-truncation -Wno-shift-negative-value -Werror=implicit -Werror=missing-braces -Werror=return-type -Werror=trigraphs -Werror=pointer-arith -Werror=strict-prototypes -Werror=missing-prototypes -Werror=missing-declarations -Werror=comment -Werror=vla -DHAVE_CONFIG_H -I. -I. -I./include -I./include -I./x86 -I./x86 -I./asm -I./asm -I./disasm -I./disasm -I./output -I./output -o output/legacy.o output/legacy.c\n",
            "gcc -c  -g -O2 -std=c17 -fwrapv -U__STRICT_ANSI__ -fno-common -Werror=attributes -ffunction-sections -fdata-sections -fvisibility=hidden -Wall -W -pedantic -Wc90-c99-compat -Wno-long-long -Wno-stringop-truncation -Wno-shift-negative-value -Werror=implicit -Werror=missing-braces -Werror=return-type -Werror=trigraphs -Werror=pointer-arith -Werror=strict-prototypes -Werror=missing-prototypes -Werror=missing-declarations -Werror=comment -Werror=vla -DHAVE_CONFIG_H -I. -I. -I./include -I./include -I./x86 -I./x86 -I./asm -I./asm -I./disasm -I./disasm -I./output -I./output -o output/nulldbg.o output/nulldbg.c\n",
            "gcc -c  -g -O2 -std=c17 -fwrapv -U__STRICT_ANSI__ -fno-common -Werror=attributes -ffunction-sections -fdata-sections -fvisibility=hidden -Wall -W -pedantic -Wc90-c99-compat -Wno-long-long -Wno-stringop-truncation -Wno-shift-negative-value -Werror=implicit -Werror=missing-braces -Werror=return-type -Werror=trigraphs -Werror=pointer-arith -Werror=strict-prototypes -Werror=missing-prototypes -Werror=missing-declarations -Werror=comment -Werror=vla -DHAVE_CONFIG_H -I. -I. -I./include -I./include -I./x86 -I./x86 -I./asm -I./asm -I./disasm -I./disasm -I./output -I./output -o output/nullout.o output/nullout.c\n",
            "gcc -c  -g -O2 -std=c17 -fwrapv -U__STRICT_ANSI__ -fno-common -Werror=attributes -ffunction-sections -fdata-sections -fvisibility=hidden -Wall -W -pedantic -Wc90-c99-compat -Wno-long-long -Wno-stringop-truncation -Wno-shift-negative-value -Werror=implicit -Werror=missing-braces -Werror=return-type -Werror=trigraphs -Werror=pointer-arith -Werror=strict-prototypes -Werror=missing-prototypes -Werror=missing-declarations -Werror=comment -Werror=vla -DHAVE_CONFIG_H -I. -I. -I./include -I./include -I./x86 -I./x86 -I./asm -I./asm -I./disasm -I./disasm -I./output -I./output -o output/outbin.o output/outbin.c\n",
            "gcc -c  -g -O2 -std=c17 -fwrapv -U__STRICT_ANSI__ -fno-common -Werror=attributes -ffunction-sections -fdata-sections -fvisibility=hidden -Wall -W -pedantic -Wc90-c99-compat -Wno-long-long -Wno-stringop-truncation -Wno-shift-negative-value -Werror=implicit -Werror=missing-braces -Werror=return-type -Werror=trigraphs -Werror=pointer-arith -Werror=strict-prototypes -Werror=missing-prototypes -Werror=missing-declarations -Werror=comment -Werror=vla -DHAVE_CONFIG_H -I. -I. -I./include -I./include -I./x86 -I./x86 -I./asm -I./asm -I./disasm -I./disasm -I./output -I./output -o output/outaout.o output/outaout.c\n",
            "gcc -c  -g -O2 -std=c17 -fwrapv -U__STRICT_ANSI__ -fno-common -Werror=attributes -ffunction-sections -fdata-sections -fvisibility=hidden -Wall -W -pedantic -Wc90-c99-compat -Wno-long-long -Wno-stringop-truncation -Wno-shift-negative-value -Werror=implicit -Werror=missing-braces -Werror=return-type -Werror=trigraphs -Werror=pointer-arith -Werror=strict-prototypes -Werror=missing-prototypes -Werror=missing-declarations -Werror=comment -Werror=vla -DHAVE_CONFIG_H -I. -I. -I./include -I./include -I./x86 -I./x86 -I./asm -I./asm -I./disasm -I./disasm -I./output -I./output -o output/outcoff.o output/outcoff.c\n",
            "gcc -c  -g -O2 -std=c17 -fwrapv -U__STRICT_ANSI__ -fno-common -Werror=attributes -ffunction-sections -fdata-sections -fvisibility=hidden -Wall -W -pedantic -Wc90-c99-compat -Wno-long-long -Wno-stringop-truncation -Wno-shift-negative-value -Werror=implicit -Werror=missing-braces -Werror=return-type -Werror=trigraphs -Werror=pointer-arith -Werror=strict-prototypes -Werror=missing-prototypes -Werror=missing-declarations -Werror=comment -Werror=vla -DHAVE_CONFIG_H -I. -I. -I./include -I./include -I./x86 -I./x86 -I./asm -I./asm -I./disasm -I./disasm -I./output -I./output -o output/outelf.o output/outelf.c\n",
            "gcc -c  -g -O2 -std=c17 -fwrapv -U__STRICT_ANSI__ -fno-common -Werror=attributes -ffunction-sections -fdata-sections -fvisibility=hidden -Wall -W -pedantic -Wc90-c99-compat -Wno-long-long -Wno-stringop-truncation -Wno-shift-negative-value -Werror=implicit -Werror=missing-braces -Werror=return-type -Werror=trigraphs -Werror=pointer-arith -Werror=strict-prototypes -Werror=missing-prototypes -Werror=missing-declarations -Werror=comment -Werror=vla -DHAVE_CONFIG_H -I. -I. -I./include -I./include -I./x86 -I./x86 -I./asm -I./asm -I./disasm -I./disasm -I./output -I./output -o output/outobj.o output/outobj.c\n",
            "gcc -c  -g -O2 -std=c17 -fwrapv -U__STRICT_ANSI__ -fno-common -Werror=attributes -ffunction-sections -fdata-sections -fvisibility=hidden -Wall -W -pedantic -Wc90-c99-compat -Wno-long-long -Wno-stringop-truncation -Wno-shift-negative-value -Werror=implicit -Werror=missing-braces -Werror=return-type -Werror=trigraphs -Werror=pointer-arith -Werror=strict-prototypes -Werror=missing-prototypes -Werror=missing-declarations -Werror=comment -Werror=vla -DHAVE_CONFIG_H -I. -I. -I./include -I./include -I./x86 -I./x86 -I./asm -I./asm -I./disasm -I./disasm -I./output -I./output -o output/outas86.o output/outas86.c\n",
            "gcc -c  -g -O2 -std=c17 -fwrapv -U__STRICT_ANSI__ -fno-common -Werror=attributes -ffunction-sections -fdata-sections -fvisibility=hidden -Wall -W -pedantic -Wc90-c99-compat -Wno-long-long -Wno-stringop-truncation -Wno-shift-negative-value -Werror=implicit -Werror=missing-braces -Werror=return-type -Werror=trigraphs -Werror=pointer-arith -Werror=strict-prototypes -Werror=missing-prototypes -Werror=missing-declarations -Werror=comment -Werror=vla -DHAVE_CONFIG_H -I. -I. -I./include -I./include -I./x86 -I./x86 -I./asm -I./asm -I./disasm -I./disasm -I./output -I./output -o output/outdbg.o output/outdbg.c\n",
            "gcc -c  -g -O2 -std=c17 -fwrapv -U__STRICT_ANSI__ -fno-common -Werror=attributes -ffunction-sections -fdata-sections -fvisibility=hidden -Wall -W -pedantic -Wc90-c99-compat -Wno-long-long -Wno-stringop-truncation -Wno-shift-negative-value -Werror=implicit -Werror=missing-braces -Werror=return-type -Werror=trigraphs -Werror=pointer-arith -Werror=strict-prototypes -Werror=missing-prototypes -Werror=missing-declarations -Werror=comment -Werror=vla -DHAVE_CONFIG_H -I. -I. -I./include -I./include -I./x86 -I./x86 -I./asm -I./asm -I./disasm -I./disasm -I./output -I./output -o output/outieee.o output/outieee.c\n",
            "gcc -c  -g -O2 -std=c17 -fwrapv -U__STRICT_ANSI__ -fno-common -Werror=attributes -ffunction-sections -fdata-sections -fvisibility=hidden -Wall -W -pedantic -Wc90-c99-compat -Wno-long-long -Wno-stringop-truncation -Wno-shift-negative-value -Werror=implicit -Werror=missing-braces -Werror=return-type -Werror=trigraphs -Werror=pointer-arith -Werror=strict-prototypes -Werror=missing-prototypes -Werror=missing-declarations -Werror=comment -Werror=vla -DHAVE_CONFIG_H -I. -I. -I./include -I./include -I./x86 -I./x86 -I./asm -I./asm -I./disasm -I./disasm -I./output -I./output -o output/outmacho.o output/outmacho.c\n",
            "gcc -c  -g -O2 -std=c17 -fwrapv -U__STRICT_ANSI__ -fno-common -Werror=attributes -ffunction-sections -fdata-sections -fvisibility=hidden -Wall -W -pedantic -Wc90-c99-compat -Wno-long-long -Wno-stringop-truncation -Wno-shift-negative-value -Werror=implicit -Werror=missing-braces -Werror=return-type -Werror=trigraphs -Werror=pointer-arith -Werror=strict-prototypes -Werror=missing-prototypes -Werror=missing-declarations -Werror=comment -Werror=vla -DHAVE_CONFIG_H -I. -I. -I./include -I./include -I./x86 -I./x86 -I./asm -I./asm -I./disasm -I./disasm -I./output -I./output -o output/codeview.o output/codeview.c\n",
            "gcc -c  -g -O2 -std=c17 -fwrapv -U__STRICT_ANSI__ -fno-common -Werror=attributes -ffunction-sections -fdata-sections -fvisibility=hidden -Wall -W -pedantic -Wc90-c99-compat -Wno-long-long -Wno-stringop-truncation -Wno-shift-negative-value -Werror=implicit -Werror=missing-braces -Werror=return-type -Werror=trigraphs -Werror=pointer-arith -Werror=strict-prototypes -Werror=missing-prototypes -Werror=missing-declarations -Werror=comment -Werror=vla -DHAVE_CONFIG_H -I. -I. -I./include -I./include -I./x86 -I./x86 -I./asm -I./asm -I./disasm -I./disasm -I./output -I./output -o disasm/disasm.o disasm/disasm.c\n",
            "gcc -c  -g -O2 -std=c17 -fwrapv -U__STRICT_ANSI__ -fno-common -Werror=attributes -ffunction-sections -fdata-sections -fvisibility=hidden -Wall -W -pedantic -Wc90-c99-compat -Wno-long-long -Wno-stringop-truncation -Wno-shift-negative-value -Werror=implicit -Werror=missing-braces -Werror=return-type -Werror=trigraphs -Werror=pointer-arith -Werror=strict-prototypes -Werror=missing-prototypes -Werror=missing-declarations -Werror=comment -Werror=vla -DHAVE_CONFIG_H -I. -I. -I./include -I./include -I./x86 -I./x86 -I./asm -I./asm -I./disasm -I./disasm -I./output -I./output -o disasm/sync.o disasm/sync.c\n",
            "gcc -c  -g -O2 -std=c17 -fwrapv -U__STRICT_ANSI__ -fno-common -Werror=attributes -ffunction-sections -fdata-sections -fvisibility=hidden -Wall -W -pedantic -Wc90-c99-compat -Wno-long-long -Wno-stringop-truncation -Wno-shift-negative-value -Werror=implicit -Werror=missing-braces -Werror=return-type -Werror=trigraphs -Werror=pointer-arith -Werror=strict-prototypes -Werror=missing-prototypes -Werror=missing-declarations -Werror=comment -Werror=vla -DHAVE_CONFIG_H -I. -I. -I./include -I./include -I./x86 -I./x86 -I./asm -I./asm -I./disasm -I./disasm -I./output -I./output -o asm/warnings.o asm/warnings.c\n",
            "rm -f libnasm.a\n",
            "ar cq libnasm.a stdlib/snprintf.o stdlib/vsnprintf.o stdlib/strlcpy.o stdlib/strnlen.o stdlib/strrchrnul.o nasmlib/ver.o nasmlib/alloc.o nasmlib/asprintf.o nasmlib/errfile.o nasmlib/crc32.o nasmlib/crc64.o nasmlib/md5c.o nasmlib/string.o nasmlib/nctype.o nasmlib/file.o nasmlib/mmap.o nasmlib/ilog2.o nasmlib/realpath.o nasmlib/path.o nasmlib/filename.o nasmlib/rlimit.o nasmlib/zerobuf.o nasmlib/readnum.o nasmlib/bsi.o nasmlib/rbtree.o nasmlib/hashtbl.o nasmlib/raa.o nasmlib/saa.o nasmlib/strlist.o nasmlib/perfhash.o nasmlib/badenum.o common/common.o x86/insnsa.o x86/insnsb.o x86/insnsd.o x86/insnsn.o x86/regs.o x86/regvals.o x86/regflags.o x86/regdis.o x86/disp8.o x86/iflag.o asm/error.o asm/floats.o asm/directiv.o asm/directbl.o asm/pragma.o asm/assemble.o asm/labels.o asm/parser.o asm/preproc.o asm/quote.o asm/pptok.o asm/listing.o asm/eval.o asm/exprlib.o asm/exprdump.o asm/stdscan.o asm/strfunc.o asm/tokhash.o asm/segalloc.o asm/rdstrnum.o asm/srcfile.o macros/macros.o output/outform.o output/outlib.o output/legacy.o output/nulldbg.o output/nullout.o output/outbin.o output/outaout.o output/outcoff.o output/outelf.o output/outobj.o output/outas86.o output/outdbg.o output/outieee.o output/outmacho.o output/codeview.o disasm/disasm.o disasm/sync.o asm/warnings.o\n",
            "ranlib libnasm.a\n",
            "gcc  -g -O2 -std=c17 -fwrapv -U__STRICT_ANSI__ -fno-common -Werror=attributes -ffunction-sections -fdata-sections -fvisibility=hidden -Wall -W -pedantic -Wc90-c99-compat -Wno-long-long -Wno-stringop-truncation -Wno-shift-negative-value -Werror=implicit -Werror=missing-braces -Werror=return-type -Werror=trigraphs -Werror=pointer-arith -Werror=strict-prototypes -Werror=missing-prototypes -Werror=missing-declarations -Werror=comment -Werror=vla -DHAVE_CONFIG_H -I. -I. -I./include -I./include -I./x86 -I./x86 -I./asm -I./asm -I./disasm -I./disasm -I./output -I./output -Wl,--gc-sections -o nasm asm/nasm.o libnasm.a \n",
            "gcc -c  -g -O2 -std=c17 -fwrapv -U__STRICT_ANSI__ -fno-common -Werror=attributes -ffunction-sections -fdata-sections -fvisibility=hidden -Wall -W -pedantic -Wc90-c99-compat -Wno-long-long -Wno-stringop-truncation -Wno-shift-negative-value -Werror=implicit -Werror=missing-braces -Werror=return-type -Werror=trigraphs -Werror=pointer-arith -Werror=strict-prototypes -Werror=missing-prototypes -Werror=missing-declarations -Werror=comment -Werror=vla -DHAVE_CONFIG_H -I. -I. -I./include -I./include -I./x86 -I./x86 -I./asm -I./asm -I./disasm -I./disasm -I./output -I./output -o disasm/ndisasm.o disasm/ndisasm.c\n",
            "gcc  -g -O2 -std=c17 -fwrapv -U__STRICT_ANSI__ -fno-common -Werror=attributes -ffunction-sections -fdata-sections -fvisibility=hidden -Wall -W -pedantic -Wc90-c99-compat -Wno-long-long -Wno-stringop-truncation -Wno-shift-negative-value -Werror=implicit -Werror=missing-braces -Werror=return-type -Werror=trigraphs -Werror=pointer-arith -Werror=strict-prototypes -Werror=missing-prototypes -Werror=missing-declarations -Werror=comment -Werror=vla -DHAVE_CONFIG_H -I. -I. -I./include -I./include -I./x86 -I./x86 -I./asm -I./asm -I./disasm -I./disasm -I./output -I./output -Wl,--gc-sections -o ndisasm disasm/ndisasm.o libnasm.a \n",
            "make[1]: Leaving directory '/content/nasm-2.16'\n"
          ]
        }
      ]
    },
    {
      "cell_type": "code",
      "source": [
        "!cd nasm-2.16 && make install"
      ],
      "metadata": {
        "colab": {
          "base_uri": "https://localhost:8080/"
        },
        "id": "4cBeaHbY6F8n",
        "outputId": "b548b6aa-d77c-4791-9e1a-f47d9a21629c"
      },
      "execution_count": null,
      "outputs": [
        {
          "output_type": "stream",
          "name": "stdout",
          "text": [
            "/usr/bin/mkdir -p /usr/local/bin\n",
            "/usr/bin/install -c nasm ndisasm /usr/local/bin/\n",
            "/usr/bin/mkdir -p /usr/local/share/man/man1\n",
            "/usr/bin/install -c -m 644 ./nasm.1 /usr/local/share/man/man1/nasm.1\n",
            "/usr/bin/install -c -m 644 ./ndisasm.1 /usr/local/share/man/man1/ndisasm.1\n"
          ]
        }
      ]
    },
    {
      "cell_type": "code",
      "source": [
        "!nasm -v"
      ],
      "metadata": {
        "colab": {
          "base_uri": "https://localhost:8080/"
        },
        "id": "ReFzAETS7Nlm",
        "outputId": "17300127-1332-4c1b-c6d7-a1b0b947ec4a"
      },
      "execution_count": null,
      "outputs": [
        {
          "output_type": "stream",
          "name": "stdout",
          "text": [
            "NASM version 2.16 compiled on Mar 27 2024\n"
          ]
        }
      ]
    },
    {
      "cell_type": "markdown",
      "source": [
        "In NASM, anything following a semicolon (;) is considered a comment.  This top part of our file is just some basic information for humans that are looking at the file.  The next line that follows however exports our _start label so the compiler will make it visible to the linker to use as an entry point."
      ],
      "metadata": {
        "id": "39VY_rmtBqCv"
      }
    },
    {
      "cell_type": "markdown",
      "source": [
        "In the data section, we will create two of them.  The first one is “msg”.  The “msg:” part is actually creating this as a label.  A label provides a means for us to access an offset with a friendly name, and the compiler will actually implement the real offsets at compile time.  To create a label you place a string, which is the label’s name at the start of a line, followed by a colon (:).  This can be seen with the “len” and “_start” labels in the complete code listing.  After declaring the label, we use the “db” keyword which means “declare bytes”.  This let’s NASM know that what follows isn’t instructions, but rather a collection of specified bytes.  In our case we are providing the ASCII string “Hello, World!” and a newline byte (0xa)."
      ],
      "metadata": {
        "id": "ykqDV5BiCIC6"
      }
    },
    {
      "cell_type": "markdown",
      "source": [
        "The second variable we declare in the .data section is “len”.  Take notice that it FOLLOWS the msg variable.  This is important because this line is performing an offset calculation to determine the size by taking the label len offset and subtracting the msg label offset.  This would effectively give to the size of the data between the two labels."
      ],
      "metadata": {
        "id": "8grTPJkhCYMx"
      }
    },
    {
      "cell_type": "markdown",
      "source": [
        "the .text section is where you would place the executable instruction code for the program."
      ],
      "metadata": {
        "id": "LBAO1LAkCwG4"
      }
    },
    {
      "cell_type": "code",
      "source": [
        "%%file hello_world_nasm.asm\n",
        "global _start     ; global is used to export the _start label.\n",
        "                  ; This will be the entry point to the program.\n",
        "section .data     ; The data segment of our program.\n",
        "   msg: db \"Hello, World!\",0xa\n",
        "   len: equ $-msg ; \"len\" will calculate the current\n",
        "                  ; offset minus the \"msg\" offset. give us the size of \"msg\".\n",
        "\n",
        "section .text\n",
        "_start:           ; we need to declare that _start label we exported as the first line of code.\n",
        "   ;######################################\n",
        "   ; syscall - write(1, msg, len);\n",
        "   ;######################################\n",
        "   mov eax, 4     ; 4 = Syscall number for Write()\n",
        "   mov ebx, 1     ; File Descriptor to write to, stdout is 1\n",
        "   mov ecx, msg   ; String to write. A pointer to the variable 'msg'\n",
        "   mov edx, len   ; The length of string to print 14 characters\n",
        "   int 0x80       ; Poke the kernel and tell it to run the write() call we set up\n",
        "   ;######################################\n",
        "   ; syscall - exit(0);\n",
        "   ;######################################\n",
        "   mov al, 1      ; Syscall for Exit()\n",
        "   mov ebx, 0     ; The status code we want to provide.\n",
        "   int 0x80       ; Poke kernel. This will end the program"
      ],
      "metadata": {
        "colab": {
          "base_uri": "https://localhost:8080/"
        },
        "id": "TY_2Bajz7X1h",
        "outputId": "de9c6276-4411-42ce-9bc2-ddb4c419ad7a"
      },
      "execution_count": null,
      "outputs": [
        {
          "output_type": "stream",
          "name": "stdout",
          "text": [
            "Writing hello_world_nasm.asm\n"
          ]
        }
      ]
    },
    {
      "cell_type": "markdown",
      "source": [
        "we found the syscall number on 32-bit x86 Linux for the write syscall was 4.  We use a MOV instruction (short for move) to load the immediate value of 4 into the register EAX, which needs to contain the syscall number we are looking to run.  The syntax for the move instruction in NASM is “MOV <destination>, <source>”.  This is one of the areas where GAS and NASM differ.  In GAS, the source and destination parameters would be flipped."
      ],
      "metadata": {
        "id": "V93UawNPDlXn"
      }
    },
    {
      "cell_type": "markdown",
      "source": [
        "The next 3 instructions are to set parameters for the write syscalls.  The register EBX needs to contain the file descriptor integer that we want to write to, ECX needs to contain a pointer to the data buffer we want to write to the file descriptor, and EDX needs to contain the number of bytes from the data buffer we want to write out to the file descriptor.  It’s pretty straightforward using MOV instructions to do this."
      ],
      "metadata": {
        "id": "njYv_m3uDvV4"
      }
    },
    {
      "cell_type": "markdown",
      "source": [
        "Finally, now that the syscall for write is set in EAX and the parameters for the write syscall are also set up, we invoke the INT 0x80 instruction.  This will let the system know that we need it to execute a syscall for us and it will use the values we set up in the registers to do so.  Once the OS runs the syscall, the “Hello World!\\n” message should be written to the console on STDOUT"
      ],
      "metadata": {
        "id": "dhT11iYwD3U5"
      }
    },
    {
      "cell_type": "markdown",
      "source": [
        "Since the write would have put the number of bytes written by the write syscall, it should only be a single byte since it was a small message.  This would mean AL should be able to load the exit syscall of 1 into EAX just fine, 1 is only 2 bytes"
      ],
      "metadata": {
        "id": "CTWPLUp-EY8j"
      }
    },
    {
      "cell_type": "code",
      "source": [
        "!nasm -f elf hello_world_nasm.asm"
      ],
      "metadata": {
        "id": "fKOEIY6A7sH7"
      },
      "execution_count": null,
      "outputs": []
    },
    {
      "cell_type": "code",
      "source": [
        "!ld -m elf_i386 hello_world_nasm.o -o hello_world_nasm"
      ],
      "metadata": {
        "id": "vkbu3ApB7vJB"
      },
      "execution_count": null,
      "outputs": []
    },
    {
      "cell_type": "code",
      "source": [
        "!./hello_world_nasm"
      ],
      "metadata": {
        "colab": {
          "base_uri": "https://localhost:8080/"
        },
        "id": "5QpP8dUn7yny",
        "outputId": "7c813d3b-9622-432c-8fbb-6e546c5835e5"
      },
      "execution_count": null,
      "outputs": [
        {
          "output_type": "stream",
          "name": "stdout",
          "text": [
            "Hello, World!\n"
          ]
        }
      ]
    },
    {
      "cell_type": "code",
      "source": [
        "!objdump -D hello_world_nasm"
      ],
      "metadata": {
        "colab": {
          "base_uri": "https://localhost:8080/"
        },
        "id": "ao8yUTQzGQlQ",
        "outputId": "7f532c9e-f376-4deb-9e89-8e026a97dd26"
      },
      "execution_count": null,
      "outputs": [
        {
          "output_type": "stream",
          "name": "stdout",
          "text": [
            "\n",
            "hello_world_nasm:     file format elf32-i386\n",
            "\n",
            "\n",
            "Disassembly of section .text:\n",
            "\n",
            "08049000 <_start>:\n",
            " 8049000:\tb8 04 00 00 00       \tmov    $0x4,%eax\n",
            " 8049005:\tbb 01 00 00 00       \tmov    $0x1,%ebx\n",
            " 804900a:\tb9 00 a0 04 08       \tmov    $0x804a000,%ecx\n",
            " 804900f:\tba 0e 00 00 00       \tmov    $0xe,%edx\n",
            " 8049014:\tcd 80                \tint    $0x80\n",
            " 8049016:\tb0 01                \tmov    $0x1,%al\n",
            " 8049018:\tbb 00 00 00 00       \tmov    $0x0,%ebx\n",
            " 804901d:\tcd 80                \tint    $0x80\n",
            "\n",
            "Disassembly of section .data:\n",
            "\n",
            "0804a000 <msg>:\n",
            " 804a000:\t48                   \tdec    %eax\n",
            " 804a001:\t65 6c                \tgs insb (%dx),%es:(%edi)\n",
            " 804a003:\t6c                   \tinsb   (%dx),%es:(%edi)\n",
            " 804a004:\t6f                   \toutsl  %ds:(%esi),(%dx)\n",
            " 804a005:\t2c 20                \tsub    $0x20,%al\n",
            " 804a007:\t57                   \tpush   %edi\n",
            " 804a008:\t6f                   \toutsl  %ds:(%esi),(%dx)\n",
            " 804a009:\t72 6c                \tjb     804a077 <_end+0x67>\n",
            " 804a00b:\t64 21 0a             \tand    %ecx,%fs:(%edx)\n"
          ]
        }
      ]
    },
    {
      "cell_type": "markdown",
      "source": [
        "object dump is using a different syntax for display, that’s closer to what GAS would use.  the parameters appear to be flipped from dst-src to src-dst."
      ],
      "metadata": {
        "id": "B8H8xDV9GhOR"
      }
    },
    {
      "cell_type": "markdown",
      "source": [
        "This NASM code works ONLY on 32-bit X86 CPUs\n",
        "This won’t work on a ARM-based Raspberry Pi without an emulator\n",
        "The C code example is more portable than the ASM code, because GCC will work just fine with compiling our C code on other CPU architectures"
      ],
      "metadata": {
        "id": "RTEIXekbU0GY"
      }
    },
    {
      "cell_type": "markdown",
      "source": [
        "## GCC Inline ASM"
      ],
      "metadata": {
        "id": "_jJwqU2LZk33"
      }
    },
    {
      "cell_type": "markdown",
      "source": [
        "Inline assembly (typically introduced by the asm keyword) gives the ability to embed assembly language source code within a C program.\n",
        "\n",
        "Unlike in C++, inline assembly is treated as an extension in C. It is conditionally supported and implementation defined, meaning that it may not be present and, even when provided by the implementation, it does not have a fixed meaning."
      ],
      "metadata": {
        "id": "I22E9Oktb2EE"
      }
    },
    {
      "cell_type": "markdown",
      "source": [
        "The format of basic inline assembly is very much straight forward. Its basic form is\n",
        "\n",
        "asm(\"assembly code\");\n",
        "\n",
        "Example.\n",
        "\n",
        "asm(\"movl %ecx %eax\"); /* moves the contents of ecx to eax */\n",
        "__asm__(\"movb %bh (%eax)\"); /*moves the byte from bh to the memory pointed by eax */\n"
      ],
      "metadata": {
        "id": "1ImtvzJGcUTS"
      }
    },
    {
      "cell_type": "markdown",
      "source": [
        "__asm__(\"<asm routine>\" : output : input : modify);"
      ],
      "metadata": {
        "id": "NnqTI3NdZl70"
      }
    },
    {
      "cell_type": "markdown",
      "source": [
        "__asm__(\"test\t%%eax,%%eax\", : /* no output */ : \"a\"(foo));"
      ],
      "metadata": {
        "id": "IrPlD8dqZ3_V"
      }
    },
    {
      "cell_type": "markdown",
      "source": [
        "You can also use the keyword __volatile__ after __asm__: \"You can prevent an `asm' instruction from being deleted, moved significantly, or combined, by writing the keyword `volatile' after the `asm'.\""
      ],
      "metadata": {
        "id": "rH0_hjT8Z7np"
      }
    },
    {
      "cell_type": "markdown",
      "source": [
        "This program will only work correctly on x86-64 platform under Linux. Note that the \"standard inline assembly\" is also treated as an extension in the C standard."
      ],
      "metadata": {
        "id": "7de6LcCCbqZj"
      }
    },
    {
      "cell_type": "code",
      "source": [
        "%%file inline.c\n",
        "#include <stdio.h>\n",
        "\n",
        "int main(void)\n",
        "{\n",
        "    int n = 7;\n",
        "    // gcc's extended inline assembly, LEA (load effective address)\n",
        "    __asm__ (\"leal (%0,%0,4),%0\"\n",
        "           : \"=r\" (n)\n",
        "           : \"0\" (n));\n",
        "    printf(\"7*5 = %d\\n\", n);\n",
        "    fflush(stdout); // flush is intentional\n",
        "}"
      ],
      "metadata": {
        "colab": {
          "base_uri": "https://localhost:8080/"
        },
        "id": "GH17jKZ6hiCe",
        "outputId": "5e8c2ddd-62de-4a57-e9e2-48b7ffa4d16d"
      },
      "execution_count": null,
      "outputs": [
        {
          "output_type": "stream",
          "name": "stdout",
          "text": [
            "Writing inline.c\n"
          ]
        }
      ]
    },
    {
      "cell_type": "code",
      "source": [
        "!gcc -o inline inline.c"
      ],
      "metadata": {
        "id": "gt5wN3a3iMaN"
      },
      "execution_count": null,
      "outputs": []
    },
    {
      "cell_type": "code",
      "source": [
        "!./inline"
      ],
      "metadata": {
        "colab": {
          "base_uri": "https://localhost:8080/"
        },
        "id": "E-S7JX0qiQ6J",
        "outputId": "c9fa9141-0cbc-439a-9eb0-db1862293426"
      },
      "execution_count": null,
      "outputs": [
        {
          "output_type": "stream",
          "name": "stdout",
          "text": [
            "7*5 = 35\n"
          ]
        }
      ]
    },
    {
      "cell_type": "markdown",
      "source": [
        "https://dev.to/serputov/inline-assembly-language-what-is-that-f9c"
      ],
      "metadata": {
        "id": "VLQlDGgeg7mG"
      }
    },
    {
      "cell_type": "code",
      "source": [
        "%%file inline1.c\n",
        "#include <stdio.h>\n",
        "\n",
        "extern int func(void);\n",
        "// the definition of func is written in assembly language\n",
        "__asm__(\".globl func\\n\\t\"\n",
        "        \".type func, @function\\n\\t\"\n",
        "        \"func:\\n\\t\"\n",
        "        \".cfi_startproc\\n\\t\"\n",
        "        \"movl $7, %eax\\n\\t\"\n",
        "        \"ret\\n\\t\"\n",
        "        \".cfi_endproc\");\n",
        "\n",
        "int main(void)\n",
        "{\n",
        "    int n = func();\n",
        "    // gcc's extended inline assembly, LEA (load effective address)\n",
        "    __asm__ (\"leal (%0,%0,4),%0\"\n",
        "           : \"=r\" (n)\n",
        "           : \"0\" (n));\n",
        "    printf(\"7*5 = %d\\n\", n);\n",
        "    fflush(stdout); // flush is intentional\n",
        "\n",
        "    // standard inline assembly in C++\n",
        "    __asm__ (\"movq $60, %rax\\n\\t\" // the exit syscall number on Linux\n",
        "             \"movq $2,  %rdi\\n\\t\" // this program returns 2\n",
        "             \"syscall\");\n",
        "}"
      ],
      "metadata": {
        "colab": {
          "base_uri": "https://localhost:8080/"
        },
        "id": "s2J05EkYZ-bL",
        "outputId": "0d791262-f10e-4322-c48b-0f05cfac6955"
      },
      "execution_count": null,
      "outputs": [
        {
          "output_type": "stream",
          "name": "stdout",
          "text": [
            "Overwriting inline1.c\n"
          ]
        }
      ]
    },
    {
      "cell_type": "markdown",
      "source": [
        "The leal stands for “Load Effective Address” and is used here to do a calculation rather than to actually load an address."
      ],
      "metadata": {
        "id": "T3_89zBXfVt4"
      }
    },
    {
      "cell_type": "markdown",
      "source": [
        "(%0,%0,4) is the source operand, which uses the base-plus-index-plus-displacement addressing mode. Here, %0 is the base, %0 is the index, and 4 is the scale factor."
      ],
      "metadata": {
        "id": "_ZrqkXcffak2"
      }
    },
    {
      "cell_type": "markdown",
      "source": [
        "The operation multiplies the value in %0 by 4 (due to the scale factor) and then adds it to the value in %0 itself, effectively calculating %0 * 5. The result of this calculation is then stored back into %0."
      ],
      "metadata": {
        "id": "54RdrBAKflzQ"
      }
    },
    {
      "cell_type": "markdown",
      "source": [
        "%0 is the destination operand."
      ],
      "metadata": {
        "id": "l03SuRxtfdqN"
      }
    },
    {
      "cell_type": "code",
      "source": [
        "!gcc -o inline1 inline1.c"
      ],
      "metadata": {
        "id": "tTFRwNOoad2_"
      },
      "execution_count": null,
      "outputs": []
    },
    {
      "cell_type": "code",
      "source": [
        "!./inline1"
      ],
      "metadata": {
        "colab": {
          "base_uri": "https://localhost:8080/"
        },
        "id": "h8-Uu2D4fqol",
        "outputId": "000f6eca-50bf-42d1-8983-fe828f7c7358"
      },
      "execution_count": null,
      "outputs": [
        {
          "output_type": "stream",
          "name": "stdout",
          "text": [
            "7*5 = 35\n"
          ]
        }
      ]
    },
    {
      "cell_type": "markdown",
      "source": [
        "registers are now prefixed with \"%%\" rather than '%'. This is necessary when using the output/input/modify fields because register aliases based on the extra fields can also be used."
      ],
      "metadata": {
        "id": "Ok0h1vBTaIjI"
      }
    }
  ]
}