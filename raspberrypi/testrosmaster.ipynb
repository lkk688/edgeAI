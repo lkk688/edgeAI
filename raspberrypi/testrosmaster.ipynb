{
 "cells": [
  {
   "cell_type": "code",
   "execution_count": 26,
   "metadata": {},
   "outputs": [],
   "source": [
    "from Rosmaster_Lib import Rosmaster "
   ]
  },
  {
   "cell_type": "code",
   "execution_count": 27,
   "metadata": {},
   "outputs": [
    {
     "name": "stdout",
     "output_type": "stream",
     "text": [
      "Rosmaster Serial Opened! Baudrate=115200\n",
      "Help on Rosmaster in module Rosmaster_Lib object:\n",
      "\n",
      "class Rosmaster(builtins.object)\n",
      " |  Rosmaster(car_type=1, com='/dev/myserial', delay=0.002, debug=False)\n",
      " |  \n",
      " |  # V3.3.9\n",
      " |  \n",
      " |  Methods defined here:\n",
      " |  \n",
      " |  __del__(self)\n",
      " |  \n",
      " |  __init__(self, car_type=1, com='/dev/myserial', delay=0.002, debug=False)\n",
      " |      Initialize self.  See help(type(self)) for accurate signature.\n",
      " |  \n",
      " |  clear_auto_report_data(self)\n",
      " |      # 清除单片机自动发送过来的缓存数据\n",
      " |      # Clear the cache data automatically sent by the MCU\n",
      " |  \n",
      " |  create_receive_threading(self)\n",
      " |      # 开启接收和处理数据的线程\n",
      " |      # Start the thread that receives and processes data\n",
      " |  \n",
      " |  get_accelerometer_data(self)\n",
      " |      # 获取加速度计三轴数据，返回a_x, a_y, a_z\n",
      " |      # Get accelerometer triaxial data, return a_x, a_y, a_z\n",
      " |  \n",
      " |  get_akm_default_angle(self)\n",
      " |      # 读取阿克曼类型(R2)小车前轮舵机默认角度。\n",
      " |  \n",
      " |  get_battery_voltage(self)\n",
      " |      # 获取电池电压值\n",
      " |      # Get the battery voltage\n",
      " |  \n",
      " |  get_car_type_from_machine(self)\n",
      " |      # 获取当前底层小车类型。\n",
      " |      # Gets the current car type from machine\n",
      " |  \n",
      " |  get_gyroscope_data(self)\n",
      " |      # 获取陀螺仪三轴数据，返回g_x, g_y, g_z\n",
      " |      # Get the gyro triaxial data, return g_x, g_y, g_z\n",
      " |  \n",
      " |  get_imu_attitude_data(self, ToAngle=True)\n",
      " |      # 获取板子姿态角，返回yaw, roll, pitch\n",
      " |      # ToAngle=True返回角度，ToAngle=False返回弧度。\n",
      " |  \n",
      " |  get_magnetometer_data(self)\n",
      " |      # 获取磁力计三轴数据，返回m_x, m_y, m_z\n",
      " |  \n",
      " |  get_motion_data(self)\n",
      " |      # 获取小车速度，val_vx, val_vy, val_vz\n",
      " |      # Get the car speed, val_vx, val_vy, val_vz\n",
      " |  \n",
      " |  get_motion_pid(self)\n",
      " |      # 获取小车的运动PID参数, 返回[kp, ki, kd]\n",
      " |      # Get the motion PID parameters of the dolly and return [kp, ki, kd]\n",
      " |  \n",
      " |  get_motor_encoder(self)\n",
      " |      # 获取四路电机编码器数据\n",
      " |      # Obtain data of four-channel motor encoder\n",
      " |  \n",
      " |  get_uart_servo_angle(self, s_id)\n",
      " |      # 读取总线舵机的角度，s_id表示要读取的舵机的ID号，s_id=[1-6]\n",
      " |      # Read the Angle of the bus steering gear, s_id indicates the ID number of the steering gear to be read, s_id=[1-6]\n",
      " |  \n",
      " |  get_uart_servo_angle_array(self)\n",
      " |      # 一次性读取六个舵机的角度[xx, xx, xx, xx, xx, xx]，如果某个舵机错误则那一位为-1\n",
      " |      # Read the angles of three steering gear [xx, xx, xx, xx, xx, xx] at one time. If one steering gear is wrong, that one is -1\n",
      " |  \n",
      " |  get_uart_servo_value(self, servo_id)\n",
      " |      # 读取总线舵机位置参数, servo_id=[1-250], 返回：读到的ID，当前位置参数\n",
      " |      # Read bus servo position parameters, servo_id=[1-250], return: read ID, current position parameters\n",
      " |  \n",
      " |  get_version(self)\n",
      " |      # 获取底层单片机版本号，如1.1\n",
      " |      # Get the underlying microcontroller version number, such as 1.1\n",
      " |  \n",
      " |  reset_car_state(self)\n",
      " |      # 重置小车状态，包括停车，关灯，关蜂鸣器\n",
      " |      # Reset car status, including parking, lights off, buzzer off\n",
      " |  \n",
      " |  reset_flash_value(self)\n",
      " |      # 重置小车flash保存的数据，恢复出厂默认值。\n",
      " |      # Reset the car flash saved data, restore the factory default value\n",
      " |  \n",
      " |  set_akm_default_angle(self, angle, forever=False)\n",
      " |      # 设置阿克曼类型(R2)小车前轮的默认角度，angle=[60, 120]\n",
      " |      # forever=True永久保存，=False临时作用。\n",
      " |      # 由于永久保存需要写入芯片flash中，操作时间较长，所以加入delay延迟时间，避免导致单片机丢包的问题。\n",
      " |      # 临时作用反应快，单次有效，重启单片后数据不再保持。\n",
      " |      # Set the default Angle of akerman type (R2) car front wheel, Angle =[60, 120]\n",
      " |      # forever=True for permanent, =False for temporary.\n",
      " |      # Since permanent storage needs to be written into the chip flash, which takes a long time to operate, delay is added to avoid packet loss caused by MCU.  \n",
      " |      # Temporary effect fast response, single effective, data will not be maintained after restarting the single chip\n",
      " |  \n",
      " |  set_akm_steering_angle(self, angle, ctrl_car=False)\n",
      " |      # 控制阿克曼类型(R2)小车相对于默认角度的转向角，向左为负数，向右为正数，angle=[-45, 45]\n",
      " |      # ctrl_car=False，只控制舵机角度，=True，控制舵机角度同时修改左右电机的速度。\n",
      " |      # Control the steering Angle of ackman type (R2) car relative to the default Angle, negative for left and positive for right, Angle =[-45, 45]\n",
      " |      # ctrl_car=False, only control the steering gear Angle, =True, control the steering gear Angle and modify the speed of the left and right motors.\n",
      " |  \n",
      " |  set_auto_report_state(self, enable, forever=False)\n",
      " |      # 单片机自动返回数据状态位，默认为开启，如果设置关闭会影响部分读取数据功能。\n",
      " |      # enable=True,底层扩展板会每隔10毫秒发送一包数据，总共四包不同数据，所以每包数据每40毫秒刷新一次。enable=False，则不发送。\n",
      " |      # forever=True永久保存，=False临时作用。\n",
      " |      # The MCU automatically returns the data status bit, which is enabled by default. If the switch is closed, the data reading function will be affected.  \n",
      " |      # enable=True, The underlying expansion board sends four different packets of data every 10 milliseconds, so each packet is refreshed every 40 milliseconds. \n",
      " |      # If enable=False, the report is not sent.  \n",
      " |      # forever=True for permanent, =False for temporary\n",
      " |  \n",
      " |  set_beep(self, on_time)\n",
      " |      # 蜂鸣器开关，on_time=0：关闭，on_time=1：一直响，\n",
      " |      # on_time>=10：响xx毫秒后自动关闭（on_time是10的倍数）。\n",
      " |      # Buzzer switch. On_time =0: the buzzer is off. On_time =1: the buzzer keeps ringing\n",
      " |      # On_time >=10: automatically closes after xx milliseconds (on_time is a multiple of 10)\n",
      " |  \n",
      " |  set_car_motion(self, v_x, v_y, v_z)\n",
      " |      输入范围 input range: \n",
      " |      X3: v_x=[-1.0, 1.0], v_y=[-1.0, 1.0], v_z=[-5, 5]\n",
      " |      X3PLUS: v_x=[-0.7, 0.7], v_y=[-0.7, 0.7], v_z=[-3.2, 3.2]\n",
      " |      R2/R2L: v_x=[-1.8, 1.8], v_y=[-0.045, 0.045], v_z=[-3, 3]\n",
      " |  \n",
      " |  set_car_run(self, state, speed, adjust=False)\n",
      " |      # 控制小车向前、向后、向左、向右等运动。\n",
      " |      # state=[0, 7],=0停止,=1前进,=2后退,=3向左,=4向右,=5左旋,=6右旋,=7停车\n",
      " |      # speed=[-100, 100]，=0停止。\n",
      " |      # adjust=True开启陀螺仪辅助运动方向。=False则不开启。(此功能未开通)\n",
      " |      # Control the car forward, backward, left, right and other movements.\n",
      " |      # State =[0~6],=0 stop,=1 forward,=2 backward,=3 left,=4 right,=5 spin left,=6 spin right\n",
      " |      # Speed =[-100, 100], =0 Stop.\n",
      " |      # Adjust =True Activate the gyroscope auxiliary motion direction.  If =False, the function is disabled.(This function is not enabled)\n",
      " |  \n",
      " |  set_car_type(self, car_type)\n",
      " |      # 设置小车类型\n",
      " |      # Set car Type\n",
      " |  \n",
      " |  set_colorful_effect(self, effect, speed=255, parm=255)\n",
      " |      # RGB可编程灯带特效展示。\n",
      " |      # effect=[0, 6]，0：停止灯效，1：流水灯，2：跑马灯，3：呼吸灯，4：渐变灯，5：星光点点，6：电量显示\n",
      " |      # speed=[1, 10]，数值越小速度变化越快。\n",
      " |      # parm，可不填，作为附加参数。用法1：呼吸灯效果传入[0, 6]可修改呼吸灯颜色。\n",
      " |      # RGB programmable light band special effects display.\n",
      " |      # Effect =[0, 6], 0: stop light effect, 1: running light, 2: running horse light, 3: breathing light, 4: gradient light, 5: starlight, 6: power display \n",
      " |      # Speed =[1, 10], the smaller the value, the faster the speed changes\n",
      " |      # Parm, left blank, as an additional argument.  Usage 1: The color of breathing lamp can be modified by the effect of breathing lamp [0, 6]\n",
      " |  \n",
      " |  set_colorful_lamps(self, led_id, red, green, blue)\n",
      " |      # RGB可编程灯带控制，可单独控制或全体控制，控制前需要先停止RGB灯特效。\n",
      " |      # led_id=[0, 13]，控制对应编号的RGB灯；led_id=0xFF, 控制所有灯。\n",
      " |      # red,green,blue=[0, 255]，表示颜色RGB值。\n",
      " |      # RGB programmable light belt control, can be controlled individually or collectively, before control need to stop THE RGB light effect.\n",
      " |      # Led_id =[0, 13], control the CORRESPONDING numbered RGB lights;  Led_id =0xFF, controls all lights.\n",
      " |      # Red,green,blue=[0, 255], indicating the RGB value of the color.\n",
      " |  \n",
      " |  set_motor(self, speed_1, speed_2, speed_3, speed_4)\n",
      " |      # 控制电机PWM脉冲，从而控制速度（未使用编码器测速）。speed_X=[-100, 100]\n",
      " |      # Control PWM pulse of motor to control speed (speed measurement without encoder). speed_X=[-100, 100]\n",
      " |  \n",
      " |  set_pid_param(self, kp, ki, kd, forever=False)\n",
      " |      # PID 参数控制，会影响set_car_motion函数控制小车的运动速度变化情况。默认情况下可不调整。\n",
      " |      # kp ki kd = [0, 10.00], 可输入小数。\n",
      " |      # forever=True永久保存，=False临时作用。\n",
      " |      # 由于永久保存需要写入芯片flash中，操作时间较长，所以加入delay延迟时间，避免导致单片机丢包的问题。\n",
      " |      # 临时作用反应快，单次有效，重启单片后数据不再保持。\n",
      " |      # PID parameter control will affect the set_CAR_motion function to control the speed change of the car.  This parameter is optional by default.  \n",
      " |      # KP ki kd = [0, 10.00]  \n",
      " |      # forever=True for permanent, =False for temporary.  \n",
      " |      # Since permanent storage needs to be written into the chip flash, which takes a long time to operate, delay is added to avoid packet loss caused by MCU.  \n",
      " |      # Temporary effect fast response, single effective, data will not be maintained after restarting the single chip\n",
      " |  \n",
      " |  set_pwm_servo(self, servo_id, angle)\n",
      " |      # 舵机控制，servo_id：对应ID编号，angle：对应舵机角度值\n",
      " |      # servo_id=[1, 4], angle=[0, 180]\n",
      " |      # Servo control, servo_id: corresponding, Angle: corresponding servo Angle value\n",
      " |  \n",
      " |  set_pwm_servo_all(self, angle_s1, angle_s2, angle_s3, angle_s4)\n",
      " |      # 同时控制四路PWM的角度，angle_sX=[0, 180]\n",
      " |      # At the same time control four PWM Angle, angle_sX=[0, 180]\n",
      " |  \n",
      " |  set_uart_servo(self, servo_id, pulse_value, run_time=500)\n",
      " |      # 控制总线舵机。servo_id:[1-255],表示要控制的舵机的ID号, id=254时, 控制所有已连接舵机。\n",
      " |      # pulse_value=[96,4000]表示舵机要运行到的位置。\n",
      " |      # run_time表示运行的时间(ms),时间越短,舵机转动越快。最小为0，最大为2000\n",
      " |      # Control bus steering gear.  Servo_id :[1-255], indicating the ID of the steering gear to be controlled. If ID =254, control all connected steering gear.  \n",
      " |      # pulse_value=[96,4000] indicates the position to which the steering gear will run.  \n",
      " |      # run_time indicates the running time (ms). The shorter the time, the faster the steering gear rotates.  The minimum value is 0 and the maximum value is 2000\n",
      " |  \n",
      " |  set_uart_servo_angle(self, s_id, s_angle, run_time=500)\n",
      " |      # 设置总线舵机角度接口：s_id:[1,6], s_angle: 1-4:[0, 180], 5:[0, 270], 6:[0, 180], 设置舵机要运动到的角度。\n",
      " |      # run_time表示运行的时间(ms),时间越短,舵机转动越快。最小为0，最大为2000\n",
      " |      # Set bus steering gear Angle interface: s_id:[1,6], s_angle: 1-4:[0, 180], 5:[0, 270], 6:[0, 180], set steering gear to move to the Angle.  \n",
      " |      # run_time indicates the running time (ms). The shorter the time, the faster the steering gear rotates.  The minimum value is 0 and the maximum value is 2000\n",
      " |  \n",
      " |  set_uart_servo_angle_array(self, angle_s=[90, 90, 90, 90, 90, 180], run_time=500)\n",
      " |      # 同时控制机械臂所有舵机的角度。\n",
      " |      # Meanwhile, the Angle of all steering gear of the manipulator is controlled\n",
      " |  \n",
      " |  set_uart_servo_ctrl_enable(self, enable)\n",
      " |      # 设置机械臂控制开关，enable=True正常发送控制协议，=False不发送控制协议\n",
      " |      # Set the control switch of the manipulator. Enable =True Indicates that the control protocol is normally sent; False indicates that the control protocol is not sent\n",
      " |  \n",
      " |  set_uart_servo_id(self, servo_id)\n",
      " |      # 设置总线舵机的ID号(谨慎使用)，servo_id=[1-250]。\n",
      " |      # 运行此函数前请确认只连接一个总线舵机，否则会把所有已连接的总线舵机都设置成同一个ID，造成控制混乱。\n",
      " |      # Set the bus servo ID(Use with caution), servo_id=[1-250].  \n",
      " |      # Before running this function, please confirm that only one bus actuator is connected. Otherwise, all connected bus actuators will be set to the same ID, resulting in confusion of control\n",
      " |  \n",
      " |  set_uart_servo_offset(self, servo_id)\n",
      " |      # 设置机械臂的中位偏差，servo_id=0~6， =0全部恢复出厂默认值\n",
      " |      # Run the following command to set the mid-bit deviation of the manipulator: servo_id=0 to 6, =0 Restore the factory default values\n",
      " |  \n",
      " |  set_uart_servo_torque(self, enable)\n",
      " |      # 关闭/打开总线舵机扭矩力, enable=[0, 1]。\n",
      " |      # enable=0:关闭舵机扭矩力，可以用手转动舵机，但命令无法控制转动；\n",
      " |      # enable=1：打开扭矩力，命令可以控制转动，不可以用手转动舵机。\n",
      " |      # Turn off/on the bus steering gear torque force, enable=[0, 1].  \n",
      " |      # enable=0: Turn off the torque force of the steering gear, the steering gear can be turned by hand, but the command cannot control the rotation;  \n",
      " |      # enable=1: Turn on torque force, command can control rotation, can not turn steering gear by hand\n",
      " |  \n",
      " |  ----------------------------------------------------------------------\n",
      " |  Data descriptors defined here:\n",
      " |  \n",
      " |  __dict__\n",
      " |      dictionary for instance variables (if defined)\n",
      " |  \n",
      " |  __weakref__\n",
      " |      list of weak references to the object (if defined)\n",
      "\n"
     ]
    }
   ],
   "source": [
    "com=\"/dev/ttyUSB0\"\n",
    "#ser = serial.Serial(com, 115200)\n",
    "bot = Rosmaster(car_type=1, com=com)\n",
    "# Help can print all the bot methods and remarks\n",
    "help(bot)"
   ]
  },
  {
   "cell_type": "code",
   "execution_count": 28,
   "metadata": {},
   "outputs": [
    {
     "name": "stdout",
     "output_type": "stream",
     "text": [
      "----------------create receive threading--------------\n"
     ]
    }
   ],
   "source": [
    "# Start to receive data, can only start once, all read data function is based on this method  \n",
    "bot.create_receive_threading()"
   ]
  },
  {
   "cell_type": "code",
   "execution_count": 29,
   "metadata": {},
   "outputs": [
    {
     "name": "stdout",
     "output_type": "stream",
     "text": [
      "3.3\n"
     ]
    }
   ],
   "source": [
    "#Read version number\n",
    "version = bot.get_version()\n",
    "print(version)"
   ]
  },
  {
   "cell_type": "code",
   "execution_count": 30,
   "metadata": {},
   "outputs": [
    {
     "name": "stdout",
     "output_type": "stream",
     "text": [
      "10.6\n"
     ]
    }
   ],
   "source": [
    "#Read the battery voltage\n",
    "voltage = bot.get_battery_voltage()\n",
    "print(voltage)"
   ]
  },
  {
   "cell_type": "code",
   "execution_count": 31,
   "metadata": {},
   "outputs": [],
   "source": [
    "import time\n",
    "# The buzzer automatically beeps for 1000 milliseconds before turning off\n",
    "# Buzzer switch, on_time=0: off, on_time=1: keeps ringing\n",
    "# On_time >=10: automatically closes after xx ms (on_time is a multiple of 10).\n",
    "on_time = 1000\n",
    "bot.set_beep(on_time)\n",
    "time.sleep(1) # exit cell"
   ]
  },
  {
   "cell_type": "code",
   "execution_count": 32,
   "metadata": {},
   "outputs": [],
   "source": [
    "# Buzzer switch, on_time=0: off, on_time=1: keeps ringing\n",
    "# On_time >=10: automatically closes after xx ms (on_time is a multiple of 10).\n",
    "on_time = 1\n",
    "bot.set_beep(on_time)\n",
    "time.sleep(5)\n",
    "\n",
    "on_time = 0\n",
    "bot.set_beep(on_time)\n",
    "time.sleep(1) # 延迟退出cell"
   ]
  },
  {
   "cell_type": "code",
   "execution_count": 33,
   "metadata": {},
   "outputs": [],
   "source": [
    "from ipywidgets import interact #pip install ipywidgets\n",
    "import ipywidgets as widgets"
   ]
  },
  {
   "cell_type": "code",
   "execution_count": 34,
   "metadata": {},
   "outputs": [
    {
     "data": {
      "application/vnd.jupyter.widget-view+json": {
       "model_id": "fe38aa2413fd41059dbc3612e09e97df",
       "version_major": 2,
       "version_minor": 0
      },
      "text/plain": [
       "IntSlider(value=0)"
      ]
     },
     "execution_count": 34,
     "metadata": {},
     "output_type": "execute_result"
    }
   ],
   "source": [
    "widgets.IntSlider()"
   ]
  },
  {
   "cell_type": "code",
   "execution_count": 35,
   "metadata": {},
   "outputs": [
    {
     "data": {
      "application/vnd.jupyter.widget-view+json": {
       "model_id": "f8703aeba8504f508beea43a333b1511",
       "version_major": 2,
       "version_minor": 0
      },
      "text/plain": [
       "IntSlider(value=0)"
      ]
     },
     "metadata": {},
     "output_type": "display_data"
    }
   ],
   "source": [
    "from IPython.display import display\n",
    "w = widgets.IntSlider()\n",
    "display(w)"
   ]
  },
  {
   "cell_type": "markdown",
   "metadata": {},
   "source": [
    "https://ipywidgets.readthedocs.io/en/stable/examples/Using%20Interact.html"
   ]
  },
  {
   "cell_type": "code",
   "execution_count": 36,
   "metadata": {},
   "outputs": [],
   "source": [
    "def f(x):\n",
    "    return x"
   ]
  },
  {
   "cell_type": "code",
   "execution_count": 37,
   "metadata": {},
   "outputs": [
    {
     "data": {
      "application/vnd.jupyter.widget-view+json": {
       "model_id": "92fb46fcdd704a7bb4b25d7bfb6cda07",
       "version_major": 2,
       "version_minor": 0
      },
      "text/plain": [
       "interactive(children=(IntSlider(value=10, description='x', max=30, min=-10), Output()), _dom_classes=('widget-…"
      ]
     },
     "metadata": {},
     "output_type": "display_data"
    }
   ],
   "source": [
    "interact(f, x=10);"
   ]
  },
  {
   "cell_type": "code",
   "execution_count": 6,
   "metadata": {},
   "outputs": [
    {
     "data": {
      "application/vnd.jupyter.widget-view+json": {
       "model_id": "a15cfbf7aa534de9bf200656da71245f",
       "version_major": 2,
       "version_minor": 0
      },
      "text/plain": [
       "interactive(children=(Checkbox(value=True, description='x'), Output()), _dom_classes=('widget-interact',))"
      ]
     },
     "metadata": {},
     "output_type": "display_data"
    }
   ],
   "source": [
    "#If you pass True or False, interact will generate a checkbox:\n",
    "interact(f, x=True);"
   ]
  },
  {
   "cell_type": "code",
   "execution_count": 7,
   "metadata": {},
   "outputs": [
    {
     "data": {
      "application/vnd.jupyter.widget-view+json": {
       "model_id": "3d6c8cc0188442e8a88e6a8b24e1c6b4",
       "version_major": 2,
       "version_minor": 0
      },
      "text/plain": [
       "interactive(children=(Text(value='Hi there!', description='x'), Output()), _dom_classes=('widget-interact',))"
      ]
     },
     "metadata": {},
     "output_type": "display_data"
    }
   ],
   "source": [
    "interact(f, x='Hi there!');"
   ]
  },
  {
   "cell_type": "code",
   "execution_count": 8,
   "metadata": {},
   "outputs": [
    {
     "data": {
      "application/vnd.jupyter.widget-view+json": {
       "model_id": "8ded0a797ff14f6f9600f006d851d47f",
       "version_major": 2,
       "version_minor": 0
      },
      "text/plain": [
       "interactive(children=(Checkbox(value=True, description='x'), FloatSlider(value=1.0, description='y', max=3.0, …"
      ]
     },
     "metadata": {},
     "output_type": "display_data"
    }
   ],
   "source": [
    "@interact(x=True, y=1.0)\n",
    "def g(x, y):\n",
    "    return (x, y)"
   ]
  },
  {
   "cell_type": "markdown",
   "metadata": {},
   "source": [
    "滑块widgets.IntSlider参数解释：\n",
    "min=最小值,max=最大值,step=最小变化量,value=默认值\n",
    "interact将滑块显示出来，并且负责处理滑动产生的事件。\n",
    "\n",
    "Slider widgets.IntSlider parameter  \n",
    "Min = minimum, Max = maximum,step= minimum change,value= default  \n",
    "Interact displays the slider and is responsible for handling the events generated by the slide. "
   ]
  },
  {
   "cell_type": "code",
   "execution_count": 39,
   "metadata": {},
   "outputs": [],
   "source": [
    "bot.set_pwm_servo(4, 180)#( servo_id ,  angle ) "
   ]
  },
  {
   "cell_type": "code",
   "execution_count": 40,
   "metadata": {},
   "outputs": [
    {
     "data": {
      "application/vnd.jupyter.widget-view+json": {
       "model_id": "520033b09b7045c7ac378e1abe6ec8bb",
       "version_major": 2,
       "version_minor": 0
      },
      "text/plain": [
       "interactive(children=(IntSlider(value=90, description='S1', max=180), IntSlider(value=90, description='S2', ma…"
      ]
     },
     "metadata": {},
     "output_type": "display_data"
    }
   ],
   "source": [
    "# 控制PWM舵机 Control PWM steering gear  \n",
    "def pwm_servo(S1, S2, S3, S4):\n",
    "    bot.set_pwm_servo(1, S1)\n",
    "    bot.set_pwm_servo(2, S2)\n",
    "    bot.set_pwm_servo(3, S3)\n",
    "    bot.set_pwm_servo(4, S4)\n",
    "    return S1, S2, S3, S4\n",
    "\n",
    "# 创建四个滑块来控制PWM舵机 Create four sliders to control PWM steering gear\n",
    "interact(pwm_servo, \\\n",
    "         S1=widgets.IntSlider(min=0,max=180,step=1,value=90), \\\n",
    "         S2=widgets.IntSlider(min=0,max=180,step=1,value=90), \\\n",
    "         S3=widgets.IntSlider(min=0,max=180,step=1,value=90), \\\n",
    "         S4=widgets.IntSlider(min=0,max=180,step=1,value=90));"
   ]
  },
  {
   "cell_type": "code",
   "execution_count": 41,
   "metadata": {},
   "outputs": [
    {
     "data": {
      "application/vnd.jupyter.widget-view+json": {
       "model_id": "5e64129a5d414a3895d97eb9dfb4fa65",
       "version_major": 2,
       "version_minor": 0
      },
      "text/plain": [
       "interactive(children=(IntSlider(value=0, description='M1', min=-100), IntSlider(value=0, description='M2', min…"
      ]
     },
     "metadata": {},
     "output_type": "display_data"
    }
   ],
   "source": [
    "# 控制电机运动 Control motor movement\n",
    "def run_motor(M1, M2, M3, M4):\n",
    "    bot.set_motor(M1, M2, M3, M4)\n",
    "    return M1, M2, M3, M4\n",
    "    \n",
    "\n",
    "# 创建四个滑块来控制电机 Create four sliders to control the motor\n",
    "interact(run_motor, \\\n",
    "         M1=widgets.IntSlider(min=-100,max=100,step=1,value=0), \\\n",
    "         M2=widgets.IntSlider(min=-100,max=100,step=1,value=0), \\\n",
    "         M3=widgets.IntSlider(min=-100,max=100,step=1,value=0), \\\n",
    "         M4=widgets.IntSlider(min=-100,max=100,step=1,value=0));"
   ]
  },
  {
   "cell_type": "code",
   "execution_count": 42,
   "metadata": {},
   "outputs": [],
   "source": [
    "# 停止运动 stop motion \n",
    "bot.set_motor(0, 0, 0, 0)"
   ]
  },
  {
   "cell_type": "code",
   "execution_count": 10,
   "metadata": {},
   "outputs": [],
   "source": [
    "# 开启自动发送数据\n",
    "# enable=True，底层扩展板会每隔40毫秒发送一次数据。enable=False，则不发送。\n",
    "# forever=True永久保存，=False临时作用。\n",
    "# Enable automatic data sending\n",
    "# If enable=True, the underlying expansion module sends data every 40 milliseconds.  If enable=False, the port is not sent.\n",
    "# Forever =True for permanent, =False for temporary\n",
    "enable = True\n",
    "bot.set_auto_report_state(enable, forever=False)"
   ]
  },
  {
   "cell_type": "code",
   "execution_count": 11,
   "metadata": {},
   "outputs": [],
   "source": [
    "# 关闭自动发送数据\n",
    "# enable=True，底层扩展板会每隔40毫秒发送一次数据。enable=False，则不发送。\n",
    "# forever=True永久保存，=False临时作用。\n",
    "# Disable automatic data sending\n",
    "# If enable=True, the underlying expansion module sends data every 40 milliseconds.  If enable=False, the port is not sent.\n",
    "# Forever =True for permanent, =False for temporary\n",
    "enable = False\n",
    "bot.set_auto_report_state(enable, forever=False)"
   ]
  },
  {
   "cell_type": "code",
   "execution_count": null,
   "metadata": {},
   "outputs": [],
   "source": [
    "# 清除单片机自动发送过来的缓存数据 Clear the cache data automatically sent by the MCU\n",
    "bot.clear_auto_report_data()"
   ]
  },
  {
   "cell_type": "code",
   "execution_count": null,
   "metadata": {},
   "outputs": [],
   "source": [
    "# 控制电机运动 Control motor movement\n",
    "def car_motion(V_x, V_y, V_z):\n",
    "    speed_x= V_x / 10.0\n",
    "    speed_y = V_y / 10.0\n",
    "    speed_z = V_z / 10.0\n",
    "    bot.set_car_motion(speed_x, speed_y, speed_z)\n",
    "    return speed_x, speed_y, speed_z\n",
    "\n",
    "\n",
    "# 创建三个滑块来控制小车的速度 Create three sliders to control the speed of the car\n",
    "interact(car_motion, \\\n",
    "         V_x=widgets.IntSlider(min=-10,max=10,step=1,value=0), \\\n",
    "         V_y=widgets.IntSlider(min=-10,max=10,step=1,value=0), \\\n",
    "         V_z=widgets.IntSlider(min=-50,max=50,step=1,value=0));\n"
   ]
  },
  {
   "cell_type": "code",
   "execution_count": null,
   "metadata": {},
   "outputs": [],
   "source": [
    "# 停止运动 stop motion\n",
    "bot.set_car_motion(0, 0, 0)"
   ]
  },
  {
   "cell_type": "code",
   "execution_count": 12,
   "metadata": {},
   "outputs": [
    {
     "name": "stdout",
     "output_type": "stream",
     "text": [
      "speed: 0.0 0.0 0.0\n",
      "speed: 0.0 0.0 0.0\n",
      "speed: 0.0 0.0 0.0\n",
      "speed: 0.0 0.0 0.0\n",
      "speed: 0.0 0.0 0.0\n",
      "speed: 0.0 0.0 0.0\n",
      "speed: 0.0 0.0 0.0\n",
      "speed: 0.0 0.0 0.0\n",
      "speed: 0.0 0.0 0.0\n",
      "speed: 0.0 0.0 0.0\n",
      "speed: 0.0 0.0 0.0\n",
      "speed: 0.0 0.0 0.0\n",
      "speed: 0.0 0.0 0.0\n",
      "speed: 0.0 0.0 0.0\n",
      "speed: 0.0 0.0 0.0\n",
      "speed: 0.0 0.0 0.0\n",
      "speed: 0.0 0.0 0.0\n",
      "speed: 0.0 0.0 0.0\n",
      "speed: 0.0 0.0 0.0\n",
      "speed: 0.0 0.0 0.0\n",
      "speed: 0.0 0.0 0.0\n",
      "speed: 0.0 0.0 0.0\n",
      "speed: 0.0 0.0 0.0\n",
      "speed: 0.0 0.0 0.0\n",
      "speed: 0.0 0.0 0.0\n",
      "speed: 0.0 0.0 0.0\n",
      "speed: 0.0 0.0 0.0\n",
      "speed: 0.0 0.0 0.0\n",
      "speed: 0.0 0.0 0.0\n",
      "speed: 0.0 0.0 0.0\n",
      "speed: 0.0 0.0 0.0\n"
     ]
    }
   ],
   "source": [
    "# 获取小车线速度和角速度数据\n",
    "# Obtain the linear velocity and angular velocity data of the car\n",
    "try:\n",
    "    while True:\n",
    "        V_x, V_y, V_z = bot.get_motion_data()\n",
    "        print(\"speed:\", V_x, V_y, V_z)\n",
    "        bot.clear_auto_report_data()\n",
    "        time.sleep(.1)\n",
    "except KeyboardInterrupt:\n",
    "    pass"
   ]
  },
  {
   "cell_type": "code",
   "execution_count": 9,
   "metadata": {},
   "outputs": [],
   "source": [
    "# Please delete the object after the program to avoid conflicts caused by Rosmaster library in other programs\n",
    "del bot"
   ]
  }
 ],
 "metadata": {
  "kernelspec": {
   "display_name": "mypyvenv",
   "language": "python",
   "name": "python3"
  },
  "language_info": {
   "codemirror_mode": {
    "name": "ipython",
    "version": 3
   },
   "file_extension": ".py",
   "mimetype": "text/x-python",
   "name": "python",
   "nbconvert_exporter": "python",
   "pygments_lexer": "ipython3",
   "version": "3.11.2"
  }
 },
 "nbformat": 4,
 "nbformat_minor": 2
}
