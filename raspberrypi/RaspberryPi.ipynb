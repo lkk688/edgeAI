{
 "cells": [
  {
   "cell_type": "markdown",
   "id": "dd42b5fc-f128-4f79-a2df-6b06c751fe57",
   "metadata": {},
   "source": [
    "# Raspberry Pi"
   ]
  },
  {
   "cell_type": "markdown",
   "id": "dd483fd7-672c-4ccc-915a-6129213fac1f",
   "metadata": {},
   "source": [
    "Raspberry Pi getting started: https://www.raspberrypi.com/documentation/computers/getting-started.html#install-an-operating-system\n",
    "Create one SD card via Raspberry Pi Imager."
   ]
  },
  {
   "cell_type": "markdown",
   "id": "703e78dd-9c81-4600-a704-18c7e2decb7c",
   "metadata": {},
   "source": [
    "The raspi-config Tool: https://www.raspberrypi.com/documentation/computers/configuration.html#raspi-config\n",
    "\n",
    "The raspi-config tool can also be run in a non-interactive mode: sudo raspi-config nonint <command> <arguments>"
   ]
  },
  {
   "cell_type": "markdown",
   "id": "fd801e84-9861-4880-9247-c1808e8b39e8",
   "metadata": {},
   "source": [
    "## GPIOs in Raspberry Pi"
   ]
  },
  {
   "cell_type": "markdown",
   "id": "4ad1cc05-35b3-4d25-9cb9-f26b196b94bd",
   "metadata": {},
   "source": [
    "https://www.raspberrypi.com/documentation/computers/raspberry-pi.html#gpio-and-the-40-pin-header"
   ]
  },
  {
   "cell_type": "markdown",
   "id": "0834b3a8-075d-4f0e-b688-cc61b40756c5",
   "metadata": {},
   "source": [
    "A handy reference can be accessed on the Raspberry Pi by opening a terminal window and running the command pinout. This tool is provided by the GPIO Zero Python library, which is installed by default in Raspberry Pi OS.\n",
    "\n",
    "Interactive pinout diagram: https://pinout.xyz\n",
    "\n",
    "While connecting up simple components to the GPIO pins is perfectly safe, it’s important to be careful how you wire things up. LEDs should have resistors to limit the current passing through them. Do not use 5V for 3.3V components. Do not connect motors directly to the GPIO pins, instead use an H-bridge circuit or a motor controller board."
   ]
  },
  {
   "cell_type": "markdown",
   "id": "5040edb1-ade6-4766-8e05-5dc8b63a5458",
   "metadata": {},
   "source": [
    "In order to use the GPIO ports your user must be a member of the gpio group. The pi user is a member by default, other users need to be added manually.\n",
    "\n",
    "sudo usermod -a -G gpio <username>"
   ]
  },
  {
   "cell_type": "code",
   "execution_count": 1,
   "id": "01a166da-f266-4ab1-b797-cc168c4bfedd",
   "metadata": {},
   "outputs": [],
   "source": [
    "!sudo usermod -a -G gpio ethan"
   ]
  },
  {
   "cell_type": "markdown",
   "id": "d5deae84-cace-4b8f-88d6-72127a9b0959",
   "metadata": {},
   "source": [
    "Using the GPIO Zero library makes it easy to get started with controlling GPIO devices with Python. The library is comprehensively documented at gpiozero.readthedocs.io."
   ]
  },
  {
   "cell_type": "code",
   "execution_count": 5,
   "id": "24ab95c8-7051-4b4b-8c88-94e2626fea9b",
   "metadata": {},
   "outputs": [
    {
     "name": "stdout",
     "output_type": "stream",
     "text": [
      "Reading package lists... Done\n",
      "Building dependency tree... Done\n",
      "Reading state information... Done\n",
      "python3-gpiozero is already the newest version (2.0-1).\n",
      "0 upgraded, 0 newly installed, 0 to remove and 81 not upgraded.\n"
     ]
    }
   ],
   "source": [
    "!sudo apt install python3-gpiozero"
   ]
  },
  {
   "cell_type": "code",
   "execution_count": 3,
   "id": "73cfa29b-a775-4331-8912-70c91da4269a",
   "metadata": {},
   "outputs": [
    {
     "name": "stdout",
     "output_type": "stream",
     "text": [
      "Looking in indexes: https://pypi.org/simple, https://www.piwheels.org/simple\n",
      "Collecting gpiozero\n",
      "  Downloading https://www.piwheels.org/simple/gpiozero/gpiozero-2.0-py3-none-any.whl (150 kB)\n",
      "\u001b[2K     \u001b[90m━━━━━━━━━━━━━━━━━━━━━━━━━━━━━━━━━━━━━\u001b[0m \u001b[32m150.5/150.5 kB\u001b[0m \u001b[31m391.0 kB/s\u001b[0m eta \u001b[36m0:00:00\u001b[0ma \u001b[36m0:00:01\u001b[0m\n",
      "\u001b[?25hCollecting colorzero\n",
      "  Downloading https://www.piwheels.org/simple/colorzero/colorzero-2.0-py2.py3-none-any.whl (26 kB)\n",
      "Requirement already satisfied: setuptools in /home/ethan/mypyvenv/lib/python3.11/site-packages (from colorzero->gpiozero) (66.1.1)\n",
      "Installing collected packages: colorzero, gpiozero\n",
      "Successfully installed colorzero-2.0 gpiozero-2.0\n"
     ]
    }
   ],
   "source": [
    "!pip3 install gpiozero"
   ]
  },
  {
   "cell_type": "code",
   "execution_count": 2,
   "id": "10a19309-deae-45cc-9ead-3875a47fbc31",
   "metadata": {},
   "outputs": [
    {
     "name": "stdout",
     "output_type": "stream",
     "text": [
      "Looking in indexes: https://pypi.org/simple, https://www.piwheels.org/simple\n",
      "Collecting lgpio\n",
      "  Downloading https://www.piwheels.org/simple/lgpio/lgpio-0.0.0.2-py3-none-any.whl (2.5 kB)\n",
      "Installing collected packages: lgpio\n",
      "Successfully installed lgpio-0.0.0.2\n"
     ]
    }
   ],
   "source": [
    "!pip install lgpio"
   ]
  },
  {
   "cell_type": "code",
   "execution_count": 1,
   "id": "a61f957b-9c88-4ee7-a89b-a39cb7c5fedf",
   "metadata": {},
   "outputs": [],
   "source": [
    "import RPi.GPIO as GPIO"
   ]
  },
  {
   "cell_type": "code",
   "execution_count": 4,
   "id": "5410bd50-87a7-408f-a331-71695de77af7",
   "metadata": {},
   "outputs": [
    {
     "name": "stdout",
     "output_type": "stream",
     "text": [
      "Reading package lists... Done\n",
      "Building dependency tree... Done\n",
      "Reading state information... Done\n",
      "Note, selecting 'python3-rpi.gpio' for regex 'rpi.gpio'\n",
      "Note, selecting 'python-rpi.gpio' for regex 'rpi.gpio'\n",
      "Note, selecting 'rpi.gpio-common' for regex 'rpi.gpio'\n",
      "python3-rpi.gpio is already the newest version (0.7.1~a4-1+b4).\n",
      "rpi.gpio-common is already the newest version (0.7.1~a4-1+b4).\n",
      "rpi.gpio-common set to manually installed.\n",
      "0 upgraded, 0 newly installed, 0 to remove and 81 not upgraded.\n"
     ]
    }
   ],
   "source": [
    "!sudo apt-get install rpi.gpio"
   ]
  },
  {
   "cell_type": "code",
   "execution_count": 7,
   "id": "6ee37f85-15d7-4b94-bc7c-49999f65f133",
   "metadata": {},
   "outputs": [
    {
     "name": "stdout",
     "output_type": "stream",
     "text": [
      "Reading package lists... Done\n",
      "Building dependency tree... Done\n",
      "Reading state information... Done\n",
      "python3-dev is already the newest version (3.11.2-1+b1).\n",
      "python3-dev set to manually installed.\n",
      "python3-rpi.gpio is already the newest version (0.7.1~a4-1+b4).\n",
      "0 upgraded, 0 newly installed, 0 to remove and 81 not upgraded.\n"
     ]
    }
   ],
   "source": [
    "!sudo apt-get install python3-dev python3-rpi.gpio"
   ]
  },
  {
   "cell_type": "code",
   "execution_count": 2,
   "id": "9c40112e-69a7-49a9-aa7f-69fd1c7433db",
   "metadata": {},
   "outputs": [
    {
     "name": "stdout",
     "output_type": "stream",
     "text": [
      "Looking in indexes: https://pypi.org/simple, https://www.piwheels.org/simple\n",
      "Collecting RPi.GPIO\n",
      "  Downloading RPi.GPIO-0.7.1.tar.gz (29 kB)\n",
      "  Preparing metadata (setup.py) ... \u001b[?25ldone\n",
      "\u001b[?25hInstalling collected packages: RPi.GPIO\n",
      "\u001b[33m  DEPRECATION: RPi.GPIO is being installed using the legacy 'setup.py install' method, because it does not have a 'pyproject.toml' and the 'wheel' package is not installed. pip 23.1 will enforce this behaviour change. A possible replacement is to enable the '--use-pep517' option. Discussion can be found at https://github.com/pypa/pip/issues/8559\u001b[0m\u001b[33m\n",
      "\u001b[0m  Running setup.py install for RPi.GPIO ... \u001b[?25ldone\n",
      "\u001b[?25hSuccessfully installed RPi.GPIO-0.7.1\n"
     ]
    }
   ],
   "source": [
    "!pip3 install RPi.GPIO"
   ]
  },
  {
   "cell_type": "code",
   "execution_count": 3,
   "id": "1c85e63f-fb1d-4646-8905-3820e2bd5d27",
   "metadata": {},
   "outputs": [],
   "source": [
    "import RPi.GPIO as GPIO"
   ]
  },
  {
   "cell_type": "markdown",
   "id": "4183e104-b7a5-4688-83ae-06054c980c92",
   "metadata": {},
   "source": [
    "There are two ways of numbering the IO pins on a Raspberry Pi within RPi.GPIO. The first is using the BOARD numbering system. This refers to the pin numbers on the P1 header of the Raspberry Pi board. The advantage of using this numbering system is that your hardware will always work, regardless of the board revision of the RPi. You will not need to rewire your connector or change your code.\n",
    "\n",
    "The second numbering system is the BCM numbers. This is a lower level way of working - it refers to the channel numbers on the Broadcom SOC. You have to always work with a diagram of which channel number goes to which pin on the RPi board. Your script could break between revisions of Raspberry Pi boards.\n",
    "\n",
    "To specify which you are using using (mandatory):\n",
    "\n",
    "GPIO.setmode(GPIO.BOARD)\n",
    "  # or\n",
    "GPIO.setmode(GPIO.BCM)"
   ]
  },
  {
   "cell_type": "code",
   "execution_count": 11,
   "id": "519b0101-6678-42ac-bcf0-929e27ccec2c",
   "metadata": {},
   "outputs": [],
   "source": [
    "GPIO.setmode(GPIO.BCM) #activate the Broadcom-chip specific pin numbers."
   ]
  },
  {
   "cell_type": "code",
   "execution_count": 12,
   "id": "730cf015-4b1c-47ed-9282-be371346a2fc",
   "metadata": {},
   "outputs": [
    {
     "data": {
      "text/plain": [
       "11"
      ]
     },
     "execution_count": 12,
     "metadata": {},
     "output_type": "execute_result"
    }
   ],
   "source": [
    "mode = GPIO.getmode()\n",
    "mode"
   ]
  },
  {
   "cell_type": "markdown",
   "id": "dd84ca09-1929-44a4-a83a-152fffb23754",
   "metadata": {},
   "source": [
    "To set a pin mode, use the setup([pin], [GPIO.IN, GPIO.OUT] function. "
   ]
  },
  {
   "cell_type": "code",
   "execution_count": 4,
   "id": "9eeb70f0-3746-4346-a8d1-9a2bdb7ade04",
   "metadata": {},
   "outputs": [],
   "source": [
    "GPIO.setup(18, GPIO.OUT) #pin18 as output"
   ]
  },
  {
   "cell_type": "code",
   "execution_count": 5,
   "id": "0b6de1e4-2e8b-4999-b02e-30b6c6653c60",
   "metadata": {},
   "outputs": [],
   "source": [
    "GPIO.output(18, GPIO.HIGH) #output high"
   ]
  },
  {
   "cell_type": "markdown",
   "id": "f2509278-a127-4b8d-9ff8-3a158b2d7293",
   "metadata": {},
   "source": [
    "Writing a pin to GPIO.HIGH will drive it to 3.3V, and GPIO.LOW will set it to 0V. For the lazy, alternative to GPIO.HIGH and GPIO.LOW, you can use either 1, True, 0 or False to set a pin value."
   ]
  },
  {
   "cell_type": "markdown",
   "id": "f5e9374a-052d-4595-a68e-b4160715b653",
   "metadata": {},
   "source": [
    "PWM (\"Analog\") Output:\n",
    "To initialize PWM, use GPIO.PWM([pin], [frequency]) function. \n",
    "Then use pwm.start([duty cycle]) function to set an initial value."
   ]
  },
  {
   "cell_type": "code",
   "execution_count": 6,
   "id": "7608cb21-8103-48f9-b061-45c3e3e6b497",
   "metadata": {},
   "outputs": [],
   "source": [
    "#will set our PWM pin up with a frequency of 1kHz, and set that output to a 50% duty cycle.\n",
    "pwm = GPIO.PWM(18, 1000)\n",
    "pwm.start(50)"
   ]
  },
  {
   "cell_type": "markdown",
   "id": "4cce801b-045b-4964-a560-0621ce91fa95",
   "metadata": {},
   "source": [
    "To adjust the value of the PWM output, use the pwm.ChangeDutyCycle([duty cycle]) function. [duty cycle] can be any value between 0 (i.e 0%/LOW) and 100 (ie.e 100%/HIGH). So to set a pin to 75% on, for example, you could write:"
   ]
  },
  {
   "cell_type": "code",
   "execution_count": 7,
   "id": "3a7c532b-adef-40e9-8851-a5dc15488f4b",
   "metadata": {},
   "outputs": [],
   "source": [
    "pwm.ChangeDutyCycle(75)"
   ]
  },
  {
   "cell_type": "markdown",
   "id": "76a04fa5-4a6d-4411-b9ca-fe521cf1d4b5",
   "metadata": {},
   "source": [
    "To turn PWM on that pin off, use the pwm.stop() command."
   ]
  },
  {
   "cell_type": "code",
   "execution_count": 8,
   "id": "34ee914f-6491-46c3-8e57-a7425f7a4ddf",
   "metadata": {},
   "outputs": [],
   "source": [
    "pwm.stop()"
   ]
  },
  {
   "cell_type": "markdown",
   "id": "80b7af9c-501e-4a12-a6c2-60d04f6f7bad",
   "metadata": {},
   "source": [
    "If a pin is configured as an input, you can use the GPIO.input([pin]) function to read its value. The input() function will return either a True or False indicating whether the pin is HIGH or LOW. You can use an if statement to test this"
   ]
  },
  {
   "cell_type": "markdown",
   "id": "414febf1-dd50-48e3-95fe-70aec59959bd",
   "metadata": {},
   "source": [
    "You need to set up every channel you are using as an input or an output. To configure a channel as an input:\n",
    "\n",
    "GPIO.setup(channel, GPIO.IN)\n",
    "(where channel is the channel number based on the numbering system you have specified (BOARD or BCM))."
   ]
  },
  {
   "cell_type": "code",
   "execution_count": 14,
   "id": "d4f03d6b-1ece-4cce-a953-5e2ae0b714ca",
   "metadata": {},
   "outputs": [
    {
     "name": "stderr",
     "output_type": "stream",
     "text": [
      "/tmp/ipykernel_11666/2004701586.py:1: RuntimeWarning: This channel is already in use, continuing anyway.  Use GPIO.setwarnings(False) to disable warnings.\n",
      "  GPIO.setup(17, GPIO.IN)\n"
     ]
    }
   ],
   "source": [
    "GPIO.setup(17, GPIO.IN)"
   ]
  },
  {
   "cell_type": "code",
   "execution_count": 15,
   "id": "f0ed3837-53a6-4ae9-ba81-70e734a728dc",
   "metadata": {},
   "outputs": [
    {
     "name": "stdout",
     "output_type": "stream",
     "text": [
      "Pin 11 is LOW\n"
     ]
    }
   ],
   "source": [
    "if GPIO.input(17):\n",
    "    print(\"Pin 11 is HIGH\")\n",
    "else:\n",
    "    print(\"Pin 11 is LOW\")\n"
   ]
  },
  {
   "cell_type": "code",
   "execution_count": 16,
   "id": "157b60cc-50ec-43ad-bfd0-20cf1bf7ea48",
   "metadata": {},
   "outputs": [],
   "source": [
    "GPIO.cleanup() #To clean up at the end of your script"
   ]
  },
  {
   "cell_type": "markdown",
   "id": "41bc1ae0-9657-4188-83d7-277b7568538f",
   "metadata": {},
   "source": [
    "It is possible that don't want to clean up every channel leaving some set up when your program exits. You can clean up individual channels, a list or a tuple of channels:\n",
    "\n",
    "GPIO.cleanup(channel)\n",
    "GPIO.cleanup( (channel1, channel2) )\n",
    "GPIO.cleanup( [channel1, channel2] )"
   ]
  },
  {
   "cell_type": "code",
   "execution_count": 17,
   "id": "cb057bef-7be9-4160-9058-fc811e7555cc",
   "metadata": {},
   "outputs": [
    {
     "data": {
      "text/plain": [
       "{'P1_REVISION': 3,\n",
       " 'REVISION': 'c03112',\n",
       " 'TYPE': 'Pi 4 Model B',\n",
       " 'MANUFACTURER': 'Sony UK',\n",
       " 'PROCESSOR': 'BCM2711',\n",
       " 'RAM': '4G'}"
      ]
     },
     "execution_count": 17,
     "metadata": {},
     "output_type": "execute_result"
    }
   ],
   "source": [
    "GPIO.RPI_INFO"
   ]
  },
  {
   "cell_type": "code",
   "execution_count": 18,
   "id": "a887c16f-80f0-464a-ab92-9e6724ae3077",
   "metadata": {},
   "outputs": [
    {
     "data": {
      "text/plain": [
       "3"
      ]
     },
     "execution_count": 18,
     "metadata": {},
     "output_type": "execute_result"
    }
   ],
   "source": [
    "GPIO.RPI_INFO['P1_REVISION']"
   ]
  },
  {
   "cell_type": "code",
   "execution_count": 19,
   "id": "3fe39772-4da0-435a-a825-c09b29b7e862",
   "metadata": {},
   "outputs": [
    {
     "data": {
      "text/plain": [
       "'0.7.1'"
      ]
     },
     "execution_count": 19,
     "metadata": {},
     "output_type": "execute_result"
    }
   ],
   "source": [
    "GPIO.VERSION"
   ]
  },
  {
   "cell_type": "markdown",
   "id": "e37a53d3-3c44-4905-8a95-0b4966b07124",
   "metadata": {},
   "source": [
    "### gpiozero"
   ]
  },
  {
   "cell_type": "code",
   "execution_count": 2,
   "id": "9078d440-2d8a-42f8-87d0-2dfc31ebf93f",
   "metadata": {},
   "outputs": [],
   "source": [
    "from gpiozero import LED"
   ]
  },
  {
   "cell_type": "code",
   "execution_count": 4,
   "id": "b4141a97-7d78-450e-9fc8-96b7b8c41db7",
   "metadata": {},
   "outputs": [
    {
     "name": "stderr",
     "output_type": "stream",
     "text": [
      "/home/ethan/mypyvenv/lib/python3.11/site-packages/gpiozero/devices.py:295: PinFactoryFallback: Falling back from lgpio: module 'lgpio' has no attribute 'SET_BIAS_DISABLE'\n",
      "  warnings.warn(\n"
     ]
    },
    {
     "ename": "KeyboardInterrupt",
     "evalue": "",
     "output_type": "error",
     "traceback": [
      "\u001b[0;31m---------------------------------------------------------------------------\u001b[0m",
      "\u001b[0;31mKeyboardInterrupt\u001b[0m                         Traceback (most recent call last)",
      "Cell \u001b[0;32mIn[4], line 10\u001b[0m\n\u001b[1;32m      8\u001b[0m sleep(\u001b[38;5;241m1\u001b[39m)\n\u001b[1;32m      9\u001b[0m led\u001b[38;5;241m.\u001b[39moff()\n\u001b[0;32m---> 10\u001b[0m \u001b[43msleep\u001b[49m\u001b[43m(\u001b[49m\u001b[38;5;241;43m1\u001b[39;49m\u001b[43m)\u001b[49m\n",
      "\u001b[0;31mKeyboardInterrupt\u001b[0m: "
     ]
    }
   ],
   "source": [
    "from gpiozero import LED\n",
    "from time import sleep\n",
    "\n",
    "led = LED(17) #control an LED connected to GPIO17\n",
    "\n",
    "while True:\n",
    "    led.on()\n",
    "    sleep(1)\n",
    "    led.off()\n",
    "    sleep(1)"
   ]
  },
  {
   "cell_type": "code",
   "execution_count": 5,
   "id": "2ffc7e06-4064-469e-8a46-c726e4adc151",
   "metadata": {},
   "outputs": [
    {
     "name": "stdout",
     "output_type": "stream",
     "text": [
      "Released\n",
      "Released\n",
      "Released\n",
      "Released\n",
      "Released\n",
      "Released\n",
      "Released\n",
      "Released\n",
      "Released\n",
      "Released\n",
      "Released\n",
      "Released\n"
     ]
    },
    {
     "ename": "KeyboardInterrupt",
     "evalue": "",
     "output_type": "error",
     "traceback": [
      "\u001b[0;31m---------------------------------------------------------------------------\u001b[0m",
      "\u001b[0;31mKeyboardInterrupt\u001b[0m                         Traceback (most recent call last)",
      "Cell \u001b[0;32mIn[5], line 11\u001b[0m\n\u001b[1;32m      9\u001b[0m \u001b[38;5;28;01melse\u001b[39;00m:\n\u001b[1;32m     10\u001b[0m     \u001b[38;5;28mprint\u001b[39m(\u001b[38;5;124m\"\u001b[39m\u001b[38;5;124mReleased\u001b[39m\u001b[38;5;124m\"\u001b[39m)\n\u001b[0;32m---> 11\u001b[0m sleep(\u001b[38;5;241m1\u001b[39m)\n",
      "\u001b[0;31mKeyboardInterrupt\u001b[0m: "
     ]
    }
   ],
   "source": [
    "from gpiozero import Button\n",
    "from time import sleep\n",
    "\n",
    "button = Button(2)\n",
    "\n",
    "while True:\n",
    "    if button.is_pressed:\n",
    "        print(\"Pressed\")\n",
    "    else:\n",
    "        print(\"Released\")\n",
    "    sleep(1)"
   ]
  },
  {
   "cell_type": "markdown",
   "id": "493ad829-f201-4855-9631-3f2d06ed5b00",
   "metadata": {},
   "source": [
    "## I2C in Raspberry Pi"
   ]
  },
  {
   "attachments": {},
   "cell_type": "markdown",
   "id": "83039ecf-c1bc-4b27-99ec-e5c549106634",
   "metadata": {},
   "source": [
    "Install I2C tools: #already installed\n",
    "sudo apt install python3-smbus \n",
    "sudo apt-get install -y i2c-tools"
   ]
  },
  {
   "cell_type": "code",
   "execution_count": 6,
   "id": "fae84bbf-4aec-43ec-b43b-4d4836f68821",
   "metadata": {},
   "outputs": [
    {
     "name": "stdout",
     "output_type": "stream",
     "text": [
      "i2c_dev                20480  0\n",
      "i2c_brcmstb            16384  0\n",
      "i2c_bcm2835            20480  0\n"
     ]
    }
   ],
   "source": [
    "!lsmod | grep i2c_"
   ]
  },
  {
   "cell_type": "code",
   "execution_count": 20,
   "id": "f935df78-63e7-4aa1-addd-c331ab6172fc",
   "metadata": {},
   "outputs": [
    {
     "name": "stdout",
     "output_type": "stream",
     "text": [
      "/dev/i2c-1  /dev/i2c-20  /dev/i2c-21\n"
     ]
    }
   ],
   "source": [
    "!ls /dev/*i2c*"
   ]
  },
  {
   "cell_type": "code",
   "execution_count": null,
   "id": "02131559-2537-446c-a1e4-4d372a9995b4",
   "metadata": {},
   "outputs": [],
   "source": [
    "from os import listdir"
   ]
  },
  {
   "cell_type": "code",
   "execution_count": 22,
   "id": "4ee511cb-3dcc-4018-a91c-74e437835fe3",
   "metadata": {},
   "outputs": [
    {
     "name": "stdout",
     "output_type": "stream",
     "text": [
      "     0  1  2  3  4  5  6  7  8  9  a  b  c  d  e  f\n",
      "00:                         08 09 0a 0b 0c 0d 0e 0f \n",
      "10: 10 11 12 13 14 15 16 17 18 19 1a 1b 1c 1d 1e 1f \n",
      "20: 20 21 22 23 24 25 26 27 28 29 2a 2b 2c 2d 2e 2f \n",
      "30: 30 31 32 33 34 35 36 37 38 39 3a 3b 3c 3d 3e 3f \n",
      "40: 40 41 42 43 44 45 46 47 48 49 4a 4b 4c 4d 4e 4f \n",
      "50: 50 51 52 53 54 55 56 57 58 59 5a 5b 5c 5d 5e 5f \n",
      "60: 60 61 62 63 64 65 66 67 68 69 6a 6b 6c 6d 6e 6f \n",
      "70: 70 71 72 73 74 75 76 77                         \n"
     ]
    }
   ],
   "source": [
    "!i2cdetect -y 1"
   ]
  },
  {
   "cell_type": "code",
   "execution_count": 2,
   "id": "0dd7b337-e25a-48dc-bd5b-a85b8479dcfb",
   "metadata": {},
   "outputs": [
    {
     "name": "stdout",
     "output_type": "stream",
     "text": [
      "Looking in indexes: https://pypi.org/simple, https://www.piwheels.org/simple\n",
      "Collecting smbus2\n",
      "  Downloading https://www.piwheels.org/simple/smbus2/smbus2-0.4.3-py2.py3-none-any.whl (11 kB)\n",
      "Installing collected packages: smbus2\n",
      "Successfully installed smbus2-0.4.3\n"
     ]
    }
   ],
   "source": [
    "!pip3 install smbus2"
   ]
  },
  {
   "cell_type": "code",
   "execution_count": 23,
   "id": "586abe00-2bc9-4fc0-a8c8-521add9e2107",
   "metadata": {},
   "outputs": [],
   "source": [
    "from smbus2 import SMBus, i2c_msg"
   ]
  },
  {
   "cell_type": "code",
   "execution_count": 28,
   "id": "6d86ecc6-a2ca-4b1e-be3c-786656449350",
   "metadata": {},
   "outputs": [],
   "source": [
    "#import smbus\n",
    "import time\n",
    "import math"
   ]
  },
  {
   "cell_type": "code",
   "execution_count": 25,
   "id": "3775490c-9e4d-4148-8096-cb2ad8f06008",
   "metadata": {},
   "outputs": [],
   "source": [
    "bus_number=1\n",
    "bus = SMBus(bus_number)"
   ]
  },
  {
   "cell_type": "code",
   "execution_count": 29,
   "id": "1891c38f-523a-4b9c-a1b9-fdf1f66c2a0d",
   "metadata": {},
   "outputs": [],
   "source": [
    "#ref: https://github.com/sunfounder/SunFounder_PiCar/blob/master/picar/SunFounder_PCA9685/PCA9685.py\n",
    "class PWM(object):\n",
    "    \"\"\"A PWM control class for PCA9685.\"\"\"\n",
    "    _MODE1              = 0x00\n",
    "    _MODE2              = 0x01\n",
    "    _SUBADR1            = 0x02\n",
    "    _SUBADR2            = 0x03\n",
    "    _SUBADR3            = 0x04\n",
    "    _PRESCALE           = 0xFE\n",
    "    _LED0_ON_L          = 0x06\n",
    "    _LED0_ON_H          = 0x07\n",
    "    _LED0_OFF_L         = 0x08\n",
    "    _LED0_OFF_H         = 0x09\n",
    "    _ALL_LED_ON_L       = 0xFA\n",
    "    _ALL_LED_ON_H       = 0xFB\n",
    "    _ALL_LED_OFF_L      = 0xFC\n",
    "    _ALL_LED_OFF_H      = 0xFD\n",
    "\n",
    "    _RESTART            = 0x80\n",
    "    _SLEEP              = 0x10\n",
    "    _ALLCALL            = 0x01\n",
    "    _INVRT              = 0x10\n",
    "    _OUTDRV             = 0x04\n",
    "\n",
    "    _DEBUG = False\n",
    "    _DEBUG_INFO = 'DEBUG \"PCA9685.py\":'\n",
    "\n",
    "    def __init__(self, bus_number=1, address=0x40):\n",
    "        self.address = address\n",
    "        self.bus_number = bus_number\n",
    "        self.bus = SMBus(self.bus_number)\n",
    "\n",
    "    def _debug_(self,message):\n",
    "        if self._DEBUG:\n",
    "            print(self._DEBUG_INFO,message)\n",
    "    \n",
    "    def setup(self):\n",
    "        '''Init the class with bus_number and address'''\n",
    "        self._debug_('Reseting PCA9685 MODE1 (without SLEEP) and MODE2')\n",
    "        self.write_all_value(0, 0)\n",
    "        self._write_byte_data(self._MODE2, self._OUTDRV)\n",
    "        self._write_byte_data(self._MODE1, self._ALLCALL)\n",
    "        time.sleep(0.005)\n",
    "\n",
    "        mode1 = self._read_byte_data(self._MODE1)\n",
    "        mode1 = mode1 & ~self._SLEEP\n",
    "        self._write_byte_data(self._MODE1, mode1)\n",
    "        time.sleep(0.005)\n",
    "        self._frequency = 60\n",
    "\n",
    "    def _write_byte_data(self, reg, value):\n",
    "        '''Write data to I2C with self.address'''\n",
    "        self._debug_('Writing value %2X to %2X' % (value, reg))\n",
    "        try:\n",
    "            self.bus.write_byte_data(self.address, reg, value)\n",
    "        except Exception as i:\n",
    "            print(i)\n",
    "            self._check_i2c()\n",
    "\n",
    "    def _read_byte_data(self, reg):\n",
    "        '''Read data from I2C with self.address'''\n",
    "        self._debug_('Reading value from %2X' % reg)\n",
    "        try:\n",
    "            results = self.bus.read_byte_data(self.address, reg)\n",
    "            return results\n",
    "        except Exception as i:\n",
    "            print(i)\n",
    "            self._check_i2c()\n",
    "\n",
    "    def _run_command(self, cmd):\n",
    "        import subprocess\n",
    "        p = subprocess.Popen(\n",
    "            cmd, shell=True, stdout=subprocess.PIPE, stderr=subprocess.STDOUT)\n",
    "        result = p.stdout.read().decode('utf-8')\n",
    "        status = p.poll()\n",
    "        # print(result)\n",
    "        # print(status)\n",
    "        return status, result\n",
    "\n",
    "    def _check_i2c(self):\n",
    "        from os import listdir\n",
    "        print(\"I2C bus number is: %s\" % self.bus_number)\n",
    "        print(\"Checking I2C device:\")\n",
    "        devices = listdir(\"/dev/\")\n",
    "        if \"i2c-%d\" % self.bus_number in devices:\n",
    "            print(\"I2C device exist.\")\n",
    "        else:\n",
    "            print(\"Seems like I2C have not been set, run 'sudo raspi-config' to enable I2C\")\n",
    "        cmd = \"i2cdetect -y %s\" % self.bus_number\n",
    "        _, output = self._run_command(cmd)\n",
    "        print(\"Your PCA9685 address is set to 0x%02X\" % self.address)\n",
    "        print(\"i2cdetect output:\")\n",
    "        print(output)\n",
    "        outputs = output.split('\\n')[1:]\n",
    "        addresses = []\n",
    "        for tmp_addresses in outputs:\n",
    "            tmp_addresses = tmp_addresses.split(':')\n",
    "            if len(tmp_addresses) < 2:\n",
    "                continue\n",
    "            else:\n",
    "                tmp_addresses = tmp_addresses[1]\n",
    "            tmp_addresses = tmp_addresses.strip().split(' ')\n",
    "            for address in tmp_addresses:\n",
    "                if address != '--':\n",
    "                    addresses.append(address)\n",
    "        print(\"Conneceted i2c device:\")\n",
    "        if addresses == []:\n",
    "            print(\"None\")\n",
    "        else:\n",
    "            for address in addresses:\n",
    "                print(\"  0x%s\" % address)\n",
    "        if \"%02X\" % self.address in addresses:\n",
    "            print(\"Wierd, I2C device is connected, Try to run the program again, If problem stills, email this information to support@sunfounder.com\")\n",
    "        else:\n",
    "            print(\"Device is missing.\")\n",
    "            print(\"Check the address or wiring of PCA9685 Server driver, or email this information to support@sunfounder.com\")\n",
    "            quit()\n",
    "\n",
    "    @property\n",
    "    def frequency(self):\n",
    "        return self._frequency\n",
    "\n",
    "    @frequency.setter\n",
    "    def frequency(self, freq):\n",
    "        '''Set PWM frequency'''\n",
    "        self._debug_('Set frequency to %d' % freq)\n",
    "        self._frequency = freq\n",
    "        prescale_value = 25000000.0\n",
    "        prescale_value /= 4096.0\n",
    "        prescale_value /= float(freq)\n",
    "        prescale_value -= 1.0\n",
    "        self._debug_('Setting PWM frequency to %d Hz' % freq)\n",
    "        self._debug_('Estimated pre-scale: %d' % prescale_value)\n",
    "        prescale = math.floor(prescale_value + 0.5)\n",
    "        self._debug_('Final pre-scale: %d' % prescale)\n",
    "\n",
    "        old_mode = self._read_byte_data(self._MODE1);\n",
    "        new_mode = (old_mode & 0x7F) | 0x10\n",
    "        self._write_byte_data(self._MODE1, new_mode)\n",
    "        self._write_byte_data(self._PRESCALE, int(math.floor(prescale)))\n",
    "        self._write_byte_data(self._MODE1, old_mode)\n",
    "        time.sleep(0.005)\n",
    "        self._write_byte_data(self._MODE1, old_mode | 0x80)\n",
    "\n",
    "    def write(self, channel, on, off):\n",
    "        '''Set on and off value on specific channel'''\n",
    "        self._debug_('Set channel \"%d\" to value \"%d\"' % (channel, off))\n",
    "        self._write_byte_data(self._LED0_ON_L+4*channel, on & 0xFF)\n",
    "        self._write_byte_data(self._LED0_ON_H+4*channel, on >> 8)\n",
    "        self._write_byte_data(self._LED0_OFF_L+4*channel, off & 0xFF)\n",
    "        self._write_byte_data(self._LED0_OFF_H+4*channel, off >> 8)\n",
    "\n",
    "    def write_all_value(self, on, off):\n",
    "        '''Set on and off value on all channel'''\n",
    "        self._debug_('Set all channel to value \"%d\"' % (off))\n",
    "        self._write_byte_data(self._ALL_LED_ON_L, on & 0xFF)\n",
    "        self._write_byte_data(self._ALL_LED_ON_H, on >> 8)\n",
    "        self._write_byte_data(self._ALL_LED_OFF_L, off & 0xFF)\n",
    "        self._write_byte_data(self._ALL_LED_OFF_H, off >> 8)\n",
    "\n",
    "    def map(self, x, in_min, in_max, out_min, out_max):\n",
    "        '''To map the value from arange to another'''\n",
    "        return (x - in_min) * (out_max - out_min) / (in_max - in_min) + out_min\n",
    "\n",
    "    @property\n",
    "    def debug(self):\n",
    "        return self._DEBUG\n",
    "\n",
    "    @debug.setter\n",
    "    def debug(self, debug):\n",
    "        '''Set if debug information shows'''\n",
    "        if debug in (True, False):\n",
    "            self._DEBUG = debug\n",
    "        else:\n",
    "            raise ValueError('debug must be \"True\" (Set debug on) or \"False\" (Set debug off), not \"{0}\"'.format(debug))\n",
    "\n",
    "        if self._DEBUG:\n",
    "            print(self._DEBUG_INFO, \"Set debug on\")\n",
    "        else:\n",
    "            print(self._DEBUG_INFO, \"Set debug off\")"
   ]
  },
  {
   "cell_type": "code",
   "execution_count": 30,
   "id": "4b3d6565-c392-471d-b584-65e316965993",
   "metadata": {},
   "outputs": [],
   "source": [
    "import time\n",
    "pwm = PWM()\n",
    "pwm.frequency = 60"
   ]
  },
  {
   "cell_type": "code",
   "execution_count": 32,
   "id": "53541df7-8229-4fee-ba7f-49d31c815dde",
   "metadata": {},
   "outputs": [
    {
     "name": "stdout",
     "output_type": "stream",
     "text": [
      "\n",
      "Channel 0\n",
      "\n",
      "PWM value: 0\n",
      "PWM value: 1\n",
      "PWM value: 2\n",
      "PWM value: 3\n",
      "PWM value: 4\n",
      "PWM value: 5\n",
      "PWM value: 6\n",
      "PWM value: 7\n",
      "PWM value: 8\n",
      "PWM value: 9\n",
      "PWM value: 10\n",
      "PWM value: 11\n",
      "PWM value: 12\n",
      "PWM value: 13\n",
      "PWM value: 14\n",
      "PWM value: 15\n",
      "\n",
      "Channel 1\n",
      "\n",
      "PWM value: 0\n",
      "PWM value: 1\n",
      "PWM value: 2\n",
      "PWM value: 3\n",
      "PWM value: 4\n",
      "PWM value: 5\n",
      "PWM value: 6\n",
      "PWM value: 7\n",
      "PWM value: 8\n",
      "PWM value: 9\n",
      "PWM value: 10\n",
      "PWM value: 11\n",
      "PWM value: 12\n",
      "PWM value: 13\n",
      "PWM value: 14\n",
      "PWM value: 15\n",
      "\n",
      "Channel 2\n",
      "\n",
      "PWM value: 0\n",
      "PWM value: 1\n",
      "PWM value: 2\n",
      "PWM value: 3\n",
      "PWM value: 4\n",
      "PWM value: 5\n",
      "PWM value: 6\n",
      "PWM value: 7\n",
      "PWM value: 8\n",
      "PWM value: 9\n",
      "PWM value: 10\n",
      "PWM value: 11\n",
      "PWM value: 12\n",
      "PWM value: 13\n",
      "PWM value: 14\n",
      "PWM value: 15\n",
      "\n",
      "Channel 3\n",
      "\n",
      "PWM value: 0\n",
      "PWM value: 1\n",
      "PWM value: 2\n",
      "PWM value: 3\n",
      "PWM value: 4\n",
      "PWM value: 5\n",
      "PWM value: 6\n",
      "PWM value: 7\n",
      "PWM value: 8\n",
      "PWM value: 9\n",
      "PWM value: 10\n",
      "PWM value: 11\n",
      "PWM value: 12\n",
      "PWM value: 13\n",
      "PWM value: 14\n",
      "PWM value: 15\n",
      "\n",
      "Channel 4\n",
      "\n",
      "PWM value: 0\n",
      "PWM value: 1\n",
      "PWM value: 2\n",
      "PWM value: 3\n",
      "PWM value: 4\n",
      "PWM value: 5\n",
      "PWM value: 6\n",
      "PWM value: 7\n",
      "PWM value: 8\n",
      "PWM value: 9\n",
      "PWM value: 10\n",
      "PWM value: 11\n",
      "PWM value: 12\n",
      "PWM value: 13\n",
      "PWM value: 14\n",
      "PWM value: 15\n",
      "\n",
      "Channel 5\n",
      "\n",
      "PWM value: 0\n",
      "PWM value: 1\n",
      "PWM value: 2\n",
      "PWM value: 3\n",
      "PWM value: 4\n",
      "PWM value: 5\n",
      "PWM value: 6\n",
      "PWM value: 7\n",
      "PWM value: 8\n",
      "PWM value: 9\n",
      "PWM value: 10\n",
      "PWM value: 11\n",
      "PWM value: 12\n",
      "PWM value: 13\n",
      "PWM value: 14\n",
      "PWM value: 15\n",
      "\n",
      "Channel 6\n",
      "\n",
      "PWM value: 0\n",
      "PWM value: 1\n",
      "PWM value: 2\n",
      "PWM value: 3\n",
      "PWM value: 4\n",
      "PWM value: 5\n",
      "PWM value: 6\n",
      "PWM value: 7\n",
      "PWM value: 8\n",
      "PWM value: 9\n",
      "PWM value: 10\n",
      "PWM value: 11\n",
      "PWM value: 12\n",
      "PWM value: 13\n",
      "PWM value: 14\n",
      "PWM value: 15\n",
      "\n",
      "Channel 7\n",
      "\n",
      "PWM value: 0\n",
      "PWM value: 1\n",
      "PWM value: 2\n",
      "PWM value: 3\n",
      "PWM value: 4\n",
      "PWM value: 5\n",
      "PWM value: 6\n",
      "PWM value: 7\n",
      "PWM value: 8\n",
      "PWM value: 9\n",
      "PWM value: 10\n",
      "PWM value: 11\n",
      "PWM value: 12\n",
      "PWM value: 13\n",
      "PWM value: 14\n",
      "PWM value: 15\n",
      "\n",
      "Channel 8\n",
      "\n",
      "PWM value: 0\n",
      "PWM value: 1\n",
      "PWM value: 2\n",
      "PWM value: 3\n",
      "PWM value: 4\n",
      "PWM value: 5\n",
      "PWM value: 6\n",
      "PWM value: 7\n",
      "PWM value: 8\n",
      "PWM value: 9\n",
      "PWM value: 10\n",
      "PWM value: 11\n",
      "PWM value: 12\n",
      "PWM value: 13\n",
      "PWM value: 14\n",
      "PWM value: 15\n",
      "\n",
      "Channel 9\n",
      "\n",
      "PWM value: 0\n",
      "PWM value: 1\n",
      "PWM value: 2\n",
      "PWM value: 3\n",
      "PWM value: 4\n",
      "PWM value: 5\n",
      "PWM value: 6\n",
      "PWM value: 7\n",
      "PWM value: 8\n",
      "PWM value: 9\n",
      "PWM value: 10\n",
      "PWM value: 11\n",
      "PWM value: 12\n",
      "PWM value: 13\n",
      "PWM value: 14\n",
      "PWM value: 15\n",
      "\n",
      "Channel 10\n",
      "\n",
      "PWM value: 0\n",
      "PWM value: 1\n",
      "PWM value: 2\n",
      "PWM value: 3\n",
      "PWM value: 4\n",
      "PWM value: 5\n",
      "PWM value: 6\n",
      "PWM value: 7\n",
      "PWM value: 8\n",
      "PWM value: 9\n",
      "PWM value: 10\n",
      "PWM value: 11\n",
      "PWM value: 12\n",
      "PWM value: 13\n",
      "PWM value: 14\n",
      "PWM value: 15\n",
      "\n",
      "Channel 11\n",
      "\n",
      "PWM value: 0\n",
      "PWM value: 1\n",
      "PWM value: 2\n",
      "PWM value: 3\n",
      "PWM value: 4\n",
      "PWM value: 5\n",
      "PWM value: 6\n",
      "PWM value: 7\n",
      "PWM value: 8\n",
      "PWM value: 9\n",
      "PWM value: 10\n",
      "PWM value: 11\n",
      "PWM value: 12\n",
      "PWM value: 13\n",
      "PWM value: 14\n",
      "PWM value: 15\n",
      "\n",
      "Channel 12\n",
      "\n",
      "PWM value: 0\n",
      "PWM value: 1\n",
      "PWM value: 2\n",
      "PWM value: 3\n",
      "PWM value: 4\n",
      "PWM value: 5\n",
      "PWM value: 6\n",
      "PWM value: 7\n",
      "PWM value: 8\n",
      "PWM value: 9\n",
      "PWM value: 10\n",
      "PWM value: 11\n",
      "PWM value: 12\n",
      "PWM value: 13\n",
      "PWM value: 14\n",
      "PWM value: 15\n",
      "\n",
      "Channel 13\n",
      "\n",
      "PWM value: 0\n",
      "PWM value: 1\n",
      "PWM value: 2\n",
      "PWM value: 3\n",
      "PWM value: 4\n",
      "PWM value: 5\n",
      "PWM value: 6\n",
      "PWM value: 7\n",
      "PWM value: 8\n",
      "PWM value: 9\n",
      "PWM value: 10\n",
      "PWM value: 11\n",
      "PWM value: 12\n",
      "PWM value: 13\n",
      "PWM value: 14\n",
      "PWM value: 15\n",
      "\n",
      "Channel 14\n",
      "\n",
      "PWM value: 0\n",
      "PWM value: 1\n",
      "PWM value: 2\n",
      "PWM value: 3\n",
      "PWM value: 4\n",
      "PWM value: 5\n",
      "PWM value: 6\n",
      "PWM value: 7\n",
      "PWM value: 8\n",
      "PWM value: 9\n",
      "PWM value: 10\n",
      "PWM value: 11\n",
      "PWM value: 12\n",
      "PWM value: 13\n",
      "PWM value: 14\n",
      "PWM value: 15\n",
      "\n",
      "Channel 15\n",
      "\n",
      "PWM value: 0\n",
      "PWM value: 1\n",
      "PWM value: 2\n",
      "PWM value: 3\n",
      "PWM value: 4\n",
      "PWM value: 5\n",
      "PWM value: 6\n",
      "PWM value: 7\n",
      "PWM value: 8\n",
      "PWM value: 9\n",
      "PWM value: 10\n",
      "PWM value: 11\n",
      "PWM value: 12\n",
      "PWM value: 13\n",
      "PWM value: 14\n",
      "PWM value: 15\n"
     ]
    }
   ],
   "source": [
    "for i in range(16):\n",
    "    time.sleep(0.5)\n",
    "    print('\\nChannel %d\\n' % i)\n",
    "    time.sleep(0.5)\n",
    "    for j in range(16):\n",
    "        pwm.write(i, 0, j)\n",
    "        print('PWM value: %d' % j)\n",
    "        time.sleep(0.0003)"
   ]
  },
  {
   "cell_type": "code",
   "execution_count": 33,
   "id": "84eace50-6ca2-4ee2-9856-34202524ce7e",
   "metadata": {},
   "outputs": [],
   "source": [
    "class Servo(object):\n",
    "\t'''Servo driver class'''\n",
    "\t_MIN_PULSE_WIDTH = 600\n",
    "\t_MAX_PULSE_WIDTH = 2400\n",
    "\t_DEFAULT_PULSE_WIDTH = 1500\n",
    "\t_FREQUENCY = 60\n",
    "\n",
    "\t_DEBUG = False\n",
    "\t_DEBUG_INFO = 'DEBUG \"Servo.py\":'\n",
    "\n",
    "\tdef __init__(self, channel, offset=0, lock=True, bus_number=1, address=0x40):\n",
    "\t\t''' Init a servo on specific channel, this offset '''\n",
    "\t\tif channel<0 or channel > 16:\n",
    "\t\t\traise ValueError(\"Servo channel \\\"{0}\\\" is not in (0, 15).\".format(channel))\n",
    "\t\tself._debug_(\"Debug on\")\n",
    "\t\tself.channel = channel\n",
    "\t\tself.offset = offset\n",
    "\t\tself.lock = lock\n",
    "\n",
    "\t\tself.pwm = PWM(bus_number=bus_number, address=address)\n",
    "\t\tself.frequency = self._FREQUENCY\n",
    "\t\tself.write(90)\n",
    "\t\n",
    "\tdef _debug_(self,message):\n",
    "\t\tif self._DEBUG:\n",
    "\t\t\tprint(self._DEBUG_INFO,message)\n",
    "\n",
    "\tdef setup(self):\n",
    "\t\tself.pwm.setup()\n",
    "\n",
    "\tdef _angle_to_analog(self, angle):\n",
    "\t\t''' Calculate 12-bit analog value from giving angle '''\n",
    "\t\tpulse_wide   = self.pwm.map(angle, 0, 180, self._MIN_PULSE_WIDTH, self._MAX_PULSE_WIDTH)\n",
    "\t\tanalog_value = int(float(pulse_wide) / 1000000 * self.frequency * 4096)\n",
    "\t\tself._debug_('Angle %d equals Analog_value %d' % (angle, analog_value))\n",
    "\t\treturn analog_value\n",
    "\n",
    "\t@property\n",
    "\tdef frequency(self):\n",
    "\t\treturn self._frequency\n",
    "\n",
    "\t@frequency.setter\n",
    "\tdef frequency(self, value):\n",
    "\t\tself._frequency = value\n",
    "\t\tself.pwm.frequency = value\n",
    "\n",
    "\t@property\n",
    "\tdef offset(self):\n",
    "\t\treturn self._offset\n",
    "\n",
    "\t@offset.setter\n",
    "\tdef offset(self, value):\n",
    "\t\t''' Set offset for much user-friendly '''\n",
    "\t\tself._offset = value\n",
    "\t\tself._debug_('Set offset to %d' % self.offset)\n",
    "\n",
    "\tdef write(self, angle):\n",
    "\t\t''' Turn the servo with giving angle. '''\n",
    "\t\tif self.lock:\n",
    "\t\t\tif angle > 180:\n",
    "\t\t\t\tangle = 180\n",
    "\t\t\tif angle < 0:\n",
    "\t\t\t\tangle = 0\n",
    "\t\telse:\n",
    "\t\t\tif angle<0 or angle>180:\n",
    "\t\t\t\traise ValueError(\"Servo \\\"{0}\\\" turn angle \\\"{1}\\\" is not in (0, 180).\".format(self.channel, angle))\n",
    "\t\tval = self._angle_to_analog(angle)\n",
    "\t\tval += self.offset\n",
    "\t\tself.pwm.write(self.channel, 0, val)\n",
    "\t\tself._debug_('Turn angle = %d' % angle)\n",
    "\n",
    "\t@property\n",
    "\tdef debug(self):\n",
    "\t\treturn self._DEBUG\n",
    "\n",
    "\t@debug.setter\n",
    "\tdef debug(self, debug):\n",
    "\t\t''' Set if debug information shows '''\n",
    "\t\tif debug in (True, False):\n",
    "\t\t\tself._DEBUG = debug\n",
    "\t\telse:\n",
    "\t\t\traise ValueError('debug must be \"True\" (Set debug on) or \"False\" (Set debug off), not \"{0}\"'.format(debug))\n",
    "\n",
    "\t\tif self._DEBUG:\n",
    "\t\t\tprint(self._DEBUG_INFO, \"Set debug on\")\n",
    "\t\telse:\n",
    "\t\t\tprint(self._DEBUG_INFO, \"Set debug off\")\n"
   ]
  },
  {
   "cell_type": "code",
   "execution_count": 34,
   "id": "4d6e86c0-7600-4bda-864e-1f43a6b6ad91",
   "metadata": {},
   "outputs": [],
   "source": [
    "def test():\n",
    "\t'''Servo driver test on channel 1'''\n",
    "\timport time\n",
    "\ta = Servo(1)\n",
    "\ta.setup()\n",
    "\tfor i in range(0, 180, 5):\n",
    "\t\tprint(i)\n",
    "\t\ta.write(i)\n",
    "\t\ttime.sleep(0.1)\n",
    "\tfor i in range(180, 0, -5):\n",
    "\t\tprint(i)\n",
    "\t\ta.write(i)\n",
    "\t\ttime.sleep(0.1)\n",
    "\tfor i in range(0, 91, 2):\n",
    "\t\ta.write(i)\n",
    "\t\ttime.sleep(0.05)\n",
    "\tprint(i)"
   ]
  },
  {
   "cell_type": "code",
   "execution_count": 39,
   "id": "0f695f8c-a04d-4ef5-98cc-48bfabade1da",
   "metadata": {},
   "outputs": [
    {
     "name": "stdout",
     "output_type": "stream",
     "text": [
      "0\n",
      "5\n",
      "10\n",
      "15\n",
      "20\n",
      "25\n",
      "30\n",
      "35\n",
      "40\n",
      "45\n",
      "50\n",
      "55\n",
      "60\n",
      "65\n",
      "70\n",
      "75\n",
      "80\n",
      "85\n",
      "90\n",
      "95\n",
      "100\n",
      "105\n",
      "110\n",
      "115\n",
      "120\n",
      "125\n",
      "130\n",
      "135\n",
      "140\n",
      "145\n",
      "150\n",
      "155\n",
      "160\n",
      "165\n",
      "170\n",
      "175\n",
      "180\n",
      "175\n",
      "170\n",
      "165\n",
      "160\n",
      "155\n",
      "150\n",
      "145\n",
      "140\n",
      "135\n",
      "130\n",
      "125\n",
      "120\n",
      "115\n",
      "110\n",
      "105\n",
      "100\n",
      "95\n",
      "90\n",
      "85\n",
      "80\n",
      "75\n",
      "70\n",
      "65\n",
      "60\n",
      "55\n",
      "50\n",
      "45\n",
      "40\n",
      "35\n",
      "30\n",
      "25\n",
      "20\n",
      "15\n",
      "10\n",
      "5\n",
      "90\n"
     ]
    }
   ],
   "source": [
    "test()"
   ]
  },
  {
   "cell_type": "code",
   "execution_count": 40,
   "id": "661e66f2-1980-437e-b928-69ab33c6a1af",
   "metadata": {},
   "outputs": [],
   "source": [
    "def install():\n",
    "\tall_servo = [0,0,0,0, 0,0,0,0, 0,0,0,0, 0,0,0,0]\n",
    "\tfor i in range(16):\n",
    "\t\tall_servo[i] = Servo(i)\n",
    "\tfor servo in all_servo:\n",
    "\t\tservo.setup()\n",
    "\t\tservo.write(90)"
   ]
  },
  {
   "cell_type": "code",
   "execution_count": 41,
   "id": "922fb262-bec5-49fb-a093-d4acf466b29d",
   "metadata": {},
   "outputs": [],
   "source": [
    "install()"
   ]
  },
  {
   "cell_type": "code",
   "execution_count": null,
   "id": "9a168083-ad9a-4ec3-b55b-7e0ffe4209ac",
   "metadata": {},
   "outputs": [],
   "source": []
  }
 ],
 "metadata": {
  "kernelspec": {
   "display_name": "mypyvenv",
   "language": "python",
   "name": "mypyvenv"
  },
  "language_info": {
   "codemirror_mode": {
    "name": "ipython",
    "version": 3
   },
   "file_extension": ".py",
   "mimetype": "text/x-python",
   "name": "python",
   "nbconvert_exporter": "python",
   "pygments_lexer": "ipython3",
   "version": "3.11.2"
  }
 },
 "nbformat": 4,
 "nbformat_minor": 5
}
